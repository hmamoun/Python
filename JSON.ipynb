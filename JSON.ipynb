{
 "cells": [
  {
   "cell_type": "code",
   "execution_count": 3,
   "id": "5847a093",
   "metadata": {},
   "outputs": [
    {
     "name": "stdout",
     "output_type": "stream",
     "text": [
      "Name:  Chuck\n",
      "Hide:  yes\n",
      "<class 'str'>\n"
     ]
    }
   ],
   "source": [
    "import json\n",
    "data = '''{\n",
    "\"name\": \"Chuck\",\n",
    "\"phone\": {\"type\": \"intl\",\"number\": \"+1515252 25151 33\"},\n",
    "\"email\": {\"hide\": \"yes\"}\n",
    "}'''\n",
    "info = json.loads(data)\n",
    "print('Name: ', info[\"name\"])\n",
    "print('Hide: ', info[\"email\"][\"hide\"])\n",
    "print(type(data))\n"
   ]
  },
  {
   "cell_type": "code",
   "execution_count": 13,
   "id": "12033661",
   "metadata": {},
   "outputs": [
    {
     "name": "stdout",
     "output_type": "stream",
     "text": [
      "Enter your address_ \n"
     ]
    }
   ],
   "source": [
    "import urllib.request, urllib.parse, urllib.error\n",
    "import json\n",
    "serviceurl = 'http://maps.googleapis.com/maps/api/geocode/json?'\n",
    "while True:\n",
    "    address = input('Enter your address_ ')\n",
    "    if len(address) < 1: break\n",
    "    \n",
    "    url = serviceurl + urllib.parse.urlencode({'address': address})\n",
    "    print ('Retrieving' , url)\n",
    "    try:\n",
    "        js = json.loads(data)\n",
    "    except:\n",
    "        js=None\n",
    "    \n",
    "    if not js or 'status' not in js or js['status'] != 'OK':\n",
    "        print ('===== Failed to retrieve =====')\n",
    "        print(data)\n",
    "        continue\n",
    "    lat = js[\"resutls\"][0][\"geometry\"][\"location\"][\"lat\"]\n",
    "    lng = js[\"resutls\"][0][\"geometry\"][\"location\"][\"lng\"]\n",
    "    print(lat , lng)\n",
    "    "
   ]
  },
  {
   "cell_type": "code",
   "execution_count": 21,
   "id": "0e86690e",
   "metadata": {},
   "outputs": [
    {
     "ename": "TypeError",
     "evalue": "party() takes 0 positional arguments but 1 was given",
     "output_type": "error",
     "traceback": [
      "\u001b[1;31m---------------------------------------------------------------------------\u001b[0m",
      "\u001b[1;31mTypeError\u001b[0m                                 Traceback (most recent call last)",
      "\u001b[1;32m<ipython-input-21-1ec489d8b2b9>\u001b[0m in \u001b[0;36m<module>\u001b[1;34m\u001b[0m\n\u001b[0;32m      6\u001b[0m \u001b[0man\u001b[0m \u001b[1;33m=\u001b[0m \u001b[0mPartyAnimal\u001b[0m\u001b[1;33m(\u001b[0m\u001b[1;33m)\u001b[0m\u001b[1;33m\u001b[0m\u001b[1;33m\u001b[0m\u001b[0m\n\u001b[0;32m      7\u001b[0m \u001b[1;33m\u001b[0m\u001b[0m\n\u001b[1;32m----> 8\u001b[1;33m \u001b[0man\u001b[0m\u001b[1;33m.\u001b[0m\u001b[0mparty\u001b[0m\u001b[1;33m(\u001b[0m\u001b[1;33m)\u001b[0m\u001b[1;33m\u001b[0m\u001b[1;33m\u001b[0m\u001b[0m\n\u001b[0m",
      "\u001b[1;31mTypeError\u001b[0m: party() takes 0 positional arguments but 1 was given"
     ]
    }
   ],
   "source": []
  },
  {
   "cell_type": "code",
   "execution_count": null,
   "id": "e6367977",
   "metadata": {},
   "outputs": [],
   "source": []
  }
 ],
 "metadata": {
  "kernelspec": {
   "display_name": "Python 3",
   "language": "python",
   "name": "python3"
  },
  "language_info": {
   "codemirror_mode": {
    "name": "ipython",
    "version": 3
   },
   "file_extension": ".py",
   "mimetype": "text/x-python",
   "name": "python",
   "nbconvert_exporter": "python",
   "pygments_lexer": "ipython3",
   "version": "3.8.8"
  }
 },
 "nbformat": 4,
 "nbformat_minor": 5
}

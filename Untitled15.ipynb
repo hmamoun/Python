{
 "cells": [
  {
   "cell_type": "code",
   "execution_count": 80,
   "id": "86b1dc6e",
   "metadata": {},
   "outputs": [
    {
     "name": "stdout",
     "output_type": "stream",
     "text": [
      "<class 'pandas.core.frame.DataFrame'>\n",
      "RangeIndex: 32561 entries, 0 to 32560\n",
      "Data columns (total 16 columns):\n",
      " #   Column          Non-Null Count  Dtype \n",
      "---  ------          --------------  ----- \n",
      " 0   age             32561 non-null  int64 \n",
      " 1   workclass       32561 non-null  object\n",
      " 2   fnlwgt          32561 non-null  int64 \n",
      " 3   education       32561 non-null  object\n",
      " 4   education-num   32561 non-null  int64 \n",
      " 5   marital-status  32561 non-null  object\n",
      " 6   occupation      32561 non-null  object\n",
      " 7   relationship    32561 non-null  object\n",
      " 8   race            32561 non-null  object\n",
      " 9   sex             32561 non-null  object\n",
      " 10  capital-gain    32561 non-null  int64 \n",
      " 11  capital-loss    32561 non-null  int64 \n",
      " 12  hours-per-week  32561 non-null  int64 \n",
      " 13  native-country  32561 non-null  object\n",
      " 14  salary          32561 non-null  object\n",
      " 15  count           32561 non-null  int64 \n",
      "dtypes: int64(7), object(9)\n",
      "memory usage: 4.0+ MB\n"
     ]
    }
   ],
   "source": [
    "import pandas as pd\n",
    "df =  pd.read_csv(\"adult.data.csv\")\n",
    "df[\"count\"] = 1\n",
    "df.info(0)"
   ]
  },
  {
   "cell_type": "code",
   "execution_count": 132,
   "id": "14792472",
   "metadata": {},
   "outputs": [
    {
     "data": {
      "text/plain": [
       "41.9"
      ]
     },
     "execution_count": 132,
     "metadata": {},
     "output_type": "execute_result"
    }
   ],
   "source": [
    "import pandas as pd\n",
    "df =  pd.read_csv(\"adult.data.csv\")\n",
    "df[\"count\"] = 1\n",
    "#df.info(0)\n",
    "master = pd.DataFrame(df['native-country'].unique())\n",
    "#master.rename(columns={'0':'country'} , inplace=True)\n",
    "master.columns = ['country']\n",
    "master = master.set_index('country')\n",
    "#master.head()\n",
    "totalrich = pd.DataFrame(df[(df['salary']=='>50K')].groupby(['native-country']).count()['count']    )\n",
    "totalpoor = pd.DataFrame(df[(df['salary']!='>50K')].groupby(['native-country']).count()['count']    )\n",
    "master['totalrich'] = totalrich\n",
    "master['totalpoor'] = totalpoor\n",
    "master['percentage'] = master['totalrich']  / (master['totalrich'] + master['totalpoor'] )\n",
    "master = pd.DataFrame(master.sort_values('percentage' ,  ascending=False) )\n",
    "mask = (master['percentage']==max(master['percentage']))\n",
    "round(master[mask]['percentage'].value_counts().index.tolist()[0]*100,1)"
   ]
  },
  {
   "cell_type": "code",
   "execution_count": 78,
   "id": "dc9b76ad",
   "metadata": {},
   "outputs": [
    {
     "name": "stdout",
     "output_type": "stream",
     "text": [
      "DataFrame with default index\n",
      "    rollno  name  physics  botony\n",
      "0      21  Amol       72      67\n",
      "1      23  Lini       78      69\n",
      "2      32  Kiku       74      56\n",
      "3      52  Ajit       54      76\n",
      "\n",
      "DataFrame with column as index\n",
      "         name  physics  botony\n",
      "rollno                       \n",
      "21      Amol       72      67\n",
      "23      Lini       78      69\n",
      "32      Kiku       74      56\n",
      "52      Ajit       54      76\n"
     ]
    }
   ],
   "source": [
    "#initialize a dataframe\n",
    "df = pd.DataFrame(\n",
    "\t[[21, 'Amol', 72, 67],\n",
    "\t[23, 'Lini', 78, 69],\n",
    "\t[32, 'Kiku', 74, 56],\n",
    "\t[52, 'Ajit', 54, 76]],\n",
    "\tcolumns=['rollno', 'name', 'physics', 'botony'])\n",
    "\n",
    "print('DataFrame with default index\\n', df)\n",
    "\n",
    "#set column as index\n",
    "df = df.set_index('rollno')\n",
    "\n",
    "print('\\nDataFrame with column as index\\n',df)"
   ]
  }
 ],
 "metadata": {
  "kernelspec": {
   "display_name": "Python 3",
   "language": "python",
   "name": "python3"
  },
  "language_info": {
   "codemirror_mode": {
    "name": "ipython",
    "version": 3
   },
   "file_extension": ".py",
   "mimetype": "text/x-python",
   "name": "python",
   "nbconvert_exporter": "python",
   "pygments_lexer": "ipython3",
   "version": "3.8.8"
  }
 },
 "nbformat": 4,
 "nbformat_minor": 5
}

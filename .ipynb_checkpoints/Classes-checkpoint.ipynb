{
 "cells": [
  {
   "cell_type": "code",
   "execution_count": 1,
   "id": "e40bed26",
   "metadata": {},
   "outputs": [
    {
     "name": "stdout",
     "output_type": "stream",
     "text": [
      "2\n",
      "3\n",
      "2 Hayan\n",
      "1 Hayan\n",
      "0 Hayan\n",
      "2\n",
      "1 Joud\n"
     ]
    }
   ],
   "source": [
    "class PartyAnimal:\n",
    "    x = 1\n",
    "    def party(self):\n",
    "        self.x +=1\n",
    "        print(self.x)\n",
    "an = PartyAnimal()\n",
    "\n",
    "#an.party()\n",
    "#an.party()\n",
    "\n",
    "class Hi(PartyAnimal):\n",
    "    name = ''\n",
    "    def __init__(self , nam):\n",
    "        self.name = nam\n",
    "    \n",
    "    def rem(self):\n",
    "        self.x-=1\n",
    "        print(self.x , self.name)\n",
    "\n",
    "hi = Hi(\"Hayan\")\n",
    "hi.party()\n",
    "hi.party()\n",
    "hi.rem()\n",
    "hi.rem()\n",
    "hi.rem()\n",
    "\n",
    "hii = Hi(\"Joud\")\n",
    "hii.party()\n",
    "hii.rem()"
   ]
  },
  {
   "cell_type": "code",
   "execution_count": 2,
   "id": "47d6e0dd",
   "metadata": {},
   "outputs": [
    {
     "name": "stdout",
     "output_type": "stream",
     "text": [
      "Rectangle(width=9 height=9)\n"
     ]
    },
    {
     "data": {
      "text/plain": [
       "1"
      ]
     },
     "execution_count": 2,
     "metadata": {},
     "output_type": "execute_result"
    }
   ],
   "source": [
    "class Rectangle:\n",
    "\n",
    "    def __init__(self , width , height):\n",
    "        self.width = width\n",
    "        self.height = height\n",
    "\n",
    "\n",
    "    def set_width(self,newWidth):\n",
    "        self.width = newWidth\n",
    "  \n",
    "\n",
    "    def set_height(self,newHeight):\n",
    "        self.height = newHeight\n",
    "\n",
    "\n",
    "    def get_area(self):\n",
    "        return self.width * self.height\n",
    "\n",
    "\n",
    "    def get_perimeter(self):\n",
    "        return (self.width ** 2 + self.height ** 2) ** .5\n",
    "    \n",
    "    def get_picture(self):\n",
    "        ret = \"\"\n",
    "        for x in range(self.height):\n",
    "            for y in range(self.width):\n",
    "                ret+=\"*\"\n",
    "            ret+=\"\\n\"\n",
    "        return ret\n",
    "\n",
    "    def get_amount_inside(self , obj):\n",
    "        widths= self.width // obj.width\n",
    "        heights = self.height // obj.height\n",
    "        return(widths * heights)\n",
    "    def __str__(self):\n",
    "        return \"Rectangle(width=\" + str(self.width) + \" height=\" + str(self.height)+ \")\"\n",
    "    \n",
    "class Square(Rectangle):\n",
    "  \n",
    "    def __init__(self,side):\n",
    "        self.side = side\n",
    "        self.width = side\n",
    "        self.height = side\n",
    "\n",
    "\n",
    "rect = Rectangle(9, 9)\n",
    "print(rect)\n",
    "sq = Square(5)\n",
    "rect.get_amount_inside(sq)"
   ]
  },
  {
   "cell_type": "code",
   "execution_count": 57,
   "id": "0532ce90",
   "metadata": {},
   "outputs": [
    {
     "name": "stdout",
     "output_type": "stream",
     "text": [
      "{'red': 5, 'orange': 4, 'black': 1, 'blue': 0, 'pink': 2, 'striped': 9}\n",
      "['red', 'red', 'red', 'red', 'red', 'orange', 'orange', 'orange', 'orange', 'black', 'pink', 'pink', 'striped', 'striped', 'striped', 'striped', 'striped', 'striped', 'striped', 'striped', 'striped']\n"
     ]
    }
   ],
   "source": [
    "class Hat:\n",
    "    def __init__(self , **balls):\n",
    "        self.contents = []\n",
    "        print (balls)\n",
    "        for a in balls:\n",
    "            for x in range(balls[a]):\n",
    "                self.contents.append(a)\n",
    "        \n",
    "    def __str__(self):\n",
    "        return str(self.contents)\n",
    "    \n",
    "#x = Hat(yellow=3, blue=2, green=6)\n",
    "#print(str(x))\n",
    "y = Hat(red=5, orange=4, black=1, blue=0, pink=2, striped=9)\n",
    "#print(str(y))\n",
    "print( y.contents)"
   ]
  },
  {
   "cell_type": "code",
   "execution_count": 119,
   "id": "b8a17dfd",
   "metadata": {},
   "outputs": [
    {
     "name": "stdout",
     "output_type": "stream",
     "text": [
      "5\n"
     ]
    }
   ],
   "source": [
    "from random import Random\n",
    "random.seed()\n",
    "y=int(random.random()*15)\n",
    "print (y)"
   ]
  }
 ],
 "metadata": {
  "kernelspec": {
   "display_name": "Python 3 (ipykernel)",
   "language": "python",
   "name": "python3"
  },
  "language_info": {
   "codemirror_mode": {
    "name": "ipython",
    "version": 3
   },
   "file_extension": ".py",
   "mimetype": "text/x-python",
   "name": "python",
   "nbconvert_exporter": "python",
   "pygments_lexer": "ipython3",
   "version": "3.8.8"
  }
 },
 "nbformat": 4,
 "nbformat_minor": 5
}

{
 "cells": [
  {
   "cell_type": "markdown",
   "metadata": {
    "colab_type": "text",
    "id": "D7QLH_oKs5mw"
   },
   "source": [
    " ### Create a dataframe in pandas using list and series"
   ]
  },
  {
   "cell_type": "markdown",
   "metadata": {
    "colab_type": "text",
    "id": "Av2DsC1QtCvZ"
   },
   "source": [
    "#### create a data frame using list\n",
    "\n",
    "\n",
    "list1 = ['I', 'Love', 'Data', 'Science']\n",
    "\n",
    "#### create dataframe from Dictionary\n",
    "\n",
    "city_state = {'Delhi': 'Delhi', 'Mumbai': 'Maharashtra', 'Kolkata': 'West Bengal', 'Banglore': 'Karnataka'}\n",
    "\n"
   ]
  },
  {
   "cell_type": "code",
   "execution_count": 3,
   "metadata": {},
   "outputs": [
    {
     "name": "stdout",
     "output_type": "stream",
     "text": [
      "         0\n",
      "0        I\n",
      "1     Love\n",
      "2     Data\n",
      "3  Science\n",
      "                    0            1            2            3            4  \\\n",
      "Delhi           Delhi        Delhi        Delhi        Delhi        Delhi   \n",
      "Mumbai    Maharashtra  Maharashtra  Maharashtra  Maharashtra  Maharashtra   \n",
      "Kolkata   West Bengal  West Bengal  West Bengal  West Bengal  West Bengal   \n",
      "Banglore    Karnataka    Karnataka    Karnataka    Karnataka    Karnataka   \n",
      "\n",
      "                    5            6  \n",
      "Delhi           Delhi        Delhi  \n",
      "Mumbai    Maharashtra  Maharashtra  \n",
      "Kolkata   West Bengal  West Bengal  \n",
      "Banglore    Karnataka    Karnataka  \n"
     ]
    }
   ],
   "source": [
    "# Write a code here\n",
    "\n",
    "import pandas as pd\n",
    "list1 = ['I', 'Love', 'Data', 'Science']\n",
    "list1 = pd.DataFrame(list1)\n",
    "print(list1)\n",
    "\n",
    "city_state = {'Delhi': 'Delhi', 'Mumbai': 'Maharashtra', 'Kolkata': 'West Bengal', 'Banglore': 'Karnataka'}\n",
    "city_state = pd.DataFrame(city_state , index = [0,1,2,3,4,5,6]).T\n",
    "print(city_state)"
   ]
  }
 ],
 "metadata": {
  "colab": {
   "collapsed_sections": [],
   "name": "Pandas.ipynb",
   "provenance": []
  },
  "kernelspec": {
   "display_name": "Python 3",
   "language": "python",
   "name": "python3"
  },
  "language_info": {
   "codemirror_mode": {
    "name": "ipython",
    "version": 3
   },
   "file_extension": ".py",
   "mimetype": "text/x-python",
   "name": "python",
   "nbconvert_exporter": "python",
   "pygments_lexer": "ipython3",
   "version": "3.8.8"
  }
 },
 "nbformat": 4,
 "nbformat_minor": 1
}

{
 "cells": [
  {
   "cell_type": "markdown",
   "metadata": {},
   "source": [
    "## Lambda Functions"
   ]
  },
  {
   "cell_type": "markdown",
   "metadata": {},
   "source": [
    "- Q1. Find the minimum of the two numbers(34 and 78) using the lambda function"
   ]
  },
  {
   "cell_type": "code",
   "execution_count": 3,
   "metadata": {},
   "outputs": [
    {
     "data": {
      "text/plain": [
       "3"
      ]
     },
     "execution_count": 3,
     "metadata": {},
     "output_type": "execute_result"
    }
   ],
   "source": [
    "minval = (lambda x,y:y if y<x else x)\n",
    "minval(5,3)\n",
    "\n"
   ]
  },
  {
   "cell_type": "code",
   "execution_count": 17,
   "metadata": {},
   "outputs": [
    {
     "name": "stdout",
     "output_type": "stream",
     "text": [
      "[2]\n"
     ]
    }
   ],
   "source": [
    "marks = [1,2,3]\n",
    "#print(list(map(lambda x,y=3:x*y , marks)))\n",
    "def isEven (x):\n",
    "    if (x%2==1):\n",
    "        return False\n",
    "    else:\n",
    "        return True\n",
    "\n",
    "theOutput = filter(isEven , marks)\n",
    "isEven2 = (lambda x: False if x%2==1 else True )\n",
    "print(list(filter(isEven2, marks)))\n"
   ]
  },
  {
   "cell_type": "code",
   "execution_count": 29,
   "metadata": {},
   "outputs": [
    {
     "name": "stdout",
     "output_type": "stream",
     "text": [
      "[30, 31, 32, 33, 34, 35, 36, 37, 38, 39]\n",
      "range(30, 40)\n",
      "[900, 1024, 1156, 1296, 1444]\n"
     ]
    }
   ],
   "source": [
    "x=range(30,40)\n",
    "print(list(x))\n",
    "print(x)\n",
    "def square(x):\n",
    "    return(x*x)\n",
    "\n",
    "list_square = list(map(square,filter(isEven,range(30,40))))\n",
    "print( list_square)"
   ]
  },
  {
   "cell_type": "code",
   "execution_count": 30,
   "metadata": {},
   "outputs": [
    {
     "name": "stdout",
     "output_type": "stream",
     "text": [
      "[1, 144, 576, 1296, 121, 400, 2500]\n"
     ]
    }
   ],
   "source": [
    "lst = [1, 12, 24, 36, 11, 20,50]\n",
    "sq =lambda x: x*x \n",
    "print(list(map(sq, lst)))"
   ]
  }
 ],
 "metadata": {
  "kernelspec": {
   "display_name": "Python 3",
   "language": "python",
   "name": "python3"
  },
  "language_info": {
   "codemirror_mode": {
    "name": "ipython",
    "version": 3
   },
   "file_extension": ".py",
   "mimetype": "text/x-python",
   "name": "python",
   "nbconvert_exporter": "python",
   "pygments_lexer": "ipython3",
   "version": "3.8.8"
  }
 },
 "nbformat": 4,
 "nbformat_minor": 2
}

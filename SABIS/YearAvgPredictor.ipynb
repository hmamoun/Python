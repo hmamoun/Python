{
 "cells": [
  {
   "cell_type": "markdown",
   "id": "716b0920",
   "metadata": {},
   "source": [
    "*Machine Learning Project*\n",
    "\n",
    "Twenty years from now, i was working in a school and for the first time i started to deal with larger size of data, student scores, all subjects, all years, all kind of examination. I then had a bet with boss, I believed that if we have enough data, we can (at least roughly) predict the performance of students. I could today build a model to learn from students performance in a school for the past 4 years, counting the basic subjects into consideration, and add to them the performance of the first 2 terms of the current year, the model could predict at ~80 percent accuracy the total average of the current year. I was thrilled to see this happening, I used the linear regression model, and as i'm going forward, i'll use more models to reach a better result.\n",
    "The outcome of this simple model is huge, as it might alert the schools by the beginning of Term3 that this student may faile, and so the right remedial plan and action can be done."
   ]
  },
  {
   "cell_type": "markdown",
   "id": "69bddf2b",
   "metadata": {},
   "source": [
    "Assuming Y1 is last year, and Y2 is the year before then Y3 and Y4<br>\n",
    "Y1 Y2  Y3  Y4  Total averages in the past 4 years<br>\n",
    "<br>\n",
    "E1 M1 S1<br>\n",
    "E2 M2 S2<br>\n",
    "E3 M3 S3<br>\n",
    "E4 M4 S4<br>\n",
    "English, math and science in the past 4 years (year average)<br>\n",
    "<br>\n",
    "ET1 MT1 ST1 EMS avgs current year term1<br>\n",
    "ET2 MT2 ST2 EMS avgs current year term1<br>\n",
    "\n",
    "Assuming that the learning process is linear, then we can count on the following formula to predict the current  year average\n",
    "Predicted Average = a0 + a1*x1 + a2*x2 ....an*xn\n",
    "the goal is to find a0, a1.... an which fits this formula and after applying it on the sample data, it gives a low error margin\n",
    "the best i could get so far is ~80%\n",
    "\n",
    "The next step is to change the predictor to a categorical one, so that we can predict wheather a student will pass or fail"
   ]
  },
  {
   "cell_type": "code",
   "execution_count": 1,
   "id": "fd2e0e26",
   "metadata": {},
   "outputs": [],
   "source": [
    "import numpy as np\n",
    "import matplotlib.pyplot as plt\n",
    "import pandas as pd\n",
    "import seaborn as sns\n",
    "%matplotlib inline"
   ]
  },
  {
   "cell_type": "code",
   "execution_count": 2,
   "id": "3af9c367",
   "metadata": {},
   "outputs": [
    {
     "data": {
      "text/html": [
       "<div>\n",
       "<style scoped>\n",
       "    .dataframe tbody tr th:only-of-type {\n",
       "        vertical-align: middle;\n",
       "    }\n",
       "\n",
       "    .dataframe tbody tr th {\n",
       "        vertical-align: top;\n",
       "    }\n",
       "\n",
       "    .dataframe thead th {\n",
       "        text-align: right;\n",
       "    }\n",
       "</style>\n",
       "<table border=\"1\" class=\"dataframe\">\n",
       "  <thead>\n",
       "    <tr style=\"text-align: right;\">\n",
       "      <th></th>\n",
       "      <th>Class</th>\n",
       "      <th>SKey</th>\n",
       "      <th>AY</th>\n",
       "      <th>YearAVG</th>\n",
       "      <th>Y1</th>\n",
       "      <th>Y2</th>\n",
       "      <th>Y3</th>\n",
       "      <th>Y4</th>\n",
       "      <th>E1</th>\n",
       "      <th>M1</th>\n",
       "      <th>...</th>\n",
       "      <th>S3</th>\n",
       "      <th>E4</th>\n",
       "      <th>M4</th>\n",
       "      <th>S4</th>\n",
       "      <th>ET1</th>\n",
       "      <th>MT1</th>\n",
       "      <th>ST1</th>\n",
       "      <th>ET2</th>\n",
       "      <th>MT2</th>\n",
       "      <th>ST2</th>\n",
       "    </tr>\n",
       "  </thead>\n",
       "  <tbody>\n",
       "    <tr>\n",
       "      <th>136</th>\n",
       "      <td>9</td>\n",
       "      <td>17624</td>\n",
       "      <td>1718</td>\n",
       "      <td>86.746447</td>\n",
       "      <td>78.503055</td>\n",
       "      <td>80.836635</td>\n",
       "      <td>89.447107</td>\n",
       "      <td>88.660885</td>\n",
       "      <td>79.285640</td>\n",
       "      <td>81.262750</td>\n",
       "      <td>...</td>\n",
       "      <td>94.2530</td>\n",
       "      <td>87.120460</td>\n",
       "      <td>79.27050</td>\n",
       "      <td>99.0115</td>\n",
       "      <td>84.139600</td>\n",
       "      <td>83.35</td>\n",
       "      <td>97.59</td>\n",
       "      <td>80.786363</td>\n",
       "      <td>75.50</td>\n",
       "      <td>98.91</td>\n",
       "    </tr>\n",
       "    <tr>\n",
       "      <th>160</th>\n",
       "      <td>9</td>\n",
       "      <td>17759</td>\n",
       "      <td>1819</td>\n",
       "      <td>95.728745</td>\n",
       "      <td>96.644891</td>\n",
       "      <td>95.883648</td>\n",
       "      <td>96.649907</td>\n",
       "      <td>97.180643</td>\n",
       "      <td>96.457478</td>\n",
       "      <td>94.362500</td>\n",
       "      <td>...</td>\n",
       "      <td>98.3665</td>\n",
       "      <td>96.236193</td>\n",
       "      <td>95.80400</td>\n",
       "      <td>99.2160</td>\n",
       "      <td>96.515000</td>\n",
       "      <td>97.05</td>\n",
       "      <td>98.75</td>\n",
       "      <td>94.204545</td>\n",
       "      <td>94.84</td>\n",
       "      <td>97.33</td>\n",
       "    </tr>\n",
       "    <tr>\n",
       "      <th>173</th>\n",
       "      <td>9</td>\n",
       "      <td>16307</td>\n",
       "      <td>1920</td>\n",
       "      <td>87.460730</td>\n",
       "      <td>92.532195</td>\n",
       "      <td>92.085739</td>\n",
       "      <td>95.444449</td>\n",
       "      <td>97.099742</td>\n",
       "      <td>88.910344</td>\n",
       "      <td>95.588055</td>\n",
       "      <td>...</td>\n",
       "      <td>95.5280</td>\n",
       "      <td>97.573407</td>\n",
       "      <td>96.17700</td>\n",
       "      <td>97.9930</td>\n",
       "      <td>87.310000</td>\n",
       "      <td>94.80</td>\n",
       "      <td>98.65</td>\n",
       "      <td>86.603913</td>\n",
       "      <td>91.65</td>\n",
       "      <td>96.57</td>\n",
       "    </tr>\n",
       "    <tr>\n",
       "      <th>188</th>\n",
       "      <td>9</td>\n",
       "      <td>2577</td>\n",
       "      <td>1011</td>\n",
       "      <td>82.322941</td>\n",
       "      <td>69.928501</td>\n",
       "      <td>66.534535</td>\n",
       "      <td>68.818130</td>\n",
       "      <td>74.789790</td>\n",
       "      <td>71.585545</td>\n",
       "      <td>77.371750</td>\n",
       "      <td>...</td>\n",
       "      <td>71.0700</td>\n",
       "      <td>80.268705</td>\n",
       "      <td>89.66600</td>\n",
       "      <td>69.9050</td>\n",
       "      <td>70.968181</td>\n",
       "      <td>77.20</td>\n",
       "      <td>74.45</td>\n",
       "      <td>63.472725</td>\n",
       "      <td>85.25</td>\n",
       "      <td>73.50</td>\n",
       "    </tr>\n",
       "    <tr>\n",
       "      <th>193</th>\n",
       "      <td>9</td>\n",
       "      <td>2710</td>\n",
       "      <td>1011</td>\n",
       "      <td>79.363515</td>\n",
       "      <td>78.336196</td>\n",
       "      <td>77.452685</td>\n",
       "      <td>82.009395</td>\n",
       "      <td>84.176145</td>\n",
       "      <td>81.500045</td>\n",
       "      <td>81.577500</td>\n",
       "      <td>...</td>\n",
       "      <td>82.6200</td>\n",
       "      <td>84.215840</td>\n",
       "      <td>89.02875</td>\n",
       "      <td>86.4650</td>\n",
       "      <td>77.879090</td>\n",
       "      <td>86.45</td>\n",
       "      <td>84.65</td>\n",
       "      <td>70.763635</td>\n",
       "      <td>89.30</td>\n",
       "      <td>87.00</td>\n",
       "    </tr>\n",
       "  </tbody>\n",
       "</table>\n",
       "<p>5 rows × 26 columns</p>\n",
       "</div>"
      ],
      "text/plain": [
       "     Class   SKey    AY    YearAVG         Y1         Y2         Y3  \\\n",
       "136      9  17624  1718  86.746447  78.503055  80.836635  89.447107   \n",
       "160      9  17759  1819  95.728745  96.644891  95.883648  96.649907   \n",
       "173      9  16307  1920  87.460730  92.532195  92.085739  95.444449   \n",
       "188      9   2577  1011  82.322941  69.928501  66.534535  68.818130   \n",
       "193      9   2710  1011  79.363515  78.336196  77.452685  82.009395   \n",
       "\n",
       "            Y4         E1         M1  ...       S3         E4        M4  \\\n",
       "136  88.660885  79.285640  81.262750  ...  94.2530  87.120460  79.27050   \n",
       "160  97.180643  96.457478  94.362500  ...  98.3665  96.236193  95.80400   \n",
       "173  97.099742  88.910344  95.588055  ...  95.5280  97.573407  96.17700   \n",
       "188  74.789790  71.585545  77.371750  ...  71.0700  80.268705  89.66600   \n",
       "193  84.176145  81.500045  81.577500  ...  82.6200  84.215840  89.02875   \n",
       "\n",
       "          S4        ET1    MT1    ST1        ET2    MT2    ST2  \n",
       "136  99.0115  84.139600  83.35  97.59  80.786363  75.50  98.91  \n",
       "160  99.2160  96.515000  97.05  98.75  94.204545  94.84  97.33  \n",
       "173  97.9930  87.310000  94.80  98.65  86.603913  91.65  96.57  \n",
       "188  69.9050  70.968181  77.20  74.45  63.472725  85.25  73.50  \n",
       "193  86.4650  77.879090  86.45  84.65  70.763635  89.30  87.00  \n",
       "\n",
       "[5 rows x 26 columns]"
      ]
     },
     "execution_count": 2,
     "metadata": {},
     "output_type": "execute_result"
    }
   ],
   "source": [
    "grades = pd.read_csv('allGrades.csv').dropna()\n",
    "\n",
    "theClass = 9\n",
    "#Choose which scores to learn from \n",
    "inputs = ['Y1','Y2','Y3','Y4','E1','M1','S1','E2','M2','S2','E3','M3','S3','E4','M4','S4','ET1','MT1','ST1','ET2','MT2','ST2']\n",
    "#inputs = ['Y1','Y2','Y3','E1','M1','S1','E2','M2','S2','E3','M3','S3','ET1','MT1','ST1','ET2','MT2','ST2']\n",
    "#inputs = ['E1','M1','S1','E2','M2','S2','E3','M3','S3','E4','M4','S4','ET1','MT1','ST1','ET2','MT2','ST2']\n",
    "#inputs = ['E1','M1','S1','E2','M2','S2','E3','M3','S3','E4','M4','S4','ET1','MT1','ST1','ET2','MT2','ST2']\n",
    "#inputs = ['E1','M1','S1','ET1','MT1','ST1','ET2','MT2','ST2']\n",
    "\n",
    "grades = grades[grades['Class'] == theClass]\n",
    "y= grades['YearAVG'].values\n",
    "X= grades[inputs].values\n",
    "grades.head()\n"
   ]
  },
  {
   "cell_type": "markdown",
   "id": "f4b20cdb",
   "metadata": {},
   "source": [
    "the following will show the corrilation between the differnet columns"
   ]
  },
  {
   "cell_type": "code",
   "execution_count": 3,
   "id": "4efdebf0",
   "metadata": {
    "scrolled": true
   },
   "outputs": [
    {
     "data": {
      "text/plain": [
       "<AxesSubplot:>"
      ]
     },
     "execution_count": 3,
     "metadata": {},
     "output_type": "execute_result"
    },
    {
     "data": {
      "image/png": "[encoded data removed]",
      "text/plain": [
       "<Figure size 720x720 with 2 Axes>"
      ]
     },
     "metadata": {
      "needs_background": "light"
     },
     "output_type": "display_data"
    }
   ],
   "source": [
    "fig, ax = plt.subplots(figsize=(10,10))   \n",
    "sns.heatmap(grades[inputs].corr())"
   ]
  },
  {
   "cell_type": "code",
   "execution_count": 4,
   "id": "b6a70db4",
   "metadata": {},
   "outputs": [
    {
     "name": "stdout",
     "output_type": "stream",
     "text": [
      "(825, 22) (825, 22) (825,) (825,)\n"
     ]
    }
   ],
   "source": [
    "# Splitting the dataset into the Training set and Test set\n",
    "from sklearn.model_selection import train_test_split\n",
    "X_train, X_test, y_train, y_test = train_test_split(X, y, test_size = .5, random_state = 0)\n",
    "print (X_train.shape, X_test.shape, y_train.shape, y_test.shape)"
   ]
  },
  {
   "cell_type": "code",
   "execution_count": 5,
   "id": "814b4b3d",
   "metadata": {},
   "outputs": [
    {
     "data": {
      "text/plain": [
       "LinearRegression()"
      ]
     },
     "execution_count": 5,
     "metadata": {},
     "output_type": "execute_result"
    }
   ],
   "source": [
    "# Fitting Multiple Linear Regression to the Training set\n",
    "from sklearn.linear_model import LinearRegression\n",
    "regressor = LinearRegression()\n",
    "regressor.fit(X_train, y_train)"
   ]
  },
  {
   "cell_type": "code",
   "execution_count": 6,
   "id": "619ab1eb",
   "metadata": {},
   "outputs": [],
   "source": [
    "# Predicting the Test set results\n",
    "y_pred = regressor.predict(X_test)"
   ]
  },
  {
   "cell_type": "code",
   "execution_count": 9,
   "id": "51510ce3",
   "metadata": {},
   "outputs": [
    {
     "name": "stdout",
     "output_type": "stream",
     "text": [
      "a1, a2 ... an for  ['Y1', 'Y2', 'Y3', 'Y4', 'E1', 'M1', 'S1', 'E2', 'M2', 'S2', 'E3', 'M3', 'S3', 'E4', 'M4', 'S4', 'ET1', 'MT1', 'ST1', 'ET2', 'MT2', 'ST2'] [ 0.80274225  0.12900155  0.13963886 -0.10594391 -0.01514029 -0.09132112\n",
      "  0.14399386  0.01924601 -0.04251721  0.01301113 -0.00248209 -0.06899041\n",
      " -0.06025674  0.02005349  0.01473251 -0.01552003 -0.0595856   0.03479012\n",
      " -0.02696863  0.00236959  0.01988751  0.03819924]\n",
      "a0 10.106376107401715\n"
     ]
    }
   ],
   "source": [
    "# Calculating the Coefficients\n",
    "print('a1, a2 ... an for ', inputs , regressor.coef_)\n",
    "# Calculating the Intercept\n",
    "print('a0', regressor.intercept_)"
   ]
  },
  {
   "cell_type": "code",
   "execution_count": 8,
   "id": "b8553843",
   "metadata": {},
   "outputs": [
    {
     "name": "stdout",
     "output_type": "stream",
     "text": [
      "Accuracy level:  0.8385507795485345\n"
     ]
    }
   ],
   "source": [
    "# Calculating the R squared value (this is the prediction quality)\n",
    "from sklearn.metrics import r2_score\n",
    "print('Accuracy level: ' ,r2_score(y_test, y_pred))"
   ]
  },
  {
   "cell_type": "code",
   "execution_count": null,
   "id": "18402d53",
   "metadata": {},
   "outputs": [],
   "source": [
    "# this is an example to use after changing param\n",
    "#sns.jointplot(x=df['Hours'], y=df['Marks'], data=df, kind='reg')"
   ]
  },
  {
   "cell_type": "code",
   "execution_count": null,
   "id": "1c732531",
   "metadata": {},
   "outputs": [],
   "source": []
  }
 ],
 "metadata": {
  "kernelspec": {
   "display_name": "Python 3",
   "language": "python",
   "name": "python3"
  },
  "language_info": {
   "codemirror_mode": {
    "name": "ipython",
    "version": 3
   },
   "file_extension": ".py",
   "mimetype": "text/x-python",
   "name": "python",
   "nbconvert_exporter": "python",
   "pygments_lexer": "ipython3",
   "version": "3.8.8"
  }
 },
 "nbformat": 4,
 "nbformat_minor": 5
}

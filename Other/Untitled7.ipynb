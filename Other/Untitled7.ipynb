{
 "cells": [
  {
   "cell_type": "code",
   "execution_count": 1,
   "id": "43b488c4",
   "metadata": {},
   "outputs": [
    {
     "name": "stdout",
     "output_type": "stream",
     "text": [
      "first -1\n",
      "second 123\n"
     ]
    }
   ],
   "source": [
    "astr = 'hello bob'\n",
    "try:\n",
    "    istr = int(astr)\n",
    "except:\n",
    "    istr = -1\n",
    "print('first', istr)\n",
    "astr = '123'\n",
    "try:\n",
    "    istr = int(astr)\n",
    "except:\n",
    "    istr = -1\n",
    "print ('second',istr)"
   ]
  },
  {
   "cell_type": "code",
   "execution_count": 4,
   "id": "1992871c",
   "metadata": {},
   "outputs": [
    {
     "name": "stdout",
     "output_type": "stream",
     "text": [
      "r\n"
     ]
    }
   ],
   "source": [
    "big = max('Hello Wordl')\n",
    "print(big)"
   ]
  },
  {
   "cell_type": "code",
   "execution_count": 7,
   "id": "72cd0053",
   "metadata": {},
   "outputs": [
    {
     "name": "stdout",
     "output_type": "stream",
     "text": [
      "0\n",
      "1\n",
      "2\n",
      "3\n",
      "4\n",
      "5\n",
      "6\n",
      "7\n",
      "8\n",
      "9\n"
     ]
    }
   ],
   "source": [
    "x = 0\n",
    "while x < 10:\n",
    "    print (x)\n",
    "    x+=1\n"
   ]
  },
  {
   "cell_type": "code",
   "execution_count": 12,
   "id": "21bdeb93",
   "metadata": {},
   "outputs": [
    {
     "name": "stdout",
     "output_type": "stream",
     "text": [
      "a\n",
      "y\n",
      "n\n",
      "a\n",
      "y\n"
     ]
    }
   ],
   "source": [
    "for i in [1,2,4,3,2]:\n",
    "    print(\"hayan\"[i])"
   ]
  }
 ],
 "metadata": {
  "kernelspec": {
   "display_name": "Python 3",
   "language": "python",
   "name": "python3"
  },
  "language_info": {
   "codemirror_mode": {
    "name": "ipython",
    "version": 3
   },
   "file_extension": ".py",
   "mimetype": "text/x-python",
   "name": "python",
   "nbconvert_exporter": "python",
   "pygments_lexer": "ipython3",
   "version": "3.8.8"
  }
 },
 "nbformat": 4,
 "nbformat_minor": 5
}

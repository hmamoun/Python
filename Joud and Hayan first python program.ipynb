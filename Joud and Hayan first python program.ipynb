{
 "cells": [
  {
   "cell_type": "markdown",
   "id": "41ec75c0",
   "metadata": {},
   "source": [
    "in the following program we will find the solution of an equation of the second degree"
   ]
  },
  {
   "cell_type": "markdown",
   "id": "685c3f7e",
   "metadata": {},
   "source": [
    "example: aX^2+bX+c = 0"
   ]
  },
  {
   "cell_type": "code",
   "execution_count": 47,
   "id": "38125d2c",
   "metadata": {},
   "outputs": [
    {
     "name": "stdout",
     "output_type": "stream",
     "text": [
      "Please Enter a = 1\n",
      "Please Enter b = 2\n",
      "Please Enter c = 3\n"
     ]
    }
   ],
   "source": [
    "import math\n",
    "a = float(input(\"Please Enter a = \"))\n",
    "b = float(input(\"Please Enter b = \"))\n",
    "c = float(input(\"Please Enter c = \"))"
   ]
  },
  {
   "cell_type": "code",
   "execution_count": 49,
   "id": "3c4cb0a4",
   "metadata": {},
   "outputs": [],
   "source": [
    "delta = b**2 - (4 * a *c)"
   ]
  },
  {
   "cell_type": "code",
   "execution_count": 50,
   "id": "4a61c592",
   "metadata": {},
   "outputs": [
    {
     "name": "stdout",
     "output_type": "stream",
     "text": [
      "No Solution\n"
     ]
    }
   ],
   "source": [
    "if(delta<0) :\n",
    "    print(\"No Solution\")\n",
    "elif(delta == 0):\n",
    "    print(\"One solution: x = \" , -b/(2*a))\n",
    "else :\n",
    "    print(\"two solutions\")\n",
    "    print(\"x1 = \" , (-b+math.sqrt(delta))/(2*a))\n",
    "    print (\"x2 = \" , (-b-math.sqrt(delta))/(2*a))\n",
    "      "
   ]
  },
  {
   "cell_type": "code",
   "execution_count": 51,
   "id": "1eb02789",
   "metadata": {},
   "outputs": [
    {
     "data": {
      "text/plain": [
       "(True, True, True)"
      ]
     },
     "execution_count": 51,
     "metadata": {},
     "output_type": "execute_result"
    }
   ],
   "source": [
    "27/2==13.5, 27%2==1, 27//2==13"
   ]
  },
  {
   "cell_type": "code",
   "execution_count": 58,
   "id": "93ada651",
   "metadata": {},
   "outputs": [
    {
     "data": {
      "text/plain": [
       "1"
      ]
     },
     "execution_count": 58,
     "metadata": {},
     "output_type": "execute_result"
    }
   ],
   "source": [
    "x=1\n",
    "x"
   ]
  },
  {
   "cell_type": "code",
   "execution_count": 59,
   "id": "8763325f",
   "metadata": {},
   "outputs": [
    {
     "data": {
      "text/plain": [
       "3"
      ]
     },
     "execution_count": 59,
     "metadata": {},
     "output_type": "execute_result"
    }
   ],
   "source": [
    "x+=2\n",
    "x"
   ]
  },
  {
   "cell_type": "code",
   "execution_count": 60,
   "id": "67089b8e",
   "metadata": {},
   "outputs": [
    {
     "ename": "ValueError",
     "evalue": "not enough values to unpack (expected 3, got 2)",
     "output_type": "error",
     "traceback": [
      "\u001b[1;31m---------------------------------------------------------------------------\u001b[0m",
      "\u001b[1;31mValueError\u001b[0m                                Traceback (most recent call last)",
      "\u001b[1;32m<ipython-input-60-5adc27644dc8>\u001b[0m in \u001b[0;36m<module>\u001b[1;34m\u001b[0m\n\u001b[1;32m----> 1\u001b[1;33m \u001b[0ma\u001b[0m\u001b[1;33m,\u001b[0m \u001b[0mb\u001b[0m\u001b[1;33m,\u001b[0m \u001b[0mc\u001b[0m \u001b[1;33m=\u001b[0m \u001b[1;36m1\u001b[0m\u001b[1;33m,\u001b[0m \u001b[1;36m3\u001b[0m\u001b[1;33m\u001b[0m\u001b[1;33m\u001b[0m\u001b[0m\n\u001b[0m",
      "\u001b[1;31mValueError\u001b[0m: not enough values to unpack (expected 3, got 2)"
     ]
    }
   ],
   "source": [
    "a, b, c = 1, 3"
   ]
  },
  {
   "cell_type": "code",
   "execution_count": null,
   "id": "bd90252a",
   "metadata": {},
   "outputs": [],
   "source": []
  }
 ],
 "metadata": {
  "kernelspec": {
   "display_name": "Python 3",
   "language": "python",
   "name": "python3"
  },
  "language_info": {
   "codemirror_mode": {
    "name": "ipython",
    "version": 3
   },
   "file_extension": ".py",
   "mimetype": "text/x-python",
   "name": "python",
   "nbconvert_exporter": "python",
   "pygments_lexer": "ipython3",
   "version": "3.8.8"
  }
 },
 "nbformat": 4,
 "nbformat_minor": 5
}

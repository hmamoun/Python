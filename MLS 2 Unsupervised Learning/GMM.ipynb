{
 "cells": [
  {
   "cell_type": "code",
   "execution_count": 33,
   "metadata": {},
   "outputs": [
    {
     "name": "stdout",
     "output_type": "stream",
     "text": [
      "Collecting package metadata (current_repodata.json): ...working... done\n",
      "Solving environment: ...working... done\n",
      "\n",
      "# All requested packages already installed.\n",
      "\n",
      "^C\n"
     ]
    }
   ],
   "source": [
    "import numpy as np\n",
    "import pandas as pd\n",
    "import sys\n",
    "!conda install --yes --prefix {sys.prefix} plotly"
   ]
  },
  {
   "cell_type": "code",
   "execution_count": 37,
   "metadata": {},
   "outputs": [],
   "source": [
    "# data for university A\n",
    "\n",
    "math = np.random.normal(59, 5, 100)\n",
    "physics = np.random.normal(78, 7, 100)\n",
    "\n",
    "math = np.random.randint(0,100,30)\n",
    "physics = np.random.randint(0,100,30)\n"
   ]
  },
  {
   "cell_type": "code",
   "execution_count": 30,
   "metadata": {},
   "outputs": [],
   "source": [
    "import plotly.express as px"
   ]
  },
  {
   "cell_type": "code",
   "execution_count": 38,
   "metadata": {},
   "outputs": [
    {
     "data": {
      "application/vnd.plotly.v1+json": {
       "config": {
        "plotlyServerURL": "https://plot.ly"
       },
       "data": [
        {
         "alignmentgroup": "True",
         "bingroup": "x",
         "hovertemplate": "variable=0<br>value=%{x}<br>count=%{y}<extra></extra>",
         "legendgroup": "0",
         "marker": {
          "color": "#636efa",
          "pattern": {
           "shape": ""
          }
         },
         "name": "0",
         "nbinsx": 25,
         "offsetgroup": "0",
         "orientation": "v",
         "showlegend": true,
         "type": "histogram",
         "x": [
          70,
          75,
          30,
          97,
          49,
          63,
          88,
          76,
          42,
          61,
          3,
          67,
          27,
          88,
          14,
          42,
          28,
          3,
          23,
          62,
          87,
          79,
          65,
          97,
          20,
          2,
          38,
          77,
          58,
          39
         ],
         "xaxis": "x",
         "yaxis": "y"
        }
       ],
       "layout": {
        "barmode": "relative",
        "legend": {
         "title": {
          "text": "variable"
         },
         "tracegroupgap": 0
        },
        "margin": {
         "t": 60
        },
        "template": {
         "data": {
          "bar": [
           {
            "error_x": {
             "color": "#2a3f5f"
            },
            "error_y": {
             "color": "#2a3f5f"
            },
            "marker": {
             "line": {
              "color": "#E5ECF6",
              "width": 0.5
             },
             "pattern": {
              "fillmode": "overlay",
              "size": 10,
              "solidity": 0.2
             }
            },
            "type": "bar"
           }
          ],
          "barpolar": [
           {
            "marker": {
             "line": {
              "color": "#E5ECF6",
              "width": 0.5
             },
             "pattern": {
              "fillmode": "overlay",
              "size": 10,
              "solidity": 0.2
             }
            },
            "type": "barpolar"
           }
          ],
          "carpet": [
           {
            "aaxis": {
             "endlinecolor": "#2a3f5f",
             "gridcolor": "white",
             "linecolor": "white",
             "minorgridcolor": "white",
             "startlinecolor": "#2a3f5f"
            },
            "baxis": {
             "endlinecolor": "#2a3f5f",
             "gridcolor": "white",
             "linecolor": "white",
             "minorgridcolor": "white",
             "startlinecolor": "#2a3f5f"
            },
            "type": "carpet"
           }
          ],
          "choropleth": [
           {
            "colorbar": {
             "outlinewidth": 0,
             "ticks": ""
            },
            "type": "choropleth"
           }
          ],
          "contour": [
           {
            "colorbar": {
             "outlinewidth": 0,
             "ticks": ""
            },
            "colorscale": [
             [
              0,
              "#0d0887"
             ],
             [
              0.1111111111111111,
              "#46039f"
             ],
             [
              0.2222222222222222,
              "#7201a8"
             ],
             [
              0.3333333333333333,
              "#9c179e"
             ],
             [
              0.4444444444444444,
              "#bd3786"
             ],
             [
              0.5555555555555556,
              "#d8576b"
             ],
             [
              0.6666666666666666,
              "#ed7953"
             ],
             [
              0.7777777777777778,
              "#fb9f3a"
             ],
             [
              0.8888888888888888,
              "#fdca26"
             ],
             [
              1,
              "#f0f921"
             ]
            ],
            "type": "contour"
           }
          ],
          "contourcarpet": [
           {
            "colorbar": {
             "outlinewidth": 0,
             "ticks": ""
            },
            "type": "contourcarpet"
           }
          ],
          "heatmap": [
           {
            "colorbar": {
             "outlinewidth": 0,
             "ticks": ""
            },
            "colorscale": [
             [
              0,
              "#0d0887"
             ],
             [
              0.1111111111111111,
              "#46039f"
             ],
             [
              0.2222222222222222,
              "#7201a8"
             ],
             [
              0.3333333333333333,
              "#9c179e"
             ],
             [
              0.4444444444444444,
              "#bd3786"
             ],
             [
              0.5555555555555556,
              "#d8576b"
             ],
             [
              0.6666666666666666,
              "#ed7953"
             ],
             [
              0.7777777777777778,
              "#fb9f3a"
             ],
             [
              0.8888888888888888,
              "#fdca26"
             ],
             [
              1,
              "#f0f921"
             ]
            ],
            "type": "heatmap"
           }
          ],
          "heatmapgl": [
           {
            "colorbar": {
             "outlinewidth": 0,
             "ticks": ""
            },
            "colorscale": [
             [
              0,
              "#0d0887"
             ],
             [
              0.1111111111111111,
              "#46039f"
             ],
             [
              0.2222222222222222,
              "#7201a8"
             ],
             [
              0.3333333333333333,
              "#9c179e"
             ],
             [
              0.4444444444444444,
              "#bd3786"
             ],
             [
              0.5555555555555556,
              "#d8576b"
             ],
             [
              0.6666666666666666,
              "#ed7953"
             ],
             [
              0.7777777777777778,
              "#fb9f3a"
             ],
             [
              0.8888888888888888,
              "#fdca26"
             ],
             [
              1,
              "#f0f921"
             ]
            ],
            "type": "heatmapgl"
           }
          ],
          "histogram": [
           {
            "marker": {
             "pattern": {
              "fillmode": "overlay",
              "size": 10,
              "solidity": 0.2
             }
            },
            "type": "histogram"
           }
          ],
          "histogram2d": [
           {
            "colorbar": {
             "outlinewidth": 0,
             "ticks": ""
            },
            "colorscale": [
             [
              0,
              "#0d0887"
             ],
             [
              0.1111111111111111,
              "#46039f"
             ],
             [
              0.2222222222222222,
              "#7201a8"
             ],
             [
              0.3333333333333333,
              "#9c179e"
             ],
             [
              0.4444444444444444,
              "#bd3786"
             ],
             [
              0.5555555555555556,
              "#d8576b"
             ],
             [
              0.6666666666666666,
              "#ed7953"
             ],
             [
              0.7777777777777778,
              "#fb9f3a"
             ],
             [
              0.8888888888888888,
              "#fdca26"
             ],
             [
              1,
              "#f0f921"
             ]
            ],
            "type": "histogram2d"
           }
          ],
          "histogram2dcontour": [
           {
            "colorbar": {
             "outlinewidth": 0,
             "ticks": ""
            },
            "colorscale": [
             [
              0,
              "#0d0887"
             ],
             [
              0.1111111111111111,
              "#46039f"
             ],
             [
              0.2222222222222222,
              "#7201a8"
             ],
             [
              0.3333333333333333,
              "#9c179e"
             ],
             [
              0.4444444444444444,
              "#bd3786"
             ],
             [
              0.5555555555555556,
              "#d8576b"
             ],
             [
              0.6666666666666666,
              "#ed7953"
             ],
             [
              0.7777777777777778,
              "#fb9f3a"
             ],
             [
              0.8888888888888888,
              "#fdca26"
             ],
             [
              1,
              "#f0f921"
             ]
            ],
            "type": "histogram2dcontour"
           }
          ],
          "mesh3d": [
           {
            "colorbar": {
             "outlinewidth": 0,
             "ticks": ""
            },
            "type": "mesh3d"
           }
          ],
          "parcoords": [
           {
            "line": {
             "colorbar": {
              "outlinewidth": 0,
              "ticks": ""
             }
            },
            "type": "parcoords"
           }
          ],
          "pie": [
           {
            "automargin": true,
            "type": "pie"
           }
          ],
          "scatter": [
           {
            "marker": {
             "colorbar": {
              "outlinewidth": 0,
              "ticks": ""
             }
            },
            "type": "scatter"
           }
          ],
          "scatter3d": [
           {
            "line": {
             "colorbar": {
              "outlinewidth": 0,
              "ticks": ""
             }
            },
            "marker": {
             "colorbar": {
              "outlinewidth": 0,
              "ticks": ""
             }
            },
            "type": "scatter3d"
           }
          ],
          "scattercarpet": [
           {
            "marker": {
             "colorbar": {
              "outlinewidth": 0,
              "ticks": ""
             }
            },
            "type": "scattercarpet"
           }
          ],
          "scattergeo": [
           {
            "marker": {
             "colorbar": {
              "outlinewidth": 0,
              "ticks": ""
             }
            },
            "type": "scattergeo"
           }
          ],
          "scattergl": [
           {
            "marker": {
             "colorbar": {
              "outlinewidth": 0,
              "ticks": ""
             }
            },
            "type": "scattergl"
           }
          ],
          "scattermapbox": [
           {
            "marker": {
             "colorbar": {
              "outlinewidth": 0,
              "ticks": ""
             }
            },
            "type": "scattermapbox"
           }
          ],
          "scatterpolar": [
           {
            "marker": {
             "colorbar": {
              "outlinewidth": 0,
              "ticks": ""
             }
            },
            "type": "scatterpolar"
           }
          ],
          "scatterpolargl": [
           {
            "marker": {
             "colorbar": {
              "outlinewidth": 0,
              "ticks": ""
             }
            },
            "type": "scatterpolargl"
           }
          ],
          "scatterternary": [
           {
            "marker": {
             "colorbar": {
              "outlinewidth": 0,
              "ticks": ""
             }
            },
            "type": "scatterternary"
           }
          ],
          "surface": [
           {
            "colorbar": {
             "outlinewidth": 0,
             "ticks": ""
            },
            "colorscale": [
             [
              0,
              "#0d0887"
             ],
             [
              0.1111111111111111,
              "#46039f"
             ],
             [
              0.2222222222222222,
              "#7201a8"
             ],
             [
              0.3333333333333333,
              "#9c179e"
             ],
             [
              0.4444444444444444,
              "#bd3786"
             ],
             [
              0.5555555555555556,
              "#d8576b"
             ],
             [
              0.6666666666666666,
              "#ed7953"
             ],
             [
              0.7777777777777778,
              "#fb9f3a"
             ],
             [
              0.8888888888888888,
              "#fdca26"
             ],
             [
              1,
              "#f0f921"
             ]
            ],
            "type": "surface"
           }
          ],
          "table": [
           {
            "cells": {
             "fill": {
              "color": "#EBF0F8"
             },
             "line": {
              "color": "white"
             }
            },
            "header": {
             "fill": {
              "color": "#C8D4E3"
             },
             "line": {
              "color": "white"
             }
            },
            "type": "table"
           }
          ]
         },
         "layout": {
          "annotationdefaults": {
           "arrowcolor": "#2a3f5f",
           "arrowhead": 0,
           "arrowwidth": 1
          },
          "autotypenumbers": "strict",
          "coloraxis": {
           "colorbar": {
            "outlinewidth": 0,
            "ticks": ""
           }
          },
          "colorscale": {
           "diverging": [
            [
             0,
             "#8e0152"
            ],
            [
             0.1,
             "#c51b7d"
            ],
            [
             0.2,
             "#de77ae"
            ],
            [
             0.3,
             "#f1b6da"
            ],
            [
             0.4,
             "#fde0ef"
            ],
            [
             0.5,
             "#f7f7f7"
            ],
            [
             0.6,
             "#e6f5d0"
            ],
            [
             0.7,
             "#b8e186"
            ],
            [
             0.8,
             "#7fbc41"
            ],
            [
             0.9,
             "#4d9221"
            ],
            [
             1,
             "#276419"
            ]
           ],
           "sequential": [
            [
             0,
             "#0d0887"
            ],
            [
             0.1111111111111111,
             "#46039f"
            ],
            [
             0.2222222222222222,
             "#7201a8"
            ],
            [
             0.3333333333333333,
             "#9c179e"
            ],
            [
             0.4444444444444444,
             "#bd3786"
            ],
            [
             0.5555555555555556,
             "#d8576b"
            ],
            [
             0.6666666666666666,
             "#ed7953"
            ],
            [
             0.7777777777777778,
             "#fb9f3a"
            ],
            [
             0.8888888888888888,
             "#fdca26"
            ],
            [
             1,
             "#f0f921"
            ]
           ],
           "sequentialminus": [
            [
             0,
             "#0d0887"
            ],
            [
             0.1111111111111111,
             "#46039f"
            ],
            [
             0.2222222222222222,
             "#7201a8"
            ],
            [
             0.3333333333333333,
             "#9c179e"
            ],
            [
             0.4444444444444444,
             "#bd3786"
            ],
            [
             0.5555555555555556,
             "#d8576b"
            ],
            [
             0.6666666666666666,
             "#ed7953"
            ],
            [
             0.7777777777777778,
             "#fb9f3a"
            ],
            [
             0.8888888888888888,
             "#fdca26"
            ],
            [
             1,
             "#f0f921"
            ]
           ]
          },
          "colorway": [
           "#636efa",
           "#EF553B",
           "#00cc96",
           "#ab63fa",
           "#FFA15A",
           "#19d3f3",
           "#FF6692",
           "#B6E880",
           "#FF97FF",
           "#FECB52"
          ],
          "font": {
           "color": "#2a3f5f"
          },
          "geo": {
           "bgcolor": "white",
           "lakecolor": "white",
           "landcolor": "#E5ECF6",
           "showlakes": true,
           "showland": true,
           "subunitcolor": "white"
          },
          "hoverlabel": {
           "align": "left"
          },
          "hovermode": "closest",
          "mapbox": {
           "style": "light"
          },
          "paper_bgcolor": "white",
          "plot_bgcolor": "#E5ECF6",
          "polar": {
           "angularaxis": {
            "gridcolor": "white",
            "linecolor": "white",
            "ticks": ""
           },
           "bgcolor": "#E5ECF6",
           "radialaxis": {
            "gridcolor": "white",
            "linecolor": "white",
            "ticks": ""
           }
          },
          "scene": {
           "xaxis": {
            "backgroundcolor": "#E5ECF6",
            "gridcolor": "white",
            "gridwidth": 2,
            "linecolor": "white",
            "showbackground": true,
            "ticks": "",
            "zerolinecolor": "white"
           },
           "yaxis": {
            "backgroundcolor": "#E5ECF6",
            "gridcolor": "white",
            "gridwidth": 2,
            "linecolor": "white",
            "showbackground": true,
            "ticks": "",
            "zerolinecolor": "white"
           },
           "zaxis": {
            "backgroundcolor": "#E5ECF6",
            "gridcolor": "white",
            "gridwidth": 2,
            "linecolor": "white",
            "showbackground": true,
            "ticks": "",
            "zerolinecolor": "white"
           }
          },
          "shapedefaults": {
           "line": {
            "color": "#2a3f5f"
           }
          },
          "ternary": {
           "aaxis": {
            "gridcolor": "white",
            "linecolor": "white",
            "ticks": ""
           },
           "baxis": {
            "gridcolor": "white",
            "linecolor": "white",
            "ticks": ""
           },
           "bgcolor": "#E5ECF6",
           "caxis": {
            "gridcolor": "white",
            "linecolor": "white",
            "ticks": ""
           }
          },
          "title": {
           "x": 0.05
          },
          "xaxis": {
           "automargin": true,
           "gridcolor": "white",
           "linecolor": "white",
           "ticks": "",
           "title": {
            "standoff": 15
           },
           "zerolinecolor": "white",
           "zerolinewidth": 2
          },
          "yaxis": {
           "automargin": true,
           "gridcolor": "white",
           "linecolor": "white",
           "ticks": "",
           "title": {
            "standoff": 15
           },
           "zerolinecolor": "white",
           "zerolinewidth": 2
          }
         }
        },
        "xaxis": {
         "anchor": "y",
         "domain": [
          0,
          1
         ],
         "title": {
          "text": "value"
         }
        },
        "yaxis": {
         "anchor": "x",
         "domain": [
          0,
          1
         ],
         "title": {
          "text": "count"
         }
        }
       }
      },
      "text/html": [
       "<div>                            <div id=\"ba317e16-1612-419f-a0b0-b12e956fdbbc\" class=\"plotly-graph-div\" style=\"height:525px; width:100%;\"></div>            <script type=\"text/javascript\">                require([\"plotly\"], function(Plotly) {                    window.PLOTLYENV=window.PLOTLYENV || {};                                    if (document.getElementById(\"ba317e16-1612-419f-a0b0-b12e956fdbbc\")) {                    Plotly.newPlot(                        \"ba317e16-1612-419f-a0b0-b12e956fdbbc\",                        [{\"alignmentgroup\":\"True\",\"bingroup\":\"x\",\"hovertemplate\":\"variable=0<br>value=%{x}<br>count=%{y}<extra></extra>\",\"legendgroup\":\"0\",\"marker\":{\"color\":\"#636efa\",\"pattern\":{\"shape\":\"\"}},\"name\":\"0\",\"nbinsx\":25,\"offsetgroup\":\"0\",\"orientation\":\"v\",\"showlegend\":true,\"type\":\"histogram\",\"x\":[70,75,30,97,49,63,88,76,42,61,3,67,27,88,14,42,28,3,23,62,87,79,65,97,20,2,38,77,58,39],\"xaxis\":\"x\",\"yaxis\":\"y\"}],                        {\"barmode\":\"relative\",\"legend\":{\"title\":{\"text\":\"variable\"},\"tracegroupgap\":0},\"margin\":{\"t\":60},\"template\":{\"data\":{\"bar\":[{\"error_x\":{\"color\":\"#2a3f5f\"},\"error_y\":{\"color\":\"#2a3f5f\"},\"marker\":{\"line\":{\"color\":\"#E5ECF6\",\"width\":0.5},\"pattern\":{\"fillmode\":\"overlay\",\"size\":10,\"solidity\":0.2}},\"type\":\"bar\"}],\"barpolar\":[{\"marker\":{\"line\":{\"color\":\"#E5ECF6\",\"width\":0.5},\"pattern\":{\"fillmode\":\"overlay\",\"size\":10,\"solidity\":0.2}},\"type\":\"barpolar\"}],\"carpet\":[{\"aaxis\":{\"endlinecolor\":\"#2a3f5f\",\"gridcolor\":\"white\",\"linecolor\":\"white\",\"minorgridcolor\":\"white\",\"startlinecolor\":\"#2a3f5f\"},\"baxis\":{\"endlinecolor\":\"#2a3f5f\",\"gridcolor\":\"white\",\"linecolor\":\"white\",\"minorgridcolor\":\"white\",\"startlinecolor\":\"#2a3f5f\"},\"type\":\"carpet\"}],\"choropleth\":[{\"colorbar\":{\"outlinewidth\":0,\"ticks\":\"\"},\"type\":\"choropleth\"}],\"contour\":[{\"colorbar\":{\"outlinewidth\":0,\"ticks\":\"\"},\"colorscale\":[[0.0,\"#0d0887\"],[0.1111111111111111,\"#46039f\"],[0.2222222222222222,\"#7201a8\"],[0.3333333333333333,\"#9c179e\"],[0.4444444444444444,\"#bd3786\"],[0.5555555555555556,\"#d8576b\"],[0.6666666666666666,\"#ed7953\"],[0.7777777777777778,\"#fb9f3a\"],[0.8888888888888888,\"#fdca26\"],[1.0,\"#f0f921\"]],\"type\":\"contour\"}],\"contourcarpet\":[{\"colorbar\":{\"outlinewidth\":0,\"ticks\":\"\"},\"type\":\"contourcarpet\"}],\"heatmap\":[{\"colorbar\":{\"outlinewidth\":0,\"ticks\":\"\"},\"colorscale\":[[0.0,\"#0d0887\"],[0.1111111111111111,\"#46039f\"],[0.2222222222222222,\"#7201a8\"],[0.3333333333333333,\"#9c179e\"],[0.4444444444444444,\"#bd3786\"],[0.5555555555555556,\"#d8576b\"],[0.6666666666666666,\"#ed7953\"],[0.7777777777777778,\"#fb9f3a\"],[0.8888888888888888,\"#fdca26\"],[1.0,\"#f0f921\"]],\"type\":\"heatmap\"}],\"heatmapgl\":[{\"colorbar\":{\"outlinewidth\":0,\"ticks\":\"\"},\"colorscale\":[[0.0,\"#0d0887\"],[0.1111111111111111,\"#46039f\"],[0.2222222222222222,\"#7201a8\"],[0.3333333333333333,\"#9c179e\"],[0.4444444444444444,\"#bd3786\"],[0.5555555555555556,\"#d8576b\"],[0.6666666666666666,\"#ed7953\"],[0.7777777777777778,\"#fb9f3a\"],[0.8888888888888888,\"#fdca26\"],[1.0,\"#f0f921\"]],\"type\":\"heatmapgl\"}],\"histogram\":[{\"marker\":{\"pattern\":{\"fillmode\":\"overlay\",\"size\":10,\"solidity\":0.2}},\"type\":\"histogram\"}],\"histogram2d\":[{\"colorbar\":{\"outlinewidth\":0,\"ticks\":\"\"},\"colorscale\":[[0.0,\"#0d0887\"],[0.1111111111111111,\"#46039f\"],[0.2222222222222222,\"#7201a8\"],[0.3333333333333333,\"#9c179e\"],[0.4444444444444444,\"#bd3786\"],[0.5555555555555556,\"#d8576b\"],[0.6666666666666666,\"#ed7953\"],[0.7777777777777778,\"#fb9f3a\"],[0.8888888888888888,\"#fdca26\"],[1.0,\"#f0f921\"]],\"type\":\"histogram2d\"}],\"histogram2dcontour\":[{\"colorbar\":{\"outlinewidth\":0,\"ticks\":\"\"},\"colorscale\":[[0.0,\"#0d0887\"],[0.1111111111111111,\"#46039f\"],[0.2222222222222222,\"#7201a8\"],[0.3333333333333333,\"#9c179e\"],[0.4444444444444444,\"#bd3786\"],[0.5555555555555556,\"#d8576b\"],[0.6666666666666666,\"#ed7953\"],[0.7777777777777778,\"#fb9f3a\"],[0.8888888888888888,\"#fdca26\"],[1.0,\"#f0f921\"]],\"type\":\"histogram2dcontour\"}],\"mesh3d\":[{\"colorbar\":{\"outlinewidth\":0,\"ticks\":\"\"},\"type\":\"mesh3d\"}],\"parcoords\":[{\"line\":{\"colorbar\":{\"outlinewidth\":0,\"ticks\":\"\"}},\"type\":\"parcoords\"}],\"pie\":[{\"automargin\":true,\"type\":\"pie\"}],\"scatter\":[{\"marker\":{\"colorbar\":{\"outlinewidth\":0,\"ticks\":\"\"}},\"type\":\"scatter\"}],\"scatter3d\":[{\"line\":{\"colorbar\":{\"outlinewidth\":0,\"ticks\":\"\"}},\"marker\":{\"colorbar\":{\"outlinewidth\":0,\"ticks\":\"\"}},\"type\":\"scatter3d\"}],\"scattercarpet\":[{\"marker\":{\"colorbar\":{\"outlinewidth\":0,\"ticks\":\"\"}},\"type\":\"scattercarpet\"}],\"scattergeo\":[{\"marker\":{\"colorbar\":{\"outlinewidth\":0,\"ticks\":\"\"}},\"type\":\"scattergeo\"}],\"scattergl\":[{\"marker\":{\"colorbar\":{\"outlinewidth\":0,\"ticks\":\"\"}},\"type\":\"scattergl\"}],\"scattermapbox\":[{\"marker\":{\"colorbar\":{\"outlinewidth\":0,\"ticks\":\"\"}},\"type\":\"scattermapbox\"}],\"scatterpolar\":[{\"marker\":{\"colorbar\":{\"outlinewidth\":0,\"ticks\":\"\"}},\"type\":\"scatterpolar\"}],\"scatterpolargl\":[{\"marker\":{\"colorbar\":{\"outlinewidth\":0,\"ticks\":\"\"}},\"type\":\"scatterpolargl\"}],\"scatterternary\":[{\"marker\":{\"colorbar\":{\"outlinewidth\":0,\"ticks\":\"\"}},\"type\":\"scatterternary\"}],\"surface\":[{\"colorbar\":{\"outlinewidth\":0,\"ticks\":\"\"},\"colorscale\":[[0.0,\"#0d0887\"],[0.1111111111111111,\"#46039f\"],[0.2222222222222222,\"#7201a8\"],[0.3333333333333333,\"#9c179e\"],[0.4444444444444444,\"#bd3786\"],[0.5555555555555556,\"#d8576b\"],[0.6666666666666666,\"#ed7953\"],[0.7777777777777778,\"#fb9f3a\"],[0.8888888888888888,\"#fdca26\"],[1.0,\"#f0f921\"]],\"type\":\"surface\"}],\"table\":[{\"cells\":{\"fill\":{\"color\":\"#EBF0F8\"},\"line\":{\"color\":\"white\"}},\"header\":{\"fill\":{\"color\":\"#C8D4E3\"},\"line\":{\"color\":\"white\"}},\"type\":\"table\"}]},\"layout\":{\"annotationdefaults\":{\"arrowcolor\":\"#2a3f5f\",\"arrowhead\":0,\"arrowwidth\":1},\"autotypenumbers\":\"strict\",\"coloraxis\":{\"colorbar\":{\"outlinewidth\":0,\"ticks\":\"\"}},\"colorscale\":{\"diverging\":[[0,\"#8e0152\"],[0.1,\"#c51b7d\"],[0.2,\"#de77ae\"],[0.3,\"#f1b6da\"],[0.4,\"#fde0ef\"],[0.5,\"#f7f7f7\"],[0.6,\"#e6f5d0\"],[0.7,\"#b8e186\"],[0.8,\"#7fbc41\"],[0.9,\"#4d9221\"],[1,\"#276419\"]],\"sequential\":[[0.0,\"#0d0887\"],[0.1111111111111111,\"#46039f\"],[0.2222222222222222,\"#7201a8\"],[0.3333333333333333,\"#9c179e\"],[0.4444444444444444,\"#bd3786\"],[0.5555555555555556,\"#d8576b\"],[0.6666666666666666,\"#ed7953\"],[0.7777777777777778,\"#fb9f3a\"],[0.8888888888888888,\"#fdca26\"],[1.0,\"#f0f921\"]],\"sequentialminus\":[[0.0,\"#0d0887\"],[0.1111111111111111,\"#46039f\"],[0.2222222222222222,\"#7201a8\"],[0.3333333333333333,\"#9c179e\"],[0.4444444444444444,\"#bd3786\"],[0.5555555555555556,\"#d8576b\"],[0.6666666666666666,\"#ed7953\"],[0.7777777777777778,\"#fb9f3a\"],[0.8888888888888888,\"#fdca26\"],[1.0,\"#f0f921\"]]},\"colorway\":[\"#636efa\",\"#EF553B\",\"#00cc96\",\"#ab63fa\",\"#FFA15A\",\"#19d3f3\",\"#FF6692\",\"#B6E880\",\"#FF97FF\",\"#FECB52\"],\"font\":{\"color\":\"#2a3f5f\"},\"geo\":{\"bgcolor\":\"white\",\"lakecolor\":\"white\",\"landcolor\":\"#E5ECF6\",\"showlakes\":true,\"showland\":true,\"subunitcolor\":\"white\"},\"hoverlabel\":{\"align\":\"left\"},\"hovermode\":\"closest\",\"mapbox\":{\"style\":\"light\"},\"paper_bgcolor\":\"white\",\"plot_bgcolor\":\"#E5ECF6\",\"polar\":{\"angularaxis\":{\"gridcolor\":\"white\",\"linecolor\":\"white\",\"ticks\":\"\"},\"bgcolor\":\"#E5ECF6\",\"radialaxis\":{\"gridcolor\":\"white\",\"linecolor\":\"white\",\"ticks\":\"\"}},\"scene\":{\"xaxis\":{\"backgroundcolor\":\"#E5ECF6\",\"gridcolor\":\"white\",\"gridwidth\":2,\"linecolor\":\"white\",\"showbackground\":true,\"ticks\":\"\",\"zerolinecolor\":\"white\"},\"yaxis\":{\"backgroundcolor\":\"#E5ECF6\",\"gridcolor\":\"white\",\"gridwidth\":2,\"linecolor\":\"white\",\"showbackground\":true,\"ticks\":\"\",\"zerolinecolor\":\"white\"},\"zaxis\":{\"backgroundcolor\":\"#E5ECF6\",\"gridcolor\":\"white\",\"gridwidth\":2,\"linecolor\":\"white\",\"showbackground\":true,\"ticks\":\"\",\"zerolinecolor\":\"white\"}},\"shapedefaults\":{\"line\":{\"color\":\"#2a3f5f\"}},\"ternary\":{\"aaxis\":{\"gridcolor\":\"white\",\"linecolor\":\"white\",\"ticks\":\"\"},\"baxis\":{\"gridcolor\":\"white\",\"linecolor\":\"white\",\"ticks\":\"\"},\"bgcolor\":\"#E5ECF6\",\"caxis\":{\"gridcolor\":\"white\",\"linecolor\":\"white\",\"ticks\":\"\"}},\"title\":{\"x\":0.05},\"xaxis\":{\"automargin\":true,\"gridcolor\":\"white\",\"linecolor\":\"white\",\"ticks\":\"\",\"title\":{\"standoff\":15},\"zerolinecolor\":\"white\",\"zerolinewidth\":2},\"yaxis\":{\"automargin\":true,\"gridcolor\":\"white\",\"linecolor\":\"white\",\"ticks\":\"\",\"title\":{\"standoff\":15},\"zerolinecolor\":\"white\",\"zerolinewidth\":2}}},\"xaxis\":{\"anchor\":\"y\",\"domain\":[0.0,1.0],\"title\":{\"text\":\"value\"}},\"yaxis\":{\"anchor\":\"x\",\"domain\":[0.0,1.0],\"title\":{\"text\":\"count\"}}},                        {\"responsive\": true}                    ).then(function(){\n",
       "                            \n",
       "var gd = document.getElementById('ba317e16-1612-419f-a0b0-b12e956fdbbc');\n",
       "var x = new MutationObserver(function (mutations, observer) {{\n",
       "        var display = window.getComputedStyle(gd).display;\n",
       "        if (!display || display === 'none') {{\n",
       "            console.log([gd, 'removed!']);\n",
       "            Plotly.purge(gd);\n",
       "            observer.disconnect();\n",
       "        }}\n",
       "}});\n",
       "\n",
       "// Listen for the removal of the full notebook cells\n",
       "var notebookContainer = gd.closest('#notebook-container');\n",
       "if (notebookContainer) {{\n",
       "    x.observe(notebookContainer, {childList: true});\n",
       "}}\n",
       "\n",
       "// Listen for the clearing of the current output cell\n",
       "var outputEl = gd.closest('.output');\n",
       "if (outputEl) {{\n",
       "    x.observe(outputEl, {childList: true});\n",
       "}}\n",
       "\n",
       "                        })                };                });            </script>        </div>"
      ]
     },
     "metadata": {},
     "output_type": "display_data"
    }
   ],
   "source": [
    "px.histogram(math, nbins=25)"
   ]
  },
  {
   "cell_type": "code",
   "execution_count": 39,
   "metadata": {},
   "outputs": [
    {
     "data": {
      "application/vnd.plotly.v1+json": {
       "config": {
        "plotlyServerURL": "https://plot.ly"
       },
       "data": [
        {
         "alignmentgroup": "True",
         "bingroup": "x",
         "hovertemplate": "variable=0<br>value=%{x}<br>count=%{y}<extra></extra>",
         "legendgroup": "0",
         "marker": {
          "color": "#636efa",
          "pattern": {
           "shape": ""
          }
         },
         "name": "0",
         "nbinsx": 25,
         "offsetgroup": "0",
         "orientation": "v",
         "showlegend": true,
         "type": "histogram",
         "x": [
          93,
          96,
          51,
          48,
          75,
          59,
          81,
          81,
          63,
          14,
          78,
          96,
          65,
          47,
          95,
          21,
          72,
          73,
          85,
          43,
          37,
          91,
          5,
          39,
          27,
          97,
          4,
          32,
          38,
          71
         ],
         "xaxis": "x",
         "yaxis": "y"
        }
       ],
       "layout": {
        "barmode": "relative",
        "legend": {
         "title": {
          "text": "variable"
         },
         "tracegroupgap": 0
        },
        "margin": {
         "t": 60
        },
        "template": {
         "data": {
          "bar": [
           {
            "error_x": {
             "color": "#2a3f5f"
            },
            "error_y": {
             "color": "#2a3f5f"
            },
            "marker": {
             "line": {
              "color": "#E5ECF6",
              "width": 0.5
             },
             "pattern": {
              "fillmode": "overlay",
              "size": 10,
              "solidity": 0.2
             }
            },
            "type": "bar"
           }
          ],
          "barpolar": [
           {
            "marker": {
             "line": {
              "color": "#E5ECF6",
              "width": 0.5
             },
             "pattern": {
              "fillmode": "overlay",
              "size": 10,
              "solidity": 0.2
             }
            },
            "type": "barpolar"
           }
          ],
          "carpet": [
           {
            "aaxis": {
             "endlinecolor": "#2a3f5f",
             "gridcolor": "white",
             "linecolor": "white",
             "minorgridcolor": "white",
             "startlinecolor": "#2a3f5f"
            },
            "baxis": {
             "endlinecolor": "#2a3f5f",
             "gridcolor": "white",
             "linecolor": "white",
             "minorgridcolor": "white",
             "startlinecolor": "#2a3f5f"
            },
            "type": "carpet"
           }
          ],
          "choropleth": [
           {
            "colorbar": {
             "outlinewidth": 0,
             "ticks": ""
            },
            "type": "choropleth"
           }
          ],
          "contour": [
           {
            "colorbar": {
             "outlinewidth": 0,
             "ticks": ""
            },
            "colorscale": [
             [
              0,
              "#0d0887"
             ],
             [
              0.1111111111111111,
              "#46039f"
             ],
             [
              0.2222222222222222,
              "#7201a8"
             ],
             [
              0.3333333333333333,
              "#9c179e"
             ],
             [
              0.4444444444444444,
              "#bd3786"
             ],
             [
              0.5555555555555556,
              "#d8576b"
             ],
             [
              0.6666666666666666,
              "#ed7953"
             ],
             [
              0.7777777777777778,
              "#fb9f3a"
             ],
             [
              0.8888888888888888,
              "#fdca26"
             ],
             [
              1,
              "#f0f921"
             ]
            ],
            "type": "contour"
           }
          ],
          "contourcarpet": [
           {
            "colorbar": {
             "outlinewidth": 0,
             "ticks": ""
            },
            "type": "contourcarpet"
           }
          ],
          "heatmap": [
           {
            "colorbar": {
             "outlinewidth": 0,
             "ticks": ""
            },
            "colorscale": [
             [
              0,
              "#0d0887"
             ],
             [
              0.1111111111111111,
              "#46039f"
             ],
             [
              0.2222222222222222,
              "#7201a8"
             ],
             [
              0.3333333333333333,
              "#9c179e"
             ],
             [
              0.4444444444444444,
              "#bd3786"
             ],
             [
              0.5555555555555556,
              "#d8576b"
             ],
             [
              0.6666666666666666,
              "#ed7953"
             ],
             [
              0.7777777777777778,
              "#fb9f3a"
             ],
             [
              0.8888888888888888,
              "#fdca26"
             ],
             [
              1,
              "#f0f921"
             ]
            ],
            "type": "heatmap"
           }
          ],
          "heatmapgl": [
           {
            "colorbar": {
             "outlinewidth": 0,
             "ticks": ""
            },
            "colorscale": [
             [
              0,
              "#0d0887"
             ],
             [
              0.1111111111111111,
              "#46039f"
             ],
             [
              0.2222222222222222,
              "#7201a8"
             ],
             [
              0.3333333333333333,
              "#9c179e"
             ],
             [
              0.4444444444444444,
              "#bd3786"
             ],
             [
              0.5555555555555556,
              "#d8576b"
             ],
             [
              0.6666666666666666,
              "#ed7953"
             ],
             [
              0.7777777777777778,
              "#fb9f3a"
             ],
             [
              0.8888888888888888,
              "#fdca26"
             ],
             [
              1,
              "#f0f921"
             ]
            ],
            "type": "heatmapgl"
           }
          ],
          "histogram": [
           {
            "marker": {
             "pattern": {
              "fillmode": "overlay",
              "size": 10,
              "solidity": 0.2
             }
            },
            "type": "histogram"
           }
          ],
          "histogram2d": [
           {
            "colorbar": {
             "outlinewidth": 0,
             "ticks": ""
            },
            "colorscale": [
             [
              0,
              "#0d0887"
             ],
             [
              0.1111111111111111,
              "#46039f"
             ],
             [
              0.2222222222222222,
              "#7201a8"
             ],
             [
              0.3333333333333333,
              "#9c179e"
             ],
             [
              0.4444444444444444,
              "#bd3786"
             ],
             [
              0.5555555555555556,
              "#d8576b"
             ],
             [
              0.6666666666666666,
              "#ed7953"
             ],
             [
              0.7777777777777778,
              "#fb9f3a"
             ],
             [
              0.8888888888888888,
              "#fdca26"
             ],
             [
              1,
              "#f0f921"
             ]
            ],
            "type": "histogram2d"
           }
          ],
          "histogram2dcontour": [
           {
            "colorbar": {
             "outlinewidth": 0,
             "ticks": ""
            },
            "colorscale": [
             [
              0,
              "#0d0887"
             ],
             [
              0.1111111111111111,
              "#46039f"
             ],
             [
              0.2222222222222222,
              "#7201a8"
             ],
             [
              0.3333333333333333,
              "#9c179e"
             ],
             [
              0.4444444444444444,
              "#bd3786"
             ],
             [
              0.5555555555555556,
              "#d8576b"
             ],
             [
              0.6666666666666666,
              "#ed7953"
             ],
             [
              0.7777777777777778,
              "#fb9f3a"
             ],
             [
              0.8888888888888888,
              "#fdca26"
             ],
             [
              1,
              "#f0f921"
             ]
            ],
            "type": "histogram2dcontour"
           }
          ],
          "mesh3d": [
           {
            "colorbar": {
             "outlinewidth": 0,
             "ticks": ""
            },
            "type": "mesh3d"
           }
          ],
          "parcoords": [
           {
            "line": {
             "colorbar": {
              "outlinewidth": 0,
              "ticks": ""
             }
            },
            "type": "parcoords"
           }
          ],
          "pie": [
           {
            "automargin": true,
            "type": "pie"
           }
          ],
          "scatter": [
           {
            "marker": {
             "colorbar": {
              "outlinewidth": 0,
              "ticks": ""
             }
            },
            "type": "scatter"
           }
          ],
          "scatter3d": [
           {
            "line": {
             "colorbar": {
              "outlinewidth": 0,
              "ticks": ""
             }
            },
            "marker": {
             "colorbar": {
              "outlinewidth": 0,
              "ticks": ""
             }
            },
            "type": "scatter3d"
           }
          ],
          "scattercarpet": [
           {
            "marker": {
             "colorbar": {
              "outlinewidth": 0,
              "ticks": ""
             }
            },
            "type": "scattercarpet"
           }
          ],
          "scattergeo": [
           {
            "marker": {
             "colorbar": {
              "outlinewidth": 0,
              "ticks": ""
             }
            },
            "type": "scattergeo"
           }
          ],
          "scattergl": [
           {
            "marker": {
             "colorbar": {
              "outlinewidth": 0,
              "ticks": ""
             }
            },
            "type": "scattergl"
           }
          ],
          "scattermapbox": [
           {
            "marker": {
             "colorbar": {
              "outlinewidth": 0,
              "ticks": ""
             }
            },
            "type": "scattermapbox"
           }
          ],
          "scatterpolar": [
           {
            "marker": {
             "colorbar": {
              "outlinewidth": 0,
              "ticks": ""
             }
            },
            "type": "scatterpolar"
           }
          ],
          "scatterpolargl": [
           {
            "marker": {
             "colorbar": {
              "outlinewidth": 0,
              "ticks": ""
             }
            },
            "type": "scatterpolargl"
           }
          ],
          "scatterternary": [
           {
            "marker": {
             "colorbar": {
              "outlinewidth": 0,
              "ticks": ""
             }
            },
            "type": "scatterternary"
           }
          ],
          "surface": [
           {
            "colorbar": {
             "outlinewidth": 0,
             "ticks": ""
            },
            "colorscale": [
             [
              0,
              "#0d0887"
             ],
             [
              0.1111111111111111,
              "#46039f"
             ],
             [
              0.2222222222222222,
              "#7201a8"
             ],
             [
              0.3333333333333333,
              "#9c179e"
             ],
             [
              0.4444444444444444,
              "#bd3786"
             ],
             [
              0.5555555555555556,
              "#d8576b"
             ],
             [
              0.6666666666666666,
              "#ed7953"
             ],
             [
              0.7777777777777778,
              "#fb9f3a"
             ],
             [
              0.8888888888888888,
              "#fdca26"
             ],
             [
              1,
              "#f0f921"
             ]
            ],
            "type": "surface"
           }
          ],
          "table": [
           {
            "cells": {
             "fill": {
              "color": "#EBF0F8"
             },
             "line": {
              "color": "white"
             }
            },
            "header": {
             "fill": {
              "color": "#C8D4E3"
             },
             "line": {
              "color": "white"
             }
            },
            "type": "table"
           }
          ]
         },
         "layout": {
          "annotationdefaults": {
           "arrowcolor": "#2a3f5f",
           "arrowhead": 0,
           "arrowwidth": 1
          },
          "autotypenumbers": "strict",
          "coloraxis": {
           "colorbar": {
            "outlinewidth": 0,
            "ticks": ""
           }
          },
          "colorscale": {
           "diverging": [
            [
             0,
             "#8e0152"
            ],
            [
             0.1,
             "#c51b7d"
            ],
            [
             0.2,
             "#de77ae"
            ],
            [
             0.3,
             "#f1b6da"
            ],
            [
             0.4,
             "#fde0ef"
            ],
            [
             0.5,
             "#f7f7f7"
            ],
            [
             0.6,
             "#e6f5d0"
            ],
            [
             0.7,
             "#b8e186"
            ],
            [
             0.8,
             "#7fbc41"
            ],
            [
             0.9,
             "#4d9221"
            ],
            [
             1,
             "#276419"
            ]
           ],
           "sequential": [
            [
             0,
             "#0d0887"
            ],
            [
             0.1111111111111111,
             "#46039f"
            ],
            [
             0.2222222222222222,
             "#7201a8"
            ],
            [
             0.3333333333333333,
             "#9c179e"
            ],
            [
             0.4444444444444444,
             "#bd3786"
            ],
            [
             0.5555555555555556,
             "#d8576b"
            ],
            [
             0.6666666666666666,
             "#ed7953"
            ],
            [
             0.7777777777777778,
             "#fb9f3a"
            ],
            [
             0.8888888888888888,
             "#fdca26"
            ],
            [
             1,
             "#f0f921"
            ]
           ],
           "sequentialminus": [
            [
             0,
             "#0d0887"
            ],
            [
             0.1111111111111111,
             "#46039f"
            ],
            [
             0.2222222222222222,
             "#7201a8"
            ],
            [
             0.3333333333333333,
             "#9c179e"
            ],
            [
             0.4444444444444444,
             "#bd3786"
            ],
            [
             0.5555555555555556,
             "#d8576b"
            ],
            [
             0.6666666666666666,
             "#ed7953"
            ],
            [
             0.7777777777777778,
             "#fb9f3a"
            ],
            [
             0.8888888888888888,
             "#fdca26"
            ],
            [
             1,
             "#f0f921"
            ]
           ]
          },
          "colorway": [
           "#636efa",
           "#EF553B",
           "#00cc96",
           "#ab63fa",
           "#FFA15A",
           "#19d3f3",
           "#FF6692",
           "#B6E880",
           "#FF97FF",
           "#FECB52"
          ],
          "font": {
           "color": "#2a3f5f"
          },
          "geo": {
           "bgcolor": "white",
           "lakecolor": "white",
           "landcolor": "#E5ECF6",
           "showlakes": true,
           "showland": true,
           "subunitcolor": "white"
          },
          "hoverlabel": {
           "align": "left"
          },
          "hovermode": "closest",
          "mapbox": {
           "style": "light"
          },
          "paper_bgcolor": "white",
          "plot_bgcolor": "#E5ECF6",
          "polar": {
           "angularaxis": {
            "gridcolor": "white",
            "linecolor": "white",
            "ticks": ""
           },
           "bgcolor": "#E5ECF6",
           "radialaxis": {
            "gridcolor": "white",
            "linecolor": "white",
            "ticks": ""
           }
          },
          "scene": {
           "xaxis": {
            "backgroundcolor": "#E5ECF6",
            "gridcolor": "white",
            "gridwidth": 2,
            "linecolor": "white",
            "showbackground": true,
            "ticks": "",
            "zerolinecolor": "white"
           },
           "yaxis": {
            "backgroundcolor": "#E5ECF6",
            "gridcolor": "white",
            "gridwidth": 2,
            "linecolor": "white",
            "showbackground": true,
            "ticks": "",
            "zerolinecolor": "white"
           },
           "zaxis": {
            "backgroundcolor": "#E5ECF6",
            "gridcolor": "white",
            "gridwidth": 2,
            "linecolor": "white",
            "showbackground": true,
            "ticks": "",
            "zerolinecolor": "white"
           }
          },
          "shapedefaults": {
           "line": {
            "color": "#2a3f5f"
           }
          },
          "ternary": {
           "aaxis": {
            "gridcolor": "white",
            "linecolor": "white",
            "ticks": ""
           },
           "baxis": {
            "gridcolor": "white",
            "linecolor": "white",
            "ticks": ""
           },
           "bgcolor": "#E5ECF6",
           "caxis": {
            "gridcolor": "white",
            "linecolor": "white",
            "ticks": ""
           }
          },
          "title": {
           "x": 0.05
          },
          "xaxis": {
           "automargin": true,
           "gridcolor": "white",
           "linecolor": "white",
           "ticks": "",
           "title": {
            "standoff": 15
           },
           "zerolinecolor": "white",
           "zerolinewidth": 2
          },
          "yaxis": {
           "automargin": true,
           "gridcolor": "white",
           "linecolor": "white",
           "ticks": "",
           "title": {
            "standoff": 15
           },
           "zerolinecolor": "white",
           "zerolinewidth": 2
          }
         }
        },
        "xaxis": {
         "anchor": "y",
         "domain": [
          0,
          1
         ],
         "title": {
          "text": "value"
         }
        },
        "yaxis": {
         "anchor": "x",
         "domain": [
          0,
          1
         ],
         "title": {
          "text": "count"
         }
        }
       }
      },
      "text/html": [
       "<div>                            <div id=\"60a5b613-13ad-4674-9cb0-0260f2b9ba0b\" class=\"plotly-graph-div\" style=\"height:525px; width:100%;\"></div>            <script type=\"text/javascript\">                require([\"plotly\"], function(Plotly) {                    window.PLOTLYENV=window.PLOTLYENV || {};                                    if (document.getElementById(\"60a5b613-13ad-4674-9cb0-0260f2b9ba0b\")) {                    Plotly.newPlot(                        \"60a5b613-13ad-4674-9cb0-0260f2b9ba0b\",                        [{\"alignmentgroup\":\"True\",\"bingroup\":\"x\",\"hovertemplate\":\"variable=0<br>value=%{x}<br>count=%{y}<extra></extra>\",\"legendgroup\":\"0\",\"marker\":{\"color\":\"#636efa\",\"pattern\":{\"shape\":\"\"}},\"name\":\"0\",\"nbinsx\":25,\"offsetgroup\":\"0\",\"orientation\":\"v\",\"showlegend\":true,\"type\":\"histogram\",\"x\":[93,96,51,48,75,59,81,81,63,14,78,96,65,47,95,21,72,73,85,43,37,91,5,39,27,97,4,32,38,71],\"xaxis\":\"x\",\"yaxis\":\"y\"}],                        {\"barmode\":\"relative\",\"legend\":{\"title\":{\"text\":\"variable\"},\"tracegroupgap\":0},\"margin\":{\"t\":60},\"template\":{\"data\":{\"bar\":[{\"error_x\":{\"color\":\"#2a3f5f\"},\"error_y\":{\"color\":\"#2a3f5f\"},\"marker\":{\"line\":{\"color\":\"#E5ECF6\",\"width\":0.5},\"pattern\":{\"fillmode\":\"overlay\",\"size\":10,\"solidity\":0.2}},\"type\":\"bar\"}],\"barpolar\":[{\"marker\":{\"line\":{\"color\":\"#E5ECF6\",\"width\":0.5},\"pattern\":{\"fillmode\":\"overlay\",\"size\":10,\"solidity\":0.2}},\"type\":\"barpolar\"}],\"carpet\":[{\"aaxis\":{\"endlinecolor\":\"#2a3f5f\",\"gridcolor\":\"white\",\"linecolor\":\"white\",\"minorgridcolor\":\"white\",\"startlinecolor\":\"#2a3f5f\"},\"baxis\":{\"endlinecolor\":\"#2a3f5f\",\"gridcolor\":\"white\",\"linecolor\":\"white\",\"minorgridcolor\":\"white\",\"startlinecolor\":\"#2a3f5f\"},\"type\":\"carpet\"}],\"choropleth\":[{\"colorbar\":{\"outlinewidth\":0,\"ticks\":\"\"},\"type\":\"choropleth\"}],\"contour\":[{\"colorbar\":{\"outlinewidth\":0,\"ticks\":\"\"},\"colorscale\":[[0.0,\"#0d0887\"],[0.1111111111111111,\"#46039f\"],[0.2222222222222222,\"#7201a8\"],[0.3333333333333333,\"#9c179e\"],[0.4444444444444444,\"#bd3786\"],[0.5555555555555556,\"#d8576b\"],[0.6666666666666666,\"#ed7953\"],[0.7777777777777778,\"#fb9f3a\"],[0.8888888888888888,\"#fdca26\"],[1.0,\"#f0f921\"]],\"type\":\"contour\"}],\"contourcarpet\":[{\"colorbar\":{\"outlinewidth\":0,\"ticks\":\"\"},\"type\":\"contourcarpet\"}],\"heatmap\":[{\"colorbar\":{\"outlinewidth\":0,\"ticks\":\"\"},\"colorscale\":[[0.0,\"#0d0887\"],[0.1111111111111111,\"#46039f\"],[0.2222222222222222,\"#7201a8\"],[0.3333333333333333,\"#9c179e\"],[0.4444444444444444,\"#bd3786\"],[0.5555555555555556,\"#d8576b\"],[0.6666666666666666,\"#ed7953\"],[0.7777777777777778,\"#fb9f3a\"],[0.8888888888888888,\"#fdca26\"],[1.0,\"#f0f921\"]],\"type\":\"heatmap\"}],\"heatmapgl\":[{\"colorbar\":{\"outlinewidth\":0,\"ticks\":\"\"},\"colorscale\":[[0.0,\"#0d0887\"],[0.1111111111111111,\"#46039f\"],[0.2222222222222222,\"#7201a8\"],[0.3333333333333333,\"#9c179e\"],[0.4444444444444444,\"#bd3786\"],[0.5555555555555556,\"#d8576b\"],[0.6666666666666666,\"#ed7953\"],[0.7777777777777778,\"#fb9f3a\"],[0.8888888888888888,\"#fdca26\"],[1.0,\"#f0f921\"]],\"type\":\"heatmapgl\"}],\"histogram\":[{\"marker\":{\"pattern\":{\"fillmode\":\"overlay\",\"size\":10,\"solidity\":0.2}},\"type\":\"histogram\"}],\"histogram2d\":[{\"colorbar\":{\"outlinewidth\":0,\"ticks\":\"\"},\"colorscale\":[[0.0,\"#0d0887\"],[0.1111111111111111,\"#46039f\"],[0.2222222222222222,\"#7201a8\"],[0.3333333333333333,\"#9c179e\"],[0.4444444444444444,\"#bd3786\"],[0.5555555555555556,\"#d8576b\"],[0.6666666666666666,\"#ed7953\"],[0.7777777777777778,\"#fb9f3a\"],[0.8888888888888888,\"#fdca26\"],[1.0,\"#f0f921\"]],\"type\":\"histogram2d\"}],\"histogram2dcontour\":[{\"colorbar\":{\"outlinewidth\":0,\"ticks\":\"\"},\"colorscale\":[[0.0,\"#0d0887\"],[0.1111111111111111,\"#46039f\"],[0.2222222222222222,\"#7201a8\"],[0.3333333333333333,\"#9c179e\"],[0.4444444444444444,\"#bd3786\"],[0.5555555555555556,\"#d8576b\"],[0.6666666666666666,\"#ed7953\"],[0.7777777777777778,\"#fb9f3a\"],[0.8888888888888888,\"#fdca26\"],[1.0,\"#f0f921\"]],\"type\":\"histogram2dcontour\"}],\"mesh3d\":[{\"colorbar\":{\"outlinewidth\":0,\"ticks\":\"\"},\"type\":\"mesh3d\"}],\"parcoords\":[{\"line\":{\"colorbar\":{\"outlinewidth\":0,\"ticks\":\"\"}},\"type\":\"parcoords\"}],\"pie\":[{\"automargin\":true,\"type\":\"pie\"}],\"scatter\":[{\"marker\":{\"colorbar\":{\"outlinewidth\":0,\"ticks\":\"\"}},\"type\":\"scatter\"}],\"scatter3d\":[{\"line\":{\"colorbar\":{\"outlinewidth\":0,\"ticks\":\"\"}},\"marker\":{\"colorbar\":{\"outlinewidth\":0,\"ticks\":\"\"}},\"type\":\"scatter3d\"}],\"scattercarpet\":[{\"marker\":{\"colorbar\":{\"outlinewidth\":0,\"ticks\":\"\"}},\"type\":\"scattercarpet\"}],\"scattergeo\":[{\"marker\":{\"colorbar\":{\"outlinewidth\":0,\"ticks\":\"\"}},\"type\":\"scattergeo\"}],\"scattergl\":[{\"marker\":{\"colorbar\":{\"outlinewidth\":0,\"ticks\":\"\"}},\"type\":\"scattergl\"}],\"scattermapbox\":[{\"marker\":{\"colorbar\":{\"outlinewidth\":0,\"ticks\":\"\"}},\"type\":\"scattermapbox\"}],\"scatterpolar\":[{\"marker\":{\"colorbar\":{\"outlinewidth\":0,\"ticks\":\"\"}},\"type\":\"scatterpolar\"}],\"scatterpolargl\":[{\"marker\":{\"colorbar\":{\"outlinewidth\":0,\"ticks\":\"\"}},\"type\":\"scatterpolargl\"}],\"scatterternary\":[{\"marker\":{\"colorbar\":{\"outlinewidth\":0,\"ticks\":\"\"}},\"type\":\"scatterternary\"}],\"surface\":[{\"colorbar\":{\"outlinewidth\":0,\"ticks\":\"\"},\"colorscale\":[[0.0,\"#0d0887\"],[0.1111111111111111,\"#46039f\"],[0.2222222222222222,\"#7201a8\"],[0.3333333333333333,\"#9c179e\"],[0.4444444444444444,\"#bd3786\"],[0.5555555555555556,\"#d8576b\"],[0.6666666666666666,\"#ed7953\"],[0.7777777777777778,\"#fb9f3a\"],[0.8888888888888888,\"#fdca26\"],[1.0,\"#f0f921\"]],\"type\":\"surface\"}],\"table\":[{\"cells\":{\"fill\":{\"color\":\"#EBF0F8\"},\"line\":{\"color\":\"white\"}},\"header\":{\"fill\":{\"color\":\"#C8D4E3\"},\"line\":{\"color\":\"white\"}},\"type\":\"table\"}]},\"layout\":{\"annotationdefaults\":{\"arrowcolor\":\"#2a3f5f\",\"arrowhead\":0,\"arrowwidth\":1},\"autotypenumbers\":\"strict\",\"coloraxis\":{\"colorbar\":{\"outlinewidth\":0,\"ticks\":\"\"}},\"colorscale\":{\"diverging\":[[0,\"#8e0152\"],[0.1,\"#c51b7d\"],[0.2,\"#de77ae\"],[0.3,\"#f1b6da\"],[0.4,\"#fde0ef\"],[0.5,\"#f7f7f7\"],[0.6,\"#e6f5d0\"],[0.7,\"#b8e186\"],[0.8,\"#7fbc41\"],[0.9,\"#4d9221\"],[1,\"#276419\"]],\"sequential\":[[0.0,\"#0d0887\"],[0.1111111111111111,\"#46039f\"],[0.2222222222222222,\"#7201a8\"],[0.3333333333333333,\"#9c179e\"],[0.4444444444444444,\"#bd3786\"],[0.5555555555555556,\"#d8576b\"],[0.6666666666666666,\"#ed7953\"],[0.7777777777777778,\"#fb9f3a\"],[0.8888888888888888,\"#fdca26\"],[1.0,\"#f0f921\"]],\"sequentialminus\":[[0.0,\"#0d0887\"],[0.1111111111111111,\"#46039f\"],[0.2222222222222222,\"#7201a8\"],[0.3333333333333333,\"#9c179e\"],[0.4444444444444444,\"#bd3786\"],[0.5555555555555556,\"#d8576b\"],[0.6666666666666666,\"#ed7953\"],[0.7777777777777778,\"#fb9f3a\"],[0.8888888888888888,\"#fdca26\"],[1.0,\"#f0f921\"]]},\"colorway\":[\"#636efa\",\"#EF553B\",\"#00cc96\",\"#ab63fa\",\"#FFA15A\",\"#19d3f3\",\"#FF6692\",\"#B6E880\",\"#FF97FF\",\"#FECB52\"],\"font\":{\"color\":\"#2a3f5f\"},\"geo\":{\"bgcolor\":\"white\",\"lakecolor\":\"white\",\"landcolor\":\"#E5ECF6\",\"showlakes\":true,\"showland\":true,\"subunitcolor\":\"white\"},\"hoverlabel\":{\"align\":\"left\"},\"hovermode\":\"closest\",\"mapbox\":{\"style\":\"light\"},\"paper_bgcolor\":\"white\",\"plot_bgcolor\":\"#E5ECF6\",\"polar\":{\"angularaxis\":{\"gridcolor\":\"white\",\"linecolor\":\"white\",\"ticks\":\"\"},\"bgcolor\":\"#E5ECF6\",\"radialaxis\":{\"gridcolor\":\"white\",\"linecolor\":\"white\",\"ticks\":\"\"}},\"scene\":{\"xaxis\":{\"backgroundcolor\":\"#E5ECF6\",\"gridcolor\":\"white\",\"gridwidth\":2,\"linecolor\":\"white\",\"showbackground\":true,\"ticks\":\"\",\"zerolinecolor\":\"white\"},\"yaxis\":{\"backgroundcolor\":\"#E5ECF6\",\"gridcolor\":\"white\",\"gridwidth\":2,\"linecolor\":\"white\",\"showbackground\":true,\"ticks\":\"\",\"zerolinecolor\":\"white\"},\"zaxis\":{\"backgroundcolor\":\"#E5ECF6\",\"gridcolor\":\"white\",\"gridwidth\":2,\"linecolor\":\"white\",\"showbackground\":true,\"ticks\":\"\",\"zerolinecolor\":\"white\"}},\"shapedefaults\":{\"line\":{\"color\":\"#2a3f5f\"}},\"ternary\":{\"aaxis\":{\"gridcolor\":\"white\",\"linecolor\":\"white\",\"ticks\":\"\"},\"baxis\":{\"gridcolor\":\"white\",\"linecolor\":\"white\",\"ticks\":\"\"},\"bgcolor\":\"#E5ECF6\",\"caxis\":{\"gridcolor\":\"white\",\"linecolor\":\"white\",\"ticks\":\"\"}},\"title\":{\"x\":0.05},\"xaxis\":{\"automargin\":true,\"gridcolor\":\"white\",\"linecolor\":\"white\",\"ticks\":\"\",\"title\":{\"standoff\":15},\"zerolinecolor\":\"white\",\"zerolinewidth\":2},\"yaxis\":{\"automargin\":true,\"gridcolor\":\"white\",\"linecolor\":\"white\",\"ticks\":\"\",\"title\":{\"standoff\":15},\"zerolinecolor\":\"white\",\"zerolinewidth\":2}}},\"xaxis\":{\"anchor\":\"y\",\"domain\":[0.0,1.0],\"title\":{\"text\":\"value\"}},\"yaxis\":{\"anchor\":\"x\",\"domain\":[0.0,1.0],\"title\":{\"text\":\"count\"}}},                        {\"responsive\": true}                    ).then(function(){\n",
       "                            \n",
       "var gd = document.getElementById('60a5b613-13ad-4674-9cb0-0260f2b9ba0b');\n",
       "var x = new MutationObserver(function (mutations, observer) {{\n",
       "        var display = window.getComputedStyle(gd).display;\n",
       "        if (!display || display === 'none') {{\n",
       "            console.log([gd, 'removed!']);\n",
       "            Plotly.purge(gd);\n",
       "            observer.disconnect();\n",
       "        }}\n",
       "}});\n",
       "\n",
       "// Listen for the removal of the full notebook cells\n",
       "var notebookContainer = gd.closest('#notebook-container');\n",
       "if (notebookContainer) {{\n",
       "    x.observe(notebookContainer, {childList: true});\n",
       "}}\n",
       "\n",
       "// Listen for the clearing of the current output cell\n",
       "var outputEl = gd.closest('.output');\n",
       "if (outputEl) {{\n",
       "    x.observe(outputEl, {childList: true});\n",
       "}}\n",
       "\n",
       "                        })                };                });            </script>        </div>"
      ]
     },
     "metadata": {},
     "output_type": "display_data"
    }
   ],
   "source": [
    "px.histogram(physics, nbins=25)"
   ]
  },
  {
   "cell_type": "code",
   "execution_count": 44,
   "metadata": {},
   "outputs": [
    {
     "data": {
      "text/html": [
       "<div>\n",
       "<style scoped>\n",
       "    .dataframe tbody tr th:only-of-type {\n",
       "        vertical-align: middle;\n",
       "    }\n",
       "\n",
       "    .dataframe tbody tr th {\n",
       "        vertical-align: top;\n",
       "    }\n",
       "\n",
       "    .dataframe thead th {\n",
       "        text-align: right;\n",
       "    }\n",
       "</style>\n",
       "<table border=\"1\" class=\"dataframe\">\n",
       "  <thead>\n",
       "    <tr style=\"text-align: right;\">\n",
       "      <th></th>\n",
       "      <th>math</th>\n",
       "      <th>physics</th>\n",
       "    </tr>\n",
       "  </thead>\n",
       "  <tbody>\n",
       "    <tr>\n",
       "      <th>0</th>\n",
       "      <td>70</td>\n",
       "      <td>93</td>\n",
       "    </tr>\n",
       "    <tr>\n",
       "      <th>1</th>\n",
       "      <td>75</td>\n",
       "      <td>96</td>\n",
       "    </tr>\n",
       "    <tr>\n",
       "      <th>2</th>\n",
       "      <td>30</td>\n",
       "      <td>51</td>\n",
       "    </tr>\n",
       "    <tr>\n",
       "      <th>3</th>\n",
       "      <td>97</td>\n",
       "      <td>48</td>\n",
       "    </tr>\n",
       "    <tr>\n",
       "      <th>4</th>\n",
       "      <td>49</td>\n",
       "      <td>75</td>\n",
       "    </tr>\n",
       "  </tbody>\n",
       "</table>\n",
       "</div>"
      ],
      "text/plain": [
       "   math  physics\n",
       "0    70       93\n",
       "1    75       96\n",
       "2    30       51\n",
       "3    97       48\n",
       "4    49       75"
      ]
     },
     "execution_count": 44,
     "metadata": {},
     "output_type": "execute_result"
    }
   ],
   "source": [
    "df = pd.DataFrame({'math':math, 'physics':physics})\n",
    "df.head()"
   ]
  },
  {
   "cell_type": "code",
   "execution_count": 22,
   "metadata": {},
   "outputs": [],
   "source": [
    "import matplotlib.pyplot as plt\n",
    "import seaborn as sns"
   ]
  },
  {
   "cell_type": "code",
   "execution_count": 45,
   "metadata": {},
   "outputs": [
    {
     "data": {
      "image/png": "[encoded data removed]",
      "text/plain": [
       "<Figure size 432x432 with 3 Axes>"
      ]
     },
     "metadata": {
      "needs_background": "light"
     },
     "output_type": "display_data"
    },
    {
     "data": {
      "image/png": "[encoded data removed]",
      "text/plain": [
       "<Figure size 432x432 with 3 Axes>"
      ]
     },
     "metadata": {
      "needs_background": "light"
     },
     "output_type": "display_data"
    }
   ],
   "source": [
    "sns.jointplot(data=df, x=\"math\", y=\"physics\");\n",
    "sns.jointplot(data=df, x=\"math\", y=\"physics\", kind='kde');"
   ]
  },
  {
   "cell_type": "code",
   "execution_count": 46,
   "metadata": {},
   "outputs": [],
   "source": [
    "# data for university B\n",
    "\n",
    "# math_b = np.random.normal(90, 15, 100)\n",
    "# physics_b = np.random.normal(60, 12, 100)\n",
    "\n",
    "math_b = np.random.normal(70, 7, 100)\n",
    "physics_b = np.random.normal(65, 5, 100)"
   ]
  },
  {
   "cell_type": "code",
   "execution_count": 47,
   "metadata": {},
   "outputs": [
    {
     "data": {
      "text/html": [
       "<div>\n",
       "<style scoped>\n",
       "    .dataframe tbody tr th:only-of-type {\n",
       "        vertical-align: middle;\n",
       "    }\n",
       "\n",
       "    .dataframe tbody tr th {\n",
       "        vertical-align: top;\n",
       "    }\n",
       "\n",
       "    .dataframe thead th {\n",
       "        text-align: right;\n",
       "    }\n",
       "</style>\n",
       "<table border=\"1\" class=\"dataframe\">\n",
       "  <thead>\n",
       "    <tr style=\"text-align: right;\">\n",
       "      <th></th>\n",
       "      <th>math</th>\n",
       "      <th>physics</th>\n",
       "    </tr>\n",
       "  </thead>\n",
       "  <tbody>\n",
       "    <tr>\n",
       "      <th>0</th>\n",
       "      <td>71.281878</td>\n",
       "      <td>62.638932</td>\n",
       "    </tr>\n",
       "    <tr>\n",
       "      <th>1</th>\n",
       "      <td>71.917161</td>\n",
       "      <td>66.056444</td>\n",
       "    </tr>\n",
       "    <tr>\n",
       "      <th>2</th>\n",
       "      <td>66.695213</td>\n",
       "      <td>72.769420</td>\n",
       "    </tr>\n",
       "    <tr>\n",
       "      <th>3</th>\n",
       "      <td>83.934835</td>\n",
       "      <td>65.705535</td>\n",
       "    </tr>\n",
       "    <tr>\n",
       "      <th>4</th>\n",
       "      <td>75.730759</td>\n",
       "      <td>69.151745</td>\n",
       "    </tr>\n",
       "  </tbody>\n",
       "</table>\n",
       "</div>"
      ],
      "text/plain": [
       "        math    physics\n",
       "0  71.281878  62.638932\n",
       "1  71.917161  66.056444\n",
       "2  66.695213  72.769420\n",
       "3  83.934835  65.705535\n",
       "4  75.730759  69.151745"
      ]
     },
     "execution_count": 47,
     "metadata": {},
     "output_type": "execute_result"
    }
   ],
   "source": [
    "df_b = pd.DataFrame({'math':math_b, 'physics':physics_b})\n",
    "df_b.head()"
   ]
  },
  {
   "cell_type": "code",
   "execution_count": 48,
   "metadata": {},
   "outputs": [
    {
     "data": {
      "image/png": "[encoded data removed]",
      "text/plain": [
       "<Figure size 432x432 with 3 Axes>"
      ]
     },
     "metadata": {
      "needs_background": "light"
     },
     "output_type": "display_data"
    },
    {
     "data": {
      "image/png": "[encoded data removed]",
      "text/plain": [
       "<Figure size 432x432 with 3 Axes>"
      ]
     },
     "metadata": {
      "needs_background": "light"
     },
     "output_type": "display_data"
    }
   ],
   "source": [
    "sns.jointplot(data=df_b, x=\"math\", y=\"physics\");\n",
    "sns.jointplot(data=df_b, x=\"math\", y=\"physics\", kind='kde');"
   ]
  },
  {
   "cell_type": "code",
   "execution_count": 49,
   "metadata": {},
   "outputs": [
    {
     "data": {
      "image/png": "[encoded data removed]",
      "text/plain": [
       "<Figure size 432x432 with 3 Axes>"
      ]
     },
     "metadata": {
      "needs_background": "light"
     },
     "output_type": "display_data"
    },
    {
     "data": {
      "image/png": "[encoded data removed]",
      "text/plain": [
       "<Figure size 432x432 with 3 Axes>"
      ]
     },
     "metadata": {
      "needs_background": "light"
     },
     "output_type": "display_data"
    }
   ],
   "source": [
    "sns.jointplot(data=df, x=\"math\", y=\"physics\", kind='kde');\n",
    "sns.jointplot(data=df_b, x=\"math\", y=\"physics\", kind='kde', color='red');"
   ]
  },
  {
   "cell_type": "code",
   "execution_count": 50,
   "metadata": {},
   "outputs": [],
   "source": [
    "df['cluster_label'] = 'a'\n",
    "df_b['cluster_label'] = 'b'\n",
    "final_data = pd.concat([df, df_b], ignore_index=True)"
   ]
  },
  {
   "cell_type": "code",
   "execution_count": 14,
   "metadata": {},
   "outputs": [
    {
     "data": {
      "text/html": [
       "<div>\n",
       "<style scoped>\n",
       "    .dataframe tbody tr th:only-of-type {\n",
       "        vertical-align: middle;\n",
       "    }\n",
       "\n",
       "    .dataframe tbody tr th {\n",
       "        vertical-align: top;\n",
       "    }\n",
       "\n",
       "    .dataframe thead th {\n",
       "        text-align: right;\n",
       "    }\n",
       "</style>\n",
       "<table border=\"1\" class=\"dataframe\">\n",
       "  <thead>\n",
       "    <tr style=\"text-align: right;\">\n",
       "      <th></th>\n",
       "      <th>math</th>\n",
       "      <th>physics</th>\n",
       "      <th>cluster_label</th>\n",
       "    </tr>\n",
       "  </thead>\n",
       "  <tbody>\n",
       "    <tr>\n",
       "      <th>0</th>\n",
       "      <td>66.076559</td>\n",
       "      <td>75.022671</td>\n",
       "      <td>a</td>\n",
       "    </tr>\n",
       "    <tr>\n",
       "      <th>1</th>\n",
       "      <td>64.586847</td>\n",
       "      <td>69.406581</td>\n",
       "      <td>a</td>\n",
       "    </tr>\n",
       "    <tr>\n",
       "      <th>2</th>\n",
       "      <td>59.885286</td>\n",
       "      <td>97.052915</td>\n",
       "      <td>a</td>\n",
       "    </tr>\n",
       "    <tr>\n",
       "      <th>3</th>\n",
       "      <td>61.079548</td>\n",
       "      <td>82.229301</td>\n",
       "      <td>a</td>\n",
       "    </tr>\n",
       "    <tr>\n",
       "      <th>4</th>\n",
       "      <td>54.876702</td>\n",
       "      <td>77.317490</td>\n",
       "      <td>a</td>\n",
       "    </tr>\n",
       "  </tbody>\n",
       "</table>\n",
       "</div>"
      ],
      "text/plain": [
       "        math    physics cluster_label\n",
       "0  66.076559  75.022671             a\n",
       "1  64.586847  69.406581             a\n",
       "2  59.885286  97.052915             a\n",
       "3  61.079548  82.229301             a\n",
       "4  54.876702  77.317490             a"
      ]
     },
     "execution_count": 14,
     "metadata": {},
     "output_type": "execute_result"
    }
   ],
   "source": [
    "final_data.head()"
   ]
  },
  {
   "cell_type": "markdown",
   "metadata": {},
   "source": [
    "### Q2. how many clusters do you think below dataset has?"
   ]
  },
  {
   "cell_type": "code",
   "execution_count": 51,
   "metadata": {},
   "outputs": [
    {
     "data": {
      "application/vnd.plotly.v1+json": {
       "config": {
        "plotlyServerURL": "https://plot.ly"
       },
       "data": [
        {
         "hovertemplate": "math=%{x}<br>physics=%{y}<extra></extra>",
         "legendgroup": "",
         "marker": {
          "color": "#636efa",
          "symbol": "circle"
         },
         "mode": "markers",
         "name": "",
         "orientation": "v",
         "showlegend": false,
         "type": "scatter",
         "x": [
          70,
          75,
          30,
          97,
          49,
          63,
          88,
          76,
          42,
          61,
          3,
          67,
          27,
          88,
          14,
          42,
          28,
          3,
          23,
          62,
          87,
          79,
          65,
          97,
          20,
          2,
          38,
          77,
          58,
          39,
          71.28187765809932,
          71.91716110401124,
          66.69521276083815,
          83.93483516253144,
          75.73075925599002,
          67.42669675320873,
          69.9052830742527,
          79.74890627255651,
          65.37132505456546,
          86.78110091769466,
          73.18407309846226,
          70.4330655045019,
          70.6901263465099,
          75.96891446738114,
          66.30264445427225,
          77.51422462716504,
          65.35588712701349,
          74.53307025702178,
          68.79202955087644,
          75.4114563546538,
          71.62005205542117,
          70.22732960801879,
          88.7266879161001,
          66.94403770063015,
          55.41959922280988,
          75.56930253259,
          70.95412263359933,
          56.61601777752417,
          82.98480254819444,
          73.21412930503058,
          69.31738741133115,
          73.64312448579825,
          71.07047413948224,
          72.21200682047981,
          68.64864929507594,
          72.78424683822811,
          61.95809574655149,
          71.2499128157341,
          72.04935728626818,
          65.91285882309327,
          57.49727083955462,
          76.48761538998963,
          67.4786132983779,
          63.445903648592534,
          69.77362123765089,
          59.58827914719643,
          65.70098142697108,
          75.24917081678419,
          79.16601584753856,
          78.93214766068846,
          73.72913211608092,
          72.06854094418746,
          67.74193019490403,
          68.78581087599554,
          66.82340486530545,
          77.28472130801588,
          69.11179665799757,
          77.88787021765361,
          74.2832948297286,
          77.035669426034,
          66.77388167829517,
          89.6978739435193,
          74.43658208354205,
          69.31444560857975,
          67.98861062554526,
          71.59518026607861,
          69.15313936325438,
          77.83533289010873,
          70.71619361571985,
          65.76633807724349,
          70.38212669291812,
          71.46803784412599,
          63.80272796046653,
          76.01371457715004,
          64.50231082732142,
          66.00984928856629,
          70.20976371770416,
          67.3495659621436,
          73.47223880527606,
          76.3201715202261,
          68.74380236773496,
          86.928301201331,
          76.72491609729335,
          65.32264022920344,
          73.83338562327533,
          74.90247265039935,
          55.241543796136,
          67.36398762118642,
          56.80606798676351,
          60.43910297544183,
          72.33415355230282,
          74.69976335906742,
          71.00529960412581,
          71.75747671088264,
          68.47891194930895,
          78.03198240356247,
          74.48510738874619,
          65.9244923447258,
          74.40493605483226,
          71.06385471648596
         ],
         "xaxis": "x",
         "y": [
          93,
          96,
          51,
          48,
          75,
          59,
          81,
          81,
          63,
          14,
          78,
          96,
          65,
          47,
          95,
          21,
          72,
          73,
          85,
          43,
          37,
          91,
          5,
          39,
          27,
          97,
          4,
          32,
          38,
          71,
          62.63893159222321,
          66.05644418775982,
          72.76942047913981,
          65.70553530558836,
          69.15174513066796,
          59.49178433501169,
          69.82398765302179,
          65.90956742279401,
          54.76334298328307,
          60.23653014528579,
          70.57067633575188,
          66.15564069595398,
          66.16821335064546,
          67.04485479549028,
          65.75256336389964,
          70.03158580548684,
          64.52683940826734,
          63.803885393402005,
          63.564486714835034,
          71.10121515698886,
          65.15836776914267,
          68.54788850215947,
          68.98586710891239,
          74.67535904467833,
          55.82660963588761,
          75.55572242715843,
          63.91063941978851,
          71.26153921556163,
          68.04245803548423,
          56.23188200480557,
          67.35910635460274,
          64.66872966629201,
          65.13977056447723,
          60.85648548081161,
          64.76530952492868,
          70.51530057842255,
          61.98032540247571,
          64.65703830845503,
          61.537056465314784,
          72.63331395294556,
          60.95222223245032,
          64.50886333123725,
          69.95354336692311,
          61.22225099062128,
          67.70057487885141,
          56.12048884964612,
          62.797477576277906,
          67.46030088474318,
          64.70733783719848,
          66.5949435455039,
          60.86853317638671,
          65.74286019895855,
          66.08869924496757,
          66.76696108632802,
          55.453193117658806,
          69.39336725936855,
          68.0527991534317,
          64.19414367669118,
          66.97375100359288,
          64.64576233474347,
          62.03162827672467,
          62.21998233267958,
          68.56495778186648,
          70.35399740190047,
          65.69617458826494,
          61.374266802174574,
          59.77180956770508,
          63.27352786281094,
          73.30397654157551,
          59.78957134221782,
          59.31364979009566,
          70.63773675992462,
          70.20109715195193,
          63.04933855004315,
          61.90116728889453,
          70.39309156240233,
          63.28307436048172,
          64.9254231472487,
          71.01539013077911,
          66.3575177054356,
          61.57647003750469,
          67.63997477869984,
          63.28289588037207,
          72.81014837039892,
          63.36656582833228,
          65.0389026810893,
          69.58630011908532,
          69.65036693677709,
          69.95650002831984,
          59.75870255647972,
          62.44360842018577,
          60.38931263249352,
          65.56417858411375,
          64.34221036079218,
          59.83745145639198,
          53.194294467854746,
          58.62991001224093,
          76.4081990496922,
          65.58648506404846,
          59.53709498113459
         ],
         "yaxis": "y"
        },
        {
         "alignmentgroup": "True",
         "bingroup": "x",
         "hovertemplate": "math=%{x}<br>count=%{y}<extra></extra>",
         "legendgroup": "",
         "marker": {
          "color": "#636efa"
         },
         "name": "",
         "offsetgroup": "",
         "opacity": 0.5,
         "showlegend": false,
         "type": "histogram",
         "x": [
          70,
          75,
          30,
          97,
          49,
          63,
          88,
          76,
          42,
          61,
          3,
          67,
          27,
          88,
          14,
          42,
          28,
          3,
          23,
          62,
          87,
          79,
          65,
          97,
          20,
          2,
          38,
          77,
          58,
          39,
          71.28187765809932,
          71.91716110401124,
          66.69521276083815,
          83.93483516253144,
          75.73075925599002,
          67.42669675320873,
          69.9052830742527,
          79.74890627255651,
          65.37132505456546,
          86.78110091769466,
          73.18407309846226,
          70.4330655045019,
          70.6901263465099,
          75.96891446738114,
          66.30264445427225,
          77.51422462716504,
          65.35588712701349,
          74.53307025702178,
          68.79202955087644,
          75.4114563546538,
          71.62005205542117,
          70.22732960801879,
          88.7266879161001,
          66.94403770063015,
          55.41959922280988,
          75.56930253259,
          70.95412263359933,
          56.61601777752417,
          82.98480254819444,
          73.21412930503058,
          69.31738741133115,
          73.64312448579825,
          71.07047413948224,
          72.21200682047981,
          68.64864929507594,
          72.78424683822811,
          61.95809574655149,
          71.2499128157341,
          72.04935728626818,
          65.91285882309327,
          57.49727083955462,
          76.48761538998963,
          67.4786132983779,
          63.445903648592534,
          69.77362123765089,
          59.58827914719643,
          65.70098142697108,
          75.24917081678419,
          79.16601584753856,
          78.93214766068846,
          73.72913211608092,
          72.06854094418746,
          67.74193019490403,
          68.78581087599554,
          66.82340486530545,
          77.28472130801588,
          69.11179665799757,
          77.88787021765361,
          74.2832948297286,
          77.035669426034,
          66.77388167829517,
          89.6978739435193,
          74.43658208354205,
          69.31444560857975,
          67.98861062554526,
          71.59518026607861,
          69.15313936325438,
          77.83533289010873,
          70.71619361571985,
          65.76633807724349,
          70.38212669291812,
          71.46803784412599,
          63.80272796046653,
          76.01371457715004,
          64.50231082732142,
          66.00984928856629,
          70.20976371770416,
          67.3495659621436,
          73.47223880527606,
          76.3201715202261,
          68.74380236773496,
          86.928301201331,
          76.72491609729335,
          65.32264022920344,
          73.83338562327533,
          74.90247265039935,
          55.241543796136,
          67.36398762118642,
          56.80606798676351,
          60.43910297544183,
          72.33415355230282,
          74.69976335906742,
          71.00529960412581,
          71.75747671088264,
          68.47891194930895,
          78.03198240356247,
          74.48510738874619,
          65.9244923447258,
          74.40493605483226,
          71.06385471648596
         ],
         "xaxis": "x3",
         "yaxis": "y3"
        },
        {
         "alignmentgroup": "True",
         "bingroup": "y",
         "hovertemplate": "physics=%{y}<br>count=%{x}<extra></extra>",
         "legendgroup": "",
         "marker": {
          "color": "#636efa"
         },
         "name": "",
         "offsetgroup": "",
         "opacity": 0.5,
         "showlegend": false,
         "type": "histogram",
         "xaxis": "x2",
         "y": [
          93,
          96,
          51,
          48,
          75,
          59,
          81,
          81,
          63,
          14,
          78,
          96,
          65,
          47,
          95,
          21,
          72,
          73,
          85,
          43,
          37,
          91,
          5,
          39,
          27,
          97,
          4,
          32,
          38,
          71,
          62.63893159222321,
          66.05644418775982,
          72.76942047913981,
          65.70553530558836,
          69.15174513066796,
          59.49178433501169,
          69.82398765302179,
          65.90956742279401,
          54.76334298328307,
          60.23653014528579,
          70.57067633575188,
          66.15564069595398,
          66.16821335064546,
          67.04485479549028,
          65.75256336389964,
          70.03158580548684,
          64.52683940826734,
          63.803885393402005,
          63.564486714835034,
          71.10121515698886,
          65.15836776914267,
          68.54788850215947,
          68.98586710891239,
          74.67535904467833,
          55.82660963588761,
          75.55572242715843,
          63.91063941978851,
          71.26153921556163,
          68.04245803548423,
          56.23188200480557,
          67.35910635460274,
          64.66872966629201,
          65.13977056447723,
          60.85648548081161,
          64.76530952492868,
          70.51530057842255,
          61.98032540247571,
          64.65703830845503,
          61.537056465314784,
          72.63331395294556,
          60.95222223245032,
          64.50886333123725,
          69.95354336692311,
          61.22225099062128,
          67.70057487885141,
          56.12048884964612,
          62.797477576277906,
          67.46030088474318,
          64.70733783719848,
          66.5949435455039,
          60.86853317638671,
          65.74286019895855,
          66.08869924496757,
          66.76696108632802,
          55.453193117658806,
          69.39336725936855,
          68.0527991534317,
          64.19414367669118,
          66.97375100359288,
          64.64576233474347,
          62.03162827672467,
          62.21998233267958,
          68.56495778186648,
          70.35399740190047,
          65.69617458826494,
          61.374266802174574,
          59.77180956770508,
          63.27352786281094,
          73.30397654157551,
          59.78957134221782,
          59.31364979009566,
          70.63773675992462,
          70.20109715195193,
          63.04933855004315,
          61.90116728889453,
          70.39309156240233,
          63.28307436048172,
          64.9254231472487,
          71.01539013077911,
          66.3575177054356,
          61.57647003750469,
          67.63997477869984,
          63.28289588037207,
          72.81014837039892,
          63.36656582833228,
          65.0389026810893,
          69.58630011908532,
          69.65036693677709,
          69.95650002831984,
          59.75870255647972,
          62.44360842018577,
          60.38931263249352,
          65.56417858411375,
          64.34221036079218,
          59.83745145639198,
          53.194294467854746,
          58.62991001224093,
          76.4081990496922,
          65.58648506404846,
          59.53709498113459
         ],
         "yaxis": "y2"
        }
       ],
       "layout": {
        "barmode": "overlay",
        "legend": {
         "tracegroupgap": 0
        },
        "margin": {
         "t": 60
        },
        "template": {
         "data": {
          "bar": [
           {
            "error_x": {
             "color": "#2a3f5f"
            },
            "error_y": {
             "color": "#2a3f5f"
            },
            "marker": {
             "line": {
              "color": "#E5ECF6",
              "width": 0.5
             },
             "pattern": {
              "fillmode": "overlay",
              "size": 10,
              "solidity": 0.2
             }
            },
            "type": "bar"
           }
          ],
          "barpolar": [
           {
            "marker": {
             "line": {
              "color": "#E5ECF6",
              "width": 0.5
             },
             "pattern": {
              "fillmode": "overlay",
              "size": 10,
              "solidity": 0.2
             }
            },
            "type": "barpolar"
           }
          ],
          "carpet": [
           {
            "aaxis": {
             "endlinecolor": "#2a3f5f",
             "gridcolor": "white",
             "linecolor": "white",
             "minorgridcolor": "white",
             "startlinecolor": "#2a3f5f"
            },
            "baxis": {
             "endlinecolor": "#2a3f5f",
             "gridcolor": "white",
             "linecolor": "white",
             "minorgridcolor": "white",
             "startlinecolor": "#2a3f5f"
            },
            "type": "carpet"
           }
          ],
          "choropleth": [
           {
            "colorbar": {
             "outlinewidth": 0,
             "ticks": ""
            },
            "type": "choropleth"
           }
          ],
          "contour": [
           {
            "colorbar": {
             "outlinewidth": 0,
             "ticks": ""
            },
            "colorscale": [
             [
              0,
              "#0d0887"
             ],
             [
              0.1111111111111111,
              "#46039f"
             ],
             [
              0.2222222222222222,
              "#7201a8"
             ],
             [
              0.3333333333333333,
              "#9c179e"
             ],
             [
              0.4444444444444444,
              "#bd3786"
             ],
             [
              0.5555555555555556,
              "#d8576b"
             ],
             [
              0.6666666666666666,
              "#ed7953"
             ],
             [
              0.7777777777777778,
              "#fb9f3a"
             ],
             [
              0.8888888888888888,
              "#fdca26"
             ],
             [
              1,
              "#f0f921"
             ]
            ],
            "type": "contour"
           }
          ],
          "contourcarpet": [
           {
            "colorbar": {
             "outlinewidth": 0,
             "ticks": ""
            },
            "type": "contourcarpet"
           }
          ],
          "heatmap": [
           {
            "colorbar": {
             "outlinewidth": 0,
             "ticks": ""
            },
            "colorscale": [
             [
              0,
              "#0d0887"
             ],
             [
              0.1111111111111111,
              "#46039f"
             ],
             [
              0.2222222222222222,
              "#7201a8"
             ],
             [
              0.3333333333333333,
              "#9c179e"
             ],
             [
              0.4444444444444444,
              "#bd3786"
             ],
             [
              0.5555555555555556,
              "#d8576b"
             ],
             [
              0.6666666666666666,
              "#ed7953"
             ],
             [
              0.7777777777777778,
              "#fb9f3a"
             ],
             [
              0.8888888888888888,
              "#fdca26"
             ],
             [
              1,
              "#f0f921"
             ]
            ],
            "type": "heatmap"
           }
          ],
          "heatmapgl": [
           {
            "colorbar": {
             "outlinewidth": 0,
             "ticks": ""
            },
            "colorscale": [
             [
              0,
              "#0d0887"
             ],
             [
              0.1111111111111111,
              "#46039f"
             ],
             [
              0.2222222222222222,
              "#7201a8"
             ],
             [
              0.3333333333333333,
              "#9c179e"
             ],
             [
              0.4444444444444444,
              "#bd3786"
             ],
             [
              0.5555555555555556,
              "#d8576b"
             ],
             [
              0.6666666666666666,
              "#ed7953"
             ],
             [
              0.7777777777777778,
              "#fb9f3a"
             ],
             [
              0.8888888888888888,
              "#fdca26"
             ],
             [
              1,
              "#f0f921"
             ]
            ],
            "type": "heatmapgl"
           }
          ],
          "histogram": [
           {
            "marker": {
             "pattern": {
              "fillmode": "overlay",
              "size": 10,
              "solidity": 0.2
             }
            },
            "type": "histogram"
           }
          ],
          "histogram2d": [
           {
            "colorbar": {
             "outlinewidth": 0,
             "ticks": ""
            },
            "colorscale": [
             [
              0,
              "#0d0887"
             ],
             [
              0.1111111111111111,
              "#46039f"
             ],
             [
              0.2222222222222222,
              "#7201a8"
             ],
             [
              0.3333333333333333,
              "#9c179e"
             ],
             [
              0.4444444444444444,
              "#bd3786"
             ],
             [
              0.5555555555555556,
              "#d8576b"
             ],
             [
              0.6666666666666666,
              "#ed7953"
             ],
             [
              0.7777777777777778,
              "#fb9f3a"
             ],
             [
              0.8888888888888888,
              "#fdca26"
             ],
             [
              1,
              "#f0f921"
             ]
            ],
            "type": "histogram2d"
           }
          ],
          "histogram2dcontour": [
           {
            "colorbar": {
             "outlinewidth": 0,
             "ticks": ""
            },
            "colorscale": [
             [
              0,
              "#0d0887"
             ],
             [
              0.1111111111111111,
              "#46039f"
             ],
             [
              0.2222222222222222,
              "#7201a8"
             ],
             [
              0.3333333333333333,
              "#9c179e"
             ],
             [
              0.4444444444444444,
              "#bd3786"
             ],
             [
              0.5555555555555556,
              "#d8576b"
             ],
             [
              0.6666666666666666,
              "#ed7953"
             ],
             [
              0.7777777777777778,
              "#fb9f3a"
             ],
             [
              0.8888888888888888,
              "#fdca26"
             ],
             [
              1,
              "#f0f921"
             ]
            ],
            "type": "histogram2dcontour"
           }
          ],
          "mesh3d": [
           {
            "colorbar": {
             "outlinewidth": 0,
             "ticks": ""
            },
            "type": "mesh3d"
           }
          ],
          "parcoords": [
           {
            "line": {
             "colorbar": {
              "outlinewidth": 0,
              "ticks": ""
             }
            },
            "type": "parcoords"
           }
          ],
          "pie": [
           {
            "automargin": true,
            "type": "pie"
           }
          ],
          "scatter": [
           {
            "marker": {
             "colorbar": {
              "outlinewidth": 0,
              "ticks": ""
             }
            },
            "type": "scatter"
           }
          ],
          "scatter3d": [
           {
            "line": {
             "colorbar": {
              "outlinewidth": 0,
              "ticks": ""
             }
            },
            "marker": {
             "colorbar": {
              "outlinewidth": 0,
              "ticks": ""
             }
            },
            "type": "scatter3d"
           }
          ],
          "scattercarpet": [
           {
            "marker": {
             "colorbar": {
              "outlinewidth": 0,
              "ticks": ""
             }
            },
            "type": "scattercarpet"
           }
          ],
          "scattergeo": [
           {
            "marker": {
             "colorbar": {
              "outlinewidth": 0,
              "ticks": ""
             }
            },
            "type": "scattergeo"
           }
          ],
          "scattergl": [
           {
            "marker": {
             "colorbar": {
              "outlinewidth": 0,
              "ticks": ""
             }
            },
            "type": "scattergl"
           }
          ],
          "scattermapbox": [
           {
            "marker": {
             "colorbar": {
              "outlinewidth": 0,
              "ticks": ""
             }
            },
            "type": "scattermapbox"
           }
          ],
          "scatterpolar": [
           {
            "marker": {
             "colorbar": {
              "outlinewidth": 0,
              "ticks": ""
             }
            },
            "type": "scatterpolar"
           }
          ],
          "scatterpolargl": [
           {
            "marker": {
             "colorbar": {
              "outlinewidth": 0,
              "ticks": ""
             }
            },
            "type": "scatterpolargl"
           }
          ],
          "scatterternary": [
           {
            "marker": {
             "colorbar": {
              "outlinewidth": 0,
              "ticks": ""
             }
            },
            "type": "scatterternary"
           }
          ],
          "surface": [
           {
            "colorbar": {
             "outlinewidth": 0,
             "ticks": ""
            },
            "colorscale": [
             [
              0,
              "#0d0887"
             ],
             [
              0.1111111111111111,
              "#46039f"
             ],
             [
              0.2222222222222222,
              "#7201a8"
             ],
             [
              0.3333333333333333,
              "#9c179e"
             ],
             [
              0.4444444444444444,
              "#bd3786"
             ],
             [
              0.5555555555555556,
              "#d8576b"
             ],
             [
              0.6666666666666666,
              "#ed7953"
             ],
             [
              0.7777777777777778,
              "#fb9f3a"
             ],
             [
              0.8888888888888888,
              "#fdca26"
             ],
             [
              1,
              "#f0f921"
             ]
            ],
            "type": "surface"
           }
          ],
          "table": [
           {
            "cells": {
             "fill": {
              "color": "#EBF0F8"
             },
             "line": {
              "color": "white"
             }
            },
            "header": {
             "fill": {
              "color": "#C8D4E3"
             },
             "line": {
              "color": "white"
             }
            },
            "type": "table"
           }
          ]
         },
         "layout": {
          "annotationdefaults": {
           "arrowcolor": "#2a3f5f",
           "arrowhead": 0,
           "arrowwidth": 1
          },
          "autotypenumbers": "strict",
          "coloraxis": {
           "colorbar": {
            "outlinewidth": 0,
            "ticks": ""
           }
          },
          "colorscale": {
           "diverging": [
            [
             0,
             "#8e0152"
            ],
            [
             0.1,
             "#c51b7d"
            ],
            [
             0.2,
             "#de77ae"
            ],
            [
             0.3,
             "#f1b6da"
            ],
            [
             0.4,
             "#fde0ef"
            ],
            [
             0.5,
             "#f7f7f7"
            ],
            [
             0.6,
             "#e6f5d0"
            ],
            [
             0.7,
             "#b8e186"
            ],
            [
             0.8,
             "#7fbc41"
            ],
            [
             0.9,
             "#4d9221"
            ],
            [
             1,
             "#276419"
            ]
           ],
           "sequential": [
            [
             0,
             "#0d0887"
            ],
            [
             0.1111111111111111,
             "#46039f"
            ],
            [
             0.2222222222222222,
             "#7201a8"
            ],
            [
             0.3333333333333333,
             "#9c179e"
            ],
            [
             0.4444444444444444,
             "#bd3786"
            ],
            [
             0.5555555555555556,
             "#d8576b"
            ],
            [
             0.6666666666666666,
             "#ed7953"
            ],
            [
             0.7777777777777778,
             "#fb9f3a"
            ],
            [
             0.8888888888888888,
             "#fdca26"
            ],
            [
             1,
             "#f0f921"
            ]
           ],
           "sequentialminus": [
            [
             0,
             "#0d0887"
            ],
            [
             0.1111111111111111,
             "#46039f"
            ],
            [
             0.2222222222222222,
             "#7201a8"
            ],
            [
             0.3333333333333333,
             "#9c179e"
            ],
            [
             0.4444444444444444,
             "#bd3786"
            ],
            [
             0.5555555555555556,
             "#d8576b"
            ],
            [
             0.6666666666666666,
             "#ed7953"
            ],
            [
             0.7777777777777778,
             "#fb9f3a"
            ],
            [
             0.8888888888888888,
             "#fdca26"
            ],
            [
             1,
             "#f0f921"
            ]
           ]
          },
          "colorway": [
           "#636efa",
           "#EF553B",
           "#00cc96",
           "#ab63fa",
           "#FFA15A",
           "#19d3f3",
           "#FF6692",
           "#B6E880",
           "#FF97FF",
           "#FECB52"
          ],
          "font": {
           "color": "#2a3f5f"
          },
          "geo": {
           "bgcolor": "white",
           "lakecolor": "white",
           "landcolor": "#E5ECF6",
           "showlakes": true,
           "showland": true,
           "subunitcolor": "white"
          },
          "hoverlabel": {
           "align": "left"
          },
          "hovermode": "closest",
          "mapbox": {
           "style": "light"
          },
          "paper_bgcolor": "white",
          "plot_bgcolor": "#E5ECF6",
          "polar": {
           "angularaxis": {
            "gridcolor": "white",
            "linecolor": "white",
            "ticks": ""
           },
           "bgcolor": "#E5ECF6",
           "radialaxis": {
            "gridcolor": "white",
            "linecolor": "white",
            "ticks": ""
           }
          },
          "scene": {
           "xaxis": {
            "backgroundcolor": "#E5ECF6",
            "gridcolor": "white",
            "gridwidth": 2,
            "linecolor": "white",
            "showbackground": true,
            "ticks": "",
            "zerolinecolor": "white"
           },
           "yaxis": {
            "backgroundcolor": "#E5ECF6",
            "gridcolor": "white",
            "gridwidth": 2,
            "linecolor": "white",
            "showbackground": true,
            "ticks": "",
            "zerolinecolor": "white"
           },
           "zaxis": {
            "backgroundcolor": "#E5ECF6",
            "gridcolor": "white",
            "gridwidth": 2,
            "linecolor": "white",
            "showbackground": true,
            "ticks": "",
            "zerolinecolor": "white"
           }
          },
          "shapedefaults": {
           "line": {
            "color": "#2a3f5f"
           }
          },
          "ternary": {
           "aaxis": {
            "gridcolor": "white",
            "linecolor": "white",
            "ticks": ""
           },
           "baxis": {
            "gridcolor": "white",
            "linecolor": "white",
            "ticks": ""
           },
           "bgcolor": "#E5ECF6",
           "caxis": {
            "gridcolor": "white",
            "linecolor": "white",
            "ticks": ""
           }
          },
          "title": {
           "x": 0.05
          },
          "xaxis": {
           "automargin": true,
           "gridcolor": "white",
           "linecolor": "white",
           "ticks": "",
           "title": {
            "standoff": 15
           },
           "zerolinecolor": "white",
           "zerolinewidth": 2
          },
          "yaxis": {
           "automargin": true,
           "gridcolor": "white",
           "linecolor": "white",
           "ticks": "",
           "title": {
            "standoff": 15
           },
           "zerolinecolor": "white",
           "zerolinewidth": 2
          }
         }
        },
        "xaxis": {
         "anchor": "y",
         "domain": [
          0,
          0.7363
         ],
         "title": {
          "text": "math"
         }
        },
        "xaxis2": {
         "anchor": "y2",
         "domain": [
          0.7413,
          1
         ],
         "matches": "x2",
         "showgrid": true,
         "showline": false,
         "showticklabels": false,
         "ticks": ""
        },
        "xaxis3": {
         "anchor": "y3",
         "domain": [
          0,
          0.7363
         ],
         "matches": "x",
         "showgrid": true,
         "showticklabels": false
        },
        "xaxis4": {
         "anchor": "y4",
         "domain": [
          0.7413,
          1
         ],
         "matches": "x2",
         "showgrid": true,
         "showline": false,
         "showticklabels": false,
         "ticks": ""
        },
        "yaxis": {
         "anchor": "x",
         "domain": [
          0,
          0.7326
         ],
         "title": {
          "text": "physics"
         }
        },
        "yaxis2": {
         "anchor": "x2",
         "domain": [
          0,
          0.7326
         ],
         "matches": "y",
         "showgrid": true,
         "showticklabels": false
        },
        "yaxis3": {
         "anchor": "x3",
         "domain": [
          0.7426,
          1
         ],
         "matches": "y3",
         "showgrid": true,
         "showline": false,
         "showticklabels": false,
         "ticks": ""
        },
        "yaxis4": {
         "anchor": "x4",
         "domain": [
          0.7426,
          1
         ],
         "matches": "y3",
         "showgrid": true,
         "showline": false,
         "showticklabels": false,
         "ticks": ""
        }
       }
      },
      "text/html": [
       "<div>                            <div id=\"d9a7ca39-cf65-477a-8871-827a697170b9\" class=\"plotly-graph-div\" style=\"height:525px; width:100%;\"></div>            <script type=\"text/javascript\">                require([\"plotly\"], function(Plotly) {                    window.PLOTLYENV=window.PLOTLYENV || {};                                    if (document.getElementById(\"d9a7ca39-cf65-477a-8871-827a697170b9\")) {                    Plotly.newPlot(                        \"d9a7ca39-cf65-477a-8871-827a697170b9\",                        [{\"hovertemplate\":\"math=%{x}<br>physics=%{y}<extra></extra>\",\"legendgroup\":\"\",\"marker\":{\"color\":\"#636efa\",\"symbol\":\"circle\"},\"mode\":\"markers\",\"name\":\"\",\"orientation\":\"v\",\"showlegend\":false,\"type\":\"scatter\",\"x\":[70.0,75.0,30.0,97.0,49.0,63.0,88.0,76.0,42.0,61.0,3.0,67.0,27.0,88.0,14.0,42.0,28.0,3.0,23.0,62.0,87.0,79.0,65.0,97.0,20.0,2.0,38.0,77.0,58.0,39.0,71.28187765809932,71.91716110401124,66.69521276083815,83.93483516253144,75.73075925599002,67.42669675320873,69.9052830742527,79.74890627255651,65.37132505456546,86.78110091769466,73.18407309846226,70.4330655045019,70.6901263465099,75.96891446738114,66.30264445427225,77.51422462716504,65.35588712701349,74.53307025702178,68.79202955087644,75.4114563546538,71.62005205542117,70.22732960801879,88.7266879161001,66.94403770063015,55.41959922280988,75.56930253259,70.95412263359933,56.61601777752417,82.98480254819444,73.21412930503058,69.31738741133115,73.64312448579825,71.07047413948224,72.21200682047981,68.64864929507594,72.78424683822811,61.95809574655149,71.2499128157341,72.04935728626818,65.91285882309327,57.49727083955462,76.48761538998963,67.4786132983779,63.445903648592534,69.77362123765089,59.58827914719643,65.70098142697108,75.24917081678419,79.16601584753856,78.93214766068846,73.72913211608092,72.06854094418746,67.74193019490403,68.78581087599554,66.82340486530545,77.28472130801588,69.11179665799757,77.88787021765361,74.2832948297286,77.035669426034,66.77388167829517,89.6978739435193,74.43658208354205,69.31444560857975,67.98861062554526,71.59518026607861,69.15313936325438,77.83533289010873,70.71619361571985,65.76633807724349,70.38212669291812,71.46803784412599,63.80272796046653,76.01371457715004,64.50231082732142,66.00984928856629,70.20976371770416,67.3495659621436,73.47223880527606,76.3201715202261,68.74380236773496,86.928301201331,76.72491609729335,65.32264022920344,73.83338562327533,74.90247265039935,55.241543796136,67.36398762118642,56.80606798676351,60.43910297544183,72.33415355230282,74.69976335906742,71.00529960412581,71.75747671088264,68.47891194930895,78.03198240356247,74.48510738874619,65.9244923447258,74.40493605483226,71.06385471648596],\"xaxis\":\"x\",\"y\":[93.0,96.0,51.0,48.0,75.0,59.0,81.0,81.0,63.0,14.0,78.0,96.0,65.0,47.0,95.0,21.0,72.0,73.0,85.0,43.0,37.0,91.0,5.0,39.0,27.0,97.0,4.0,32.0,38.0,71.0,62.63893159222321,66.05644418775982,72.76942047913981,65.70553530558836,69.15174513066796,59.49178433501169,69.82398765302179,65.90956742279401,54.76334298328307,60.23653014528579,70.57067633575188,66.15564069595398,66.16821335064546,67.04485479549028,65.75256336389964,70.03158580548684,64.52683940826734,63.803885393402005,63.564486714835034,71.10121515698886,65.15836776914267,68.54788850215947,68.98586710891239,74.67535904467833,55.82660963588761,75.55572242715843,63.91063941978851,71.26153921556163,68.04245803548423,56.23188200480557,67.35910635460274,64.66872966629201,65.13977056447723,60.85648548081161,64.76530952492868,70.51530057842255,61.98032540247571,64.65703830845503,61.537056465314784,72.63331395294556,60.95222223245032,64.50886333123725,69.95354336692311,61.22225099062128,67.70057487885141,56.12048884964612,62.797477576277906,67.46030088474318,64.70733783719848,66.5949435455039,60.86853317638671,65.74286019895855,66.08869924496757,66.76696108632802,55.453193117658806,69.39336725936855,68.0527991534317,64.19414367669118,66.97375100359288,64.64576233474347,62.03162827672467,62.21998233267958,68.56495778186648,70.35399740190047,65.69617458826494,61.374266802174574,59.77180956770508,63.27352786281094,73.30397654157551,59.78957134221782,59.31364979009566,70.63773675992462,70.20109715195193,63.04933855004315,61.90116728889453,70.39309156240233,63.28307436048172,64.9254231472487,71.01539013077911,66.3575177054356,61.57647003750469,67.63997477869984,63.28289588037207,72.81014837039892,63.36656582833228,65.0389026810893,69.58630011908532,69.65036693677709,69.95650002831984,59.75870255647972,62.44360842018577,60.38931263249352,65.56417858411375,64.34221036079218,59.83745145639198,53.194294467854746,58.62991001224093,76.4081990496922,65.58648506404846,59.53709498113459],\"yaxis\":\"y\"},{\"alignmentgroup\":\"True\",\"bingroup\":\"x\",\"hovertemplate\":\"math=%{x}<br>count=%{y}<extra></extra>\",\"legendgroup\":\"\",\"marker\":{\"color\":\"#636efa\"},\"name\":\"\",\"offsetgroup\":\"\",\"opacity\":0.5,\"showlegend\":false,\"type\":\"histogram\",\"x\":[70.0,75.0,30.0,97.0,49.0,63.0,88.0,76.0,42.0,61.0,3.0,67.0,27.0,88.0,14.0,42.0,28.0,3.0,23.0,62.0,87.0,79.0,65.0,97.0,20.0,2.0,38.0,77.0,58.0,39.0,71.28187765809932,71.91716110401124,66.69521276083815,83.93483516253144,75.73075925599002,67.42669675320873,69.9052830742527,79.74890627255651,65.37132505456546,86.78110091769466,73.18407309846226,70.4330655045019,70.6901263465099,75.96891446738114,66.30264445427225,77.51422462716504,65.35588712701349,74.53307025702178,68.79202955087644,75.4114563546538,71.62005205542117,70.22732960801879,88.7266879161001,66.94403770063015,55.41959922280988,75.56930253259,70.95412263359933,56.61601777752417,82.98480254819444,73.21412930503058,69.31738741133115,73.64312448579825,71.07047413948224,72.21200682047981,68.64864929507594,72.78424683822811,61.95809574655149,71.2499128157341,72.04935728626818,65.91285882309327,57.49727083955462,76.48761538998963,67.4786132983779,63.445903648592534,69.77362123765089,59.58827914719643,65.70098142697108,75.24917081678419,79.16601584753856,78.93214766068846,73.72913211608092,72.06854094418746,67.74193019490403,68.78581087599554,66.82340486530545,77.28472130801588,69.11179665799757,77.88787021765361,74.2832948297286,77.035669426034,66.77388167829517,89.6978739435193,74.43658208354205,69.31444560857975,67.98861062554526,71.59518026607861,69.15313936325438,77.83533289010873,70.71619361571985,65.76633807724349,70.38212669291812,71.46803784412599,63.80272796046653,76.01371457715004,64.50231082732142,66.00984928856629,70.20976371770416,67.3495659621436,73.47223880527606,76.3201715202261,68.74380236773496,86.928301201331,76.72491609729335,65.32264022920344,73.83338562327533,74.90247265039935,55.241543796136,67.36398762118642,56.80606798676351,60.43910297544183,72.33415355230282,74.69976335906742,71.00529960412581,71.75747671088264,68.47891194930895,78.03198240356247,74.48510738874619,65.9244923447258,74.40493605483226,71.06385471648596],\"xaxis\":\"x3\",\"yaxis\":\"y3\"},{\"alignmentgroup\":\"True\",\"bingroup\":\"y\",\"hovertemplate\":\"physics=%{y}<br>count=%{x}<extra></extra>\",\"legendgroup\":\"\",\"marker\":{\"color\":\"#636efa\"},\"name\":\"\",\"offsetgroup\":\"\",\"opacity\":0.5,\"showlegend\":false,\"type\":\"histogram\",\"xaxis\":\"x2\",\"y\":[93.0,96.0,51.0,48.0,75.0,59.0,81.0,81.0,63.0,14.0,78.0,96.0,65.0,47.0,95.0,21.0,72.0,73.0,85.0,43.0,37.0,91.0,5.0,39.0,27.0,97.0,4.0,32.0,38.0,71.0,62.63893159222321,66.05644418775982,72.76942047913981,65.70553530558836,69.15174513066796,59.49178433501169,69.82398765302179,65.90956742279401,54.76334298328307,60.23653014528579,70.57067633575188,66.15564069595398,66.16821335064546,67.04485479549028,65.75256336389964,70.03158580548684,64.52683940826734,63.803885393402005,63.564486714835034,71.10121515698886,65.15836776914267,68.54788850215947,68.98586710891239,74.67535904467833,55.82660963588761,75.55572242715843,63.91063941978851,71.26153921556163,68.04245803548423,56.23188200480557,67.35910635460274,64.66872966629201,65.13977056447723,60.85648548081161,64.76530952492868,70.51530057842255,61.98032540247571,64.65703830845503,61.537056465314784,72.63331395294556,60.95222223245032,64.50886333123725,69.95354336692311,61.22225099062128,67.70057487885141,56.12048884964612,62.797477576277906,67.46030088474318,64.70733783719848,66.5949435455039,60.86853317638671,65.74286019895855,66.08869924496757,66.76696108632802,55.453193117658806,69.39336725936855,68.0527991534317,64.19414367669118,66.97375100359288,64.64576233474347,62.03162827672467,62.21998233267958,68.56495778186648,70.35399740190047,65.69617458826494,61.374266802174574,59.77180956770508,63.27352786281094,73.30397654157551,59.78957134221782,59.31364979009566,70.63773675992462,70.20109715195193,63.04933855004315,61.90116728889453,70.39309156240233,63.28307436048172,64.9254231472487,71.01539013077911,66.3575177054356,61.57647003750469,67.63997477869984,63.28289588037207,72.81014837039892,63.36656582833228,65.0389026810893,69.58630011908532,69.65036693677709,69.95650002831984,59.75870255647972,62.44360842018577,60.38931263249352,65.56417858411375,64.34221036079218,59.83745145639198,53.194294467854746,58.62991001224093,76.4081990496922,65.58648506404846,59.53709498113459],\"yaxis\":\"y2\"}],                        {\"barmode\":\"overlay\",\"legend\":{\"tracegroupgap\":0},\"margin\":{\"t\":60},\"template\":{\"data\":{\"bar\":[{\"error_x\":{\"color\":\"#2a3f5f\"},\"error_y\":{\"color\":\"#2a3f5f\"},\"marker\":{\"line\":{\"color\":\"#E5ECF6\",\"width\":0.5},\"pattern\":{\"fillmode\":\"overlay\",\"size\":10,\"solidity\":0.2}},\"type\":\"bar\"}],\"barpolar\":[{\"marker\":{\"line\":{\"color\":\"#E5ECF6\",\"width\":0.5},\"pattern\":{\"fillmode\":\"overlay\",\"size\":10,\"solidity\":0.2}},\"type\":\"barpolar\"}],\"carpet\":[{\"aaxis\":{\"endlinecolor\":\"#2a3f5f\",\"gridcolor\":\"white\",\"linecolor\":\"white\",\"minorgridcolor\":\"white\",\"startlinecolor\":\"#2a3f5f\"},\"baxis\":{\"endlinecolor\":\"#2a3f5f\",\"gridcolor\":\"white\",\"linecolor\":\"white\",\"minorgridcolor\":\"white\",\"startlinecolor\":\"#2a3f5f\"},\"type\":\"carpet\"}],\"choropleth\":[{\"colorbar\":{\"outlinewidth\":0,\"ticks\":\"\"},\"type\":\"choropleth\"}],\"contour\":[{\"colorbar\":{\"outlinewidth\":0,\"ticks\":\"\"},\"colorscale\":[[0.0,\"#0d0887\"],[0.1111111111111111,\"#46039f\"],[0.2222222222222222,\"#7201a8\"],[0.3333333333333333,\"#9c179e\"],[0.4444444444444444,\"#bd3786\"],[0.5555555555555556,\"#d8576b\"],[0.6666666666666666,\"#ed7953\"],[0.7777777777777778,\"#fb9f3a\"],[0.8888888888888888,\"#fdca26\"],[1.0,\"#f0f921\"]],\"type\":\"contour\"}],\"contourcarpet\":[{\"colorbar\":{\"outlinewidth\":0,\"ticks\":\"\"},\"type\":\"contourcarpet\"}],\"heatmap\":[{\"colorbar\":{\"outlinewidth\":0,\"ticks\":\"\"},\"colorscale\":[[0.0,\"#0d0887\"],[0.1111111111111111,\"#46039f\"],[0.2222222222222222,\"#7201a8\"],[0.3333333333333333,\"#9c179e\"],[0.4444444444444444,\"#bd3786\"],[0.5555555555555556,\"#d8576b\"],[0.6666666666666666,\"#ed7953\"],[0.7777777777777778,\"#fb9f3a\"],[0.8888888888888888,\"#fdca26\"],[1.0,\"#f0f921\"]],\"type\":\"heatmap\"}],\"heatmapgl\":[{\"colorbar\":{\"outlinewidth\":0,\"ticks\":\"\"},\"colorscale\":[[0.0,\"#0d0887\"],[0.1111111111111111,\"#46039f\"],[0.2222222222222222,\"#7201a8\"],[0.3333333333333333,\"#9c179e\"],[0.4444444444444444,\"#bd3786\"],[0.5555555555555556,\"#d8576b\"],[0.6666666666666666,\"#ed7953\"],[0.7777777777777778,\"#fb9f3a\"],[0.8888888888888888,\"#fdca26\"],[1.0,\"#f0f921\"]],\"type\":\"heatmapgl\"}],\"histogram\":[{\"marker\":{\"pattern\":{\"fillmode\":\"overlay\",\"size\":10,\"solidity\":0.2}},\"type\":\"histogram\"}],\"histogram2d\":[{\"colorbar\":{\"outlinewidth\":0,\"ticks\":\"\"},\"colorscale\":[[0.0,\"#0d0887\"],[0.1111111111111111,\"#46039f\"],[0.2222222222222222,\"#7201a8\"],[0.3333333333333333,\"#9c179e\"],[0.4444444444444444,\"#bd3786\"],[0.5555555555555556,\"#d8576b\"],[0.6666666666666666,\"#ed7953\"],[0.7777777777777778,\"#fb9f3a\"],[0.8888888888888888,\"#fdca26\"],[1.0,\"#f0f921\"]],\"type\":\"histogram2d\"}],\"histogram2dcontour\":[{\"colorbar\":{\"outlinewidth\":0,\"ticks\":\"\"},\"colorscale\":[[0.0,\"#0d0887\"],[0.1111111111111111,\"#46039f\"],[0.2222222222222222,\"#7201a8\"],[0.3333333333333333,\"#9c179e\"],[0.4444444444444444,\"#bd3786\"],[0.5555555555555556,\"#d8576b\"],[0.6666666666666666,\"#ed7953\"],[0.7777777777777778,\"#fb9f3a\"],[0.8888888888888888,\"#fdca26\"],[1.0,\"#f0f921\"]],\"type\":\"histogram2dcontour\"}],\"mesh3d\":[{\"colorbar\":{\"outlinewidth\":0,\"ticks\":\"\"},\"type\":\"mesh3d\"}],\"parcoords\":[{\"line\":{\"colorbar\":{\"outlinewidth\":0,\"ticks\":\"\"}},\"type\":\"parcoords\"}],\"pie\":[{\"automargin\":true,\"type\":\"pie\"}],\"scatter\":[{\"marker\":{\"colorbar\":{\"outlinewidth\":0,\"ticks\":\"\"}},\"type\":\"scatter\"}],\"scatter3d\":[{\"line\":{\"colorbar\":{\"outlinewidth\":0,\"ticks\":\"\"}},\"marker\":{\"colorbar\":{\"outlinewidth\":0,\"ticks\":\"\"}},\"type\":\"scatter3d\"}],\"scattercarpet\":[{\"marker\":{\"colorbar\":{\"outlinewidth\":0,\"ticks\":\"\"}},\"type\":\"scattercarpet\"}],\"scattergeo\":[{\"marker\":{\"colorbar\":{\"outlinewidth\":0,\"ticks\":\"\"}},\"type\":\"scattergeo\"}],\"scattergl\":[{\"marker\":{\"colorbar\":{\"outlinewidth\":0,\"ticks\":\"\"}},\"type\":\"scattergl\"}],\"scattermapbox\":[{\"marker\":{\"colorbar\":{\"outlinewidth\":0,\"ticks\":\"\"}},\"type\":\"scattermapbox\"}],\"scatterpolar\":[{\"marker\":{\"colorbar\":{\"outlinewidth\":0,\"ticks\":\"\"}},\"type\":\"scatterpolar\"}],\"scatterpolargl\":[{\"marker\":{\"colorbar\":{\"outlinewidth\":0,\"ticks\":\"\"}},\"type\":\"scatterpolargl\"}],\"scatterternary\":[{\"marker\":{\"colorbar\":{\"outlinewidth\":0,\"ticks\":\"\"}},\"type\":\"scatterternary\"}],\"surface\":[{\"colorbar\":{\"outlinewidth\":0,\"ticks\":\"\"},\"colorscale\":[[0.0,\"#0d0887\"],[0.1111111111111111,\"#46039f\"],[0.2222222222222222,\"#7201a8\"],[0.3333333333333333,\"#9c179e\"],[0.4444444444444444,\"#bd3786\"],[0.5555555555555556,\"#d8576b\"],[0.6666666666666666,\"#ed7953\"],[0.7777777777777778,\"#fb9f3a\"],[0.8888888888888888,\"#fdca26\"],[1.0,\"#f0f921\"]],\"type\":\"surface\"}],\"table\":[{\"cells\":{\"fill\":{\"color\":\"#EBF0F8\"},\"line\":{\"color\":\"white\"}},\"header\":{\"fill\":{\"color\":\"#C8D4E3\"},\"line\":{\"color\":\"white\"}},\"type\":\"table\"}]},\"layout\":{\"annotationdefaults\":{\"arrowcolor\":\"#2a3f5f\",\"arrowhead\":0,\"arrowwidth\":1},\"autotypenumbers\":\"strict\",\"coloraxis\":{\"colorbar\":{\"outlinewidth\":0,\"ticks\":\"\"}},\"colorscale\":{\"diverging\":[[0,\"#8e0152\"],[0.1,\"#c51b7d\"],[0.2,\"#de77ae\"],[0.3,\"#f1b6da\"],[0.4,\"#fde0ef\"],[0.5,\"#f7f7f7\"],[0.6,\"#e6f5d0\"],[0.7,\"#b8e186\"],[0.8,\"#7fbc41\"],[0.9,\"#4d9221\"],[1,\"#276419\"]],\"sequential\":[[0.0,\"#0d0887\"],[0.1111111111111111,\"#46039f\"],[0.2222222222222222,\"#7201a8\"],[0.3333333333333333,\"#9c179e\"],[0.4444444444444444,\"#bd3786\"],[0.5555555555555556,\"#d8576b\"],[0.6666666666666666,\"#ed7953\"],[0.7777777777777778,\"#fb9f3a\"],[0.8888888888888888,\"#fdca26\"],[1.0,\"#f0f921\"]],\"sequentialminus\":[[0.0,\"#0d0887\"],[0.1111111111111111,\"#46039f\"],[0.2222222222222222,\"#7201a8\"],[0.3333333333333333,\"#9c179e\"],[0.4444444444444444,\"#bd3786\"],[0.5555555555555556,\"#d8576b\"],[0.6666666666666666,\"#ed7953\"],[0.7777777777777778,\"#fb9f3a\"],[0.8888888888888888,\"#fdca26\"],[1.0,\"#f0f921\"]]},\"colorway\":[\"#636efa\",\"#EF553B\",\"#00cc96\",\"#ab63fa\",\"#FFA15A\",\"#19d3f3\",\"#FF6692\",\"#B6E880\",\"#FF97FF\",\"#FECB52\"],\"font\":{\"color\":\"#2a3f5f\"},\"geo\":{\"bgcolor\":\"white\",\"lakecolor\":\"white\",\"landcolor\":\"#E5ECF6\",\"showlakes\":true,\"showland\":true,\"subunitcolor\":\"white\"},\"hoverlabel\":{\"align\":\"left\"},\"hovermode\":\"closest\",\"mapbox\":{\"style\":\"light\"},\"paper_bgcolor\":\"white\",\"plot_bgcolor\":\"#E5ECF6\",\"polar\":{\"angularaxis\":{\"gridcolor\":\"white\",\"linecolor\":\"white\",\"ticks\":\"\"},\"bgcolor\":\"#E5ECF6\",\"radialaxis\":{\"gridcolor\":\"white\",\"linecolor\":\"white\",\"ticks\":\"\"}},\"scene\":{\"xaxis\":{\"backgroundcolor\":\"#E5ECF6\",\"gridcolor\":\"white\",\"gridwidth\":2,\"linecolor\":\"white\",\"showbackground\":true,\"ticks\":\"\",\"zerolinecolor\":\"white\"},\"yaxis\":{\"backgroundcolor\":\"#E5ECF6\",\"gridcolor\":\"white\",\"gridwidth\":2,\"linecolor\":\"white\",\"showbackground\":true,\"ticks\":\"\",\"zerolinecolor\":\"white\"},\"zaxis\":{\"backgroundcolor\":\"#E5ECF6\",\"gridcolor\":\"white\",\"gridwidth\":2,\"linecolor\":\"white\",\"showbackground\":true,\"ticks\":\"\",\"zerolinecolor\":\"white\"}},\"shapedefaults\":{\"line\":{\"color\":\"#2a3f5f\"}},\"ternary\":{\"aaxis\":{\"gridcolor\":\"white\",\"linecolor\":\"white\",\"ticks\":\"\"},\"baxis\":{\"gridcolor\":\"white\",\"linecolor\":\"white\",\"ticks\":\"\"},\"bgcolor\":\"#E5ECF6\",\"caxis\":{\"gridcolor\":\"white\",\"linecolor\":\"white\",\"ticks\":\"\"}},\"title\":{\"x\":0.05},\"xaxis\":{\"automargin\":true,\"gridcolor\":\"white\",\"linecolor\":\"white\",\"ticks\":\"\",\"title\":{\"standoff\":15},\"zerolinecolor\":\"white\",\"zerolinewidth\":2},\"yaxis\":{\"automargin\":true,\"gridcolor\":\"white\",\"linecolor\":\"white\",\"ticks\":\"\",\"title\":{\"standoff\":15},\"zerolinecolor\":\"white\",\"zerolinewidth\":2}}},\"xaxis\":{\"anchor\":\"y\",\"domain\":[0.0,0.7363],\"title\":{\"text\":\"math\"}},\"xaxis2\":{\"anchor\":\"y2\",\"domain\":[0.7413,1.0],\"matches\":\"x2\",\"showgrid\":true,\"showline\":false,\"showticklabels\":false,\"ticks\":\"\"},\"xaxis3\":{\"anchor\":\"y3\",\"domain\":[0.0,0.7363],\"matches\":\"x\",\"showgrid\":true,\"showticklabels\":false},\"xaxis4\":{\"anchor\":\"y4\",\"domain\":[0.7413,1.0],\"matches\":\"x2\",\"showgrid\":true,\"showline\":false,\"showticklabels\":false,\"ticks\":\"\"},\"yaxis\":{\"anchor\":\"x\",\"domain\":[0.0,0.7326],\"title\":{\"text\":\"physics\"}},\"yaxis2\":{\"anchor\":\"x2\",\"domain\":[0.0,0.7326],\"matches\":\"y\",\"showgrid\":true,\"showticklabels\":false},\"yaxis3\":{\"anchor\":\"x3\",\"domain\":[0.7426,1.0],\"matches\":\"y3\",\"showgrid\":true,\"showline\":false,\"showticklabels\":false,\"ticks\":\"\"},\"yaxis4\":{\"anchor\":\"x4\",\"domain\":[0.7426,1.0],\"matches\":\"y3\",\"showgrid\":true,\"showline\":false,\"showticklabels\":false,\"ticks\":\"\"}},                        {\"responsive\": true}                    ).then(function(){\n",
       "                            \n",
       "var gd = document.getElementById('d9a7ca39-cf65-477a-8871-827a697170b9');\n",
       "var x = new MutationObserver(function (mutations, observer) {{\n",
       "        var display = window.getComputedStyle(gd).display;\n",
       "        if (!display || display === 'none') {{\n",
       "            console.log([gd, 'removed!']);\n",
       "            Plotly.purge(gd);\n",
       "            observer.disconnect();\n",
       "        }}\n",
       "}});\n",
       "\n",
       "// Listen for the removal of the full notebook cells\n",
       "var notebookContainer = gd.closest('#notebook-container');\n",
       "if (notebookContainer) {{\n",
       "    x.observe(notebookContainer, {childList: true});\n",
       "}}\n",
       "\n",
       "// Listen for the clearing of the current output cell\n",
       "var outputEl = gd.closest('.output');\n",
       "if (outputEl) {{\n",
       "    x.observe(outputEl, {childList: true});\n",
       "}}\n",
       "\n",
       "                        })                };                });            </script>        </div>"
      ]
     },
     "metadata": {},
     "output_type": "display_data"
    }
   ],
   "source": [
    "px.scatter(data_frame=final_data, x='math', y='physics', marginal_x='histogram', marginal_y='histogram')"
   ]
  },
  {
   "cell_type": "code",
   "execution_count": 16,
   "metadata": {},
   "outputs": [
    {
     "data": {
      "application/vnd.plotly.v1+json": {
       "config": {
        "plotlyServerURL": "https://plot.ly"
       },
       "data": [
        {
         "hovertemplate": "cluster_label=a<br>math=%{x}<br>physics=%{y}<extra></extra>",
         "legendgroup": "a",
         "marker": {
          "color": "#636efa",
          "symbol": "circle"
         },
         "mode": "markers",
         "name": "a",
         "orientation": "v",
         "showlegend": true,
         "type": "scatter",
         "x": [
          66.07655910110478,
          64.58684690046825,
          59.885286121281474,
          61.07954805622612,
          54.87670159273362,
          63.026514835556384,
          63.92363334002261,
          49.74589644069059,
          59.4945415058746,
          63.981063139554664,
          61.08268686977042,
          59.81894519183068,
          57.49416534785671,
          56.90561004905844,
          57.739598214105364,
          65.74612459620937,
          58.48096074360947,
          54.48589475910658,
          53.916857179716736,
          58.15149205854583,
          63.21583850896875,
          55.31145974057622,
          57.686310535517556,
          54.4143134625789,
          64.03291301573323,
          57.30898318572346,
          62.12330585941871,
          66.63485926941188,
          56.714839920120816,
          61.7902482363347,
          58.54467315580185,
          53.2884021735914,
          61.77023895992531,
          51.62580612599437,
          59.86599431032879,
          70.3413745780841,
          58.060869473461125,
          59.573775005991884,
          59.620375915105086,
          57.78843451497578,
          54.36255396239566,
          67.39879790326263,
          59.35484858496795,
          55.636629918511744,
          58.62911051754044,
          64.14702706651387,
          58.33023277726518,
          58.23138021502757,
          51.32156795193504,
          64.92686163324733,
          58.25798689252621,
          47.92125696108154,
          59.61576882116469,
          56.24669958097997,
          56.141188400870725,
          56.49693149546679,
          65.16555317703492,
          64.0961838659947,
          60.51019924587212,
          55.81479897533023,
          61.07251379404362,
          57.811883610458985,
          54.999071560276604,
          61.09265349224977,
          64.41730432065631,
          64.67450832816711,
          52.82997816998279,
          69.58700840966533,
          54.91295410397741,
          51.1354157321761,
          59.47897700455823,
          52.308373764489694,
          63.51742994733272,
          51.43377389828453,
          55.377128422359036,
          53.85236631790547,
          62.95967225724537,
          49.187688699255034,
          56.251204906297986,
          60.399992630226485,
          51.59879703769515,
          59.55797333766452,
          59.860188673427416,
          59.196636732316485,
          56.8127693629386,
          62.92238814613842,
          65.80200476904113,
          55.74006638946511,
          59.19572042743605,
          58.93707358729214,
          52.57004834788904,
          52.074299050487966,
          69.66489705427587,
          65.5027823980843,
          62.39454280751154,
          50.36923087842238,
          60.92735729690802,
          70.91760670958335,
          52.011946072405166,
          47.27315490557212
         ],
         "xaxis": "x",
         "y": [
          75.02267074128348,
          69.40658142684302,
          97.0529154957918,
          82.22930145663497,
          77.31748976697097,
          72.6753806102657,
          77.33210970572637,
          89.77120243689498,
          87.21166301098748,
          83.71998324236533,
          72.20847556042912,
          77.97359070500161,
          77.38865906815667,
          75.55163838666714,
          84.99835163815257,
          74.16470325492844,
          71.2961199122941,
          70.78117530137412,
          90.91810074022277,
          89.8212160621579,
          70.58172750672075,
          72.33960299891064,
          73.53324166155956,
          85.68547493421262,
          77.31745943464709,
          80.00618550339621,
          85.68691846828223,
          65.38193721070054,
          76.94591706845337,
          74.38036681718074,
          79.5115153046304,
          79.90050182126886,
          89.86338193380526,
          86.81521203980512,
          97.62138846294513,
          78.62643975344307,
          78.37402399162862,
          74.83541860213576,
          86.63810080862365,
          68.87459794609158,
          71.81574025828414,
          80.69671723996808,
          81.35736934787451,
          74.9497668439863,
          78.04440193342415,
          78.86044433954028,
          76.62219314103315,
          78.25287466850979,
          80.86322329916706,
          83.56413310489036,
          71.40262563445778,
          75.61941611388269,
          81.87963967106536,
          72.284576523007,
          71.20634433035035,
          78.7199917824538,
          82.80474427046533,
          74.10265757269818,
          70.57576738566982,
          80.3090011142071,
          74.41091228661968,
          70.96609466433009,
          75.46923394021725,
          82.73877235306664,
          84.87313970097937,
          80.4643959000042,
          81.95293759678843,
          66.52066796593013,
          83.73032928854306,
          71.84220321004715,
          67.61009112924,
          85.69200105743404,
          66.35531965370689,
          88.49439754282531,
          85.73650684799615,
          73.26513168016132,
          73.61946800165812,
          76.2909173276789,
          81.38958921252419,
          79.92530041749929,
          73.22726455816004,
          75.39946956576925,
          72.61886998785069,
          87.12472595637631,
          73.91671014700368,
          77.40402943501208,
          76.61828459699807,
          77.33780595928292,
          85.27263193081123,
          89.1553947673997,
          86.85189500253344,
          71.98225021114956,
          75.88787142526621,
          74.09359885816912,
          76.28364650276743,
          60.88305790898999,
          73.2042101736541,
          87.44914866584722,
          87.83947341403,
          62.72907963302825
         ],
         "yaxis": "y"
        },
        {
         "alignmentgroup": "True",
         "bingroup": "x",
         "hovertemplate": "cluster_label=a<br>math=%{x}<br>count=%{y}<extra></extra>",
         "legendgroup": "a",
         "marker": {
          "color": "#636efa"
         },
         "name": "a",
         "offsetgroup": "a",
         "opacity": 0.5,
         "showlegend": false,
         "type": "histogram",
         "x": [
          66.07655910110478,
          64.58684690046825,
          59.885286121281474,
          61.07954805622612,
          54.87670159273362,
          63.026514835556384,
          63.92363334002261,
          49.74589644069059,
          59.4945415058746,
          63.981063139554664,
          61.08268686977042,
          59.81894519183068,
          57.49416534785671,
          56.90561004905844,
          57.739598214105364,
          65.74612459620937,
          58.48096074360947,
          54.48589475910658,
          53.916857179716736,
          58.15149205854583,
          63.21583850896875,
          55.31145974057622,
          57.686310535517556,
          54.4143134625789,
          64.03291301573323,
          57.30898318572346,
          62.12330585941871,
          66.63485926941188,
          56.714839920120816,
          61.7902482363347,
          58.54467315580185,
          53.2884021735914,
          61.77023895992531,
          51.62580612599437,
          59.86599431032879,
          70.3413745780841,
          58.060869473461125,
          59.573775005991884,
          59.620375915105086,
          57.78843451497578,
          54.36255396239566,
          67.39879790326263,
          59.35484858496795,
          55.636629918511744,
          58.62911051754044,
          64.14702706651387,
          58.33023277726518,
          58.23138021502757,
          51.32156795193504,
          64.92686163324733,
          58.25798689252621,
          47.92125696108154,
          59.61576882116469,
          56.24669958097997,
          56.141188400870725,
          56.49693149546679,
          65.16555317703492,
          64.0961838659947,
          60.51019924587212,
          55.81479897533023,
          61.07251379404362,
          57.811883610458985,
          54.999071560276604,
          61.09265349224977,
          64.41730432065631,
          64.67450832816711,
          52.82997816998279,
          69.58700840966533,
          54.91295410397741,
          51.1354157321761,
          59.47897700455823,
          52.308373764489694,
          63.51742994733272,
          51.43377389828453,
          55.377128422359036,
          53.85236631790547,
          62.95967225724537,
          49.187688699255034,
          56.251204906297986,
          60.399992630226485,
          51.59879703769515,
          59.55797333766452,
          59.860188673427416,
          59.196636732316485,
          56.8127693629386,
          62.92238814613842,
          65.80200476904113,
          55.74006638946511,
          59.19572042743605,
          58.93707358729214,
          52.57004834788904,
          52.074299050487966,
          69.66489705427587,
          65.5027823980843,
          62.39454280751154,
          50.36923087842238,
          60.92735729690802,
          70.91760670958335,
          52.011946072405166,
          47.27315490557212
         ],
         "xaxis": "x3",
         "yaxis": "y3"
        },
        {
         "alignmentgroup": "True",
         "bingroup": "y",
         "hovertemplate": "cluster_label=a<br>physics=%{y}<br>count=%{x}<extra></extra>",
         "legendgroup": "a",
         "marker": {
          "color": "#636efa"
         },
         "name": "a",
         "offsetgroup": "a",
         "opacity": 0.5,
         "showlegend": false,
         "type": "histogram",
         "xaxis": "x2",
         "y": [
          75.02267074128348,
          69.40658142684302,
          97.0529154957918,
          82.22930145663497,
          77.31748976697097,
          72.6753806102657,
          77.33210970572637,
          89.77120243689498,
          87.21166301098748,
          83.71998324236533,
          72.20847556042912,
          77.97359070500161,
          77.38865906815667,
          75.55163838666714,
          84.99835163815257,
          74.16470325492844,
          71.2961199122941,
          70.78117530137412,
          90.91810074022277,
          89.8212160621579,
          70.58172750672075,
          72.33960299891064,
          73.53324166155956,
          85.68547493421262,
          77.31745943464709,
          80.00618550339621,
          85.68691846828223,
          65.38193721070054,
          76.94591706845337,
          74.38036681718074,
          79.5115153046304,
          79.90050182126886,
          89.86338193380526,
          86.81521203980512,
          97.62138846294513,
          78.62643975344307,
          78.37402399162862,
          74.83541860213576,
          86.63810080862365,
          68.87459794609158,
          71.81574025828414,
          80.69671723996808,
          81.35736934787451,
          74.9497668439863,
          78.04440193342415,
          78.86044433954028,
          76.62219314103315,
          78.25287466850979,
          80.86322329916706,
          83.56413310489036,
          71.40262563445778,
          75.61941611388269,
          81.87963967106536,
          72.284576523007,
          71.20634433035035,
          78.7199917824538,
          82.80474427046533,
          74.10265757269818,
          70.57576738566982,
          80.3090011142071,
          74.41091228661968,
          70.96609466433009,
          75.46923394021725,
          82.73877235306664,
          84.87313970097937,
          80.4643959000042,
          81.95293759678843,
          66.52066796593013,
          83.73032928854306,
          71.84220321004715,
          67.61009112924,
          85.69200105743404,
          66.35531965370689,
          88.49439754282531,
          85.73650684799615,
          73.26513168016132,
          73.61946800165812,
          76.2909173276789,
          81.38958921252419,
          79.92530041749929,
          73.22726455816004,
          75.39946956576925,
          72.61886998785069,
          87.12472595637631,
          73.91671014700368,
          77.40402943501208,
          76.61828459699807,
          77.33780595928292,
          85.27263193081123,
          89.1553947673997,
          86.85189500253344,
          71.98225021114956,
          75.88787142526621,
          74.09359885816912,
          76.28364650276743,
          60.88305790898999,
          73.2042101736541,
          87.44914866584722,
          87.83947341403,
          62.72907963302825
         ],
         "yaxis": "y2"
        },
        {
         "hovertemplate": "cluster_label=b<br>math=%{x}<br>physics=%{y}<extra></extra>",
         "legendgroup": "b",
         "marker": {
          "color": "#EF553B",
          "symbol": "circle"
         },
         "mode": "markers",
         "name": "b",
         "orientation": "v",
         "showlegend": true,
         "type": "scatter",
         "x": [
          63.89574036374801,
          55.557390084353266,
          69.66260049446268,
          74.1550336790567,
          64.22972491351324,
          78.1931380187499,
          71.03573077165316,
          73.89662746244692,
          67.80420969021847,
          75.4936900931421,
          81.60948066544853,
          68.61992807590381,
          73.19772408644454,
          70.92640219875135,
          63.13474188867857,
          66.23364338251547,
          62.420268863309,
          77.92976266209023,
          74.8638609648485,
          70.94503643991193,
          66.88489952030433,
          71.45520128655588,
          60.60711313532401,
          56.686487626081565,
          69.42544678900119,
          70.46074191312174,
          77.06253405765503,
          74.20340968590902,
          68.43145995421919,
          72.6417881375353,
          69.23060493470017,
          68.57075525655983,
          62.7370313492972,
          68.9731495580112,
          68.6283728768037,
          79.74281660479667,
          68.90576352945159,
          79.06711401132523,
          70.31031574696033,
          74.20492239108826,
          85.70060979793185,
          64.21331209076598,
          60.77937315626638,
          68.84676333449708,
          66.73304067191725,
          72.20192662088638,
          74.60978974973051,
          77.97301059043538,
          75.64878248885876,
          84.95071137552878,
          86.77132566593039,
          67.2587547585905,
          66.0842888962312,
          72.07931301409262,
          69.68823060075623,
          57.64221276241261,
          74.83985730082738,
          72.05025435828507,
          57.92850802739906,
          79.80092340439126,
          66.02447875000432,
          70.73229521127156,
          75.29612687761639,
          51.485614307887786,
          75.4898503719829,
          62.83959839725153,
          78.19890840218488,
          76.66760518228732,
          60.48845100009222,
          69.31400094383731,
          65.64802107641952,
          65.77732353138249,
          73.12572002477282,
          76.81904026689264,
          70.06732877884144,
          75.87173612110462,
          68.03528474280594,
          69.69984777916088,
          62.49275429500659,
          67.00347544783045,
          56.971395871016576,
          72.81030751159477,
          72.28175324349222,
          70.12944769039669,
          79.58665904172163,
          68.5531910470923,
          67.5154057462598,
          51.995806954767815,
          81.10885698170868,
          79.82758622621635,
          69.56412986901907,
          65.30564696408085,
          58.7648487966667,
          75.45621511982041,
          76.57350946243241,
          71.59355730576937,
          75.23866118424647,
          71.8734757996419,
          66.80166178120345,
          67.77136798093707
         ],
         "xaxis": "x",
         "y": [
          64.34252457604107,
          68.71721770357314,
          67.81809373898139,
          56.06603936227545,
          68.05497105636897,
          66.04529291270946,
          72.68808855474435,
          59.468540451722184,
          67.81337679216344,
          60.76961858534862,
          64.128541988741,
          62.634258240991144,
          64.92133070409807,
          67.76225877575074,
          64.85367311890549,
          67.81114106728529,
          73.55135970336335,
          64.781579187953,
          76.45275772760613,
          67.52394677771402,
          64.1026837160544,
          58.79721371356593,
          69.59508869325344,
          63.089051680347985,
          65.859644831974,
          61.42263906797854,
          65.96836946648274,
          72.4725849856624,
          67.33719865836399,
          76.66914022195105,
          69.41901541670426,
          54.50733921842932,
          76.8295749880665,
          73.88139646672872,
          65.27630767203038,
          66.30664968989858,
          60.85833934009541,
          63.998548397907484,
          58.8508679350604,
          61.559763437432146,
          61.620071455098525,
          71.32016364185243,
          55.071367799739946,
          64.0360989477544,
          63.028022053551894,
          57.675785092462,
          59.281682740529185,
          62.518827268463255,
          60.019969190502266,
          60.85340132387298,
          65.26064716859776,
          64.81975444295414,
          61.15531633017687,
          74.96080626445183,
          55.84144064577484,
          55.94181959060643,
          57.879756898808765,
          72.11076670551004,
          62.762776061668355,
          58.71168827231341,
          63.8816989362217,
          55.26001127061737,
          67.35421599383437,
          61.11380636604146,
          64.31628442403544,
          64.87441205721974,
          65.77480999292604,
          57.29681788674693,
          59.07545405732011,
          58.52139098040013,
          58.67664717475293,
          66.2438568955677,
          63.235902621768886,
          68.94304830216667,
          63.502864713160356,
          65.11440241134689,
          62.84764295671311,
          62.166664450490316,
          64.01102069456196,
          63.43748920795238,
          65.71919557581792,
          62.51803625059731,
          58.36699884661167,
          66.92007425333996,
          68.8180842260567,
          67.65253671093329,
          61.60117304111215,
          64.36980772064261,
          63.90890572093223,
          69.26393475126136,
          63.74555027598206,
          58.41238074878582,
          60.43727467676387,
          65.52217217062243,
          61.999733532812755,
          63.58408850604681,
          70.40479694192699,
          59.92383894622191,
          61.07763581590169,
          68.52848550176319
         ],
         "yaxis": "y"
        },
        {
         "alignmentgroup": "True",
         "bingroup": "x",
         "hovertemplate": "cluster_label=b<br>math=%{x}<br>count=%{y}<extra></extra>",
         "legendgroup": "b",
         "marker": {
          "color": "#EF553B"
         },
         "name": "b",
         "offsetgroup": "b",
         "opacity": 0.5,
         "showlegend": false,
         "type": "histogram",
         "x": [
          63.89574036374801,
          55.557390084353266,
          69.66260049446268,
          74.1550336790567,
          64.22972491351324,
          78.1931380187499,
          71.03573077165316,
          73.89662746244692,
          67.80420969021847,
          75.4936900931421,
          81.60948066544853,
          68.61992807590381,
          73.19772408644454,
          70.92640219875135,
          63.13474188867857,
          66.23364338251547,
          62.420268863309,
          77.92976266209023,
          74.8638609648485,
          70.94503643991193,
          66.88489952030433,
          71.45520128655588,
          60.60711313532401,
          56.686487626081565,
          69.42544678900119,
          70.46074191312174,
          77.06253405765503,
          74.20340968590902,
          68.43145995421919,
          72.6417881375353,
          69.23060493470017,
          68.57075525655983,
          62.7370313492972,
          68.9731495580112,
          68.6283728768037,
          79.74281660479667,
          68.90576352945159,
          79.06711401132523,
          70.31031574696033,
          74.20492239108826,
          85.70060979793185,
          64.21331209076598,
          60.77937315626638,
          68.84676333449708,
          66.73304067191725,
          72.20192662088638,
          74.60978974973051,
          77.97301059043538,
          75.64878248885876,
          84.95071137552878,
          86.77132566593039,
          67.2587547585905,
          66.0842888962312,
          72.07931301409262,
          69.68823060075623,
          57.64221276241261,
          74.83985730082738,
          72.05025435828507,
          57.92850802739906,
          79.80092340439126,
          66.02447875000432,
          70.73229521127156,
          75.29612687761639,
          51.485614307887786,
          75.4898503719829,
          62.83959839725153,
          78.19890840218488,
          76.66760518228732,
          60.48845100009222,
          69.31400094383731,
          65.64802107641952,
          65.77732353138249,
          73.12572002477282,
          76.81904026689264,
          70.06732877884144,
          75.87173612110462,
          68.03528474280594,
          69.69984777916088,
          62.49275429500659,
          67.00347544783045,
          56.971395871016576,
          72.81030751159477,
          72.28175324349222,
          70.12944769039669,
          79.58665904172163,
          68.5531910470923,
          67.5154057462598,
          51.995806954767815,
          81.10885698170868,
          79.82758622621635,
          69.56412986901907,
          65.30564696408085,
          58.7648487966667,
          75.45621511982041,
          76.57350946243241,
          71.59355730576937,
          75.23866118424647,
          71.8734757996419,
          66.80166178120345,
          67.77136798093707
         ],
         "xaxis": "x3",
         "yaxis": "y3"
        },
        {
         "alignmentgroup": "True",
         "bingroup": "y",
         "hovertemplate": "cluster_label=b<br>physics=%{y}<br>count=%{x}<extra></extra>",
         "legendgroup": "b",
         "marker": {
          "color": "#EF553B"
         },
         "name": "b",
         "offsetgroup": "b",
         "opacity": 0.5,
         "showlegend": false,
         "type": "histogram",
         "xaxis": "x2",
         "y": [
          64.34252457604107,
          68.71721770357314,
          67.81809373898139,
          56.06603936227545,
          68.05497105636897,
          66.04529291270946,
          72.68808855474435,
          59.468540451722184,
          67.81337679216344,
          60.76961858534862,
          64.128541988741,
          62.634258240991144,
          64.92133070409807,
          67.76225877575074,
          64.85367311890549,
          67.81114106728529,
          73.55135970336335,
          64.781579187953,
          76.45275772760613,
          67.52394677771402,
          64.1026837160544,
          58.79721371356593,
          69.59508869325344,
          63.089051680347985,
          65.859644831974,
          61.42263906797854,
          65.96836946648274,
          72.4725849856624,
          67.33719865836399,
          76.66914022195105,
          69.41901541670426,
          54.50733921842932,
          76.8295749880665,
          73.88139646672872,
          65.27630767203038,
          66.30664968989858,
          60.85833934009541,
          63.998548397907484,
          58.8508679350604,
          61.559763437432146,
          61.620071455098525,
          71.32016364185243,
          55.071367799739946,
          64.0360989477544,
          63.028022053551894,
          57.675785092462,
          59.281682740529185,
          62.518827268463255,
          60.019969190502266,
          60.85340132387298,
          65.26064716859776,
          64.81975444295414,
          61.15531633017687,
          74.96080626445183,
          55.84144064577484,
          55.94181959060643,
          57.879756898808765,
          72.11076670551004,
          62.762776061668355,
          58.71168827231341,
          63.8816989362217,
          55.26001127061737,
          67.35421599383437,
          61.11380636604146,
          64.31628442403544,
          64.87441205721974,
          65.77480999292604,
          57.29681788674693,
          59.07545405732011,
          58.52139098040013,
          58.67664717475293,
          66.2438568955677,
          63.235902621768886,
          68.94304830216667,
          63.502864713160356,
          65.11440241134689,
          62.84764295671311,
          62.166664450490316,
          64.01102069456196,
          63.43748920795238,
          65.71919557581792,
          62.51803625059731,
          58.36699884661167,
          66.92007425333996,
          68.8180842260567,
          67.65253671093329,
          61.60117304111215,
          64.36980772064261,
          63.90890572093223,
          69.26393475126136,
          63.74555027598206,
          58.41238074878582,
          60.43727467676387,
          65.52217217062243,
          61.999733532812755,
          63.58408850604681,
          70.40479694192699,
          59.92383894622191,
          61.07763581590169,
          68.52848550176319
         ],
         "yaxis": "y2"
        }
       ],
       "layout": {
        "barmode": "overlay",
        "legend": {
         "title": {
          "text": "cluster_label"
         },
         "tracegroupgap": 0
        },
        "margin": {
         "t": 60
        },
        "template": {
         "data": {
          "bar": [
           {
            "error_x": {
             "color": "#2a3f5f"
            },
            "error_y": {
             "color": "#2a3f5f"
            },
            "marker": {
             "line": {
              "color": "#E5ECF6",
              "width": 0.5
             },
             "pattern": {
              "fillmode": "overlay",
              "size": 10,
              "solidity": 0.2
             }
            },
            "type": "bar"
           }
          ],
          "barpolar": [
           {
            "marker": {
             "line": {
              "color": "#E5ECF6",
              "width": 0.5
             },
             "pattern": {
              "fillmode": "overlay",
              "size": 10,
              "solidity": 0.2
             }
            },
            "type": "barpolar"
           }
          ],
          "carpet": [
           {
            "aaxis": {
             "endlinecolor": "#2a3f5f",
             "gridcolor": "white",
             "linecolor": "white",
             "minorgridcolor": "white",
             "startlinecolor": "#2a3f5f"
            },
            "baxis": {
             "endlinecolor": "#2a3f5f",
             "gridcolor": "white",
             "linecolor": "white",
             "minorgridcolor": "white",
             "startlinecolor": "#2a3f5f"
            },
            "type": "carpet"
           }
          ],
          "choropleth": [
           {
            "colorbar": {
             "outlinewidth": 0,
             "ticks": ""
            },
            "type": "choropleth"
           }
          ],
          "contour": [
           {
            "colorbar": {
             "outlinewidth": 0,
             "ticks": ""
            },
            "colorscale": [
             [
              0,
              "#0d0887"
             ],
             [
              0.1111111111111111,
              "#46039f"
             ],
             [
              0.2222222222222222,
              "#7201a8"
             ],
             [
              0.3333333333333333,
              "#9c179e"
             ],
             [
              0.4444444444444444,
              "#bd3786"
             ],
             [
              0.5555555555555556,
              "#d8576b"
             ],
             [
              0.6666666666666666,
              "#ed7953"
             ],
             [
              0.7777777777777778,
              "#fb9f3a"
             ],
             [
              0.8888888888888888,
              "#fdca26"
             ],
             [
              1,
              "#f0f921"
             ]
            ],
            "type": "contour"
           }
          ],
          "contourcarpet": [
           {
            "colorbar": {
             "outlinewidth": 0,
             "ticks": ""
            },
            "type": "contourcarpet"
           }
          ],
          "heatmap": [
           {
            "colorbar": {
             "outlinewidth": 0,
             "ticks": ""
            },
            "colorscale": [
             [
              0,
              "#0d0887"
             ],
             [
              0.1111111111111111,
              "#46039f"
             ],
             [
              0.2222222222222222,
              "#7201a8"
             ],
             [
              0.3333333333333333,
              "#9c179e"
             ],
             [
              0.4444444444444444,
              "#bd3786"
             ],
             [
              0.5555555555555556,
              "#d8576b"
             ],
             [
              0.6666666666666666,
              "#ed7953"
             ],
             [
              0.7777777777777778,
              "#fb9f3a"
             ],
             [
              0.8888888888888888,
              "#fdca26"
             ],
             [
              1,
              "#f0f921"
             ]
            ],
            "type": "heatmap"
           }
          ],
          "heatmapgl": [
           {
            "colorbar": {
             "outlinewidth": 0,
             "ticks": ""
            },
            "colorscale": [
             [
              0,
              "#0d0887"
             ],
             [
              0.1111111111111111,
              "#46039f"
             ],
             [
              0.2222222222222222,
              "#7201a8"
             ],
             [
              0.3333333333333333,
              "#9c179e"
             ],
             [
              0.4444444444444444,
              "#bd3786"
             ],
             [
              0.5555555555555556,
              "#d8576b"
             ],
             [
              0.6666666666666666,
              "#ed7953"
             ],
             [
              0.7777777777777778,
              "#fb9f3a"
             ],
             [
              0.8888888888888888,
              "#fdca26"
             ],
             [
              1,
              "#f0f921"
             ]
            ],
            "type": "heatmapgl"
           }
          ],
          "histogram": [
           {
            "marker": {
             "pattern": {
              "fillmode": "overlay",
              "size": 10,
              "solidity": 0.2
             }
            },
            "type": "histogram"
           }
          ],
          "histogram2d": [
           {
            "colorbar": {
             "outlinewidth": 0,
             "ticks": ""
            },
            "colorscale": [
             [
              0,
              "#0d0887"
             ],
             [
              0.1111111111111111,
              "#46039f"
             ],
             [
              0.2222222222222222,
              "#7201a8"
             ],
             [
              0.3333333333333333,
              "#9c179e"
             ],
             [
              0.4444444444444444,
              "#bd3786"
             ],
             [
              0.5555555555555556,
              "#d8576b"
             ],
             [
              0.6666666666666666,
              "#ed7953"
             ],
             [
              0.7777777777777778,
              "#fb9f3a"
             ],
             [
              0.8888888888888888,
              "#fdca26"
             ],
             [
              1,
              "#f0f921"
             ]
            ],
            "type": "histogram2d"
           }
          ],
          "histogram2dcontour": [
           {
            "colorbar": {
             "outlinewidth": 0,
             "ticks": ""
            },
            "colorscale": [
             [
              0,
              "#0d0887"
             ],
             [
              0.1111111111111111,
              "#46039f"
             ],
             [
              0.2222222222222222,
              "#7201a8"
             ],
             [
              0.3333333333333333,
              "#9c179e"
             ],
             [
              0.4444444444444444,
              "#bd3786"
             ],
             [
              0.5555555555555556,
              "#d8576b"
             ],
             [
              0.6666666666666666,
              "#ed7953"
             ],
             [
              0.7777777777777778,
              "#fb9f3a"
             ],
             [
              0.8888888888888888,
              "#fdca26"
             ],
             [
              1,
              "#f0f921"
             ]
            ],
            "type": "histogram2dcontour"
           }
          ],
          "mesh3d": [
           {
            "colorbar": {
             "outlinewidth": 0,
             "ticks": ""
            },
            "type": "mesh3d"
           }
          ],
          "parcoords": [
           {
            "line": {
             "colorbar": {
              "outlinewidth": 0,
              "ticks": ""
             }
            },
            "type": "parcoords"
           }
          ],
          "pie": [
           {
            "automargin": true,
            "type": "pie"
           }
          ],
          "scatter": [
           {
            "marker": {
             "colorbar": {
              "outlinewidth": 0,
              "ticks": ""
             }
            },
            "type": "scatter"
           }
          ],
          "scatter3d": [
           {
            "line": {
             "colorbar": {
              "outlinewidth": 0,
              "ticks": ""
             }
            },
            "marker": {
             "colorbar": {
              "outlinewidth": 0,
              "ticks": ""
             }
            },
            "type": "scatter3d"
           }
          ],
          "scattercarpet": [
           {
            "marker": {
             "colorbar": {
              "outlinewidth": 0,
              "ticks": ""
             }
            },
            "type": "scattercarpet"
           }
          ],
          "scattergeo": [
           {
            "marker": {
             "colorbar": {
              "outlinewidth": 0,
              "ticks": ""
             }
            },
            "type": "scattergeo"
           }
          ],
          "scattergl": [
           {
            "marker": {
             "colorbar": {
              "outlinewidth": 0,
              "ticks": ""
             }
            },
            "type": "scattergl"
           }
          ],
          "scattermapbox": [
           {
            "marker": {
             "colorbar": {
              "outlinewidth": 0,
              "ticks": ""
             }
            },
            "type": "scattermapbox"
           }
          ],
          "scatterpolar": [
           {
            "marker": {
             "colorbar": {
              "outlinewidth": 0,
              "ticks": ""
             }
            },
            "type": "scatterpolar"
           }
          ],
          "scatterpolargl": [
           {
            "marker": {
             "colorbar": {
              "outlinewidth": 0,
              "ticks": ""
             }
            },
            "type": "scatterpolargl"
           }
          ],
          "scatterternary": [
           {
            "marker": {
             "colorbar": {
              "outlinewidth": 0,
              "ticks": ""
             }
            },
            "type": "scatterternary"
           }
          ],
          "surface": [
           {
            "colorbar": {
             "outlinewidth": 0,
             "ticks": ""
            },
            "colorscale": [
             [
              0,
              "#0d0887"
             ],
             [
              0.1111111111111111,
              "#46039f"
             ],
             [
              0.2222222222222222,
              "#7201a8"
             ],
             [
              0.3333333333333333,
              "#9c179e"
             ],
             [
              0.4444444444444444,
              "#bd3786"
             ],
             [
              0.5555555555555556,
              "#d8576b"
             ],
             [
              0.6666666666666666,
              "#ed7953"
             ],
             [
              0.7777777777777778,
              "#fb9f3a"
             ],
             [
              0.8888888888888888,
              "#fdca26"
             ],
             [
              1,
              "#f0f921"
             ]
            ],
            "type": "surface"
           }
          ],
          "table": [
           {
            "cells": {
             "fill": {
              "color": "#EBF0F8"
             },
             "line": {
              "color": "white"
             }
            },
            "header": {
             "fill": {
              "color": "#C8D4E3"
             },
             "line": {
              "color": "white"
             }
            },
            "type": "table"
           }
          ]
         },
         "layout": {
          "annotationdefaults": {
           "arrowcolor": "#2a3f5f",
           "arrowhead": 0,
           "arrowwidth": 1
          },
          "autotypenumbers": "strict",
          "coloraxis": {
           "colorbar": {
            "outlinewidth": 0,
            "ticks": ""
           }
          },
          "colorscale": {
           "diverging": [
            [
             0,
             "#8e0152"
            ],
            [
             0.1,
             "#c51b7d"
            ],
            [
             0.2,
             "#de77ae"
            ],
            [
             0.3,
             "#f1b6da"
            ],
            [
             0.4,
             "#fde0ef"
            ],
            [
             0.5,
             "#f7f7f7"
            ],
            [
             0.6,
             "#e6f5d0"
            ],
            [
             0.7,
             "#b8e186"
            ],
            [
             0.8,
             "#7fbc41"
            ],
            [
             0.9,
             "#4d9221"
            ],
            [
             1,
             "#276419"
            ]
           ],
           "sequential": [
            [
             0,
             "#0d0887"
            ],
            [
             0.1111111111111111,
             "#46039f"
            ],
            [
             0.2222222222222222,
             "#7201a8"
            ],
            [
             0.3333333333333333,
             "#9c179e"
            ],
            [
             0.4444444444444444,
             "#bd3786"
            ],
            [
             0.5555555555555556,
             "#d8576b"
            ],
            [
             0.6666666666666666,
             "#ed7953"
            ],
            [
             0.7777777777777778,
             "#fb9f3a"
            ],
            [
             0.8888888888888888,
             "#fdca26"
            ],
            [
             1,
             "#f0f921"
            ]
           ],
           "sequentialminus": [
            [
             0,
             "#0d0887"
            ],
            [
             0.1111111111111111,
             "#46039f"
            ],
            [
             0.2222222222222222,
             "#7201a8"
            ],
            [
             0.3333333333333333,
             "#9c179e"
            ],
            [
             0.4444444444444444,
             "#bd3786"
            ],
            [
             0.5555555555555556,
             "#d8576b"
            ],
            [
             0.6666666666666666,
             "#ed7953"
            ],
            [
             0.7777777777777778,
             "#fb9f3a"
            ],
            [
             0.8888888888888888,
             "#fdca26"
            ],
            [
             1,
             "#f0f921"
            ]
           ]
          },
          "colorway": [
           "#636efa",
           "#EF553B",
           "#00cc96",
           "#ab63fa",
           "#FFA15A",
           "#19d3f3",
           "#FF6692",
           "#B6E880",
           "#FF97FF",
           "#FECB52"
          ],
          "font": {
           "color": "#2a3f5f"
          },
          "geo": {
           "bgcolor": "white",
           "lakecolor": "white",
           "landcolor": "#E5ECF6",
           "showlakes": true,
           "showland": true,
           "subunitcolor": "white"
          },
          "hoverlabel": {
           "align": "left"
          },
          "hovermode": "closest",
          "mapbox": {
           "style": "light"
          },
          "paper_bgcolor": "white",
          "plot_bgcolor": "#E5ECF6",
          "polar": {
           "angularaxis": {
            "gridcolor": "white",
            "linecolor": "white",
            "ticks": ""
           },
           "bgcolor": "#E5ECF6",
           "radialaxis": {
            "gridcolor": "white",
            "linecolor": "white",
            "ticks": ""
           }
          },
          "scene": {
           "xaxis": {
            "backgroundcolor": "#E5ECF6",
            "gridcolor": "white",
            "gridwidth": 2,
            "linecolor": "white",
            "showbackground": true,
            "ticks": "",
            "zerolinecolor": "white"
           },
           "yaxis": {
            "backgroundcolor": "#E5ECF6",
            "gridcolor": "white",
            "gridwidth": 2,
            "linecolor": "white",
            "showbackground": true,
            "ticks": "",
            "zerolinecolor": "white"
           },
           "zaxis": {
            "backgroundcolor": "#E5ECF6",
            "gridcolor": "white",
            "gridwidth": 2,
            "linecolor": "white",
            "showbackground": true,
            "ticks": "",
            "zerolinecolor": "white"
           }
          },
          "shapedefaults": {
           "line": {
            "color": "#2a3f5f"
           }
          },
          "ternary": {
           "aaxis": {
            "gridcolor": "white",
            "linecolor": "white",
            "ticks": ""
           },
           "baxis": {
            "gridcolor": "white",
            "linecolor": "white",
            "ticks": ""
           },
           "bgcolor": "#E5ECF6",
           "caxis": {
            "gridcolor": "white",
            "linecolor": "white",
            "ticks": ""
           }
          },
          "title": {
           "x": 0.05
          },
          "xaxis": {
           "automargin": true,
           "gridcolor": "white",
           "linecolor": "white",
           "ticks": "",
           "title": {
            "standoff": 15
           },
           "zerolinecolor": "white",
           "zerolinewidth": 2
          },
          "yaxis": {
           "automargin": true,
           "gridcolor": "white",
           "linecolor": "white",
           "ticks": "",
           "title": {
            "standoff": 15
           },
           "zerolinecolor": "white",
           "zerolinewidth": 2
          }
         }
        },
        "xaxis": {
         "anchor": "y",
         "domain": [
          0,
          0.7363
         ],
         "title": {
          "text": "math"
         }
        },
        "xaxis2": {
         "anchor": "y2",
         "domain": [
          0.7413,
          1
         ],
         "matches": "x2",
         "showgrid": true,
         "showline": false,
         "showticklabels": false,
         "ticks": ""
        },
        "xaxis3": {
         "anchor": "y3",
         "domain": [
          0,
          0.7363
         ],
         "matches": "x",
         "showgrid": true,
         "showticklabels": false
        },
        "xaxis4": {
         "anchor": "y4",
         "domain": [
          0.7413,
          1
         ],
         "matches": "x2",
         "showgrid": true,
         "showline": false,
         "showticklabels": false,
         "ticks": ""
        },
        "yaxis": {
         "anchor": "x",
         "domain": [
          0,
          0.7326
         ],
         "title": {
          "text": "physics"
         }
        },
        "yaxis2": {
         "anchor": "x2",
         "domain": [
          0,
          0.7326
         ],
         "matches": "y",
         "showgrid": true,
         "showticklabels": false
        },
        "yaxis3": {
         "anchor": "x3",
         "domain": [
          0.7426,
          1
         ],
         "matches": "y3",
         "showgrid": true,
         "showline": false,
         "showticklabels": false,
         "ticks": ""
        },
        "yaxis4": {
         "anchor": "x4",
         "domain": [
          0.7426,
          1
         ],
         "matches": "y3",
         "showgrid": true,
         "showline": false,
         "showticklabels": false,
         "ticks": ""
        }
       }
      },
      "text/html": [
       "<div>                            <div id=\"fb891789-9d44-4cb7-88e1-f50db9d2de18\" class=\"plotly-graph-div\" style=\"height:525px; width:100%;\"></div>            <script type=\"text/javascript\">                require([\"plotly\"], function(Plotly) {                    window.PLOTLYENV=window.PLOTLYENV || {};                                    if (document.getElementById(\"fb891789-9d44-4cb7-88e1-f50db9d2de18\")) {                    Plotly.newPlot(                        \"fb891789-9d44-4cb7-88e1-f50db9d2de18\",                        [{\"hovertemplate\":\"cluster_label=a<br>math=%{x}<br>physics=%{y}<extra></extra>\",\"legendgroup\":\"a\",\"marker\":{\"color\":\"#636efa\",\"symbol\":\"circle\"},\"mode\":\"markers\",\"name\":\"a\",\"orientation\":\"v\",\"showlegend\":true,\"type\":\"scatter\",\"x\":[66.07655910110478,64.58684690046825,59.885286121281474,61.07954805622612,54.87670159273362,63.026514835556384,63.92363334002261,49.74589644069059,59.4945415058746,63.981063139554664,61.08268686977042,59.81894519183068,57.49416534785671,56.90561004905844,57.739598214105364,65.74612459620937,58.48096074360947,54.48589475910658,53.916857179716736,58.15149205854583,63.21583850896875,55.31145974057622,57.686310535517556,54.4143134625789,64.03291301573323,57.30898318572346,62.12330585941871,66.63485926941188,56.714839920120816,61.7902482363347,58.54467315580185,53.2884021735914,61.77023895992531,51.62580612599437,59.86599431032879,70.3413745780841,58.060869473461125,59.573775005991884,59.620375915105086,57.78843451497578,54.36255396239566,67.39879790326263,59.35484858496795,55.636629918511744,58.62911051754044,64.14702706651387,58.33023277726518,58.23138021502757,51.32156795193504,64.92686163324733,58.25798689252621,47.92125696108154,59.61576882116469,56.24669958097997,56.141188400870725,56.49693149546679,65.16555317703492,64.0961838659947,60.51019924587212,55.81479897533023,61.07251379404362,57.811883610458985,54.999071560276604,61.09265349224977,64.41730432065631,64.67450832816711,52.82997816998279,69.58700840966533,54.91295410397741,51.1354157321761,59.47897700455823,52.308373764489694,63.51742994733272,51.43377389828453,55.377128422359036,53.85236631790547,62.95967225724537,49.187688699255034,56.251204906297986,60.399992630226485,51.59879703769515,59.55797333766452,59.860188673427416,59.196636732316485,56.8127693629386,62.92238814613842,65.80200476904113,55.74006638946511,59.19572042743605,58.93707358729214,52.57004834788904,52.074299050487966,69.66489705427587,65.5027823980843,62.39454280751154,50.36923087842238,60.92735729690802,70.91760670958335,52.011946072405166,47.27315490557212],\"xaxis\":\"x\",\"y\":[75.02267074128348,69.40658142684302,97.0529154957918,82.22930145663497,77.31748976697097,72.6753806102657,77.33210970572637,89.77120243689498,87.21166301098748,83.71998324236533,72.20847556042912,77.97359070500161,77.38865906815667,75.55163838666714,84.99835163815257,74.16470325492844,71.2961199122941,70.78117530137412,90.91810074022277,89.8212160621579,70.58172750672075,72.33960299891064,73.53324166155956,85.68547493421262,77.31745943464709,80.00618550339621,85.68691846828223,65.38193721070054,76.94591706845337,74.38036681718074,79.5115153046304,79.90050182126886,89.86338193380526,86.81521203980512,97.62138846294513,78.62643975344307,78.37402399162862,74.83541860213576,86.63810080862365,68.87459794609158,71.81574025828414,80.69671723996808,81.35736934787451,74.9497668439863,78.04440193342415,78.86044433954028,76.62219314103315,78.25287466850979,80.86322329916706,83.56413310489036,71.40262563445778,75.61941611388269,81.87963967106536,72.284576523007,71.20634433035035,78.7199917824538,82.80474427046533,74.10265757269818,70.57576738566982,80.3090011142071,74.41091228661968,70.96609466433009,75.46923394021725,82.73877235306664,84.87313970097937,80.4643959000042,81.95293759678843,66.52066796593013,83.73032928854306,71.84220321004715,67.61009112924,85.69200105743404,66.35531965370689,88.49439754282531,85.73650684799615,73.26513168016132,73.61946800165812,76.2909173276789,81.38958921252419,79.92530041749929,73.22726455816004,75.39946956576925,72.61886998785069,87.12472595637631,73.91671014700368,77.40402943501208,76.61828459699807,77.33780595928292,85.27263193081123,89.1553947673997,86.85189500253344,71.98225021114956,75.88787142526621,74.09359885816912,76.28364650276743,60.88305790898999,73.2042101736541,87.44914866584722,87.83947341403,62.72907963302825],\"yaxis\":\"y\"},{\"alignmentgroup\":\"True\",\"bingroup\":\"x\",\"hovertemplate\":\"cluster_label=a<br>math=%{x}<br>count=%{y}<extra></extra>\",\"legendgroup\":\"a\",\"marker\":{\"color\":\"#636efa\"},\"name\":\"a\",\"offsetgroup\":\"a\",\"opacity\":0.5,\"showlegend\":false,\"type\":\"histogram\",\"x\":[66.07655910110478,64.58684690046825,59.885286121281474,61.07954805622612,54.87670159273362,63.026514835556384,63.92363334002261,49.74589644069059,59.4945415058746,63.981063139554664,61.08268686977042,59.81894519183068,57.49416534785671,56.90561004905844,57.739598214105364,65.74612459620937,58.48096074360947,54.48589475910658,53.916857179716736,58.15149205854583,63.21583850896875,55.31145974057622,57.686310535517556,54.4143134625789,64.03291301573323,57.30898318572346,62.12330585941871,66.63485926941188,56.714839920120816,61.7902482363347,58.54467315580185,53.2884021735914,61.77023895992531,51.62580612599437,59.86599431032879,70.3413745780841,58.060869473461125,59.573775005991884,59.620375915105086,57.78843451497578,54.36255396239566,67.39879790326263,59.35484858496795,55.636629918511744,58.62911051754044,64.14702706651387,58.33023277726518,58.23138021502757,51.32156795193504,64.92686163324733,58.25798689252621,47.92125696108154,59.61576882116469,56.24669958097997,56.141188400870725,56.49693149546679,65.16555317703492,64.0961838659947,60.51019924587212,55.81479897533023,61.07251379404362,57.811883610458985,54.999071560276604,61.09265349224977,64.41730432065631,64.67450832816711,52.82997816998279,69.58700840966533,54.91295410397741,51.1354157321761,59.47897700455823,52.308373764489694,63.51742994733272,51.43377389828453,55.377128422359036,53.85236631790547,62.95967225724537,49.187688699255034,56.251204906297986,60.399992630226485,51.59879703769515,59.55797333766452,59.860188673427416,59.196636732316485,56.8127693629386,62.92238814613842,65.80200476904113,55.74006638946511,59.19572042743605,58.93707358729214,52.57004834788904,52.074299050487966,69.66489705427587,65.5027823980843,62.39454280751154,50.36923087842238,60.92735729690802,70.91760670958335,52.011946072405166,47.27315490557212],\"xaxis\":\"x3\",\"yaxis\":\"y3\"},{\"alignmentgroup\":\"True\",\"bingroup\":\"y\",\"hovertemplate\":\"cluster_label=a<br>physics=%{y}<br>count=%{x}<extra></extra>\",\"legendgroup\":\"a\",\"marker\":{\"color\":\"#636efa\"},\"name\":\"a\",\"offsetgroup\":\"a\",\"opacity\":0.5,\"showlegend\":false,\"type\":\"histogram\",\"xaxis\":\"x2\",\"y\":[75.02267074128348,69.40658142684302,97.0529154957918,82.22930145663497,77.31748976697097,72.6753806102657,77.33210970572637,89.77120243689498,87.21166301098748,83.71998324236533,72.20847556042912,77.97359070500161,77.38865906815667,75.55163838666714,84.99835163815257,74.16470325492844,71.2961199122941,70.78117530137412,90.91810074022277,89.8212160621579,70.58172750672075,72.33960299891064,73.53324166155956,85.68547493421262,77.31745943464709,80.00618550339621,85.68691846828223,65.38193721070054,76.94591706845337,74.38036681718074,79.5115153046304,79.90050182126886,89.86338193380526,86.81521203980512,97.62138846294513,78.62643975344307,78.37402399162862,74.83541860213576,86.63810080862365,68.87459794609158,71.81574025828414,80.69671723996808,81.35736934787451,74.9497668439863,78.04440193342415,78.86044433954028,76.62219314103315,78.25287466850979,80.86322329916706,83.56413310489036,71.40262563445778,75.61941611388269,81.87963967106536,72.284576523007,71.20634433035035,78.7199917824538,82.80474427046533,74.10265757269818,70.57576738566982,80.3090011142071,74.41091228661968,70.96609466433009,75.46923394021725,82.73877235306664,84.87313970097937,80.4643959000042,81.95293759678843,66.52066796593013,83.73032928854306,71.84220321004715,67.61009112924,85.69200105743404,66.35531965370689,88.49439754282531,85.73650684799615,73.26513168016132,73.61946800165812,76.2909173276789,81.38958921252419,79.92530041749929,73.22726455816004,75.39946956576925,72.61886998785069,87.12472595637631,73.91671014700368,77.40402943501208,76.61828459699807,77.33780595928292,85.27263193081123,89.1553947673997,86.85189500253344,71.98225021114956,75.88787142526621,74.09359885816912,76.28364650276743,60.88305790898999,73.2042101736541,87.44914866584722,87.83947341403,62.72907963302825],\"yaxis\":\"y2\"},{\"hovertemplate\":\"cluster_label=b<br>math=%{x}<br>physics=%{y}<extra></extra>\",\"legendgroup\":\"b\",\"marker\":{\"color\":\"#EF553B\",\"symbol\":\"circle\"},\"mode\":\"markers\",\"name\":\"b\",\"orientation\":\"v\",\"showlegend\":true,\"type\":\"scatter\",\"x\":[63.89574036374801,55.557390084353266,69.66260049446268,74.1550336790567,64.22972491351324,78.1931380187499,71.03573077165316,73.89662746244692,67.80420969021847,75.4936900931421,81.60948066544853,68.61992807590381,73.19772408644454,70.92640219875135,63.13474188867857,66.23364338251547,62.420268863309,77.92976266209023,74.8638609648485,70.94503643991193,66.88489952030433,71.45520128655588,60.60711313532401,56.686487626081565,69.42544678900119,70.46074191312174,77.06253405765503,74.20340968590902,68.43145995421919,72.6417881375353,69.23060493470017,68.57075525655983,62.7370313492972,68.9731495580112,68.6283728768037,79.74281660479667,68.90576352945159,79.06711401132523,70.31031574696033,74.20492239108826,85.70060979793185,64.21331209076598,60.77937315626638,68.84676333449708,66.73304067191725,72.20192662088638,74.60978974973051,77.97301059043538,75.64878248885876,84.95071137552878,86.77132566593039,67.2587547585905,66.0842888962312,72.07931301409262,69.68823060075623,57.64221276241261,74.83985730082738,72.05025435828507,57.92850802739906,79.80092340439126,66.02447875000432,70.73229521127156,75.29612687761639,51.485614307887786,75.4898503719829,62.83959839725153,78.19890840218488,76.66760518228732,60.48845100009222,69.31400094383731,65.64802107641952,65.77732353138249,73.12572002477282,76.81904026689264,70.06732877884144,75.87173612110462,68.03528474280594,69.69984777916088,62.49275429500659,67.00347544783045,56.971395871016576,72.81030751159477,72.28175324349222,70.12944769039669,79.58665904172163,68.5531910470923,67.5154057462598,51.995806954767815,81.10885698170868,79.82758622621635,69.56412986901907,65.30564696408085,58.7648487966667,75.45621511982041,76.57350946243241,71.59355730576937,75.23866118424647,71.8734757996419,66.80166178120345,67.77136798093707],\"xaxis\":\"x\",\"y\":[64.34252457604107,68.71721770357314,67.81809373898139,56.06603936227545,68.05497105636897,66.04529291270946,72.68808855474435,59.468540451722184,67.81337679216344,60.76961858534862,64.128541988741,62.634258240991144,64.92133070409807,67.76225877575074,64.85367311890549,67.81114106728529,73.55135970336335,64.781579187953,76.45275772760613,67.52394677771402,64.1026837160544,58.79721371356593,69.59508869325344,63.089051680347985,65.859644831974,61.42263906797854,65.96836946648274,72.4725849856624,67.33719865836399,76.66914022195105,69.41901541670426,54.50733921842932,76.8295749880665,73.88139646672872,65.27630767203038,66.30664968989858,60.85833934009541,63.998548397907484,58.8508679350604,61.559763437432146,61.620071455098525,71.32016364185243,55.071367799739946,64.0360989477544,63.028022053551894,57.675785092462,59.281682740529185,62.518827268463255,60.019969190502266,60.85340132387298,65.26064716859776,64.81975444295414,61.15531633017687,74.96080626445183,55.84144064577484,55.94181959060643,57.879756898808765,72.11076670551004,62.762776061668355,58.71168827231341,63.8816989362217,55.26001127061737,67.35421599383437,61.11380636604146,64.31628442403544,64.87441205721974,65.77480999292604,57.29681788674693,59.07545405732011,58.52139098040013,58.67664717475293,66.2438568955677,63.235902621768886,68.94304830216667,63.502864713160356,65.11440241134689,62.84764295671311,62.166664450490316,64.01102069456196,63.43748920795238,65.71919557581792,62.51803625059731,58.36699884661167,66.92007425333996,68.8180842260567,67.65253671093329,61.60117304111215,64.36980772064261,63.90890572093223,69.26393475126136,63.74555027598206,58.41238074878582,60.43727467676387,65.52217217062243,61.999733532812755,63.58408850604681,70.40479694192699,59.92383894622191,61.07763581590169,68.52848550176319],\"yaxis\":\"y\"},{\"alignmentgroup\":\"True\",\"bingroup\":\"x\",\"hovertemplate\":\"cluster_label=b<br>math=%{x}<br>count=%{y}<extra></extra>\",\"legendgroup\":\"b\",\"marker\":{\"color\":\"#EF553B\"},\"name\":\"b\",\"offsetgroup\":\"b\",\"opacity\":0.5,\"showlegend\":false,\"type\":\"histogram\",\"x\":[63.89574036374801,55.557390084353266,69.66260049446268,74.1550336790567,64.22972491351324,78.1931380187499,71.03573077165316,73.89662746244692,67.80420969021847,75.4936900931421,81.60948066544853,68.61992807590381,73.19772408644454,70.92640219875135,63.13474188867857,66.23364338251547,62.420268863309,77.92976266209023,74.8638609648485,70.94503643991193,66.88489952030433,71.45520128655588,60.60711313532401,56.686487626081565,69.42544678900119,70.46074191312174,77.06253405765503,74.20340968590902,68.43145995421919,72.6417881375353,69.23060493470017,68.57075525655983,62.7370313492972,68.9731495580112,68.6283728768037,79.74281660479667,68.90576352945159,79.06711401132523,70.31031574696033,74.20492239108826,85.70060979793185,64.21331209076598,60.77937315626638,68.84676333449708,66.73304067191725,72.20192662088638,74.60978974973051,77.97301059043538,75.64878248885876,84.95071137552878,86.77132566593039,67.2587547585905,66.0842888962312,72.07931301409262,69.68823060075623,57.64221276241261,74.83985730082738,72.05025435828507,57.92850802739906,79.80092340439126,66.02447875000432,70.73229521127156,75.29612687761639,51.485614307887786,75.4898503719829,62.83959839725153,78.19890840218488,76.66760518228732,60.48845100009222,69.31400094383731,65.64802107641952,65.77732353138249,73.12572002477282,76.81904026689264,70.06732877884144,75.87173612110462,68.03528474280594,69.69984777916088,62.49275429500659,67.00347544783045,56.971395871016576,72.81030751159477,72.28175324349222,70.12944769039669,79.58665904172163,68.5531910470923,67.5154057462598,51.995806954767815,81.10885698170868,79.82758622621635,69.56412986901907,65.30564696408085,58.7648487966667,75.45621511982041,76.57350946243241,71.59355730576937,75.23866118424647,71.8734757996419,66.80166178120345,67.77136798093707],\"xaxis\":\"x3\",\"yaxis\":\"y3\"},{\"alignmentgroup\":\"True\",\"bingroup\":\"y\",\"hovertemplate\":\"cluster_label=b<br>physics=%{y}<br>count=%{x}<extra></extra>\",\"legendgroup\":\"b\",\"marker\":{\"color\":\"#EF553B\"},\"name\":\"b\",\"offsetgroup\":\"b\",\"opacity\":0.5,\"showlegend\":false,\"type\":\"histogram\",\"xaxis\":\"x2\",\"y\":[64.34252457604107,68.71721770357314,67.81809373898139,56.06603936227545,68.05497105636897,66.04529291270946,72.68808855474435,59.468540451722184,67.81337679216344,60.76961858534862,64.128541988741,62.634258240991144,64.92133070409807,67.76225877575074,64.85367311890549,67.81114106728529,73.55135970336335,64.781579187953,76.45275772760613,67.52394677771402,64.1026837160544,58.79721371356593,69.59508869325344,63.089051680347985,65.859644831974,61.42263906797854,65.96836946648274,72.4725849856624,67.33719865836399,76.66914022195105,69.41901541670426,54.50733921842932,76.8295749880665,73.88139646672872,65.27630767203038,66.30664968989858,60.85833934009541,63.998548397907484,58.8508679350604,61.559763437432146,61.620071455098525,71.32016364185243,55.071367799739946,64.0360989477544,63.028022053551894,57.675785092462,59.281682740529185,62.518827268463255,60.019969190502266,60.85340132387298,65.26064716859776,64.81975444295414,61.15531633017687,74.96080626445183,55.84144064577484,55.94181959060643,57.879756898808765,72.11076670551004,62.762776061668355,58.71168827231341,63.8816989362217,55.26001127061737,67.35421599383437,61.11380636604146,64.31628442403544,64.87441205721974,65.77480999292604,57.29681788674693,59.07545405732011,58.52139098040013,58.67664717475293,66.2438568955677,63.235902621768886,68.94304830216667,63.502864713160356,65.11440241134689,62.84764295671311,62.166664450490316,64.01102069456196,63.43748920795238,65.71919557581792,62.51803625059731,58.36699884661167,66.92007425333996,68.8180842260567,67.65253671093329,61.60117304111215,64.36980772064261,63.90890572093223,69.26393475126136,63.74555027598206,58.41238074878582,60.43727467676387,65.52217217062243,61.999733532812755,63.58408850604681,70.40479694192699,59.92383894622191,61.07763581590169,68.52848550176319],\"yaxis\":\"y2\"}],                        {\"barmode\":\"overlay\",\"legend\":{\"title\":{\"text\":\"cluster_label\"},\"tracegroupgap\":0},\"margin\":{\"t\":60},\"template\":{\"data\":{\"bar\":[{\"error_x\":{\"color\":\"#2a3f5f\"},\"error_y\":{\"color\":\"#2a3f5f\"},\"marker\":{\"line\":{\"color\":\"#E5ECF6\",\"width\":0.5},\"pattern\":{\"fillmode\":\"overlay\",\"size\":10,\"solidity\":0.2}},\"type\":\"bar\"}],\"barpolar\":[{\"marker\":{\"line\":{\"color\":\"#E5ECF6\",\"width\":0.5},\"pattern\":{\"fillmode\":\"overlay\",\"size\":10,\"solidity\":0.2}},\"type\":\"barpolar\"}],\"carpet\":[{\"aaxis\":{\"endlinecolor\":\"#2a3f5f\",\"gridcolor\":\"white\",\"linecolor\":\"white\",\"minorgridcolor\":\"white\",\"startlinecolor\":\"#2a3f5f\"},\"baxis\":{\"endlinecolor\":\"#2a3f5f\",\"gridcolor\":\"white\",\"linecolor\":\"white\",\"minorgridcolor\":\"white\",\"startlinecolor\":\"#2a3f5f\"},\"type\":\"carpet\"}],\"choropleth\":[{\"colorbar\":{\"outlinewidth\":0,\"ticks\":\"\"},\"type\":\"choropleth\"}],\"contour\":[{\"colorbar\":{\"outlinewidth\":0,\"ticks\":\"\"},\"colorscale\":[[0.0,\"#0d0887\"],[0.1111111111111111,\"#46039f\"],[0.2222222222222222,\"#7201a8\"],[0.3333333333333333,\"#9c179e\"],[0.4444444444444444,\"#bd3786\"],[0.5555555555555556,\"#d8576b\"],[0.6666666666666666,\"#ed7953\"],[0.7777777777777778,\"#fb9f3a\"],[0.8888888888888888,\"#fdca26\"],[1.0,\"#f0f921\"]],\"type\":\"contour\"}],\"contourcarpet\":[{\"colorbar\":{\"outlinewidth\":0,\"ticks\":\"\"},\"type\":\"contourcarpet\"}],\"heatmap\":[{\"colorbar\":{\"outlinewidth\":0,\"ticks\":\"\"},\"colorscale\":[[0.0,\"#0d0887\"],[0.1111111111111111,\"#46039f\"],[0.2222222222222222,\"#7201a8\"],[0.3333333333333333,\"#9c179e\"],[0.4444444444444444,\"#bd3786\"],[0.5555555555555556,\"#d8576b\"],[0.6666666666666666,\"#ed7953\"],[0.7777777777777778,\"#fb9f3a\"],[0.8888888888888888,\"#fdca26\"],[1.0,\"#f0f921\"]],\"type\":\"heatmap\"}],\"heatmapgl\":[{\"colorbar\":{\"outlinewidth\":0,\"ticks\":\"\"},\"colorscale\":[[0.0,\"#0d0887\"],[0.1111111111111111,\"#46039f\"],[0.2222222222222222,\"#7201a8\"],[0.3333333333333333,\"#9c179e\"],[0.4444444444444444,\"#bd3786\"],[0.5555555555555556,\"#d8576b\"],[0.6666666666666666,\"#ed7953\"],[0.7777777777777778,\"#fb9f3a\"],[0.8888888888888888,\"#fdca26\"],[1.0,\"#f0f921\"]],\"type\":\"heatmapgl\"}],\"histogram\":[{\"marker\":{\"pattern\":{\"fillmode\":\"overlay\",\"size\":10,\"solidity\":0.2}},\"type\":\"histogram\"}],\"histogram2d\":[{\"colorbar\":{\"outlinewidth\":0,\"ticks\":\"\"},\"colorscale\":[[0.0,\"#0d0887\"],[0.1111111111111111,\"#46039f\"],[0.2222222222222222,\"#7201a8\"],[0.3333333333333333,\"#9c179e\"],[0.4444444444444444,\"#bd3786\"],[0.5555555555555556,\"#d8576b\"],[0.6666666666666666,\"#ed7953\"],[0.7777777777777778,\"#fb9f3a\"],[0.8888888888888888,\"#fdca26\"],[1.0,\"#f0f921\"]],\"type\":\"histogram2d\"}],\"histogram2dcontour\":[{\"colorbar\":{\"outlinewidth\":0,\"ticks\":\"\"},\"colorscale\":[[0.0,\"#0d0887\"],[0.1111111111111111,\"#46039f\"],[0.2222222222222222,\"#7201a8\"],[0.3333333333333333,\"#9c179e\"],[0.4444444444444444,\"#bd3786\"],[0.5555555555555556,\"#d8576b\"],[0.6666666666666666,\"#ed7953\"],[0.7777777777777778,\"#fb9f3a\"],[0.8888888888888888,\"#fdca26\"],[1.0,\"#f0f921\"]],\"type\":\"histogram2dcontour\"}],\"mesh3d\":[{\"colorbar\":{\"outlinewidth\":0,\"ticks\":\"\"},\"type\":\"mesh3d\"}],\"parcoords\":[{\"line\":{\"colorbar\":{\"outlinewidth\":0,\"ticks\":\"\"}},\"type\":\"parcoords\"}],\"pie\":[{\"automargin\":true,\"type\":\"pie\"}],\"scatter\":[{\"marker\":{\"colorbar\":{\"outlinewidth\":0,\"ticks\":\"\"}},\"type\":\"scatter\"}],\"scatter3d\":[{\"line\":{\"colorbar\":{\"outlinewidth\":0,\"ticks\":\"\"}},\"marker\":{\"colorbar\":{\"outlinewidth\":0,\"ticks\":\"\"}},\"type\":\"scatter3d\"}],\"scattercarpet\":[{\"marker\":{\"colorbar\":{\"outlinewidth\":0,\"ticks\":\"\"}},\"type\":\"scattercarpet\"}],\"scattergeo\":[{\"marker\":{\"colorbar\":{\"outlinewidth\":0,\"ticks\":\"\"}},\"type\":\"scattergeo\"}],\"scattergl\":[{\"marker\":{\"colorbar\":{\"outlinewidth\":0,\"ticks\":\"\"}},\"type\":\"scattergl\"}],\"scattermapbox\":[{\"marker\":{\"colorbar\":{\"outlinewidth\":0,\"ticks\":\"\"}},\"type\":\"scattermapbox\"}],\"scatterpolar\":[{\"marker\":{\"colorbar\":{\"outlinewidth\":0,\"ticks\":\"\"}},\"type\":\"scatterpolar\"}],\"scatterpolargl\":[{\"marker\":{\"colorbar\":{\"outlinewidth\":0,\"ticks\":\"\"}},\"type\":\"scatterpolargl\"}],\"scatterternary\":[{\"marker\":{\"colorbar\":{\"outlinewidth\":0,\"ticks\":\"\"}},\"type\":\"scatterternary\"}],\"surface\":[{\"colorbar\":{\"outlinewidth\":0,\"ticks\":\"\"},\"colorscale\":[[0.0,\"#0d0887\"],[0.1111111111111111,\"#46039f\"],[0.2222222222222222,\"#7201a8\"],[0.3333333333333333,\"#9c179e\"],[0.4444444444444444,\"#bd3786\"],[0.5555555555555556,\"#d8576b\"],[0.6666666666666666,\"#ed7953\"],[0.7777777777777778,\"#fb9f3a\"],[0.8888888888888888,\"#fdca26\"],[1.0,\"#f0f921\"]],\"type\":\"surface\"}],\"table\":[{\"cells\":{\"fill\":{\"color\":\"#EBF0F8\"},\"line\":{\"color\":\"white\"}},\"header\":{\"fill\":{\"color\":\"#C8D4E3\"},\"line\":{\"color\":\"white\"}},\"type\":\"table\"}]},\"layout\":{\"annotationdefaults\":{\"arrowcolor\":\"#2a3f5f\",\"arrowhead\":0,\"arrowwidth\":1},\"autotypenumbers\":\"strict\",\"coloraxis\":{\"colorbar\":{\"outlinewidth\":0,\"ticks\":\"\"}},\"colorscale\":{\"diverging\":[[0,\"#8e0152\"],[0.1,\"#c51b7d\"],[0.2,\"#de77ae\"],[0.3,\"#f1b6da\"],[0.4,\"#fde0ef\"],[0.5,\"#f7f7f7\"],[0.6,\"#e6f5d0\"],[0.7,\"#b8e186\"],[0.8,\"#7fbc41\"],[0.9,\"#4d9221\"],[1,\"#276419\"]],\"sequential\":[[0.0,\"#0d0887\"],[0.1111111111111111,\"#46039f\"],[0.2222222222222222,\"#7201a8\"],[0.3333333333333333,\"#9c179e\"],[0.4444444444444444,\"#bd3786\"],[0.5555555555555556,\"#d8576b\"],[0.6666666666666666,\"#ed7953\"],[0.7777777777777778,\"#fb9f3a\"],[0.8888888888888888,\"#fdca26\"],[1.0,\"#f0f921\"]],\"sequentialminus\":[[0.0,\"#0d0887\"],[0.1111111111111111,\"#46039f\"],[0.2222222222222222,\"#7201a8\"],[0.3333333333333333,\"#9c179e\"],[0.4444444444444444,\"#bd3786\"],[0.5555555555555556,\"#d8576b\"],[0.6666666666666666,\"#ed7953\"],[0.7777777777777778,\"#fb9f3a\"],[0.8888888888888888,\"#fdca26\"],[1.0,\"#f0f921\"]]},\"colorway\":[\"#636efa\",\"#EF553B\",\"#00cc96\",\"#ab63fa\",\"#FFA15A\",\"#19d3f3\",\"#FF6692\",\"#B6E880\",\"#FF97FF\",\"#FECB52\"],\"font\":{\"color\":\"#2a3f5f\"},\"geo\":{\"bgcolor\":\"white\",\"lakecolor\":\"white\",\"landcolor\":\"#E5ECF6\",\"showlakes\":true,\"showland\":true,\"subunitcolor\":\"white\"},\"hoverlabel\":{\"align\":\"left\"},\"hovermode\":\"closest\",\"mapbox\":{\"style\":\"light\"},\"paper_bgcolor\":\"white\",\"plot_bgcolor\":\"#E5ECF6\",\"polar\":{\"angularaxis\":{\"gridcolor\":\"white\",\"linecolor\":\"white\",\"ticks\":\"\"},\"bgcolor\":\"#E5ECF6\",\"radialaxis\":{\"gridcolor\":\"white\",\"linecolor\":\"white\",\"ticks\":\"\"}},\"scene\":{\"xaxis\":{\"backgroundcolor\":\"#E5ECF6\",\"gridcolor\":\"white\",\"gridwidth\":2,\"linecolor\":\"white\",\"showbackground\":true,\"ticks\":\"\",\"zerolinecolor\":\"white\"},\"yaxis\":{\"backgroundcolor\":\"#E5ECF6\",\"gridcolor\":\"white\",\"gridwidth\":2,\"linecolor\":\"white\",\"showbackground\":true,\"ticks\":\"\",\"zerolinecolor\":\"white\"},\"zaxis\":{\"backgroundcolor\":\"#E5ECF6\",\"gridcolor\":\"white\",\"gridwidth\":2,\"linecolor\":\"white\",\"showbackground\":true,\"ticks\":\"\",\"zerolinecolor\":\"white\"}},\"shapedefaults\":{\"line\":{\"color\":\"#2a3f5f\"}},\"ternary\":{\"aaxis\":{\"gridcolor\":\"white\",\"linecolor\":\"white\",\"ticks\":\"\"},\"baxis\":{\"gridcolor\":\"white\",\"linecolor\":\"white\",\"ticks\":\"\"},\"bgcolor\":\"#E5ECF6\",\"caxis\":{\"gridcolor\":\"white\",\"linecolor\":\"white\",\"ticks\":\"\"}},\"title\":{\"x\":0.05},\"xaxis\":{\"automargin\":true,\"gridcolor\":\"white\",\"linecolor\":\"white\",\"ticks\":\"\",\"title\":{\"standoff\":15},\"zerolinecolor\":\"white\",\"zerolinewidth\":2},\"yaxis\":{\"automargin\":true,\"gridcolor\":\"white\",\"linecolor\":\"white\",\"ticks\":\"\",\"title\":{\"standoff\":15},\"zerolinecolor\":\"white\",\"zerolinewidth\":2}}},\"xaxis\":{\"anchor\":\"y\",\"domain\":[0.0,0.7363],\"title\":{\"text\":\"math\"}},\"xaxis2\":{\"anchor\":\"y2\",\"domain\":[0.7413,1.0],\"matches\":\"x2\",\"showgrid\":true,\"showline\":false,\"showticklabels\":false,\"ticks\":\"\"},\"xaxis3\":{\"anchor\":\"y3\",\"domain\":[0.0,0.7363],\"matches\":\"x\",\"showgrid\":true,\"showticklabels\":false},\"xaxis4\":{\"anchor\":\"y4\",\"domain\":[0.7413,1.0],\"matches\":\"x2\",\"showgrid\":true,\"showline\":false,\"showticklabels\":false,\"ticks\":\"\"},\"yaxis\":{\"anchor\":\"x\",\"domain\":[0.0,0.7326],\"title\":{\"text\":\"physics\"}},\"yaxis2\":{\"anchor\":\"x2\",\"domain\":[0.0,0.7326],\"matches\":\"y\",\"showgrid\":true,\"showticklabels\":false},\"yaxis3\":{\"anchor\":\"x3\",\"domain\":[0.7426,1.0],\"matches\":\"y3\",\"showgrid\":true,\"showline\":false,\"showticklabels\":false,\"ticks\":\"\"},\"yaxis4\":{\"anchor\":\"x4\",\"domain\":[0.7426,1.0],\"matches\":\"y3\",\"showgrid\":true,\"showline\":false,\"showticklabels\":false,\"ticks\":\"\"}},                        {\"responsive\": true}                    ).then(function(){\n",
       "                            \n",
       "var gd = document.getElementById('fb891789-9d44-4cb7-88e1-f50db9d2de18');\n",
       "var x = new MutationObserver(function (mutations, observer) {{\n",
       "        var display = window.getComputedStyle(gd).display;\n",
       "        if (!display || display === 'none') {{\n",
       "            console.log([gd, 'removed!']);\n",
       "            Plotly.purge(gd);\n",
       "            observer.disconnect();\n",
       "        }}\n",
       "}});\n",
       "\n",
       "// Listen for the removal of the full notebook cells\n",
       "var notebookContainer = gd.closest('#notebook-container');\n",
       "if (notebookContainer) {{\n",
       "    x.observe(notebookContainer, {childList: true});\n",
       "}}\n",
       "\n",
       "// Listen for the clearing of the current output cell\n",
       "var outputEl = gd.closest('.output');\n",
       "if (outputEl) {{\n",
       "    x.observe(outputEl, {childList: true});\n",
       "}}\n",
       "\n",
       "                        })                };                });            </script>        </div>"
      ]
     },
     "metadata": {},
     "output_type": "display_data"
    }
   ],
   "source": [
    "px.scatter(data_frame=final_data, x='math', y='physics', color='cluster_label', marginal_x='histogram', marginal_y='histogram')"
   ]
  },
  {
   "cell_type": "markdown",
   "metadata": {},
   "source": [
    "### In GMM - our objective is to find out the parameters of the above two gaussians from the data"
   ]
  },
  {
   "cell_type": "code",
   "execution_count": 17,
   "metadata": {},
   "outputs": [
    {
     "data": {
      "application/vnd.plotly.v1+json": {
       "config": {
        "plotlyServerURL": "https://plot.ly"
       },
       "data": [
        {
         "hovertemplate": "math=%{x}<br>physics=%{y}<extra></extra>",
         "legendgroup": "",
         "marker": {
          "color": "#636efa",
          "symbol": "circle"
         },
         "mode": "markers",
         "name": "",
         "orientation": "v",
         "showlegend": false,
         "type": "scatter",
         "x": [
          66.07655910110478,
          64.58684690046825,
          59.885286121281474,
          61.07954805622612,
          54.87670159273362,
          63.026514835556384,
          63.92363334002261,
          49.74589644069059,
          59.4945415058746,
          63.981063139554664,
          61.08268686977042,
          59.81894519183068,
          57.49416534785671,
          56.90561004905844,
          57.739598214105364,
          65.74612459620937,
          58.48096074360947,
          54.48589475910658,
          53.916857179716736,
          58.15149205854583,
          63.21583850896875,
          55.31145974057622,
          57.686310535517556,
          54.4143134625789,
          64.03291301573323,
          57.30898318572346,
          62.12330585941871,
          66.63485926941188,
          56.714839920120816,
          61.7902482363347,
          58.54467315580185,
          53.2884021735914,
          61.77023895992531,
          51.62580612599437,
          59.86599431032879,
          70.3413745780841,
          58.060869473461125,
          59.573775005991884,
          59.620375915105086,
          57.78843451497578,
          54.36255396239566,
          67.39879790326263,
          59.35484858496795,
          55.636629918511744,
          58.62911051754044,
          64.14702706651387,
          58.33023277726518,
          58.23138021502757,
          51.32156795193504,
          64.92686163324733,
          58.25798689252621,
          47.92125696108154,
          59.61576882116469,
          56.24669958097997,
          56.141188400870725,
          56.49693149546679,
          65.16555317703492,
          64.0961838659947,
          60.51019924587212,
          55.81479897533023,
          61.07251379404362,
          57.811883610458985,
          54.999071560276604,
          61.09265349224977,
          64.41730432065631,
          64.67450832816711,
          52.82997816998279,
          69.58700840966533,
          54.91295410397741,
          51.1354157321761,
          59.47897700455823,
          52.308373764489694,
          63.51742994733272,
          51.43377389828453,
          55.377128422359036,
          53.85236631790547,
          62.95967225724537,
          49.187688699255034,
          56.251204906297986,
          60.399992630226485,
          51.59879703769515,
          59.55797333766452,
          59.860188673427416,
          59.196636732316485,
          56.8127693629386,
          62.92238814613842,
          65.80200476904113,
          55.74006638946511,
          59.19572042743605,
          58.93707358729214,
          52.57004834788904,
          52.074299050487966,
          69.66489705427587,
          65.5027823980843,
          62.39454280751154,
          50.36923087842238,
          60.92735729690802,
          70.91760670958335,
          52.011946072405166,
          47.27315490557212,
          63.89574036374801,
          55.557390084353266,
          69.66260049446268,
          74.1550336790567,
          64.22972491351324,
          78.1931380187499,
          71.03573077165316,
          73.89662746244692,
          67.80420969021847,
          75.4936900931421,
          81.60948066544853,
          68.61992807590381,
          73.19772408644454,
          70.92640219875135,
          63.13474188867857,
          66.23364338251547,
          62.420268863309,
          77.92976266209023,
          74.8638609648485,
          70.94503643991193,
          66.88489952030433,
          71.45520128655588,
          60.60711313532401,
          56.686487626081565,
          69.42544678900119,
          70.46074191312174,
          77.06253405765503,
          74.20340968590902,
          68.43145995421919,
          72.6417881375353,
          69.23060493470017,
          68.57075525655983,
          62.7370313492972,
          68.9731495580112,
          68.6283728768037,
          79.74281660479667,
          68.90576352945159,
          79.06711401132523,
          70.31031574696033,
          74.20492239108826,
          85.70060979793185,
          64.21331209076598,
          60.77937315626638,
          68.84676333449708,
          66.73304067191725,
          72.20192662088638,
          74.60978974973051,
          77.97301059043538,
          75.64878248885876,
          84.95071137552878,
          86.77132566593039,
          67.2587547585905,
          66.0842888962312,
          72.07931301409262,
          69.68823060075623,
          57.64221276241261,
          74.83985730082738,
          72.05025435828507,
          57.92850802739906,
          79.80092340439126,
          66.02447875000432,
          70.73229521127156,
          75.29612687761639,
          51.485614307887786,
          75.4898503719829,
          62.83959839725153,
          78.19890840218488,
          76.66760518228732,
          60.48845100009222,
          69.31400094383731,
          65.64802107641952,
          65.77732353138249,
          73.12572002477282,
          76.81904026689264,
          70.06732877884144,
          75.87173612110462,
          68.03528474280594,
          69.69984777916088,
          62.49275429500659,
          67.00347544783045,
          56.971395871016576,
          72.81030751159477,
          72.28175324349222,
          70.12944769039669,
          79.58665904172163,
          68.5531910470923,
          67.5154057462598,
          51.995806954767815,
          81.10885698170868,
          79.82758622621635,
          69.56412986901907,
          65.30564696408085,
          58.7648487966667,
          75.45621511982041,
          76.57350946243241,
          71.59355730576937,
          75.23866118424647,
          71.8734757996419,
          66.80166178120345,
          67.77136798093707
         ],
         "xaxis": "x",
         "y": [
          75.02267074128348,
          69.40658142684302,
          97.0529154957918,
          82.22930145663497,
          77.31748976697097,
          72.6753806102657,
          77.33210970572637,
          89.77120243689498,
          87.21166301098748,
          83.71998324236533,
          72.20847556042912,
          77.97359070500161,
          77.38865906815667,
          75.55163838666714,
          84.99835163815257,
          74.16470325492844,
          71.2961199122941,
          70.78117530137412,
          90.91810074022277,
          89.8212160621579,
          70.58172750672075,
          72.33960299891064,
          73.53324166155956,
          85.68547493421262,
          77.31745943464709,
          80.00618550339621,
          85.68691846828223,
          65.38193721070054,
          76.94591706845337,
          74.38036681718074,
          79.5115153046304,
          79.90050182126886,
          89.86338193380526,
          86.81521203980512,
          97.62138846294513,
          78.62643975344307,
          78.37402399162862,
          74.83541860213576,
          86.63810080862365,
          68.87459794609158,
          71.81574025828414,
          80.69671723996808,
          81.35736934787451,
          74.9497668439863,
          78.04440193342415,
          78.86044433954028,
          76.62219314103315,
          78.25287466850979,
          80.86322329916706,
          83.56413310489036,
          71.40262563445778,
          75.61941611388269,
          81.87963967106536,
          72.284576523007,
          71.20634433035035,
          78.7199917824538,
          82.80474427046533,
          74.10265757269818,
          70.57576738566982,
          80.3090011142071,
          74.41091228661968,
          70.96609466433009,
          75.46923394021725,
          82.73877235306664,
          84.87313970097937,
          80.4643959000042,
          81.95293759678843,
          66.52066796593013,
          83.73032928854306,
          71.84220321004715,
          67.61009112924,
          85.69200105743404,
          66.35531965370689,
          88.49439754282531,
          85.73650684799615,
          73.26513168016132,
          73.61946800165812,
          76.2909173276789,
          81.38958921252419,
          79.92530041749929,
          73.22726455816004,
          75.39946956576925,
          72.61886998785069,
          87.12472595637631,
          73.91671014700368,
          77.40402943501208,
          76.61828459699807,
          77.33780595928292,
          85.27263193081123,
          89.1553947673997,
          86.85189500253344,
          71.98225021114956,
          75.88787142526621,
          74.09359885816912,
          76.28364650276743,
          60.88305790898999,
          73.2042101736541,
          87.44914866584722,
          87.83947341403,
          62.72907963302825,
          64.34252457604107,
          68.71721770357314,
          67.81809373898139,
          56.06603936227545,
          68.05497105636897,
          66.04529291270946,
          72.68808855474435,
          59.468540451722184,
          67.81337679216344,
          60.76961858534862,
          64.128541988741,
          62.634258240991144,
          64.92133070409807,
          67.76225877575074,
          64.85367311890549,
          67.81114106728529,
          73.55135970336335,
          64.781579187953,
          76.45275772760613,
          67.52394677771402,
          64.1026837160544,
          58.79721371356593,
          69.59508869325344,
          63.089051680347985,
          65.859644831974,
          61.42263906797854,
          65.96836946648274,
          72.4725849856624,
          67.33719865836399,
          76.66914022195105,
          69.41901541670426,
          54.50733921842932,
          76.8295749880665,
          73.88139646672872,
          65.27630767203038,
          66.30664968989858,
          60.85833934009541,
          63.998548397907484,
          58.8508679350604,
          61.559763437432146,
          61.620071455098525,
          71.32016364185243,
          55.071367799739946,
          64.0360989477544,
          63.028022053551894,
          57.675785092462,
          59.281682740529185,
          62.518827268463255,
          60.019969190502266,
          60.85340132387298,
          65.26064716859776,
          64.81975444295414,
          61.15531633017687,
          74.96080626445183,
          55.84144064577484,
          55.94181959060643,
          57.879756898808765,
          72.11076670551004,
          62.762776061668355,
          58.71168827231341,
          63.8816989362217,
          55.26001127061737,
          67.35421599383437,
          61.11380636604146,
          64.31628442403544,
          64.87441205721974,
          65.77480999292604,
          57.29681788674693,
          59.07545405732011,
          58.52139098040013,
          58.67664717475293,
          66.2438568955677,
          63.235902621768886,
          68.94304830216667,
          63.502864713160356,
          65.11440241134689,
          62.84764295671311,
          62.166664450490316,
          64.01102069456196,
          63.43748920795238,
          65.71919557581792,
          62.51803625059731,
          58.36699884661167,
          66.92007425333996,
          68.8180842260567,
          67.65253671093329,
          61.60117304111215,
          64.36980772064261,
          63.90890572093223,
          69.26393475126136,
          63.74555027598206,
          58.41238074878582,
          60.43727467676387,
          65.52217217062243,
          61.999733532812755,
          63.58408850604681,
          70.40479694192699,
          59.92383894622191,
          61.07763581590169,
          68.52848550176319
         ],
         "yaxis": "y"
        },
        {
         "alignmentgroup": "True",
         "bingroup": "x",
         "hovertemplate": "math=%{x}<br>count=%{y}<extra></extra>",
         "legendgroup": "",
         "marker": {
          "color": "#636efa"
         },
         "name": "",
         "offsetgroup": "",
         "opacity": 0.5,
         "showlegend": false,
         "type": "histogram",
         "x": [
          66.07655910110478,
          64.58684690046825,
          59.885286121281474,
          61.07954805622612,
          54.87670159273362,
          63.026514835556384,
          63.92363334002261,
          49.74589644069059,
          59.4945415058746,
          63.981063139554664,
          61.08268686977042,
          59.81894519183068,
          57.49416534785671,
          56.90561004905844,
          57.739598214105364,
          65.74612459620937,
          58.48096074360947,
          54.48589475910658,
          53.916857179716736,
          58.15149205854583,
          63.21583850896875,
          55.31145974057622,
          57.686310535517556,
          54.4143134625789,
          64.03291301573323,
          57.30898318572346,
          62.12330585941871,
          66.63485926941188,
          56.714839920120816,
          61.7902482363347,
          58.54467315580185,
          53.2884021735914,
          61.77023895992531,
          51.62580612599437,
          59.86599431032879,
          70.3413745780841,
          58.060869473461125,
          59.573775005991884,
          59.620375915105086,
          57.78843451497578,
          54.36255396239566,
          67.39879790326263,
          59.35484858496795,
          55.636629918511744,
          58.62911051754044,
          64.14702706651387,
          58.33023277726518,
          58.23138021502757,
          51.32156795193504,
          64.92686163324733,
          58.25798689252621,
          47.92125696108154,
          59.61576882116469,
          56.24669958097997,
          56.141188400870725,
          56.49693149546679,
          65.16555317703492,
          64.0961838659947,
          60.51019924587212,
          55.81479897533023,
          61.07251379404362,
          57.811883610458985,
          54.999071560276604,
          61.09265349224977,
          64.41730432065631,
          64.67450832816711,
          52.82997816998279,
          69.58700840966533,
          54.91295410397741,
          51.1354157321761,
          59.47897700455823,
          52.308373764489694,
          63.51742994733272,
          51.43377389828453,
          55.377128422359036,
          53.85236631790547,
          62.95967225724537,
          49.187688699255034,
          56.251204906297986,
          60.399992630226485,
          51.59879703769515,
          59.55797333766452,
          59.860188673427416,
          59.196636732316485,
          56.8127693629386,
          62.92238814613842,
          65.80200476904113,
          55.74006638946511,
          59.19572042743605,
          58.93707358729214,
          52.57004834788904,
          52.074299050487966,
          69.66489705427587,
          65.5027823980843,
          62.39454280751154,
          50.36923087842238,
          60.92735729690802,
          70.91760670958335,
          52.011946072405166,
          47.27315490557212,
          63.89574036374801,
          55.557390084353266,
          69.66260049446268,
          74.1550336790567,
          64.22972491351324,
          78.1931380187499,
          71.03573077165316,
          73.89662746244692,
          67.80420969021847,
          75.4936900931421,
          81.60948066544853,
          68.61992807590381,
          73.19772408644454,
          70.92640219875135,
          63.13474188867857,
          66.23364338251547,
          62.420268863309,
          77.92976266209023,
          74.8638609648485,
          70.94503643991193,
          66.88489952030433,
          71.45520128655588,
          60.60711313532401,
          56.686487626081565,
          69.42544678900119,
          70.46074191312174,
          77.06253405765503,
          74.20340968590902,
          68.43145995421919,
          72.6417881375353,
          69.23060493470017,
          68.57075525655983,
          62.7370313492972,
          68.9731495580112,
          68.6283728768037,
          79.74281660479667,
          68.90576352945159,
          79.06711401132523,
          70.31031574696033,
          74.20492239108826,
          85.70060979793185,
          64.21331209076598,
          60.77937315626638,
          68.84676333449708,
          66.73304067191725,
          72.20192662088638,
          74.60978974973051,
          77.97301059043538,
          75.64878248885876,
          84.95071137552878,
          86.77132566593039,
          67.2587547585905,
          66.0842888962312,
          72.07931301409262,
          69.68823060075623,
          57.64221276241261,
          74.83985730082738,
          72.05025435828507,
          57.92850802739906,
          79.80092340439126,
          66.02447875000432,
          70.73229521127156,
          75.29612687761639,
          51.485614307887786,
          75.4898503719829,
          62.83959839725153,
          78.19890840218488,
          76.66760518228732,
          60.48845100009222,
          69.31400094383731,
          65.64802107641952,
          65.77732353138249,
          73.12572002477282,
          76.81904026689264,
          70.06732877884144,
          75.87173612110462,
          68.03528474280594,
          69.69984777916088,
          62.49275429500659,
          67.00347544783045,
          56.971395871016576,
          72.81030751159477,
          72.28175324349222,
          70.12944769039669,
          79.58665904172163,
          68.5531910470923,
          67.5154057462598,
          51.995806954767815,
          81.10885698170868,
          79.82758622621635,
          69.56412986901907,
          65.30564696408085,
          58.7648487966667,
          75.45621511982041,
          76.57350946243241,
          71.59355730576937,
          75.23866118424647,
          71.8734757996419,
          66.80166178120345,
          67.77136798093707
         ],
         "xaxis": "x3",
         "yaxis": "y3"
        },
        {
         "alignmentgroup": "True",
         "bingroup": "y",
         "hovertemplate": "physics=%{y}<br>count=%{x}<extra></extra>",
         "legendgroup": "",
         "marker": {
          "color": "#636efa"
         },
         "name": "",
         "offsetgroup": "",
         "opacity": 0.5,
         "showlegend": false,
         "type": "histogram",
         "xaxis": "x2",
         "y": [
          75.02267074128348,
          69.40658142684302,
          97.0529154957918,
          82.22930145663497,
          77.31748976697097,
          72.6753806102657,
          77.33210970572637,
          89.77120243689498,
          87.21166301098748,
          83.71998324236533,
          72.20847556042912,
          77.97359070500161,
          77.38865906815667,
          75.55163838666714,
          84.99835163815257,
          74.16470325492844,
          71.2961199122941,
          70.78117530137412,
          90.91810074022277,
          89.8212160621579,
          70.58172750672075,
          72.33960299891064,
          73.53324166155956,
          85.68547493421262,
          77.31745943464709,
          80.00618550339621,
          85.68691846828223,
          65.38193721070054,
          76.94591706845337,
          74.38036681718074,
          79.5115153046304,
          79.90050182126886,
          89.86338193380526,
          86.81521203980512,
          97.62138846294513,
          78.62643975344307,
          78.37402399162862,
          74.83541860213576,
          86.63810080862365,
          68.87459794609158,
          71.81574025828414,
          80.69671723996808,
          81.35736934787451,
          74.9497668439863,
          78.04440193342415,
          78.86044433954028,
          76.62219314103315,
          78.25287466850979,
          80.86322329916706,
          83.56413310489036,
          71.40262563445778,
          75.61941611388269,
          81.87963967106536,
          72.284576523007,
          71.20634433035035,
          78.7199917824538,
          82.80474427046533,
          74.10265757269818,
          70.57576738566982,
          80.3090011142071,
          74.41091228661968,
          70.96609466433009,
          75.46923394021725,
          82.73877235306664,
          84.87313970097937,
          80.4643959000042,
          81.95293759678843,
          66.52066796593013,
          83.73032928854306,
          71.84220321004715,
          67.61009112924,
          85.69200105743404,
          66.35531965370689,
          88.49439754282531,
          85.73650684799615,
          73.26513168016132,
          73.61946800165812,
          76.2909173276789,
          81.38958921252419,
          79.92530041749929,
          73.22726455816004,
          75.39946956576925,
          72.61886998785069,
          87.12472595637631,
          73.91671014700368,
          77.40402943501208,
          76.61828459699807,
          77.33780595928292,
          85.27263193081123,
          89.1553947673997,
          86.85189500253344,
          71.98225021114956,
          75.88787142526621,
          74.09359885816912,
          76.28364650276743,
          60.88305790898999,
          73.2042101736541,
          87.44914866584722,
          87.83947341403,
          62.72907963302825,
          64.34252457604107,
          68.71721770357314,
          67.81809373898139,
          56.06603936227545,
          68.05497105636897,
          66.04529291270946,
          72.68808855474435,
          59.468540451722184,
          67.81337679216344,
          60.76961858534862,
          64.128541988741,
          62.634258240991144,
          64.92133070409807,
          67.76225877575074,
          64.85367311890549,
          67.81114106728529,
          73.55135970336335,
          64.781579187953,
          76.45275772760613,
          67.52394677771402,
          64.1026837160544,
          58.79721371356593,
          69.59508869325344,
          63.089051680347985,
          65.859644831974,
          61.42263906797854,
          65.96836946648274,
          72.4725849856624,
          67.33719865836399,
          76.66914022195105,
          69.41901541670426,
          54.50733921842932,
          76.8295749880665,
          73.88139646672872,
          65.27630767203038,
          66.30664968989858,
          60.85833934009541,
          63.998548397907484,
          58.8508679350604,
          61.559763437432146,
          61.620071455098525,
          71.32016364185243,
          55.071367799739946,
          64.0360989477544,
          63.028022053551894,
          57.675785092462,
          59.281682740529185,
          62.518827268463255,
          60.019969190502266,
          60.85340132387298,
          65.26064716859776,
          64.81975444295414,
          61.15531633017687,
          74.96080626445183,
          55.84144064577484,
          55.94181959060643,
          57.879756898808765,
          72.11076670551004,
          62.762776061668355,
          58.71168827231341,
          63.8816989362217,
          55.26001127061737,
          67.35421599383437,
          61.11380636604146,
          64.31628442403544,
          64.87441205721974,
          65.77480999292604,
          57.29681788674693,
          59.07545405732011,
          58.52139098040013,
          58.67664717475293,
          66.2438568955677,
          63.235902621768886,
          68.94304830216667,
          63.502864713160356,
          65.11440241134689,
          62.84764295671311,
          62.166664450490316,
          64.01102069456196,
          63.43748920795238,
          65.71919557581792,
          62.51803625059731,
          58.36699884661167,
          66.92007425333996,
          68.8180842260567,
          67.65253671093329,
          61.60117304111215,
          64.36980772064261,
          63.90890572093223,
          69.26393475126136,
          63.74555027598206,
          58.41238074878582,
          60.43727467676387,
          65.52217217062243,
          61.999733532812755,
          63.58408850604681,
          70.40479694192699,
          59.92383894622191,
          61.07763581590169,
          68.52848550176319
         ],
         "yaxis": "y2"
        }
       ],
       "layout": {
        "barmode": "overlay",
        "legend": {
         "tracegroupgap": 0
        },
        "margin": {
         "t": 60
        },
        "template": {
         "data": {
          "bar": [
           {
            "error_x": {
             "color": "#2a3f5f"
            },
            "error_y": {
             "color": "#2a3f5f"
            },
            "marker": {
             "line": {
              "color": "#E5ECF6",
              "width": 0.5
             },
             "pattern": {
              "fillmode": "overlay",
              "size": 10,
              "solidity": 0.2
             }
            },
            "type": "bar"
           }
          ],
          "barpolar": [
           {
            "marker": {
             "line": {
              "color": "#E5ECF6",
              "width": 0.5
             },
             "pattern": {
              "fillmode": "overlay",
              "size": 10,
              "solidity": 0.2
             }
            },
            "type": "barpolar"
           }
          ],
          "carpet": [
           {
            "aaxis": {
             "endlinecolor": "#2a3f5f",
             "gridcolor": "white",
             "linecolor": "white",
             "minorgridcolor": "white",
             "startlinecolor": "#2a3f5f"
            },
            "baxis": {
             "endlinecolor": "#2a3f5f",
             "gridcolor": "white",
             "linecolor": "white",
             "minorgridcolor": "white",
             "startlinecolor": "#2a3f5f"
            },
            "type": "carpet"
           }
          ],
          "choropleth": [
           {
            "colorbar": {
             "outlinewidth": 0,
             "ticks": ""
            },
            "type": "choropleth"
           }
          ],
          "contour": [
           {
            "colorbar": {
             "outlinewidth": 0,
             "ticks": ""
            },
            "colorscale": [
             [
              0,
              "#0d0887"
             ],
             [
              0.1111111111111111,
              "#46039f"
             ],
             [
              0.2222222222222222,
              "#7201a8"
             ],
             [
              0.3333333333333333,
              "#9c179e"
             ],
             [
              0.4444444444444444,
              "#bd3786"
             ],
             [
              0.5555555555555556,
              "#d8576b"
             ],
             [
              0.6666666666666666,
              "#ed7953"
             ],
             [
              0.7777777777777778,
              "#fb9f3a"
             ],
             [
              0.8888888888888888,
              "#fdca26"
             ],
             [
              1,
              "#f0f921"
             ]
            ],
            "type": "contour"
           }
          ],
          "contourcarpet": [
           {
            "colorbar": {
             "outlinewidth": 0,
             "ticks": ""
            },
            "type": "contourcarpet"
           }
          ],
          "heatmap": [
           {
            "colorbar": {
             "outlinewidth": 0,
             "ticks": ""
            },
            "colorscale": [
             [
              0,
              "#0d0887"
             ],
             [
              0.1111111111111111,
              "#46039f"
             ],
             [
              0.2222222222222222,
              "#7201a8"
             ],
             [
              0.3333333333333333,
              "#9c179e"
             ],
             [
              0.4444444444444444,
              "#bd3786"
             ],
             [
              0.5555555555555556,
              "#d8576b"
             ],
             [
              0.6666666666666666,
              "#ed7953"
             ],
             [
              0.7777777777777778,
              "#fb9f3a"
             ],
             [
              0.8888888888888888,
              "#fdca26"
             ],
             [
              1,
              "#f0f921"
             ]
            ],
            "type": "heatmap"
           }
          ],
          "heatmapgl": [
           {
            "colorbar": {
             "outlinewidth": 0,
             "ticks": ""
            },
            "colorscale": [
             [
              0,
              "#0d0887"
             ],
             [
              0.1111111111111111,
              "#46039f"
             ],
             [
              0.2222222222222222,
              "#7201a8"
             ],
             [
              0.3333333333333333,
              "#9c179e"
             ],
             [
              0.4444444444444444,
              "#bd3786"
             ],
             [
              0.5555555555555556,
              "#d8576b"
             ],
             [
              0.6666666666666666,
              "#ed7953"
             ],
             [
              0.7777777777777778,
              "#fb9f3a"
             ],
             [
              0.8888888888888888,
              "#fdca26"
             ],
             [
              1,
              "#f0f921"
             ]
            ],
            "type": "heatmapgl"
           }
          ],
          "histogram": [
           {
            "marker": {
             "pattern": {
              "fillmode": "overlay",
              "size": 10,
              "solidity": 0.2
             }
            },
            "type": "histogram"
           }
          ],
          "histogram2d": [
           {
            "colorbar": {
             "outlinewidth": 0,
             "ticks": ""
            },
            "colorscale": [
             [
              0,
              "#0d0887"
             ],
             [
              0.1111111111111111,
              "#46039f"
             ],
             [
              0.2222222222222222,
              "#7201a8"
             ],
             [
              0.3333333333333333,
              "#9c179e"
             ],
             [
              0.4444444444444444,
              "#bd3786"
             ],
             [
              0.5555555555555556,
              "#d8576b"
             ],
             [
              0.6666666666666666,
              "#ed7953"
             ],
             [
              0.7777777777777778,
              "#fb9f3a"
             ],
             [
              0.8888888888888888,
              "#fdca26"
             ],
             [
              1,
              "#f0f921"
             ]
            ],
            "type": "histogram2d"
           }
          ],
          "histogram2dcontour": [
           {
            "colorbar": {
             "outlinewidth": 0,
             "ticks": ""
            },
            "colorscale": [
             [
              0,
              "#0d0887"
             ],
             [
              0.1111111111111111,
              "#46039f"
             ],
             [
              0.2222222222222222,
              "#7201a8"
             ],
             [
              0.3333333333333333,
              "#9c179e"
             ],
             [
              0.4444444444444444,
              "#bd3786"
             ],
             [
              0.5555555555555556,
              "#d8576b"
             ],
             [
              0.6666666666666666,
              "#ed7953"
             ],
             [
              0.7777777777777778,
              "#fb9f3a"
             ],
             [
              0.8888888888888888,
              "#fdca26"
             ],
             [
              1,
              "#f0f921"
             ]
            ],
            "type": "histogram2dcontour"
           }
          ],
          "mesh3d": [
           {
            "colorbar": {
             "outlinewidth": 0,
             "ticks": ""
            },
            "type": "mesh3d"
           }
          ],
          "parcoords": [
           {
            "line": {
             "colorbar": {
              "outlinewidth": 0,
              "ticks": ""
             }
            },
            "type": "parcoords"
           }
          ],
          "pie": [
           {
            "automargin": true,
            "type": "pie"
           }
          ],
          "scatter": [
           {
            "marker": {
             "colorbar": {
              "outlinewidth": 0,
              "ticks": ""
             }
            },
            "type": "scatter"
           }
          ],
          "scatter3d": [
           {
            "line": {
             "colorbar": {
              "outlinewidth": 0,
              "ticks": ""
             }
            },
            "marker": {
             "colorbar": {
              "outlinewidth": 0,
              "ticks": ""
             }
            },
            "type": "scatter3d"
           }
          ],
          "scattercarpet": [
           {
            "marker": {
             "colorbar": {
              "outlinewidth": 0,
              "ticks": ""
             }
            },
            "type": "scattercarpet"
           }
          ],
          "scattergeo": [
           {
            "marker": {
             "colorbar": {
              "outlinewidth": 0,
              "ticks": ""
             }
            },
            "type": "scattergeo"
           }
          ],
          "scattergl": [
           {
            "marker": {
             "colorbar": {
              "outlinewidth": 0,
              "ticks": ""
             }
            },
            "type": "scattergl"
           }
          ],
          "scattermapbox": [
           {
            "marker": {
             "colorbar": {
              "outlinewidth": 0,
              "ticks": ""
             }
            },
            "type": "scattermapbox"
           }
          ],
          "scatterpolar": [
           {
            "marker": {
             "colorbar": {
              "outlinewidth": 0,
              "ticks": ""
             }
            },
            "type": "scatterpolar"
           }
          ],
          "scatterpolargl": [
           {
            "marker": {
             "colorbar": {
              "outlinewidth": 0,
              "ticks": ""
             }
            },
            "type": "scatterpolargl"
           }
          ],
          "scatterternary": [
           {
            "marker": {
             "colorbar": {
              "outlinewidth": 0,
              "ticks": ""
             }
            },
            "type": "scatterternary"
           }
          ],
          "surface": [
           {
            "colorbar": {
             "outlinewidth": 0,
             "ticks": ""
            },
            "colorscale": [
             [
              0,
              "#0d0887"
             ],
             [
              0.1111111111111111,
              "#46039f"
             ],
             [
              0.2222222222222222,
              "#7201a8"
             ],
             [
              0.3333333333333333,
              "#9c179e"
             ],
             [
              0.4444444444444444,
              "#bd3786"
             ],
             [
              0.5555555555555556,
              "#d8576b"
             ],
             [
              0.6666666666666666,
              "#ed7953"
             ],
             [
              0.7777777777777778,
              "#fb9f3a"
             ],
             [
              0.8888888888888888,
              "#fdca26"
             ],
             [
              1,
              "#f0f921"
             ]
            ],
            "type": "surface"
           }
          ],
          "table": [
           {
            "cells": {
             "fill": {
              "color": "#EBF0F8"
             },
             "line": {
              "color": "white"
             }
            },
            "header": {
             "fill": {
              "color": "#C8D4E3"
             },
             "line": {
              "color": "white"
             }
            },
            "type": "table"
           }
          ]
         },
         "layout": {
          "annotationdefaults": {
           "arrowcolor": "#2a3f5f",
           "arrowhead": 0,
           "arrowwidth": 1
          },
          "autotypenumbers": "strict",
          "coloraxis": {
           "colorbar": {
            "outlinewidth": 0,
            "ticks": ""
           }
          },
          "colorscale": {
           "diverging": [
            [
             0,
             "#8e0152"
            ],
            [
             0.1,
             "#c51b7d"
            ],
            [
             0.2,
             "#de77ae"
            ],
            [
             0.3,
             "#f1b6da"
            ],
            [
             0.4,
             "#fde0ef"
            ],
            [
             0.5,
             "#f7f7f7"
            ],
            [
             0.6,
             "#e6f5d0"
            ],
            [
             0.7,
             "#b8e186"
            ],
            [
             0.8,
             "#7fbc41"
            ],
            [
             0.9,
             "#4d9221"
            ],
            [
             1,
             "#276419"
            ]
           ],
           "sequential": [
            [
             0,
             "#0d0887"
            ],
            [
             0.1111111111111111,
             "#46039f"
            ],
            [
             0.2222222222222222,
             "#7201a8"
            ],
            [
             0.3333333333333333,
             "#9c179e"
            ],
            [
             0.4444444444444444,
             "#bd3786"
            ],
            [
             0.5555555555555556,
             "#d8576b"
            ],
            [
             0.6666666666666666,
             "#ed7953"
            ],
            [
             0.7777777777777778,
             "#fb9f3a"
            ],
            [
             0.8888888888888888,
             "#fdca26"
            ],
            [
             1,
             "#f0f921"
            ]
           ],
           "sequentialminus": [
            [
             0,
             "#0d0887"
            ],
            [
             0.1111111111111111,
             "#46039f"
            ],
            [
             0.2222222222222222,
             "#7201a8"
            ],
            [
             0.3333333333333333,
             "#9c179e"
            ],
            [
             0.4444444444444444,
             "#bd3786"
            ],
            [
             0.5555555555555556,
             "#d8576b"
            ],
            [
             0.6666666666666666,
             "#ed7953"
            ],
            [
             0.7777777777777778,
             "#fb9f3a"
            ],
            [
             0.8888888888888888,
             "#fdca26"
            ],
            [
             1,
             "#f0f921"
            ]
           ]
          },
          "colorway": [
           "#636efa",
           "#EF553B",
           "#00cc96",
           "#ab63fa",
           "#FFA15A",
           "#19d3f3",
           "#FF6692",
           "#B6E880",
           "#FF97FF",
           "#FECB52"
          ],
          "font": {
           "color": "#2a3f5f"
          },
          "geo": {
           "bgcolor": "white",
           "lakecolor": "white",
           "landcolor": "#E5ECF6",
           "showlakes": true,
           "showland": true,
           "subunitcolor": "white"
          },
          "hoverlabel": {
           "align": "left"
          },
          "hovermode": "closest",
          "mapbox": {
           "style": "light"
          },
          "paper_bgcolor": "white",
          "plot_bgcolor": "#E5ECF6",
          "polar": {
           "angularaxis": {
            "gridcolor": "white",
            "linecolor": "white",
            "ticks": ""
           },
           "bgcolor": "#E5ECF6",
           "radialaxis": {
            "gridcolor": "white",
            "linecolor": "white",
            "ticks": ""
           }
          },
          "scene": {
           "xaxis": {
            "backgroundcolor": "#E5ECF6",
            "gridcolor": "white",
            "gridwidth": 2,
            "linecolor": "white",
            "showbackground": true,
            "ticks": "",
            "zerolinecolor": "white"
           },
           "yaxis": {
            "backgroundcolor": "#E5ECF6",
            "gridcolor": "white",
            "gridwidth": 2,
            "linecolor": "white",
            "showbackground": true,
            "ticks": "",
            "zerolinecolor": "white"
           },
           "zaxis": {
            "backgroundcolor": "#E5ECF6",
            "gridcolor": "white",
            "gridwidth": 2,
            "linecolor": "white",
            "showbackground": true,
            "ticks": "",
            "zerolinecolor": "white"
           }
          },
          "shapedefaults": {
           "line": {
            "color": "#2a3f5f"
           }
          },
          "ternary": {
           "aaxis": {
            "gridcolor": "white",
            "linecolor": "white",
            "ticks": ""
           },
           "baxis": {
            "gridcolor": "white",
            "linecolor": "white",
            "ticks": ""
           },
           "bgcolor": "#E5ECF6",
           "caxis": {
            "gridcolor": "white",
            "linecolor": "white",
            "ticks": ""
           }
          },
          "title": {
           "x": 0.05
          },
          "xaxis": {
           "automargin": true,
           "gridcolor": "white",
           "linecolor": "white",
           "ticks": "",
           "title": {
            "standoff": 15
           },
           "zerolinecolor": "white",
           "zerolinewidth": 2
          },
          "yaxis": {
           "automargin": true,
           "gridcolor": "white",
           "linecolor": "white",
           "ticks": "",
           "title": {
            "standoff": 15
           },
           "zerolinecolor": "white",
           "zerolinewidth": 2
          }
         }
        },
        "xaxis": {
         "anchor": "y",
         "domain": [
          0,
          0.7363
         ],
         "title": {
          "text": "math"
         }
        },
        "xaxis2": {
         "anchor": "y2",
         "domain": [
          0.7413,
          1
         ],
         "matches": "x2",
         "showgrid": true,
         "showline": false,
         "showticklabels": false,
         "ticks": ""
        },
        "xaxis3": {
         "anchor": "y3",
         "domain": [
          0,
          0.7363
         ],
         "matches": "x",
         "showgrid": true,
         "showticklabels": false
        },
        "xaxis4": {
         "anchor": "y4",
         "domain": [
          0.7413,
          1
         ],
         "matches": "x2",
         "showgrid": true,
         "showline": false,
         "showticklabels": false,
         "ticks": ""
        },
        "yaxis": {
         "anchor": "x",
         "domain": [
          0,
          0.7326
         ],
         "title": {
          "text": "physics"
         }
        },
        "yaxis2": {
         "anchor": "x2",
         "domain": [
          0,
          0.7326
         ],
         "matches": "y",
         "showgrid": true,
         "showticklabels": false
        },
        "yaxis3": {
         "anchor": "x3",
         "domain": [
          0.7426,
          1
         ],
         "matches": "y3",
         "showgrid": true,
         "showline": false,
         "showticklabels": false,
         "ticks": ""
        },
        "yaxis4": {
         "anchor": "x4",
         "domain": [
          0.7426,
          1
         ],
         "matches": "y3",
         "showgrid": true,
         "showline": false,
         "showticklabels": false,
         "ticks": ""
        }
       }
      },
      "text/html": [
       "<div>                            <div id=\"489f1dd2-c18f-4a0c-a797-f57315e5ca2a\" class=\"plotly-graph-div\" style=\"height:525px; width:100%;\"></div>            <script type=\"text/javascript\">                require([\"plotly\"], function(Plotly) {                    window.PLOTLYENV=window.PLOTLYENV || {};                                    if (document.getElementById(\"489f1dd2-c18f-4a0c-a797-f57315e5ca2a\")) {                    Plotly.newPlot(                        \"489f1dd2-c18f-4a0c-a797-f57315e5ca2a\",                        [{\"hovertemplate\":\"math=%{x}<br>physics=%{y}<extra></extra>\",\"legendgroup\":\"\",\"marker\":{\"color\":\"#636efa\",\"symbol\":\"circle\"},\"mode\":\"markers\",\"name\":\"\",\"orientation\":\"v\",\"showlegend\":false,\"type\":\"scatter\",\"x\":[66.07655910110478,64.58684690046825,59.885286121281474,61.07954805622612,54.87670159273362,63.026514835556384,63.92363334002261,49.74589644069059,59.4945415058746,63.981063139554664,61.08268686977042,59.81894519183068,57.49416534785671,56.90561004905844,57.739598214105364,65.74612459620937,58.48096074360947,54.48589475910658,53.916857179716736,58.15149205854583,63.21583850896875,55.31145974057622,57.686310535517556,54.4143134625789,64.03291301573323,57.30898318572346,62.12330585941871,66.63485926941188,56.714839920120816,61.7902482363347,58.54467315580185,53.2884021735914,61.77023895992531,51.62580612599437,59.86599431032879,70.3413745780841,58.060869473461125,59.573775005991884,59.620375915105086,57.78843451497578,54.36255396239566,67.39879790326263,59.35484858496795,55.636629918511744,58.62911051754044,64.14702706651387,58.33023277726518,58.23138021502757,51.32156795193504,64.92686163324733,58.25798689252621,47.92125696108154,59.61576882116469,56.24669958097997,56.141188400870725,56.49693149546679,65.16555317703492,64.0961838659947,60.51019924587212,55.81479897533023,61.07251379404362,57.811883610458985,54.999071560276604,61.09265349224977,64.41730432065631,64.67450832816711,52.82997816998279,69.58700840966533,54.91295410397741,51.1354157321761,59.47897700455823,52.308373764489694,63.51742994733272,51.43377389828453,55.377128422359036,53.85236631790547,62.95967225724537,49.187688699255034,56.251204906297986,60.399992630226485,51.59879703769515,59.55797333766452,59.860188673427416,59.196636732316485,56.8127693629386,62.92238814613842,65.80200476904113,55.74006638946511,59.19572042743605,58.93707358729214,52.57004834788904,52.074299050487966,69.66489705427587,65.5027823980843,62.39454280751154,50.36923087842238,60.92735729690802,70.91760670958335,52.011946072405166,47.27315490557212,63.89574036374801,55.557390084353266,69.66260049446268,74.1550336790567,64.22972491351324,78.1931380187499,71.03573077165316,73.89662746244692,67.80420969021847,75.4936900931421,81.60948066544853,68.61992807590381,73.19772408644454,70.92640219875135,63.13474188867857,66.23364338251547,62.420268863309,77.92976266209023,74.8638609648485,70.94503643991193,66.88489952030433,71.45520128655588,60.60711313532401,56.686487626081565,69.42544678900119,70.46074191312174,77.06253405765503,74.20340968590902,68.43145995421919,72.6417881375353,69.23060493470017,68.57075525655983,62.7370313492972,68.9731495580112,68.6283728768037,79.74281660479667,68.90576352945159,79.06711401132523,70.31031574696033,74.20492239108826,85.70060979793185,64.21331209076598,60.77937315626638,68.84676333449708,66.73304067191725,72.20192662088638,74.60978974973051,77.97301059043538,75.64878248885876,84.95071137552878,86.77132566593039,67.2587547585905,66.0842888962312,72.07931301409262,69.68823060075623,57.64221276241261,74.83985730082738,72.05025435828507,57.92850802739906,79.80092340439126,66.02447875000432,70.73229521127156,75.29612687761639,51.485614307887786,75.4898503719829,62.83959839725153,78.19890840218488,76.66760518228732,60.48845100009222,69.31400094383731,65.64802107641952,65.77732353138249,73.12572002477282,76.81904026689264,70.06732877884144,75.87173612110462,68.03528474280594,69.69984777916088,62.49275429500659,67.00347544783045,56.971395871016576,72.81030751159477,72.28175324349222,70.12944769039669,79.58665904172163,68.5531910470923,67.5154057462598,51.995806954767815,81.10885698170868,79.82758622621635,69.56412986901907,65.30564696408085,58.7648487966667,75.45621511982041,76.57350946243241,71.59355730576937,75.23866118424647,71.8734757996419,66.80166178120345,67.77136798093707],\"xaxis\":\"x\",\"y\":[75.02267074128348,69.40658142684302,97.0529154957918,82.22930145663497,77.31748976697097,72.6753806102657,77.33210970572637,89.77120243689498,87.21166301098748,83.71998324236533,72.20847556042912,77.97359070500161,77.38865906815667,75.55163838666714,84.99835163815257,74.16470325492844,71.2961199122941,70.78117530137412,90.91810074022277,89.8212160621579,70.58172750672075,72.33960299891064,73.53324166155956,85.68547493421262,77.31745943464709,80.00618550339621,85.68691846828223,65.38193721070054,76.94591706845337,74.38036681718074,79.5115153046304,79.90050182126886,89.86338193380526,86.81521203980512,97.62138846294513,78.62643975344307,78.37402399162862,74.83541860213576,86.63810080862365,68.87459794609158,71.81574025828414,80.69671723996808,81.35736934787451,74.9497668439863,78.04440193342415,78.86044433954028,76.62219314103315,78.25287466850979,80.86322329916706,83.56413310489036,71.40262563445778,75.61941611388269,81.87963967106536,72.284576523007,71.20634433035035,78.7199917824538,82.80474427046533,74.10265757269818,70.57576738566982,80.3090011142071,74.41091228661968,70.96609466433009,75.46923394021725,82.73877235306664,84.87313970097937,80.4643959000042,81.95293759678843,66.52066796593013,83.73032928854306,71.84220321004715,67.61009112924,85.69200105743404,66.35531965370689,88.49439754282531,85.73650684799615,73.26513168016132,73.61946800165812,76.2909173276789,81.38958921252419,79.92530041749929,73.22726455816004,75.39946956576925,72.61886998785069,87.12472595637631,73.91671014700368,77.40402943501208,76.61828459699807,77.33780595928292,85.27263193081123,89.1553947673997,86.85189500253344,71.98225021114956,75.88787142526621,74.09359885816912,76.28364650276743,60.88305790898999,73.2042101736541,87.44914866584722,87.83947341403,62.72907963302825,64.34252457604107,68.71721770357314,67.81809373898139,56.06603936227545,68.05497105636897,66.04529291270946,72.68808855474435,59.468540451722184,67.81337679216344,60.76961858534862,64.128541988741,62.634258240991144,64.92133070409807,67.76225877575074,64.85367311890549,67.81114106728529,73.55135970336335,64.781579187953,76.45275772760613,67.52394677771402,64.1026837160544,58.79721371356593,69.59508869325344,63.089051680347985,65.859644831974,61.42263906797854,65.96836946648274,72.4725849856624,67.33719865836399,76.66914022195105,69.41901541670426,54.50733921842932,76.8295749880665,73.88139646672872,65.27630767203038,66.30664968989858,60.85833934009541,63.998548397907484,58.8508679350604,61.559763437432146,61.620071455098525,71.32016364185243,55.071367799739946,64.0360989477544,63.028022053551894,57.675785092462,59.281682740529185,62.518827268463255,60.019969190502266,60.85340132387298,65.26064716859776,64.81975444295414,61.15531633017687,74.96080626445183,55.84144064577484,55.94181959060643,57.879756898808765,72.11076670551004,62.762776061668355,58.71168827231341,63.8816989362217,55.26001127061737,67.35421599383437,61.11380636604146,64.31628442403544,64.87441205721974,65.77480999292604,57.29681788674693,59.07545405732011,58.52139098040013,58.67664717475293,66.2438568955677,63.235902621768886,68.94304830216667,63.502864713160356,65.11440241134689,62.84764295671311,62.166664450490316,64.01102069456196,63.43748920795238,65.71919557581792,62.51803625059731,58.36699884661167,66.92007425333996,68.8180842260567,67.65253671093329,61.60117304111215,64.36980772064261,63.90890572093223,69.26393475126136,63.74555027598206,58.41238074878582,60.43727467676387,65.52217217062243,61.999733532812755,63.58408850604681,70.40479694192699,59.92383894622191,61.07763581590169,68.52848550176319],\"yaxis\":\"y\"},{\"alignmentgroup\":\"True\",\"bingroup\":\"x\",\"hovertemplate\":\"math=%{x}<br>count=%{y}<extra></extra>\",\"legendgroup\":\"\",\"marker\":{\"color\":\"#636efa\"},\"name\":\"\",\"offsetgroup\":\"\",\"opacity\":0.5,\"showlegend\":false,\"type\":\"histogram\",\"x\":[66.07655910110478,64.58684690046825,59.885286121281474,61.07954805622612,54.87670159273362,63.026514835556384,63.92363334002261,49.74589644069059,59.4945415058746,63.981063139554664,61.08268686977042,59.81894519183068,57.49416534785671,56.90561004905844,57.739598214105364,65.74612459620937,58.48096074360947,54.48589475910658,53.916857179716736,58.15149205854583,63.21583850896875,55.31145974057622,57.686310535517556,54.4143134625789,64.03291301573323,57.30898318572346,62.12330585941871,66.63485926941188,56.714839920120816,61.7902482363347,58.54467315580185,53.2884021735914,61.77023895992531,51.62580612599437,59.86599431032879,70.3413745780841,58.060869473461125,59.573775005991884,59.620375915105086,57.78843451497578,54.36255396239566,67.39879790326263,59.35484858496795,55.636629918511744,58.62911051754044,64.14702706651387,58.33023277726518,58.23138021502757,51.32156795193504,64.92686163324733,58.25798689252621,47.92125696108154,59.61576882116469,56.24669958097997,56.141188400870725,56.49693149546679,65.16555317703492,64.0961838659947,60.51019924587212,55.81479897533023,61.07251379404362,57.811883610458985,54.999071560276604,61.09265349224977,64.41730432065631,64.67450832816711,52.82997816998279,69.58700840966533,54.91295410397741,51.1354157321761,59.47897700455823,52.308373764489694,63.51742994733272,51.43377389828453,55.377128422359036,53.85236631790547,62.95967225724537,49.187688699255034,56.251204906297986,60.399992630226485,51.59879703769515,59.55797333766452,59.860188673427416,59.196636732316485,56.8127693629386,62.92238814613842,65.80200476904113,55.74006638946511,59.19572042743605,58.93707358729214,52.57004834788904,52.074299050487966,69.66489705427587,65.5027823980843,62.39454280751154,50.36923087842238,60.92735729690802,70.91760670958335,52.011946072405166,47.27315490557212,63.89574036374801,55.557390084353266,69.66260049446268,74.1550336790567,64.22972491351324,78.1931380187499,71.03573077165316,73.89662746244692,67.80420969021847,75.4936900931421,81.60948066544853,68.61992807590381,73.19772408644454,70.92640219875135,63.13474188867857,66.23364338251547,62.420268863309,77.92976266209023,74.8638609648485,70.94503643991193,66.88489952030433,71.45520128655588,60.60711313532401,56.686487626081565,69.42544678900119,70.46074191312174,77.06253405765503,74.20340968590902,68.43145995421919,72.6417881375353,69.23060493470017,68.57075525655983,62.7370313492972,68.9731495580112,68.6283728768037,79.74281660479667,68.90576352945159,79.06711401132523,70.31031574696033,74.20492239108826,85.70060979793185,64.21331209076598,60.77937315626638,68.84676333449708,66.73304067191725,72.20192662088638,74.60978974973051,77.97301059043538,75.64878248885876,84.95071137552878,86.77132566593039,67.2587547585905,66.0842888962312,72.07931301409262,69.68823060075623,57.64221276241261,74.83985730082738,72.05025435828507,57.92850802739906,79.80092340439126,66.02447875000432,70.73229521127156,75.29612687761639,51.485614307887786,75.4898503719829,62.83959839725153,78.19890840218488,76.66760518228732,60.48845100009222,69.31400094383731,65.64802107641952,65.77732353138249,73.12572002477282,76.81904026689264,70.06732877884144,75.87173612110462,68.03528474280594,69.69984777916088,62.49275429500659,67.00347544783045,56.971395871016576,72.81030751159477,72.28175324349222,70.12944769039669,79.58665904172163,68.5531910470923,67.5154057462598,51.995806954767815,81.10885698170868,79.82758622621635,69.56412986901907,65.30564696408085,58.7648487966667,75.45621511982041,76.57350946243241,71.59355730576937,75.23866118424647,71.8734757996419,66.80166178120345,67.77136798093707],\"xaxis\":\"x3\",\"yaxis\":\"y3\"},{\"alignmentgroup\":\"True\",\"bingroup\":\"y\",\"hovertemplate\":\"physics=%{y}<br>count=%{x}<extra></extra>\",\"legendgroup\":\"\",\"marker\":{\"color\":\"#636efa\"},\"name\":\"\",\"offsetgroup\":\"\",\"opacity\":0.5,\"showlegend\":false,\"type\":\"histogram\",\"xaxis\":\"x2\",\"y\":[75.02267074128348,69.40658142684302,97.0529154957918,82.22930145663497,77.31748976697097,72.6753806102657,77.33210970572637,89.77120243689498,87.21166301098748,83.71998324236533,72.20847556042912,77.97359070500161,77.38865906815667,75.55163838666714,84.99835163815257,74.16470325492844,71.2961199122941,70.78117530137412,90.91810074022277,89.8212160621579,70.58172750672075,72.33960299891064,73.53324166155956,85.68547493421262,77.31745943464709,80.00618550339621,85.68691846828223,65.38193721070054,76.94591706845337,74.38036681718074,79.5115153046304,79.90050182126886,89.86338193380526,86.81521203980512,97.62138846294513,78.62643975344307,78.37402399162862,74.83541860213576,86.63810080862365,68.87459794609158,71.81574025828414,80.69671723996808,81.35736934787451,74.9497668439863,78.04440193342415,78.86044433954028,76.62219314103315,78.25287466850979,80.86322329916706,83.56413310489036,71.40262563445778,75.61941611388269,81.87963967106536,72.284576523007,71.20634433035035,78.7199917824538,82.80474427046533,74.10265757269818,70.57576738566982,80.3090011142071,74.41091228661968,70.96609466433009,75.46923394021725,82.73877235306664,84.87313970097937,80.4643959000042,81.95293759678843,66.52066796593013,83.73032928854306,71.84220321004715,67.61009112924,85.69200105743404,66.35531965370689,88.49439754282531,85.73650684799615,73.26513168016132,73.61946800165812,76.2909173276789,81.38958921252419,79.92530041749929,73.22726455816004,75.39946956576925,72.61886998785069,87.12472595637631,73.91671014700368,77.40402943501208,76.61828459699807,77.33780595928292,85.27263193081123,89.1553947673997,86.85189500253344,71.98225021114956,75.88787142526621,74.09359885816912,76.28364650276743,60.88305790898999,73.2042101736541,87.44914866584722,87.83947341403,62.72907963302825,64.34252457604107,68.71721770357314,67.81809373898139,56.06603936227545,68.05497105636897,66.04529291270946,72.68808855474435,59.468540451722184,67.81337679216344,60.76961858534862,64.128541988741,62.634258240991144,64.92133070409807,67.76225877575074,64.85367311890549,67.81114106728529,73.55135970336335,64.781579187953,76.45275772760613,67.52394677771402,64.1026837160544,58.79721371356593,69.59508869325344,63.089051680347985,65.859644831974,61.42263906797854,65.96836946648274,72.4725849856624,67.33719865836399,76.66914022195105,69.41901541670426,54.50733921842932,76.8295749880665,73.88139646672872,65.27630767203038,66.30664968989858,60.85833934009541,63.998548397907484,58.8508679350604,61.559763437432146,61.620071455098525,71.32016364185243,55.071367799739946,64.0360989477544,63.028022053551894,57.675785092462,59.281682740529185,62.518827268463255,60.019969190502266,60.85340132387298,65.26064716859776,64.81975444295414,61.15531633017687,74.96080626445183,55.84144064577484,55.94181959060643,57.879756898808765,72.11076670551004,62.762776061668355,58.71168827231341,63.8816989362217,55.26001127061737,67.35421599383437,61.11380636604146,64.31628442403544,64.87441205721974,65.77480999292604,57.29681788674693,59.07545405732011,58.52139098040013,58.67664717475293,66.2438568955677,63.235902621768886,68.94304830216667,63.502864713160356,65.11440241134689,62.84764295671311,62.166664450490316,64.01102069456196,63.43748920795238,65.71919557581792,62.51803625059731,58.36699884661167,66.92007425333996,68.8180842260567,67.65253671093329,61.60117304111215,64.36980772064261,63.90890572093223,69.26393475126136,63.74555027598206,58.41238074878582,60.43727467676387,65.52217217062243,61.999733532812755,63.58408850604681,70.40479694192699,59.92383894622191,61.07763581590169,68.52848550176319],\"yaxis\":\"y2\"}],                        {\"barmode\":\"overlay\",\"legend\":{\"tracegroupgap\":0},\"margin\":{\"t\":60},\"template\":{\"data\":{\"bar\":[{\"error_x\":{\"color\":\"#2a3f5f\"},\"error_y\":{\"color\":\"#2a3f5f\"},\"marker\":{\"line\":{\"color\":\"#E5ECF6\",\"width\":0.5},\"pattern\":{\"fillmode\":\"overlay\",\"size\":10,\"solidity\":0.2}},\"type\":\"bar\"}],\"barpolar\":[{\"marker\":{\"line\":{\"color\":\"#E5ECF6\",\"width\":0.5},\"pattern\":{\"fillmode\":\"overlay\",\"size\":10,\"solidity\":0.2}},\"type\":\"barpolar\"}],\"carpet\":[{\"aaxis\":{\"endlinecolor\":\"#2a3f5f\",\"gridcolor\":\"white\",\"linecolor\":\"white\",\"minorgridcolor\":\"white\",\"startlinecolor\":\"#2a3f5f\"},\"baxis\":{\"endlinecolor\":\"#2a3f5f\",\"gridcolor\":\"white\",\"linecolor\":\"white\",\"minorgridcolor\":\"white\",\"startlinecolor\":\"#2a3f5f\"},\"type\":\"carpet\"}],\"choropleth\":[{\"colorbar\":{\"outlinewidth\":0,\"ticks\":\"\"},\"type\":\"choropleth\"}],\"contour\":[{\"colorbar\":{\"outlinewidth\":0,\"ticks\":\"\"},\"colorscale\":[[0.0,\"#0d0887\"],[0.1111111111111111,\"#46039f\"],[0.2222222222222222,\"#7201a8\"],[0.3333333333333333,\"#9c179e\"],[0.4444444444444444,\"#bd3786\"],[0.5555555555555556,\"#d8576b\"],[0.6666666666666666,\"#ed7953\"],[0.7777777777777778,\"#fb9f3a\"],[0.8888888888888888,\"#fdca26\"],[1.0,\"#f0f921\"]],\"type\":\"contour\"}],\"contourcarpet\":[{\"colorbar\":{\"outlinewidth\":0,\"ticks\":\"\"},\"type\":\"contourcarpet\"}],\"heatmap\":[{\"colorbar\":{\"outlinewidth\":0,\"ticks\":\"\"},\"colorscale\":[[0.0,\"#0d0887\"],[0.1111111111111111,\"#46039f\"],[0.2222222222222222,\"#7201a8\"],[0.3333333333333333,\"#9c179e\"],[0.4444444444444444,\"#bd3786\"],[0.5555555555555556,\"#d8576b\"],[0.6666666666666666,\"#ed7953\"],[0.7777777777777778,\"#fb9f3a\"],[0.8888888888888888,\"#fdca26\"],[1.0,\"#f0f921\"]],\"type\":\"heatmap\"}],\"heatmapgl\":[{\"colorbar\":{\"outlinewidth\":0,\"ticks\":\"\"},\"colorscale\":[[0.0,\"#0d0887\"],[0.1111111111111111,\"#46039f\"],[0.2222222222222222,\"#7201a8\"],[0.3333333333333333,\"#9c179e\"],[0.4444444444444444,\"#bd3786\"],[0.5555555555555556,\"#d8576b\"],[0.6666666666666666,\"#ed7953\"],[0.7777777777777778,\"#fb9f3a\"],[0.8888888888888888,\"#fdca26\"],[1.0,\"#f0f921\"]],\"type\":\"heatmapgl\"}],\"histogram\":[{\"marker\":{\"pattern\":{\"fillmode\":\"overlay\",\"size\":10,\"solidity\":0.2}},\"type\":\"histogram\"}],\"histogram2d\":[{\"colorbar\":{\"outlinewidth\":0,\"ticks\":\"\"},\"colorscale\":[[0.0,\"#0d0887\"],[0.1111111111111111,\"#46039f\"],[0.2222222222222222,\"#7201a8\"],[0.3333333333333333,\"#9c179e\"],[0.4444444444444444,\"#bd3786\"],[0.5555555555555556,\"#d8576b\"],[0.6666666666666666,\"#ed7953\"],[0.7777777777777778,\"#fb9f3a\"],[0.8888888888888888,\"#fdca26\"],[1.0,\"#f0f921\"]],\"type\":\"histogram2d\"}],\"histogram2dcontour\":[{\"colorbar\":{\"outlinewidth\":0,\"ticks\":\"\"},\"colorscale\":[[0.0,\"#0d0887\"],[0.1111111111111111,\"#46039f\"],[0.2222222222222222,\"#7201a8\"],[0.3333333333333333,\"#9c179e\"],[0.4444444444444444,\"#bd3786\"],[0.5555555555555556,\"#d8576b\"],[0.6666666666666666,\"#ed7953\"],[0.7777777777777778,\"#fb9f3a\"],[0.8888888888888888,\"#fdca26\"],[1.0,\"#f0f921\"]],\"type\":\"histogram2dcontour\"}],\"mesh3d\":[{\"colorbar\":{\"outlinewidth\":0,\"ticks\":\"\"},\"type\":\"mesh3d\"}],\"parcoords\":[{\"line\":{\"colorbar\":{\"outlinewidth\":0,\"ticks\":\"\"}},\"type\":\"parcoords\"}],\"pie\":[{\"automargin\":true,\"type\":\"pie\"}],\"scatter\":[{\"marker\":{\"colorbar\":{\"outlinewidth\":0,\"ticks\":\"\"}},\"type\":\"scatter\"}],\"scatter3d\":[{\"line\":{\"colorbar\":{\"outlinewidth\":0,\"ticks\":\"\"}},\"marker\":{\"colorbar\":{\"outlinewidth\":0,\"ticks\":\"\"}},\"type\":\"scatter3d\"}],\"scattercarpet\":[{\"marker\":{\"colorbar\":{\"outlinewidth\":0,\"ticks\":\"\"}},\"type\":\"scattercarpet\"}],\"scattergeo\":[{\"marker\":{\"colorbar\":{\"outlinewidth\":0,\"ticks\":\"\"}},\"type\":\"scattergeo\"}],\"scattergl\":[{\"marker\":{\"colorbar\":{\"outlinewidth\":0,\"ticks\":\"\"}},\"type\":\"scattergl\"}],\"scattermapbox\":[{\"marker\":{\"colorbar\":{\"outlinewidth\":0,\"ticks\":\"\"}},\"type\":\"scattermapbox\"}],\"scatterpolar\":[{\"marker\":{\"colorbar\":{\"outlinewidth\":0,\"ticks\":\"\"}},\"type\":\"scatterpolar\"}],\"scatterpolargl\":[{\"marker\":{\"colorbar\":{\"outlinewidth\":0,\"ticks\":\"\"}},\"type\":\"scatterpolargl\"}],\"scatterternary\":[{\"marker\":{\"colorbar\":{\"outlinewidth\":0,\"ticks\":\"\"}},\"type\":\"scatterternary\"}],\"surface\":[{\"colorbar\":{\"outlinewidth\":0,\"ticks\":\"\"},\"colorscale\":[[0.0,\"#0d0887\"],[0.1111111111111111,\"#46039f\"],[0.2222222222222222,\"#7201a8\"],[0.3333333333333333,\"#9c179e\"],[0.4444444444444444,\"#bd3786\"],[0.5555555555555556,\"#d8576b\"],[0.6666666666666666,\"#ed7953\"],[0.7777777777777778,\"#fb9f3a\"],[0.8888888888888888,\"#fdca26\"],[1.0,\"#f0f921\"]],\"type\":\"surface\"}],\"table\":[{\"cells\":{\"fill\":{\"color\":\"#EBF0F8\"},\"line\":{\"color\":\"white\"}},\"header\":{\"fill\":{\"color\":\"#C8D4E3\"},\"line\":{\"color\":\"white\"}},\"type\":\"table\"}]},\"layout\":{\"annotationdefaults\":{\"arrowcolor\":\"#2a3f5f\",\"arrowhead\":0,\"arrowwidth\":1},\"autotypenumbers\":\"strict\",\"coloraxis\":{\"colorbar\":{\"outlinewidth\":0,\"ticks\":\"\"}},\"colorscale\":{\"diverging\":[[0,\"#8e0152\"],[0.1,\"#c51b7d\"],[0.2,\"#de77ae\"],[0.3,\"#f1b6da\"],[0.4,\"#fde0ef\"],[0.5,\"#f7f7f7\"],[0.6,\"#e6f5d0\"],[0.7,\"#b8e186\"],[0.8,\"#7fbc41\"],[0.9,\"#4d9221\"],[1,\"#276419\"]],\"sequential\":[[0.0,\"#0d0887\"],[0.1111111111111111,\"#46039f\"],[0.2222222222222222,\"#7201a8\"],[0.3333333333333333,\"#9c179e\"],[0.4444444444444444,\"#bd3786\"],[0.5555555555555556,\"#d8576b\"],[0.6666666666666666,\"#ed7953\"],[0.7777777777777778,\"#fb9f3a\"],[0.8888888888888888,\"#fdca26\"],[1.0,\"#f0f921\"]],\"sequentialminus\":[[0.0,\"#0d0887\"],[0.1111111111111111,\"#46039f\"],[0.2222222222222222,\"#7201a8\"],[0.3333333333333333,\"#9c179e\"],[0.4444444444444444,\"#bd3786\"],[0.5555555555555556,\"#d8576b\"],[0.6666666666666666,\"#ed7953\"],[0.7777777777777778,\"#fb9f3a\"],[0.8888888888888888,\"#fdca26\"],[1.0,\"#f0f921\"]]},\"colorway\":[\"#636efa\",\"#EF553B\",\"#00cc96\",\"#ab63fa\",\"#FFA15A\",\"#19d3f3\",\"#FF6692\",\"#B6E880\",\"#FF97FF\",\"#FECB52\"],\"font\":{\"color\":\"#2a3f5f\"},\"geo\":{\"bgcolor\":\"white\",\"lakecolor\":\"white\",\"landcolor\":\"#E5ECF6\",\"showlakes\":true,\"showland\":true,\"subunitcolor\":\"white\"},\"hoverlabel\":{\"align\":\"left\"},\"hovermode\":\"closest\",\"mapbox\":{\"style\":\"light\"},\"paper_bgcolor\":\"white\",\"plot_bgcolor\":\"#E5ECF6\",\"polar\":{\"angularaxis\":{\"gridcolor\":\"white\",\"linecolor\":\"white\",\"ticks\":\"\"},\"bgcolor\":\"#E5ECF6\",\"radialaxis\":{\"gridcolor\":\"white\",\"linecolor\":\"white\",\"ticks\":\"\"}},\"scene\":{\"xaxis\":{\"backgroundcolor\":\"#E5ECF6\",\"gridcolor\":\"white\",\"gridwidth\":2,\"linecolor\":\"white\",\"showbackground\":true,\"ticks\":\"\",\"zerolinecolor\":\"white\"},\"yaxis\":{\"backgroundcolor\":\"#E5ECF6\",\"gridcolor\":\"white\",\"gridwidth\":2,\"linecolor\":\"white\",\"showbackground\":true,\"ticks\":\"\",\"zerolinecolor\":\"white\"},\"zaxis\":{\"backgroundcolor\":\"#E5ECF6\",\"gridcolor\":\"white\",\"gridwidth\":2,\"linecolor\":\"white\",\"showbackground\":true,\"ticks\":\"\",\"zerolinecolor\":\"white\"}},\"shapedefaults\":{\"line\":{\"color\":\"#2a3f5f\"}},\"ternary\":{\"aaxis\":{\"gridcolor\":\"white\",\"linecolor\":\"white\",\"ticks\":\"\"},\"baxis\":{\"gridcolor\":\"white\",\"linecolor\":\"white\",\"ticks\":\"\"},\"bgcolor\":\"#E5ECF6\",\"caxis\":{\"gridcolor\":\"white\",\"linecolor\":\"white\",\"ticks\":\"\"}},\"title\":{\"x\":0.05},\"xaxis\":{\"automargin\":true,\"gridcolor\":\"white\",\"linecolor\":\"white\",\"ticks\":\"\",\"title\":{\"standoff\":15},\"zerolinecolor\":\"white\",\"zerolinewidth\":2},\"yaxis\":{\"automargin\":true,\"gridcolor\":\"white\",\"linecolor\":\"white\",\"ticks\":\"\",\"title\":{\"standoff\":15},\"zerolinecolor\":\"white\",\"zerolinewidth\":2}}},\"xaxis\":{\"anchor\":\"y\",\"domain\":[0.0,0.7363],\"title\":{\"text\":\"math\"}},\"xaxis2\":{\"anchor\":\"y2\",\"domain\":[0.7413,1.0],\"matches\":\"x2\",\"showgrid\":true,\"showline\":false,\"showticklabels\":false,\"ticks\":\"\"},\"xaxis3\":{\"anchor\":\"y3\",\"domain\":[0.0,0.7363],\"matches\":\"x\",\"showgrid\":true,\"showticklabels\":false},\"xaxis4\":{\"anchor\":\"y4\",\"domain\":[0.7413,1.0],\"matches\":\"x2\",\"showgrid\":true,\"showline\":false,\"showticklabels\":false,\"ticks\":\"\"},\"yaxis\":{\"anchor\":\"x\",\"domain\":[0.0,0.7326],\"title\":{\"text\":\"physics\"}},\"yaxis2\":{\"anchor\":\"x2\",\"domain\":[0.0,0.7326],\"matches\":\"y\",\"showgrid\":true,\"showticklabels\":false},\"yaxis3\":{\"anchor\":\"x3\",\"domain\":[0.7426,1.0],\"matches\":\"y3\",\"showgrid\":true,\"showline\":false,\"showticklabels\":false,\"ticks\":\"\"},\"yaxis4\":{\"anchor\":\"x4\",\"domain\":[0.7426,1.0],\"matches\":\"y3\",\"showgrid\":true,\"showline\":false,\"showticklabels\":false,\"ticks\":\"\"}},                        {\"responsive\": true}                    ).then(function(){\n",
       "                            \n",
       "var gd = document.getElementById('489f1dd2-c18f-4a0c-a797-f57315e5ca2a');\n",
       "var x = new MutationObserver(function (mutations, observer) {{\n",
       "        var display = window.getComputedStyle(gd).display;\n",
       "        if (!display || display === 'none') {{\n",
       "            console.log([gd, 'removed!']);\n",
       "            Plotly.purge(gd);\n",
       "            observer.disconnect();\n",
       "        }}\n",
       "}});\n",
       "\n",
       "// Listen for the removal of the full notebook cells\n",
       "var notebookContainer = gd.closest('#notebook-container');\n",
       "if (notebookContainer) {{\n",
       "    x.observe(notebookContainer, {childList: true});\n",
       "}}\n",
       "\n",
       "// Listen for the clearing of the current output cell\n",
       "var outputEl = gd.closest('.output');\n",
       "if (outputEl) {{\n",
       "    x.observe(outputEl, {childList: true});\n",
       "}}\n",
       "\n",
       "                        })                };                });            </script>        </div>"
      ]
     },
     "metadata": {},
     "output_type": "display_data"
    }
   ],
   "source": [
    "px.scatter(data_frame=final_data, x='math', y='physics', marginal_x='histogram', marginal_y='histogram')"
   ]
  },
  {
   "cell_type": "markdown",
   "metadata": {},
   "source": [
    "### Expectation Maximization (EM) Algorithm"
   ]
  },
  {
   "cell_type": "markdown",
   "metadata": {},
   "source": [
    "- Initialize k Gaussian Distributions\n",
    "- Expectation step i.e. soft cluster the data\n",
    "- Maximization step i.e. reestimate the gaussian parameters\n",
    "- Check for convergence evaluating log-likelihood\n",
    "- Repeat from step 2 until it converges"
   ]
  },
  {
   "cell_type": "markdown",
   "metadata": {},
   "source": [
    "### Algorithm in detail"
   ]
  },
  {
   "cell_type": "markdown",
   "metadata": {},
   "source": [
    "#### 1. Random Initialization of 2 Gaussian Distributions"
   ]
  },
  {
   "cell_type": "markdown",
   "metadata": {},
   "source": [
    "| cluster_label | mean | variance |\n",
    "| --- | --- | --- |\n",
    "| a | 60, 75 | 100 |\n",
    "| b | 75, 65 | 25 |"
   ]
  },
  {
   "cell_type": "code",
   "execution_count": 18,
   "metadata": {},
   "outputs": [
    {
     "data": {
      "application/vnd.plotly.v1+json": {
       "config": {
        "plotlyServerURL": "https://plot.ly"
       },
       "data": [
        {
         "hovertemplate": "math=%{x}<br>physics=%{y}<extra></extra>",
         "legendgroup": "",
         "marker": {
          "color": "#636efa",
          "symbol": "circle"
         },
         "mode": "markers",
         "name": "",
         "orientation": "v",
         "showlegend": false,
         "type": "scatter",
         "x": [
          66.07655910110478,
          64.58684690046825,
          59.885286121281474,
          61.07954805622612,
          54.87670159273362,
          63.026514835556384,
          63.92363334002261,
          49.74589644069059,
          59.4945415058746,
          63.981063139554664,
          61.08268686977042,
          59.81894519183068,
          57.49416534785671,
          56.90561004905844,
          57.739598214105364,
          65.74612459620937,
          58.48096074360947,
          54.48589475910658,
          53.916857179716736,
          58.15149205854583,
          63.21583850896875,
          55.31145974057622,
          57.686310535517556,
          54.4143134625789,
          64.03291301573323,
          57.30898318572346,
          62.12330585941871,
          66.63485926941188,
          56.714839920120816,
          61.7902482363347,
          58.54467315580185,
          53.2884021735914,
          61.77023895992531,
          51.62580612599437,
          59.86599431032879,
          70.3413745780841,
          58.060869473461125,
          59.573775005991884,
          59.620375915105086,
          57.78843451497578,
          54.36255396239566,
          67.39879790326263,
          59.35484858496795,
          55.636629918511744,
          58.62911051754044,
          64.14702706651387,
          58.33023277726518,
          58.23138021502757,
          51.32156795193504,
          64.92686163324733,
          58.25798689252621,
          47.92125696108154,
          59.61576882116469,
          56.24669958097997,
          56.141188400870725,
          56.49693149546679,
          65.16555317703492,
          64.0961838659947,
          60.51019924587212,
          55.81479897533023,
          61.07251379404362,
          57.811883610458985,
          54.999071560276604,
          61.09265349224977,
          64.41730432065631,
          64.67450832816711,
          52.82997816998279,
          69.58700840966533,
          54.91295410397741,
          51.1354157321761,
          59.47897700455823,
          52.308373764489694,
          63.51742994733272,
          51.43377389828453,
          55.377128422359036,
          53.85236631790547,
          62.95967225724537,
          49.187688699255034,
          56.251204906297986,
          60.399992630226485,
          51.59879703769515,
          59.55797333766452,
          59.860188673427416,
          59.196636732316485,
          56.8127693629386,
          62.92238814613842,
          65.80200476904113,
          55.74006638946511,
          59.19572042743605,
          58.93707358729214,
          52.57004834788904,
          52.074299050487966,
          69.66489705427587,
          65.5027823980843,
          62.39454280751154,
          50.36923087842238,
          60.92735729690802,
          70.91760670958335,
          52.011946072405166,
          47.27315490557212,
          63.89574036374801,
          55.557390084353266,
          69.66260049446268,
          74.1550336790567,
          64.22972491351324,
          78.1931380187499,
          71.03573077165316,
          73.89662746244692,
          67.80420969021847,
          75.4936900931421,
          81.60948066544853,
          68.61992807590381,
          73.19772408644454,
          70.92640219875135,
          63.13474188867857,
          66.23364338251547,
          62.420268863309,
          77.92976266209023,
          74.8638609648485,
          70.94503643991193,
          66.88489952030433,
          71.45520128655588,
          60.60711313532401,
          56.686487626081565,
          69.42544678900119,
          70.46074191312174,
          77.06253405765503,
          74.20340968590902,
          68.43145995421919,
          72.6417881375353,
          69.23060493470017,
          68.57075525655983,
          62.7370313492972,
          68.9731495580112,
          68.6283728768037,
          79.74281660479667,
          68.90576352945159,
          79.06711401132523,
          70.31031574696033,
          74.20492239108826,
          85.70060979793185,
          64.21331209076598,
          60.77937315626638,
          68.84676333449708,
          66.73304067191725,
          72.20192662088638,
          74.60978974973051,
          77.97301059043538,
          75.64878248885876,
          84.95071137552878,
          86.77132566593039,
          67.2587547585905,
          66.0842888962312,
          72.07931301409262,
          69.68823060075623,
          57.64221276241261,
          74.83985730082738,
          72.05025435828507,
          57.92850802739906,
          79.80092340439126,
          66.02447875000432,
          70.73229521127156,
          75.29612687761639,
          51.485614307887786,
          75.4898503719829,
          62.83959839725153,
          78.19890840218488,
          76.66760518228732,
          60.48845100009222,
          69.31400094383731,
          65.64802107641952,
          65.77732353138249,
          73.12572002477282,
          76.81904026689264,
          70.06732877884144,
          75.87173612110462,
          68.03528474280594,
          69.69984777916088,
          62.49275429500659,
          67.00347544783045,
          56.971395871016576,
          72.81030751159477,
          72.28175324349222,
          70.12944769039669,
          79.58665904172163,
          68.5531910470923,
          67.5154057462598,
          51.995806954767815,
          81.10885698170868,
          79.82758622621635,
          69.56412986901907,
          65.30564696408085,
          58.7648487966667,
          75.45621511982041,
          76.57350946243241,
          71.59355730576937,
          75.23866118424647,
          71.8734757996419,
          66.80166178120345,
          67.77136798093707
         ],
         "xaxis": "x",
         "y": [
          75.02267074128348,
          69.40658142684302,
          97.0529154957918,
          82.22930145663497,
          77.31748976697097,
          72.6753806102657,
          77.33210970572637,
          89.77120243689498,
          87.21166301098748,
          83.71998324236533,
          72.20847556042912,
          77.97359070500161,
          77.38865906815667,
          75.55163838666714,
          84.99835163815257,
          74.16470325492844,
          71.2961199122941,
          70.78117530137412,
          90.91810074022277,
          89.8212160621579,
          70.58172750672075,
          72.33960299891064,
          73.53324166155956,
          85.68547493421262,
          77.31745943464709,
          80.00618550339621,
          85.68691846828223,
          65.38193721070054,
          76.94591706845337,
          74.38036681718074,
          79.5115153046304,
          79.90050182126886,
          89.86338193380526,
          86.81521203980512,
          97.62138846294513,
          78.62643975344307,
          78.37402399162862,
          74.83541860213576,
          86.63810080862365,
          68.87459794609158,
          71.81574025828414,
          80.69671723996808,
          81.35736934787451,
          74.9497668439863,
          78.04440193342415,
          78.86044433954028,
          76.62219314103315,
          78.25287466850979,
          80.86322329916706,
          83.56413310489036,
          71.40262563445778,
          75.61941611388269,
          81.87963967106536,
          72.284576523007,
          71.20634433035035,
          78.7199917824538,
          82.80474427046533,
          74.10265757269818,
          70.57576738566982,
          80.3090011142071,
          74.41091228661968,
          70.96609466433009,
          75.46923394021725,
          82.73877235306664,
          84.87313970097937,
          80.4643959000042,
          81.95293759678843,
          66.52066796593013,
          83.73032928854306,
          71.84220321004715,
          67.61009112924,
          85.69200105743404,
          66.35531965370689,
          88.49439754282531,
          85.73650684799615,
          73.26513168016132,
          73.61946800165812,
          76.2909173276789,
          81.38958921252419,
          79.92530041749929,
          73.22726455816004,
          75.39946956576925,
          72.61886998785069,
          87.12472595637631,
          73.91671014700368,
          77.40402943501208,
          76.61828459699807,
          77.33780595928292,
          85.27263193081123,
          89.1553947673997,
          86.85189500253344,
          71.98225021114956,
          75.88787142526621,
          74.09359885816912,
          76.28364650276743,
          60.88305790898999,
          73.2042101736541,
          87.44914866584722,
          87.83947341403,
          62.72907963302825,
          64.34252457604107,
          68.71721770357314,
          67.81809373898139,
          56.06603936227545,
          68.05497105636897,
          66.04529291270946,
          72.68808855474435,
          59.468540451722184,
          67.81337679216344,
          60.76961858534862,
          64.128541988741,
          62.634258240991144,
          64.92133070409807,
          67.76225877575074,
          64.85367311890549,
          67.81114106728529,
          73.55135970336335,
          64.781579187953,
          76.45275772760613,
          67.52394677771402,
          64.1026837160544,
          58.79721371356593,
          69.59508869325344,
          63.089051680347985,
          65.859644831974,
          61.42263906797854,
          65.96836946648274,
          72.4725849856624,
          67.33719865836399,
          76.66914022195105,
          69.41901541670426,
          54.50733921842932,
          76.8295749880665,
          73.88139646672872,
          65.27630767203038,
          66.30664968989858,
          60.85833934009541,
          63.998548397907484,
          58.8508679350604,
          61.559763437432146,
          61.620071455098525,
          71.32016364185243,
          55.071367799739946,
          64.0360989477544,
          63.028022053551894,
          57.675785092462,
          59.281682740529185,
          62.518827268463255,
          60.019969190502266,
          60.85340132387298,
          65.26064716859776,
          64.81975444295414,
          61.15531633017687,
          74.96080626445183,
          55.84144064577484,
          55.94181959060643,
          57.879756898808765,
          72.11076670551004,
          62.762776061668355,
          58.71168827231341,
          63.8816989362217,
          55.26001127061737,
          67.35421599383437,
          61.11380636604146,
          64.31628442403544,
          64.87441205721974,
          65.77480999292604,
          57.29681788674693,
          59.07545405732011,
          58.52139098040013,
          58.67664717475293,
          66.2438568955677,
          63.235902621768886,
          68.94304830216667,
          63.502864713160356,
          65.11440241134689,
          62.84764295671311,
          62.166664450490316,
          64.01102069456196,
          63.43748920795238,
          65.71919557581792,
          62.51803625059731,
          58.36699884661167,
          66.92007425333996,
          68.8180842260567,
          67.65253671093329,
          61.60117304111215,
          64.36980772064261,
          63.90890572093223,
          69.26393475126136,
          63.74555027598206,
          58.41238074878582,
          60.43727467676387,
          65.52217217062243,
          61.999733532812755,
          63.58408850604681,
          70.40479694192699,
          59.92383894622191,
          61.07763581590169,
          68.52848550176319
         ],
         "yaxis": "y"
        },
        {
         "alignmentgroup": "True",
         "bingroup": "x",
         "hovertemplate": "math=%{x}<br>count=%{y}<extra></extra>",
         "legendgroup": "",
         "marker": {
          "color": "#636efa"
         },
         "name": "",
         "offsetgroup": "",
         "opacity": 0.5,
         "showlegend": false,
         "type": "histogram",
         "x": [
          66.07655910110478,
          64.58684690046825,
          59.885286121281474,
          61.07954805622612,
          54.87670159273362,
          63.026514835556384,
          63.92363334002261,
          49.74589644069059,
          59.4945415058746,
          63.981063139554664,
          61.08268686977042,
          59.81894519183068,
          57.49416534785671,
          56.90561004905844,
          57.739598214105364,
          65.74612459620937,
          58.48096074360947,
          54.48589475910658,
          53.916857179716736,
          58.15149205854583,
          63.21583850896875,
          55.31145974057622,
          57.686310535517556,
          54.4143134625789,
          64.03291301573323,
          57.30898318572346,
          62.12330585941871,
          66.63485926941188,
          56.714839920120816,
          61.7902482363347,
          58.54467315580185,
          53.2884021735914,
          61.77023895992531,
          51.62580612599437,
          59.86599431032879,
          70.3413745780841,
          58.060869473461125,
          59.573775005991884,
          59.620375915105086,
          57.78843451497578,
          54.36255396239566,
          67.39879790326263,
          59.35484858496795,
          55.636629918511744,
          58.62911051754044,
          64.14702706651387,
          58.33023277726518,
          58.23138021502757,
          51.32156795193504,
          64.92686163324733,
          58.25798689252621,
          47.92125696108154,
          59.61576882116469,
          56.24669958097997,
          56.141188400870725,
          56.49693149546679,
          65.16555317703492,
          64.0961838659947,
          60.51019924587212,
          55.81479897533023,
          61.07251379404362,
          57.811883610458985,
          54.999071560276604,
          61.09265349224977,
          64.41730432065631,
          64.67450832816711,
          52.82997816998279,
          69.58700840966533,
          54.91295410397741,
          51.1354157321761,
          59.47897700455823,
          52.308373764489694,
          63.51742994733272,
          51.43377389828453,
          55.377128422359036,
          53.85236631790547,
          62.95967225724537,
          49.187688699255034,
          56.251204906297986,
          60.399992630226485,
          51.59879703769515,
          59.55797333766452,
          59.860188673427416,
          59.196636732316485,
          56.8127693629386,
          62.92238814613842,
          65.80200476904113,
          55.74006638946511,
          59.19572042743605,
          58.93707358729214,
          52.57004834788904,
          52.074299050487966,
          69.66489705427587,
          65.5027823980843,
          62.39454280751154,
          50.36923087842238,
          60.92735729690802,
          70.91760670958335,
          52.011946072405166,
          47.27315490557212,
          63.89574036374801,
          55.557390084353266,
          69.66260049446268,
          74.1550336790567,
          64.22972491351324,
          78.1931380187499,
          71.03573077165316,
          73.89662746244692,
          67.80420969021847,
          75.4936900931421,
          81.60948066544853,
          68.61992807590381,
          73.19772408644454,
          70.92640219875135,
          63.13474188867857,
          66.23364338251547,
          62.420268863309,
          77.92976266209023,
          74.8638609648485,
          70.94503643991193,
          66.88489952030433,
          71.45520128655588,
          60.60711313532401,
          56.686487626081565,
          69.42544678900119,
          70.46074191312174,
          77.06253405765503,
          74.20340968590902,
          68.43145995421919,
          72.6417881375353,
          69.23060493470017,
          68.57075525655983,
          62.7370313492972,
          68.9731495580112,
          68.6283728768037,
          79.74281660479667,
          68.90576352945159,
          79.06711401132523,
          70.31031574696033,
          74.20492239108826,
          85.70060979793185,
          64.21331209076598,
          60.77937315626638,
          68.84676333449708,
          66.73304067191725,
          72.20192662088638,
          74.60978974973051,
          77.97301059043538,
          75.64878248885876,
          84.95071137552878,
          86.77132566593039,
          67.2587547585905,
          66.0842888962312,
          72.07931301409262,
          69.68823060075623,
          57.64221276241261,
          74.83985730082738,
          72.05025435828507,
          57.92850802739906,
          79.80092340439126,
          66.02447875000432,
          70.73229521127156,
          75.29612687761639,
          51.485614307887786,
          75.4898503719829,
          62.83959839725153,
          78.19890840218488,
          76.66760518228732,
          60.48845100009222,
          69.31400094383731,
          65.64802107641952,
          65.77732353138249,
          73.12572002477282,
          76.81904026689264,
          70.06732877884144,
          75.87173612110462,
          68.03528474280594,
          69.69984777916088,
          62.49275429500659,
          67.00347544783045,
          56.971395871016576,
          72.81030751159477,
          72.28175324349222,
          70.12944769039669,
          79.58665904172163,
          68.5531910470923,
          67.5154057462598,
          51.995806954767815,
          81.10885698170868,
          79.82758622621635,
          69.56412986901907,
          65.30564696408085,
          58.7648487966667,
          75.45621511982041,
          76.57350946243241,
          71.59355730576937,
          75.23866118424647,
          71.8734757996419,
          66.80166178120345,
          67.77136798093707
         ],
         "xaxis": "x3",
         "yaxis": "y3"
        },
        {
         "alignmentgroup": "True",
         "bingroup": "y",
         "hovertemplate": "physics=%{y}<br>count=%{x}<extra></extra>",
         "legendgroup": "",
         "marker": {
          "color": "#636efa"
         },
         "name": "",
         "offsetgroup": "",
         "opacity": 0.5,
         "showlegend": false,
         "type": "histogram",
         "xaxis": "x2",
         "y": [
          75.02267074128348,
          69.40658142684302,
          97.0529154957918,
          82.22930145663497,
          77.31748976697097,
          72.6753806102657,
          77.33210970572637,
          89.77120243689498,
          87.21166301098748,
          83.71998324236533,
          72.20847556042912,
          77.97359070500161,
          77.38865906815667,
          75.55163838666714,
          84.99835163815257,
          74.16470325492844,
          71.2961199122941,
          70.78117530137412,
          90.91810074022277,
          89.8212160621579,
          70.58172750672075,
          72.33960299891064,
          73.53324166155956,
          85.68547493421262,
          77.31745943464709,
          80.00618550339621,
          85.68691846828223,
          65.38193721070054,
          76.94591706845337,
          74.38036681718074,
          79.5115153046304,
          79.90050182126886,
          89.86338193380526,
          86.81521203980512,
          97.62138846294513,
          78.62643975344307,
          78.37402399162862,
          74.83541860213576,
          86.63810080862365,
          68.87459794609158,
          71.81574025828414,
          80.69671723996808,
          81.35736934787451,
          74.9497668439863,
          78.04440193342415,
          78.86044433954028,
          76.62219314103315,
          78.25287466850979,
          80.86322329916706,
          83.56413310489036,
          71.40262563445778,
          75.61941611388269,
          81.87963967106536,
          72.284576523007,
          71.20634433035035,
          78.7199917824538,
          82.80474427046533,
          74.10265757269818,
          70.57576738566982,
          80.3090011142071,
          74.41091228661968,
          70.96609466433009,
          75.46923394021725,
          82.73877235306664,
          84.87313970097937,
          80.4643959000042,
          81.95293759678843,
          66.52066796593013,
          83.73032928854306,
          71.84220321004715,
          67.61009112924,
          85.69200105743404,
          66.35531965370689,
          88.49439754282531,
          85.73650684799615,
          73.26513168016132,
          73.61946800165812,
          76.2909173276789,
          81.38958921252419,
          79.92530041749929,
          73.22726455816004,
          75.39946956576925,
          72.61886998785069,
          87.12472595637631,
          73.91671014700368,
          77.40402943501208,
          76.61828459699807,
          77.33780595928292,
          85.27263193081123,
          89.1553947673997,
          86.85189500253344,
          71.98225021114956,
          75.88787142526621,
          74.09359885816912,
          76.28364650276743,
          60.88305790898999,
          73.2042101736541,
          87.44914866584722,
          87.83947341403,
          62.72907963302825,
          64.34252457604107,
          68.71721770357314,
          67.81809373898139,
          56.06603936227545,
          68.05497105636897,
          66.04529291270946,
          72.68808855474435,
          59.468540451722184,
          67.81337679216344,
          60.76961858534862,
          64.128541988741,
          62.634258240991144,
          64.92133070409807,
          67.76225877575074,
          64.85367311890549,
          67.81114106728529,
          73.55135970336335,
          64.781579187953,
          76.45275772760613,
          67.52394677771402,
          64.1026837160544,
          58.79721371356593,
          69.59508869325344,
          63.089051680347985,
          65.859644831974,
          61.42263906797854,
          65.96836946648274,
          72.4725849856624,
          67.33719865836399,
          76.66914022195105,
          69.41901541670426,
          54.50733921842932,
          76.8295749880665,
          73.88139646672872,
          65.27630767203038,
          66.30664968989858,
          60.85833934009541,
          63.998548397907484,
          58.8508679350604,
          61.559763437432146,
          61.620071455098525,
          71.32016364185243,
          55.071367799739946,
          64.0360989477544,
          63.028022053551894,
          57.675785092462,
          59.281682740529185,
          62.518827268463255,
          60.019969190502266,
          60.85340132387298,
          65.26064716859776,
          64.81975444295414,
          61.15531633017687,
          74.96080626445183,
          55.84144064577484,
          55.94181959060643,
          57.879756898808765,
          72.11076670551004,
          62.762776061668355,
          58.71168827231341,
          63.8816989362217,
          55.26001127061737,
          67.35421599383437,
          61.11380636604146,
          64.31628442403544,
          64.87441205721974,
          65.77480999292604,
          57.29681788674693,
          59.07545405732011,
          58.52139098040013,
          58.67664717475293,
          66.2438568955677,
          63.235902621768886,
          68.94304830216667,
          63.502864713160356,
          65.11440241134689,
          62.84764295671311,
          62.166664450490316,
          64.01102069456196,
          63.43748920795238,
          65.71919557581792,
          62.51803625059731,
          58.36699884661167,
          66.92007425333996,
          68.8180842260567,
          67.65253671093329,
          61.60117304111215,
          64.36980772064261,
          63.90890572093223,
          69.26393475126136,
          63.74555027598206,
          58.41238074878582,
          60.43727467676387,
          65.52217217062243,
          61.999733532812755,
          63.58408850604681,
          70.40479694192699,
          59.92383894622191,
          61.07763581590169,
          68.52848550176319
         ],
         "yaxis": "y2"
        }
       ],
       "layout": {
        "barmode": "overlay",
        "legend": {
         "tracegroupgap": 0
        },
        "margin": {
         "t": 60
        },
        "template": {
         "data": {
          "bar": [
           {
            "error_x": {
             "color": "#2a3f5f"
            },
            "error_y": {
             "color": "#2a3f5f"
            },
            "marker": {
             "line": {
              "color": "#E5ECF6",
              "width": 0.5
             },
             "pattern": {
              "fillmode": "overlay",
              "size": 10,
              "solidity": 0.2
             }
            },
            "type": "bar"
           }
          ],
          "barpolar": [
           {
            "marker": {
             "line": {
              "color": "#E5ECF6",
              "width": 0.5
             },
             "pattern": {
              "fillmode": "overlay",
              "size": 10,
              "solidity": 0.2
             }
            },
            "type": "barpolar"
           }
          ],
          "carpet": [
           {
            "aaxis": {
             "endlinecolor": "#2a3f5f",
             "gridcolor": "white",
             "linecolor": "white",
             "minorgridcolor": "white",
             "startlinecolor": "#2a3f5f"
            },
            "baxis": {
             "endlinecolor": "#2a3f5f",
             "gridcolor": "white",
             "linecolor": "white",
             "minorgridcolor": "white",
             "startlinecolor": "#2a3f5f"
            },
            "type": "carpet"
           }
          ],
          "choropleth": [
           {
            "colorbar": {
             "outlinewidth": 0,
             "ticks": ""
            },
            "type": "choropleth"
           }
          ],
          "contour": [
           {
            "colorbar": {
             "outlinewidth": 0,
             "ticks": ""
            },
            "colorscale": [
             [
              0,
              "#0d0887"
             ],
             [
              0.1111111111111111,
              "#46039f"
             ],
             [
              0.2222222222222222,
              "#7201a8"
             ],
             [
              0.3333333333333333,
              "#9c179e"
             ],
             [
              0.4444444444444444,
              "#bd3786"
             ],
             [
              0.5555555555555556,
              "#d8576b"
             ],
             [
              0.6666666666666666,
              "#ed7953"
             ],
             [
              0.7777777777777778,
              "#fb9f3a"
             ],
             [
              0.8888888888888888,
              "#fdca26"
             ],
             [
              1,
              "#f0f921"
             ]
            ],
            "type": "contour"
           }
          ],
          "contourcarpet": [
           {
            "colorbar": {
             "outlinewidth": 0,
             "ticks": ""
            },
            "type": "contourcarpet"
           }
          ],
          "heatmap": [
           {
            "colorbar": {
             "outlinewidth": 0,
             "ticks": ""
            },
            "colorscale": [
             [
              0,
              "#0d0887"
             ],
             [
              0.1111111111111111,
              "#46039f"
             ],
             [
              0.2222222222222222,
              "#7201a8"
             ],
             [
              0.3333333333333333,
              "#9c179e"
             ],
             [
              0.4444444444444444,
              "#bd3786"
             ],
             [
              0.5555555555555556,
              "#d8576b"
             ],
             [
              0.6666666666666666,
              "#ed7953"
             ],
             [
              0.7777777777777778,
              "#fb9f3a"
             ],
             [
              0.8888888888888888,
              "#fdca26"
             ],
             [
              1,
              "#f0f921"
             ]
            ],
            "type": "heatmap"
           }
          ],
          "heatmapgl": [
           {
            "colorbar": {
             "outlinewidth": 0,
             "ticks": ""
            },
            "colorscale": [
             [
              0,
              "#0d0887"
             ],
             [
              0.1111111111111111,
              "#46039f"
             ],
             [
              0.2222222222222222,
              "#7201a8"
             ],
             [
              0.3333333333333333,
              "#9c179e"
             ],
             [
              0.4444444444444444,
              "#bd3786"
             ],
             [
              0.5555555555555556,
              "#d8576b"
             ],
             [
              0.6666666666666666,
              "#ed7953"
             ],
             [
              0.7777777777777778,
              "#fb9f3a"
             ],
             [
              0.8888888888888888,
              "#fdca26"
             ],
             [
              1,
              "#f0f921"
             ]
            ],
            "type": "heatmapgl"
           }
          ],
          "histogram": [
           {
            "marker": {
             "pattern": {
              "fillmode": "overlay",
              "size": 10,
              "solidity": 0.2
             }
            },
            "type": "histogram"
           }
          ],
          "histogram2d": [
           {
            "colorbar": {
             "outlinewidth": 0,
             "ticks": ""
            },
            "colorscale": [
             [
              0,
              "#0d0887"
             ],
             [
              0.1111111111111111,
              "#46039f"
             ],
             [
              0.2222222222222222,
              "#7201a8"
             ],
             [
              0.3333333333333333,
              "#9c179e"
             ],
             [
              0.4444444444444444,
              "#bd3786"
             ],
             [
              0.5555555555555556,
              "#d8576b"
             ],
             [
              0.6666666666666666,
              "#ed7953"
             ],
             [
              0.7777777777777778,
              "#fb9f3a"
             ],
             [
              0.8888888888888888,
              "#fdca26"
             ],
             [
              1,
              "#f0f921"
             ]
            ],
            "type": "histogram2d"
           }
          ],
          "histogram2dcontour": [
           {
            "colorbar": {
             "outlinewidth": 0,
             "ticks": ""
            },
            "colorscale": [
             [
              0,
              "#0d0887"
             ],
             [
              0.1111111111111111,
              "#46039f"
             ],
             [
              0.2222222222222222,
              "#7201a8"
             ],
             [
              0.3333333333333333,
              "#9c179e"
             ],
             [
              0.4444444444444444,
              "#bd3786"
             ],
             [
              0.5555555555555556,
              "#d8576b"
             ],
             [
              0.6666666666666666,
              "#ed7953"
             ],
             [
              0.7777777777777778,
              "#fb9f3a"
             ],
             [
              0.8888888888888888,
              "#fdca26"
             ],
             [
              1,
              "#f0f921"
             ]
            ],
            "type": "histogram2dcontour"
           }
          ],
          "mesh3d": [
           {
            "colorbar": {
             "outlinewidth": 0,
             "ticks": ""
            },
            "type": "mesh3d"
           }
          ],
          "parcoords": [
           {
            "line": {
             "colorbar": {
              "outlinewidth": 0,
              "ticks": ""
             }
            },
            "type": "parcoords"
           }
          ],
          "pie": [
           {
            "automargin": true,
            "type": "pie"
           }
          ],
          "scatter": [
           {
            "marker": {
             "colorbar": {
              "outlinewidth": 0,
              "ticks": ""
             }
            },
            "type": "scatter"
           }
          ],
          "scatter3d": [
           {
            "line": {
             "colorbar": {
              "outlinewidth": 0,
              "ticks": ""
             }
            },
            "marker": {
             "colorbar": {
              "outlinewidth": 0,
              "ticks": ""
             }
            },
            "type": "scatter3d"
           }
          ],
          "scattercarpet": [
           {
            "marker": {
             "colorbar": {
              "outlinewidth": 0,
              "ticks": ""
             }
            },
            "type": "scattercarpet"
           }
          ],
          "scattergeo": [
           {
            "marker": {
             "colorbar": {
              "outlinewidth": 0,
              "ticks": ""
             }
            },
            "type": "scattergeo"
           }
          ],
          "scattergl": [
           {
            "marker": {
             "colorbar": {
              "outlinewidth": 0,
              "ticks": ""
             }
            },
            "type": "scattergl"
           }
          ],
          "scattermapbox": [
           {
            "marker": {
             "colorbar": {
              "outlinewidth": 0,
              "ticks": ""
             }
            },
            "type": "scattermapbox"
           }
          ],
          "scatterpolar": [
           {
            "marker": {
             "colorbar": {
              "outlinewidth": 0,
              "ticks": ""
             }
            },
            "type": "scatterpolar"
           }
          ],
          "scatterpolargl": [
           {
            "marker": {
             "colorbar": {
              "outlinewidth": 0,
              "ticks": ""
             }
            },
            "type": "scatterpolargl"
           }
          ],
          "scatterternary": [
           {
            "marker": {
             "colorbar": {
              "outlinewidth": 0,
              "ticks": ""
             }
            },
            "type": "scatterternary"
           }
          ],
          "surface": [
           {
            "colorbar": {
             "outlinewidth": 0,
             "ticks": ""
            },
            "colorscale": [
             [
              0,
              "#0d0887"
             ],
             [
              0.1111111111111111,
              "#46039f"
             ],
             [
              0.2222222222222222,
              "#7201a8"
             ],
             [
              0.3333333333333333,
              "#9c179e"
             ],
             [
              0.4444444444444444,
              "#bd3786"
             ],
             [
              0.5555555555555556,
              "#d8576b"
             ],
             [
              0.6666666666666666,
              "#ed7953"
             ],
             [
              0.7777777777777778,
              "#fb9f3a"
             ],
             [
              0.8888888888888888,
              "#fdca26"
             ],
             [
              1,
              "#f0f921"
             ]
            ],
            "type": "surface"
           }
          ],
          "table": [
           {
            "cells": {
             "fill": {
              "color": "#EBF0F8"
             },
             "line": {
              "color": "white"
             }
            },
            "header": {
             "fill": {
              "color": "#C8D4E3"
             },
             "line": {
              "color": "white"
             }
            },
            "type": "table"
           }
          ]
         },
         "layout": {
          "annotationdefaults": {
           "arrowcolor": "#2a3f5f",
           "arrowhead": 0,
           "arrowwidth": 1
          },
          "autotypenumbers": "strict",
          "coloraxis": {
           "colorbar": {
            "outlinewidth": 0,
            "ticks": ""
           }
          },
          "colorscale": {
           "diverging": [
            [
             0,
             "#8e0152"
            ],
            [
             0.1,
             "#c51b7d"
            ],
            [
             0.2,
             "#de77ae"
            ],
            [
             0.3,
             "#f1b6da"
            ],
            [
             0.4,
             "#fde0ef"
            ],
            [
             0.5,
             "#f7f7f7"
            ],
            [
             0.6,
             "#e6f5d0"
            ],
            [
             0.7,
             "#b8e186"
            ],
            [
             0.8,
             "#7fbc41"
            ],
            [
             0.9,
             "#4d9221"
            ],
            [
             1,
             "#276419"
            ]
           ],
           "sequential": [
            [
             0,
             "#0d0887"
            ],
            [
             0.1111111111111111,
             "#46039f"
            ],
            [
             0.2222222222222222,
             "#7201a8"
            ],
            [
             0.3333333333333333,
             "#9c179e"
            ],
            [
             0.4444444444444444,
             "#bd3786"
            ],
            [
             0.5555555555555556,
             "#d8576b"
            ],
            [
             0.6666666666666666,
             "#ed7953"
            ],
            [
             0.7777777777777778,
             "#fb9f3a"
            ],
            [
             0.8888888888888888,
             "#fdca26"
            ],
            [
             1,
             "#f0f921"
            ]
           ],
           "sequentialminus": [
            [
             0,
             "#0d0887"
            ],
            [
             0.1111111111111111,
             "#46039f"
            ],
            [
             0.2222222222222222,
             "#7201a8"
            ],
            [
             0.3333333333333333,
             "#9c179e"
            ],
            [
             0.4444444444444444,
             "#bd3786"
            ],
            [
             0.5555555555555556,
             "#d8576b"
            ],
            [
             0.6666666666666666,
             "#ed7953"
            ],
            [
             0.7777777777777778,
             "#fb9f3a"
            ],
            [
             0.8888888888888888,
             "#fdca26"
            ],
            [
             1,
             "#f0f921"
            ]
           ]
          },
          "colorway": [
           "#636efa",
           "#EF553B",
           "#00cc96",
           "#ab63fa",
           "#FFA15A",
           "#19d3f3",
           "#FF6692",
           "#B6E880",
           "#FF97FF",
           "#FECB52"
          ],
          "font": {
           "color": "#2a3f5f"
          },
          "geo": {
           "bgcolor": "white",
           "lakecolor": "white",
           "landcolor": "#E5ECF6",
           "showlakes": true,
           "showland": true,
           "subunitcolor": "white"
          },
          "hoverlabel": {
           "align": "left"
          },
          "hovermode": "closest",
          "mapbox": {
           "style": "light"
          },
          "paper_bgcolor": "white",
          "plot_bgcolor": "#E5ECF6",
          "polar": {
           "angularaxis": {
            "gridcolor": "white",
            "linecolor": "white",
            "ticks": ""
           },
           "bgcolor": "#E5ECF6",
           "radialaxis": {
            "gridcolor": "white",
            "linecolor": "white",
            "ticks": ""
           }
          },
          "scene": {
           "xaxis": {
            "backgroundcolor": "#E5ECF6",
            "gridcolor": "white",
            "gridwidth": 2,
            "linecolor": "white",
            "showbackground": true,
            "ticks": "",
            "zerolinecolor": "white"
           },
           "yaxis": {
            "backgroundcolor": "#E5ECF6",
            "gridcolor": "white",
            "gridwidth": 2,
            "linecolor": "white",
            "showbackground": true,
            "ticks": "",
            "zerolinecolor": "white"
           },
           "zaxis": {
            "backgroundcolor": "#E5ECF6",
            "gridcolor": "white",
            "gridwidth": 2,
            "linecolor": "white",
            "showbackground": true,
            "ticks": "",
            "zerolinecolor": "white"
           }
          },
          "shapedefaults": {
           "line": {
            "color": "#2a3f5f"
           }
          },
          "ternary": {
           "aaxis": {
            "gridcolor": "white",
            "linecolor": "white",
            "ticks": ""
           },
           "baxis": {
            "gridcolor": "white",
            "linecolor": "white",
            "ticks": ""
           },
           "bgcolor": "#E5ECF6",
           "caxis": {
            "gridcolor": "white",
            "linecolor": "white",
            "ticks": ""
           }
          },
          "title": {
           "x": 0.05
          },
          "xaxis": {
           "automargin": true,
           "gridcolor": "white",
           "linecolor": "white",
           "ticks": "",
           "title": {
            "standoff": 15
           },
           "zerolinecolor": "white",
           "zerolinewidth": 2
          },
          "yaxis": {
           "automargin": true,
           "gridcolor": "white",
           "linecolor": "white",
           "ticks": "",
           "title": {
            "standoff": 15
           },
           "zerolinecolor": "white",
           "zerolinewidth": 2
          }
         }
        },
        "xaxis": {
         "anchor": "y",
         "domain": [
          0,
          0.7363
         ],
         "title": {
          "text": "math"
         }
        },
        "xaxis2": {
         "anchor": "y2",
         "domain": [
          0.7413,
          1
         ],
         "matches": "x2",
         "showgrid": true,
         "showline": false,
         "showticklabels": false,
         "ticks": ""
        },
        "xaxis3": {
         "anchor": "y3",
         "domain": [
          0,
          0.7363
         ],
         "matches": "x",
         "showgrid": true,
         "showticklabels": false
        },
        "xaxis4": {
         "anchor": "y4",
         "domain": [
          0.7413,
          1
         ],
         "matches": "x2",
         "showgrid": true,
         "showline": false,
         "showticklabels": false,
         "ticks": ""
        },
        "yaxis": {
         "anchor": "x",
         "domain": [
          0,
          0.7326
         ],
         "title": {
          "text": "physics"
         }
        },
        "yaxis2": {
         "anchor": "x2",
         "domain": [
          0,
          0.7326
         ],
         "matches": "y",
         "showgrid": true,
         "showticklabels": false
        },
        "yaxis3": {
         "anchor": "x3",
         "domain": [
          0.7426,
          1
         ],
         "matches": "y3",
         "showgrid": true,
         "showline": false,
         "showticklabels": false,
         "ticks": ""
        },
        "yaxis4": {
         "anchor": "x4",
         "domain": [
          0.7426,
          1
         ],
         "matches": "y3",
         "showgrid": true,
         "showline": false,
         "showticklabels": false,
         "ticks": ""
        }
       }
      },
      "text/html": [
       "<div>                            <div id=\"f3901a6e-68c9-413b-b264-8b8328c05565\" class=\"plotly-graph-div\" style=\"height:525px; width:100%;\"></div>            <script type=\"text/javascript\">                require([\"plotly\"], function(Plotly) {                    window.PLOTLYENV=window.PLOTLYENV || {};                                    if (document.getElementById(\"f3901a6e-68c9-413b-b264-8b8328c05565\")) {                    Plotly.newPlot(                        \"f3901a6e-68c9-413b-b264-8b8328c05565\",                        [{\"hovertemplate\":\"math=%{x}<br>physics=%{y}<extra></extra>\",\"legendgroup\":\"\",\"marker\":{\"color\":\"#636efa\",\"symbol\":\"circle\"},\"mode\":\"markers\",\"name\":\"\",\"orientation\":\"v\",\"showlegend\":false,\"type\":\"scatter\",\"x\":[66.07655910110478,64.58684690046825,59.885286121281474,61.07954805622612,54.87670159273362,63.026514835556384,63.92363334002261,49.74589644069059,59.4945415058746,63.981063139554664,61.08268686977042,59.81894519183068,57.49416534785671,56.90561004905844,57.739598214105364,65.74612459620937,58.48096074360947,54.48589475910658,53.916857179716736,58.15149205854583,63.21583850896875,55.31145974057622,57.686310535517556,54.4143134625789,64.03291301573323,57.30898318572346,62.12330585941871,66.63485926941188,56.714839920120816,61.7902482363347,58.54467315580185,53.2884021735914,61.77023895992531,51.62580612599437,59.86599431032879,70.3413745780841,58.060869473461125,59.573775005991884,59.620375915105086,57.78843451497578,54.36255396239566,67.39879790326263,59.35484858496795,55.636629918511744,58.62911051754044,64.14702706651387,58.33023277726518,58.23138021502757,51.32156795193504,64.92686163324733,58.25798689252621,47.92125696108154,59.61576882116469,56.24669958097997,56.141188400870725,56.49693149546679,65.16555317703492,64.0961838659947,60.51019924587212,55.81479897533023,61.07251379404362,57.811883610458985,54.999071560276604,61.09265349224977,64.41730432065631,64.67450832816711,52.82997816998279,69.58700840966533,54.91295410397741,51.1354157321761,59.47897700455823,52.308373764489694,63.51742994733272,51.43377389828453,55.377128422359036,53.85236631790547,62.95967225724537,49.187688699255034,56.251204906297986,60.399992630226485,51.59879703769515,59.55797333766452,59.860188673427416,59.196636732316485,56.8127693629386,62.92238814613842,65.80200476904113,55.74006638946511,59.19572042743605,58.93707358729214,52.57004834788904,52.074299050487966,69.66489705427587,65.5027823980843,62.39454280751154,50.36923087842238,60.92735729690802,70.91760670958335,52.011946072405166,47.27315490557212,63.89574036374801,55.557390084353266,69.66260049446268,74.1550336790567,64.22972491351324,78.1931380187499,71.03573077165316,73.89662746244692,67.80420969021847,75.4936900931421,81.60948066544853,68.61992807590381,73.19772408644454,70.92640219875135,63.13474188867857,66.23364338251547,62.420268863309,77.92976266209023,74.8638609648485,70.94503643991193,66.88489952030433,71.45520128655588,60.60711313532401,56.686487626081565,69.42544678900119,70.46074191312174,77.06253405765503,74.20340968590902,68.43145995421919,72.6417881375353,69.23060493470017,68.57075525655983,62.7370313492972,68.9731495580112,68.6283728768037,79.74281660479667,68.90576352945159,79.06711401132523,70.31031574696033,74.20492239108826,85.70060979793185,64.21331209076598,60.77937315626638,68.84676333449708,66.73304067191725,72.20192662088638,74.60978974973051,77.97301059043538,75.64878248885876,84.95071137552878,86.77132566593039,67.2587547585905,66.0842888962312,72.07931301409262,69.68823060075623,57.64221276241261,74.83985730082738,72.05025435828507,57.92850802739906,79.80092340439126,66.02447875000432,70.73229521127156,75.29612687761639,51.485614307887786,75.4898503719829,62.83959839725153,78.19890840218488,76.66760518228732,60.48845100009222,69.31400094383731,65.64802107641952,65.77732353138249,73.12572002477282,76.81904026689264,70.06732877884144,75.87173612110462,68.03528474280594,69.69984777916088,62.49275429500659,67.00347544783045,56.971395871016576,72.81030751159477,72.28175324349222,70.12944769039669,79.58665904172163,68.5531910470923,67.5154057462598,51.995806954767815,81.10885698170868,79.82758622621635,69.56412986901907,65.30564696408085,58.7648487966667,75.45621511982041,76.57350946243241,71.59355730576937,75.23866118424647,71.8734757996419,66.80166178120345,67.77136798093707],\"xaxis\":\"x\",\"y\":[75.02267074128348,69.40658142684302,97.0529154957918,82.22930145663497,77.31748976697097,72.6753806102657,77.33210970572637,89.77120243689498,87.21166301098748,83.71998324236533,72.20847556042912,77.97359070500161,77.38865906815667,75.55163838666714,84.99835163815257,74.16470325492844,71.2961199122941,70.78117530137412,90.91810074022277,89.8212160621579,70.58172750672075,72.33960299891064,73.53324166155956,85.68547493421262,77.31745943464709,80.00618550339621,85.68691846828223,65.38193721070054,76.94591706845337,74.38036681718074,79.5115153046304,79.90050182126886,89.86338193380526,86.81521203980512,97.62138846294513,78.62643975344307,78.37402399162862,74.83541860213576,86.63810080862365,68.87459794609158,71.81574025828414,80.69671723996808,81.35736934787451,74.9497668439863,78.04440193342415,78.86044433954028,76.62219314103315,78.25287466850979,80.86322329916706,83.56413310489036,71.40262563445778,75.61941611388269,81.87963967106536,72.284576523007,71.20634433035035,78.7199917824538,82.80474427046533,74.10265757269818,70.57576738566982,80.3090011142071,74.41091228661968,70.96609466433009,75.46923394021725,82.73877235306664,84.87313970097937,80.4643959000042,81.95293759678843,66.52066796593013,83.73032928854306,71.84220321004715,67.61009112924,85.69200105743404,66.35531965370689,88.49439754282531,85.73650684799615,73.26513168016132,73.61946800165812,76.2909173276789,81.38958921252419,79.92530041749929,73.22726455816004,75.39946956576925,72.61886998785069,87.12472595637631,73.91671014700368,77.40402943501208,76.61828459699807,77.33780595928292,85.27263193081123,89.1553947673997,86.85189500253344,71.98225021114956,75.88787142526621,74.09359885816912,76.28364650276743,60.88305790898999,73.2042101736541,87.44914866584722,87.83947341403,62.72907963302825,64.34252457604107,68.71721770357314,67.81809373898139,56.06603936227545,68.05497105636897,66.04529291270946,72.68808855474435,59.468540451722184,67.81337679216344,60.76961858534862,64.128541988741,62.634258240991144,64.92133070409807,67.76225877575074,64.85367311890549,67.81114106728529,73.55135970336335,64.781579187953,76.45275772760613,67.52394677771402,64.1026837160544,58.79721371356593,69.59508869325344,63.089051680347985,65.859644831974,61.42263906797854,65.96836946648274,72.4725849856624,67.33719865836399,76.66914022195105,69.41901541670426,54.50733921842932,76.8295749880665,73.88139646672872,65.27630767203038,66.30664968989858,60.85833934009541,63.998548397907484,58.8508679350604,61.559763437432146,61.620071455098525,71.32016364185243,55.071367799739946,64.0360989477544,63.028022053551894,57.675785092462,59.281682740529185,62.518827268463255,60.019969190502266,60.85340132387298,65.26064716859776,64.81975444295414,61.15531633017687,74.96080626445183,55.84144064577484,55.94181959060643,57.879756898808765,72.11076670551004,62.762776061668355,58.71168827231341,63.8816989362217,55.26001127061737,67.35421599383437,61.11380636604146,64.31628442403544,64.87441205721974,65.77480999292604,57.29681788674693,59.07545405732011,58.52139098040013,58.67664717475293,66.2438568955677,63.235902621768886,68.94304830216667,63.502864713160356,65.11440241134689,62.84764295671311,62.166664450490316,64.01102069456196,63.43748920795238,65.71919557581792,62.51803625059731,58.36699884661167,66.92007425333996,68.8180842260567,67.65253671093329,61.60117304111215,64.36980772064261,63.90890572093223,69.26393475126136,63.74555027598206,58.41238074878582,60.43727467676387,65.52217217062243,61.999733532812755,63.58408850604681,70.40479694192699,59.92383894622191,61.07763581590169,68.52848550176319],\"yaxis\":\"y\"},{\"alignmentgroup\":\"True\",\"bingroup\":\"x\",\"hovertemplate\":\"math=%{x}<br>count=%{y}<extra></extra>\",\"legendgroup\":\"\",\"marker\":{\"color\":\"#636efa\"},\"name\":\"\",\"offsetgroup\":\"\",\"opacity\":0.5,\"showlegend\":false,\"type\":\"histogram\",\"x\":[66.07655910110478,64.58684690046825,59.885286121281474,61.07954805622612,54.87670159273362,63.026514835556384,63.92363334002261,49.74589644069059,59.4945415058746,63.981063139554664,61.08268686977042,59.81894519183068,57.49416534785671,56.90561004905844,57.739598214105364,65.74612459620937,58.48096074360947,54.48589475910658,53.916857179716736,58.15149205854583,63.21583850896875,55.31145974057622,57.686310535517556,54.4143134625789,64.03291301573323,57.30898318572346,62.12330585941871,66.63485926941188,56.714839920120816,61.7902482363347,58.54467315580185,53.2884021735914,61.77023895992531,51.62580612599437,59.86599431032879,70.3413745780841,58.060869473461125,59.573775005991884,59.620375915105086,57.78843451497578,54.36255396239566,67.39879790326263,59.35484858496795,55.636629918511744,58.62911051754044,64.14702706651387,58.33023277726518,58.23138021502757,51.32156795193504,64.92686163324733,58.25798689252621,47.92125696108154,59.61576882116469,56.24669958097997,56.141188400870725,56.49693149546679,65.16555317703492,64.0961838659947,60.51019924587212,55.81479897533023,61.07251379404362,57.811883610458985,54.999071560276604,61.09265349224977,64.41730432065631,64.67450832816711,52.82997816998279,69.58700840966533,54.91295410397741,51.1354157321761,59.47897700455823,52.308373764489694,63.51742994733272,51.43377389828453,55.377128422359036,53.85236631790547,62.95967225724537,49.187688699255034,56.251204906297986,60.399992630226485,51.59879703769515,59.55797333766452,59.860188673427416,59.196636732316485,56.8127693629386,62.92238814613842,65.80200476904113,55.74006638946511,59.19572042743605,58.93707358729214,52.57004834788904,52.074299050487966,69.66489705427587,65.5027823980843,62.39454280751154,50.36923087842238,60.92735729690802,70.91760670958335,52.011946072405166,47.27315490557212,63.89574036374801,55.557390084353266,69.66260049446268,74.1550336790567,64.22972491351324,78.1931380187499,71.03573077165316,73.89662746244692,67.80420969021847,75.4936900931421,81.60948066544853,68.61992807590381,73.19772408644454,70.92640219875135,63.13474188867857,66.23364338251547,62.420268863309,77.92976266209023,74.8638609648485,70.94503643991193,66.88489952030433,71.45520128655588,60.60711313532401,56.686487626081565,69.42544678900119,70.46074191312174,77.06253405765503,74.20340968590902,68.43145995421919,72.6417881375353,69.23060493470017,68.57075525655983,62.7370313492972,68.9731495580112,68.6283728768037,79.74281660479667,68.90576352945159,79.06711401132523,70.31031574696033,74.20492239108826,85.70060979793185,64.21331209076598,60.77937315626638,68.84676333449708,66.73304067191725,72.20192662088638,74.60978974973051,77.97301059043538,75.64878248885876,84.95071137552878,86.77132566593039,67.2587547585905,66.0842888962312,72.07931301409262,69.68823060075623,57.64221276241261,74.83985730082738,72.05025435828507,57.92850802739906,79.80092340439126,66.02447875000432,70.73229521127156,75.29612687761639,51.485614307887786,75.4898503719829,62.83959839725153,78.19890840218488,76.66760518228732,60.48845100009222,69.31400094383731,65.64802107641952,65.77732353138249,73.12572002477282,76.81904026689264,70.06732877884144,75.87173612110462,68.03528474280594,69.69984777916088,62.49275429500659,67.00347544783045,56.971395871016576,72.81030751159477,72.28175324349222,70.12944769039669,79.58665904172163,68.5531910470923,67.5154057462598,51.995806954767815,81.10885698170868,79.82758622621635,69.56412986901907,65.30564696408085,58.7648487966667,75.45621511982041,76.57350946243241,71.59355730576937,75.23866118424647,71.8734757996419,66.80166178120345,67.77136798093707],\"xaxis\":\"x3\",\"yaxis\":\"y3\"},{\"alignmentgroup\":\"True\",\"bingroup\":\"y\",\"hovertemplate\":\"physics=%{y}<br>count=%{x}<extra></extra>\",\"legendgroup\":\"\",\"marker\":{\"color\":\"#636efa\"},\"name\":\"\",\"offsetgroup\":\"\",\"opacity\":0.5,\"showlegend\":false,\"type\":\"histogram\",\"xaxis\":\"x2\",\"y\":[75.02267074128348,69.40658142684302,97.0529154957918,82.22930145663497,77.31748976697097,72.6753806102657,77.33210970572637,89.77120243689498,87.21166301098748,83.71998324236533,72.20847556042912,77.97359070500161,77.38865906815667,75.55163838666714,84.99835163815257,74.16470325492844,71.2961199122941,70.78117530137412,90.91810074022277,89.8212160621579,70.58172750672075,72.33960299891064,73.53324166155956,85.68547493421262,77.31745943464709,80.00618550339621,85.68691846828223,65.38193721070054,76.94591706845337,74.38036681718074,79.5115153046304,79.90050182126886,89.86338193380526,86.81521203980512,97.62138846294513,78.62643975344307,78.37402399162862,74.83541860213576,86.63810080862365,68.87459794609158,71.81574025828414,80.69671723996808,81.35736934787451,74.9497668439863,78.04440193342415,78.86044433954028,76.62219314103315,78.25287466850979,80.86322329916706,83.56413310489036,71.40262563445778,75.61941611388269,81.87963967106536,72.284576523007,71.20634433035035,78.7199917824538,82.80474427046533,74.10265757269818,70.57576738566982,80.3090011142071,74.41091228661968,70.96609466433009,75.46923394021725,82.73877235306664,84.87313970097937,80.4643959000042,81.95293759678843,66.52066796593013,83.73032928854306,71.84220321004715,67.61009112924,85.69200105743404,66.35531965370689,88.49439754282531,85.73650684799615,73.26513168016132,73.61946800165812,76.2909173276789,81.38958921252419,79.92530041749929,73.22726455816004,75.39946956576925,72.61886998785069,87.12472595637631,73.91671014700368,77.40402943501208,76.61828459699807,77.33780595928292,85.27263193081123,89.1553947673997,86.85189500253344,71.98225021114956,75.88787142526621,74.09359885816912,76.28364650276743,60.88305790898999,73.2042101736541,87.44914866584722,87.83947341403,62.72907963302825,64.34252457604107,68.71721770357314,67.81809373898139,56.06603936227545,68.05497105636897,66.04529291270946,72.68808855474435,59.468540451722184,67.81337679216344,60.76961858534862,64.128541988741,62.634258240991144,64.92133070409807,67.76225877575074,64.85367311890549,67.81114106728529,73.55135970336335,64.781579187953,76.45275772760613,67.52394677771402,64.1026837160544,58.79721371356593,69.59508869325344,63.089051680347985,65.859644831974,61.42263906797854,65.96836946648274,72.4725849856624,67.33719865836399,76.66914022195105,69.41901541670426,54.50733921842932,76.8295749880665,73.88139646672872,65.27630767203038,66.30664968989858,60.85833934009541,63.998548397907484,58.8508679350604,61.559763437432146,61.620071455098525,71.32016364185243,55.071367799739946,64.0360989477544,63.028022053551894,57.675785092462,59.281682740529185,62.518827268463255,60.019969190502266,60.85340132387298,65.26064716859776,64.81975444295414,61.15531633017687,74.96080626445183,55.84144064577484,55.94181959060643,57.879756898808765,72.11076670551004,62.762776061668355,58.71168827231341,63.8816989362217,55.26001127061737,67.35421599383437,61.11380636604146,64.31628442403544,64.87441205721974,65.77480999292604,57.29681788674693,59.07545405732011,58.52139098040013,58.67664717475293,66.2438568955677,63.235902621768886,68.94304830216667,63.502864713160356,65.11440241134689,62.84764295671311,62.166664450490316,64.01102069456196,63.43748920795238,65.71919557581792,62.51803625059731,58.36699884661167,66.92007425333996,68.8180842260567,67.65253671093329,61.60117304111215,64.36980772064261,63.90890572093223,69.26393475126136,63.74555027598206,58.41238074878582,60.43727467676387,65.52217217062243,61.999733532812755,63.58408850604681,70.40479694192699,59.92383894622191,61.07763581590169,68.52848550176319],\"yaxis\":\"y2\"}],                        {\"barmode\":\"overlay\",\"legend\":{\"tracegroupgap\":0},\"margin\":{\"t\":60},\"template\":{\"data\":{\"bar\":[{\"error_x\":{\"color\":\"#2a3f5f\"},\"error_y\":{\"color\":\"#2a3f5f\"},\"marker\":{\"line\":{\"color\":\"#E5ECF6\",\"width\":0.5},\"pattern\":{\"fillmode\":\"overlay\",\"size\":10,\"solidity\":0.2}},\"type\":\"bar\"}],\"barpolar\":[{\"marker\":{\"line\":{\"color\":\"#E5ECF6\",\"width\":0.5},\"pattern\":{\"fillmode\":\"overlay\",\"size\":10,\"solidity\":0.2}},\"type\":\"barpolar\"}],\"carpet\":[{\"aaxis\":{\"endlinecolor\":\"#2a3f5f\",\"gridcolor\":\"white\",\"linecolor\":\"white\",\"minorgridcolor\":\"white\",\"startlinecolor\":\"#2a3f5f\"},\"baxis\":{\"endlinecolor\":\"#2a3f5f\",\"gridcolor\":\"white\",\"linecolor\":\"white\",\"minorgridcolor\":\"white\",\"startlinecolor\":\"#2a3f5f\"},\"type\":\"carpet\"}],\"choropleth\":[{\"colorbar\":{\"outlinewidth\":0,\"ticks\":\"\"},\"type\":\"choropleth\"}],\"contour\":[{\"colorbar\":{\"outlinewidth\":0,\"ticks\":\"\"},\"colorscale\":[[0.0,\"#0d0887\"],[0.1111111111111111,\"#46039f\"],[0.2222222222222222,\"#7201a8\"],[0.3333333333333333,\"#9c179e\"],[0.4444444444444444,\"#bd3786\"],[0.5555555555555556,\"#d8576b\"],[0.6666666666666666,\"#ed7953\"],[0.7777777777777778,\"#fb9f3a\"],[0.8888888888888888,\"#fdca26\"],[1.0,\"#f0f921\"]],\"type\":\"contour\"}],\"contourcarpet\":[{\"colorbar\":{\"outlinewidth\":0,\"ticks\":\"\"},\"type\":\"contourcarpet\"}],\"heatmap\":[{\"colorbar\":{\"outlinewidth\":0,\"ticks\":\"\"},\"colorscale\":[[0.0,\"#0d0887\"],[0.1111111111111111,\"#46039f\"],[0.2222222222222222,\"#7201a8\"],[0.3333333333333333,\"#9c179e\"],[0.4444444444444444,\"#bd3786\"],[0.5555555555555556,\"#d8576b\"],[0.6666666666666666,\"#ed7953\"],[0.7777777777777778,\"#fb9f3a\"],[0.8888888888888888,\"#fdca26\"],[1.0,\"#f0f921\"]],\"type\":\"heatmap\"}],\"heatmapgl\":[{\"colorbar\":{\"outlinewidth\":0,\"ticks\":\"\"},\"colorscale\":[[0.0,\"#0d0887\"],[0.1111111111111111,\"#46039f\"],[0.2222222222222222,\"#7201a8\"],[0.3333333333333333,\"#9c179e\"],[0.4444444444444444,\"#bd3786\"],[0.5555555555555556,\"#d8576b\"],[0.6666666666666666,\"#ed7953\"],[0.7777777777777778,\"#fb9f3a\"],[0.8888888888888888,\"#fdca26\"],[1.0,\"#f0f921\"]],\"type\":\"heatmapgl\"}],\"histogram\":[{\"marker\":{\"pattern\":{\"fillmode\":\"overlay\",\"size\":10,\"solidity\":0.2}},\"type\":\"histogram\"}],\"histogram2d\":[{\"colorbar\":{\"outlinewidth\":0,\"ticks\":\"\"},\"colorscale\":[[0.0,\"#0d0887\"],[0.1111111111111111,\"#46039f\"],[0.2222222222222222,\"#7201a8\"],[0.3333333333333333,\"#9c179e\"],[0.4444444444444444,\"#bd3786\"],[0.5555555555555556,\"#d8576b\"],[0.6666666666666666,\"#ed7953\"],[0.7777777777777778,\"#fb9f3a\"],[0.8888888888888888,\"#fdca26\"],[1.0,\"#f0f921\"]],\"type\":\"histogram2d\"}],\"histogram2dcontour\":[{\"colorbar\":{\"outlinewidth\":0,\"ticks\":\"\"},\"colorscale\":[[0.0,\"#0d0887\"],[0.1111111111111111,\"#46039f\"],[0.2222222222222222,\"#7201a8\"],[0.3333333333333333,\"#9c179e\"],[0.4444444444444444,\"#bd3786\"],[0.5555555555555556,\"#d8576b\"],[0.6666666666666666,\"#ed7953\"],[0.7777777777777778,\"#fb9f3a\"],[0.8888888888888888,\"#fdca26\"],[1.0,\"#f0f921\"]],\"type\":\"histogram2dcontour\"}],\"mesh3d\":[{\"colorbar\":{\"outlinewidth\":0,\"ticks\":\"\"},\"type\":\"mesh3d\"}],\"parcoords\":[{\"line\":{\"colorbar\":{\"outlinewidth\":0,\"ticks\":\"\"}},\"type\":\"parcoords\"}],\"pie\":[{\"automargin\":true,\"type\":\"pie\"}],\"scatter\":[{\"marker\":{\"colorbar\":{\"outlinewidth\":0,\"ticks\":\"\"}},\"type\":\"scatter\"}],\"scatter3d\":[{\"line\":{\"colorbar\":{\"outlinewidth\":0,\"ticks\":\"\"}},\"marker\":{\"colorbar\":{\"outlinewidth\":0,\"ticks\":\"\"}},\"type\":\"scatter3d\"}],\"scattercarpet\":[{\"marker\":{\"colorbar\":{\"outlinewidth\":0,\"ticks\":\"\"}},\"type\":\"scattercarpet\"}],\"scattergeo\":[{\"marker\":{\"colorbar\":{\"outlinewidth\":0,\"ticks\":\"\"}},\"type\":\"scattergeo\"}],\"scattergl\":[{\"marker\":{\"colorbar\":{\"outlinewidth\":0,\"ticks\":\"\"}},\"type\":\"scattergl\"}],\"scattermapbox\":[{\"marker\":{\"colorbar\":{\"outlinewidth\":0,\"ticks\":\"\"}},\"type\":\"scattermapbox\"}],\"scatterpolar\":[{\"marker\":{\"colorbar\":{\"outlinewidth\":0,\"ticks\":\"\"}},\"type\":\"scatterpolar\"}],\"scatterpolargl\":[{\"marker\":{\"colorbar\":{\"outlinewidth\":0,\"ticks\":\"\"}},\"type\":\"scatterpolargl\"}],\"scatterternary\":[{\"marker\":{\"colorbar\":{\"outlinewidth\":0,\"ticks\":\"\"}},\"type\":\"scatterternary\"}],\"surface\":[{\"colorbar\":{\"outlinewidth\":0,\"ticks\":\"\"},\"colorscale\":[[0.0,\"#0d0887\"],[0.1111111111111111,\"#46039f\"],[0.2222222222222222,\"#7201a8\"],[0.3333333333333333,\"#9c179e\"],[0.4444444444444444,\"#bd3786\"],[0.5555555555555556,\"#d8576b\"],[0.6666666666666666,\"#ed7953\"],[0.7777777777777778,\"#fb9f3a\"],[0.8888888888888888,\"#fdca26\"],[1.0,\"#f0f921\"]],\"type\":\"surface\"}],\"table\":[{\"cells\":{\"fill\":{\"color\":\"#EBF0F8\"},\"line\":{\"color\":\"white\"}},\"header\":{\"fill\":{\"color\":\"#C8D4E3\"},\"line\":{\"color\":\"white\"}},\"type\":\"table\"}]},\"layout\":{\"annotationdefaults\":{\"arrowcolor\":\"#2a3f5f\",\"arrowhead\":0,\"arrowwidth\":1},\"autotypenumbers\":\"strict\",\"coloraxis\":{\"colorbar\":{\"outlinewidth\":0,\"ticks\":\"\"}},\"colorscale\":{\"diverging\":[[0,\"#8e0152\"],[0.1,\"#c51b7d\"],[0.2,\"#de77ae\"],[0.3,\"#f1b6da\"],[0.4,\"#fde0ef\"],[0.5,\"#f7f7f7\"],[0.6,\"#e6f5d0\"],[0.7,\"#b8e186\"],[0.8,\"#7fbc41\"],[0.9,\"#4d9221\"],[1,\"#276419\"]],\"sequential\":[[0.0,\"#0d0887\"],[0.1111111111111111,\"#46039f\"],[0.2222222222222222,\"#7201a8\"],[0.3333333333333333,\"#9c179e\"],[0.4444444444444444,\"#bd3786\"],[0.5555555555555556,\"#d8576b\"],[0.6666666666666666,\"#ed7953\"],[0.7777777777777778,\"#fb9f3a\"],[0.8888888888888888,\"#fdca26\"],[1.0,\"#f0f921\"]],\"sequentialminus\":[[0.0,\"#0d0887\"],[0.1111111111111111,\"#46039f\"],[0.2222222222222222,\"#7201a8\"],[0.3333333333333333,\"#9c179e\"],[0.4444444444444444,\"#bd3786\"],[0.5555555555555556,\"#d8576b\"],[0.6666666666666666,\"#ed7953\"],[0.7777777777777778,\"#fb9f3a\"],[0.8888888888888888,\"#fdca26\"],[1.0,\"#f0f921\"]]},\"colorway\":[\"#636efa\",\"#EF553B\",\"#00cc96\",\"#ab63fa\",\"#FFA15A\",\"#19d3f3\",\"#FF6692\",\"#B6E880\",\"#FF97FF\",\"#FECB52\"],\"font\":{\"color\":\"#2a3f5f\"},\"geo\":{\"bgcolor\":\"white\",\"lakecolor\":\"white\",\"landcolor\":\"#E5ECF6\",\"showlakes\":true,\"showland\":true,\"subunitcolor\":\"white\"},\"hoverlabel\":{\"align\":\"left\"},\"hovermode\":\"closest\",\"mapbox\":{\"style\":\"light\"},\"paper_bgcolor\":\"white\",\"plot_bgcolor\":\"#E5ECF6\",\"polar\":{\"angularaxis\":{\"gridcolor\":\"white\",\"linecolor\":\"white\",\"ticks\":\"\"},\"bgcolor\":\"#E5ECF6\",\"radialaxis\":{\"gridcolor\":\"white\",\"linecolor\":\"white\",\"ticks\":\"\"}},\"scene\":{\"xaxis\":{\"backgroundcolor\":\"#E5ECF6\",\"gridcolor\":\"white\",\"gridwidth\":2,\"linecolor\":\"white\",\"showbackground\":true,\"ticks\":\"\",\"zerolinecolor\":\"white\"},\"yaxis\":{\"backgroundcolor\":\"#E5ECF6\",\"gridcolor\":\"white\",\"gridwidth\":2,\"linecolor\":\"white\",\"showbackground\":true,\"ticks\":\"\",\"zerolinecolor\":\"white\"},\"zaxis\":{\"backgroundcolor\":\"#E5ECF6\",\"gridcolor\":\"white\",\"gridwidth\":2,\"linecolor\":\"white\",\"showbackground\":true,\"ticks\":\"\",\"zerolinecolor\":\"white\"}},\"shapedefaults\":{\"line\":{\"color\":\"#2a3f5f\"}},\"ternary\":{\"aaxis\":{\"gridcolor\":\"white\",\"linecolor\":\"white\",\"ticks\":\"\"},\"baxis\":{\"gridcolor\":\"white\",\"linecolor\":\"white\",\"ticks\":\"\"},\"bgcolor\":\"#E5ECF6\",\"caxis\":{\"gridcolor\":\"white\",\"linecolor\":\"white\",\"ticks\":\"\"}},\"title\":{\"x\":0.05},\"xaxis\":{\"automargin\":true,\"gridcolor\":\"white\",\"linecolor\":\"white\",\"ticks\":\"\",\"title\":{\"standoff\":15},\"zerolinecolor\":\"white\",\"zerolinewidth\":2},\"yaxis\":{\"automargin\":true,\"gridcolor\":\"white\",\"linecolor\":\"white\",\"ticks\":\"\",\"title\":{\"standoff\":15},\"zerolinecolor\":\"white\",\"zerolinewidth\":2}}},\"xaxis\":{\"anchor\":\"y\",\"domain\":[0.0,0.7363],\"title\":{\"text\":\"math\"}},\"xaxis2\":{\"anchor\":\"y2\",\"domain\":[0.7413,1.0],\"matches\":\"x2\",\"showgrid\":true,\"showline\":false,\"showticklabels\":false,\"ticks\":\"\"},\"xaxis3\":{\"anchor\":\"y3\",\"domain\":[0.0,0.7363],\"matches\":\"x\",\"showgrid\":true,\"showticklabels\":false},\"xaxis4\":{\"anchor\":\"y4\",\"domain\":[0.7413,1.0],\"matches\":\"x2\",\"showgrid\":true,\"showline\":false,\"showticklabels\":false,\"ticks\":\"\"},\"yaxis\":{\"anchor\":\"x\",\"domain\":[0.0,0.7326],\"title\":{\"text\":\"physics\"}},\"yaxis2\":{\"anchor\":\"x2\",\"domain\":[0.0,0.7326],\"matches\":\"y\",\"showgrid\":true,\"showticklabels\":false},\"yaxis3\":{\"anchor\":\"x3\",\"domain\":[0.7426,1.0],\"matches\":\"y3\",\"showgrid\":true,\"showline\":false,\"showticklabels\":false,\"ticks\":\"\"},\"yaxis4\":{\"anchor\":\"x4\",\"domain\":[0.7426,1.0],\"matches\":\"y3\",\"showgrid\":true,\"showline\":false,\"showticklabels\":false,\"ticks\":\"\"}},                        {\"responsive\": true}                    ).then(function(){\n",
       "                            \n",
       "var gd = document.getElementById('f3901a6e-68c9-413b-b264-8b8328c05565');\n",
       "var x = new MutationObserver(function (mutations, observer) {{\n",
       "        var display = window.getComputedStyle(gd).display;\n",
       "        if (!display || display === 'none') {{\n",
       "            console.log([gd, 'removed!']);\n",
       "            Plotly.purge(gd);\n",
       "            observer.disconnect();\n",
       "        }}\n",
       "}});\n",
       "\n",
       "// Listen for the removal of the full notebook cells\n",
       "var notebookContainer = gd.closest('#notebook-container');\n",
       "if (notebookContainer) {{\n",
       "    x.observe(notebookContainer, {childList: true});\n",
       "}}\n",
       "\n",
       "// Listen for the clearing of the current output cell\n",
       "var outputEl = gd.closest('.output');\n",
       "if (outputEl) {{\n",
       "    x.observe(outputEl, {childList: true});\n",
       "}}\n",
       "\n",
       "                        })                };                });            </script>        </div>"
      ]
     },
     "metadata": {},
     "output_type": "display_data"
    }
   ],
   "source": [
    "px.scatter(data_frame=final_data, x='math', y='physics', marginal_x='histogram', marginal_y='histogram')"
   ]
  },
  {
   "cell_type": "markdown",
   "metadata": {},
   "source": [
    "#### 2. Expectation step i.e. soft cluster the data i.e. computing of membership of each data point into the both gaussian distributions using the below formula - "
   ]
  },
  {
   "cell_type": "markdown",
   "metadata": {},
   "source": [
    "$$\n",
    "E\\left[Z_{1 A}\\right]=\\frac{N\\left(X_{i} \\mid \\mu_{A}, \\sigma_{A}^{2}\\right)}{N\\left(X_{i} \\mid \\mu_{A}, \\sigma_{A}^{2}\\right)+N\\left(X_{i} \\mid \\mu_{B}, \\sigma_{B}^{2}\\right)}\n",
    "$$"
   ]
  },
  {
   "cell_type": "markdown",
   "metadata": {},
   "source": [
    "Probability density function of a normal distrubution is given by -"
   ]
  },
  {
   "cell_type": "markdown",
   "metadata": {},
   "source": [
    "$$\n",
    "N\\left(X \\mid \\mu, \\sigma^{2}\\right)=\\frac{1}{\\left(2 \\pi \\sigma^{2}\\right)^{2}} e^{-\\frac{1}{2 \\sigma^{2}}(x-\\mu)^{2}}\n",
    "$$"
   ]
  },
  {
   "cell_type": "markdown",
   "metadata": {},
   "source": [
    "#### 3. Maximization step i.e. reestimate the gaussian parameters"
   ]
  },
  {
   "cell_type": "markdown",
   "metadata": {},
   "source": [
    "old gaussian parameters"
   ]
  },
  {
   "cell_type": "markdown",
   "metadata": {},
   "source": [
    "| cluster_label | mean | variance |\n",
    "| --- | --- | --- |\n",
    "| a | 60, 75 | 100 |\n",
    "| b | 75, 65 | 25 |"
   ]
  },
  {
   "cell_type": "markdown",
   "metadata": {},
   "source": [
    "new gaussian parameters"
   ]
  },
  {
   "cell_type": "markdown",
   "metadata": {},
   "source": [
    "$$\n",
    "\\text { new } \\mu_{A}=\\frac{\\sum_{i=1}^{N} E\\left[Z_{i j}\\right] X_{i}}{\\sum_{i \\rightarrow 1}^{N} E\\left[Z_{i j}\\right]}\n",
    "$$"
   ]
  },
  {
   "cell_type": "markdown",
   "metadata": {},
   "source": [
    "$$\n",
    "\\text { new } \\sigma_{A}^{2}=\\frac{\\sum_{i=1}^{N} E\\left[Z_{i A}\\right]\\left(X_{i}-\\mu_{A}^{\\text {new }}\\right)\\left(X_{i}-\\mu_{A}^{\\text {nec }}\\right)^{T}}{\\sum_{i=1}^{N} E\\left[Z_{i A}\\right]}\n",
    "$$"
   ]
  },
  {
   "cell_type": "markdown",
   "metadata": {},
   "source": [
    "| cluster_label | new mean | variance |\n",
    "| --- | --- | --- |\n",
    "| a | 59, 78 | 49 |\n",
    "| b | 70, 65 | 25 |"
   ]
  },
  {
   "cell_type": "markdown",
   "metadata": {},
   "source": [
    "#### 4. Evaluating log-likelihood"
   ]
  },
  {
   "cell_type": "markdown",
   "metadata": {},
   "source": [
    "$$\n",
    "\\ln p\\left(X \\mid \\mu, \\sigma^{2}\\right)=\\sum_{i=1}^{N} \\ln \\left(\\sum_{k=1}^{K} \\pi_{k} N\\left(X_{i} \\mid \\mu_{k}, \\sigma_{k}^{2}\\right)\\right)\n",
    "$$"
   ]
  },
  {
   "cell_type": "markdown",
   "metadata": {},
   "source": [
    "### GMM using sklearn"
   ]
  },
  {
   "cell_type": "code",
   "execution_count": 19,
   "metadata": {},
   "outputs": [
    {
     "data": {
      "text/plain": [
       "array([[71.25173675, 64.14298362],\n",
       "       [58.87643458, 77.15857282]])"
      ]
     },
     "execution_count": 19,
     "metadata": {},
     "output_type": "execute_result"
    }
   ],
   "source": [
    "from sklearn.mixture import GaussianMixture\n",
    "X = final_data[['math', 'physics']]\n",
    "gm = GaussianMixture(n_components=2, random_state=0).fit(X)\n",
    "gm.means_"
   ]
  },
  {
   "cell_type": "code",
   "execution_count": 20,
   "metadata": {},
   "outputs": [
    {
     "data": {
      "text/plain": [
       "array([[8.94595428e-04, 9.99105405e-01]])"
      ]
     },
     "execution_count": 20,
     "metadata": {},
     "output_type": "execute_result"
    }
   ],
   "source": [
    "gm.predict_proba([[60, 80]])"
   ]
  }
 ],
 "metadata": {
  "kernelspec": {
   "display_name": "Python 3",
   "language": "python",
   "name": "python3"
  },
  "language_info": {
   "codemirror_mode": {
    "name": "ipython",
    "version": 3
   },
   "file_extension": ".py",
   "mimetype": "text/x-python",
   "name": "python",
   "nbconvert_exporter": "python",
   "pygments_lexer": "ipython3",
   "version": "3.8.8"
  }
 },
 "nbformat": 4,
 "nbformat_minor": 4
}

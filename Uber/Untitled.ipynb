{
 "cells": [
  {
   "cell_type": "code",
   "execution_count": 1,
   "id": "dbc534c9",
   "metadata": {},
   "outputs": [],
   "source": [
    "import warnings\n",
    "warnings.filterwarnings('ignore')"
   ]
  },
  {
   "cell_type": "code",
   "execution_count": 2,
   "id": "2e15f52c",
   "metadata": {},
   "outputs": [],
   "source": []
  },
  {
   "cell_type": "code",
   "execution_count": 3,
   "id": "e977e93a",
   "metadata": {},
   "outputs": [],
   "source": []
  },
  {
   "cell_type": "code",
   "execution_count": 4,
   "id": "bf7a2c98",
   "metadata": {},
   "outputs": [],
   "source": [
    "df= data.copy()"
   ]
  },
  {
   "cell_type": "code",
   "execution_count": 5,
   "id": "99d0e6d3",
   "metadata": {},
   "outputs": [
    {
     "data": {
      "text/html": [
       "<div>\n",
       "<style scoped>\n",
       "    .dataframe tbody tr th:only-of-type {\n",
       "        vertical-align: middle;\n",
       "    }\n",
       "\n",
       "    .dataframe tbody tr th {\n",
       "        vertical-align: top;\n",
       "    }\n",
       "\n",
       "    .dataframe thead th {\n",
       "        text-align: right;\n",
       "    }\n",
       "</style>\n",
       "<table border=\"1\" class=\"dataframe\">\n",
       "  <thead>\n",
       "    <tr style=\"text-align: right;\">\n",
       "      <th></th>\n",
       "      <th>pickup_dt</th>\n",
       "      <th>borough</th>\n",
       "      <th>pickups</th>\n",
       "      <th>spd</th>\n",
       "      <th>vsb</th>\n",
       "      <th>temp</th>\n",
       "      <th>dewp</th>\n",
       "      <th>slp</th>\n",
       "      <th>pcp01</th>\n",
       "      <th>pcp06</th>\n",
       "      <th>pcp24</th>\n",
       "      <th>sd</th>\n",
       "      <th>hday</th>\n",
       "    </tr>\n",
       "  </thead>\n",
       "  <tbody>\n",
       "    <tr>\n",
       "      <th>0</th>\n",
       "      <td>2015-01-01 01:00:00</td>\n",
       "      <td>Bronx</td>\n",
       "      <td>152</td>\n",
       "      <td>5.0</td>\n",
       "      <td>10.0</td>\n",
       "      <td>30.0</td>\n",
       "      <td>7.0</td>\n",
       "      <td>1023.5</td>\n",
       "      <td>0.0</td>\n",
       "      <td>0.0</td>\n",
       "      <td>0.0</td>\n",
       "      <td>0.0</td>\n",
       "      <td>Y</td>\n",
       "    </tr>\n",
       "    <tr>\n",
       "      <th>1</th>\n",
       "      <td>2015-01-01 01:00:00</td>\n",
       "      <td>Brooklyn</td>\n",
       "      <td>1519</td>\n",
       "      <td>5.0</td>\n",
       "      <td>10.0</td>\n",
       "      <td>30.0</td>\n",
       "      <td>7.0</td>\n",
       "      <td>1023.5</td>\n",
       "      <td>0.0</td>\n",
       "      <td>0.0</td>\n",
       "      <td>0.0</td>\n",
       "      <td>0.0</td>\n",
       "      <td>Y</td>\n",
       "    </tr>\n",
       "    <tr>\n",
       "      <th>2</th>\n",
       "      <td>2015-01-01 01:00:00</td>\n",
       "      <td>EWR</td>\n",
       "      <td>0</td>\n",
       "      <td>5.0</td>\n",
       "      <td>10.0</td>\n",
       "      <td>30.0</td>\n",
       "      <td>7.0</td>\n",
       "      <td>1023.5</td>\n",
       "      <td>0.0</td>\n",
       "      <td>0.0</td>\n",
       "      <td>0.0</td>\n",
       "      <td>0.0</td>\n",
       "      <td>Y</td>\n",
       "    </tr>\n",
       "    <tr>\n",
       "      <th>3</th>\n",
       "      <td>2015-01-01 01:00:00</td>\n",
       "      <td>Manhattan</td>\n",
       "      <td>5258</td>\n",
       "      <td>5.0</td>\n",
       "      <td>10.0</td>\n",
       "      <td>30.0</td>\n",
       "      <td>7.0</td>\n",
       "      <td>1023.5</td>\n",
       "      <td>0.0</td>\n",
       "      <td>0.0</td>\n",
       "      <td>0.0</td>\n",
       "      <td>0.0</td>\n",
       "      <td>Y</td>\n",
       "    </tr>\n",
       "    <tr>\n",
       "      <th>4</th>\n",
       "      <td>2015-01-01 01:00:00</td>\n",
       "      <td>Queens</td>\n",
       "      <td>405</td>\n",
       "      <td>5.0</td>\n",
       "      <td>10.0</td>\n",
       "      <td>30.0</td>\n",
       "      <td>7.0</td>\n",
       "      <td>1023.5</td>\n",
       "      <td>0.0</td>\n",
       "      <td>0.0</td>\n",
       "      <td>0.0</td>\n",
       "      <td>0.0</td>\n",
       "      <td>Y</td>\n",
       "    </tr>\n",
       "  </tbody>\n",
       "</table>\n",
       "</div>"
      ],
      "text/plain": [
       "             pickup_dt    borough  pickups  spd   vsb  temp  dewp     slp  \\\n",
       "0  2015-01-01 01:00:00      Bronx      152  5.0  10.0  30.0   7.0  1023.5   \n",
       "1  2015-01-01 01:00:00   Brooklyn     1519  5.0  10.0  30.0   7.0  1023.5   \n",
       "2  2015-01-01 01:00:00        EWR        0  5.0  10.0  30.0   7.0  1023.5   \n",
       "3  2015-01-01 01:00:00  Manhattan     5258  5.0  10.0  30.0   7.0  1023.5   \n",
       "4  2015-01-01 01:00:00     Queens      405  5.0  10.0  30.0   7.0  1023.5   \n",
       "\n",
       "   pcp01  pcp06  pcp24   sd hday  \n",
       "0    0.0    0.0    0.0  0.0    Y  \n",
       "1    0.0    0.0    0.0  0.0    Y  \n",
       "2    0.0    0.0    0.0  0.0    Y  \n",
       "3    0.0    0.0    0.0  0.0    Y  \n",
       "4    0.0    0.0    0.0  0.0    Y  "
      ]
     },
     "execution_count": 5,
     "metadata": {},
     "output_type": "execute_result"
    }
   ],
   "source": [
    "df.head(5)"
   ]
  },
  {
   "cell_type": "code",
   "execution_count": 6,
   "id": "4742ed2d",
   "metadata": {},
   "outputs": [
    {
     "data": {
      "text/plain": [
       "(29101, 13)"
      ]
     },
     "execution_count": 6,
     "metadata": {},
     "output_type": "execute_result"
    }
   ],
   "source": [
    "df.shape"
   ]
  },
  {
   "cell_type": "code",
   "execution_count": 7,
   "id": "57ff64bd",
   "metadata": {},
   "outputs": [
    {
     "name": "stdout",
     "output_type": "stream",
     "text": [
      "<class 'pandas.core.frame.DataFrame'>\n",
      "RangeIndex: 29101 entries, 0 to 29100\n",
      "Data columns (total 13 columns):\n",
      " #   Column     Non-Null Count  Dtype  \n",
      "---  ------     --------------  -----  \n",
      " 0   pickup_dt  29101 non-null  object \n",
      " 1   borough    26058 non-null  object \n",
      " 2   pickups    29101 non-null  int64  \n",
      " 3   spd        29101 non-null  float64\n",
      " 4   vsb        29101 non-null  float64\n",
      " 5   temp       29101 non-null  float64\n",
      " 6   dewp       29101 non-null  float64\n",
      " 7   slp        29101 non-null  float64\n",
      " 8   pcp01      29101 non-null  float64\n",
      " 9   pcp06      29101 non-null  float64\n",
      " 10  pcp24      29101 non-null  float64\n",
      " 11  sd         29101 non-null  float64\n",
      " 12  hday       29101 non-null  object \n",
      "dtypes: float64(9), int64(1), object(3)\n",
      "memory usage: 2.9+ MB\n"
     ]
    }
   ],
   "source": [
    "df.info()"
   ]
  },
  {
   "cell_type": "code",
   "execution_count": 10,
   "id": "8be2bfa3",
   "metadata": {},
   "outputs": [
    {
     "data": {
      "text/plain": [
       "6.711409395973154"
      ]
     },
     "execution_count": 10,
     "metadata": {},
     "output_type": "execute_result"
    }
   ],
   "source": [
    "21/312900*100000\n"
   ]
  },
  {
   "cell_type": "code",
   "execution_count": 12,
   "id": "440a9be2",
   "metadata": {},
   "outputs": [
    {
     "data": {
      "text/html": [
       "<div>\n",
       "<style scoped>\n",
       "    .dataframe tbody tr th:only-of-type {\n",
       "        vertical-align: middle;\n",
       "    }\n",
       "\n",
       "    .dataframe tbody tr th {\n",
       "        vertical-align: top;\n",
       "    }\n",
       "\n",
       "    .dataframe thead th {\n",
       "        text-align: right;\n",
       "    }\n",
       "</style>\n",
       "<table border=\"1\" class=\"dataframe\">\n",
       "  <thead>\n",
       "    <tr style=\"text-align: right;\">\n",
       "      <th></th>\n",
       "      <th>count</th>\n",
       "      <th>mean</th>\n",
       "      <th>std</th>\n",
       "      <th>min</th>\n",
       "      <th>25%</th>\n",
       "      <th>50%</th>\n",
       "      <th>75%</th>\n",
       "      <th>max</th>\n",
       "    </tr>\n",
       "  </thead>\n",
       "  <tbody>\n",
       "    <tr>\n",
       "      <th>pickups</th>\n",
       "      <td>29101.0</td>\n",
       "      <td>490.215903</td>\n",
       "      <td>995.649536</td>\n",
       "      <td>0.0</td>\n",
       "      <td>1.0</td>\n",
       "      <td>54.0</td>\n",
       "      <td>449.000000</td>\n",
       "      <td>7883.00</td>\n",
       "    </tr>\n",
       "    <tr>\n",
       "      <th>spd</th>\n",
       "      <td>29101.0</td>\n",
       "      <td>5.984924</td>\n",
       "      <td>3.699007</td>\n",
       "      <td>0.0</td>\n",
       "      <td>3.0</td>\n",
       "      <td>6.0</td>\n",
       "      <td>8.000000</td>\n",
       "      <td>21.00</td>\n",
       "    </tr>\n",
       "    <tr>\n",
       "      <th>vsb</th>\n",
       "      <td>29101.0</td>\n",
       "      <td>8.818125</td>\n",
       "      <td>2.442897</td>\n",
       "      <td>0.0</td>\n",
       "      <td>9.1</td>\n",
       "      <td>10.0</td>\n",
       "      <td>10.000000</td>\n",
       "      <td>10.00</td>\n",
       "    </tr>\n",
       "    <tr>\n",
       "      <th>temp</th>\n",
       "      <td>29101.0</td>\n",
       "      <td>47.669042</td>\n",
       "      <td>19.814969</td>\n",
       "      <td>2.0</td>\n",
       "      <td>32.0</td>\n",
       "      <td>46.0</td>\n",
       "      <td>64.500000</td>\n",
       "      <td>89.00</td>\n",
       "    </tr>\n",
       "    <tr>\n",
       "      <th>dewp</th>\n",
       "      <td>29101.0</td>\n",
       "      <td>30.823065</td>\n",
       "      <td>21.283444</td>\n",
       "      <td>-16.0</td>\n",
       "      <td>14.0</td>\n",
       "      <td>30.0</td>\n",
       "      <td>50.000000</td>\n",
       "      <td>73.00</td>\n",
       "    </tr>\n",
       "    <tr>\n",
       "      <th>slp</th>\n",
       "      <td>29101.0</td>\n",
       "      <td>1017.817938</td>\n",
       "      <td>7.768796</td>\n",
       "      <td>991.4</td>\n",
       "      <td>1012.5</td>\n",
       "      <td>1018.2</td>\n",
       "      <td>1022.900000</td>\n",
       "      <td>1043.40</td>\n",
       "    </tr>\n",
       "    <tr>\n",
       "      <th>pcp01</th>\n",
       "      <td>29101.0</td>\n",
       "      <td>0.003830</td>\n",
       "      <td>0.018933</td>\n",
       "      <td>0.0</td>\n",
       "      <td>0.0</td>\n",
       "      <td>0.0</td>\n",
       "      <td>0.000000</td>\n",
       "      <td>0.28</td>\n",
       "    </tr>\n",
       "    <tr>\n",
       "      <th>pcp06</th>\n",
       "      <td>29101.0</td>\n",
       "      <td>0.026129</td>\n",
       "      <td>0.093125</td>\n",
       "      <td>0.0</td>\n",
       "      <td>0.0</td>\n",
       "      <td>0.0</td>\n",
       "      <td>0.000000</td>\n",
       "      <td>1.24</td>\n",
       "    </tr>\n",
       "    <tr>\n",
       "      <th>pcp24</th>\n",
       "      <td>29101.0</td>\n",
       "      <td>0.090464</td>\n",
       "      <td>0.219402</td>\n",
       "      <td>0.0</td>\n",
       "      <td>0.0</td>\n",
       "      <td>0.0</td>\n",
       "      <td>0.050000</td>\n",
       "      <td>2.10</td>\n",
       "    </tr>\n",
       "    <tr>\n",
       "      <th>sd</th>\n",
       "      <td>29101.0</td>\n",
       "      <td>2.529169</td>\n",
       "      <td>4.520325</td>\n",
       "      <td>0.0</td>\n",
       "      <td>0.0</td>\n",
       "      <td>0.0</td>\n",
       "      <td>2.958333</td>\n",
       "      <td>19.00</td>\n",
       "    </tr>\n",
       "  </tbody>\n",
       "</table>\n",
       "</div>"
      ],
      "text/plain": [
       "           count         mean         std    min     25%     50%          75%  \\\n",
       "pickups  29101.0   490.215903  995.649536    0.0     1.0    54.0   449.000000   \n",
       "spd      29101.0     5.984924    3.699007    0.0     3.0     6.0     8.000000   \n",
       "vsb      29101.0     8.818125    2.442897    0.0     9.1    10.0    10.000000   \n",
       "temp     29101.0    47.669042   19.814969    2.0    32.0    46.0    64.500000   \n",
       "dewp     29101.0    30.823065   21.283444  -16.0    14.0    30.0    50.000000   \n",
       "slp      29101.0  1017.817938    7.768796  991.4  1012.5  1018.2  1022.900000   \n",
       "pcp01    29101.0     0.003830    0.018933    0.0     0.0     0.0     0.000000   \n",
       "pcp06    29101.0     0.026129    0.093125    0.0     0.0     0.0     0.000000   \n",
       "pcp24    29101.0     0.090464    0.219402    0.0     0.0     0.0     0.050000   \n",
       "sd       29101.0     2.529169    4.520325    0.0     0.0     0.0     2.958333   \n",
       "\n",
       "             max  \n",
       "pickups  7883.00  \n",
       "spd        21.00  \n",
       "vsb        10.00  \n",
       "temp       89.00  \n",
       "dewp       73.00  \n",
       "slp      1043.40  \n",
       "pcp01       0.28  \n",
       "pcp06       1.24  \n",
       "pcp24       2.10  \n",
       "sd         19.00  "
      ]
     },
     "execution_count": 12,
     "metadata": {},
     "output_type": "execute_result"
    }
   ],
   "source": [
    "df.describe().T"
   ]
  },
  {
   "cell_type": "code",
   "execution_count": 13,
   "id": "e9a8ef86",
   "metadata": {},
   "outputs": [
    {
     "data": {
      "text/html": [
       "<div>\n",
       "<style scoped>\n",
       "    .dataframe tbody tr th:only-of-type {\n",
       "        vertical-align: middle;\n",
       "    }\n",
       "\n",
       "    .dataframe tbody tr th {\n",
       "        vertical-align: top;\n",
       "    }\n",
       "\n",
       "    .dataframe thead th {\n",
       "        text-align: right;\n",
       "    }\n",
       "</style>\n",
       "<table border=\"1\" class=\"dataframe\">\n",
       "  <thead>\n",
       "    <tr style=\"text-align: right;\">\n",
       "      <th></th>\n",
       "      <th>count</th>\n",
       "      <th>unique</th>\n",
       "      <th>top</th>\n",
       "      <th>freq</th>\n",
       "    </tr>\n",
       "  </thead>\n",
       "  <tbody>\n",
       "    <tr>\n",
       "      <th>pickup_dt</th>\n",
       "      <td>29101</td>\n",
       "      <td>4343</td>\n",
       "      <td>2015-01-09 11:00:00</td>\n",
       "      <td>7</td>\n",
       "    </tr>\n",
       "    <tr>\n",
       "      <th>borough</th>\n",
       "      <td>26058</td>\n",
       "      <td>6</td>\n",
       "      <td>Staten Island</td>\n",
       "      <td>4343</td>\n",
       "    </tr>\n",
       "    <tr>\n",
       "      <th>hday</th>\n",
       "      <td>29101</td>\n",
       "      <td>2</td>\n",
       "      <td>N</td>\n",
       "      <td>27980</td>\n",
       "    </tr>\n",
       "  </tbody>\n",
       "</table>\n",
       "</div>"
      ],
      "text/plain": [
       "           count unique                  top   freq\n",
       "pickup_dt  29101   4343  2015-01-09 11:00:00      7\n",
       "borough    26058      6        Staten Island   4343\n",
       "hday       29101      2                    N  27980"
      ]
     },
     "execution_count": 13,
     "metadata": {},
     "output_type": "execute_result"
    }
   ],
   "source": [
    "df.describe(exclude='number').T"
   ]
  },
  {
   "cell_type": "code",
   "execution_count": 15,
   "id": "5a4b5f02",
   "metadata": {},
   "outputs": [],
   "source": [
    "df['pickup_dt']=pd.to_datetime(df.pickup_dt)\n",
    "\n"
   ]
  },
  {
   "cell_type": "code",
   "execution_count": 18,
   "id": "87683a05",
   "metadata": {},
   "outputs": [],
   "source": [
    "df['start_year'] = df.pickup_dt.dt.year\n",
    "df['start_month'] = df.pickup_dt.dt.month_name()\n",
    "df['start_hour'] = df.pickup_dt.dt.hour\n",
    "df['start_day'] = df.pickup_dt.dt.day\n",
    "df['week_day'] = df.pickup_dt.dt.day_name()"
   ]
  },
  {
   "cell_type": "code",
   "execution_count": 26,
   "id": "ef1dc364",
   "metadata": {},
   "outputs": [
    {
     "data": {
      "text/plain": [
       "pickup_dt         0\n",
       "borough        3043\n",
       "pickups           0\n",
       "spd               0\n",
       "vsb               0\n",
       "temp              0\n",
       "dewp              0\n",
       "slp               0\n",
       "pcp01             0\n",
       "pcp06             0\n",
       "pcp24             0\n",
       "sd                0\n",
       "hday              0\n",
       "pickup_dt1        0\n",
       "start_year        0\n",
       "start_month       0\n",
       "start_hour        0\n",
       "start_day         0\n",
       "week_day          0\n",
       "dtype: int64"
      ]
     },
     "execution_count": 26,
     "metadata": {},
     "output_type": "execute_result"
    }
   ],
   "source": [
    "df.isna().sum()"
   ]
  },
  {
   "cell_type": "code",
   "execution_count": 27,
   "id": "3034156b",
   "metadata": {},
   "outputs": [],
   "source": [
    "# Replacing NaN with Unknown\n",
    "df['borough'].fillna('Unknown', inplace =True) "
   ]
  },
  {
   "cell_type": "code",
   "execution_count": 30,
   "id": "f2ae3222",
   "metadata": {},
   "outputs": [],
   "source": [
    "def histogram_boxplot(feature , figsize=(15,10) , bins=None):\n",
    "    f2,(ax_box2 , ax_hist2) = plt.subplots(nrows=2,\n",
    "                                          sharex=True,\n",
    "                                          gridspec_kw={\"height_ratios\":(.25,.75)},\n",
    "                                          figsize=figsize)\n",
    "    sns.boxplot(feature,ax=ax_box2, showmeans=True,color='red')\n",
    "    sns.distplot(feature , kde=F,ax = ax_hist2 , bins = bins) if bins else sns.distplot(feature,kde=False,ax=ax_hist2)\n",
    "    ax_hist2.axvline(np.mean(feature),color='g',linestyle = '--')\n",
    "    ax_hist2.axvline(np.median(feature),color='black',linestyle = '-')"
   ]
  },
  {
   "cell_type": "code",
   "execution_count": 31,
   "id": "0fae138e",
   "metadata": {},
   "outputs": [
    {
     "data": {
      "image/png": "[encoded data removed]",
      "text/plain": [
       "<Figure size 1080x720 with 2 Axes>"
      ]
     },
     "metadata": {
      "needs_background": "light"
     },
     "output_type": "display_data"
    }
   ],
   "source": [
    "histogram_boxplot(df.pickups)"
   ]
  },
  {
   "cell_type": "code",
   "execution_count": 38,
   "id": "b82e9a44",
   "metadata": {},
   "outputs": [],
   "source": [
    "def bar_perc(data,z):\n",
    "    total = len(data[z])\n",
    "    plt.figure(figsize=(15,5))\n",
    "    ax=sns.countplot(data[z],palette='Paired')\n",
    "    for p in ax.patches:\n",
    "        percentage = '{:.1f}%'.format(100 *p.get_height()/total)\n",
    "        x = p.get_x() + p.get_width() / 2 - 0.05\n",
    "        y=p.get_y() + p.get_height()\n",
    "        \n",
    "        ax.annotate(percentage , (x,y),size=12)\n",
    "    plt.show()\n",
    "    "
   ]
  },
  {
   "cell_type": "code",
   "execution_count": 39,
   "id": "43cc30d6",
   "metadata": {},
   "outputs": [
    {
     "data": {
      "image/png": "[encoded data removed]",
      "text/plain": [
       "<Figure size 1080x360 with 1 Axes>"
      ]
     },
     "metadata": {
      "needs_background": "light"
     },
     "output_type": "display_data"
    }
   ],
   "source": [
    "bar_perc(df, 'hday')"
   ]
  }
 ],
 "metadata": {
  "kernelspec": {
   "display_name": "Python 3",
   "language": "python",
   "name": "python3"
  },
  "language_info": {
   "codemirror_mode": {
    "name": "ipython",
    "version": 3
   },
   "file_extension": ".py",
   "mimetype": "text/x-python",
   "name": "python",
   "nbconvert_exporter": "python",
   "pygments_lexer": "ipython3",
   "version": "3.8.8"
  }
 },
 "nbformat": 4,
 "nbformat_minor": 5
}

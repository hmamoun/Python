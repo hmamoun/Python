{
 "cells": [
  {
   "cell_type": "markdown",
   "metadata": {
    "id": "VZKP0katDPx6"
   },
   "source": [
    "# Project: Classification - Loan Eligibility Prediction\n",
    "\n",
    "## Marks: 30\n",
    "\n",
    "Welcome to the project on classification. We will use the credit risk dataset for this problem.\n",
    "\n",
    "----------------\n",
    "## Context: \n",
    "----------------\n",
    "\n",
    "Credit risk is the risk of loss resulting from the failure by a borrower to repay the principal and interest owed to the lender. The lender uses the interest payments from the loan to compensate for the risk of potential losses. When the borrower defaults on his/her obligations, it causes an interruption in the cash flow of the lender.\n",
    "\n",
    "In the banking sector, this is an important factor to be considered before approving the loan of an applicant in order to cushion the lender from loss of cash flow and reduce the severity of losses. \n",
    "\n",
    "------------------\n",
    "## Objective:\n",
    "------------------\n",
    "\n",
    "Easy House is a finance company that deals in several varieties of home loans. They have a presence across urban, semi-urban, and rural areas. Currently, the customer first applies for a home loan post which the company validates the customer's eligibility for that loan. \n",
    "\n",
    "Now, the company wants to automate the loan eligibility process. They want to harness their past customers' data to build a model to predict whether the loan should be approved or not. This would help the company prevent potential losses, save time and focus more on eligible customers.\n",
    "\n",
    "--------------------------\n",
    "## Data Dictionary:\n",
    "--------------------------\n",
    "\n",
    "The data contains the following attributes:\n",
    "\n",
    "* **Loan_ID**: Unique Loan ID\n",
    "* **Gender**: Gender of the applicant - Male/Female\n",
    "* **Married**: Whether the applicant is married or not (Yes/No)\n",
    "* **Dependents**: Number of dependents of the applicant\n",
    "* **Education**: Applicant's education (Graduate/Not Graduate)\n",
    "* **Self_Employed**: Whether the applicant is self-employed (Yes/No)\n",
    "* **ApplicantIncome**: The income of the applicant (\\$)\n",
    "* **CoapplicantIncome**: The co-applicant's income in case of a joint loan and 0 otherwise (\\$)\n",
    "* **LoanAmount**: Loan amount (dollars in thousands) \n",
    "* **Loan_Amount_Term**: Term of loan in months\n",
    "* **Credit_History**: Whether the applicant's credit history meets required guidelines\n",
    "* **Property_Area**: The area the property pertaining to the loan belongs to - Urban/Semi-Urban/Rural\n",
    "* **Loan_Status**: Loan approved (1 - Yes, 0 - No)"
   ]
  },
  {
   "cell_type": "markdown",
   "metadata": {
    "id": "GLmC-0-fDPyI"
   },
   "source": [
    "## Importing necessary libraries and overview of the dataset"
   ]
  },
  {
   "cell_type": "code",
   "execution_count": null,
   "metadata": {
    "id": "zeF8YaNKDPyK"
   },
   "outputs": [],
   "source": [
    "import pandas as pd\n",
    "import numpy as np\n",
    "import matplotlib.pyplot as plt\n",
    "import seaborn as sns\n",
    "\n",
    "#To scale the data using z-score \n",
    "from sklearn.preprocessing import StandardScaler\n",
    "from sklearn.model_selection import train_test_split\n",
    "\n",
    "#Algorithms to use\n",
    "from sklearn.linear_model import LogisticRegression\n",
    "from sklearn.neighbors import KNeighborsClassifier\n",
    "\n",
    "#Metrics to evaluate the model\n",
    "from sklearn.metrics import confusion_matrix, classification_report, precision_recall_curve\n",
    "\n",
    "import warnings\n",
    "warnings.filterwarnings(\"ignore\")"
   ]
  },
  {
   "cell_type": "markdown",
   "metadata": {
    "id": "Xtgae1VCDPyO"
   },
   "source": [
    "#### Loading data"
   ]
  },
  {
   "cell_type": "code",
   "execution_count": null,
   "metadata": {
    "id": "4VRuDPneDPyQ",
    "outputId": "1890a81a-61ce-449c-eb76-4096cb81569d"
   },
   "outputs": [
    {
     "data": {
      "text/html": [
       "<div>\n",
       "<style scoped>\n",
       "    .dataframe tbody tr th:only-of-type {\n",
       "        vertical-align: middle;\n",
       "    }\n",
       "\n",
       "    .dataframe tbody tr th {\n",
       "        vertical-align: top;\n",
       "    }\n",
       "\n",
       "    .dataframe thead th {\n",
       "        text-align: right;\n",
       "    }\n",
       "</style>\n",
       "<table border=\"1\" class=\"dataframe\">\n",
       "  <thead>\n",
       "    <tr style=\"text-align: right;\">\n",
       "      <th></th>\n",
       "      <th>Loan_ID</th>\n",
       "      <th>Gender</th>\n",
       "      <th>Married</th>\n",
       "      <th>Dependents</th>\n",
       "      <th>Education</th>\n",
       "      <th>Self_Employed</th>\n",
       "      <th>ApplicantIncome</th>\n",
       "      <th>CoapplicantIncome</th>\n",
       "      <th>LoanAmount</th>\n",
       "      <th>Loan_Amount_Term</th>\n",
       "      <th>Credit_History</th>\n",
       "      <th>Property_Area</th>\n",
       "      <th>Loan_Status</th>\n",
       "    </tr>\n",
       "  </thead>\n",
       "  <tbody>\n",
       "    <tr>\n",
       "      <th>0</th>\n",
       "      <td>LP001002</td>\n",
       "      <td>Male</td>\n",
       "      <td>No</td>\n",
       "      <td>0</td>\n",
       "      <td>Graduate</td>\n",
       "      <td>No</td>\n",
       "      <td>5849</td>\n",
       "      <td>0.0</td>\n",
       "      <td>0</td>\n",
       "      <td>360.0</td>\n",
       "      <td>1.0</td>\n",
       "      <td>Urban</td>\n",
       "      <td>1</td>\n",
       "    </tr>\n",
       "    <tr>\n",
       "      <th>1</th>\n",
       "      <td>LP001003</td>\n",
       "      <td>Male</td>\n",
       "      <td>Yes</td>\n",
       "      <td>1</td>\n",
       "      <td>Graduate</td>\n",
       "      <td>No</td>\n",
       "      <td>4583</td>\n",
       "      <td>1508.0</td>\n",
       "      <td>128</td>\n",
       "      <td>360.0</td>\n",
       "      <td>1.0</td>\n",
       "      <td>Rural</td>\n",
       "      <td>0</td>\n",
       "    </tr>\n",
       "    <tr>\n",
       "      <th>2</th>\n",
       "      <td>LP001005</td>\n",
       "      <td>Male</td>\n",
       "      <td>Yes</td>\n",
       "      <td>0</td>\n",
       "      <td>Graduate</td>\n",
       "      <td>Yes</td>\n",
       "      <td>3000</td>\n",
       "      <td>0.0</td>\n",
       "      <td>66</td>\n",
       "      <td>360.0</td>\n",
       "      <td>1.0</td>\n",
       "      <td>Urban</td>\n",
       "      <td>1</td>\n",
       "    </tr>\n",
       "    <tr>\n",
       "      <th>3</th>\n",
       "      <td>LP001006</td>\n",
       "      <td>Male</td>\n",
       "      <td>Yes</td>\n",
       "      <td>0</td>\n",
       "      <td>Not Graduate</td>\n",
       "      <td>No</td>\n",
       "      <td>2583</td>\n",
       "      <td>2358.0</td>\n",
       "      <td>120</td>\n",
       "      <td>360.0</td>\n",
       "      <td>1.0</td>\n",
       "      <td>Urban</td>\n",
       "      <td>1</td>\n",
       "    </tr>\n",
       "    <tr>\n",
       "      <th>4</th>\n",
       "      <td>LP001008</td>\n",
       "      <td>Male</td>\n",
       "      <td>No</td>\n",
       "      <td>0</td>\n",
       "      <td>Graduate</td>\n",
       "      <td>No</td>\n",
       "      <td>6000</td>\n",
       "      <td>0.0</td>\n",
       "      <td>141</td>\n",
       "      <td>360.0</td>\n",
       "      <td>1.0</td>\n",
       "      <td>Urban</td>\n",
       "      <td>1</td>\n",
       "    </tr>\n",
       "  </tbody>\n",
       "</table>\n",
       "</div>"
      ],
      "text/plain": [
       "    Loan_ID Gender Married Dependents     Education Self_Employed  \\\n",
       "0  LP001002   Male      No          0      Graduate            No   \n",
       "1  LP001003   Male     Yes          1      Graduate            No   \n",
       "2  LP001005   Male     Yes          0      Graduate           Yes   \n",
       "3  LP001006   Male     Yes          0  Not Graduate            No   \n",
       "4  LP001008   Male      No          0      Graduate            No   \n",
       "\n",
       "   ApplicantIncome  CoapplicantIncome  LoanAmount  Loan_Amount_Term  \\\n",
       "0             5849                0.0           0             360.0   \n",
       "1             4583             1508.0         128             360.0   \n",
       "2             3000                0.0          66             360.0   \n",
       "3             2583             2358.0         120             360.0   \n",
       "4             6000                0.0         141             360.0   \n",
       "\n",
       "   Credit_History Property_Area  Loan_Status  \n",
       "0             1.0         Urban            1  \n",
       "1             1.0         Rural            0  \n",
       "2             1.0         Urban            1  \n",
       "3             1.0         Urban            1  \n",
       "4             1.0         Urban            1  "
      ]
     },
     "execution_count": 2,
     "metadata": {
      "tags": []
     },
     "output_type": "execute_result"
    }
   ],
   "source": [
    "data = pd.read_csv(\"CreditRisk.csv\")\n",
    "data.head()"
   ]
  },
  {
   "cell_type": "markdown",
   "metadata": {
    "id": "7zmvKC9aDPya"
   },
   "source": [
    "#### Check the info of the data"
   ]
  },
  {
   "cell_type": "code",
   "execution_count": null,
   "metadata": {
    "id": "WFXzpvckDPyc",
    "outputId": "da1d04ad-dc46-418e-bfcd-ca600b2beb83"
   },
   "outputs": [
    {
     "name": "stdout",
     "output_type": "stream",
     "text": [
      "<class 'pandas.core.frame.DataFrame'>\n",
      "RangeIndex: 614 entries, 0 to 613\n",
      "Data columns (total 13 columns):\n",
      " #   Column             Non-Null Count  Dtype  \n",
      "---  ------             --------------  -----  \n",
      " 0   Loan_ID            614 non-null    object \n",
      " 1   Gender             601 non-null    object \n",
      " 2   Married            611 non-null    object \n",
      " 3   Dependents         599 non-null    object \n",
      " 4   Education          614 non-null    object \n",
      " 5   Self_Employed      582 non-null    object \n",
      " 6   ApplicantIncome    614 non-null    int64  \n",
      " 7   CoapplicantIncome  614 non-null    float64\n",
      " 8   LoanAmount         614 non-null    int64  \n",
      " 9   Loan_Amount_Term   600 non-null    float64\n",
      " 10  Credit_History     564 non-null    float64\n",
      " 11  Property_Area      614 non-null    object \n",
      " 12  Loan_Status        614 non-null    int64  \n",
      "dtypes: float64(3), int64(3), object(7)\n",
      "memory usage: 62.5+ KB\n"
     ]
    }
   ],
   "source": [
    "data.info()"
   ]
  },
  {
   "cell_type": "markdown",
   "metadata": {
    "id": "zVm4D1InDPye"
   },
   "source": [
    "**Observations:**\n",
    "\n",
    "- There are 614 observations and 13 columns in the data.\n",
    "- ApplicantIncome, CoapplicantIncome, Loan_Amount_Term, Credit_History, and Loan_Status are numeric data types. The rest of the variables are of the object data type.\n",
    "- There are several columns with less than 614 non-null entries i.e. these columns have missing values.\n",
    "- Loan_ID column is an identifier. Let's check if each entry of the column is unique."
   ]
  },
  {
   "cell_type": "code",
   "execution_count": null,
   "metadata": {
    "id": "LypUFA5xb0jR",
    "outputId": "e43d6225-5f92-41cd-8291-4a8add7d40f6"
   },
   "outputs": [
    {
     "data": {
      "text/plain": [
       "614"
      ]
     },
     "execution_count": 4,
     "metadata": {
      "tags": []
     },
     "output_type": "execute_result"
    }
   ],
   "source": [
    "data.Loan_ID.nunique()"
   ]
  },
  {
   "cell_type": "markdown",
   "metadata": {
    "id": "xD9aPH3ub0jS"
   },
   "source": [
    "**Observations:**\n",
    "- We can see that all the entries of this column are unique. Hence, this column would not add any value to our analysis. \n",
    "- Let's drop this column."
   ]
  },
  {
   "cell_type": "markdown",
   "metadata": {
    "id": "__7ciGcIDPyk"
   },
   "source": [
    "## Exploratory Data Analysis and Data Preprocessing"
   ]
  },
  {
   "cell_type": "markdown",
   "metadata": {
    "id": "lDXcPkLkDPym"
   },
   "source": [
    "#### Dropping Loan_ID column"
   ]
  },
  {
   "cell_type": "code",
   "execution_count": null,
   "metadata": {
    "id": "_ei57w6EDPym"
   },
   "outputs": [],
   "source": [
    "data.drop(columns=['Loan_ID'], inplace=True)"
   ]
  },
  {
   "cell_type": "markdown",
   "metadata": {
    "id": "wU2dvaXZDPyn"
   },
   "source": [
    "#### Summary Statistics for numerical columns"
   ]
  },
  {
   "cell_type": "markdown",
   "metadata": {
    "id": "oEyqzdJBb0jU"
   },
   "source": [
    "#### Question 1: Write the observations from the below summary statistics (2 Marks) "
   ]
  },
  {
   "cell_type": "code",
   "execution_count": null,
   "metadata": {
    "id": "hWxLHPlVDPyp"
   },
   "outputs": [],
   "source": [
    "#Creating a list of numerical columns\n",
    "num_cols = ['ApplicantIncome', 'CoapplicantIncome', 'LoanAmount', 'Loan_Amount_Term']\n",
    "\n",
    "\n",
    "# print summary statistics \n",
    "#Write your code here"
   ]
  },
  {
   "cell_type": "markdown",
   "metadata": {
    "id": "hy8l__giuqA_"
   },
   "source": [
    "**Observations:__________**"
   ]
  },
  {
   "cell_type": "markdown",
   "metadata": {
    "id": "aIVFJ11IDPyu"
   },
   "source": [
    "#### Feature Engineering"
   ]
  },
  {
   "cell_type": "code",
   "execution_count": null,
   "metadata": {
    "id": "iA9yPLMGDPyu"
   },
   "outputs": [],
   "source": [
    "#Converting the scale of loan term from months to years\n",
    "data['Loan_Amount_Term']=data['Loan_Amount_Term']/12"
   ]
  },
  {
   "cell_type": "code",
   "execution_count": null,
   "metadata": {
    "id": "7FQ6Oo6UDPyv"
   },
   "outputs": [],
   "source": [
    "#Adding the applicant and co-applicant income to get the total income per application\n",
    "data['total_income']=data['ApplicantIncome'] + data['CoapplicantIncome']"
   ]
  },
  {
   "cell_type": "code",
   "execution_count": null,
   "metadata": {
    "id": "-VIN5xybDPyw"
   },
   "outputs": [],
   "source": [
    "#Dropping the columns as we created a new column which captures the same information\n",
    "data.drop(columns=['ApplicantIncome', 'CoapplicantIncome'], inplace=True)"
   ]
  },
  {
   "cell_type": "markdown",
   "metadata": {
    "id": "BRkQPSCQDPyx"
   },
   "source": [
    "#### Check the distribution and outliers for each column in the data"
   ]
  },
  {
   "cell_type": "code",
   "execution_count": null,
   "metadata": {
    "id": "Ep2s-qpXDPyx",
    "outputId": "fbcf3ff8-2fe2-43da-beb1-83c5d05756cf"
   },
   "outputs": [
    {
     "name": "stdout",
     "output_type": "stream",
     "text": [
      "LoanAmount\n",
      "Skew : 2.36\n"
     ]
    },
    {
     "data": {
      "image/png": "[encoded data removed]",
      "text/plain": [
       "<Figure size 1080x288 with 2 Axes>"
      ]
     },
     "metadata": {
      "needs_background": "light",
      "tags": []
     },
     "output_type": "display_data"
    },
    {
     "name": "stdout",
     "output_type": "stream",
     "text": [
      "total_income\n",
      "Skew : 5.63\n"
     ]
    },
    {
     "data": {
      "image/png": "[encoded data removed]",
      "text/plain": [
       "<Figure size 1080x288 with 2 Axes>"
      ]
     },
     "metadata": {
      "needs_background": "light",
      "tags": []
     },
     "output_type": "display_data"
    }
   ],
   "source": [
    "for col in ['LoanAmount', 'total_income']:\n",
    "    print(col)\n",
    "    print('Skew :',round(data[col].skew(),2))\n",
    "    plt.figure(figsize=(15,4))\n",
    "    plt.subplot(1,2,1)\n",
    "    data[col].hist(bins=10, grid=False)\n",
    "    plt.ylabel('count')\n",
    "    plt.subplot(1,2,2)\n",
    "    sns.boxplot(x=data[col])\n",
    "    plt.show()"
   ]
  },
  {
   "cell_type": "markdown",
   "metadata": {
    "id": "bIaj6W_MDPyz"
   },
   "source": [
    "**Observations:**\n",
    "\n",
    "- Both the variables are highly skewed to the right and have many outliers which can be expected as the data contains different types of areas - Rural, Urban & Semi-Urban. \n",
    "- We can observe from the histogram that majority of values for total income are less than 10,000K dollars.\n",
    "\n",
    "Now, let's check the percentage of observations in each category for all the categorical variables."
   ]
  },
  {
   "cell_type": "markdown",
   "metadata": {
    "id": "-Rlb274WDPy0"
   },
   "source": [
    "#### Checking percentage of each category for categorical variables"
   ]
  },
  {
   "cell_type": "markdown",
   "metadata": {
    "id": "whkEMmQ0b0ja"
   },
   "source": [
    "#### Question 2: \n",
    "\n",
    "- **Write the code to check the percentage of each category for categorical columns (cat_col) (2 Marks)**\n",
    "- **Write your observations (2 Marks)**"
   ]
  },
  {
   "cell_type": "code",
   "execution_count": null,
   "metadata": {
    "id": "x0l5pOwZDPy1"
   },
   "outputs": [],
   "source": [
    "#Creating list of categorical columns\n",
    "cat_col= ['Gender', 'Married', 'Dependents', 'Education', 'Self_Employed', 'Credit_History','Property_Area', 'Loan_Status']\n",
    "\n",
    "for col in cat_col:\n",
    "    print(_____________________) #Write your code here\n",
    "    print('*'*40)                #Print the * 40 times to separate different variables"
   ]
  },
  {
   "cell_type": "markdown",
   "metadata": {
    "id": "fUwYF11gwy-5"
   },
   "source": [
    "**Observations:___________**"
   ]
  },
  {
   "cell_type": "markdown",
   "metadata": {
    "id": "ukUAlvRtDPy3"
   },
   "source": [
    "#### Imputing missing values"
   ]
  },
  {
   "cell_type": "code",
   "execution_count": null,
   "metadata": {
    "id": "G-QGGBGJDPy4"
   },
   "outputs": [],
   "source": [
    "#Imputing missing values with mode for the categorical variables \n",
    "for col in ['Gender', 'Married', 'Dependents', 'Self_Employed', 'Loan_Amount_Term', 'Credit_History']:\n",
    "    data[col].fillna(value=data[col].mode()[0], inplace=True)"
   ]
  },
  {
   "cell_type": "code",
   "execution_count": null,
   "metadata": {
    "id": "rS94M4lcDPy5"
   },
   "outputs": [],
   "source": [
    "#Replacing 0's with null values in loan amount \n",
    "data.LoanAmount.replace(0, np.nan, inplace=True)\n",
    "\n",
    "#Imputing null values in loan amount with the median\n",
    "data.LoanAmount.fillna(value=data.LoanAmount.median(), inplace=True)"
   ]
  },
  {
   "cell_type": "markdown",
   "metadata": {
    "id": "EhDZ1oRaDPy6"
   },
   "source": [
    "**We are done with the data preprocessing. Let's explore the data a bit more with bivariate analysis.**\n",
    "\n",
    "Let's check the relationship of loan amount with the total income."
   ]
  },
  {
   "cell_type": "code",
   "execution_count": null,
   "metadata": {
    "id": "Nt-knNhSDPy7",
    "outputId": "248c4da7-ca2b-48dd-e118-cc2036c10d02"
   },
   "outputs": [
    {
     "data": {
      "image/png": "[encoded data removed]",
      "text/plain": [
       "<Figure size 720x432 with 1 Axes>"
      ]
     },
     "metadata": {
      "needs_background": "light",
      "tags": []
     },
     "output_type": "display_data"
    }
   ],
   "source": [
    "plt.figure(figsize=(10,6))\n",
    "sns.regplot(x='LoanAmount', y='total_income', data=data)\n",
    "plt.show()"
   ]
  },
  {
   "cell_type": "markdown",
   "metadata": {
    "id": "T2Snl5awDPy8"
   },
   "source": [
    "**Observations:**\n",
    "- The plot shows that the loan amount is positively correlated with total income. This implies that the loan amount for higher-income applicants is progressively higher.\n",
    "- There are some outliers visible, showing applicants with low income having been given loans of a higher amount."
   ]
  },
  {
   "cell_type": "markdown",
   "metadata": {
    "id": "PVbble7sb0jp"
   },
   "source": [
    "Let's check the relationship of total income with loan status"
   ]
  },
  {
   "cell_type": "code",
   "execution_count": null,
   "metadata": {
    "id": "_zfwsl2MDPy8",
    "outputId": "0abc61e1-89ec-4cbc-c97c-74aeb1f4a813"
   },
   "outputs": [
    {
     "data": {
      "text/plain": [
       "<matplotlib.axes._subplots.AxesSubplot at 0x222d01b46d0>"
      ]
     },
     "execution_count": 15,
     "metadata": {
      "tags": []
     },
     "output_type": "execute_result"
    },
    {
     "data": {
      "image/png": "[encoded data removed]",
      "text/plain": [
       "<Figure size 432x288 with 1 Axes>"
      ]
     },
     "metadata": {
      "needs_background": "light",
      "tags": []
     },
     "output_type": "display_data"
    }
   ],
   "source": [
    "sns.boxplot(x=data.Loan_Status, y=data.total_income)"
   ]
  },
  {
   "cell_type": "markdown",
   "metadata": {
    "id": "4cY1RUPpDPy-"
   },
   "source": [
    "**Observations:**\n",
    "- Except for some outliers, there is no major difference between the income of those customers who are eligible versus those who are not. \n",
    "- This implies that income alone might not be a good indicator of a customer's loan eligibility."
   ]
  },
  {
   "cell_type": "markdown",
   "metadata": {
    "id": "1jI1J2bkb0jq"
   },
   "source": [
    "Let's check how credit history is related to loan status"
   ]
  },
  {
   "cell_type": "code",
   "execution_count": null,
   "metadata": {
    "id": "-rQnVxvdDPy_",
    "outputId": "9493c640-57f9-4589-80be-9e206b0227a6"
   },
   "outputs": [
    {
     "data": {
      "text/plain": [
       "<matplotlib.axes._subplots.AxesSubplot at 0x222d8594c70>"
      ]
     },
     "execution_count": 16,
     "metadata": {
      "tags": []
     },
     "output_type": "execute_result"
    },
    {
     "data": {
      "image/png": "[encoded data removed]",
      "text/plain": [
       "<Figure size 432x288 with 1 Axes>"
      ]
     },
     "metadata": {
      "needs_background": "light",
      "tags": []
     },
     "output_type": "display_data"
    }
   ],
   "source": [
    "sns.countplot(x=data.Credit_History, hue=data.Loan_Status)"
   ]
  },
  {
   "cell_type": "markdown",
   "metadata": {
    "id": "UJxePuBoDPzA"
   },
   "source": [
    "**Observations:**\n",
    "- The plot shows that credit history is an important factor while checking loan eligibility. There are very few customers whose loan was approved even when their credit history did not meet required guidelines."
   ]
  },
  {
   "cell_type": "markdown",
   "metadata": {
    "id": "hGn6jFYgb0kG"
   },
   "source": [
    "Let's check the relationship between education and loan status"
   ]
  },
  {
   "cell_type": "code",
   "execution_count": null,
   "metadata": {
    "id": "aGrFWboqDPzB",
    "outputId": "176f49f1-1975-42bd-daff-c25ad7e1cf10"
   },
   "outputs": [
    {
     "data": {
      "text/plain": [
       "<matplotlib.axes._subplots.AxesSubplot at 0x222d86027c0>"
      ]
     },
     "execution_count": 17,
     "metadata": {
      "tags": []
     },
     "output_type": "execute_result"
    },
    {
     "data": {
      "image/png": "[encoded data removed]",
      "text/plain": [
       "<Figure size 432x288 with 1 Axes>"
      ]
     },
     "metadata": {
      "needs_background": "light",
      "tags": []
     },
     "output_type": "display_data"
    }
   ],
   "source": [
    "sns.countplot(x=data.Education, hue=data.Loan_Status)"
   ]
  },
  {
   "cell_type": "markdown",
   "metadata": {
    "id": "bkbSi9QdDPzC"
   },
   "source": [
    "**Observations:**\n",
    "- We can see that graduate customers are more likely to get loans.\n",
    "- This might be because, in general, graduate customers have higher income when compared to non-graduates. Let's check if this is true."
   ]
  },
  {
   "cell_type": "code",
   "execution_count": null,
   "metadata": {
    "id": "HjP1fFroDPzD",
    "outputId": "8664a005-19b2-477c-d9ae-6c32285a6a9f"
   },
   "outputs": [
    {
     "data": {
      "text/plain": [
       "<matplotlib.axes._subplots.AxesSubplot at 0x222d84cd1c0>"
      ]
     },
     "execution_count": 18,
     "metadata": {
      "tags": []
     },
     "output_type": "execute_result"
    },
    {
     "data": {
      "image/png": "[encoded data removed]",
      "text/plain": [
       "<Figure size 432x288 with 1 Axes>"
      ]
     },
     "metadata": {
      "needs_background": "light",
      "tags": []
     },
     "output_type": "display_data"
    }
   ],
   "source": [
    "sns.boxplot(x=data.Education, y=data.total_income)"
   ]
  },
  {
   "cell_type": "markdown",
   "metadata": {
    "id": "xOVzdKwxDPzE"
   },
   "source": [
    "**Observations:**\n",
    "- We can see that this does appear to be true; graduate customers seem to earn more on average."
   ]
  },
  {
   "cell_type": "markdown",
   "metadata": {
    "id": "uJpSDK7pb0kN"
   },
   "source": [
    "Let's check how property area is related with loan status"
   ]
  },
  {
   "cell_type": "code",
   "execution_count": null,
   "metadata": {
    "id": "uW4DfezQDPzF",
    "outputId": "9d4f8e25-35c4-4f23-d0d0-9101a2a551a6"
   },
   "outputs": [
    {
     "data": {
      "text/plain": [
       "<matplotlib.axes._subplots.AxesSubplot at 0x222d84594c0>"
      ]
     },
     "execution_count": 19,
     "metadata": {
      "tags": []
     },
     "output_type": "execute_result"
    },
    {
     "data": {
      "image/png": "[encoded data removed]",
      "text/plain": [
       "<Figure size 432x288 with 1 Axes>"
      ]
     },
     "metadata": {
      "needs_background": "light",
      "tags": []
     },
     "output_type": "display_data"
    }
   ],
   "source": [
    "sns.countplot(x=data.Property_Area, hue=data.Loan_Status)"
   ]
  },
  {
   "cell_type": "markdown",
   "metadata": {
    "id": "5Od0NdHRDPzG"
   },
   "source": [
    "**Observations:**\n",
    "\n",
    "- The plot shows that more loans are approved for properties in semi-urban areas. \n",
    "- This could be due to several reasons. The bank might be charging higher interest rates for semi-urban areas or the current customer base of the company from semi-urban areas might actually be more eligible for home loans based on loan applicant features. We cannot be certain as we don't have the data to support this claim.\n",
    "\n",
    "**Now that we have processed and explored our data, let's prepare it for modeling.**"
   ]
  },
  {
   "cell_type": "markdown",
   "metadata": {
    "id": "3NtIHppoDPzH"
   },
   "source": [
    "## Preparing data for modeling"
   ]
  },
  {
   "cell_type": "markdown",
   "metadata": {
    "id": "N6RcR8FrDPzH"
   },
   "source": [
    "- Models cannot take non-numeric inputs. So, we will first create dummy variables for all the categorical variables.\n",
    "- We will then split the data into train and test sets."
   ]
  },
  {
   "cell_type": "markdown",
   "metadata": {
    "id": "NFJFyXLBb0kP"
   },
   "source": [
    "#### Question 3: \n",
    "\n",
    "- **Drop the target variable from the original data and store it in a separate dataframe `X` (1 Mark)**\n",
    "- **Store the target variable in a separate series `Y` (1 Mark)**"
   ]
  },
  {
   "cell_type": "code",
   "execution_count": null,
   "metadata": {
    "id": "mnL99NcgDPzI"
   },
   "outputs": [],
   "source": [
    "#Separating target variable and other variables\n",
    "\n",
    "X= #write your code here\n",
    "Y= #write your code here"
   ]
  },
  {
   "cell_type": "code",
   "execution_count": null,
   "metadata": {
    "id": "AGlNuXAkDPzJ"
   },
   "outputs": [],
   "source": [
    "#Creating dummy variables \n",
    "#drop_first=True is used to avoid redundant variables\n",
    "X = pd.get_dummies(X, drop_first=True)"
   ]
  },
  {
   "cell_type": "code",
   "execution_count": null,
   "metadata": {
    "id": "UR6NWZNnDPzK",
    "outputId": "2a14f95d-8b8e-44ec-9add-2fdc204f8182"
   },
   "outputs": [],
   "source": [
    "#Splitting the data into train and test sets\n",
    "X_train,X_test,y_train,y_test=train_test_split(X,Y,test_size=0.30,random_state=1)"
   ]
  },
  {
   "cell_type": "markdown",
   "metadata": {
    "id": "x9Ycp1rkDPzL"
   },
   "source": [
    "## Building Classification Models"
   ]
  },
  {
   "cell_type": "markdown",
   "metadata": {
    "id": "fajKKlPmDPzM"
   },
   "source": [
    "**Before training the model, let's choose the appropriate model evaluation criterion as per the problem on hand.**\n",
    "\n",
    "### Model evaluation criterion:\n",
    "\n",
    "#### Since this is a binary classification problem, the model can make wrong predictions in one of two ways:\n",
    "1. Predicting a customer is not eligible for a loan when the customer actually is eligible - Loss of opportunity\n",
    "2. Predicting a customer is eligible for a loan when the customer is actually not - Financial loss\n",
    "\n",
    "#### Which case is more important? \n",
    "* Predicting that the customer is eligible when he is not, because the person might default or not be able to return the loan, which would result in financial loss to the company.\n",
    "\n",
    "#### How to reduce this loss i.e need to reduce False Negatives?\n",
    "* In classification, the class of interest is considered the positive class. Here, the class of interest is 0 i.e. identifying non-eligible customers. So, the company wants to minimize the number of false negatives, in other words **Recall** is the evaluation criterion to be maximized."
   ]
  },
  {
   "cell_type": "markdown",
   "metadata": {
    "id": "3hUiY1AgDPzN"
   },
   "source": [
    "Also, let's create a function to calculate and print the classification report and confusion matrix so that we don't have to rewrite the same code repeatedly for each model."
   ]
  },
  {
   "cell_type": "code",
   "execution_count": null,
   "metadata": {
    "id": "VxiT1LhpDPzN"
   },
   "outputs": [],
   "source": [
    "#function to print classification report and get confusion matrix in a proper format\n",
    "\n",
    "def metrics_score(actual, predicted):\n",
    "    print(classification_report(actual, predicted))\n",
    "    cm = confusion_matrix(actual, predicted)\n",
    "    plt.figure(figsize=(8,5))\n",
    "    sns.heatmap(cm, annot=True,  fmt='.2f', xticklabels=['Not Eligible', 'Eligible'], yticklabels=['Not Eligible', 'Eligible'])\n",
    "    plt.ylabel('Actual')\n",
    "    plt.xlabel('Predicted')\n",
    "    plt.show()"
   ]
  },
  {
   "cell_type": "markdown",
   "metadata": {
    "id": "KtY-QagUDPzO"
   },
   "source": [
    "### Logistic Regression"
   ]
  },
  {
   "cell_type": "markdown",
   "metadata": {
    "id": "GG9G-wVsb0kZ"
   },
   "source": [
    "#### Question 4: Fit the logistic regression model on the train dataset using random_state=1 (2 Marks)"
   ]
  },
  {
   "cell_type": "code",
   "execution_count": null,
   "metadata": {
    "id": "ZQCUzmrdDPzO"
   },
   "outputs": [],
   "source": [
    "#define logistic regression model \n",
    "log_reg= #write your code here\n",
    "\n",
    "#fit the model\n",
    "#write you code here\n",
    "\n"
   ]
  },
  {
   "cell_type": "markdown",
   "metadata": {
    "id": "-GGajC53DPzP"
   },
   "source": [
    "**Let's check the coefficient of each dependent variable in the data**"
   ]
  },
  {
   "cell_type": "markdown",
   "metadata": {
    "id": "hD_qqscUb0ka"
   },
   "source": [
    "#### Question 5: Write your observations on the below coefficients obtained from the logistic regression model (3 Marks)"
   ]
  },
  {
   "cell_type": "code",
   "execution_count": null,
   "metadata": {
    "id": "DUs6dFjdDPzQ",
    "outputId": "271ffac2-c77f-4d94-8ccf-c8e7f57687d6"
   },
   "outputs": [
    {
     "data": {
      "text/plain": [
       "Credit_History             3.026255\n",
       "Property_Area_Semiurban    0.821588\n",
       "Married_Yes                0.189407\n",
       "Dependents_2               0.154738\n",
       "Dependents_3+              0.113787\n",
       "total_income              -0.000010\n",
       "LoanAmount                -0.000474\n",
       "Property_Area_Urban       -0.006438\n",
       "Loan_Amount_Term          -0.065874\n",
       "Self_Employed_Yes         -0.098511\n",
       "Gender_Male               -0.106007\n",
       "Dependents_1              -0.145731\n",
       "Education_Not Graduate    -0.491750\n",
       "dtype: float64"
      ]
     },
     "execution_count": 25,
     "metadata": {
      "tags": []
     },
     "output_type": "execute_result"
    }
   ],
   "source": [
    "pd.Series(log_reg.coef_[0], index=X_train.columns).sort_values(ascending=False)"
   ]
  },
  {
   "cell_type": "markdown",
   "metadata": {
    "id": "IpPP1F8xxCSy"
   },
   "source": [
    "**Observations:_________**"
   ]
  },
  {
   "cell_type": "markdown",
   "metadata": {
    "id": "g9affrJFb0ke"
   },
   "source": [
    "#### Question 6: Write your interpretations of the odds calculated from the logistic regression model coefficients (3 Marks)"
   ]
  },
  {
   "cell_type": "code",
   "execution_count": null,
   "metadata": {
    "id": "SdRYNh2sb0ke",
    "outputId": "a21068c9-cbb9-41c9-f712-039492353a36"
   },
   "outputs": [
    {
     "data": {
      "text/html": [
       "<div>\n",
       "<style scoped>\n",
       "    .dataframe tbody tr th:only-of-type {\n",
       "        vertical-align: middle;\n",
       "    }\n",
       "\n",
       "    .dataframe tbody tr th {\n",
       "        vertical-align: top;\n",
       "    }\n",
       "\n",
       "    .dataframe thead th {\n",
       "        text-align: right;\n",
       "    }\n",
       "</style>\n",
       "<table border=\"1\" class=\"dataframe\">\n",
       "  <thead>\n",
       "    <tr style=\"text-align: right;\">\n",
       "      <th></th>\n",
       "      <th>odds</th>\n",
       "    </tr>\n",
       "  </thead>\n",
       "  <tbody>\n",
       "    <tr>\n",
       "      <th>Credit_History</th>\n",
       "      <td>20.619861</td>\n",
       "    </tr>\n",
       "    <tr>\n",
       "      <th>Property_Area_Semiurban</th>\n",
       "      <td>2.274108</td>\n",
       "    </tr>\n",
       "    <tr>\n",
       "      <th>Married_Yes</th>\n",
       "      <td>1.208532</td>\n",
       "    </tr>\n",
       "    <tr>\n",
       "      <th>Dependents_2</th>\n",
       "      <td>1.167352</td>\n",
       "    </tr>\n",
       "    <tr>\n",
       "      <th>Dependents_3+</th>\n",
       "      <td>1.120513</td>\n",
       "    </tr>\n",
       "    <tr>\n",
       "      <th>total_income</th>\n",
       "      <td>0.999990</td>\n",
       "    </tr>\n",
       "    <tr>\n",
       "      <th>LoanAmount</th>\n",
       "      <td>0.999526</td>\n",
       "    </tr>\n",
       "    <tr>\n",
       "      <th>Property_Area_Urban</th>\n",
       "      <td>0.993583</td>\n",
       "    </tr>\n",
       "    <tr>\n",
       "      <th>Loan_Amount_Term</th>\n",
       "      <td>0.936249</td>\n",
       "    </tr>\n",
       "    <tr>\n",
       "      <th>Self_Employed_Yes</th>\n",
       "      <td>0.906186</td>\n",
       "    </tr>\n",
       "    <tr>\n",
       "      <th>Gender_Male</th>\n",
       "      <td>0.899419</td>\n",
       "    </tr>\n",
       "    <tr>\n",
       "      <th>Dependents_1</th>\n",
       "      <td>0.864391</td>\n",
       "    </tr>\n",
       "    <tr>\n",
       "      <th>Education_Not Graduate</th>\n",
       "      <td>0.611555</td>\n",
       "    </tr>\n",
       "  </tbody>\n",
       "</table>\n",
       "</div>"
      ],
      "text/plain": [
       "                              odds\n",
       "Credit_History           20.619861\n",
       "Property_Area_Semiurban   2.274108\n",
       "Married_Yes               1.208532\n",
       "Dependents_2              1.167352\n",
       "Dependents_3+             1.120513\n",
       "total_income              0.999990\n",
       "LoanAmount                0.999526\n",
       "Property_Area_Urban       0.993583\n",
       "Loan_Amount_Term          0.936249\n",
       "Self_Employed_Yes         0.906186\n",
       "Gender_Male               0.899419\n",
       "Dependents_1              0.864391\n",
       "Education_Not Graduate    0.611555"
      ]
     },
     "execution_count": 26,
     "metadata": {
      "tags": []
     },
     "output_type": "execute_result"
    }
   ],
   "source": [
    "odds = np.exp(log_reg.coef_[0]) #finding the odds\n",
    "\n",
    "#adding the odds to a dataframe and sorting the values\n",
    "pd.DataFrame(odds, X_train.columns, columns=['odds']).sort_values(by='odds', ascending=False) "
   ]
  },
  {
   "cell_type": "markdown",
   "metadata": {
    "id": "yKfopkPjxID_"
   },
   "source": [
    "**Observations:_____**"
   ]
  },
  {
   "cell_type": "markdown",
   "metadata": {
    "id": "jdRHileGDPzT"
   },
   "source": [
    "**Now, let's check the performance of the model on the training set**"
   ]
  },
  {
   "cell_type": "markdown",
   "metadata": {
    "id": "DmEGOVt8b0ki"
   },
   "source": [
    "#### Question 7: Check the performance on the training data and write your observations from the below classification report and confusion matrix for the training set (3 Marks)"
   ]
  },
  {
   "cell_type": "code",
   "execution_count": null,
   "metadata": {
    "id": "AVAZY2p-DPzU"
   },
   "outputs": [],
   "source": [
    "#predict on the training data \n",
    "y_pred_train = _______________________ #Write your code here\n",
    "\n",
    "# Checking performance on the training data\n",
    "metrics_score(y_train, y_pred_train)"
   ]
  },
  {
   "cell_type": "markdown",
   "metadata": {
    "id": "lb9dV9I4DPzW"
   },
   "source": [
    "**Reading confusion matrix (clockwise):**\n",
    "\n",
    "- **True Positive**: Predicting the customer is not eligible and the customer is actually not eligible\n",
    "- **False Negative**: Predicting the customer is eligible but the customer is actually not eligible\n",
    "- **True Negative**: Predicting the customer is eligible and the customer is actually eligible\n",
    "- **False Positive**: Predicting the customer is not eligible but the customer is actually eligible"
   ]
  },
  {
   "cell_type": "markdown",
   "metadata": {
    "id": "M9cN7fTq7RGC"
   },
   "source": [
    "**Observations:_____**"
   ]
  },
  {
   "cell_type": "markdown",
   "metadata": {
    "id": "CEvDJFiFb0kl"
   },
   "source": [
    "**Precision-Recall Curve for Logistic Regression**"
   ]
  },
  {
   "cell_type": "code",
   "execution_count": null,
   "metadata": {
    "id": "xd2N6ZdpDPzW",
    "outputId": "9238370b-8334-4a4a-c098-34cadd49301f"
   },
   "outputs": [
    {
     "data": {
      "image/png": "[encoded data removed]",
      "text/plain": [
       "<Figure size 720x504 with 1 Axes>"
      ]
     },
     "metadata": {
      "needs_background": "light",
      "tags": []
     },
     "output_type": "display_data"
    }
   ],
   "source": [
    "y_scores=log_reg.predict_proba(X_train) #predict_proba gives the probability of each observation belonging to each class\n",
    "\n",
    "\n",
    "precisions, recalls, thresholds = precision_recall_curve(y_train, y_scores[:,1])\n",
    "\n",
    "#Plot values of precisions, recalls, and thresholds\n",
    "plt.figure(figsize=(10,7))\n",
    "plt.plot(thresholds, precisions[:-1], 'b--', label='precision')\n",
    "plt.plot(thresholds, recalls[:-1], 'g--', label = 'recall')\n",
    "plt.xlabel('Threshold')\n",
    "plt.legend(loc='upper left')\n",
    "plt.ylim([0,1])\n",
    "plt.show()"
   ]
  },
  {
   "cell_type": "markdown",
   "metadata": {
    "id": "QWO8v_IPb0ko"
   },
   "source": [
    "**Observations:**\n",
    "- We can see that precision and recall are balanced for threshold of about 0.7.\n",
    "- Let's try to calculate the exact threshold where precision and recall are equal."
   ]
  },
  {
   "cell_type": "code",
   "execution_count": null,
   "metadata": {
    "id": "25j4jYZCb0ko",
    "outputId": "81153045-7b58-47f2-aca3-f122af05cad1"
   },
   "outputs": [
    {
     "name": "stdout",
     "output_type": "stream",
     "text": [
      "0.7222044728784354\n"
     ]
    }
   ],
   "source": [
    "#calculating the exact threshold where precision and recall are equal.\n",
    "for i in np.arange(len(thresholds)):\n",
    "    if precisions[i]==recalls[i]:\n",
    "        print(thresholds[i])"
   ]
  },
  {
   "cell_type": "markdown",
   "metadata": {
    "id": "4gxy8CC7b0k2"
   },
   "source": [
    "- The threshold of 0.72 would give a balanced precision and recall.\n",
    "- We can choose the threshold to be a bit higher to make the recall higher but then the precision would drop.\n",
    "- **This decision depends on the stakeholders and other business driven factors.** For example, if the company can bear the cost of some false positives and be more conservative while approving loans then we can choose for the recall to be higher.\n",
    "- Let's choose the recall to be 0.75 for the current scenario, since we have mentioned that the company wants to optimize recall.\n",
    "- **Note:** We also don't want the precision to be so poor that it outweighs the benefits of a higher recall. "
   ]
  },
  {
   "cell_type": "markdown",
   "metadata": {
    "id": "KBEGSN6ib0k3"
   },
   "source": [
    "#### Question 8: Compare the performance of the model on training and testing sets after changing the threshold (2 Marks)"
   ]
  },
  {
   "cell_type": "code",
   "execution_count": null,
   "metadata": {
    "id": "9UmTsFiuDPzX",
    "outputId": "c3a455bb-7ea7-422f-bda1-6f8f5b5902d9"
   },
   "outputs": [
    {
     "name": "stdout",
     "output_type": "stream",
     "text": [
      "              precision    recall  f1-score   support\n",
      "\n",
      "           0       0.51      0.73      0.60       131\n",
      "           1       0.85      0.69      0.76       298\n",
      "\n",
      "    accuracy                           0.70       429\n",
      "   macro avg       0.68      0.71      0.68       429\n",
      "weighted avg       0.75      0.70      0.71       429\n",
      "\n"
     ]
    },
    {
     "data": {
      "image/png": "[encoded data removed]",
      "text/plain": [
       "<Figure size 576x360 with 2 Axes>"
      ]
     },
     "metadata": {
      "needs_background": "light",
      "tags": []
     },
     "output_type": "display_data"
    }
   ],
   "source": [
    "optimal_threshold1 = 0.75\n",
    "metrics_score(y_train, y_scores[:,1]>optimal_threshold1)"
   ]
  },
  {
   "cell_type": "code",
   "execution_count": null,
   "metadata": {
    "id": "tZZ_ZG2yDPza",
    "outputId": "0ce358bd-3cac-4340-ee6d-30c40cb24f4b"
   },
   "outputs": [
    {
     "name": "stdout",
     "output_type": "stream",
     "text": [
      "              precision    recall  f1-score   support\n",
      "\n",
      "           0       0.56      0.66      0.60        61\n",
      "           1       0.81      0.74      0.78       124\n",
      "\n",
      "    accuracy                           0.71       185\n",
      "   macro avg       0.68      0.70      0.69       185\n",
      "weighted avg       0.73      0.71      0.72       185\n",
      "\n"
     ]
    },
    {
     "data": {
      "image/png": "[encoded data removed]",
      "text/plain": [
       "<Figure size 576x360 with 2 Axes>"
      ]
     },
     "metadata": {
      "needs_background": "light",
      "tags": []
     },
     "output_type": "display_data"
    }
   ],
   "source": [
    "#Checking performance on the testing data\n",
    "y_pred_test = log_reg.predict_proba(X_test)\n",
    "metrics_score(y_test, y_pred_test[:,1]>optimal_threshold1)"
   ]
  },
  {
   "cell_type": "markdown",
   "metadata": {
    "id": "8axwm450vf8O"
   },
   "source": [
    "**Observations:____**"
   ]
  },
  {
   "cell_type": "markdown",
   "metadata": {
    "id": "t_mZdh8VDPzb"
   },
   "source": [
    "### K - Nearest Neighbors (KNN)"
   ]
  },
  {
   "cell_type": "markdown",
   "metadata": {
    "id": "-UbHz9RuDPzc"
   },
   "source": [
    "- KNN is a distance based algorithm and all distance based algorithms are affected by the scale of the data.\n",
    "- We will scale the attributes (dataframe X defined above) before building the KNN model.\n",
    "\n",
    "**But before actually building the model, we need to identify the value of K to be used in KNN. We will perform the following steps for the same.**\n",
    "\n",
    "- For every value of K (from 1 to 20), split the train set into new train and validation set (30 times)\n",
    "- Scale the training data and validation data\n",
    "- Take the average of the error on these train and the validation sets for each K\n",
    "- Plot the average train vs the validation set error for all Ks \n",
    "- Choose a suitable K from the plot where the two errors are comparable"
   ]
  },
  {
   "cell_type": "code",
   "execution_count": null,
   "metadata": {
    "id": "AGOzbhU0DPzd",
    "outputId": "862b2a67-36a2-4a1c-eeab-cc492df058d0"
   },
   "outputs": [],
   "source": [
    "knn = KNeighborsClassifier()\n",
    "ss = StandardScaler()\n",
    "\n",
    "# We select the best value of k for which the error rate is the least in the validation data\n",
    "# Let us loop over a few values of the k to determine the best k\n",
    "\n",
    "train_error = []\n",
    "test_error = []\n",
    "knn_many_split = {}\n",
    "\n",
    "error_df_knn = pd.DataFrame()\n",
    "features = X.columns\n",
    "\n",
    "for k in range(1,21):\n",
    "    train_error = []\n",
    "    test_error = []\n",
    "    lista = []\n",
    "    knn = KNeighborsClassifier(n_neighbors=k)\n",
    "    for i in range(30):\n",
    "        x_train_new, x_val, y_train_new, y_val = train_test_split(X_train, y_train, test_size = 0.20)\n",
    "    \n",
    "        #let us scale the data\n",
    "        x_train_new = ss.fit_transform(x_train_new)  #fit_transform the training data\n",
    "        x_val = ss.transform(x_val) #transform the validation set\n",
    "        #Fitting knn on training data\n",
    "        knn.fit(x_train_new, y_train_new)\n",
    "        #Calculating error on training and validation data\n",
    "        train_error.append(1 - knn.score(x_train_new, y_train_new)) \n",
    "        test_error.append(1 - knn.score(x_val, y_val))\n",
    "    lista.append(sum(train_error)/len(train_error))\n",
    "    lista.append(sum(test_error)/len(test_error))\n",
    "    knn_many_split[k] = lista\n",
    "\n",
    "knn_many_split"
   ]
  },
  {
   "cell_type": "code",
   "execution_count": null,
   "metadata": {
    "id": "5eaW0nGbDPzh",
    "outputId": "860fc081-4f5c-4bde-f4a7-0708375090d6"
   },
   "outputs": [
    {
     "data": {
      "image/png": "[encoded data removed]",
      "text/plain": [
       "<Figure size 720x432 with 1 Axes>"
      ]
     },
     "metadata": {
      "needs_background": "light",
      "tags": []
     },
     "output_type": "display_data"
    }
   ],
   "source": [
    "# Extracting the train and the test error for each k in a list for easy plotting\n",
    "\n",
    "kltest = []\n",
    "vltest = []\n",
    "for k, v in knn_many_split.items():\n",
    "    kltest.append(k)\n",
    "    vltest.append(knn_many_split[k][1])\n",
    "\n",
    "kltrain = []\n",
    "vltrain = []\n",
    "\n",
    "for k, v in knn_many_split.items():\n",
    "    kltrain.append(k)\n",
    "    vltrain.append(knn_many_split[k][0])\n",
    "\n",
    "# Plotting k vs error \n",
    "plt.figure(figsize=(10,6))\n",
    "plt.plot(kltest,vltest, label = 'test' )\n",
    "plt.plot(kltrain,vltrain, label = 'train')\n",
    "plt.legend()\n",
    "plt.show()"
   ]
  },
  {
   "cell_type": "markdown",
   "metadata": {
    "id": "Dw7qtTmODPzj"
   },
   "source": [
    "**Observations:**\n",
    "- We can see that the train error and the test error are more or less similar for K more than or equal to 7.\n",
    "- This implies that we would get generalized results if we choose K=7.\n",
    "- So, let's scale the full data and fit the model on the entire training set. "
   ]
  },
  {
   "cell_type": "code",
   "execution_count": null,
   "metadata": {
    "id": "vbm0fsfIDPzk"
   },
   "outputs": [],
   "source": [
    "# scaling the data\n",
    "scaler=StandardScaler()\n",
    "X_train_scaled=pd.DataFrame(scaler.fit_transform(X_train), columns=X_train.columns)  #fit_transform the training data\n",
    "X_test_scaled=pd.DataFrame(scaler.transform(X_test), columns=X_test.columns) #transform the testing data"
   ]
  },
  {
   "cell_type": "code",
   "execution_count": null,
   "metadata": {
    "id": "cLMS_4Z6b0lB",
    "outputId": "7755c3b6-2556-4f39-eb0b-5cf1b94966f4"
   },
   "outputs": [
    {
     "data": {
      "text/plain": [
       "KNeighborsClassifier(n_neighbors=7, weights='distance')"
      ]
     },
     "execution_count": 35,
     "metadata": {
      "tags": []
     },
     "output_type": "execute_result"
    }
   ],
   "source": [
    "#Fitting the model on the scaled data\n",
    "knn = KNeighborsClassifier(n_neighbors = 7, weights='distance')\n",
    "knn.fit(X_train_scaled, y_train)"
   ]
  },
  {
   "cell_type": "markdown",
   "metadata": {
    "id": "EVnW7sjwDPzm"
   },
   "source": [
    "**Now, let's check the performance of the model on the training and testing data**"
   ]
  },
  {
   "cell_type": "markdown",
   "metadata": {
    "id": "yiBb6GDPb0lC"
   },
   "source": [
    "#### Question 9: \n",
    "\n",
    "- **Check the performance of the model on the training and testing data (2 Marks)**\n",
    "- **Compare the performance and write your observations (2 Marks)**"
   ]
  },
  {
   "cell_type": "code",
   "execution_count": null,
   "metadata": {
    "id": "cKgxffwiDPzn"
   },
   "outputs": [],
   "source": [
    "#predict on train data\n",
    "y_pred_train_knn = _________________________# write your code here\n",
    "\n",
    "#checking performance of the model\n",
    "metrics_score(y_train, y_pred_train_knn)"
   ]
  },
  {
   "cell_type": "markdown",
   "metadata": {
    "id": "dWPmkx7SyANS"
   },
   "source": [
    "**Observations:____**"
   ]
  },
  {
   "cell_type": "code",
   "execution_count": null,
   "metadata": {
    "id": "0GYw-kr6DPzo"
   },
   "outputs": [],
   "source": [
    "#predict on test data\n",
    "y_pred_test_knn = _____________________# Write your code here\n",
    "\n",
    "#checking performance of the model\n",
    "metrics_score(y_test, y_pred_test_knn)"
   ]
  },
  {
   "cell_type": "markdown",
   "metadata": {
    "id": "qvhsZIbAyOhY"
   },
   "source": [
    "**Observation:____**"
   ]
  },
  {
   "cell_type": "markdown",
   "metadata": {
    "id": "gsx3-yU5b0lf"
   },
   "source": [
    "#### Question 10: Write the conclusion on the key factors that are driving the approval of loan and write your recommendations to the business on how can they minimize the credit risk. (5 Marks)"
   ]
  },
  {
   "cell_type": "markdown",
   "metadata": {
    "id": "Yi0FiWbAl4H5"
   },
   "source": [
    "## Conclusion:"
   ]
  },
  {
   "cell_type": "markdown",
   "metadata": {
    "id": "Vs6j0tlsyY5w"
   },
   "source": [
    "Write your conclusion here"
   ]
  },
  {
   "cell_type": "markdown",
   "metadata": {
    "id": "2BkZh6eHluZK"
   },
   "source": [
    "## Recommendations:"
   ]
  },
  {
   "cell_type": "markdown",
   "metadata": {
    "id": "4hNfrF1qydIw"
   },
   "source": [
    "Write your recommendations here"
   ]
  }
 ],
 "metadata": {
  "colab": {
   "collapsed_sections": [
    "-Rlb274WDPy0"
   ],
   "name": "Learner_Notebook_Classification__Project.ipynb",
   "provenance": []
  },
  "kernelspec": {
   "display_name": "Python 3",
   "language": "python",
   "name": "python3"
  },
  "language_info": {
   "codemirror_mode": {
    "name": "ipython",
    "version": 3
   },
   "file_extension": ".py",
   "mimetype": "text/x-python",
   "name": "python",
   "nbconvert_exporter": "python",
   "pygments_lexer": "ipython3",
   "version": "3.8.3"
  }
 },
 "nbformat": 4,
 "nbformat_minor": 1
}

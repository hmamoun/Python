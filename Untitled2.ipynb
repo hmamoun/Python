{
 "cells": [
  {
   "cell_type": "code",
   "execution_count": 12,
   "id": "35d67225",
   "metadata": {},
   "outputs": [
    {
     "data": {
      "text/plain": [
       "21.0"
      ]
     },
     "execution_count": 12,
     "metadata": {},
     "output_type": "execute_result"
    }
   ],
   "source": [
    "float('11') + 10"
   ]
  },
  {
   "cell_type": "code",
   "execution_count": 14,
   "id": "a1cfbdab",
   "metadata": {},
   "outputs": [
    {
     "data": {
      "text/plain": [
       "int"
      ]
     },
     "execution_count": 14,
     "metadata": {},
     "output_type": "execute_result"
    }
   ],
   "source": [
    "type(int(11.7))"
   ]
  },
  {
   "cell_type": "code",
   "execution_count": 27,
   "id": "811d8b6c",
   "metadata": {},
   "outputs": [
    {
     "name": "stdout",
     "output_type": "stream",
     "text": [
      "15\n",
      "15 happy!\n"
     ]
    }
   ],
   "source": [
    "pp=str(int(7+8.0))\n",
    "print(pp)\n",
    "print(pp+\" happy\" + \"!\")"
   ]
  },
  {
   "cell_type": "code",
   "execution_count": 32,
   "id": "22257a8f",
   "metadata": {},
   "outputs": [
    {
     "name": "stdout",
     "output_type": "stream",
     "text": [
      "a =  -1\n",
      "b =  3\n",
      "c =  joud\n"
     ]
    },
    {
     "data": {
      "text/plain": [
       "1"
      ]
     },
     "execution_count": 32,
     "metadata": {},
     "output_type": "execute_result"
    }
   ],
   "source": [
    "a,b,c = 1,3,'joud'\n",
    "print(\"a = \" , -a)\n",
    "print(\"b = \" , b)\n",
    "print(\"c = \", c)\n",
    "a"
   ]
  },
  {
   "cell_type": "code",
   "execution_count": 38,
   "id": "c88a336b",
   "metadata": {},
   "outputs": [
    {
     "data": {
      "text/plain": [
       "complex"
      ]
     },
     "execution_count": 38,
     "metadata": {},
     "output_type": "execute_result"
    }
   ],
   "source": [
    "type(1+1j)"
   ]
  },
  {
   "cell_type": "code",
   "execution_count": 45,
   "id": "33b94f65",
   "metadata": {},
   "outputs": [
    {
     "name": "stdout",
     "output_type": "stream",
     "text": [
      "x =  7 \n",
      ".\n",
      ".\n",
      ".\n",
      ".\n",
      ".\n",
      ".\n",
      ".\n",
      ".\n",
      ".\n",
      ".\n",
      ".\n",
      "y =  9\n"
     ]
    }
   ],
   "source": [
    "x=7\n",
    "y=9\n",
    "end='\\n.\\n.\\n.\\n.\\n.\\n.\\n.\\n.\\n.\\n.\\n.'\n",
    "print(\"x = \" , x ,  end)\n",
    "print(\"y = \",y)"
   ]
  },
  {
   "cell_type": "code",
   "execution_count": 52,
   "id": "6f1940f3",
   "metadata": {},
   "outputs": [
    {
     "name": "stdout",
     "output_type": "stream",
     "text": [
      "England\n",
      "South Africa\n",
      "India\n",
      "England \n",
      " South Africa\n",
      " India\n"
     ]
    }
   ],
   "source": [
    "print(\"England\\nSouth Africa\\nIndia\")\n",
    "print(\"England \\n South Africa\\n India\")"
   ]
  },
  {
   "cell_type": "code",
   "execution_count": 53,
   "id": "303020b7",
   "metadata": {},
   "outputs": [
    {
     "data": {
      "text/plain": [
       "5.0"
      ]
     },
     "execution_count": 53,
     "metadata": {},
     "output_type": "execute_result"
    }
   ],
   "source": [
    "float(5)"
   ]
  }
 ],
 "metadata": {
  "kernelspec": {
   "display_name": "Python 3",
   "language": "python",
   "name": "python3"
  },
  "language_info": {
   "codemirror_mode": {
    "name": "ipython",
    "version": 3
   },
   "file_extension": ".py",
   "mimetype": "text/x-python",
   "name": "python",
   "nbconvert_exporter": "python",
   "pygments_lexer": "ipython3",
   "version": "3.8.8"
  }
 },
 "nbformat": 4,
 "nbformat_minor": 5
}

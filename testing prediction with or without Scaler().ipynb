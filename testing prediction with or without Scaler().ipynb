{
 "cells": [
  {
   "cell_type": "code",
   "execution_count": 1,
   "id": "1bfe933e",
   "metadata": {},
   "outputs": [],
   "source": [
    "import pandas as pd"
   ]
  },
  {
   "cell_type": "code",
   "execution_count": 30,
   "id": "59626216",
   "metadata": {},
   "outputs": [
    {
     "name": "stdout",
     "output_type": "stream",
     "text": [
      "[[1, 2, 3, 6], [2, 4, 5, 11], [3, 2, 3, 8], [4, 4, 5, 13], [5, 2, 3, 10], [5, 4, 5, 14], [3, 2, 1, 6], [5, 4, 5, 14]]\n"
     ]
    },
    {
     "data": {
      "text/plain": [
       "array([[0.   , 0.   , 0.5  , 0.   ],\n",
       "       [0.25 , 1.   , 1.   , 0.625],\n",
       "       [0.5  , 0.   , 0.5  , 0.25 ],\n",
       "       [0.75 , 1.   , 1.   , 0.875],\n",
       "       [1.   , 0.   , 0.5  , 0.5  ],\n",
       "       [1.   , 1.   , 1.   , 1.   ],\n",
       "       [0.5  , 0.   , 0.   , 0.   ],\n",
       "       [1.   , 1.   , 1.   , 1.   ]])"
      ]
     },
     "execution_count": 30,
     "metadata": {},
     "output_type": "execute_result"
    }
   ],
   "source": [
    "from sklearn.preprocessing import MinMaxScaler\n",
    "#sample = pd.DataFrame([[1,2,3,4],[5,4,5,6],[3,2,3,4],[5,4,5,6],[1,2,3,4],[5,4,5,6],[1,2,3,4],[5,4,5,6]])\n",
    "sample = [\n",
    "    [1,2,3,6],\n",
    "    [2,4,5,11],[3,2,3,8],[4,4,5,13],[5,2,3,10],[5,4,5,14],[3,2,1,6],[5,4,5,14]]\n",
    "print(sample)\n",
    "scaler = MinMaxScaler()\n",
    "scaler.fit_transform(sample)"
   ]
  },
  {
   "cell_type": "code",
   "execution_count": 112,
   "id": "5972e42e",
   "metadata": {},
   "outputs": [
    {
     "name": "stdout",
     "output_type": "stream",
     "text": [
      "                            OLS Regression Results                            \n",
      "==============================================================================\n",
      "Dep. Variable:                      y   R-squared:                       1.000\n",
      "Model:                            OLS   Adj. R-squared:                  1.000\n",
      "Method:                 Least Squares   F-statistic:                 4.226e+29\n",
      "Date:                Wed, 08 Sep 2021   Prob (F-statistic):           1.87e-59\n",
      "Time:                        21:37:36   Log-Likelihood:                 249.81\n",
      "No. Observations:                   8   AIC:                            -491.6\n",
      "Df Residuals:                       4   BIC:                            -491.3\n",
      "Df Model:                           3                                         \n",
      "Covariance Type:            nonrobust                                         \n",
      "==============================================================================\n",
      "                 coef    std err          t      P>|t|      [0.025      0.975]\n",
      "------------------------------------------------------------------------------\n",
      "const         50.0000   1.47e-14    3.4e+15      0.000      50.000      50.000\n",
      "x1             1.0000   2.63e-15    3.8e+14      0.000       1.000       1.000\n",
      "x2             2.0000   8.57e-15   2.33e+14      0.000       2.000       2.000\n",
      "x3             1.0000   5.96e-15   1.68e+14      0.000       1.000       1.000\n",
      "==============================================================================\n",
      "Omnibus:                        0.640   Durbin-Watson:                   1.857\n",
      "Prob(Omnibus):                  0.726   Jarque-Bera (JB):                0.276\n",
      "Skew:                          -0.391   Prob(JB):                        0.871\n",
      "Kurtosis:                       2.534   Cond. No.                         31.1\n",
      "==============================================================================\n",
      "\n",
      "Notes:\n",
      "[1] Standard Errors assume that the covariance matrix of the errors is correctly specified.\n"
     ]
    },
    {
     "name": "stderr",
     "output_type": "stream",
     "text": [
      "C:\\Users\\hmamo\\anaconda3\\lib\\site-packages\\scipy\\stats\\stats.py:1603: UserWarning: kurtosistest only valid for n>=20 ... continuing anyway, n=8\n",
      "  warnings.warn(\"kurtosistest only valid for n>=20 ... continuing \"\n"
     ]
    }
   ],
   "source": [
    "# importing libraries for building linear regression model\n",
    "import statsmodels.api as sm\n",
    "from statsmodels.stats.outliers_influence import variance_inflation_factor\n",
    "import numpy as np\n",
    "sample = [[1,3,3,10],\n",
    "          [2,4,5,15],\n",
    "          [3,2,3,10],\n",
    "          [4,4,5,17],\n",
    "          [5,2,3,12],\n",
    "          [5,4,5,18],\n",
    "          [3,2,1,8],\n",
    "          [5,4,5,18]]\n",
    "sample = np.array(sample)\n",
    "#print(sample)\n",
    "sample[:,3]= sample[:,3]+50\n",
    "\n",
    "sample = sm.add_constant(sample)\n",
    "target = sample[:,4]\n",
    "features = sample[:,0:4]\n",
    "\n",
    "ols_model_0 = sm.OLS(target,features)\n",
    "ols_res_0 = ols_model_0.fit()\n",
    "print(ols_res_0.summary())\n"
   ]
  },
  {
   "cell_type": "code",
   "execution_count": 120,
   "id": "a24670c0",
   "metadata": {},
   "outputs": [
    {
     "name": "stdout",
     "output_type": "stream",
     "text": [
      "                            OLS Regression Results                            \n",
      "==============================================================================\n",
      "Dep. Variable:                      y   R-squared:                       1.000\n",
      "Model:                            OLS   Adj. R-squared:                  1.000\n",
      "Method:                 Least Squares   F-statistic:                 1.115e+30\n",
      "Date:                Wed, 08 Sep 2021   Prob (F-statistic):           2.68e-60\n",
      "Time:                        21:41:32   Log-Likelihood:                 272.11\n",
      "No. Observations:                   8   AIC:                            -536.2\n",
      "Df Residuals:                       4   BIC:                            -535.9\n",
      "Df Model:                           3                                         \n",
      "Covariance Type:            nonrobust                                         \n",
      "==============================================================================\n",
      "                 coef    std err          t      P>|t|      [0.025      0.975]\n",
      "------------------------------------------------------------------------------\n",
      "const         -0.2000   5.47e-16  -3.65e+14      0.000      -0.200      -0.200\n",
      "x1             0.4000   6.48e-16   6.17e+14      0.000       0.400       0.400\n",
      "x2             0.4000   1.06e-15   3.79e+14      0.000       0.400       0.400\n",
      "x3             0.4000   1.47e-15   2.73e+14      0.000       0.400       0.400\n",
      "==============================================================================\n",
      "Omnibus:                        4.079   Durbin-Watson:                   0.352\n",
      "Prob(Omnibus):                  0.130   Jarque-Bera (JB):                0.993\n",
      "Skew:                          -0.041   Prob(JB):                        0.609\n",
      "Kurtosis:                       1.276   Cond. No.                         13.5\n",
      "==============================================================================\n",
      "\n",
      "Notes:\n",
      "[1] Standard Errors assume that the covariance matrix of the errors is correctly specified.\n"
     ]
    },
    {
     "name": "stderr",
     "output_type": "stream",
     "text": [
      "C:\\Users\\hmamo\\anaconda3\\lib\\site-packages\\scipy\\stats\\stats.py:1603: UserWarning: kurtosistest only valid for n>=20 ... continuing anyway, n=8\n",
      "  warnings.warn(\"kurtosistest only valid for n>=20 ... continuing \"\n"
     ]
    },
    {
     "data": {
      "text/plain": [
       "array([[1.  , 0.  , 0.5 , 0.5 , 0.2 ],\n",
       "       [1.  , 0.25, 1.  , 1.  , 0.7 ],\n",
       "       [1.  , 0.5 , 0.  , 0.5 , 0.2 ],\n",
       "       [1.  , 0.75, 1.  , 1.  , 0.9 ],\n",
       "       [1.  , 1.  , 0.  , 0.5 , 0.4 ],\n",
       "       [1.  , 1.  , 1.  , 1.  , 1.  ],\n",
       "       [1.  , 0.5 , 0.  , 0.  , 0.  ],\n",
       "       [1.  , 1.  , 1.  , 1.  , 1.  ]])"
      ]
     },
     "execution_count": 120,
     "metadata": {},
     "output_type": "execute_result"
    }
   ],
   "source": [
    "sample = [[1,3,3,10],\n",
    "          [2,4,5,15],\n",
    "          [3,2,3,10],\n",
    "          [4,4,5,17],\n",
    "          [5,2,3,12],\n",
    "          [5,4,5,18],\n",
    "          [3,2,1,8],\n",
    "          [5,4,5,18]]\n",
    "sample = np.array(sample)\n",
    "#print(sample)\n",
    "sample[:,3]= sample[:,3]+50\n",
    "sample = scaler.fit_transform(sample)\n",
    "sample = sm.add_constant(sample)\n",
    "target = sample[:,4]\n",
    "features = sample[:,0:4]\n",
    "\n",
    "ols_model_0 = sm.OLS(target,features)\n",
    "ols_res_0 = ols_model_0.fit()\n",
    "print(ols_res_0.summary())\n",
    "sample"
   ]
  },
  {
   "cell_type": "code",
   "execution_count": 18,
   "id": "ead5c944",
   "metadata": {},
   "outputs": [
    {
     "data": {
      "text/html": [
       "<div>\n",
       "<style scoped>\n",
       "    .dataframe tbody tr th:only-of-type {\n",
       "        vertical-align: middle;\n",
       "    }\n",
       "\n",
       "    .dataframe tbody tr th {\n",
       "        vertical-align: top;\n",
       "    }\n",
       "\n",
       "    .dataframe thead th {\n",
       "        text-align: right;\n",
       "    }\n",
       "</style>\n",
       "<table border=\"1\" class=\"dataframe\">\n",
       "  <thead>\n",
       "    <tr style=\"text-align: right;\">\n",
       "      <th></th>\n",
       "      <th>0_d</th>\n",
       "      <th>1_c</th>\n",
       "      <th>1_r</th>\n",
       "      <th>1_s</th>\n",
       "      <th>2_n</th>\n",
       "      <th>2_x</th>\n",
       "      <th>2_z</th>\n",
       "      <th>3_d</th>\n",
       "    </tr>\n",
       "  </thead>\n",
       "  <tbody>\n",
       "    <tr>\n",
       "      <th>0</th>\n",
       "      <td>0</td>\n",
       "      <td>0</td>\n",
       "      <td>0</td>\n",
       "      <td>0</td>\n",
       "      <td>0</td>\n",
       "      <td>0</td>\n",
       "      <td>0</td>\n",
       "      <td>1</td>\n",
       "    </tr>\n",
       "    <tr>\n",
       "      <th>1</th>\n",
       "      <td>1</td>\n",
       "      <td>1</td>\n",
       "      <td>0</td>\n",
       "      <td>0</td>\n",
       "      <td>0</td>\n",
       "      <td>1</td>\n",
       "      <td>0</td>\n",
       "      <td>0</td>\n",
       "    </tr>\n",
       "    <tr>\n",
       "      <th>2</th>\n",
       "      <td>1</td>\n",
       "      <td>1</td>\n",
       "      <td>0</td>\n",
       "      <td>0</td>\n",
       "      <td>1</td>\n",
       "      <td>0</td>\n",
       "      <td>0</td>\n",
       "      <td>0</td>\n",
       "    </tr>\n",
       "    <tr>\n",
       "      <th>3</th>\n",
       "      <td>1</td>\n",
       "      <td>0</td>\n",
       "      <td>1</td>\n",
       "      <td>0</td>\n",
       "      <td>0</td>\n",
       "      <td>1</td>\n",
       "      <td>0</td>\n",
       "      <td>0</td>\n",
       "    </tr>\n",
       "    <tr>\n",
       "      <th>4</th>\n",
       "      <td>1</td>\n",
       "      <td>0</td>\n",
       "      <td>0</td>\n",
       "      <td>1</td>\n",
       "      <td>0</td>\n",
       "      <td>0</td>\n",
       "      <td>1</td>\n",
       "      <td>0</td>\n",
       "    </tr>\n",
       "  </tbody>\n",
       "</table>\n",
       "</div>"
      ],
      "text/plain": [
       "   0_d  1_c  1_r  1_s  2_n  2_x  2_z  3_d\n",
       "0    0    0    0    0    0    0    0    1\n",
       "1    1    1    0    0    0    1    0    0\n",
       "2    1    1    0    0    1    0    0    0\n",
       "3    1    0    1    0    0    1    0    0\n",
       "4    1    0    0    1    0    0    1    0"
      ]
     },
     "execution_count": 18,
     "metadata": {},
     "output_type": "execute_result"
    }
   ],
   "source": [
    "sample = pd.DataFrame([['a','b','c','d'],['d','c','x','6'],['d','c','n','6'],['d','r','x','6'],['d','s','z','6']])\n",
    "pd.get_dummies(sample, drop_first=True)"
   ]
  }
 ],
 "metadata": {
  "kernelspec": {
   "display_name": "Python 3",
   "language": "python",
   "name": "python3"
  },
  "language_info": {
   "codemirror_mode": {
    "name": "ipython",
    "version": 3
   },
   "file_extension": ".py",
   "mimetype": "text/x-python",
   "name": "python",
   "nbconvert_exporter": "python",
   "pygments_lexer": "ipython3",
   "version": "3.8.8"
  }
 },
 "nbformat": 4,
 "nbformat_minor": 5
}

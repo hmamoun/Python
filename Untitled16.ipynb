{
 "cells": [
  {
   "cell_type": "code",
   "execution_count": 2,
   "id": "5a2cf416",
   "metadata": {},
   "outputs": [],
   "source": [
    "import pandas as pd"
   ]
  },
  {
   "cell_type": "code",
   "execution_count": 31,
   "id": "b52e3ade",
   "metadata": {},
   "outputs": [
    {
     "data": {
      "text/plain": [
       "Before Course  Marks  alia     33\n",
       "                      bobby    33\n",
       "                      samer    88\n",
       "AfterCourse    Marks  alia     44\n",
       "                      bobby    66\n",
       "                      samer    24\n",
       "dtype: int64"
      ]
     },
     "execution_count": 31,
     "metadata": {},
     "output_type": "execute_result"
    }
   ],
   "source": [
    "header = pd.MultiIndex.from_product([['Before Course','AfterCourse'],['Marks']])\n",
    "d = ([[33,44],[33,66],[88,24]])\n",
    "mydf = pd.DataFrame(d,index=['alia', 'bobby','samer'],columns = header)\n",
    "mydf\n",
    "mydf.unstack()\n",
    "#mydf.reset_index()\n",
    "#mydf.stack().unstack()\n",
    "\n",
    "#mydf.stack(level=0)"
   ]
  },
  {
   "cell_type": "code",
   "execution_count": 32,
   "id": "2eb63322",
   "metadata": {},
   "outputs": [
    {
     "name": "stdout",
     "output_type": "stream",
     "text": [
      "              Marks      \n",
      "              Alisa Bobby\n",
      "After Course     95    89\n",
      "Before Course    82    78\n"
     ]
    }
   ],
   "source": [
    "header = pd.MultiIndex.from_product([['Before Course','After Course'],['Marks']])\n",
    "d=([[82,95],[78,89]])\n",
    " \n",
    "my_df = pd.DataFrame(d,\n",
    " index=['Alisa','Bobby'],\n",
    " columns=header)\n",
    "\n",
    "print(my_df.stack(level=0).unstack(level=0))"
   ]
  },
  {
   "cell_type": "code",
   "execution_count": 15,
   "id": "96f0d62b",
   "metadata": {},
   "outputs": [
    {
     "data": {
      "text/html": [
       "<div>\n",
       "<style scoped>\n",
       "    .dataframe tbody tr th:only-of-type {\n",
       "        vertical-align: middle;\n",
       "    }\n",
       "\n",
       "    .dataframe tbody tr th {\n",
       "        vertical-align: top;\n",
       "    }\n",
       "\n",
       "    .dataframe thead th {\n",
       "        text-align: right;\n",
       "    }\n",
       "</style>\n",
       "<table border=\"1\" class=\"dataframe\">\n",
       "  <thead>\n",
       "    <tr style=\"text-align: right;\">\n",
       "      <th></th>\n",
       "      <th>0</th>\n",
       "    </tr>\n",
       "  </thead>\n",
       "  <tbody>\n",
       "    <tr>\n",
       "      <th>0</th>\n",
       "      <td>(A, One)</td>\n",
       "    </tr>\n",
       "    <tr>\n",
       "      <th>1</th>\n",
       "      <td>(A, two)</td>\n",
       "    </tr>\n",
       "    <tr>\n",
       "      <th>2</th>\n",
       "      <td>(A, three)</td>\n",
       "    </tr>\n",
       "    <tr>\n",
       "      <th>3</th>\n",
       "      <td>(B, One)</td>\n",
       "    </tr>\n",
       "    <tr>\n",
       "      <th>4</th>\n",
       "      <td>(B, two)</td>\n",
       "    </tr>\n",
       "    <tr>\n",
       "      <th>5</th>\n",
       "      <td>(B, three)</td>\n",
       "    </tr>\n",
       "  </tbody>\n",
       "</table>\n",
       "</div>"
      ],
      "text/plain": [
       "            0\n",
       "0    (A, One)\n",
       "1    (A, two)\n",
       "2  (A, three)\n",
       "3    (B, One)\n",
       "4    (B, two)\n",
       "5  (B, three)"
      ]
     },
     "execution_count": 15,
     "metadata": {},
     "output_type": "execute_result"
    }
   ],
   "source": [
    "header = pd.MultiIndex.from_product([['A','B'],['One','two','three']])\n",
    "pd.DataFrame(header)"
   ]
  }
 ],
 "metadata": {
  "kernelspec": {
   "display_name": "Python 3",
   "language": "python",
   "name": "python3"
  },
  "language_info": {
   "codemirror_mode": {
    "name": "ipython",
    "version": 3
   },
   "file_extension": ".py",
   "mimetype": "text/x-python",
   "name": "python",
   "nbconvert_exporter": "python",
   "pygments_lexer": "ipython3",
   "version": "3.8.8"
  }
 },
 "nbformat": 4,
 "nbformat_minor": 5
}

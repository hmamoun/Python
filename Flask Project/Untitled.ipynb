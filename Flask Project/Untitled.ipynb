{
 "cells": [
  {
   "cell_type": "code",
   "execution_count": 3,
   "id": "2ec8c343",
   "metadata": {},
   "outputs": [
    {
     "name": "stdout",
     "output_type": "stream",
     "text": [
      "Collecting Flask\n",
      "  Using cached Flask-2.0.2-py3-none-any.whl (95 kB)\n",
      "Requirement already satisfied: itsdangerous>=2.0 in c:\\users\\hmamo\\anaconda3\\lib\\site-packages (from Flask) (2.0.1)\n",
      "Requirement already satisfied: click>=7.1.2 in c:\\users\\hmamo\\anaconda3\\lib\\site-packages (from Flask) (8.0.1)\n",
      "Requirement already satisfied: Jinja2>=3.0 in c:\\users\\hmamo\\anaconda3\\lib\\site-packages (from Flask) (3.0.1)\n",
      "Requirement already satisfied: Werkzeug>=2.0 in c:\\users\\hmamo\\anaconda3\\lib\\site-packages (from Flask) (2.0.1)\n",
      "Requirement already satisfied: colorama in c:\\users\\hmamo\\anaconda3\\lib\\site-packages (from click>=7.1.2->Flask) (0.4.4)\n",
      "Requirement already satisfied: MarkupSafe>=2.0 in c:\\users\\hmamo\\anaconda3\\lib\\site-packages (from Jinja2>=3.0->Flask) (2.0.1)\n",
      "Installing collected packages: Flask\n",
      "Successfully installed Flask-2.0.2\n"
     ]
    }
   ],
   "source": [
    "!pip install Flask"
   ]
  },
  {
   "cell_type": "code",
   "execution_count": 13,
   "id": "d16d7b6e",
   "metadata": {
    "scrolled": true
   },
   "outputs": [],
   "source": [
    "import warnings\n",
    "warnings.filterwarnings('ignore') # to get rid of warning messages\n",
    "import datetime\n",
    "from datetime import datetime\n",
    "import calendar\n",
    "import pandas as pd\n",
    "import numpy as np\n",
    "import numpy as np\n",
    "from sklearn import linear_model\n",
    "import matplotlib.pyplot as plt\n",
    "import seaborn as sns"
   ]
  },
  {
   "cell_type": "code",
   "execution_count": 78,
   "id": "f9f96f31",
   "metadata": {},
   "outputs": [],
   "source": [
    "#loading the datacolumns which at least has one value\n",
    "df = pd.read_csv('sales.csv' )\n",
    "df.head()\n",
    "X = ['sales_in_first_month' , 'sales_in_second_month']\n",
    "X= df[X]\n",
    "y = df['sales_in_third_month']\n",
    "model = LinearRegression().fit(X,y) "
   ]
  },
  {
   "cell_type": "code",
   "execution_count": 79,
   "id": "a350c9db",
   "metadata": {},
   "outputs": [
    {
     "data": {
      "text/html": [
       "<div>\n",
       "<style scoped>\n",
       "    .dataframe tbody tr th:only-of-type {\n",
       "        vertical-align: middle;\n",
       "    }\n",
       "\n",
       "    .dataframe tbody tr th {\n",
       "        vertical-align: top;\n",
       "    }\n",
       "\n",
       "    .dataframe thead th {\n",
       "        text-align: right;\n",
       "    }\n",
       "</style>\n",
       "<table border=\"1\" class=\"dataframe\">\n",
       "  <thead>\n",
       "    <tr style=\"text-align: right;\">\n",
       "      <th></th>\n",
       "      <th>sales_in_first_month</th>\n",
       "      <th>sales_in_second_month</th>\n",
       "      <th>Prediction</th>\n",
       "    </tr>\n",
       "  </thead>\n",
       "  <tbody>\n",
       "    <tr>\n",
       "      <th>0</th>\n",
       "      <td>2</td>\n",
       "      <td>500</td>\n",
       "      <td>363.107445</td>\n",
       "    </tr>\n",
       "    <tr>\n",
       "      <th>1</th>\n",
       "      <td>4</td>\n",
       "      <td>300</td>\n",
       "      <td>650.820443</td>\n",
       "    </tr>\n",
       "    <tr>\n",
       "      <th>2</th>\n",
       "      <td>600</td>\n",
       "      <td>200</td>\n",
       "      <td>549.749882</td>\n",
       "    </tr>\n",
       "    <tr>\n",
       "      <th>3</th>\n",
       "      <td>450</td>\n",
       "      <td>320</td>\n",
       "      <td>438.374430</td>\n",
       "    </tr>\n",
       "    <tr>\n",
       "      <th>4</th>\n",
       "      <td>600</td>\n",
       "      <td>250</td>\n",
       "      <td>477.615812</td>\n",
       "    </tr>\n",
       "    <tr>\n",
       "      <th>5</th>\n",
       "      <td>550</td>\n",
       "      <td>200</td>\n",
       "      <td>570.331988</td>\n",
       "    </tr>\n",
       "  </tbody>\n",
       "</table>\n",
       "</div>"
      ],
      "text/plain": [
       "   sales_in_first_month  sales_in_second_month  Prediction\n",
       "0                     2                    500  363.107445\n",
       "1                     4                    300  650.820443\n",
       "2                   600                    200  549.749882\n",
       "3                   450                    320  438.374430\n",
       "4                   600                    250  477.615812\n",
       "5                   550                    200  570.331988"
      ]
     },
     "execution_count": 79,
     "metadata": {},
     "output_type": "execute_result"
    }
   ],
   "source": [
    "x = [0,3,0]\n",
    "x = pd.DataFrame(x , index=None)\n",
    "x = x.reset_index()\n",
    "x = x.head(1)\n",
    "x.columns =  ['sales_in_first_month' , 'sales_in_second_month']\n",
    "\n",
    "#X['actual'] = df['sales_in_third_month']\n",
    "X['Prediction'] = model.predict(X)\n",
    "X\n"
   ]
  }
 ],
 "metadata": {
  "kernelspec": {
   "display_name": "Python 3 (ipykernel)",
   "language": "python",
   "name": "python3"
  },
  "language_info": {
   "codemirror_mode": {
    "name": "ipython",
    "version": 3
   },
   "file_extension": ".py",
   "mimetype": "text/x-python",
   "name": "python",
   "nbconvert_exporter": "python",
   "pygments_lexer": "ipython3",
   "version": "3.8.8"
  }
 },
 "nbformat": 4,
 "nbformat_minor": 5
}

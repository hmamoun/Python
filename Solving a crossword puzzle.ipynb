{
 "cells": [
  {
   "cell_type": "code",
   "execution_count": 171,
   "id": "153e0bde",
   "metadata": {},
   "outputs": [
    {
     "name": "stdout",
     "output_type": "stream",
     "text": [
      "Match at  4 0\n",
      "Match at  4 1\n"
     ]
    }
   ],
   "source": [
    "grid = ['abc3','cde2','aab1','aab3'];\n",
    "word = 'ac'\n",
    "\n",
    "\n",
    "\n",
    "grid= ['GEEKSFORGEEKS', \n",
    "       'GEEKSgORGEEKS', \n",
    "       'GEEKSFORGEEKS',\n",
    "       'GEEKSFORGEEKS']; \n",
    "\n",
    "word = 'SgOR'\n",
    "word = 'ROgS'\n",
    "\n",
    "\n",
    "solveCWPuzzle(grid,word)\n"
   ]
  },
  {
   "cell_type": "code",
   "execution_count": 172,
   "id": "051e01c4",
   "metadata": {},
   "outputs": [],
   "source": [
    "def solveCWPuzzle(grid , word):\n",
    "    height = len(grid)\n",
    "    width = len(grid[0])\n",
    "    wlen = len(word) \n",
    "    ret = []    \n",
    "#    try:\n",
    "    for x in range(width):\n",
    "\n",
    "        for y in range (height):\n",
    "\n",
    "            word1 , word2,word3,word4= '','','',''\n",
    "            for n in range(wlen):\n",
    "                #print('x',x,'y',y , 'n',n)\n",
    "                if y+n+1<= height:\n",
    "                    word1+=grid[y+n][x]\n",
    "                if x+n+1 <= width:\n",
    "                     word2+=grid[y][x+n]\n",
    "                if x+n +1<=width and y+n +1<= height:\n",
    "                     word3+=grid[y+n][x+n]\n",
    "                if x-n>=0 and y-n>=0:\n",
    "                     word4+=grid[y-n][x-n]\n",
    "            if word in (word1 , word2) or rev(word) in (word1, word2,word3,word4):\n",
    "                print('Match at ' , x, y)\n",
    "\n",
    "\n",
    "        #return height , width , wlen\n",
    "#    finally:\n",
    "#        print (x,y,n)\n",
    "def rev(s):\n",
    "    stringlength=len(s) # calculate length of the list\n",
    "    slicedString=s[stringlength::-1] # slicing \n",
    "    return slicedString # print the reversed string"
   ]
  },
  {
   "cell_type": "code",
   "execution_count": 138,
   "id": "e5f610ec",
   "metadata": {
    "scrolled": true
   },
   "outputs": [
    {
     "data": {
      "text/plain": [
       "[[1, 0, 0], [1, 1, 2]]"
      ]
     },
     "execution_count": 138,
     "metadata": {},
     "output_type": "execute_result"
    }
   ],
   "source": [
    "grid = ['abc','cde','aab'];\n",
    "word = 'ab'\n",
    "solveCWPuzzle(grid,word)"
   ]
  },
  {
   "cell_type": "code",
   "execution_count": null,
   "id": "c3f7c357",
   "metadata": {},
   "outputs": [],
   "source": []
  }
 ],
 "metadata": {
  "kernelspec": {
   "display_name": "Python 3 (ipykernel)",
   "language": "python",
   "name": "python3"
  },
  "language_info": {
   "codemirror_mode": {
    "name": "ipython",
    "version": 3
   },
   "file_extension": ".py",
   "mimetype": "text/x-python",
   "name": "python",
   "nbconvert_exporter": "python",
   "pygments_lexer": "ipython3",
   "version": "3.8.8"
  }
 },
 "nbformat": 4,
 "nbformat_minor": 5
}

{
 "cells": [
  {
   "cell_type": "code",
   "execution_count": 866,
   "id": "3443cc99",
   "metadata": {},
   "outputs": [],
   "source": [
    "class Category:\n",
    "  name = \"\"\n",
    "  def __init__(self , nam):\n",
    "      self.name = nam\n",
    "      self.ledger  = list()\n",
    "  def deposit(self , amount , description=\"\"):\n",
    "      #newEntry = {\"amount\":\"{:.2f}\".format(amount/1) , \"description\":description}\n",
    "      if amount<0:\n",
    "        amount = amount * -1\n",
    "      newEntry = {\"amount\":amount/1 , \"description\":description}\n",
    "      self.ledger.append( newEntry)\n",
    "  def withdraw(self , amount , description=''):\n",
    "      if amount>0:\n",
    "            amount=-1* amount\n",
    "      if amount *-1 > self.get_balance():\n",
    "          return False\n",
    "      else:\n",
    "          newEntry = {\"amount\":(amount) , \"description\":description}\n",
    "          self.ledger.append( newEntry)\n",
    "          return True\n",
    "  def get_balance(self):\n",
    "      bal = 0.0\n",
    "      for x in self.ledger:\n",
    "          bal+=x[\"amount\"] \n",
    "      return bal\n",
    "  def transfer(self , amount,OtherCat):\n",
    "      ret = False\n",
    "      if amount > 0: \n",
    "        amount = amount * -1\n",
    "      if (self.withdraw(amount , \"Transfer to \" + OtherCat.name )):\n",
    "          OtherCat.deposit(amount , \"Transfer from \" + self.name)\n",
    "          ret = True\n",
    "      return ret\n",
    "  def check_funds(self , amount):\n",
    "    ret = True\n",
    "    if amount > self.get_balance():\n",
    "      ret = False\n",
    "    return ret\n",
    "  def __str__(self):\n",
    "      ret = int((30 - len(self.name)) /2) * '*'\n",
    "      ret = ret + self.name + ret + '\\n'\n",
    "      tot=0.0\n",
    "      for itms in self.ledger:\n",
    "          zdes , zamnt= itms[\"description\"][0:23] , str(\n",
    "            \n",
    "            \"{:.2f}\".format(itms[\"amount\"])\n",
    "            \n",
    "            )[0:7]\n",
    "          #\"{:.2f}\".format(amount/1) \n",
    "          ret +=zdes+ (23 - len(zdes)) * ' ' \n",
    "          ret += (7 - len(str(zamnt))) * ' ' + str(zamnt) +'\\n' \n",
    "          tot +=  itms[\"amount\"]\n",
    "      ret +='Total: ' + str(tot)\n",
    "      return ret    \n",
    "def create_spend_chart(cats):\n",
    "  chart = dict()\n",
    "  grandtotal = 0\n",
    "  output = \"\"\n",
    "#knowing the MAX length of category name\n",
    "  for cat in cats:\n",
    "      totalxp  =0\n",
    "      for sp in cat.ledger:\n",
    "          if sp[\"amount\"]*-1 > 0: \n",
    "              totalxp+=sp[\"amount\"]\n",
    "      chart[cat.name] =  totalxp\n",
    "      grandtotal+=totalxp\n",
    "      totalxp  =0            \n",
    "  maxheight=0        \n",
    "  for cat in cats:\n",
    "      if len(cat.name) > maxheight:\n",
    "          maxheight = len(cat.name)\n",
    "      chart[cat.name] = int(chart[cat.name]/grandtotal*100)\n",
    "#drawing the chart\n",
    "  for x in range(11):\n",
    "      step =(10-x)*10\n",
    "      output += (3-len(str(step)))*' '+str(step) +'|'  \n",
    "      for cat in cats:\n",
    "            if (int(chart[cat.name]) ) >= step:\n",
    "                output += ' o ' \n",
    "            else:\n",
    "                output +='   ' \n",
    "\n",
    "      output +=' \\n'\n",
    "  output+='    ' + (3 * len(cats)) * '-' + '- \\n'\n",
    "#writing names vertically  \n",
    "  for x in range (1,maxheight+1):\n",
    "      output +='     '\n",
    "      for cat in cats:\n",
    "          if x < len(cat.name)+1:\n",
    "              output +=cat.name [x-1] + '  '\n",
    "          else: \n",
    "              output +='   '\n",
    "      output +='\\n'\n",
    "  #print(output)\n",
    "\n",
    "  return 'Percentage spent by category\\n' + output  "
   ]
  },
  {
   "cell_type": "code",
   "execution_count": 865,
   "id": "fecc7690",
   "metadata": {},
   "outputs": [
    {
     "ename": "AttributeError",
     "evalue": "'int' object has no attribute 'name'",
     "output_type": "error",
     "traceback": [
      "\u001b[1;31m---------------------------------------------------------------------------\u001b[0m",
      "\u001b[1;31mAttributeError\u001b[0m                            Traceback (most recent call last)",
      "\u001b[1;32m<ipython-input-865-69bc29cc49e8>\u001b[0m in \u001b[0;36m<module>\u001b[1;34m\u001b[0m\n\u001b[0;32m      3\u001b[0m \u001b[0mfood\u001b[0m\u001b[1;33m.\u001b[0m\u001b[0mdeposit\u001b[0m\u001b[1;33m(\u001b[0m\u001b[1;36m900\u001b[0m\u001b[1;33m,\u001b[0m \u001b[1;34m\"deposit\"\u001b[0m\u001b[1;33m)\u001b[0m\u001b[1;33m\u001b[0m\u001b[1;33m\u001b[0m\u001b[0m\n\u001b[0;32m      4\u001b[0m \u001b[0mfood\u001b[0m\u001b[1;33m.\u001b[0m\u001b[0mwithdraw\u001b[0m\u001b[1;33m(\u001b[0m\u001b[1;36m45.67\u001b[0m\u001b[1;33m,\u001b[0m \u001b[1;34m\"milk, cereal, eggs, bacon, bread\"\u001b[0m\u001b[1;33m)\u001b[0m\u001b[1;33m\u001b[0m\u001b[1;33m\u001b[0m\u001b[0m\n\u001b[1;32m----> 5\u001b[1;33m \u001b[0mfood\u001b[0m\u001b[1;33m.\u001b[0m\u001b[0mtransfer\u001b[0m\u001b[1;33m(\u001b[0m\u001b[1;36m20\u001b[0m\u001b[1;33m,\u001b[0m \u001b[0mentertainment\u001b[0m\u001b[1;33m)\u001b[0m\u001b[1;33m\u001b[0m\u001b[1;33m\u001b[0m\u001b[0m\n\u001b[0m\u001b[0;32m      6\u001b[0m \u001b[0mactual\u001b[0m \u001b[1;33m=\u001b[0m \u001b[0mstr\u001b[0m\u001b[1;33m(\u001b[0m\u001b[0mfood\u001b[0m\u001b[1;33m)\u001b[0m\u001b[1;33m\u001b[0m\u001b[1;33m\u001b[0m\u001b[0m\n\u001b[0;32m      7\u001b[0m \u001b[0mexpected\u001b[0m \u001b[1;33m=\u001b[0m \u001b[1;34mf\"*************Food*************\\ndeposit                 900.00\\nmilk, cereal, eggs, bac -45.67\\nTransfer to Entertainme -20.00\\nTotal: 834.33\"\u001b[0m\u001b[1;33m\u001b[0m\u001b[1;33m\u001b[0m\u001b[0m\n",
      "\u001b[1;32m<ipython-input-607-f19adbe34199>\u001b[0m in \u001b[0;36mtransfer\u001b[1;34m(self, OtherCat, amount)\u001b[0m\n\u001b[0;32m     22\u001b[0m     \u001b[1;32mdef\u001b[0m \u001b[0mtransfer\u001b[0m\u001b[1;33m(\u001b[0m\u001b[0mself\u001b[0m \u001b[1;33m,\u001b[0m \u001b[0mOtherCat\u001b[0m \u001b[1;33m,\u001b[0m \u001b[0mamount\u001b[0m\u001b[1;33m)\u001b[0m\u001b[1;33m:\u001b[0m\u001b[1;33m\u001b[0m\u001b[1;33m\u001b[0m\u001b[0m\n\u001b[0;32m     23\u001b[0m         \u001b[0mret\u001b[0m \u001b[1;33m=\u001b[0m \u001b[1;32mFalse\u001b[0m\u001b[1;33m\u001b[0m\u001b[1;33m\u001b[0m\u001b[0m\n\u001b[1;32m---> 24\u001b[1;33m         \u001b[1;32mif\u001b[0m \u001b[1;33m(\u001b[0m\u001b[0mself\u001b[0m\u001b[1;33m.\u001b[0m\u001b[0mdeposit\u001b[0m\u001b[1;33m(\u001b[0m\u001b[0mamount\u001b[0m \u001b[1;33m,\u001b[0m \u001b[1;34m\"Transfer to \"\u001b[0m \u001b[1;33m+\u001b[0m \u001b[0mOtherCat\u001b[0m\u001b[1;33m.\u001b[0m\u001b[0mname\u001b[0m\u001b[1;33m)\u001b[0m\u001b[1;33m)\u001b[0m\u001b[1;33m:\u001b[0m\u001b[1;33m\u001b[0m\u001b[1;33m\u001b[0m\u001b[0m\n\u001b[0m\u001b[0;32m     25\u001b[0m             \u001b[0mOtherCat\u001b[0m\u001b[1;33m.\u001b[0m\u001b[0mwithdraw\u001b[0m\u001b[1;33m(\u001b[0m\u001b[0mamount\u001b[0m \u001b[1;33m,\u001b[0m \u001b[1;34m\"Transfer from \"\u001b[0m \u001b[1;33m+\u001b[0m \u001b[0mself\u001b[0m\u001b[1;33m.\u001b[0m\u001b[0mname\u001b[0m\u001b[1;33m)\u001b[0m\u001b[1;33m\u001b[0m\u001b[1;33m\u001b[0m\u001b[0m\n\u001b[0;32m     26\u001b[0m             \u001b[0mret\u001b[0m \u001b[1;33m=\u001b[0m \u001b[1;32mTrue\u001b[0m\u001b[1;33m\u001b[0m\u001b[1;33m\u001b[0m\u001b[0m\n",
      "\u001b[1;31mAttributeError\u001b[0m: 'int' object has no attribute 'name'"
     ]
    }
   ],
   "source": [
    "entertainment = category(\"Entertainment\")\n",
    "food = category(\"Food\")    \n",
    "food.deposit(900, \"deposit\")\n",
    "food.withdraw(45.67, \"milk, cereal, eggs, bacon, bread\")\n",
    "food.transfer(20, entertainment)\n",
    "actual = str(food)\n",
    "expected = f\"*************Food*************\\ndeposit                 900.00\\nmilk, cereal, eggs, bac -45.67\\nTransfer to Entertainme -20.00\\nTotal: 834.33\""
   ]
  },
  {
   "cell_type": "code",
   "execution_count": 829,
   "id": "e4ce9ee3",
   "metadata": {},
   "outputs": [
    {
     "data": {
      "text/plain": [
       "10.0"
      ]
     },
     "execution_count": 829,
     "metadata": {},
     "output_type": "execute_result"
    }
   ],
   "source": [
    "10/1"
   ]
  }
 ],
 "metadata": {
  "kernelspec": {
   "display_name": "Python 3",
   "language": "python",
   "name": "python3"
  },
  "language_info": {
   "codemirror_mode": {
    "name": "ipython",
    "version": 3
   },
   "file_extension": ".py",
   "mimetype": "text/x-python",
   "name": "python",
   "nbconvert_exporter": "python",
   "pygments_lexer": "ipython3",
   "version": "3.8.8"
  }
 },
 "nbformat": 4,
 "nbformat_minor": 5
}

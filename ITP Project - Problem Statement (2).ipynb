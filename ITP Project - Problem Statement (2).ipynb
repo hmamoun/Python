{
 "cells": [
  {
   "cell_type": "markdown",
   "metadata": {},
   "source": [
    "# ITP Mini Project "
   ]
  },
  {
   "cell_type": "markdown",
   "metadata": {},
   "source": [
    "We all have to maintain our own personal expenses in day to day life. It’s very normal for us to lose track of them and end up going out of budget. We require a way to keep ourself in within budget.\n",
    "\n",
    "This is where we can explore our skills in Python to come up with a solution. We can create a python program that allows you to keep track of the finance expenses.\n",
    "\n",
    "With the Finance Tracker, users can easily set a budget and add up their expenses to make better financial decisions. Anything beyond the budget will not be added up.\n",
    "\n",
    "**Objective:**To Estimate the Personal Financial Budget at the End of the Month."
   ]
  },
  {
   "cell_type": "code",
   "execution_count": null,
   "metadata": {},
   "outputs": [],
   "source": [
    "# Write the Code here:-\n"
   ]
  }
 ],
 "metadata": {
  "kernelspec": {
   "display_name": "Python 3",
   "language": "python",
   "name": "python3"
  },
  "language_info": {
   "codemirror_mode": {
    "name": "ipython",
    "version": 3
   },
   "file_extension": ".py",
   "mimetype": "text/x-python",
   "name": "python",
   "nbconvert_exporter": "python",
   "pygments_lexer": "ipython3",
   "version": "3.7.3"
  }
 },
 "nbformat": 4,
 "nbformat_minor": 2
}

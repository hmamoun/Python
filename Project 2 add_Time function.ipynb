{
 "cells": [
  {
   "cell_type": "code",
   "execution_count": 150,
   "id": "edf3fb8b",
   "metadata": {},
   "outputs": [
    {
     "name": "stdout",
     "output_type": "stream",
     "text": [
      "2:60 AM, Sunday (next day)\n",
      "2:59 AM, Sunday (next day)\n"
     ]
    }
   ],
   "source": [
    "def moveIndex(interval,current,addition):\n",
    "    theList = []\n",
    "    if interval == \"d\":\n",
    "        current = current.lower()\n",
    "        theList = [\"sunday\", \"monday\", \"tuesday\", \"wednesday\", \"thursday\", \"friday\", \"saturday\"]\n",
    "    elif interval == \"h\":\n",
    "        theList = ['12 AM',\"1 AM\" , \"2 AM\",'3 AM','4 AM','5 AM','6 AM','7 AM','8 AM','9 AM','10 AM','11 AM','12 PM',\"1 PM\" , \"2 PM\",'3 PM','4 PM','5 PM','6 PM','7 PM','8 PM','9 PM','10 PM','11 PM']\n",
    "    elif interval == \"m\":\n",
    "        theList = range(0,61)\n",
    "\n",
    "    \n",
    "    reminder = (theList.index(current) + int(addition) ) // len(theList)\n",
    "    if interval ==\"m\" and reminder > 0:\n",
    "        newIndex = (theList.index(current) + int(addition) ) % len(theList) + 1\n",
    "    else:\n",
    "        newIndex = (theList.index(current) + int(addition) ) % len(theList)\n",
    "    return theList[newIndex] , reminder\n",
    "\n",
    "def add_time(starting, duration, day=\"\"):\n",
    "    sh = starting.split(':')[0]\n",
    "    sm = starting.split(':')[1].split()[0]\n",
    "    ampm = starting.split(':')[1].split()[1]\n",
    "    dh = duration.split(':')[0]\n",
    "    dm = duration.split(':')[1]\n",
    "\n",
    "    newM , r = moveIndex(\"m\",int(sm), int(dm))\n",
    "    newH , r = moveIndex(\"h\",sh + ' ' + ampm , int(dh) + r)\n",
    "\n",
    "    newD = day\n",
    "    if day == \"\" and r > 1:\n",
    "        #print(1)\n",
    "        newD = ' (' + str(r) + ' days later)'\n",
    "    if day == \"\" and r == 1:        \n",
    "        #print(2)\n",
    "        newD , r = moveIndex('d', day , r) \n",
    "        newD  += \" (next day)\"\n",
    "    if day != \"\" and r==1:\n",
    "        #print(3)\n",
    "        newD , r = moveIndex('d', day , r) \n",
    "        newD  = newD.title() + \" (next day)\"\n",
    "    elif day !=\"\" and r>1:\n",
    "        #print(4)\n",
    "        r1 = r\n",
    "        newD , r = moveIndex('d', day , r) \n",
    "        newD = newD.title() + ' (' + str(r1) + ' days later)'\n",
    "    elif day !=\"\" and r>0:\n",
    "        #print(5)\n",
    "        newD , r = moveIndex('d', day , r) \n",
    "    #else:\n",
    "        #newD = \"\"\n",
    "    if newM<10:\n",
    "        newM = '0' + str(newM)\n",
    "    if day != \"\":\n",
    "        newD = ', ' + newD\n",
    "    newT = newH.split()[0] +\":\" + str(newM) +' ' +newH.split()[1] +  newD\n",
    "    return newT\n",
    "\n",
    "actual = add_time(\"2:59 AM\", \"24:01\", \"saturDay\")\n",
    "expected = \"2:59 AM, Sunday (next day)\"\n",
    "\n",
    "print(actual)\n",
    "print (expected)\n"
   ]
  }
 ],
 "metadata": {
  "kernelspec": {
   "display_name": "Python 3",
   "language": "python",
   "name": "python3"
  },
  "language_info": {
   "codemirror_mode": {
    "name": "ipython",
    "version": 3
   },
   "file_extension": ".py",
   "mimetype": "text/x-python",
   "name": "python",
   "nbconvert_exporter": "python",
   "pygments_lexer": "ipython3",
   "version": "3.8.8"
  }
 },
 "nbformat": 4,
 "nbformat_minor": 5
}

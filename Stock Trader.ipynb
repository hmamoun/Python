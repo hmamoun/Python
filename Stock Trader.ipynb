{
 "cells": [
  {
   "cell_type": "code",
   "execution_count": 23,
   "id": "37d13527",
   "metadata": {},
   "outputs": [],
   "source": [
    "# seed the pseudorandom number generator\n",
    "from random import seed\n",
    "import random as rand\n",
    "import numpy as np\n",
    "import seaborn as sns\n",
    "import pandas as pd\n",
    "import pandas_datareader as web\n",
    "import matplotlib as pyplot\n",
    "import tensorflow\n",
    "import sklearn\n",
    "import datetime as dt\n",
    "from sklearn.preprocessing import MinMaxScaler\n",
    "\n",
    "# seed random number generator\n",
    "seed(1)\n",
    "\n",
    "\n"
   ]
  },
  {
   "cell_type": "code",
   "execution_count": 7,
   "id": "4c000d21",
   "metadata": {},
   "outputs": [
    {
     "data": {
      "text/html": [
       "<div>\n",
       "<style scoped>\n",
       "    .dataframe tbody tr th:only-of-type {\n",
       "        vertical-align: middle;\n",
       "    }\n",
       "\n",
       "    .dataframe tbody tr th {\n",
       "        vertical-align: top;\n",
       "    }\n",
       "\n",
       "    .dataframe thead th {\n",
       "        text-align: right;\n",
       "    }\n",
       "</style>\n",
       "<table border=\"1\" class=\"dataframe\">\n",
       "  <thead>\n",
       "    <tr style=\"text-align: right;\">\n",
       "      <th></th>\n",
       "      <th>name</th>\n",
       "      <th>sec</th>\n",
       "      <th>price</th>\n",
       "    </tr>\n",
       "  </thead>\n",
       "  <tbody>\n",
       "  </tbody>\n",
       "</table>\n",
       "</div>"
      ],
      "text/plain": [
       "Empty DataFrame\n",
       "Columns: [name, sec, price]\n",
       "Index: []"
      ]
     },
     "execution_count": 7,
     "metadata": {},
     "output_type": "execute_result"
    }
   ],
   "source": [
    "prices = []\n",
    "\n",
    "prices = pd.DataFrame(prices,columns  = ['name', 'sec' , 'price'])\n",
    "prices.columns\n",
    "prices.head()"
   ]
  },
  {
   "cell_type": "code",
   "execution_count": 6,
   "id": "fcd36d3d",
   "metadata": {},
   "outputs": [],
   "source": [
    "def getNextPrice(cur , prices):\n",
    "    if prices[prices['name']==cur]['name'].count() ==0:\n",
    "        lastPrc = rand.random()*int(rand.random()*10)+1\n",
    "        prices = prices.append({\"name\":cur,\"sec\":1,\"price\":lastPrc},ignore_index=True)\n",
    "    else:\n",
    "        lastSec = prices[prices['name']==cur]['sec'].max()+1\n",
    "        lastPrc = prices[(prices['name']==cur) & (prices['sec']==lastSec-1)]['price']+(rand.randrange(-1,4)/10)\n",
    "        x=pd.DataFrame({\"name\":cur,\"sec\":lastSec,\"price\":lastPrc})\n",
    "        prices = prices.append(x,ignore_index=True)\n",
    "    \n",
    "    return prices ,lastPrc\n",
    "    "
   ]
  },
  {
   "cell_type": "code",
   "execution_count": 24,
   "id": "dcfef479",
   "metadata": {
    "scrolled": true
   },
   "outputs": [
    {
     "data": {
      "text/plain": [
       "<AxesSubplot:xlabel='sec', ylabel='price'>"
      ]
     },
     "execution_count": 24,
     "metadata": {},
     "output_type": "execute_result"
    },
    {
     "data": {
      "image/png": "[encoded data removed]",
      "text/plain": [
       "<Figure size 432x288 with 1 Axes>"
      ]
     },
     "metadata": {
      "needs_background": "light"
     },
     "output_type": "display_data"
    }
   ],
   "source": [
    "for x in range(1,3000):\n",
    "    prices , lastprc = getNextPrice('btc',prices)\n",
    "    prices , lastprc = getNextPrice('eth',prices)\n",
    "    prices , lastprc = getNextPrice('otr',prices)\n",
    "    \n",
    "#print(lastprc)\n"
   ]
  },
  {
   "cell_type": "code",
   "execution_count": null,
   "id": "67819be0",
   "metadata": {},
   "outputs": [],
   "source": [
    "sns.scatterplot(data=prices, x=\"sec\", y=\"price\" , hue=\"name\")"
   ]
  }
 ],
 "metadata": {
  "kernelspec": {
   "display_name": "Python 3 (ipykernel)",
   "language": "python",
   "name": "python3"
  },
  "language_info": {
   "codemirror_mode": {
    "name": "ipython",
    "version": 3
   },
   "file_extension": ".py",
   "mimetype": "text/x-python",
   "name": "python",
   "nbconvert_exporter": "python",
   "pygments_lexer": "ipython3",
   "version": "3.8.8"
  }
 },
 "nbformat": 4,
 "nbformat_minor": 5
}

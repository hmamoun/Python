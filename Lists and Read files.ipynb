{
 "cells": [
  {
   "cell_type": "code",
   "execution_count": 21,
   "id": "a0a31ccf",
   "metadata": {},
   "outputs": [
    {
     "name": "stdout",
     "output_type": "stream",
     "text": [
      "Before: None\n",
      "Loop: 1333 1333\n",
      "Loop: 3 3\n",
      "Loop: 41 3\n",
      "Loop: 12 3\n",
      "Loop: 9 3\n",
      "Loop: 74 3\n",
      "Loop: 15 3\n",
      "Smallest: 3\n"
     ]
    }
   ],
   "source": [
    "smallest = None\n",
    "print(\"Before:\", smallest)\n",
    "for itervar in [1333,3, 41, 12, 9, 74, 15]:\n",
    "    if smallest is None or itervar < smallest:\n",
    "        smallest = itervar\n",
    "        #break\n",
    "    print(\"Loop:\", itervar, smallest)\n",
    "print(\"Smallest:\", smallest)"
   ]
  },
  {
   "cell_type": "code",
   "execution_count": 24,
   "id": "839793c0",
   "metadata": {},
   "outputs": [
    {
     "name": "stdout",
     "output_type": "stream",
     "text": [
      "<_io.TextIOWrapper name='c:\\\\backup\\\\a.jpg' mode='r' encoding='cp1252'>\n"
     ]
    }
   ],
   "source": [
    "fhand = open('c:\\\\backup\\\\a.jpg')\n",
    "print(fhand)"
   ]
  },
  {
   "cell_type": "code",
   "execution_count": 12,
   "id": "446a25a8",
   "metadata": {},
   "outputs": [
    {
     "name": "stdout",
     "output_type": "stream",
     "text": [
      "[3, 12, 74]\n"
     ]
    }
   ],
   "source": [
    "a = [1333,3, 41, 12, 9, 74, 15]\n",
    "pos = 0\n",
    "for x in a:\n",
    "    if x %2 != 0:\n",
    "        a.pop(pos)\n",
    "    pos+=1\n",
    "print(a)"
   ]
  },
  {
   "cell_type": "code",
   "execution_count": 36,
   "id": "99d1955a",
   "metadata": {},
   "outputs": [
    {
     "name": "stdout",
     "output_type": "stream",
     "text": [
      "25219 2\n"
     ]
    }
   ],
   "source": [
    "xfile = open('c:\\\\backup\\\\proj.txt')\n",
    "#xfile = open('c:\\\\backup\\\\a.jpg')\n",
    "alllines = 0\n",
    "withcat = 0\n",
    "for x in xfile:\n",
    "    alllines +=1\n",
    "    if x.find('@CategoryCode') >-1:\n",
    "        withcat+=1\n",
    "print (alllines,withcat)        "
   ]
  },
  {
   "cell_type": "code",
   "execution_count": 48,
   "id": "64488c0c",
   "metadata": {},
   "outputs": [
    {
     "name": "stdout",
     "output_type": "stream",
     "text": [
      "31674\n",
      "8\n"
     ]
    }
   ],
   "source": [
    "xfile = open('c:\\\\backup\\\\proj.txt')\n",
    "inp = xfile.read()\n",
    "words = dict()\n",
    "for a in inp.split():\n",
    "    if a in words:\n",
    "        words[a]+=1\n",
    "    else:\n",
    "        words[a] = 1\n",
    "print(len(words))\n",
    "print(words['@CategoryCode'])"
   ]
  },
  {
   "cell_type": "code",
   "execution_count": 50,
   "id": "910de595",
   "metadata": {},
   "outputs": [
    {
     "name": "stdout",
     "output_type": "stream",
     "text": [
      "31674\n",
      "8\n"
     ]
    }
   ],
   "source": [
    "xfile = open('c:\\\\backup\\\\proj.txt')\n",
    "inp = xfile.read()\n",
    "words = dict()\n",
    "for a in inp.split():\n",
    "    words[a] = words.get(a,0)+ 1\n",
    "print(len(words))\n",
    "print(words['@CategoryCode'])"
   ]
  },
  {
   "cell_type": "code",
   "execution_count": 60,
   "id": "6f38325c",
   "metadata": {},
   "outputs": [
    {
     "name": "stdout",
     "output_type": "stream",
     "text": [
      "fred 4\n"
     ]
    }
   ],
   "source": [
    "y = [2,1,-50,8]\n",
    "y.sort()\n",
    "y\n",
    "x = (1,2)\n",
    "(y,x) = (4,'fred')\n",
    "print(x,y)"
   ]
  },
  {
   "cell_type": "code",
   "execution_count": null,
   "id": "4e83f4e0",
   "metadata": {},
   "outputs": [],
   "source": []
  },
  {
   "cell_type": "code",
   "execution_count": 62,
   "id": "6947b558",
   "metadata": {},
   "outputs": [
    {
     "name": "stdout",
     "output_type": "stream",
     "text": [
      "csev 2\n",
      "cwen 6\n"
     ]
    }
   ],
   "source": [
    "d = dict()\n",
    "d['csev'] =2\n",
    "d['cwen']=6\n",
    "for (k,v)in d.items():\n",
    "    print (k,v)"
   ]
  },
  {
   "cell_type": "code",
   "execution_count": 80,
   "id": "fb50b871",
   "metadata": {
    "scrolled": true
   },
   "outputs": [
    {
     "name": "stdout",
     "output_type": "stream",
     "text": [
      "dict_items([('a', 10), ('c', 1000000000000000000001), ('b', 99999922)])\n"
     ]
    },
    {
     "data": {
      "text/plain": [
       "[('a', 10), ('b', 99999922), ('c', 1000000000000000000001)]"
      ]
     },
     "execution_count": 80,
     "metadata": {},
     "output_type": "execute_result"
    }
   ],
   "source": [
    "d = {'a':10,'c': 1000000000000000000001, 'b':99999922}\n",
    "print(d.items())\n",
    "sorted(d.items())"
   ]
  },
  {
   "cell_type": "code",
   "execution_count": 81,
   "id": "e443cab3",
   "metadata": {},
   "outputs": [
    {
     "name": "stdout",
     "output_type": "stream",
     "text": [
      "[(1000000000000000000001, 'c'), (99999922, 'b'), (10, 'a')]\n"
     ]
    }
   ],
   "source": [
    "tmp = list()\n",
    "for k,v in sorted(d.items()):\n",
    "    #print(k,v)\n",
    "    tmp.append((v,k))\n",
    "tmp = sorted(tmp,reverse =True)\n",
    "print(tmp)"
   ]
  },
  {
   "cell_type": "code",
   "execution_count": 83,
   "id": "e7fef6a2",
   "metadata": {
    "scrolled": true
   },
   "outputs": [
    {
     "name": "stdout",
     "output_type": "stream",
     "text": [
      "[(10, 'a'), (99999922, 'b'), (1000000000000000000001, 'c')]\n"
     ]
    }
   ],
   "source": [
    "print(sorted([(v,k) for k,v in d.items()]))"
   ]
  },
  {
   "cell_type": "code",
   "execution_count": 127,
   "id": "1dc5f995",
   "metadata": {},
   "outputs": [
    {
     "name": "stdout",
     "output_type": "stream",
     "text": [
      "From: stephen.marquard@uct.ac.za\n",
      "From: louis@media.berkeley.edu\n",
      "From: zqian@umich.edu\n",
      "From: rjlowe@iupui.edu\n",
      "From: zqian@umich.edu\n",
      "From: rjlowe@iupui.edu\n",
      "From: cwen@iupui.edu\n",
      "From: cwen@iupui.edu\n",
      "From: gsilver@umich.edu\n",
      "From: gsilver@umich.edu\n",
      "From: zqian@umich.edu\n",
      "From: gsilver@umich.edu\n",
      "From: wagnermr@iupui.edu\n",
      "From: zqian@umich.edu\n",
      "From: antranig@caret.cam.ac.uk\n",
      "From: gopal.ramasammycook@gmail.com\n",
      "From: david.horwitz@uct.ac.za\n",
      "From: david.horwitz@uct.ac.za\n",
      "From: david.horwitz@uct.ac.za\n",
      "From: david.horwitz@uct.ac.za\n",
      "From: stephen.marquard@uct.ac.za\n",
      "From: louis@media.berkeley.edu\n",
      "From: louis@media.berkeley.edu\n",
      "From: ray@media.berkeley.edu\n",
      "From: cwen@iupui.edu\n",
      "From: cwen@iupui.edu\n",
      "From: cwen@iupui.edu\n"
     ]
    }
   ],
   "source": [
    "import re\n",
    "xfile = open('c:\\\\backup\\\\mbox-short.txt')\n",
    "for line in xfile:\n",
    "    line = line.rstrip()\n",
    "    if re.search('^From\\S.+?',line):\n",
    "        print(line)"
   ]
  },
  {
   "cell_type": "code",
   "execution_count": 119,
   "id": "befb5444",
   "metadata": {},
   "outputs": [
    {
     "name": "stdout",
     "output_type": "stream",
     "text": [
      "['2', '19', '3', '21', '12', '43']\n",
      "['A']\n"
     ]
    }
   ],
   "source": [
    "import re\n",
    "x = 'My 2 favorite numberAs are 19 and f 3 21 12 43'\n",
    "y = re.findall('[0-9]+' , x)\n",
    "print(y)\n",
    "y = re.findall('[bAEIOU]+',x)\n",
    "print (y)"
   ]
  },
  {
   "cell_type": "code",
   "execution_count": 128,
   "id": "deed2d63",
   "metadata": {},
   "outputs": [
    {
     "name": "stdout",
     "output_type": "stream",
     "text": [
      "['csev@umich.edu', 'cwen@iupui.edu']\n"
     ]
    }
   ],
   "source": [
    "import re\n",
    "s = 'A message from csev@umich.edu to cwen@iupui.edu about meeting @2PM'\n",
    "lst = re.findall('\\\\S+@\\\\S+', s)\n",
    "print(lst)"
   ]
  },
  {
   "cell_type": "code",
   "execution_count": 132,
   "id": "013e35c9",
   "metadata": {},
   "outputs": [
    {
     "ename": "TypeError",
     "evalue": "'socket' object is not iterable",
     "output_type": "error",
     "traceback": [
      "\u001b[1;31m---------------------------------------------------------------------------\u001b[0m",
      "\u001b[1;31mTypeError\u001b[0m                                 Traceback (most recent call last)",
      "\u001b[1;32m<ipython-input-132-8608c6c50b6d>\u001b[0m in \u001b[0;36m<module>\u001b[1;34m\u001b[0m\n\u001b[0;32m      2\u001b[0m \u001b[0mmysock\u001b[0m \u001b[1;33m=\u001b[0m \u001b[0msocket\u001b[0m\u001b[1;33m.\u001b[0m\u001b[0msocket\u001b[0m\u001b[1;33m(\u001b[0m\u001b[0msocket\u001b[0m\u001b[1;33m.\u001b[0m\u001b[0mAF_INET\u001b[0m\u001b[1;33m,\u001b[0m\u001b[0msocket\u001b[0m\u001b[1;33m.\u001b[0m\u001b[0mSOCK_STREAM\u001b[0m\u001b[1;33m)\u001b[0m\u001b[1;33m\u001b[0m\u001b[1;33m\u001b[0m\u001b[0m\n\u001b[0;32m      3\u001b[0m \u001b[0mmysock\u001b[0m\u001b[1;33m.\u001b[0m\u001b[0mconnect\u001b[0m\u001b[1;33m(\u001b[0m\u001b[1;33m(\u001b[0m\u001b[1;34m'data.pr4e.org'\u001b[0m\u001b[1;33m,\u001b[0m\u001b[1;36m80\u001b[0m\u001b[1;33m)\u001b[0m\u001b[1;33m)\u001b[0m\u001b[1;33m\u001b[0m\u001b[1;33m\u001b[0m\u001b[0m\n\u001b[1;32m----> 4\u001b[1;33m \u001b[1;32mfor\u001b[0m \u001b[0mline\u001b[0m \u001b[1;32min\u001b[0m \u001b[0mmysock\u001b[0m\u001b[1;33m:\u001b[0m\u001b[1;33m\u001b[0m\u001b[1;33m\u001b[0m\u001b[0m\n\u001b[0m\u001b[0;32m      5\u001b[0m     \u001b[0mprint\u001b[0m\u001b[1;33m(\u001b[0m\u001b[0mline\u001b[0m\u001b[1;33m)\u001b[0m\u001b[1;33m\u001b[0m\u001b[1;33m\u001b[0m\u001b[0m\n",
      "\u001b[1;31mTypeError\u001b[0m: 'socket' object is not iterable"
     ]
    }
   ],
   "source": [
    "import socket\n",
    "mysock = socket.socket(socket.AF_INET,socket.SOCK_STREAM)\n",
    "mysock.connect(('data.pr4e.org',80))\n",
    "for line in mysock:\n",
    "    print(line)"
   ]
  }
 ],
 "metadata": {
  "kernelspec": {
   "display_name": "Python 3",
   "language": "python",
   "name": "python3"
  },
  "language_info": {
   "codemirror_mode": {
    "name": "ipython",
    "version": 3
   },
   "file_extension": ".py",
   "mimetype": "text/x-python",
   "name": "python",
   "nbconvert_exporter": "python",
   "pygments_lexer": "ipython3",
   "version": "3.8.8"
  }
 },
 "nbformat": 4,
 "nbformat_minor": 5
}

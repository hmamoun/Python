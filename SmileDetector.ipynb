{
 "cells": [
  {
   "cell_type": "markdown",
   "id": "00c74d54",
   "metadata": {},
   "source": [
    "Haar Algorithm (find faces - detect smiles on faces)"
   ]
  },
  {
   "cell_type": "code",
   "execution_count": 2,
   "id": "ebd8864d",
   "metadata": {},
   "outputs": [
    {
     "name": "stdout",
     "output_type": "stream",
     "text": [
      "Collecting opencv-contrib-python\n",
      "  Downloading opencv_contrib_python-4.5.3.56-cp38-cp38-win_amd64.whl (41.8 MB)\n",
      "Requirement already satisfied: numpy>=1.17.3 in c:\\users\\hmamo\\anaconda3\\lib\\site-packages (from opencv-contrib-python) (1.20.1)\n",
      "Installing collected packages: opencv-contrib-python\n",
      "Successfully installed opencv-contrib-python-4.5.3.56\n",
      "Note: you may need to restart the kernel to use updated packages.\n"
     ]
    }
   ],
   "source": [
    "pip install opencv-contrib-python"
   ]
  },
  {
   "cell_type": "code",
   "execution_count": 2,
   "id": "077ec7f1",
   "metadata": {},
   "outputs": [],
   "source": []
  },
  {
   "cell_type": "code",
   "execution_count": null,
   "id": "d9477889",
   "metadata": {},
   "outputs": [],
   "source": [
    "import cv2\n",
    "face_detector = cv2.CascadeClassifier('haarcascade_frontalface_default.xml')\n",
    "smile_detector = cv2.CascadeClassifier('haarcascade_smile.xml')\n",
    "\n",
    "webcam = cv2.VideoCapture(0)\n",
    "\n",
    "while True:\n",
    "    successful_frame_read, frame = webcam.read(0)\n",
    "    \n",
    "    if not successful_frame_read: \n",
    "        break\n",
    "    \n",
    "    frame_grayscale = cv2.cvtColor(frame,cv2.COLOR_BGR2GRAY)\n",
    "    \n",
    "    \n",
    "    faces = face_detector.detectMultiScale(frame_grayscale)\n",
    " \n",
    "    for (x,y,w,h) in faces:\n",
    "        cv2.rectangle(frame,(x,y),(x+w,y+h),(100,200,50) , 4)\n",
    "        \n",
    "        #create face subimage\n",
    "        face = frame_grayscale[y:y+h,x:x+w]        \n",
    "    \n",
    "        smiles = smile_detector.detectMultiScale(face)\n",
    "        for (x_,y_,w_,h_) in smiles:\n",
    "            cv2.rectangle(frame,(x+x_,y+y_),(x+x_+w_,y+y_+h_),(100,200,50) , 1)\n",
    "        \n",
    "        \n",
    "    cv2.imshow('Smile Detector' , frame)\n",
    "    \n",
    "    cv2.waitKey(1)\n",
    "    if cv2.waitKey(1)==1:\n",
    "        webcam.release()\n",
    "        cv2.destroyAllWindows() \n",
    "    \n",
    "\n",
    "\n",
    "\n",
    "webcam.release()\n",
    "cv2.destroyAllWindows() "
   ]
  },
  {
   "cell_type": "code",
   "execution_count": 2,
   "id": "358a2e30",
   "metadata": {},
   "outputs": [],
   "source": [
    "webcam.release()\n",
    "cv2.destroyAllWindows() "
   ]
  }
 ],
 "metadata": {
  "kernelspec": {
   "display_name": "Python 3",
   "language": "python",
   "name": "python3"
  },
  "language_info": {
   "codemirror_mode": {
    "name": "ipython",
    "version": 3
   },
   "file_extension": ".py",
   "mimetype": "text/x-python",
   "name": "python",
   "nbconvert_exporter": "python",
   "pygments_lexer": "ipython3",
   "version": "3.8.8"
  }
 },
 "nbformat": 4,
 "nbformat_minor": 5
}

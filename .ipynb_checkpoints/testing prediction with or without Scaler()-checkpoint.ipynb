{
 "cells": [
  {
   "cell_type": "code",
   "execution_count": 1,
   "id": "0ec1d9d6",
   "metadata": {},
   "outputs": [],
   "source": [
    "import pandas as pd"
   ]
  },
  {
   "cell_type": "code",
   "execution_count": 121,
   "id": "2785d86a",
   "metadata": {},
   "outputs": [
    {
     "name": "stdout",
     "output_type": "stream",
     "text": [
      "[[1, 2, 3, 6], [2, 4, 5, 11], [3, 2, 3, 8], [4, 4, 5, 13], [5, 2, 3, 10], [5, 4, 5, 14], [3, 2, 1, 6], [5, 4, 5, 14]]\n"
     ]
    },
    {
     "data": {
      "text/plain": [
       "array([[0.   , 0.   , 0.5  , 0.   ],\n",
       "       [0.25 , 1.   , 1.   , 0.625],\n",
       "       [0.5  , 0.   , 0.5  , 0.25 ],\n",
       "       [0.75 , 1.   , 1.   , 0.875],\n",
       "       [1.   , 0.   , 0.5  , 0.5  ],\n",
       "       [1.   , 1.   , 1.   , 1.   ],\n",
       "       [0.5  , 0.   , 0.   , 0.   ],\n",
       "       [1.   , 1.   , 1.   , 1.   ]])"
      ]
     },
     "execution_count": 121,
     "metadata": {},
     "output_type": "execute_result"
    }
   ],
   "source": [
    "from sklearn.preprocessing import MinMaxScaler\n",
    "#sample = pd.DataFrame([[1,2,3,4],[5,4,5,6],[3,2,3,4],[5,4,5,6],[1,2,3,4],[5,4,5,6],[1,2,3,4],[5,4,5,6]])\n",
    "sample = [\n",
    "    [1,2,3,6],\n",
    "    [2,4,5,11],[3,2,3,8],[4,4,5,13],[5,2,3,10],[5,4,5,14],[3,2,1,6],[5,4,5,14]]\n",
    "print(sample)\n",
    "scaler = MinMaxScaler()\n",
    "scaler.fit_transform(sample)"
   ]
  },
  {
   "cell_type": "code",
   "execution_count": 124,
   "id": "fd86df8f",
   "metadata": {},
   "outputs": [
    {
     "name": "stdout",
     "output_type": "stream",
     "text": [
      "[[1. 1. 3. 9.]\n",
      " [1. 2. 4. 5.]\n",
      " [1. 3. 2. 3.]\n",
      " [1. 4. 4. 5.]\n",
      " [1. 5. 2. 3.]\n",
      " [1. 5. 4. 5.]\n",
      " [1. 3. 2. 1.]\n",
      " [1. 5. 4. 5.]] [60. 65. 60. 67. 62. 68. 58. 68.]\n",
      "                            OLS Regression Results                            \n",
      "==============================================================================\n",
      "Dep. Variable:                      y   R-squared:                       0.979\n",
      "Model:                            OLS   Adj. R-squared:                  0.964\n",
      "Method:                 Least Squares   F-statistic:                     63.35\n",
      "Date:                Thu, 09 Sep 2021   Prob (F-statistic):           0.000791\n",
      "Time:                        13:53:18   Log-Likelihood:                -6.3803\n",
      "No. Observations:                   8   AIC:                             20.76\n",
      "Df Residuals:                       4   BIC:                             21.08\n",
      "Df Model:                           3                                         \n",
      "Covariance Type:            nonrobust                                         \n",
      "==============================================================================\n",
      "                 coef    std err          t      P>|t|      [0.025      0.975]\n",
      "------------------------------------------------------------------------------\n",
      "const         48.7375      1.193     40.854      0.000      45.425      52.050\n",
      "x1             1.2645      0.234      5.409      0.006       0.615       1.914\n",
      "x2             3.1663      0.383      8.262      0.001       2.102       4.230\n",
      "x3             0.0982      0.177      0.556      0.608      -0.392       0.588\n",
      "==============================================================================\n",
      "Omnibus:                        0.044   Durbin-Watson:                   1.337\n",
      "Prob(Omnibus):                  0.978   Jarque-Bera (JB):                0.202\n",
      "Skew:                          -0.119   Prob(JB):                        0.904\n",
      "Kurtosis:                       2.259   Cond. No.                         30.6\n",
      "==============================================================================\n",
      "\n",
      "Notes:\n",
      "[1] Standard Errors assume that the covariance matrix of the errors is correctly specified.\n"
     ]
    },
    {
     "name": "stderr",
     "output_type": "stream",
     "text": [
      "C:\\Users\\hmamo\\anaconda3\\lib\\site-packages\\scipy\\stats\\stats.py:1603: UserWarning: kurtosistest only valid for n>=20 ... continuing anyway, n=8\n",
      "  warnings.warn(\"kurtosistest only valid for n>=20 ... continuing \"\n"
     ]
    }
   ],
   "source": [
    "# importing libraries for building linear regression model\n",
    "import statsmodels.api as sm\n",
    "from statsmodels.stats.outliers_influence import variance_inflation_factor\n",
    "import numpy as np\n",
    "sample = [[1,3,9,10],\n",
    "          [2,4,5,15],\n",
    "          [3,2,3,10],\n",
    "          [4,4,5,17],\n",
    "          [5,2,3,12],\n",
    "          [5,4,5,18],\n",
    "          [3,2,1,8],\n",
    "          [5,4,5,18]]\n",
    "sample = np.array(sample)\n",
    "#print(sample)\n",
    "sample[:,3]= sample[:,3]+50\n",
    "\n",
    "sample = sm.add_constant(sample)\n",
    "target = sample[:,4]\n",
    "features = sample[:,0:4]\n",
    "print (features , target)\n",
    "ols_model_0 = sm.OLS(target,features)\n",
    "ols_res_0 = ols_model_0.fit()\n",
    "print(ols_res_0.summary())\n"
   ]
  },
  {
   "cell_type": "code",
   "execution_count": 120,
   "id": "16e81478",
   "metadata": {},
   "outputs": [
    {
     "name": "stdout",
     "output_type": "stream",
     "text": [
      "                            OLS Regression Results                            \n",
      "==============================================================================\n",
      "Dep. Variable:                      y   R-squared:                       1.000\n",
      "Model:                            OLS   Adj. R-squared:                  1.000\n",
      "Method:                 Least Squares   F-statistic:                 1.115e+30\n",
      "Date:                Wed, 08 Sep 2021   Prob (F-statistic):           2.68e-60\n",
      "Time:                        21:41:32   Log-Likelihood:                 272.11\n",
      "No. Observations:                   8   AIC:                            -536.2\n",
      "Df Residuals:                       4   BIC:                            -535.9\n",
      "Df Model:                           3                                         \n",
      "Covariance Type:            nonrobust                                         \n",
      "==============================================================================\n",
      "                 coef    std err          t      P>|t|      [0.025      0.975]\n",
      "------------------------------------------------------------------------------\n",
      "const         -0.2000   5.47e-16  -3.65e+14      0.000      -0.200      -0.200\n",
      "x1             0.4000   6.48e-16   6.17e+14      0.000       0.400       0.400\n",
      "x2             0.4000   1.06e-15   3.79e+14      0.000       0.400       0.400\n",
      "x3             0.4000   1.47e-15   2.73e+14      0.000       0.400       0.400\n",
      "==============================================================================\n",
      "Omnibus:                        4.079   Durbin-Watson:                   0.352\n",
      "Prob(Omnibus):                  0.130   Jarque-Bera (JB):                0.993\n",
      "Skew:                          -0.041   Prob(JB):                        0.609\n",
      "Kurtosis:                       1.276   Cond. No.                         13.5\n",
      "==============================================================================\n",
      "\n",
      "Notes:\n",
      "[1] Standard Errors assume that the covariance matrix of the errors is correctly specified.\n"
     ]
    },
    {
     "name": "stderr",
     "output_type": "stream",
     "text": [
      "C:\\Users\\hmamo\\anaconda3\\lib\\site-packages\\scipy\\stats\\stats.py:1603: UserWarning: kurtosistest only valid for n>=20 ... continuing anyway, n=8\n",
      "  warnings.warn(\"kurtosistest only valid for n>=20 ... continuing \"\n"
     ]
    },
    {
     "data": {
      "text/plain": [
       "array([[1.  , 0.  , 0.5 , 0.5 , 0.2 ],\n",
       "       [1.  , 0.25, 1.  , 1.  , 0.7 ],\n",
       "       [1.  , 0.5 , 0.  , 0.5 , 0.2 ],\n",
       "       [1.  , 0.75, 1.  , 1.  , 0.9 ],\n",
       "       [1.  , 1.  , 0.  , 0.5 , 0.4 ],\n",
       "       [1.  , 1.  , 1.  , 1.  , 1.  ],\n",
       "       [1.  , 0.5 , 0.  , 0.  , 0.  ],\n",
       "       [1.  , 1.  , 1.  , 1.  , 1.  ]])"
      ]
     },
     "execution_count": 120,
     "metadata": {},
     "output_type": "execute_result"
    }
   ],
   "source": [
    "sample = [[1,3,3,10],\n",
    "          [2,4,5,15],\n",
    "          [3,2,3,10],\n",
    "          [4,4,5,17],\n",
    "          [5,2,3,12],\n",
    "          [5,4,5,18],\n",
    "          [3,2,1,8],\n",
    "          [5,4,5,18]]\n",
    "sample = np.array(sample)\n",
    "#print(sample)\n",
    "sample[:,3]= sample[:,3]+50\n",
    "sample = scaler.fit_transform(sample)\n",
    "sample = sm.add_constant(sample)\n",
    "target = sample[:,4]\n",
    "features = sample[:,0:4]\n",
    "\n",
    "ols_model_0 = sm.OLS(target,features)\n",
    "ols_res_0 = ols_model_0.fit()\n",
    "print(ols_res_0.summary())\n",
    "sample"
   ]
  },
  {
   "cell_type": "code",
   "execution_count": 18,
   "id": "ef00a934",
   "metadata": {},
   "outputs": [
    {
     "data": {
      "text/html": [
       "<div>\n",
       "<style scoped>\n",
       "    .dataframe tbody tr th:only-of-type {\n",
       "        vertical-align: middle;\n",
       "    }\n",
       "\n",
       "    .dataframe tbody tr th {\n",
       "        vertical-align: top;\n",
       "    }\n",
       "\n",
       "    .dataframe thead th {\n",
       "        text-align: right;\n",
       "    }\n",
       "</style>\n",
       "<table border=\"1\" class=\"dataframe\">\n",
       "  <thead>\n",
       "    <tr style=\"text-align: right;\">\n",
       "      <th></th>\n",
       "      <th>0_d</th>\n",
       "      <th>1_c</th>\n",
       "      <th>1_r</th>\n",
       "      <th>1_s</th>\n",
       "      <th>2_n</th>\n",
       "      <th>2_x</th>\n",
       "      <th>2_z</th>\n",
       "      <th>3_d</th>\n",
       "    </tr>\n",
       "  </thead>\n",
       "  <tbody>\n",
       "    <tr>\n",
       "      <th>0</th>\n",
       "      <td>0</td>\n",
       "      <td>0</td>\n",
       "      <td>0</td>\n",
       "      <td>0</td>\n",
       "      <td>0</td>\n",
       "      <td>0</td>\n",
       "      <td>0</td>\n",
       "      <td>1</td>\n",
       "    </tr>\n",
       "    <tr>\n",
       "      <th>1</th>\n",
       "      <td>1</td>\n",
       "      <td>1</td>\n",
       "      <td>0</td>\n",
       "      <td>0</td>\n",
       "      <td>0</td>\n",
       "      <td>1</td>\n",
       "      <td>0</td>\n",
       "      <td>0</td>\n",
       "    </tr>\n",
       "    <tr>\n",
       "      <th>2</th>\n",
       "      <td>1</td>\n",
       "      <td>1</td>\n",
       "      <td>0</td>\n",
       "      <td>0</td>\n",
       "      <td>1</td>\n",
       "      <td>0</td>\n",
       "      <td>0</td>\n",
       "      <td>0</td>\n",
       "    </tr>\n",
       "    <tr>\n",
       "      <th>3</th>\n",
       "      <td>1</td>\n",
       "      <td>0</td>\n",
       "      <td>1</td>\n",
       "      <td>0</td>\n",
       "      <td>0</td>\n",
       "      <td>1</td>\n",
       "      <td>0</td>\n",
       "      <td>0</td>\n",
       "    </tr>\n",
       "    <tr>\n",
       "      <th>4</th>\n",
       "      <td>1</td>\n",
       "      <td>0</td>\n",
       "      <td>0</td>\n",
       "      <td>1</td>\n",
       "      <td>0</td>\n",
       "      <td>0</td>\n",
       "      <td>1</td>\n",
       "      <td>0</td>\n",
       "    </tr>\n",
       "  </tbody>\n",
       "</table>\n",
       "</div>"
      ],
      "text/plain": [
       "   0_d  1_c  1_r  1_s  2_n  2_x  2_z  3_d\n",
       "0    0    0    0    0    0    0    0    1\n",
       "1    1    1    0    0    0    1    0    0\n",
       "2    1    1    0    0    1    0    0    0\n",
       "3    1    0    1    0    0    1    0    0\n",
       "4    1    0    0    1    0    0    1    0"
      ]
     },
     "execution_count": 18,
     "metadata": {},
     "output_type": "execute_result"
    }
   ],
   "source": [
    "sample = pd.DataFrame([['a','b','c','d'],['d','c','x','6'],['d','c','n','6'],['d','r','x','6'],['d','s','z','6']])\n",
    "pd.get_dummies(sample, drop_first=True)"
   ]
  }
 ],
 "metadata": {
  "kernelspec": {
   "display_name": "Python 3",
   "language": "python",
   "name": "python3"
  },
  "language_info": {
   "codemirror_mode": {
    "name": "ipython",
    "version": 3
   },
   "file_extension": ".py",
   "mimetype": "text/x-python",
   "name": "python",
   "nbconvert_exporter": "python",
   "pygments_lexer": "ipython3",
   "version": "3.8.8"
  }
 },
 "nbformat": 4,
 "nbformat_minor": 5
}

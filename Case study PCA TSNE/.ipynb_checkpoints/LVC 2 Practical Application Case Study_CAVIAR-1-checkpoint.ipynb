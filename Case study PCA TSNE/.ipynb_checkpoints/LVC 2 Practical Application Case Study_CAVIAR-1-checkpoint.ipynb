{
 "cells": [
  {
   "cell_type": "markdown",
   "metadata": {
    "id": "hezk2UK6BdsA"
   },
   "source": [
    "# LVC: Caviar Investigation Phases Case Study\n",
    "\n",
    "In this problem, you will study a time-varying criminal network that is repeatedly disturbed by police forces. \n",
    "The data for this problem can be found in CAVIAR.zip. \n",
    "\n",
    "### **Context**\n",
    "\n",
    "Here is some information on the CAVIAR project and the role of certain individuals arrested following the investigation. This investigation lasted two years and ran from 1994 to 1996. The operation brought together investigation units of the Montr´eal police and the Royal Canadian Mounted Police of Canada. During this two year period, 11 wiretap warrants, valid for a period of about two months each, were obtained (11 matrices match these phases). This case is rather unique, because unlike other investigative strategies, the mandate of the CAVIAR project was to seize the drugs without arresting villains. During this period, imports of the trafficking network were hit by the police on eleven occasions. The arrests took place only at the end of the investigation. Monetary losses for traffickers were estimated at 32 million dollars. Eleven seizures took place throughout the investigation. Some phases included no seizures, and others included multiple. Here is what they represent in terms of the amount of money: \n",
    "- Phase 4 1 seizure 2,500,000 Dollars, 300 kg of marijuana \n",
    "- Phase 6 3 seizures 1,300,000 Dollars, 2 x 15 kg of marijuana + 1 x 2 kg of cocaine \n",
    "- Phase 7 1 seizure 3,500,000 Dollars, 401 kg of marijuana \n",
    "- Phase 8 1 seizure 360,000 Dollars, 9 kg of cocaine \n",
    "- Phase 9 2 seizures 4,300,000 Dollars, 2 kg of cocaine + 1 x 500 kg marijuana \n",
    "- Phase 10 1 seizure 18,700,000 Dollars, 2200 kg of marijuana \n",
    "- Phase 11 2 seizures 1,300,000 Dollars, 12 kg of cocaine + 11 kg of cocaine \n",
    "\n",
    "As you can see, this case offers a rare opportunity to study a criminal network in upheaval by police forces. This allows us to analyze changes in the network structure and to survey the reaction and adaptation of the participants while they were subjected to an increasing number of distressing constraints. \n",
    "\n",
    "#### About the network\n",
    "\n",
    "The network consists of 110 (numbered) players. Players 1-82 are the traffickers. Players 83-110 are the non-traffickers (financial investors; accountants; owners of various importation businesses, etc.). Initially, the investigation targeted Daniel Serero, the alleged mastermind of a drug network in downtown Montr´eal, attempting to import marijuana to Canada from Morocco, transiting through Spain. After the first seizure, happening in phase 4, traffickers reoriented to cocaine import from Colombia, transiting through the United States. \n",
    "According to the police, the role of the actors of the “Serero organization” under investigation are the following: \n",
    "- Serero, Daniel (n1) : Mastermind of the network. \n",
    "- Pierre Perlini (n3) : Principal lieutenant of Serero, he executes his instructions. \n",
    "- Alain (n83) and G´erard (n86) Levy : Investors and transporters of money. \n",
    "- Wallace Lee (n85) : Takes care of financial affairs (accountant). \n",
    "- Gaspard Lino (n6): Broker in Spain. \n",
    "- Samir Rabbat (n11): Provider in Morocco. \n",
    "- Lee Gilbert (n88): Trusted man of Wallace Lee (became an informer after the arrest). \n",
    "- Beverly Ashton (n106): Spouse of Lino, transports money and documents.  \n",
    "- Antonio Iannacci (n89): Investor. \n",
    "- Mohammed Echouafni (n84): Moroccan investor. \n",
    "- Richard Gleeson (n5), Bruno de Quinzio (n8) and Gabrielle Casale (n76) : Charged with recuperating the marijuana. \n",
    "- Roderik Janouska (n77): Individual with airport contacts. \n",
    "- Patrick Lee (n87): Investor. \n",
    "- Salvatore Panetta (n82): Transport arrangements manager. \n",
    "- Steve Cunha (n96): Transport manager, owner of a legitimate import company (became an informer after the arrest). \n",
    "- Ernesto Morales (n12): Principal organizer of the cocaine import, intermediary between the Colombians and the Serero organization. \n",
    "- Oscar Nieri (n17): The handyman of Morales. \n",
    "- Richard Brebner (n80): Was transporting the cocaine from the US to Montr´eal. \n",
    "- Ricardo Negrinotti (n33): Was taking possession of the cocaine in the US to hand it to Brebner. \n",
    "- Johnny Pacheco (n16): Cocaine provider. \n",
    "\n",
    "### **Objective**\n",
    "\n",
    "- The objective of the case study is to understand, create and visualize the data in phases. \n",
    "- Later on, apply the different centrality measures and understand the important nodes.\n",
    "- Visualize the centrality measure of the important nodes across phases"
   ]
  },
  {
   "cell_type": "markdown",
   "metadata": {
    "id": "w7HiidCcBdsB"
   },
   "source": [
    "## 1. Importing required libraries"
   ]
  },
  {
   "cell_type": "code",
   "execution_count": 1,
   "metadata": {
    "id": "TSDC9hKOBdsB"
   },
   "outputs": [],
   "source": [
    "%matplotlib inline\n",
    "\n",
    "import networkx as nx\n",
    "from decorator import decorator\n",
    "from networkx.utils import create_random_state, create_py_random_state\n",
    "import numpy as np\n",
    "import pandas as pd\n",
    "import matplotlib.pyplot as plt\n",
    "import seaborn as sns\n",
    "\n",
    "import warnings\n",
    "warnings.filterwarnings('ignore') # to get rid of warning messages\n",
    "\n",
    "# Remove scientific notations and display numbers with 2 decimal points instead\n",
    "pd.options.display.float_format = '{:,.2f}'.format        \n",
    "\n",
    "# Update default background style of plots\n",
    "sns.set_style(style='darkgrid')"
   ]
  },
  {
   "cell_type": "code",
   "execution_count": 2,
   "metadata": {
    "colab": {
     "base_uri": "https://localhost:8080/"
    },
    "id": "rZ3L3abBCBeX",
    "outputId": "878b5fe6-afcb-4b68-ea0f-ffee916f26c1"
   },
   "outputs": [],
   "source": [
    "# from google.colab import drive\n",
    "# drive.mount('/content/drive')"
   ]
  },
  {
   "cell_type": "markdown",
   "metadata": {
    "id": "hf9VEP2zBdsF"
   },
   "source": [
    "#### 2. Load the data"
   ]
  },
  {
   "cell_type": "code",
   "execution_count": 13,
   "metadata": {
    "id": "Q8a7acAJBdsF"
   },
   "outputs": [],
   "source": [
    "P1 = pd.read_csv(\"CAVIAR_Phases - Notebook/phase1.csv\")\n",
    "P2 = pd.read_csv(\"CAVIAR_Phases - Notebook/phase2.csv\")\n",
    "P3 = pd.read_csv(\"CAVIAR_Phases - Notebook/phase3.csv\")\n",
    "P4 = pd.read_csv(\"CAVIAR_Phases - Notebook/phase4.csv\")\n",
    "P5 = pd.read_csv(\"CAVIAR_Phases - Notebook/phase5.csv\")\n",
    "P6 = pd.read_csv(\"CAVIAR_Phases - Notebook/phase6.csv\")\n",
    "P7 = pd.read_csv(\"CAVIAR_Phases - Notebook/phase7.csv\")\n",
    "P8 = pd.read_csv(\"CAVIAR_Phases - Notebook/phase8.csv\")\n",
    "P9 = pd.read_csv(\"CAVIAR_Phases - Notebook/phase9.csv\")\n",
    "P10 = pd.read_csv(\"CAVIAR_Phases - Notebook/phase10.csv\")\n",
    "P11 = pd.read_csv(\"CAVIAR_Phases - Notebook/phase11.csv\")"
   ]
  },
  {
   "cell_type": "code",
   "execution_count": 14,
   "metadata": {
    "colab": {
     "base_uri": "https://localhost:8080/",
     "height": 194
    },
    "id": "QDYL_CznBdsJ",
    "outputId": "8fe4baf5-21cd-48d4-e1be-96fab15f6a80"
   },
   "outputs": [
    {
     "data": {
      "text/html": [
       "<div>\n",
       "<style scoped>\n",
       "    .dataframe tbody tr th:only-of-type {\n",
       "        vertical-align: middle;\n",
       "    }\n",
       "\n",
       "    .dataframe tbody tr th {\n",
       "        vertical-align: top;\n",
       "    }\n",
       "\n",
       "    .dataframe thead th {\n",
       "        text-align: right;\n",
       "    }\n",
       "</style>\n",
       "<table border=\"1\" class=\"dataframe\">\n",
       "  <thead>\n",
       "    <tr style=\"text-align: right;\">\n",
       "      <th></th>\n",
       "      <th>Unnamed: 0</th>\n",
       "      <th>1</th>\n",
       "      <th>4</th>\n",
       "      <th>89</th>\n",
       "      <th>83</th>\n",
       "      <th>3</th>\n",
       "      <th>5</th>\n",
       "      <th>88</th>\n",
       "      <th>85</th>\n",
       "      <th>90</th>\n",
       "      <th>2</th>\n",
       "      <th>7</th>\n",
       "      <th>54</th>\n",
       "      <th>6</th>\n",
       "      <th>64</th>\n",
       "      <th>8</th>\n",
       "    </tr>\n",
       "  </thead>\n",
       "  <tbody>\n",
       "    <tr>\n",
       "      <th>0</th>\n",
       "      <td>1</td>\n",
       "      <td>0</td>\n",
       "      <td>1</td>\n",
       "      <td>4</td>\n",
       "      <td>0</td>\n",
       "      <td>4</td>\n",
       "      <td>2</td>\n",
       "      <td>2</td>\n",
       "      <td>9</td>\n",
       "      <td>1</td>\n",
       "      <td>2</td>\n",
       "      <td>0</td>\n",
       "      <td>2</td>\n",
       "      <td>0</td>\n",
       "      <td>1</td>\n",
       "      <td>1</td>\n",
       "    </tr>\n",
       "    <tr>\n",
       "      <th>1</th>\n",
       "      <td>4</td>\n",
       "      <td>0</td>\n",
       "      <td>0</td>\n",
       "      <td>0</td>\n",
       "      <td>0</td>\n",
       "      <td>0</td>\n",
       "      <td>0</td>\n",
       "      <td>0</td>\n",
       "      <td>0</td>\n",
       "      <td>0</td>\n",
       "      <td>0</td>\n",
       "      <td>0</td>\n",
       "      <td>0</td>\n",
       "      <td>0</td>\n",
       "      <td>0</td>\n",
       "      <td>0</td>\n",
       "    </tr>\n",
       "    <tr>\n",
       "      <th>2</th>\n",
       "      <td>89</td>\n",
       "      <td>1</td>\n",
       "      <td>0</td>\n",
       "      <td>0</td>\n",
       "      <td>0</td>\n",
       "      <td>0</td>\n",
       "      <td>0</td>\n",
       "      <td>0</td>\n",
       "      <td>0</td>\n",
       "      <td>0</td>\n",
       "      <td>0</td>\n",
       "      <td>3</td>\n",
       "      <td>0</td>\n",
       "      <td>0</td>\n",
       "      <td>0</td>\n",
       "      <td>0</td>\n",
       "    </tr>\n",
       "    <tr>\n",
       "      <th>3</th>\n",
       "      <td>83</td>\n",
       "      <td>1</td>\n",
       "      <td>0</td>\n",
       "      <td>0</td>\n",
       "      <td>0</td>\n",
       "      <td>0</td>\n",
       "      <td>0</td>\n",
       "      <td>0</td>\n",
       "      <td>0</td>\n",
       "      <td>0</td>\n",
       "      <td>0</td>\n",
       "      <td>0</td>\n",
       "      <td>0</td>\n",
       "      <td>5</td>\n",
       "      <td>0</td>\n",
       "      <td>0</td>\n",
       "    </tr>\n",
       "    <tr>\n",
       "      <th>4</th>\n",
       "      <td>3</td>\n",
       "      <td>2</td>\n",
       "      <td>0</td>\n",
       "      <td>0</td>\n",
       "      <td>0</td>\n",
       "      <td>0</td>\n",
       "      <td>0</td>\n",
       "      <td>1</td>\n",
       "      <td>0</td>\n",
       "      <td>0</td>\n",
       "      <td>0</td>\n",
       "      <td>0</td>\n",
       "      <td>0</td>\n",
       "      <td>0</td>\n",
       "      <td>0</td>\n",
       "      <td>0</td>\n",
       "    </tr>\n",
       "  </tbody>\n",
       "</table>\n",
       "</div>"
      ],
      "text/plain": [
       "   Unnamed: 0  1  4  89  83  3  5  88  85  90  2  7  54  6  64  8\n",
       "0           1  0  1   4   0  4  2   2   9   1  2  0   2  0   1  1\n",
       "1           4  0  0   0   0  0  0   0   0   0  0  0   0  0   0  0\n",
       "2          89  1  0   0   0  0  0   0   0   0  0  3   0  0   0  0\n",
       "3          83  1  0   0   0  0  0   0   0   0  0  0   0  5   0  0\n",
       "4           3  2  0   0   0  0  0   1   0   0  0  0   0  0   0  0"
      ]
     },
     "execution_count": 14,
     "metadata": {},
     "output_type": "execute_result"
    }
   ],
   "source": [
    "P1.head()"
   ]
  },
  {
   "cell_type": "markdown",
   "metadata": {
    "id": "u7ND_H4RiLca"
   },
   "source": [
    "So, we have the data in form of an adjacency matrix represented through a data frame. Note that\n",
    "\n",
    "- the first column (Unnamed: 0) needs to be set as the index\n",
    "- the columns names and the indices should have the same data type\n",
    "\n",
    "Let us check the points above."
   ]
  },
  {
   "cell_type": "code",
   "execution_count": 15,
   "metadata": {
    "id": "SQ0IGuOpBdsM"
   },
   "outputs": [],
   "source": [
    "# Setting first column as the index to achieve the adjacency matrix for each phase\n",
    "\n",
    "#defining a list with the phases\n",
    "\n",
    "phases = [P1,P2,P3,P4,P5,P6,P7,P8,P9,P10,P11]\n",
    "\n",
    "#Now let us set the first column as the index for all the dataframes\n",
    "for p in phases:\n",
    "  p.set_index(p.columns[0], inplace=True)\n"
   ]
  },
  {
   "cell_type": "code",
   "execution_count": 16,
   "metadata": {
    "colab": {
     "base_uri": "https://localhost:8080/",
     "height": 516
    },
    "id": "z-GdNHllj-kB",
    "outputId": "bd9d1f6c-955c-4446-bdfc-b3007efffcac"
   },
   "outputs": [
    {
     "data": {
      "text/html": [
       "<div>\n",
       "<style scoped>\n",
       "    .dataframe tbody tr th:only-of-type {\n",
       "        vertical-align: middle;\n",
       "    }\n",
       "\n",
       "    .dataframe tbody tr th {\n",
       "        vertical-align: top;\n",
       "    }\n",
       "\n",
       "    .dataframe thead th {\n",
       "        text-align: right;\n",
       "    }\n",
       "</style>\n",
       "<table border=\"1\" class=\"dataframe\">\n",
       "  <thead>\n",
       "    <tr style=\"text-align: right;\">\n",
       "      <th></th>\n",
       "      <th>1</th>\n",
       "      <th>4</th>\n",
       "      <th>89</th>\n",
       "      <th>83</th>\n",
       "      <th>3</th>\n",
       "      <th>5</th>\n",
       "      <th>88</th>\n",
       "      <th>85</th>\n",
       "      <th>90</th>\n",
       "      <th>2</th>\n",
       "      <th>7</th>\n",
       "      <th>54</th>\n",
       "      <th>6</th>\n",
       "      <th>64</th>\n",
       "      <th>8</th>\n",
       "    </tr>\n",
       "    <tr>\n",
       "      <th>Unnamed: 0</th>\n",
       "      <th></th>\n",
       "      <th></th>\n",
       "      <th></th>\n",
       "      <th></th>\n",
       "      <th></th>\n",
       "      <th></th>\n",
       "      <th></th>\n",
       "      <th></th>\n",
       "      <th></th>\n",
       "      <th></th>\n",
       "      <th></th>\n",
       "      <th></th>\n",
       "      <th></th>\n",
       "      <th></th>\n",
       "      <th></th>\n",
       "    </tr>\n",
       "  </thead>\n",
       "  <tbody>\n",
       "    <tr>\n",
       "      <th>1</th>\n",
       "      <td>0</td>\n",
       "      <td>1</td>\n",
       "      <td>4</td>\n",
       "      <td>0</td>\n",
       "      <td>4</td>\n",
       "      <td>2</td>\n",
       "      <td>2</td>\n",
       "      <td>9</td>\n",
       "      <td>1</td>\n",
       "      <td>2</td>\n",
       "      <td>0</td>\n",
       "      <td>2</td>\n",
       "      <td>0</td>\n",
       "      <td>1</td>\n",
       "      <td>1</td>\n",
       "    </tr>\n",
       "    <tr>\n",
       "      <th>4</th>\n",
       "      <td>0</td>\n",
       "      <td>0</td>\n",
       "      <td>0</td>\n",
       "      <td>0</td>\n",
       "      <td>0</td>\n",
       "      <td>0</td>\n",
       "      <td>0</td>\n",
       "      <td>0</td>\n",
       "      <td>0</td>\n",
       "      <td>0</td>\n",
       "      <td>0</td>\n",
       "      <td>0</td>\n",
       "      <td>0</td>\n",
       "      <td>0</td>\n",
       "      <td>0</td>\n",
       "    </tr>\n",
       "    <tr>\n",
       "      <th>89</th>\n",
       "      <td>1</td>\n",
       "      <td>0</td>\n",
       "      <td>0</td>\n",
       "      <td>0</td>\n",
       "      <td>0</td>\n",
       "      <td>0</td>\n",
       "      <td>0</td>\n",
       "      <td>0</td>\n",
       "      <td>0</td>\n",
       "      <td>0</td>\n",
       "      <td>3</td>\n",
       "      <td>0</td>\n",
       "      <td>0</td>\n",
       "      <td>0</td>\n",
       "      <td>0</td>\n",
       "    </tr>\n",
       "    <tr>\n",
       "      <th>83</th>\n",
       "      <td>1</td>\n",
       "      <td>0</td>\n",
       "      <td>0</td>\n",
       "      <td>0</td>\n",
       "      <td>0</td>\n",
       "      <td>0</td>\n",
       "      <td>0</td>\n",
       "      <td>0</td>\n",
       "      <td>0</td>\n",
       "      <td>0</td>\n",
       "      <td>0</td>\n",
       "      <td>0</td>\n",
       "      <td>5</td>\n",
       "      <td>0</td>\n",
       "      <td>0</td>\n",
       "    </tr>\n",
       "    <tr>\n",
       "      <th>3</th>\n",
       "      <td>2</td>\n",
       "      <td>0</td>\n",
       "      <td>0</td>\n",
       "      <td>0</td>\n",
       "      <td>0</td>\n",
       "      <td>0</td>\n",
       "      <td>1</td>\n",
       "      <td>0</td>\n",
       "      <td>0</td>\n",
       "      <td>0</td>\n",
       "      <td>0</td>\n",
       "      <td>0</td>\n",
       "      <td>0</td>\n",
       "      <td>0</td>\n",
       "      <td>0</td>\n",
       "    </tr>\n",
       "    <tr>\n",
       "      <th>5</th>\n",
       "      <td>0</td>\n",
       "      <td>0</td>\n",
       "      <td>0</td>\n",
       "      <td>0</td>\n",
       "      <td>0</td>\n",
       "      <td>0</td>\n",
       "      <td>0</td>\n",
       "      <td>0</td>\n",
       "      <td>0</td>\n",
       "      <td>0</td>\n",
       "      <td>0</td>\n",
       "      <td>0</td>\n",
       "      <td>0</td>\n",
       "      <td>0</td>\n",
       "      <td>0</td>\n",
       "    </tr>\n",
       "    <tr>\n",
       "      <th>88</th>\n",
       "      <td>1</td>\n",
       "      <td>0</td>\n",
       "      <td>0</td>\n",
       "      <td>0</td>\n",
       "      <td>1</td>\n",
       "      <td>0</td>\n",
       "      <td>0</td>\n",
       "      <td>3</td>\n",
       "      <td>0</td>\n",
       "      <td>0</td>\n",
       "      <td>0</td>\n",
       "      <td>0</td>\n",
       "      <td>1</td>\n",
       "      <td>0</td>\n",
       "      <td>0</td>\n",
       "    </tr>\n",
       "    <tr>\n",
       "      <th>85</th>\n",
       "      <td>1</td>\n",
       "      <td>0</td>\n",
       "      <td>0</td>\n",
       "      <td>0</td>\n",
       "      <td>0</td>\n",
       "      <td>0</td>\n",
       "      <td>2</td>\n",
       "      <td>0</td>\n",
       "      <td>0</td>\n",
       "      <td>0</td>\n",
       "      <td>0</td>\n",
       "      <td>0</td>\n",
       "      <td>5</td>\n",
       "      <td>0</td>\n",
       "      <td>0</td>\n",
       "    </tr>\n",
       "    <tr>\n",
       "      <th>90</th>\n",
       "      <td>0</td>\n",
       "      <td>0</td>\n",
       "      <td>0</td>\n",
       "      <td>0</td>\n",
       "      <td>0</td>\n",
       "      <td>0</td>\n",
       "      <td>0</td>\n",
       "      <td>0</td>\n",
       "      <td>0</td>\n",
       "      <td>0</td>\n",
       "      <td>0</td>\n",
       "      <td>0</td>\n",
       "      <td>0</td>\n",
       "      <td>0</td>\n",
       "      <td>0</td>\n",
       "    </tr>\n",
       "    <tr>\n",
       "      <th>2</th>\n",
       "      <td>0</td>\n",
       "      <td>0</td>\n",
       "      <td>0</td>\n",
       "      <td>0</td>\n",
       "      <td>0</td>\n",
       "      <td>0</td>\n",
       "      <td>0</td>\n",
       "      <td>0</td>\n",
       "      <td>0</td>\n",
       "      <td>0</td>\n",
       "      <td>0</td>\n",
       "      <td>0</td>\n",
       "      <td>0</td>\n",
       "      <td>0</td>\n",
       "      <td>0</td>\n",
       "    </tr>\n",
       "    <tr>\n",
       "      <th>7</th>\n",
       "      <td>0</td>\n",
       "      <td>0</td>\n",
       "      <td>2</td>\n",
       "      <td>0</td>\n",
       "      <td>0</td>\n",
       "      <td>0</td>\n",
       "      <td>0</td>\n",
       "      <td>0</td>\n",
       "      <td>0</td>\n",
       "      <td>0</td>\n",
       "      <td>0</td>\n",
       "      <td>0</td>\n",
       "      <td>0</td>\n",
       "      <td>0</td>\n",
       "      <td>0</td>\n",
       "    </tr>\n",
       "    <tr>\n",
       "      <th>54</th>\n",
       "      <td>0</td>\n",
       "      <td>0</td>\n",
       "      <td>0</td>\n",
       "      <td>0</td>\n",
       "      <td>0</td>\n",
       "      <td>0</td>\n",
       "      <td>0</td>\n",
       "      <td>0</td>\n",
       "      <td>0</td>\n",
       "      <td>0</td>\n",
       "      <td>0</td>\n",
       "      <td>0</td>\n",
       "      <td>0</td>\n",
       "      <td>0</td>\n",
       "      <td>0</td>\n",
       "    </tr>\n",
       "    <tr>\n",
       "      <th>6</th>\n",
       "      <td>0</td>\n",
       "      <td>0</td>\n",
       "      <td>0</td>\n",
       "      <td>0</td>\n",
       "      <td>0</td>\n",
       "      <td>0</td>\n",
       "      <td>1</td>\n",
       "      <td>0</td>\n",
       "      <td>0</td>\n",
       "      <td>0</td>\n",
       "      <td>0</td>\n",
       "      <td>0</td>\n",
       "      <td>0</td>\n",
       "      <td>0</td>\n",
       "      <td>0</td>\n",
       "    </tr>\n",
       "    <tr>\n",
       "      <th>64</th>\n",
       "      <td>0</td>\n",
       "      <td>0</td>\n",
       "      <td>0</td>\n",
       "      <td>0</td>\n",
       "      <td>0</td>\n",
       "      <td>0</td>\n",
       "      <td>0</td>\n",
       "      <td>0</td>\n",
       "      <td>0</td>\n",
       "      <td>0</td>\n",
       "      <td>0</td>\n",
       "      <td>0</td>\n",
       "      <td>0</td>\n",
       "      <td>0</td>\n",
       "      <td>0</td>\n",
       "    </tr>\n",
       "    <tr>\n",
       "      <th>8</th>\n",
       "      <td>0</td>\n",
       "      <td>0</td>\n",
       "      <td>0</td>\n",
       "      <td>0</td>\n",
       "      <td>0</td>\n",
       "      <td>0</td>\n",
       "      <td>0</td>\n",
       "      <td>0</td>\n",
       "      <td>0</td>\n",
       "      <td>0</td>\n",
       "      <td>0</td>\n",
       "      <td>0</td>\n",
       "      <td>0</td>\n",
       "      <td>0</td>\n",
       "      <td>0</td>\n",
       "    </tr>\n",
       "  </tbody>\n",
       "</table>\n",
       "</div>"
      ],
      "text/plain": [
       "            1  4  89  83  3  5  88  85  90  2  7  54  6  64  8\n",
       "Unnamed: 0                                                    \n",
       "1           0  1   4   0  4  2   2   9   1  2  0   2  0   1  1\n",
       "4           0  0   0   0  0  0   0   0   0  0  0   0  0   0  0\n",
       "89          1  0   0   0  0  0   0   0   0  0  3   0  0   0  0\n",
       "83          1  0   0   0  0  0   0   0   0  0  0   0  5   0  0\n",
       "3           2  0   0   0  0  0   1   0   0  0  0   0  0   0  0\n",
       "5           0  0   0   0  0  0   0   0   0  0  0   0  0   0  0\n",
       "88          1  0   0   0  1  0   0   3   0  0  0   0  1   0  0\n",
       "85          1  0   0   0  0  0   2   0   0  0  0   0  5   0  0\n",
       "90          0  0   0   0  0  0   0   0   0  0  0   0  0   0  0\n",
       "2           0  0   0   0  0  0   0   0   0  0  0   0  0   0  0\n",
       "7           0  0   2   0  0  0   0   0   0  0  0   0  0   0  0\n",
       "54          0  0   0   0  0  0   0   0   0  0  0   0  0   0  0\n",
       "6           0  0   0   0  0  0   1   0   0  0  0   0  0   0  0\n",
       "64          0  0   0   0  0  0   0   0   0  0  0   0  0   0  0\n",
       "8           0  0   0   0  0  0   0   0   0  0  0   0  0   0  0"
      ]
     },
     "execution_count": 16,
     "metadata": {},
     "output_type": "execute_result"
    }
   ],
   "source": [
    "P1"
   ]
  },
  {
   "cell_type": "code",
   "execution_count": 17,
   "metadata": {
    "colab": {
     "base_uri": "https://localhost:8080/"
    },
    "id": "O6jhUYHpjoHl",
    "outputId": "1832c995-49fa-42a6-8f38-90c92c765f44"
   },
   "outputs": [
    {
     "data": {
      "text/plain": [
       "(Int64Index([1, 4, 89, 83, 3, 5, 88, 85, 90, 2, 7, 54, 6, 64, 8], dtype='int64', name='Unnamed: 0'),\n",
       " Index(['1', '4', '89', '83', '3', '5', '88', '85', '90', '2', '7', '54', '6',\n",
       "        '64', '8'],\n",
       "       dtype='object'))"
      ]
     },
     "execution_count": 17,
     "metadata": {},
     "output_type": "execute_result"
    }
   ],
   "source": [
    "# Now that we have set the index, check for the consistency in column name and indices data type\n",
    "P1.index, P1.columns"
   ]
  },
  {
   "cell_type": "code",
   "execution_count": 18,
   "metadata": {
    "id": "YoOzw1_jk23A"
   },
   "outputs": [],
   "source": [
    "col= []\n",
    "for i in P1.columns:\n",
    "    col.append(int(i)) #this line won't run as col has not been defined above"
   ]
  },
  {
   "cell_type": "code",
   "execution_count": 19,
   "metadata": {
    "id": "N_-bVPzSBdsP"
   },
   "outputs": [],
   "source": [
    "# while the index is integer type, the column headers are Object type.\n",
    "# Lets convert the headers to integer types\n",
    "\n",
    "phases = [P1,P2,P3,P4,P5,P6,P7,P8,P9,P10,P11]\n",
    "col = []\n",
    "for p in phases:\n",
    "  for i in p.columns:\n",
    "    col.append(int(i))\n",
    "  p.columns = col\n",
    "  col = []\n"
   ]
  },
  {
   "cell_type": "code",
   "execution_count": 20,
   "metadata": {
    "colab": {
     "base_uri": "https://localhost:8080/"
    },
    "id": "jjtRrguWkbeP",
    "outputId": "21b70f11-a77d-4ce4-ac24-f7dbe8eea690"
   },
   "outputs": [
    {
     "data": {
      "text/plain": [
       "(Int64Index([1, 4, 89, 83, 3, 5, 88, 85, 90, 2, 7, 54, 6, 64, 8], dtype='int64', name='Unnamed: 0'),\n",
       " Int64Index([1, 4, 89, 83, 3, 5, 88, 85, 90, 2, 7, 54, 6, 64, 8], dtype='int64'))"
      ]
     },
     "execution_count": 20,
     "metadata": {},
     "output_type": "execute_result"
    }
   ],
   "source": [
    "# let us check if the transformation worked\n",
    "P1.index, P1.columns"
   ]
  },
  {
   "cell_type": "markdown",
   "metadata": {
    "id": "03ZZidyY9enc"
   },
   "source": [
    "## 3. Generate graph\n",
    "\n",
    "Now, that we have created the adjacency matrix, let us now try to create graphs out of these adjacency matrix.\n",
    "\n",
    "- We will use the from_pandas_adjacency function and pass on the adjacency matrix for each phase as a dataframe"
   ]
  },
  {
   "cell_type": "code",
   "execution_count": 22,
   "metadata": {
    "colab": {
     "base_uri": "https://localhost:8080/"
    },
    "id": "g6Vy6pXfa35o",
    "outputId": "138cdc5d-6b79-4292-f4ed-62ef2cd57ec6"
   },
   "outputs": [
    {
     "name": "stdout",
     "output_type": "stream",
     "text": [
      "graph1\n",
      "[5, 83, 3, 4, 1, 89, 2, 85, 7, 54, 88, 6, 64, 90, 8]\n",
      "graph2\n",
      "[3, 89, 1, 88, 5, 86, 8, 55, 90, 7, 10, 56, 97, 47, 98, 76, 83, 2, 9, 85, 6, 11, 64, 12]\n",
      "graph3\n",
      "[5, 83, 3, 4, 1, 85, 8, 55, 86, 10, 56, 76, 90, 9, 34, 35, 89, 2, 11, 52, 32, 84, 49, 107, 50, 99, 48, 6, 13, 51, 88, 7, 12]\n",
      "graph4\n",
      "[5, 83, 3, 4, 1, 89, 2, 86, 9, 35, 85, 7, 11, 53, 84, 49, 107, 90, 8, 13, 51, 63, 109, 106, 31, 88, 6, 12, 47, 14, 52, 76, 15]\n",
      "graph5\n",
      "[5, 83, 3, 4, 1, 85, 7, 47, 89, 2, 9, 84, 55, 13, 76, 15, 31, 86, 8, 12, 108, 88, 6, 11, 18, 34, 17, 100, 25, 82, 32, 19]\n",
      "graph6\n",
      "[3, 8, 11, 13, 85, 5, 4, 1, 83, 2, 6, 76, 9, 31, 14, 84, 12, 15, 25, 18, 78, 77, 87, 82, 19, 20]\n",
      "graph7\n",
      "[3, 18, 88, 5, 4, 1, 62, 85, 6, 76, 78, 87, 81, 34, 14, 17, 19, 20, 77, 22, 74, 79, 61, 68, 55, 12, 16, 75, 69, 28, 83, 2, 9, 8, 11, 15]\n",
      "graph8\n",
      "[3, 8, 18, 85, 4, 1, 86, 83, 2, 6, 76, 9, 80, 39, 34, 11, 13, 82, 77, 87, 25, 20, 84, 14, 17, 19, 22, 59, 35, 12, 16, 28, 81, 67, 73, 33, 38, 91, 78, 23, 37, 36]\n",
      "graph9\n",
      "[3, 13, 17, 29, 30, 89, 1, 88, 85, 90, 6, 83, 2, 7, 8, 76, 11, 12, 14, 78, 87, 79, 82, 18, 16, 81, 59, 37, 36, 96, 46, 105, 101, 41]\n",
      "graph10\n",
      "[3, 85, 4, 1, 83, 86, 84, 9, 8, 76, 87, 16, 18, 12, 82, 14, 65, 40, 37, 22, 17, 81, 19, 44, 38, 58, 24, 96, 46, 70, 41, 73, 21, 103, 104, 105, 27, 95, 93, 42, 71, 45]\n",
      "graph11\n",
      "[24, 83, 1, 88, 3, 85, 86, 76, 82, 14, 11, 84, 79, 17, 13, 61, 18, 12, 78, 87, 16, 81, 59, 94, 37, 96, 26, 36, 58, 101, 41, 46, 27, 93, 42, 43, 102, 72, 92, 66, 65]\n"
     ]
    }
   ],
   "source": [
    "# great, now that it has worked, let us use the dataframe as an adjacency matrix and build our graph\n",
    "\n",
    "graphs = []\n",
    "for i,p in enumerate(phases):\n",
    "  g = 'graph'+str(i+1) \n",
    "  print(g)\n",
    "  g = nx.from_pandas_adjacency(p)\n",
    "  graphs.append(g)\n",
    "  print(g.nodes())\n",
    "\n",
    "# graph1_deg = nx.degree_centrality(graph1)\n",
    "# print(graph1_deg)"
   ]
  },
  {
   "cell_type": "markdown",
   "metadata": {
    "id": "fxlErb_JBdsR"
   },
   "source": [
    "## 4. Visualizing the graphs\n",
    "\n",
    "Let us now visualize the graphs that we created above."
   ]
  },
  {
   "cell_type": "code",
   "execution_count": 23,
   "metadata": {
    "colab": {
     "base_uri": "https://localhost:8080/",
     "height": 1000
    },
    "id": "WVLaN5mH-bG3",
    "outputId": "67ebc406-c101-4073-b35a-9aa28bf7b454"
   },
   "outputs": [
    {
     "name": "stdout",
     "output_type": "stream",
     "text": [
      "****************************************************************************************\n",
      "Graph for phase: 1\n"
     ]
    },
    {
     "ename": "NetworkXError",
     "evalue": "random_state_index is incorrect",
     "output_type": "error",
     "traceback": [
      "\u001b[1;31m---------------------------------------------------------------------------\u001b[0m",
      "\u001b[1;31mIndexError\u001b[0m                                Traceback (most recent call last)",
      "\u001b[1;32m~\\anaconda3\\lib\\site-packages\\networkx\\utils\\decorators.py\u001b[0m in \u001b[0;36m_random_state\u001b[1;34m(func, *args, **kwargs)\u001b[0m\n\u001b[0;32m    395\u001b[0m         \u001b[1;32mtry\u001b[0m\u001b[1;33m:\u001b[0m\u001b[1;33m\u001b[0m\u001b[1;33m\u001b[0m\u001b[0m\n\u001b[1;32m--> 396\u001b[1;33m             \u001b[0mrandom_state_arg\u001b[0m \u001b[1;33m=\u001b[0m \u001b[0margs\u001b[0m\u001b[1;33m[\u001b[0m\u001b[0mrandom_state_index\u001b[0m\u001b[1;33m]\u001b[0m\u001b[1;33m\u001b[0m\u001b[1;33m\u001b[0m\u001b[0m\n\u001b[0m\u001b[0;32m    397\u001b[0m         \u001b[1;32mexcept\u001b[0m \u001b[0mTypeError\u001b[0m \u001b[1;32mas\u001b[0m \u001b[0me\u001b[0m\u001b[1;33m:\u001b[0m\u001b[1;33m\u001b[0m\u001b[1;33m\u001b[0m\u001b[0m\n",
      "\u001b[1;31mIndexError\u001b[0m: tuple index out of range",
      "\nThe above exception was the direct cause of the following exception:\n",
      "\u001b[1;31mNetworkXError\u001b[0m                             Traceback (most recent call last)",
      "\u001b[1;32m<ipython-input-23-1101ed6184e7>\u001b[0m in \u001b[0;36m<module>\u001b[1;34m\u001b[0m\n\u001b[0;32m      2\u001b[0m   \u001b[0mprint\u001b[0m\u001b[1;33m(\u001b[0m\u001b[1;34m\"****************************************************************************************\"\u001b[0m\u001b[1;33m)\u001b[0m\u001b[1;33m\u001b[0m\u001b[1;33m\u001b[0m\u001b[0m\n\u001b[0;32m      3\u001b[0m   \u001b[0mprint\u001b[0m\u001b[1;33m(\u001b[0m\u001b[1;34m\"Graph for phase:\"\u001b[0m\u001b[1;33m,\u001b[0m \u001b[0mi\u001b[0m\u001b[1;33m+\u001b[0m\u001b[1;36m1\u001b[0m\u001b[1;33m)\u001b[0m\u001b[1;33m\u001b[0m\u001b[1;33m\u001b[0m\u001b[0m\n\u001b[1;32m----> 4\u001b[1;33m   \u001b[0mnx\u001b[0m\u001b[1;33m.\u001b[0m\u001b[0mdraw\u001b[0m\u001b[1;33m(\u001b[0m\u001b[0mg\u001b[0m\u001b[1;33m,\u001b[0m \u001b[0mwith_labels\u001b[0m\u001b[1;33m=\u001b[0m\u001b[1;32mTrue\u001b[0m\u001b[1;33m)\u001b[0m\u001b[1;33m\u001b[0m\u001b[1;33m\u001b[0m\u001b[0m\n\u001b[0m\u001b[0;32m      5\u001b[0m   \u001b[0mplt\u001b[0m\u001b[1;33m.\u001b[0m\u001b[0mtitle\u001b[0m\u001b[1;33m(\u001b[0m\u001b[0mstr\u001b[0m\u001b[1;33m(\u001b[0m\u001b[0mg\u001b[0m\u001b[1;33m)\u001b[0m\u001b[1;33m)\u001b[0m\u001b[1;33m\u001b[0m\u001b[1;33m\u001b[0m\u001b[0m\n\u001b[0;32m      6\u001b[0m   \u001b[0mplt\u001b[0m\u001b[1;33m.\u001b[0m\u001b[0mshow\u001b[0m\u001b[1;33m(\u001b[0m\u001b[1;33m)\u001b[0m\u001b[1;33m\u001b[0m\u001b[1;33m\u001b[0m\u001b[0m\n",
      "\u001b[1;32m~\\anaconda3\\lib\\site-packages\\networkx\\drawing\\nx_pylab.py\u001b[0m in \u001b[0;36mdraw\u001b[1;34m(G, pos, ax, **kwds)\u001b[0m\n\u001b[0;32m    121\u001b[0m         \u001b[0mkwds\u001b[0m\u001b[1;33m[\u001b[0m\u001b[1;34m\"with_labels\"\u001b[0m\u001b[1;33m]\u001b[0m \u001b[1;33m=\u001b[0m \u001b[1;34m\"labels\"\u001b[0m \u001b[1;32min\u001b[0m \u001b[0mkwds\u001b[0m\u001b[1;33m\u001b[0m\u001b[1;33m\u001b[0m\u001b[0m\n\u001b[0;32m    122\u001b[0m \u001b[1;33m\u001b[0m\u001b[0m\n\u001b[1;32m--> 123\u001b[1;33m     \u001b[0mdraw_networkx\u001b[0m\u001b[1;33m(\u001b[0m\u001b[0mG\u001b[0m\u001b[1;33m,\u001b[0m \u001b[0mpos\u001b[0m\u001b[1;33m=\u001b[0m\u001b[0mpos\u001b[0m\u001b[1;33m,\u001b[0m \u001b[0max\u001b[0m\u001b[1;33m=\u001b[0m\u001b[0max\u001b[0m\u001b[1;33m,\u001b[0m \u001b[1;33m**\u001b[0m\u001b[0mkwds\u001b[0m\u001b[1;33m)\u001b[0m\u001b[1;33m\u001b[0m\u001b[1;33m\u001b[0m\u001b[0m\n\u001b[0m\u001b[0;32m    124\u001b[0m     \u001b[0max\u001b[0m\u001b[1;33m.\u001b[0m\u001b[0mset_axis_off\u001b[0m\u001b[1;33m(\u001b[0m\u001b[1;33m)\u001b[0m\u001b[1;33m\u001b[0m\u001b[1;33m\u001b[0m\u001b[0m\n\u001b[0;32m    125\u001b[0m     \u001b[0mplt\u001b[0m\u001b[1;33m.\u001b[0m\u001b[0mdraw_if_interactive\u001b[0m\u001b[1;33m(\u001b[0m\u001b[1;33m)\u001b[0m\u001b[1;33m\u001b[0m\u001b[1;33m\u001b[0m\u001b[0m\n",
      "\u001b[1;32m~\\anaconda3\\lib\\site-packages\\networkx\\drawing\\nx_pylab.py\u001b[0m in \u001b[0;36mdraw_networkx\u001b[1;34m(G, pos, arrows, with_labels, **kwds)\u001b[0m\n\u001b[0;32m    331\u001b[0m \u001b[1;33m\u001b[0m\u001b[0m\n\u001b[0;32m    332\u001b[0m     \u001b[1;32mif\u001b[0m \u001b[0mpos\u001b[0m \u001b[1;32mis\u001b[0m \u001b[1;32mNone\u001b[0m\u001b[1;33m:\u001b[0m\u001b[1;33m\u001b[0m\u001b[1;33m\u001b[0m\u001b[0m\n\u001b[1;32m--> 333\u001b[1;33m         \u001b[0mpos\u001b[0m \u001b[1;33m=\u001b[0m \u001b[0mnx\u001b[0m\u001b[1;33m.\u001b[0m\u001b[0mdrawing\u001b[0m\u001b[1;33m.\u001b[0m\u001b[0mspring_layout\u001b[0m\u001b[1;33m(\u001b[0m\u001b[0mG\u001b[0m\u001b[1;33m)\u001b[0m  \u001b[1;31m# default to spring layout\u001b[0m\u001b[1;33m\u001b[0m\u001b[1;33m\u001b[0m\u001b[0m\n\u001b[0m\u001b[0;32m    334\u001b[0m \u001b[1;33m\u001b[0m\u001b[0m\n\u001b[0;32m    335\u001b[0m     \u001b[0mdraw_networkx_nodes\u001b[0m\u001b[1;33m(\u001b[0m\u001b[0mG\u001b[0m\u001b[1;33m,\u001b[0m \u001b[0mpos\u001b[0m\u001b[1;33m,\u001b[0m \u001b[1;33m**\u001b[0m\u001b[0mnode_kwds\u001b[0m\u001b[1;33m)\u001b[0m\u001b[1;33m\u001b[0m\u001b[1;33m\u001b[0m\u001b[0m\n",
      "\u001b[1;32m~\\anaconda3\\lib\\site-packages\\decorator.py\u001b[0m in \u001b[0;36mfun\u001b[1;34m(*args, **kw)\u001b[0m\n\u001b[0;32m    229\u001b[0m             \u001b[1;32mif\u001b[0m \u001b[1;32mnot\u001b[0m \u001b[0mkwsyntax\u001b[0m\u001b[1;33m:\u001b[0m\u001b[1;33m\u001b[0m\u001b[1;33m\u001b[0m\u001b[0m\n\u001b[0;32m    230\u001b[0m                 \u001b[0margs\u001b[0m\u001b[1;33m,\u001b[0m \u001b[0mkw\u001b[0m \u001b[1;33m=\u001b[0m \u001b[0mfix\u001b[0m\u001b[1;33m(\u001b[0m\u001b[0margs\u001b[0m\u001b[1;33m,\u001b[0m \u001b[0mkw\u001b[0m\u001b[1;33m,\u001b[0m \u001b[0msig\u001b[0m\u001b[1;33m)\u001b[0m\u001b[1;33m\u001b[0m\u001b[1;33m\u001b[0m\u001b[0m\n\u001b[1;32m--> 231\u001b[1;33m             \u001b[1;32mreturn\u001b[0m \u001b[0mcaller\u001b[0m\u001b[1;33m(\u001b[0m\u001b[0mfunc\u001b[0m\u001b[1;33m,\u001b[0m \u001b[1;33m*\u001b[0m\u001b[1;33m(\u001b[0m\u001b[0mextras\u001b[0m \u001b[1;33m+\u001b[0m \u001b[0margs\u001b[0m\u001b[1;33m)\u001b[0m\u001b[1;33m,\u001b[0m \u001b[1;33m**\u001b[0m\u001b[0mkw\u001b[0m\u001b[1;33m)\u001b[0m\u001b[1;33m\u001b[0m\u001b[1;33m\u001b[0m\u001b[0m\n\u001b[0m\u001b[0;32m    232\u001b[0m     \u001b[0mfun\u001b[0m\u001b[1;33m.\u001b[0m\u001b[0m__name__\u001b[0m \u001b[1;33m=\u001b[0m \u001b[0mfunc\u001b[0m\u001b[1;33m.\u001b[0m\u001b[0m__name__\u001b[0m\u001b[1;33m\u001b[0m\u001b[1;33m\u001b[0m\u001b[0m\n\u001b[0;32m    233\u001b[0m     \u001b[0mfun\u001b[0m\u001b[1;33m.\u001b[0m\u001b[0m__doc__\u001b[0m \u001b[1;33m=\u001b[0m \u001b[0mfunc\u001b[0m\u001b[1;33m.\u001b[0m\u001b[0m__doc__\u001b[0m\u001b[1;33m\u001b[0m\u001b[1;33m\u001b[0m\u001b[0m\n",
      "\u001b[1;32m~\\anaconda3\\lib\\site-packages\\networkx\\utils\\decorators.py\u001b[0m in \u001b[0;36m_random_state\u001b[1;34m(func, *args, **kwargs)\u001b[0m\n\u001b[0;32m    398\u001b[0m             \u001b[1;32mraise\u001b[0m \u001b[0mnx\u001b[0m\u001b[1;33m.\u001b[0m\u001b[0mNetworkXError\u001b[0m\u001b[1;33m(\u001b[0m\u001b[1;34m\"random_state_index must be an integer\"\u001b[0m\u001b[1;33m)\u001b[0m \u001b[1;32mfrom\u001b[0m \u001b[0me\u001b[0m\u001b[1;33m\u001b[0m\u001b[1;33m\u001b[0m\u001b[0m\n\u001b[0;32m    399\u001b[0m         \u001b[1;32mexcept\u001b[0m \u001b[0mIndexError\u001b[0m \u001b[1;32mas\u001b[0m \u001b[0me\u001b[0m\u001b[1;33m:\u001b[0m\u001b[1;33m\u001b[0m\u001b[1;33m\u001b[0m\u001b[0m\n\u001b[1;32m--> 400\u001b[1;33m             \u001b[1;32mraise\u001b[0m \u001b[0mnx\u001b[0m\u001b[1;33m.\u001b[0m\u001b[0mNetworkXError\u001b[0m\u001b[1;33m(\u001b[0m\u001b[1;34m\"random_state_index is incorrect\"\u001b[0m\u001b[1;33m)\u001b[0m \u001b[1;32mfrom\u001b[0m \u001b[0me\u001b[0m\u001b[1;33m\u001b[0m\u001b[1;33m\u001b[0m\u001b[0m\n\u001b[0m\u001b[0;32m    401\u001b[0m \u001b[1;33m\u001b[0m\u001b[0m\n\u001b[0;32m    402\u001b[0m         \u001b[1;31m# Create a numpy.random.RandomState instance\u001b[0m\u001b[1;33m\u001b[0m\u001b[1;33m\u001b[0m\u001b[1;33m\u001b[0m\u001b[0m\n",
      "\u001b[1;31mNetworkXError\u001b[0m: random_state_index is incorrect"
     ]
    },
    {
     "data": {
      "image/png": "[encoded data removed]",
      "text/plain": [
       "<Figure size 432x288 with 1 Axes>"
      ]
     },
     "metadata": {},
     "output_type": "display_data"
    }
   ],
   "source": [
    "for i,g in enumerate(graphs):\n",
    "  print(\"****************************************************************************************\")\n",
    "  print(\"Graph for phase:\", i+1)\n",
    "  nx.draw(g, with_labels=True)\n",
    "  plt.title(str(g))\n",
    "  plt.show()"
   ]
  },
  {
   "cell_type": "markdown",
   "metadata": {
    "id": "U9jEnQDwBdsX"
   },
   "source": [
    "## 5. Centrality \n",
    "Let us now explore the various centrality measures for the above graphs as discussed in the LVC."
   ]
  },
  {
   "cell_type": "markdown",
   "metadata": {
    "id": "QFySz8jhArMM"
   },
   "source": [
    "### 5a. Degree Centrality\n",
    "- Let us now calculate the degree centrality"
   ]
  },
  {
   "cell_type": "code",
   "execution_count": 13,
   "metadata": {
    "id": "ZYPVLRY8BdsY"
   },
   "outputs": [],
   "source": [
    "# let us store the degree centralities for each nodes for a graph in a dictionary\n",
    "deg_cen = {}\n",
    "for g in graphs:\n",
    "  deg_cen[g] = nx.degree_centrality(g)"
   ]
  },
  {
   "cell_type": "code",
   "execution_count": 14,
   "metadata": {
    "colab": {
     "base_uri": "https://localhost:8080/"
    },
    "id": "IJ4xTq9QDNBd",
    "outputId": "cb6ff7e5-3eb0-4790-f704-095175b9ebe7"
   },
   "outputs": [
    {
     "data": {
      "text/plain": [
       "{<networkx.classes.graph.Graph at 0x25fe8844250>: {5: 0.07142857142857142,\n",
       "  83: 0.14285714285714285,\n",
       "  3: 0.14285714285714285,\n",
       "  4: 0.07142857142857142,\n",
       "  1: 0.8571428571428571,\n",
       "  89: 0.14285714285714285,\n",
       "  2: 0.07142857142857142,\n",
       "  85: 0.21428571428571427,\n",
       "  7: 0.07142857142857142,\n",
       "  54: 0.07142857142857142,\n",
       "  88: 0.2857142857142857,\n",
       "  6: 0.21428571428571427,\n",
       "  64: 0.07142857142857142,\n",
       "  90: 0.07142857142857142,\n",
       "  8: 0.07142857142857142},\n",
       " <networkx.classes.graph.Graph at 0x25fe88443a0>: {3: 0.13043478260869565,\n",
       "  89: 0.13043478260869565,\n",
       "  1: 0.8260869565217391,\n",
       "  88: 0.13043478260869565,\n",
       "  5: 0.043478260869565216,\n",
       "  86: 0.043478260869565216,\n",
       "  8: 0.13043478260869565,\n",
       "  55: 0.043478260869565216,\n",
       "  90: 0.043478260869565216,\n",
       "  7: 0.043478260869565216,\n",
       "  10: 0.08695652173913043,\n",
       "  56: 0.043478260869565216,\n",
       "  97: 0.043478260869565216,\n",
       "  47: 0.043478260869565216,\n",
       "  98: 0.043478260869565216,\n",
       "  76: 0.08695652173913043,\n",
       "  83: 0.08695652173913043,\n",
       "  2: 0.043478260869565216,\n",
       "  9: 0.043478260869565216,\n",
       "  85: 0.08695652173913043,\n",
       "  6: 0.043478260869565216,\n",
       "  11: 0.08695652173913043,\n",
       "  64: 0.08695652173913043,\n",
       "  12: 0.043478260869565216},\n",
       " <networkx.classes.graph.Graph at 0x25fe8844280>: {5: 0.0625,\n",
       "  83: 0.25,\n",
       "  3: 0.28125,\n",
       "  4: 0.03125,\n",
       "  1: 0.84375,\n",
       "  85: 0.125,\n",
       "  8: 0.0625,\n",
       "  55: 0.03125,\n",
       "  86: 0.125,\n",
       "  10: 0.03125,\n",
       "  56: 0.03125,\n",
       "  76: 0.0625,\n",
       "  90: 0.0625,\n",
       "  9: 0.15625,\n",
       "  34: 0.0625,\n",
       "  35: 0.03125,\n",
       "  89: 0.0625,\n",
       "  2: 0.09375,\n",
       "  11: 0.09375,\n",
       "  52: 0.09375,\n",
       "  32: 0.0625,\n",
       "  84: 0.125,\n",
       "  49: 0.15625,\n",
       "  107: 0.0625,\n",
       "  50: 0.03125,\n",
       "  99: 0.03125,\n",
       "  48: 0.03125,\n",
       "  6: 0.125,\n",
       "  13: 0.0625,\n",
       "  51: 0.03125,\n",
       "  88: 0.0625,\n",
       "  7: 0.0625,\n",
       "  12: 0.0625},\n",
       " <networkx.classes.graph.Graph at 0x25fe88440d0>: {5: 0.03125,\n",
       "  83: 0.21875,\n",
       "  3: 0.21875,\n",
       "  4: 0.03125,\n",
       "  1: 0.71875,\n",
       "  89: 0.1875,\n",
       "  2: 0.03125,\n",
       "  86: 0.09375,\n",
       "  9: 0.125,\n",
       "  35: 0.03125,\n",
       "  85: 0.15625,\n",
       "  7: 0.03125,\n",
       "  11: 0.03125,\n",
       "  53: 0.03125,\n",
       "  84: 0.0625,\n",
       "  49: 0.0625,\n",
       "  107: 0.09375,\n",
       "  90: 0.0625,\n",
       "  8: 0.125,\n",
       "  13: 0.0625,\n",
       "  51: 0.03125,\n",
       "  63: 0.03125,\n",
       "  109: 0.03125,\n",
       "  106: 0.0625,\n",
       "  31: 0.09375,\n",
       "  88: 0.0625,\n",
       "  6: 0.03125,\n",
       "  12: 0.03125,\n",
       "  47: 0.03125,\n",
       "  14: 0.03125,\n",
       "  52: 0.0625,\n",
       "  76: 0.0625,\n",
       "  15: 0.03125},\n",
       " <networkx.classes.graph.Graph at 0x25fe8844220>: {5: 0.06451612903225806,\n",
       "  83: 0.06451612903225806,\n",
       "  3: 0.16129032258064516,\n",
       "  4: 0.03225806451612903,\n",
       "  1: 0.7096774193548387,\n",
       "  85: 0.0967741935483871,\n",
       "  7: 0.03225806451612903,\n",
       "  47: 0.03225806451612903,\n",
       "  89: 0.0967741935483871,\n",
       "  2: 0.03225806451612903,\n",
       "  9: 0.06451612903225806,\n",
       "  84: 0.03225806451612903,\n",
       "  55: 0.03225806451612903,\n",
       "  13: 0.03225806451612903,\n",
       "  76: 0.06451612903225806,\n",
       "  15: 0.03225806451612903,\n",
       "  31: 0.12903225806451613,\n",
       "  86: 0.03225806451612903,\n",
       "  8: 0.06451612903225806,\n",
       "  12: 0.25806451612903225,\n",
       "  108: 0.06451612903225806,\n",
       "  88: 0.03225806451612903,\n",
       "  6: 0.06451612903225806,\n",
       "  11: 0.03225806451612903,\n",
       "  18: 0.03225806451612903,\n",
       "  34: 0.03225806451612903,\n",
       "  17: 0.03225806451612903,\n",
       "  100: 0.03225806451612903,\n",
       "  25: 0.03225806451612903,\n",
       "  82: 0.03225806451612903,\n",
       "  32: 0.03225806451612903,\n",
       "  19: 0.03225806451612903},\n",
       " <networkx.classes.graph.Graph at 0x25fe8844310>: {3: 0.56,\n",
       "  8: 0.16,\n",
       "  11: 0.08,\n",
       "  13: 0.04,\n",
       "  85: 0.2,\n",
       "  5: 0.12,\n",
       "  4: 0.04,\n",
       "  1: 0.72,\n",
       "  83: 0.08,\n",
       "  2: 0.08,\n",
       "  6: 0.04,\n",
       "  76: 0.28,\n",
       "  9: 0.08,\n",
       "  31: 0.04,\n",
       "  14: 0.08,\n",
       "  84: 0.08,\n",
       "  12: 0.36,\n",
       "  15: 0.12,\n",
       "  25: 0.04,\n",
       "  18: 0.04,\n",
       "  78: 0.04,\n",
       "  77: 0.08,\n",
       "  87: 0.08,\n",
       "  82: 0.04,\n",
       "  19: 0.12,\n",
       "  20: 0.08},\n",
       " <networkx.classes.graph.Graph at 0x25fe8844460>: {3: 0.2857142857142857,\n",
       "  18: 0.02857142857142857,\n",
       "  88: 0.05714285714285714,\n",
       "  5: 0.02857142857142857,\n",
       "  4: 0.02857142857142857,\n",
       "  1: 0.6857142857142857,\n",
       "  62: 0.02857142857142857,\n",
       "  85: 0.11428571428571428,\n",
       "  6: 0.02857142857142857,\n",
       "  76: 0.14285714285714285,\n",
       "  78: 0.05714285714285714,\n",
       "  87: 0.08571428571428572,\n",
       "  81: 0.05714285714285714,\n",
       "  34: 0.02857142857142857,\n",
       "  14: 0.02857142857142857,\n",
       "  17: 0.02857142857142857,\n",
       "  19: 0.11428571428571428,\n",
       "  20: 0.05714285714285714,\n",
       "  77: 0.08571428571428572,\n",
       "  22: 0.02857142857142857,\n",
       "  74: 0.05714285714285714,\n",
       "  79: 0.05714285714285714,\n",
       "  61: 0.02857142857142857,\n",
       "  68: 0.02857142857142857,\n",
       "  55: 0.02857142857142857,\n",
       "  12: 0.14285714285714285,\n",
       "  16: 0.02857142857142857,\n",
       "  75: 0.02857142857142857,\n",
       "  69: 0.02857142857142857,\n",
       "  28: 0.02857142857142857,\n",
       "  83: 0.08571428571428572,\n",
       "  2: 0.05714285714285714,\n",
       "  9: 0.08571428571428572,\n",
       "  8: 0.02857142857142857,\n",
       "  11: 0.05714285714285714,\n",
       "  15: 0.02857142857142857},\n",
       " <networkx.classes.graph.Graph at 0x25fe88443d0>: {3: 0.3170731707317073,\n",
       "  8: 0.07317073170731708,\n",
       "  18: 0.024390243902439025,\n",
       "  85: 0.07317073170731708,\n",
       "  4: 0.024390243902439025,\n",
       "  1: 0.4878048780487805,\n",
       "  86: 0.04878048780487805,\n",
       "  83: 0.024390243902439025,\n",
       "  2: 0.0975609756097561,\n",
       "  6: 0.024390243902439025,\n",
       "  76: 0.14634146341463417,\n",
       "  9: 0.04878048780487805,\n",
       "  80: 0.024390243902439025,\n",
       "  39: 0.024390243902439025,\n",
       "  34: 0.04878048780487805,\n",
       "  11: 0.07317073170731708,\n",
       "  13: 0.024390243902439025,\n",
       "  82: 0.04878048780487805,\n",
       "  77: 0.024390243902439025,\n",
       "  87: 0.21951219512195122,\n",
       "  25: 0.024390243902439025,\n",
       "  20: 0.04878048780487805,\n",
       "  84: 0.024390243902439025,\n",
       "  14: 0.07317073170731708,\n",
       "  17: 0.024390243902439025,\n",
       "  19: 0.04878048780487805,\n",
       "  22: 0.04878048780487805,\n",
       "  59: 0.024390243902439025,\n",
       "  35: 0.024390243902439025,\n",
       "  12: 0.24390243902439024,\n",
       "  16: 0.024390243902439025,\n",
       "  28: 0.024390243902439025,\n",
       "  81: 0.04878048780487805,\n",
       "  67: 0.024390243902439025,\n",
       "  73: 0.04878048780487805,\n",
       "  33: 0.024390243902439025,\n",
       "  38: 0.024390243902439025,\n",
       "  91: 0.024390243902439025,\n",
       "  78: 0.024390243902439025,\n",
       "  23: 0.024390243902439025,\n",
       "  37: 0.04878048780487805,\n",
       "  36: 0.024390243902439025},\n",
       " <networkx.classes.graph.Graph at 0x25fe88444f0>: {3: 0.33333333333333337,\n",
       "  13: 0.030303030303030304,\n",
       "  17: 0.030303030303030304,\n",
       "  29: 0.030303030303030304,\n",
       "  30: 0.06060606060606061,\n",
       "  89: 0.030303030303030304,\n",
       "  1: 0.30303030303030304,\n",
       "  88: 0.030303030303030304,\n",
       "  85: 0.09090909090909091,\n",
       "  90: 0.030303030303030304,\n",
       "  6: 0.030303030303030304,\n",
       "  83: 0.030303030303030304,\n",
       "  2: 0.030303030303030304,\n",
       "  7: 0.06060606060606061,\n",
       "  8: 0.06060606060606061,\n",
       "  76: 0.15151515151515152,\n",
       "  11: 0.030303030303030304,\n",
       "  12: 0.24242424242424243,\n",
       "  14: 0.030303030303030304,\n",
       "  78: 0.06060606060606061,\n",
       "  87: 0.24242424242424243,\n",
       "  79: 0.09090909090909091,\n",
       "  82: 0.18181818181818182,\n",
       "  18: 0.030303030303030304,\n",
       "  16: 0.030303030303030304,\n",
       "  81: 0.030303030303030304,\n",
       "  59: 0.030303030303030304,\n",
       "  37: 0.030303030303030304,\n",
       "  36: 0.030303030303030304,\n",
       "  96: 0.12121212121212122,\n",
       "  46: 0.06060606060606061,\n",
       "  105: 0.030303030303030304,\n",
       "  101: 0.030303030303030304,\n",
       "  41: 0.030303030303030304},\n",
       " <networkx.classes.graph.Graph at 0x25fe8844580>: {3: 0.024390243902439025,\n",
       "  85: 0.07317073170731708,\n",
       "  4: 0.024390243902439025,\n",
       "  1: 0.3170731707317073,\n",
       "  83: 0.04878048780487805,\n",
       "  86: 0.024390243902439025,\n",
       "  84: 0.04878048780487805,\n",
       "  9: 0.024390243902439025,\n",
       "  8: 0.04878048780487805,\n",
       "  76: 0.07317073170731708,\n",
       "  87: 0.2682926829268293,\n",
       "  16: 0.024390243902439025,\n",
       "  18: 0.024390243902439025,\n",
       "  12: 0.17073170731707318,\n",
       "  82: 0.12195121951219512,\n",
       "  14: 0.07317073170731708,\n",
       "  65: 0.024390243902439025,\n",
       "  40: 0.024390243902439025,\n",
       "  37: 0.21951219512195122,\n",
       "  22: 0.024390243902439025,\n",
       "  17: 0.024390243902439025,\n",
       "  81: 0.04878048780487805,\n",
       "  19: 0.024390243902439025,\n",
       "  44: 0.024390243902439025,\n",
       "  38: 0.024390243902439025,\n",
       "  58: 0.04878048780487805,\n",
       "  24: 0.07317073170731708,\n",
       "  96: 0.04878048780487805,\n",
       "  46: 0.04878048780487805,\n",
       "  70: 0.024390243902439025,\n",
       "  41: 0.04878048780487805,\n",
       "  73: 0.024390243902439025,\n",
       "  21: 0.024390243902439025,\n",
       "  103: 0.024390243902439025,\n",
       "  104: 0.024390243902439025,\n",
       "  105: 0.04878048780487805,\n",
       "  27: 0.024390243902439025,\n",
       "  95: 0.024390243902439025,\n",
       "  93: 0.024390243902439025,\n",
       "  42: 0.024390243902439025,\n",
       "  71: 0.04878048780487805,\n",
       "  45: 0.024390243902439025},\n",
       " <networkx.classes.graph.Graph at 0x25fe8844610>: {24: 0.025,\n",
       "  83: 0.025,\n",
       "  1: 0.17500000000000002,\n",
       "  88: 0.025,\n",
       "  3: 0.025,\n",
       "  85: 0.07500000000000001,\n",
       "  86: 0.025,\n",
       "  76: 0.17500000000000002,\n",
       "  82: 0.1,\n",
       "  14: 0.05,\n",
       "  11: 0.025,\n",
       "  84: 0.05,\n",
       "  79: 0.125,\n",
       "  17: 0.05,\n",
       "  13: 0.05,\n",
       "  61: 0.025,\n",
       "  18: 0.025,\n",
       "  12: 0.30000000000000004,\n",
       "  78: 0.025,\n",
       "  87: 0.1,\n",
       "  16: 0.025,\n",
       "  81: 0.025,\n",
       "  59: 0.05,\n",
       "  94: 0.025,\n",
       "  37: 0.07500000000000001,\n",
       "  96: 0.05,\n",
       "  26: 0.025,\n",
       "  36: 0.025,\n",
       "  58: 0.05,\n",
       "  101: 0.05,\n",
       "  41: 0.225,\n",
       "  46: 0.025,\n",
       "  27: 0.1,\n",
       "  93: 0.05,\n",
       "  42: 0.025,\n",
       "  43: 0.025,\n",
       "  102: 0.07500000000000001,\n",
       "  72: 0.025,\n",
       "  92: 0.025,\n",
       "  66: 0.025,\n",
       "  65: 0.025}}"
      ]
     },
     "execution_count": 14,
     "metadata": {},
     "output_type": "execute_result"
    }
   ],
   "source": [
    "# let us look at the deg_cen dictionary\n",
    "deg_cen"
   ]
  },
  {
   "cell_type": "markdown",
   "metadata": {
    "id": "WcX-YIz3RbgQ"
   },
   "source": [
    "### 5b. Eigen, Betweenness, Closeness Centrality measures"
   ]
  },
  {
   "cell_type": "code",
   "execution_count": 15,
   "metadata": {
    "id": "gLHt7j5lZma0"
   },
   "outputs": [],
   "source": [
    "# Similarily, we can generate other centrality measures\n",
    "# let us try all the measures that we learnt in the LVC\n",
    "\n",
    "# Eigen Vector Centrality\n",
    "\n",
    "eig_cen = {}\n",
    "for g in graphs:\n",
    "  eig_cen[g] = nx.eigenvector_centrality(g)\n",
    "\n",
    "\n",
    "# Betweenness Centrality\n",
    "\n",
    "betw_cen = {}\n",
    "for g in graphs:\n",
    "  betw_cen[g] = nx.betweenness_centrality(g)\n",
    "\n",
    "# Closeness Centrality\n",
    "\n",
    "clo_cen = {}\n",
    "for g in graphs:\n",
    "  clo_cen[g] = nx.closeness_centrality(g)"
   ]
  },
  {
   "cell_type": "markdown",
   "metadata": {
    "id": "bhQhRcKzGl1D"
   },
   "source": [
    "### We have now created the dictionaries with the centrality measures\n",
    "\n",
    "- The dictionaries are deg_cen, eig_cen, betw_cen, clo_cen\n",
    "- We can sort the dictionaries to obtain the nodes that are the most important."
   ]
  },
  {
   "cell_type": "code",
   "execution_count": 16,
   "metadata": {
    "colab": {
     "base_uri": "https://localhost:8080/"
    },
    "id": "XB810n34HENo",
    "outputId": "cde4ee57-9699-4e3a-b5a0-c9174d2e0077"
   },
   "outputs": [
    {
     "name": "stdout",
     "output_type": "stream",
     "text": [
      "Sorted Importance of nodes in terms of deg_cen for Phase 1 is [1, 88, 85, 6, 83]\n",
      "\n",
      "Sorted Importance of nodes in terms of deg_cen for Phase 2 is [1, 3, 89, 88, 8]\n",
      "\n",
      "Sorted Importance of nodes in terms of deg_cen for Phase 3 is [1, 3, 83, 9, 49]\n",
      "\n",
      "Sorted Importance of nodes in terms of deg_cen for Phase 4 is [1, 83, 3, 89, 85]\n",
      "\n",
      "Sorted Importance of nodes in terms of deg_cen for Phase 5 is [1, 12, 3, 31, 85]\n",
      "\n",
      "Sorted Importance of nodes in terms of deg_cen for Phase 6 is [1, 3, 12, 76, 85]\n",
      "\n",
      "Sorted Importance of nodes in terms of deg_cen for Phase 7 is [1, 3, 76, 12, 85]\n",
      "\n",
      "Sorted Importance of nodes in terms of deg_cen for Phase 8 is [1, 3, 12, 87, 76]\n",
      "\n",
      "Sorted Importance of nodes in terms of deg_cen for Phase 9 is [3, 1, 12, 87, 82]\n",
      "\n",
      "Sorted Importance of nodes in terms of deg_cen for Phase 10 is [1, 87, 37, 12, 82]\n",
      "\n",
      "Sorted Importance of nodes in terms of deg_cen for Phase 11 is [12, 41, 1, 76, 79]\n",
      "\n"
     ]
    }
   ],
   "source": [
    "# let us now sort the degree centrality measure and identify the important nodes.\n",
    "\n",
    "for ix, g in enumerate(graphs):\n",
    "  temp_dict = {}\n",
    "  for w in sorted(deg_cen[g], key=deg_cen[g].get, reverse=True):\n",
    "    temp_dict[w] = deg_cen[g][w]\n",
    "  print(\"Sorted Importance of nodes in terms of deg_cen for Phase {} is {}\".format(ix+1, list(temp_dict.keys())[:5]))\n",
    "  print()"
   ]
  },
  {
   "cell_type": "markdown",
   "metadata": {
    "id": "9LecChJhX0mw"
   },
   "source": [
    "#### We generated the degree centrality based top 5 most important nodes in each phase.\n",
    "- We can go ahead and repeat the same exercise for the other centrality measures."
   ]
  },
  {
   "cell_type": "markdown",
   "metadata": {
    "id": "DShPJa9RYSPW"
   },
   "source": [
    "## 6. Understanding the variation of node importance across phases\n",
    "- From the above analysis we figure out that some nodes appear to be more important than the others and we will focus our attention on analyzing those.\n",
    "\n",
    "- Let us take out Node1, Node3 and Node12 and visualize their importance across phases. We will look at the betweenness and degree centrality only. Learners are encouraged to try out the same for other measures."
   ]
  },
  {
   "cell_type": "code",
   "execution_count": 17,
   "metadata": {
    "id": "1IUzgL-WYsao"
   },
   "outputs": [],
   "source": [
    "# Let us first start with node 1.\n",
    "\n",
    "node1_deg = []\n",
    "phases = []\n",
    "for ix, g in enumerate(graphs):\n",
    "  node1_deg.append(deg_cen[g][1]*100)\n",
    "  phases.append(ix+1)\n",
    "\n",
    "node1_bet = []\n",
    "\n",
    "for ix, g in enumerate(graphs):\n",
    "  node1_bet.append(betw_cen[g][1]*100)\n",
    "\n",
    "# Now, let us calculate for node 3 and 12 too.\n",
    "\n",
    "# Node3\n",
    "node3_deg = []\n",
    "for ix, g in enumerate(graphs):\n",
    "  node3_deg.append(deg_cen[g][3]*100)\n",
    "\n",
    "node3_bet = []\n",
    "for ix, g in enumerate(graphs):\n",
    "  node3_bet.append(betw_cen[g][3]*100)\n",
    "\n",
    "# Node12\n",
    "node12_deg = []\n",
    "for ix, g in enumerate(graphs):\n",
    "  if (12 in deg_cen[g].keys()):\n",
    "    node12_deg.append(deg_cen[g][12]*100)\n",
    "  else:\n",
    "    node12_deg.append(None)\n",
    "\n",
    "node12_bet = []\n",
    "for ix, g in enumerate(graphs):\n",
    "  if (12 in betw_cen[g].keys()):\n",
    "    node12_bet.append(betw_cen[g][12]*100)\n",
    "  else:\n",
    "    node12_bet.append(None)\n"
   ]
  },
  {
   "cell_type": "code",
   "execution_count": 18,
   "metadata": {
    "colab": {
     "base_uri": "https://localhost:8080/",
     "height": 442
    },
    "id": "Xa371wmzYsgA",
    "outputId": "96dbd50f-657d-4303-ff97-4bb8ee142bcb"
   },
   "outputs": [
    {
     "data": {
      "image/png": "[encoded data removed]",
      "text/plain": [
       "<Figure size 720x504 with 1 Axes>"
      ]
     },
     "metadata": {},
     "output_type": "display_data"
    }
   ],
   "source": [
    "# Now, let us plot the same using plt.plot\n",
    "\n",
    "# Plot Degree centrality for nodes 1, 3 and 12\n",
    "plt.figure(figsize = (10,7))\n",
    "plt.plot(phases, node1_deg,  label='Node 1')\n",
    "plt.plot(phases, node3_deg, label='Node 3')\n",
    "plt.plot(phases, node12_deg, label='Node 12')\n",
    "\n",
    "plt.ylabel('Degree centrality(*100)')\n",
    "plt.xlabel('Phases')\n",
    "plt.legend()\n",
    "plt.show()"
   ]
  },
  {
   "cell_type": "code",
   "execution_count": 19,
   "metadata": {
    "colab": {
     "base_uri": "https://localhost:8080/",
     "height": 442
    },
    "id": "ulrLQv7Ugx8D",
    "outputId": "e7e971b9-7a2b-48c7-a27d-eca2f9f55702"
   },
   "outputs": [
    {
     "data": {
      "image/png": "[encoded data removed]",
      "text/plain": [
       "<Figure size 720x504 with 1 Axes>"
      ]
     },
     "metadata": {},
     "output_type": "display_data"
    }
   ],
   "source": [
    "# plotting the Betweenness Centrality\n",
    "\n",
    "# Plot Degree centrality for nodes 1, 3 and 12\n",
    "plt.figure(figsize = (10,7))\n",
    "plt.plot(phases, node1_bet,  label='Node 1')\n",
    "plt.plot(phases, node3_bet, label='Node 3')\n",
    "plt.plot(phases, node12_bet, label='Node 12')\n",
    "\n",
    "plt.ylabel('Betweenness centrality(*100)')\n",
    "plt.xlabel('Phases')\n",
    "plt.legend()\n",
    "plt.show()"
   ]
  },
  {
   "cell_type": "markdown",
   "metadata": {
    "id": "PAzGIOCNsG0-"
   },
   "source": [
    "## Comments:\n",
    "- We carried out the analysis on the network and figured out techniques to read adjacency matrices into graphs.\n",
    "- We later visualized the graphs, created centrality measures and identified important nodes - N1, N3, N12\n",
    "- We studied and plotted the variation in the centrality of the important nodes across phases in a bid to understand the affect of disruption of the network."
   ]
  },
  {
   "cell_type": "markdown",
   "metadata": {
    "id": "gSyiSBrLtlOO"
   },
   "source": [
    "### Bonus: We can highlight the important nodes in our plots\n",
    "\n",
    "- Let have a look at the phase 1 graph: graph1\n"
   ]
  },
  {
   "cell_type": "code",
   "execution_count": 20,
   "metadata": {
    "colab": {
     "base_uri": "https://localhost:8080/",
     "height": 319
    },
    "id": "Z9ISpjycnWT0",
    "outputId": "31a4a895-96b9-46a4-a4f9-6deeb2843c23"
   },
   "outputs": [
    {
     "data": {
      "image/png": "[encoded data removed]",
      "text/plain": [
       "<Figure size 432x288 with 1 Axes>"
      ]
     },
     "metadata": {},
     "output_type": "display_data"
    }
   ],
   "source": [
    "graph2 = nx.from_pandas_adjacency(P2)\n",
    "color = []\n",
    "for node in graph2:\n",
    "    if (node == 1 or node == 12  or node == 3):\n",
    "        color.append('red')\n",
    "    else:\n",
    "        color.append('green')\n",
    "nx.draw_spring(graph2,node_color=color,with_labels=True)"
   ]
  },
  {
   "cell_type": "markdown",
   "metadata": {
    "id": "bkJ-um6tv-Uf"
   },
   "source": [
    "### Comments:\n",
    "- The important nodes have been marked in red"
   ]
  }
 ],
 "metadata": {
  "colab": {
   "collapsed_sections": [],
   "name": "LVC 2 Practical Application - CAVIAR.ipynb",
   "provenance": []
  },
  "kernelspec": {
   "display_name": "Python 3",
   "language": "python",
   "name": "python3"
  },
  "language_info": {
   "codemirror_mode": {
    "name": "ipython",
    "version": 3
   },
   "file_extension": ".py",
   "mimetype": "text/x-python",
   "name": "python",
   "nbconvert_exporter": "python",
   "pygments_lexer": "ipython3",
   "version": "3.8.8"
  }
 },
 "nbformat": 4,
 "nbformat_minor": 1
}

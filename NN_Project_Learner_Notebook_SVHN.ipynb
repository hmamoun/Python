{
  "nbformat": 4,
  "nbformat_minor": 0,
  "metadata": {
    "accelerator": "TPU",
    "colab": {
      "name": "NN_Project_Learner_Notebook_SVHN.ipynb",
      "provenance": [],
      "collapsed_sections": [],
      "toc_visible": true,
      "include_colab_link": true
    },
    "kernelspec": {
      "display_name": "Python 3",
      "language": "python",
      "name": "python3"
    },
    "language_info": {
      "codemirror_mode": {
        "name": "ipython",
        "version": 3
      },
      "file_extension": ".py",
      "mimetype": "text/x-python",
      "name": "python",
      "nbconvert_exporter": "python",
      "pygments_lexer": "ipython3",
      "version": "3.8.8"
    }
  },
  "cells": [
    {
      "cell_type": "markdown",
      "metadata": {
        "id": "view-in-github",
        "colab_type": "text"
      },
      "source": [
        "<a href=\"https://colab.research.google.com/github/hmamoun/Python/blob/main/NN_Project_Learner_Notebook_SVHN.ipynb\" target=\"_parent\"><img src=\"https://colab.research.google.com/assets/colab-badge.svg\" alt=\"Open In Colab\"/></a>"
      ]
    },
    {
      "cell_type": "markdown",
      "metadata": {
        "id": "Q91KqmCRu64D"
      },
      "source": [
        "# **Project - Artificial Neural Networks: Street View Housing Number Digit Recognition**\n",
        "\n",
        "# Marks: 30\n",
        "\n",
        "Welcome to the project on classification using Artificial Neural Networks. We will work with the Street View Housing Numbers (SVHN) image dataset for this project.\n",
        "\n",
        "--------------\n",
        "### **Context:** \n",
        "--------------\n",
        "\n",
        "One of the most interesting tasks in deep learning is to recognize objects in natural scenes. The ability to process visual information using machine learning algorithms can be very useful as demonstrated in various applications.\n",
        "\n",
        "The SVHN dataset contains over 600,000 labeled digits cropped from street level photos. It is one of the most popular image recognition datasets. It has been used in neural networks created by Google to improve map quality by automatically transcribing the address numbers from a patch of pixels. The transcribed number with a known street address helps pinpoint the location of the building it represents. \n",
        "\n",
        "----------------\n",
        "### **Objective:**\n",
        "----------------\n",
        "\n",
        "Build a feed forward neural network model that can identify the digits in the images. \n",
        "\n",
        "-------------\n",
        "### **Dataset**\n",
        "-------------\n",
        "Here, we will use a subset of the original data to save some computation time. The dataset is provided as a .h5 file. The basic preprocessing steps have been done."
      ]
    },
    {
      "cell_type": "markdown",
      "metadata": {
        "id": "8z2Z7-OAs8QG"
      },
      "source": [
        "## **Mount the drive**\n",
        "Let us start by mounting the drive and importing the necessary libraries."
      ]
    },
    {
      "cell_type": "code",
      "metadata": {
        "id": "kY6LkogVYFme"
      },
      "source": [
        "#!pip install google-colab"
      ],
      "execution_count": 55,
      "outputs": []
    },
    {
      "cell_type": "code",
      "metadata": {
        "colab": {
          "base_uri": "https://localhost:8080/"
        },
        "id": "03lDyQUuef7z",
        "outputId": "2c7d80d8-8a9d-4607-e764-f57b612215f9"
      },
      "source": [
        "from google.colab import drive\n",
        "drive.mount('/content/drive')"
      ],
      "execution_count": 56,
      "outputs": [
        {
          "output_type": "stream",
          "name": "stdout",
          "text": [
            "Drive already mounted at /content/drive; to attempt to forcibly remount, call drive.mount(\"/content/drive\", force_remount=True).\n"
          ]
        }
      ]
    },
    {
      "cell_type": "markdown",
      "metadata": {
        "id": "C8U3DUa3eNsT"
      },
      "source": [
        "## **Importing libraries**"
      ]
    },
    {
      "cell_type": "code",
      "metadata": {
        "id": "-dVzeuF3eQx1"
      },
      "source": [
        "import numpy as np\n",
        "import pandas as pd\n",
        "import matplotlib.pyplot as plt\n",
        "import seaborn as sns\n",
        "\n",
        "from sklearn.model_selection import train_test_split\n",
        "from sklearn.preprocessing import MinMaxScaler\n",
        "\n",
        "import tensorflow as tf\n",
        "from tensorflow.keras.models import Sequential    \n",
        "from tensorflow.keras.layers import Dense, Dropout, Activation, BatchNormalization\n",
        "from tensorflow.keras.utils import to_categorical"
      ],
      "execution_count": 57,
      "outputs": []
    },
    {
      "cell_type": "markdown",
      "metadata": {
        "id": "ucnevGLoyKf_"
      },
      "source": [
        "Let us check for the version of TensorFlow."
      ]
    },
    {
      "cell_type": "code",
      "metadata": {
        "colab": {
          "base_uri": "https://localhost:8080/"
        },
        "id": "W5as47YxyJVk",
        "outputId": "087c79c1-cc7b-4262-a7cd-99ebf95e2edb"
      },
      "source": [
        "print(tf.__version__)"
      ],
      "execution_count": 58,
      "outputs": [
        {
          "output_type": "stream",
          "name": "stdout",
          "text": [
            "2.6.0\n"
          ]
        }
      ]
    },
    {
      "cell_type": "markdown",
      "metadata": {
        "id": "8lsux2ZwyTTR"
      },
      "source": [
        "## **Load the dataset**\n",
        "- Let us now load the dataset that is available as a .h5 file.\n",
        "- Split the data into train and the test dataset"
      ]
    },
    {
      "cell_type": "code",
      "metadata": {
        "id": "BApX9qgNsqV0",
        "scrolled": true
      },
      "source": [
        "import h5py\n",
        "\n",
        "# Open the file as read only\n",
        "# User can make changes in the path as required\n",
        "#h5f = h5py.File('../SVHN_single_grey1.h5', 'r')\n",
        "h5f = h5py.File('/content/drive/MyDrive/Colab Notebooks/SVHN_single_grey1.h5', 'r')\n",
        "\n",
        "# Load the training and the test set\n",
        "X_train = h5f['X_train'][:]\n",
        "y_train = h5f['y_train'][:]\n",
        "X_test = h5f['X_test'][:]\n",
        "y_test = h5f['y_test'][:]\n",
        "\n",
        "\n",
        "# Close this file\n",
        "h5f.close()"
      ],
      "execution_count": 59,
      "outputs": []
    },
    {
      "cell_type": "markdown",
      "metadata": {
        "id": "hVe0CYpUgj7w"
      },
      "source": [
        "Let's check the number of images in the training and testing data."
      ]
    },
    {
      "cell_type": "code",
      "metadata": {
        "colab": {
          "base_uri": "https://localhost:8080/"
        },
        "id": "y3lwKpOefkpA",
        "outputId": "0d2d75c3-6126-40af-c26f-cba3a90b00be"
      },
      "source": [
        "len(X_train), len(X_test)"
      ],
      "execution_count": 60,
      "outputs": [
        {
          "output_type": "execute_result",
          "data": {
            "text/plain": [
              "(42000, 18000)"
            ]
          },
          "metadata": {},
          "execution_count": 60
        }
      ]
    },
    {
      "cell_type": "markdown",
      "metadata": {
        "id": "akTUOfLlgwoM"
      },
      "source": [
        "**Observations**\n",
        "- There are 42,000 images in the training data and 18,000 images in the testing data. "
      ]
    },
    {
      "cell_type": "markdown",
      "metadata": {
        "id": "kxODV6HKykuc"
      },
      "source": [
        "## **Visualizing images**\n",
        "- Use X_train to visualize the first 10 images\n",
        "- Use Y_train to print the first 10 labels"
      ]
    },
    {
      "cell_type": "code",
      "metadata": {
        "colab": {
          "base_uri": "https://localhost:8080/",
          "height": 137
        },
        "id": "Bvsc8ytHsqWD",
        "outputId": "aff79b9b-1f48-4307-d6d1-c72eb046eb1a"
      },
      "source": [
        "# visualizing the first 10 images in the dataset and their labels\n",
        "plt.figure(figsize=(10, 1))\n",
        "\n",
        "for i in range(10):\n",
        "    plt.subplot(1, 10, i+1)\n",
        "    plt.imshow(X_train[i], cmap=\"gray\")\n",
        "    plt.axis('off')\n",
        "\n",
        "plt.show()\n",
        "for i in range(10):\n",
        "    plt.subplot(1, 10, i+1)\n",
        "    plt.imshow(X_train[i], cmap=plt.cm.binary)\n",
        "    plt.axis('off')\n",
        "\n",
        "plt.show()\n",
        "print('label for each of the above image: %s' % (y_train[0:10]))"
      ],
      "execution_count": 61,
      "outputs": [
        {
          "output_type": "display_data",
          "data": {
            "image/png": "[encoded data removed]",
            "text/plain": [
              "<Figure size 720x72 with 10 Axes>"
            ]
          },
          "metadata": {
            "needs_background": "light"
          }
        },
        {
          "output_type": "display_data",
          "data": {
            "image/png": "[encoded data removed]",
            "text/plain": [
              "<Figure size 432x288 with 10 Axes>"
            ]
          },
          "metadata": {
            "needs_background": "light"
          }
        },
        {
          "output_type": "stream",
          "name": "stdout",
          "text": [
            "label for each of the above image: [2 6 7 4 4 0 3 0 7 3]\n"
          ]
        }
      ]
    },
    {
      "cell_type": "markdown",
      "metadata": {
        "id": "kzoyeXHOy80N"
      },
      "source": [
        "## **Data preparation**\n",
        "\n",
        "- Print the first image in the train image and figure out the shape of the images\n",
        "- Reshape the train and the test dataset to flatten them. Figure out the required shape\n",
        "- Normalise the train and the test dataset by dividing by 255\n",
        "- Print the new shapes of the train and the test set\n",
        "- One-hot encode the target variable"
      ]
    },
    {
      "cell_type": "code",
      "metadata": {
        "colab": {
          "base_uri": "https://localhost:8080/"
        },
        "id": "NqndzQXng9rL",
        "outputId": "f41455c8-a87e-4e8a-c6ef-0f5c88b5904e"
      },
      "source": [
        "# Shape of the images and the first image\n",
        "\n",
        "print(\"Shape:\", X_train[0].shape)\n",
        "print()\n",
        "print(\"First image:\\n\", X_train[0])"
      ],
      "execution_count": 62,
      "outputs": [
        {
          "output_type": "stream",
          "name": "stdout",
          "text": [
            "Shape: (32, 32)\n",
            "\n",
            "First image:\n",
            " [[ 33.0704  30.2601  26.852  ...  71.4471  58.2204  42.9939]\n",
            " [ 25.2283  25.5533  29.9765 ... 113.0209 103.3639  84.2949]\n",
            " [ 26.2775  22.6137  40.4763 ... 113.3028 121.775  115.4228]\n",
            " ...\n",
            " [ 28.5502  36.212   45.0801 ...  24.1359  25.0927  26.0603]\n",
            " [ 38.4352  26.4733  23.2717 ...  28.1094  29.4683  30.0661]\n",
            " [ 50.2984  26.0773  24.0389 ...  49.6682  50.853   53.0377]]\n"
          ]
        }
      ]
    },
    {
      "cell_type": "code",
      "metadata": {
        "id": "D9YPwf9ysqWU"
      },
      "source": [
        "# Reshaping the dataset to flatten them. Remember that we are trying to reshape the 2D image data into a 1D array\n",
        "\n",
        "X_train = X_train.reshape(X_train.shape[0], 1024)\n",
        "X_test = X_test.reshape(X_test.shape[0], 1024)"
      ],
      "execution_count": 63,
      "outputs": []
    },
    {
      "cell_type": "markdown",
      "metadata": {
        "id": "VxCu9DtrGzH6"
      },
      "source": [
        "#### **Question 1: Normalize the train and test data (2 Marks)**"
      ]
    },
    {
      "cell_type": "code",
      "metadata": {
        "id": "q_yUUTp_mUzB"
      },
      "source": [
        "# Normalize inputs from 0-255 to 0-1\n",
        "\n",
        "X_train = X_train.astype('float32')/255\n",
        "X_test = X_test.astype('float32')/255"
      ],
      "execution_count": 64,
      "outputs": []
    },
    {
      "cell_type": "code",
      "metadata": {
        "colab": {
          "base_uri": "https://localhost:8080/"
        },
        "id": "t7FSqOpamWkH",
        "outputId": "b2d64979-2813-47e8-df5c-84992b062627"
      },
      "source": [
        "# New shape \n",
        "\n",
        "print('Training set:', X_train.shape, y_train.shape)\n",
        "print('Test set:', X_test.shape, y_test.shape)"
      ],
      "execution_count": 65,
      "outputs": [
        {
          "output_type": "stream",
          "name": "stdout",
          "text": [
            "Training set: (42000, 1024) (42000,)\n",
            "Test set: (18000, 1024) (18000,)\n"
          ]
        }
      ]
    },
    {
      "cell_type": "code",
      "metadata": {
        "colab": {
          "base_uri": "https://localhost:8080/"
        },
        "id": "zL0lYER4sqWw",
        "outputId": "e6fb6f45-a02f-4d4e-d38d-e3a31c82f19d"
      },
      "source": [
        "# one hot encode output\n",
        "y_train = to_categorical(y_train)\n",
        "y_test = to_categorical(y_test)\n",
        "\n",
        "# no.of classes\n",
        "y_test"
      ],
      "execution_count": 66,
      "outputs": [
        {
          "output_type": "execute_result",
          "data": {
            "text/plain": [
              "array([[0., 1., 0., ..., 0., 0., 0.],\n",
              "       [0., 0., 0., ..., 1., 0., 0.],\n",
              "       [0., 0., 1., ..., 0., 0., 0.],\n",
              "       ...,\n",
              "       [0., 0., 0., ..., 1., 0., 0.],\n",
              "       [0., 0., 0., ..., 0., 0., 1.],\n",
              "       [0., 0., 1., ..., 0., 0., 0.]], dtype=float32)"
            ]
          },
          "metadata": {},
          "execution_count": 66
        }
      ]
    },
    {
      "cell_type": "markdown",
      "metadata": {
        "id": "ViqPOTquCF76"
      },
      "source": [
        "**Observations**\n",
        "- Notice that each entry of y_test is a one-hot encoded vector instead of a single label."
      ]
    },
    {
      "cell_type": "markdown",
      "metadata": {
        "id": "yH-gVrzuByNA"
      },
      "source": [
        "## **Model Building**\n",
        "\n",
        "Now, we have done the data preprocessing, let's build an ANN model."
      ]
    },
    {
      "cell_type": "code",
      "metadata": {
        "id": "d9ZjN17XGzIA"
      },
      "source": [
        "#Fixing the seed for random number generators\n",
        "np.random.seed(42)\n",
        "import random\n",
        "random.seed(42)\n",
        "tf.random.set_seed(42)"
      ],
      "execution_count": 67,
      "outputs": []
    },
    {
      "cell_type": "markdown",
      "metadata": {
        "id": "UJDUoaEj1d6e"
      },
      "source": [
        "### **Model Architecture**\n",
        "- Write a function that returns a sequential model with the following architecture\n",
        " - First hidden layer with **64 nodes and relu activation** and the input shape which is used above\n",
        " - Second hidden layer with **32 nodes and relu activation**\n",
        " - Output layer with **softmax activation and number of nodes equal to the number of classes**\n",
        " -Compile the model with the **categorical_crossentropy loss, adam optimizer (learning_rate = 0.001), and accuracy metric**. Do not fit the model here, just return the compiled model.\n",
        "- Call the function and store the model in a new variable \n",
        "- Print the summary of the model\n",
        "- Fit on the train data with a **validation split of 0.2, batch size = 128, verbose = 1, and 20 epochs**. Store the model building history to use later for visualization."
      ]
    },
    {
      "cell_type": "markdown",
      "metadata": {
        "id": "24NB3aVsGzIC"
      },
      "source": [
        "#### **Question 2: Build and train a ANN model as per the above mentioned architecture (10 Marks)**"
      ]
    },
    {
      "cell_type": "code",
      "metadata": {
        "id": "Cmi81Gr5sqW-"
      },
      "source": [
        "#Importing losses and optimizers modules\n",
        "from tensorflow.keras import losses\n",
        "from tensorflow.keras import optimizers\n",
        "\n",
        "#Define the function\n",
        "def nn_model_1():\n",
        "    model = Sequential() \n",
        "    #Add layers as per the architecture mentioned above in the same sequence\n",
        "    model.add(Dense(64, activation='relu', input_shape=(42000, 1024)))\n",
        "    model.add(Dense(32, activation='relu'))\n",
        "    model.add(Dense(10, activation='softmax'))\n",
        "\n",
        "    #declare adam optimizer with learning rate of 0.001 \n",
        "    adam = optimizers.Adam(learning_rate=0.001)\n",
        "    \n",
        "    #compile the model\n",
        "    model.compile(optimizer=adam, loss=\"categorical_crossentropy\", metrics=[\"accuracy\"])\n",
        "    \n",
        "    return model\n",
        "\n",
        "\n"
      ],
      "execution_count": 68,
      "outputs": []
    },
    {
      "cell_type": "code",
      "metadata": {
        "id": "bGCUI_xsImnH"
      },
      "source": [
        "# Build the model\n",
        "model_1 = nn_model_1()"
      ],
      "execution_count": 69,
      "outputs": []
    },
    {
      "cell_type": "code",
      "metadata": {
        "id": "ckJsLdmdQadZ",
        "colab": {
          "base_uri": "https://localhost:8080/"
        },
        "outputId": "70d99086-91b4-45c6-c6e3-7424c6241699"
      },
      "source": [
        "#Print the summary\n",
        "model_1.summary()"
      ],
      "execution_count": 70,
      "outputs": [
        {
          "output_type": "stream",
          "name": "stdout",
          "text": [
            "Model: \"sequential_3\"\n",
            "_________________________________________________________________\n",
            "Layer (type)                 Output Shape              Param #   \n",
            "=================================================================\n",
            "dense_18 (Dense)             (None, 42000, 64)         65600     \n",
            "_________________________________________________________________\n",
            "dense_19 (Dense)             (None, 42000, 32)         2080      \n",
            "_________________________________________________________________\n",
            "dense_20 (Dense)             (None, 42000, 10)         330       \n",
            "=================================================================\n",
            "Total params: 68,010\n",
            "Trainable params: 68,010\n",
            "Non-trainable params: 0\n",
            "_________________________________________________________________\n"
          ]
        }
      ]
    },
    {
      "cell_type": "code",
      "metadata": {
        "id": "3Fy3Dif_zcCk",
        "colab": {
          "base_uri": "https://localhost:8080/"
        },
        "outputId": "7e364b9c-72dc-4b87-a2ab-2dc807bfe976"
      },
      "source": [
        "# Fit the model\n",
        "history_model_1 = model_1.fit(X_train , y_train,validation_split=0.2, epochs=20, verbose=1, batch_size = 128)"
      ],
      "execution_count": 71,
      "outputs": [
        {
          "output_type": "stream",
          "name": "stdout",
          "text": [
            "Epoch 1/20\n",
            "WARNING:tensorflow:Model was constructed with shape (None, 42000, 1024) for input KerasTensor(type_spec=TensorSpec(shape=(None, 42000, 1024), dtype=tf.float32, name='dense_18_input'), name='dense_18_input', description=\"created by layer 'dense_18_input'\"), but it was called on an input with incompatible shape (None, 1024).\n",
            "WARNING:tensorflow:Model was constructed with shape (None, 42000, 1024) for input KerasTensor(type_spec=TensorSpec(shape=(None, 42000, 1024), dtype=tf.float32, name='dense_18_input'), name='dense_18_input', description=\"created by layer 'dense_18_input'\"), but it was called on an input with incompatible shape (None, 1024).\n",
            "255/263 [============================>.] - ETA: 0s - loss: 2.3005 - accuracy: 0.1171WARNING:tensorflow:Model was constructed with shape (None, 42000, 1024) for input KerasTensor(type_spec=TensorSpec(shape=(None, 42000, 1024), dtype=tf.float32, name='dense_18_input'), name='dense_18_input', description=\"created by layer 'dense_18_input'\"), but it was called on an input with incompatible shape (None, 1024).\n",
            "263/263 [==============================] - 2s 5ms/step - loss: 2.2993 - accuracy: 0.1179 - val_loss: 2.2594 - val_accuracy: 0.1463\n",
            "Epoch 2/20\n",
            "263/263 [==============================] - 1s 5ms/step - loss: 2.1130 - accuracy: 0.2276 - val_loss: 1.9376 - val_accuracy: 0.3279\n",
            "Epoch 3/20\n",
            "263/263 [==============================] - 1s 4ms/step - loss: 1.7953 - accuracy: 0.3824 - val_loss: 1.6499 - val_accuracy: 0.4551\n",
            "Epoch 4/20\n",
            "263/263 [==============================] - 1s 5ms/step - loss: 1.5726 - accuracy: 0.4828 - val_loss: 1.4957 - val_accuracy: 0.5094\n",
            "Epoch 5/20\n",
            "263/263 [==============================] - 1s 5ms/step - loss: 1.4604 - accuracy: 0.5268 - val_loss: 1.4267 - val_accuracy: 0.5357\n",
            "Epoch 6/20\n",
            "263/263 [==============================] - 1s 4ms/step - loss: 1.4008 - accuracy: 0.5503 - val_loss: 1.3652 - val_accuracy: 0.5613\n",
            "Epoch 7/20\n",
            "263/263 [==============================] - 1s 5ms/step - loss: 1.3588 - accuracy: 0.5682 - val_loss: 1.3282 - val_accuracy: 0.5799\n",
            "Epoch 8/20\n",
            "263/263 [==============================] - 1s 4ms/step - loss: 1.3239 - accuracy: 0.5810 - val_loss: 1.2951 - val_accuracy: 0.5931\n",
            "Epoch 9/20\n",
            "263/263 [==============================] - 1s 4ms/step - loss: 1.2967 - accuracy: 0.5946 - val_loss: 1.2838 - val_accuracy: 0.5963\n",
            "Epoch 10/20\n",
            "263/263 [==============================] - 1s 4ms/step - loss: 1.2779 - accuracy: 0.5994 - val_loss: 1.2624 - val_accuracy: 0.6029\n",
            "Epoch 11/20\n",
            "263/263 [==============================] - 1s 4ms/step - loss: 1.2604 - accuracy: 0.6049 - val_loss: 1.2670 - val_accuracy: 0.5923\n",
            "Epoch 12/20\n",
            "263/263 [==============================] - 1s 5ms/step - loss: 1.2382 - accuracy: 0.6123 - val_loss: 1.2291 - val_accuracy: 0.6170\n",
            "Epoch 13/20\n",
            "263/263 [==============================] - 1s 4ms/step - loss: 1.2287 - accuracy: 0.6166 - val_loss: 1.2327 - val_accuracy: 0.6144\n",
            "Epoch 14/20\n",
            "263/263 [==============================] - 1s 5ms/step - loss: 1.2176 - accuracy: 0.6197 - val_loss: 1.1992 - val_accuracy: 0.6255\n",
            "Epoch 15/20\n",
            "263/263 [==============================] - 1s 4ms/step - loss: 1.2087 - accuracy: 0.6244 - val_loss: 1.2110 - val_accuracy: 0.6237\n",
            "Epoch 16/20\n",
            "263/263 [==============================] - 1s 4ms/step - loss: 1.2027 - accuracy: 0.6259 - val_loss: 1.2247 - val_accuracy: 0.6152\n",
            "Epoch 17/20\n",
            "263/263 [==============================] - 1s 5ms/step - loss: 1.1894 - accuracy: 0.6296 - val_loss: 1.1941 - val_accuracy: 0.6274\n",
            "Epoch 18/20\n",
            "263/263 [==============================] - 1s 5ms/step - loss: 1.1865 - accuracy: 0.6305 - val_loss: 1.1803 - val_accuracy: 0.6310\n",
            "Epoch 19/20\n",
            "263/263 [==============================] - 1s 4ms/step - loss: 1.1783 - accuracy: 0.6338 - val_loss: 1.1853 - val_accuracy: 0.6289\n",
            "Epoch 20/20\n",
            "263/263 [==============================] - 1s 4ms/step - loss: 1.1752 - accuracy: 0.6346 - val_loss: 1.1880 - val_accuracy: 0.6277\n"
          ]
        }
      ]
    },
    {
      "cell_type": "markdown",
      "metadata": {
        "id": "tKOckG-KPyLg"
      },
      "source": [
        "### **Plotting the validation and training accuracies**"
      ]
    },
    {
      "cell_type": "markdown",
      "metadata": {
        "id": "CuKXZ3SmGzIG"
      },
      "source": [
        "#### **Question 3: Write your observations on the below plot (2 Marks)**"
      ]
    },
    {
      "cell_type": "code",
      "metadata": {
        "colab": {
          "base_uri": "https://localhost:8080/",
          "height": 497
        },
        "id": "lt77zgGMP4yw",
        "outputId": "8c2aea39-b2a5-454d-b455-dc7dbd918be3"
      },
      "source": [
        "# plotting the accuracies\n",
        "\n",
        "dict_hist = history_model_1.history\n",
        "list_ep = [i for i in range(1,21)]\n",
        "\n",
        "plt.figure(figsize = (8,8))\n",
        "plt.plot(list_ep,dict_hist['accuracy'],ls = '--', label = 'accuracy')\n",
        "plt.plot(list_ep,dict_hist['val_accuracy'],ls = '--', label = 'val_accuracy')\n",
        "plt.ylabel('Accuracy')\n",
        "plt.xlabel('Epochs')\n",
        "plt.legend()\n",
        "plt.show()"
      ],
      "execution_count": 72,
      "outputs": [
        {
          "output_type": "display_data",
          "data": {
            "image/png": "[encoded data removed]",
            "text/plain": [
              "<Figure size 576x576 with 1 Axes>"
            ]
          },
          "metadata": {
            "needs_background": "light"
          }
        }
      ]
    },
    {
      "cell_type": "markdown",
      "metadata": {
        "id": "pGBbQpLONX7k"
      },
      "source": [
        "**Observations:_______**\n",
        "\n",
        "- Accuracy on the training and validation data are about the same, which means we have a good model in terms of overfitting\n",
        "- The accuracy reaches ~0.6 which is not yet acceptable\n"
      ]
    },
    {
      "cell_type": "markdown",
      "metadata": {
        "id": "z0qgLMBZm5-K"
      },
      "source": [
        "\n",
        "Let's build one more model with higher complexity and see if we can improve the performance of the model. \n",
        "\n",
        "First, we need to clear the previous model's history from the keras backend. Also, let's fix the seed again after clearing the backend."
      ]
    },
    {
      "cell_type": "code",
      "metadata": {
        "id": "y98BpLxsok_H"
      },
      "source": [
        "#Clearing backend\n",
        "from tensorflow.keras import backend\n",
        "backend.clear_session()"
      ],
      "execution_count": 73,
      "outputs": []
    },
    {
      "cell_type": "code",
      "metadata": {
        "id": "HbKi93HTolGW"
      },
      "source": [
        "#Fixing the seed for random number generators\n",
        "np.random.seed(42)\n",
        "import random\n",
        "random.seed(42)\n",
        "tf.random.set_seed(42)"
      ],
      "execution_count": 74,
      "outputs": []
    },
    {
      "cell_type": "markdown",
      "metadata": {
        "id": "lT6o3TIKuCtk"
      },
      "source": [
        "### **Second Model Architecture**\n",
        "- Write a function that returns a sequential model with the following architecture\n",
        " - First hidden layer with **256 nodes and relu activation**\n",
        " - Second hidden layer with **128 nodes and relu activation**\n",
        " - Add the **Dropout layer with rate equal to 0.2**\n",
        " - Third hidden layer with **64 nodes and relu activation**\n",
        " - Fourth hidden layer with **64 nodes and relu activation**\n",
        " - Fifth hidden layer with **32 nodes and relu activation**\n",
        " - Add the **BatchNormalization layer**\n",
        " - Output layer with **softmax activation and number of nodes equal to the number of classes**\n",
        " -Compile the model with the **categorical_crossentropy loss, adam optimizer (learning_rate = 0.0005), and accuracy metric**. Do not fit the model here, just return the compiled model.\n",
        "- Call the function and store the model in a new variable \n",
        "- Print the summary of the model\n",
        "- Fit on the train data with a **validation split of 0.2, batch size = 128, verbose = 1, and 30 epochs**. Store the model building history to use later for visualization."
      ]
    },
    {
      "cell_type": "markdown",
      "metadata": {
        "id": "4dV32YjAGzIR"
      },
      "source": [
        "#### **Question 4: Build and train the new ANN model as per the above mentioned architecture (10 Marks)**"
      ]
    },
    {
      "cell_type": "code",
      "metadata": {
        "id": "EEPYLFIPnSDP"
      },
      "source": [
        "#Importing losses and optimizers modules\n",
        "from tensorflow.keras import losses\n",
        "from tensorflow.keras import optimizers\n",
        "\n",
        "#Define the function\n",
        "def nn_model_2():\n",
        "    model = Sequential() \n",
        "    #Add layers as per the architecture mentioned above in the same sequence\n",
        "    model.add(Dense(256, activation='relu', input_shape=(1024,)))\n",
        "    model.add(Dense(128, activation='relu'))\n",
        "    model.add(Dropout(0.2))\n",
        "    model.add(Dense(64, activation='relu'))\n",
        "    model.add(Dense(64, activation='relu'))\n",
        "    model.add(Dense(32, activation='relu'))\n",
        "    model.add(BatchNormalization())\n",
        "    model.add(Dense(10, activation='softmax'))\n",
        "\n",
        "    #declare adam optimizer with learning rate of 0.001 \n",
        "    adam = optimizers.Adam(learning_rate=0.0005)\n",
        "    \n",
        "    #compile the model\n",
        "    model.compile(optimizer=adam, loss=\"categorical_crossentropy\", metrics=[\"accuracy\"])\n",
        "    \n",
        "    return model\n",
        "  "
      ],
      "execution_count": 75,
      "outputs": []
    },
    {
      "cell_type": "code",
      "metadata": {
        "id": "AKjDY4plnSFl"
      },
      "source": [
        "# Build the model\n",
        "model_2 = nn_model_2()"
      ],
      "execution_count": 76,
      "outputs": []
    },
    {
      "cell_type": "code",
      "metadata": {
        "id": "gz_6SVrU2swZ",
        "colab": {
          "base_uri": "https://localhost:8080/"
        },
        "outputId": "db5e3081-bc6d-4a7d-e3ce-81ebe4f19a69"
      },
      "source": [
        "#Print the model summary\n",
        "model_2.summary()"
      ],
      "execution_count": 77,
      "outputs": [
        {
          "output_type": "stream",
          "name": "stdout",
          "text": [
            "Model: \"sequential\"\n",
            "_________________________________________________________________\n",
            "Layer (type)                 Output Shape              Param #   \n",
            "=================================================================\n",
            "dense (Dense)                (None, 256)               262400    \n",
            "_________________________________________________________________\n",
            "dense_1 (Dense)              (None, 128)               32896     \n",
            "_________________________________________________________________\n",
            "dropout (Dropout)            (None, 128)               0         \n",
            "_________________________________________________________________\n",
            "dense_2 (Dense)              (None, 64)                8256      \n",
            "_________________________________________________________________\n",
            "dense_3 (Dense)              (None, 64)                4160      \n",
            "_________________________________________________________________\n",
            "dense_4 (Dense)              (None, 32)                2080      \n",
            "_________________________________________________________________\n",
            "batch_normalization (BatchNo (None, 32)                128       \n",
            "_________________________________________________________________\n",
            "dense_5 (Dense)              (None, 10)                330       \n",
            "=================================================================\n",
            "Total params: 310,250\n",
            "Trainable params: 310,186\n",
            "Non-trainable params: 64\n",
            "_________________________________________________________________\n"
          ]
        }
      ]
    },
    {
      "cell_type": "code",
      "metadata": {
        "id": "IQ0Sc4R-y-uu",
        "colab": {
          "base_uri": "https://localhost:8080/"
        },
        "outputId": "43f747e0-8c8d-407b-ee80-eca657e6f6d0"
      },
      "source": [
        "# Fit the model\n",
        "history_model_2 = model_2.fit(X_train , y_train,validation_split=0.2, epochs=20, verbose=1, batch_size = 128)\n"
      ],
      "execution_count": 78,
      "outputs": [
        {
          "output_type": "stream",
          "name": "stdout",
          "text": [
            "Epoch 1/20\n",
            "263/263 [==============================] - 4s 11ms/step - loss: 2.3475 - accuracy: 0.1018 - val_loss: 2.2903 - val_accuracy: 0.1244\n",
            "Epoch 2/20\n",
            "263/263 [==============================] - 3s 11ms/step - loss: 2.1435 - accuracy: 0.1857 - val_loss: 2.0421 - val_accuracy: 0.2756\n",
            "Epoch 3/20\n",
            "263/263 [==============================] - 3s 12ms/step - loss: 1.7642 - accuracy: 0.3826 - val_loss: 1.5526 - val_accuracy: 0.4861\n",
            "Epoch 4/20\n",
            "263/263 [==============================] - 3s 10ms/step - loss: 1.4718 - accuracy: 0.5024 - val_loss: 1.4331 - val_accuracy: 0.5232\n",
            "Epoch 5/20\n",
            "263/263 [==============================] - 2s 9ms/step - loss: 1.3157 - accuracy: 0.5648 - val_loss: 1.3021 - val_accuracy: 0.5812\n",
            "Epoch 6/20\n",
            "263/263 [==============================] - 3s 10ms/step - loss: 1.2174 - accuracy: 0.6085 - val_loss: 1.1028 - val_accuracy: 0.6511\n",
            "Epoch 7/20\n",
            "263/263 [==============================] - 3s 10ms/step - loss: 1.1441 - accuracy: 0.6333 - val_loss: 1.0375 - val_accuracy: 0.6701\n",
            "Epoch 8/20\n",
            "263/263 [==============================] - 3s 10ms/step - loss: 1.0821 - accuracy: 0.6553 - val_loss: 1.0676 - val_accuracy: 0.6581\n",
            "Epoch 9/20\n",
            "263/263 [==============================] - 3s 11ms/step - loss: 1.0379 - accuracy: 0.6742 - val_loss: 0.9898 - val_accuracy: 0.6836\n",
            "Epoch 10/20\n",
            "263/263 [==============================] - 3s 10ms/step - loss: 1.0003 - accuracy: 0.6836 - val_loss: 1.0037 - val_accuracy: 0.6774\n",
            "Epoch 11/20\n",
            "263/263 [==============================] - 3s 10ms/step - loss: 0.9711 - accuracy: 0.6939 - val_loss: 0.9468 - val_accuracy: 0.7062\n",
            "Epoch 12/20\n",
            "263/263 [==============================] - 3s 10ms/step - loss: 0.9413 - accuracy: 0.7062 - val_loss: 0.9494 - val_accuracy: 0.7027\n",
            "Epoch 13/20\n",
            "263/263 [==============================] - 3s 11ms/step - loss: 0.9287 - accuracy: 0.7051 - val_loss: 0.9364 - val_accuracy: 0.7018\n",
            "Epoch 14/20\n",
            "263/263 [==============================] - 3s 10ms/step - loss: 0.9108 - accuracy: 0.7134 - val_loss: 0.9443 - val_accuracy: 0.6977\n",
            "Epoch 15/20\n",
            "263/263 [==============================] - 3s 10ms/step - loss: 0.8965 - accuracy: 0.7148 - val_loss: 0.8296 - val_accuracy: 0.7398\n",
            "Epoch 16/20\n",
            "263/263 [==============================] - 3s 10ms/step - loss: 0.8549 - accuracy: 0.7317 - val_loss: 0.8132 - val_accuracy: 0.7479\n",
            "Epoch 17/20\n",
            "263/263 [==============================] - 3s 10ms/step - loss: 0.8532 - accuracy: 0.7315 - val_loss: 0.8344 - val_accuracy: 0.7389\n",
            "Epoch 18/20\n",
            "263/263 [==============================] - 3s 10ms/step - loss: 0.8347 - accuracy: 0.7360 - val_loss: 0.8581 - val_accuracy: 0.7302\n",
            "Epoch 19/20\n",
            "263/263 [==============================] - 3s 10ms/step - loss: 0.8245 - accuracy: 0.7389 - val_loss: 0.8748 - val_accuracy: 0.7254\n",
            "Epoch 20/20\n",
            "263/263 [==============================] - 3s 11ms/step - loss: 0.8194 - accuracy: 0.7411 - val_loss: 0.8073 - val_accuracy: 0.7449\n"
          ]
        }
      ]
    },
    {
      "cell_type": "markdown",
      "metadata": {
        "id": "qtE4DFxdGzIT"
      },
      "source": [
        "### **Plotting the validation and training accuracies**"
      ]
    },
    {
      "cell_type": "markdown",
      "metadata": {
        "id": "O1td6Nd4GzIU"
      },
      "source": [
        "#### **Question 5: Write your observations on the below plot (2 Marks)**"
      ]
    },
    {
      "cell_type": "code",
      "metadata": {
        "colab": {
          "base_uri": "https://localhost:8080/",
          "height": 497
        },
        "id": "01ig6BrF1KVy",
        "outputId": "43c28491-c7c8-47b9-dff0-a0772ddccf34"
      },
      "source": [
        "# plotting the accuracies\n",
        "\n",
        "dict_hist = history_model_2.history\n",
        "list_ep = [i for i in range(1,21)]\n",
        "\n",
        "plt.figure(figsize = (8,8))\n",
        "plt.plot(list_ep,dict_hist['accuracy'],ls = '--', label = 'accuracy')\n",
        "plt.plot(list_ep,dict_hist['val_accuracy'],ls = '--', label = 'val_accuracy')\n",
        "plt.ylabel('Accuracy')\n",
        "plt.xlabel('Epochs')\n",
        "plt.legend()\n",
        "plt.show()"
      ],
      "execution_count": 79,
      "outputs": [
        {
          "output_type": "display_data",
          "data": {
            "image/png": "[encoded data removed]",
            "text/plain": [
              "<Figure size 576x576 with 1 Axes>"
            ]
          },
          "metadata": {
            "needs_background": "light"
          }
        }
      ]
    },
    {
      "cell_type": "markdown",
      "metadata": {
        "id": "VPW1LlD61RDn"
      },
      "source": [
        "**Observations:_______**\n",
        "\n",
        "\n",
        "Accuracy improved by (0.7514 - 0.6277) around 0.12% "
      ]
    },
    {
      "cell_type": "markdown",
      "metadata": {
        "id": "8kuXx9Bvu00f"
      },
      "source": [
        "## **Predictions on the test data**\n",
        "\n",
        "- Make predictions on the test set using the second model\n",
        "- Print the obtained results using the classification report and the confusion matrix\n",
        "- Final observations from the obtained results"
      ]
    },
    {
      "cell_type": "code",
      "metadata": {
        "id": "xbWMEtTj5Ad0"
      },
      "source": [
        "test_pred = model_2.predict(X_test)\n",
        "\n",
        "test_pred = np.argmax(test_pred, axis=-1)"
      ],
      "execution_count": 80,
      "outputs": []
    },
    {
      "cell_type": "markdown",
      "metadata": {
        "id": "i3li8Ib08yts"
      },
      "source": [
        "**Note:** Earlier, we noticed that each entry of the test data is a one-hot encoded vector but to print the classification report and confusion matrix, we must convert each entry of y_test to a single label."
      ]
    },
    {
      "cell_type": "code",
      "metadata": {
        "id": "NByu7uAQ8x9P"
      },
      "source": [
        "#Converting each entry to single label from one-hot encoded vector\n",
        "y_test = np.argmax(y_test, axis=-1)"
      ],
      "execution_count": 81,
      "outputs": []
    },
    {
      "cell_type": "markdown",
      "metadata": {
        "id": "JVxGB0qaGzIY"
      },
      "source": [
        "#### **Question 6: Print the classification report and the confusion matrix for the test predictions. Write your observations on the final results (4 Marks)**"
      ]
    },
    {
      "cell_type": "code",
      "metadata": {
        "id": "xRddeJ-3EHT1",
        "colab": {
          "base_uri": "https://localhost:8080/",
          "height": 334
        },
        "outputId": "5ffc49eb-fe87-4d79-daf4-0ffa2e87de58"
      },
      "source": [
        "#importing required functions\n",
        "from sklearn.metrics import classification_report\n",
        "from sklearn.metrics import confusion_matrix\n",
        "\n",
        "\n",
        "#Printing the classification report\n",
        "classification_report(y_test, test_pred)\n",
        "\n",
        "#Plotting the heatmap using confusion matrix\n",
        "cm =confusion_matrix(y_test, test_pred) #Write the code for creating confusion matrix using actual labels and predicted labels\n",
        "\n",
        "\n",
        "plt.figure(figsize=(8,5))\n",
        "sns.heatmap(cm, annot=True,  fmt='.0f' )\n",
        "plt.ylabel('Actual')\n",
        "plt.xlabel('Predicted')\n",
        "plt.show()"
      ],
      "execution_count": 88,
      "outputs": [
        {
          "output_type": "display_data",
          "data": {
            "image/png": "[encoded data removed]",
            "text/plain": [
              "<Figure size 576x360 with 2 Axes>"
            ]
          },
          "metadata": {
            "needs_background": "light"
          }
        }
      ]
    },
    {
      "cell_type": "markdown",
      "metadata": {
        "id": "DjErl4GA2u9s"
      },
      "source": [
        "#### **Observations:__________**\n",
        "\n",
        "The model is predicting all 10 digits with the same accuracy, there is no dominent error"
      ]
    }
  ]
}
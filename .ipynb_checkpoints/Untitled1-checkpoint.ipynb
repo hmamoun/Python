{
 "cells": [
  {
   "cell_type": "markdown",
   "id": "040b3efd",
   "metadata": {},
   "source": [
    "Introduction to Python"
   ]
  },
  {
   "cell_type": "code",
   "execution_count": 4,
   "id": "3be660eb",
   "metadata": {},
   "outputs": [
    {
     "name": "stdout",
     "output_type": "stream",
     "text": [
      "\n",
      "x\n",
      "xx\n",
      "xxx\n",
      "xxxx\n",
      "xxxxx\n"
     ]
    }
   ],
   "source": [
    "def arrow(shape, number):\n",
    "    for x in range(number+1) :\n",
    "        x = x*shape)\n",
    "\n",
    "arrow('x',5)        "
   ]
  },
  {
   "cell_type": "code",
   "execution_count": 46,
   "id": "c0c7cb34",
   "metadata": {},
   "outputs": [
    {
     "data": {
      "text/plain": [
       "5000"
      ]
     },
     "execution_count": 46,
     "metadata": {},
     "output_type": "execute_result"
    }
   ],
   "source": [
    "num=5000\n",
    "num"
   ]
  },
  {
   "cell_type": "code",
   "execution_count": 47,
   "id": "cfe05b39",
   "metadata": {},
   "outputs": [
    {
     "data": {
      "text/plain": [
       "5000"
      ]
     },
     "execution_count": 47,
     "metadata": {},
     "output_type": "execute_result"
    }
   ],
   "source": [
    "num\n"
   ]
  },
  {
   "cell_type": "code",
   "execution_count": 48,
   "id": "135ddbc1",
   "metadata": {},
   "outputs": [],
   "source": [
    "x = y = z = 9"
   ]
  },
  {
   "cell_type": "code",
   "execution_count": 49,
   "id": "8c8e68d6",
   "metadata": {},
   "outputs": [
    {
     "data": {
      "text/plain": [
       "'hassAAAyano'"
      ]
     },
     "execution_count": 49,
     "metadata": {},
     "output_type": "execute_result"
    }
   ],
   "source": [
    "xyz = \"Joud\"\n",
    "xyz\n",
    "A = \"Great Learing\"\n",
    "a"
   ]
  },
  {
   "cell_type": "code",
   "execution_count": 50,
   "id": "a3e3e1c4",
   "metadata": {},
   "outputs": [],
   "source": [
    "A = x"
   ]
  },
  {
   "cell_type": "code",
   "execution_count": 51,
   "id": "616b5979",
   "metadata": {},
   "outputs": [
    {
     "data": {
      "text/plain": [
       "'hassAAAyano'"
      ]
     },
     "execution_count": 51,
     "metadata": {},
     "output_type": "execute_result"
    }
   ],
   "source": [
    "a"
   ]
  },
  {
   "cell_type": "code",
   "execution_count": 52,
   "id": "a20389a4",
   "metadata": {},
   "outputs": [
    {
     "data": {
      "text/plain": [
       "9"
      ]
     },
     "execution_count": 52,
     "metadata": {},
     "output_type": "execute_result"
    }
   ],
   "source": [
    "A"
   ]
  },
  {
   "cell_type": "code",
   "execution_count": 43,
   "id": "b98dbf3c",
   "metadata": {},
   "outputs": [
    {
     "data": {
      "text/plain": [
       "'hassAAAyano'"
      ]
     },
     "execution_count": 43,
     "metadata": {},
     "output_type": "execute_result"
    }
   ],
   "source": [
    "a = \"hassAAAyano\"\n",
    "a"
   ]
  },
  {
   "cell_type": "code",
   "execution_count": 67,
   "id": "5d6618bc",
   "metadata": {},
   "outputs": [
    {
     "data": {
      "text/plain": [
       "str"
      ]
     },
     "execution_count": 67,
     "metadata": {},
     "output_type": "execute_result"
    }
   ],
   "source": [
    "a,b,c = 4,5,\"Hayano\"\n",
    "c\n",
    "b\n",
    "type(c)\n"
   ]
  },
  {
   "cell_type": "code",
   "execution_count": 62,
   "id": "f6c9c2c0",
   "metadata": {},
   "outputs": [
    {
     "data": {
      "text/plain": [
       "3"
      ]
     },
     "execution_count": 62,
     "metadata": {},
     "output_type": "execute_result"
    }
   ],
   "source": [
    "var1 = 3\n",
    "var1"
   ]
  },
  {
   "cell_type": "code",
   "execution_count": 77,
   "id": "de355e41",
   "metadata": {},
   "outputs": [
    {
     "data": {
      "text/plain": [
       "int"
      ]
     },
     "execution_count": 77,
     "metadata": {},
     "output_type": "execute_result"
    }
   ],
   "source": [
    "a=16000\n",
    "type(a)\n"
   ]
  },
  {
   "cell_type": "code",
   "execution_count": 78,
   "id": "b14a20d2",
   "metadata": {},
   "outputs": [
    {
     "data": {
      "text/plain": [
       "float"
      ]
     },
     "execution_count": 78,
     "metadata": {},
     "output_type": "execute_result"
    }
   ],
   "source": [
    "a=1.6e4\n",
    "type(a)\n"
   ]
  },
  {
   "cell_type": "code",
   "execution_count": 81,
   "id": "cdd5e5c0",
   "metadata": {},
   "outputs": [
    {
     "data": {
      "text/plain": [
       "complex"
      ]
     },
     "execution_count": 81,
     "metadata": {},
     "output_type": "execute_result"
    }
   ],
   "source": [
    "x = 3+4j\n",
    "type(x)\n"
   ]
  },
  {
   "cell_type": "code",
   "execution_count": 98,
   "id": "3debf888",
   "metadata": {},
   "outputs": [
    {
     "data": {
      "text/plain": [
       "'Great Joud'"
      ]
     },
     "execution_count": 98,
     "metadata": {},
     "output_type": "execute_result"
    }
   ],
   "source": [
    "str1 = \"Great\"\n",
    "str2 = \" Joud\"\n",
    "str1 + str2"
   ]
  },
  {
   "cell_type": "code",
   "execution_count": 84,
   "id": "5add7c39",
   "metadata": {},
   "outputs": [
    {
     "data": {
      "text/plain": [
       "'aaaaaaaaaa'"
      ]
     },
     "execution_count": 84,
     "metadata": {},
     "output_type": "execute_result"
    }
   ],
   "source": [
    "str1 = \"a\"\n",
    "str1*10"
   ]
  },
  {
   "cell_type": "code",
   "execution_count": 101,
   "id": "5ac4b982",
   "metadata": {},
   "outputs": [
    {
     "data": {
      "text/plain": [
       "''"
      ]
     },
     "execution_count": 101,
     "metadata": {},
     "output_type": "execute_result"
    }
   ],
   "source": [
    "str1[1:1]\n"
   ]
  },
  {
   "cell_type": "code",
   "execution_count": 102,
   "id": "8c7500c9",
   "metadata": {},
   "outputs": [
    {
     "data": {
      "text/plain": [
       "'dlrowolleH'"
      ]
     },
     "execution_count": 102,
     "metadata": {},
     "output_type": "execute_result"
    }
   ],
   "source": [
    "str1=\"Helloworld\"\n",
    "str1[::-1]"
   ]
  }
 ],
 "metadata": {
  "kernelspec": {
   "display_name": "Python 3",
   "language": "python",
   "name": "python3"
  },
  "language_info": {
   "codemirror_mode": {
    "name": "ipython",
    "version": 3
   },
   "file_extension": ".py",
   "mimetype": "text/x-python",
   "name": "python",
   "nbconvert_exporter": "python",
   "pygments_lexer": "ipython3",
   "version": "3.8.8"
  }
 },
 "nbformat": 4,
 "nbformat_minor": 5
}

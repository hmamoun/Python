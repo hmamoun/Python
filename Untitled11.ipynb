{
 "cells": [
  {
   "cell_type": "code",
   "execution_count": 1,
   "id": "5cba13a0",
   "metadata": {},
   "outputs": [],
   "source": [
    "import copy\n",
    "import random\n",
    "class Hat:\n",
    "  def __init__(self , **balls):\n",
    "    self.contents = list()\n",
    "    self.removedBalls = list()\n",
    "    for a in balls:\n",
    "      for x in range(balls[a]):\n",
    "        self.contents.append(a)\n",
    "    \n",
    "  def __str__(self):\n",
    "    return str(self.contents)\n",
    "  \n",
    "  def draw(self,noToRemove):\n",
    "    for x in range(noToRemove):\n",
    "      y=int(random.random()*(len(self.contents)))\n",
    "      print(y)\n",
    "      self.removedBalls.append(self.contents[y])\n",
    "      self.contents.remove(self.contents[y])\n",
    "    return self.removedBalls\n",
    "\n",
    "def Convert(lst):\n",
    "    ret = dict()\n",
    "    for x in lst:\n",
    "        if x in ret:\n",
    "            ret[x]+=1\n",
    "        else:\n",
    "            ret[x] = 1\n",
    "    return ret\n",
    "\n",
    "def OneInAnother(superset, subset):\n",
    "    ret = True\n",
    "    for item in subset.items():\n",
    "        if item[0] not in superset:\n",
    "            ret = False\n",
    "        if item[0] in superset and item[1]> superset[item[0]]:\n",
    "            ret = False\n",
    "    return ret\n",
    "def experiment(hat, expected_balls, num_balls_drawn, num_experiments):\n",
    "    count = 0\n",
    "    exp = copy.deepcopy(hat.contents)\n",
    "    len_exp = len(exp)\n",
    "\n",
    "    for n in range(num_experiments):\n",
    "        prova = hat.draw(num_balls_drawn)\n",
    "        print(f'drawn:  {prova} expected: {expected_balls}')\n",
    "        for v in expected_balls.keys():\n",
    "            count = 0\n",
    "            # Comparing to hat.contents, not prova!\n",
    "            for x in range(len_exp):\n",
    "                if exp[x] == v:\n",
    "                    count += 1\n",
    "            if count < expected_balls[v]:\n",
    "                print(f'bad experiment, prob:  {count}/{num_experiments}')\n",
    "                #count -= 1\n",
    "                break\n",
    "            else:\n",
    "                print(f'good experiment, prob:  {count}/{num_experiments}')\n",
    "\n",
    "    \n",
    "    return count/num_experiments"
   ]
  },
  {
   "cell_type": "code",
   "execution_count": 136,
   "id": "1221da19",
   "metadata": {},
   "outputs": [
    {
     "data": {
      "text/plain": [
       "6"
      ]
     },
     "execution_count": 136,
     "metadata": {},
     "output_type": "execute_result"
    }
   ],
   "source": [
    " int(random.random()*(10\n",
    "                    ))"
   ]
  },
  {
   "cell_type": "code",
   "execution_count": 139,
   "id": "e74ea334",
   "metadata": {},
   "outputs": [
    {
     "name": "stdout",
     "output_type": "stream",
     "text": [
      "8\n",
      "4\n",
      "8\n",
      "5\n",
      "drawn:  ['green', 'red', 'green', 'green'] expected: {'blue': 2, 'green': 1}\n",
      "good experiment, prob:  3/1000\n",
      "good experiment, prob:  6/1000\n",
      "4\n",
      "1\n",
      "1\n",
      "2\n",
      "drawn:  ['green', 'red', 'green', 'green', 'green', 'blue', 'blue', 'green'] expected: {'blue': 2, 'green': 1}\n",
      "good experiment, prob:  3/1000\n",
      "good experiment, prob:  6/1000\n",
      "2\n",
      "0\n",
      "0\n",
      "0\n"
     ]
    },
    {
     "ename": "IndexError",
     "evalue": "list index out of range",
     "output_type": "error",
     "traceback": [
      "\u001b[1;31m---------------------------------------------------------------------------\u001b[0m",
      "\u001b[1;31mIndexError\u001b[0m                                Traceback (most recent call last)",
      "\u001b[1;32m<ipython-input-139-8e46b8f23c08>\u001b[0m in \u001b[0;36m<module>\u001b[1;34m\u001b[0m\n\u001b[0;32m      2\u001b[0m \u001b[0mhat\u001b[0m \u001b[1;33m=\u001b[0m \u001b[0mHat\u001b[0m\u001b[1;33m(\u001b[0m\u001b[0mblue\u001b[0m\u001b[1;33m=\u001b[0m\u001b[1;36m3\u001b[0m\u001b[1;33m,\u001b[0m\u001b[0mred\u001b[0m\u001b[1;33m=\u001b[0m\u001b[1;36m2\u001b[0m\u001b[1;33m,\u001b[0m\u001b[0mgreen\u001b[0m\u001b[1;33m=\u001b[0m\u001b[1;36m6\u001b[0m\u001b[1;33m)\u001b[0m\u001b[1;33m\u001b[0m\u001b[1;33m\u001b[0m\u001b[0m\n\u001b[0;32m      3\u001b[0m \u001b[1;33m\u001b[0m\u001b[0m\n\u001b[1;32m----> 4\u001b[1;33m \u001b[0mprobability\u001b[0m \u001b[1;33m=\u001b[0m \u001b[0mexperiment\u001b[0m\u001b[1;33m(\u001b[0m\u001b[0mhat\u001b[0m\u001b[1;33m=\u001b[0m\u001b[0mhat\u001b[0m\u001b[1;33m,\u001b[0m \u001b[0mexpected_balls\u001b[0m\u001b[1;33m=\u001b[0m\u001b[1;33m{\u001b[0m\u001b[1;34m\"blue\"\u001b[0m\u001b[1;33m:\u001b[0m\u001b[1;36m2\u001b[0m\u001b[1;33m,\u001b[0m\u001b[1;34m\"green\"\u001b[0m\u001b[1;33m:\u001b[0m\u001b[1;36m1\u001b[0m\u001b[1;33m}\u001b[0m\u001b[1;33m,\u001b[0m \u001b[0mnum_balls_drawn\u001b[0m\u001b[1;33m=\u001b[0m\u001b[1;36m4\u001b[0m\u001b[1;33m,\u001b[0m \u001b[0mnum_experiments\u001b[0m\u001b[1;33m=\u001b[0m\u001b[1;36m1000\u001b[0m\u001b[1;33m)\u001b[0m\u001b[1;33m\u001b[0m\u001b[1;33m\u001b[0m\u001b[0m\n\u001b[0m\u001b[0;32m      5\u001b[0m \u001b[1;33m\u001b[0m\u001b[0m\n\u001b[0;32m      6\u001b[0m \u001b[0mactual\u001b[0m \u001b[1;33m=\u001b[0m \u001b[0mprobability\u001b[0m\u001b[1;33m\u001b[0m\u001b[1;33m\u001b[0m\u001b[0m\n",
      "\u001b[1;32m<ipython-input-1-b2982336ecb9>\u001b[0m in \u001b[0;36mexperiment\u001b[1;34m(hat, expected_balls, num_balls_drawn, num_experiments)\u001b[0m\n\u001b[0;32m     43\u001b[0m \u001b[1;33m\u001b[0m\u001b[0m\n\u001b[0;32m     44\u001b[0m     \u001b[1;32mfor\u001b[0m \u001b[0mn\u001b[0m \u001b[1;32min\u001b[0m \u001b[0mrange\u001b[0m\u001b[1;33m(\u001b[0m\u001b[0mnum_experiments\u001b[0m\u001b[1;33m)\u001b[0m\u001b[1;33m:\u001b[0m\u001b[1;33m\u001b[0m\u001b[1;33m\u001b[0m\u001b[0m\n\u001b[1;32m---> 45\u001b[1;33m         \u001b[0mprova\u001b[0m \u001b[1;33m=\u001b[0m \u001b[0mhat\u001b[0m\u001b[1;33m.\u001b[0m\u001b[0mdraw\u001b[0m\u001b[1;33m(\u001b[0m\u001b[0mnum_balls_drawn\u001b[0m\u001b[1;33m)\u001b[0m\u001b[1;33m\u001b[0m\u001b[1;33m\u001b[0m\u001b[0m\n\u001b[0m\u001b[0;32m     46\u001b[0m         \u001b[0mprint\u001b[0m\u001b[1;33m(\u001b[0m\u001b[1;34mf'drawn:  {prova} expected: {expected_balls}'\u001b[0m\u001b[1;33m)\u001b[0m\u001b[1;33m\u001b[0m\u001b[1;33m\u001b[0m\u001b[0m\n\u001b[0;32m     47\u001b[0m         \u001b[1;32mfor\u001b[0m \u001b[0mv\u001b[0m \u001b[1;32min\u001b[0m \u001b[0mexpected_balls\u001b[0m\u001b[1;33m.\u001b[0m\u001b[0mkeys\u001b[0m\u001b[1;33m(\u001b[0m\u001b[1;33m)\u001b[0m\u001b[1;33m:\u001b[0m\u001b[1;33m\u001b[0m\u001b[1;33m\u001b[0m\u001b[0m\n",
      "\u001b[1;32m<ipython-input-1-b2982336ecb9>\u001b[0m in \u001b[0;36mdraw\u001b[1;34m(self, noToRemove)\u001b[0m\n\u001b[0;32m     16\u001b[0m       \u001b[0my\u001b[0m\u001b[1;33m=\u001b[0m\u001b[0mint\u001b[0m\u001b[1;33m(\u001b[0m\u001b[0mrandom\u001b[0m\u001b[1;33m.\u001b[0m\u001b[0mrandom\u001b[0m\u001b[1;33m(\u001b[0m\u001b[1;33m)\u001b[0m\u001b[1;33m*\u001b[0m\u001b[1;33m(\u001b[0m\u001b[0mlen\u001b[0m\u001b[1;33m(\u001b[0m\u001b[0mself\u001b[0m\u001b[1;33m.\u001b[0m\u001b[0mcontents\u001b[0m\u001b[1;33m)\u001b[0m\u001b[1;33m)\u001b[0m\u001b[1;33m)\u001b[0m\u001b[1;33m\u001b[0m\u001b[1;33m\u001b[0m\u001b[0m\n\u001b[0;32m     17\u001b[0m       \u001b[0mprint\u001b[0m\u001b[1;33m(\u001b[0m\u001b[0my\u001b[0m\u001b[1;33m)\u001b[0m\u001b[1;33m\u001b[0m\u001b[1;33m\u001b[0m\u001b[0m\n\u001b[1;32m---> 18\u001b[1;33m       \u001b[0mself\u001b[0m\u001b[1;33m.\u001b[0m\u001b[0mremovedBalls\u001b[0m\u001b[1;33m.\u001b[0m\u001b[0mappend\u001b[0m\u001b[1;33m(\u001b[0m\u001b[0mself\u001b[0m\u001b[1;33m.\u001b[0m\u001b[0mcontents\u001b[0m\u001b[1;33m[\u001b[0m\u001b[0my\u001b[0m\u001b[1;33m]\u001b[0m\u001b[1;33m)\u001b[0m\u001b[1;33m\u001b[0m\u001b[1;33m\u001b[0m\u001b[0m\n\u001b[0m\u001b[0;32m     19\u001b[0m       \u001b[0mself\u001b[0m\u001b[1;33m.\u001b[0m\u001b[0mcontents\u001b[0m\u001b[1;33m.\u001b[0m\u001b[0mremove\u001b[0m\u001b[1;33m(\u001b[0m\u001b[0mself\u001b[0m\u001b[1;33m.\u001b[0m\u001b[0mcontents\u001b[0m\u001b[1;33m[\u001b[0m\u001b[0my\u001b[0m\u001b[1;33m]\u001b[0m\u001b[1;33m)\u001b[0m\u001b[1;33m\u001b[0m\u001b[1;33m\u001b[0m\u001b[0m\n\u001b[0;32m     20\u001b[0m     \u001b[1;32mreturn\u001b[0m \u001b[0mself\u001b[0m\u001b[1;33m.\u001b[0m\u001b[0mremovedBalls\u001b[0m\u001b[1;33m\u001b[0m\u001b[1;33m\u001b[0m\u001b[0m\n",
      "\u001b[1;31mIndexError\u001b[0m: list index out of range"
     ]
    }
   ],
   "source": [
    "#random.seed(95)\n",
    "hat = Hat(blue=3,red=2,green=6)\n",
    "\n",
    "probability = experiment(hat=hat, expected_balls={\"blue\":2,\"green\":1}, num_balls_drawn=4, num_experiments=1000)\n",
    "\n",
    "actual = probability\n",
    "expected = 0.272\n",
    "print (actual , expected)"
   ]
  }
 ],
 "metadata": {
  "kernelspec": {
   "display_name": "Python 3",
   "language": "python",
   "name": "python3"
  },
  "language_info": {
   "codemirror_mode": {
    "name": "ipython",
    "version": 3
   },
   "file_extension": ".py",
   "mimetype": "text/x-python",
   "name": "python",
   "nbconvert_exporter": "python",
   "pygments_lexer": "ipython3",
   "version": "3.8.8"
  }
 },
 "nbformat": 4,
 "nbformat_minor": 5
}

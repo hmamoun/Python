{
 "cells": [
  {
   "cell_type": "code",
   "execution_count": 4,
   "id": "22700e64",
   "metadata": {},
   "outputs": [
    {
     "name": "stdout",
     "output_type": "stream",
     "text": [
      "4\n"
     ]
    }
   ],
   "source": [
    "import numpy as np\n",
    "i = np.array([0,1,1,0,1,0,0,0,1]\n",
    "            )\n",
    "j = np.array([0,1,1,0,1,0,1,0,1])\n",
    "\n",
    "x = j*i\n",
    "print(x.sum())"
   ]
  },
  {
   "cell_type": "code",
   "execution_count": 6,
   "id": "ca77c47e",
   "metadata": {},
   "outputs": [],
   "source": [
    "def calc_BC(protein_graph, prefix, generate_plots=True):\n",
    "    bc = nx.betweenness_centrality(protein_graph, normalized=False)\n",
    "    bc = np.asarray(list(bc.values()))\n",
    "\n",
    "    num_nodes = len(protein_graph.nodes())\n",
    "    nodes_axis = range(1, num_nodes + 1)\n",
    "\n",
    "    if generate_plots:\n",
    "        plt.plot(nodes_axis, bc)\n",
    "        plt.title(\"%s BC\" % prefix, fontsize=18)\n",
    "        plt.xlabel('Node Indices', fontsize=16)\n",
    "        plt.ylabel('BC', fontsize=16)\n",
    "        plt.savefig(\"%s_BC.png\" % prefix, dpi=300, bbox_inches='tight')\n",
    "        plt.close()\n",
    "\n",
    "    bc = bc.reshape(1, num_nodes)\n",
    "    np.savetxt(\"%s_bc.dat\" % prefix, bc)\n",
    "\n",
    "    return bc "
   ]
  }
 ],
 "metadata": {
  "kernelspec": {
   "display_name": "Python 3",
   "language": "python",
   "name": "python3"
  },
  "language_info": {
   "codemirror_mode": {
    "name": "ipython",
    "version": 3
   },
   "file_extension": ".py",
   "mimetype": "text/x-python",
   "name": "python",
   "nbconvert_exporter": "python",
   "pygments_lexer": "ipython3",
   "version": "3.8.8"
  }
 },
 "nbformat": 4,
 "nbformat_minor": 5
}

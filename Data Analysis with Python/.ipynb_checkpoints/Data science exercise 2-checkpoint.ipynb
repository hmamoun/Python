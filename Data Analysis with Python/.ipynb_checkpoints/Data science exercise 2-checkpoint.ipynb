{
 "cells": [
  {
   "cell_type": "code",
   "execution_count": 1,
   "id": "de8aef4c",
   "metadata": {},
   "outputs": [],
   "source": [
    "import numpy as np\n",
    "import pandas as pd\n",
    "import matplotlib.pyplot as plt\n",
    "\n",
    "%matplotlib inline"
   ]
  },
  {
   "cell_type": "code",
   "execution_count": 4,
   "id": "315d063f",
   "metadata": {},
   "outputs": [],
   "source": [
    "sales = pd.read_csv(\n",
    "    'sales_data.txt',\n",
    "    parse_dates=['Date'])"
   ]
  },
  {
   "cell_type": "code",
   "execution_count": null,
   "id": "a6196401",
   "metadata": {},
   "outputs": [],
   "source": []
  },
  {
   "cell_type": "code",
   "execution_count": null,
   "id": "3d94dc82",
   "metadata": {},
   "outputs": [],
   "source": []
  },
  {
   "cell_type": "code",
   "execution_count": null,
   "id": "52178965",
   "metadata": {},
   "outputs": [],
   "source": []
  },
  {
   "cell_type": "code",
   "execution_count": 9,
   "id": "d8316ff6",
   "metadata": {},
   "outputs": [
    {
     "data": {
      "text/html": [
       "<div>\n",
       "<style scoped>\n",
       "    .dataframe tbody tr th:only-of-type {\n",
       "        vertical-align: middle;\n",
       "    }\n",
       "\n",
       "    .dataframe tbody tr th {\n",
       "        vertical-align: top;\n",
       "    }\n",
       "\n",
       "    .dataframe thead th {\n",
       "        text-align: right;\n",
       "    }\n",
       "</style>\n",
       "<table border=\"1\" class=\"dataframe\">\n",
       "  <thead>\n",
       "    <tr style=\"text-align: right;\">\n",
       "      <th></th>\n",
       "      <th>Date</th>\n",
       "      <th>Day</th>\n",
       "      <th>Month</th>\n",
       "      <th>Year</th>\n",
       "      <th>Customer_Age</th>\n",
       "      <th>Age_Group</th>\n",
       "      <th>Customer_Gender</th>\n",
       "      <th>Country</th>\n",
       "      <th>State</th>\n",
       "      <th>Product_Category</th>\n",
       "      <th>Sub_Category</th>\n",
       "      <th>Product</th>\n",
       "      <th>Order_Quantity</th>\n",
       "      <th>Unit_Cost</th>\n",
       "      <th>Unit_Price</th>\n",
       "      <th>Profit</th>\n",
       "      <th>Cost</th>\n",
       "      <th>Revenue</th>\n",
       "    </tr>\n",
       "  </thead>\n",
       "  <tbody>\n",
       "    <tr>\n",
       "      <th>0</th>\n",
       "      <td>2013-11-26</td>\n",
       "      <td>26</td>\n",
       "      <td>November</td>\n",
       "      <td>2013</td>\n",
       "      <td>19</td>\n",
       "      <td>Youth (&lt;25)</td>\n",
       "      <td>M</td>\n",
       "      <td>Canada</td>\n",
       "      <td>British Columbia</td>\n",
       "      <td>Accessories</td>\n",
       "      <td>Bike Racks</td>\n",
       "      <td>Hitch Rack - 4-Bike</td>\n",
       "      <td>8</td>\n",
       "      <td>45</td>\n",
       "      <td>120</td>\n",
       "      <td>590</td>\n",
       "      <td>360</td>\n",
       "      <td>950</td>\n",
       "    </tr>\n",
       "    <tr>\n",
       "      <th>1</th>\n",
       "      <td>2015-11-26</td>\n",
       "      <td>26</td>\n",
       "      <td>November</td>\n",
       "      <td>2015</td>\n",
       "      <td>19</td>\n",
       "      <td>Youth (&lt;25)</td>\n",
       "      <td>M</td>\n",
       "      <td>Canada</td>\n",
       "      <td>British Columbia</td>\n",
       "      <td>Accessories</td>\n",
       "      <td>Bike Racks</td>\n",
       "      <td>Hitch Rack - 4-Bike</td>\n",
       "      <td>8</td>\n",
       "      <td>45</td>\n",
       "      <td>120</td>\n",
       "      <td>590</td>\n",
       "      <td>360</td>\n",
       "      <td>950</td>\n",
       "    </tr>\n",
       "    <tr>\n",
       "      <th>2</th>\n",
       "      <td>2014-03-23</td>\n",
       "      <td>23</td>\n",
       "      <td>March</td>\n",
       "      <td>2014</td>\n",
       "      <td>49</td>\n",
       "      <td>Adults (35-64)</td>\n",
       "      <td>M</td>\n",
       "      <td>Australia</td>\n",
       "      <td>New South Wales</td>\n",
       "      <td>Accessories</td>\n",
       "      <td>Bike Racks</td>\n",
       "      <td>Hitch Rack - 4-Bike</td>\n",
       "      <td>23</td>\n",
       "      <td>45</td>\n",
       "      <td>120</td>\n",
       "      <td>1366</td>\n",
       "      <td>1035</td>\n",
       "      <td>2401</td>\n",
       "    </tr>\n",
       "    <tr>\n",
       "      <th>3</th>\n",
       "      <td>2016-03-23</td>\n",
       "      <td>23</td>\n",
       "      <td>March</td>\n",
       "      <td>2016</td>\n",
       "      <td>49</td>\n",
       "      <td>Adults (35-64)</td>\n",
       "      <td>M</td>\n",
       "      <td>Australia</td>\n",
       "      <td>New South Wales</td>\n",
       "      <td>Accessories</td>\n",
       "      <td>Bike Racks</td>\n",
       "      <td>Hitch Rack - 4-Bike</td>\n",
       "      <td>20</td>\n",
       "      <td>45</td>\n",
       "      <td>120</td>\n",
       "      <td>1188</td>\n",
       "      <td>900</td>\n",
       "      <td>2088</td>\n",
       "    </tr>\n",
       "    <tr>\n",
       "      <th>4</th>\n",
       "      <td>2014-05-15</td>\n",
       "      <td>15</td>\n",
       "      <td>May</td>\n",
       "      <td>2014</td>\n",
       "      <td>47</td>\n",
       "      <td>Adults (35-64)</td>\n",
       "      <td>F</td>\n",
       "      <td>Australia</td>\n",
       "      <td>New South Wales</td>\n",
       "      <td>Accessories</td>\n",
       "      <td>Bike Racks</td>\n",
       "      <td>Hitch Rack - 4-Bike</td>\n",
       "      <td>4</td>\n",
       "      <td>45</td>\n",
       "      <td>120</td>\n",
       "      <td>238</td>\n",
       "      <td>180</td>\n",
       "      <td>418</td>\n",
       "    </tr>\n",
       "  </tbody>\n",
       "</table>\n",
       "</div>"
      ],
      "text/plain": [
       "        Date  Day     Month  Year  Customer_Age       Age_Group  \\\n",
       "0 2013-11-26   26  November  2013            19     Youth (<25)   \n",
       "1 2015-11-26   26  November  2015            19     Youth (<25)   \n",
       "2 2014-03-23   23     March  2014            49  Adults (35-64)   \n",
       "3 2016-03-23   23     March  2016            49  Adults (35-64)   \n",
       "4 2014-05-15   15       May  2014            47  Adults (35-64)   \n",
       "\n",
       "  Customer_Gender    Country             State Product_Category Sub_Category  \\\n",
       "0               M     Canada  British Columbia      Accessories   Bike Racks   \n",
       "1               M     Canada  British Columbia      Accessories   Bike Racks   \n",
       "2               M  Australia   New South Wales      Accessories   Bike Racks   \n",
       "3               M  Australia   New South Wales      Accessories   Bike Racks   \n",
       "4               F  Australia   New South Wales      Accessories   Bike Racks   \n",
       "\n",
       "               Product  Order_Quantity  Unit_Cost  Unit_Price  Profit  Cost  \\\n",
       "0  Hitch Rack - 4-Bike               8         45         120     590   360   \n",
       "1  Hitch Rack - 4-Bike               8         45         120     590   360   \n",
       "2  Hitch Rack - 4-Bike              23         45         120    1366  1035   \n",
       "3  Hitch Rack - 4-Bike              20         45         120    1188   900   \n",
       "4  Hitch Rack - 4-Bike               4         45         120     238   180   \n",
       "\n",
       "   Revenue  \n",
       "0      950  \n",
       "1      950  \n",
       "2     2401  \n",
       "3     2088  \n",
       "4      418  "
      ]
     },
     "execution_count": 9,
     "metadata": {},
     "output_type": "execute_result"
    }
   ],
   "source": [
    "sales.head()"
   ]
  },
  {
   "cell_type": "code",
   "execution_count": 25,
   "id": "4791765f",
   "metadata": {},
   "outputs": [
    {
     "data": {
      "text/plain": [
       "(113036, 18)"
      ]
     },
     "execution_count": 25,
     "metadata": {},
     "output_type": "execute_result"
    }
   ],
   "source": [
    "sales.shape"
   ]
  },
  {
   "cell_type": "code",
   "execution_count": null,
   "id": "850f157b",
   "metadata": {},
   "outputs": [],
   "source": []
  },
  {
   "cell_type": "code",
   "execution_count": 10,
   "id": "c3b82368",
   "metadata": {},
   "outputs": [
    {
     "data": {
      "text/html": [
       "<div>\n",
       "<style scoped>\n",
       "    .dataframe tbody tr th:only-of-type {\n",
       "        vertical-align: middle;\n",
       "    }\n",
       "\n",
       "    .dataframe tbody tr th {\n",
       "        vertical-align: top;\n",
       "    }\n",
       "\n",
       "    .dataframe thead th {\n",
       "        text-align: right;\n",
       "    }\n",
       "</style>\n",
       "<table border=\"1\" class=\"dataframe\">\n",
       "  <thead>\n",
       "    <tr style=\"text-align: right;\">\n",
       "      <th></th>\n",
       "      <th>Day</th>\n",
       "      <th>Year</th>\n",
       "      <th>Customer_Age</th>\n",
       "      <th>Order_Quantity</th>\n",
       "      <th>Unit_Cost</th>\n",
       "      <th>Unit_Price</th>\n",
       "      <th>Profit</th>\n",
       "      <th>Cost</th>\n",
       "      <th>Revenue</th>\n",
       "    </tr>\n",
       "  </thead>\n",
       "  <tbody>\n",
       "    <tr>\n",
       "      <th>count</th>\n",
       "      <td>113036.000000</td>\n",
       "      <td>113036.000000</td>\n",
       "      <td>113036.000000</td>\n",
       "      <td>113036.000000</td>\n",
       "      <td>113036.000000</td>\n",
       "      <td>113036.000000</td>\n",
       "      <td>113036.000000</td>\n",
       "      <td>113036.000000</td>\n",
       "      <td>113036.000000</td>\n",
       "    </tr>\n",
       "    <tr>\n",
       "      <th>mean</th>\n",
       "      <td>15.665753</td>\n",
       "      <td>2014.401739</td>\n",
       "      <td>35.919212</td>\n",
       "      <td>11.901660</td>\n",
       "      <td>267.296366</td>\n",
       "      <td>452.938427</td>\n",
       "      <td>285.051665</td>\n",
       "      <td>469.318695</td>\n",
       "      <td>754.370360</td>\n",
       "    </tr>\n",
       "    <tr>\n",
       "      <th>std</th>\n",
       "      <td>8.781567</td>\n",
       "      <td>1.272510</td>\n",
       "      <td>11.021936</td>\n",
       "      <td>9.561857</td>\n",
       "      <td>549.835483</td>\n",
       "      <td>922.071219</td>\n",
       "      <td>453.887443</td>\n",
       "      <td>884.866118</td>\n",
       "      <td>1309.094674</td>\n",
       "    </tr>\n",
       "    <tr>\n",
       "      <th>min</th>\n",
       "      <td>1.000000</td>\n",
       "      <td>2011.000000</td>\n",
       "      <td>17.000000</td>\n",
       "      <td>1.000000</td>\n",
       "      <td>1.000000</td>\n",
       "      <td>2.000000</td>\n",
       "      <td>-30.000000</td>\n",
       "      <td>1.000000</td>\n",
       "      <td>2.000000</td>\n",
       "    </tr>\n",
       "    <tr>\n",
       "      <th>25%</th>\n",
       "      <td>8.000000</td>\n",
       "      <td>2013.000000</td>\n",
       "      <td>28.000000</td>\n",
       "      <td>2.000000</td>\n",
       "      <td>2.000000</td>\n",
       "      <td>5.000000</td>\n",
       "      <td>29.000000</td>\n",
       "      <td>28.000000</td>\n",
       "      <td>63.000000</td>\n",
       "    </tr>\n",
       "    <tr>\n",
       "      <th>50%</th>\n",
       "      <td>16.000000</td>\n",
       "      <td>2014.000000</td>\n",
       "      <td>35.000000</td>\n",
       "      <td>10.000000</td>\n",
       "      <td>9.000000</td>\n",
       "      <td>24.000000</td>\n",
       "      <td>101.000000</td>\n",
       "      <td>108.000000</td>\n",
       "      <td>223.000000</td>\n",
       "    </tr>\n",
       "    <tr>\n",
       "      <th>75%</th>\n",
       "      <td>23.000000</td>\n",
       "      <td>2016.000000</td>\n",
       "      <td>43.000000</td>\n",
       "      <td>20.000000</td>\n",
       "      <td>42.000000</td>\n",
       "      <td>70.000000</td>\n",
       "      <td>358.000000</td>\n",
       "      <td>432.000000</td>\n",
       "      <td>800.000000</td>\n",
       "    </tr>\n",
       "    <tr>\n",
       "      <th>max</th>\n",
       "      <td>31.000000</td>\n",
       "      <td>2016.000000</td>\n",
       "      <td>87.000000</td>\n",
       "      <td>32.000000</td>\n",
       "      <td>2171.000000</td>\n",
       "      <td>3578.000000</td>\n",
       "      <td>15096.000000</td>\n",
       "      <td>42978.000000</td>\n",
       "      <td>58074.000000</td>\n",
       "    </tr>\n",
       "  </tbody>\n",
       "</table>\n",
       "</div>"
      ],
      "text/plain": [
       "                 Day           Year   Customer_Age  Order_Quantity  \\\n",
       "count  113036.000000  113036.000000  113036.000000   113036.000000   \n",
       "mean       15.665753    2014.401739      35.919212       11.901660   \n",
       "std         8.781567       1.272510      11.021936        9.561857   \n",
       "min         1.000000    2011.000000      17.000000        1.000000   \n",
       "25%         8.000000    2013.000000      28.000000        2.000000   \n",
       "50%        16.000000    2014.000000      35.000000       10.000000   \n",
       "75%        23.000000    2016.000000      43.000000       20.000000   \n",
       "max        31.000000    2016.000000      87.000000       32.000000   \n",
       "\n",
       "           Unit_Cost     Unit_Price         Profit           Cost  \\\n",
       "count  113036.000000  113036.000000  113036.000000  113036.000000   \n",
       "mean      267.296366     452.938427     285.051665     469.318695   \n",
       "std       549.835483     922.071219     453.887443     884.866118   \n",
       "min         1.000000       2.000000     -30.000000       1.000000   \n",
       "25%         2.000000       5.000000      29.000000      28.000000   \n",
       "50%         9.000000      24.000000     101.000000     108.000000   \n",
       "75%        42.000000      70.000000     358.000000     432.000000   \n",
       "max      2171.000000    3578.000000   15096.000000   42978.000000   \n",
       "\n",
       "             Revenue  \n",
       "count  113036.000000  \n",
       "mean      754.370360  \n",
       "std      1309.094674  \n",
       "min         2.000000  \n",
       "25%        63.000000  \n",
       "50%       223.000000  \n",
       "75%       800.000000  \n",
       "max     58074.000000  "
      ]
     },
     "execution_count": 10,
     "metadata": {},
     "output_type": "execute_result"
    }
   ],
   "source": [
    "sales.describe()"
   ]
  },
  {
   "cell_type": "code",
   "execution_count": 11,
   "id": "495439f1",
   "metadata": {},
   "outputs": [
    {
     "data": {
      "text/plain": [
       "count    113036.000000\n",
       "mean        267.296366\n",
       "std         549.835483\n",
       "min           1.000000\n",
       "25%           2.000000\n",
       "50%           9.000000\n",
       "75%          42.000000\n",
       "max        2171.000000\n",
       "Name: Unit_Cost, dtype: float64"
      ]
     },
     "execution_count": 11,
     "metadata": {},
     "output_type": "execute_result"
    }
   ],
   "source": [
    "sales['Unit_Cost'].describe()\n"
   ]
  },
  {
   "cell_type": "code",
   "execution_count": 14,
   "id": "d20d3329",
   "metadata": {},
   "outputs": [
    {
     "data": {
      "text/plain": [
       "<AxesSubplot:>"
      ]
     },
     "execution_count": 14,
     "metadata": {},
     "output_type": "execute_result"
    },
    {
     "data": {
      "image/png": "[encoded data removed]",
      "text/plain": [
       "<Figure size 1008x432 with 1 Axes>"
      ]
     },
     "metadata": {
      "needs_background": "light"
     },
     "output_type": "display_data"
    }
   ],
   "source": [
    "sales['Unit_Cost'].plot(kind='box', vert=False, figsize=(14,6))"
   ]
  },
  {
   "cell_type": "code",
   "execution_count": 15,
   "id": "f1268004",
   "metadata": {},
   "outputs": [
    {
     "data": {
      "image/png": "[encoded data removed]",
      "text/plain": [
       "<Figure size 1008x432 with 1 Axes>"
      ]
     },
     "metadata": {
      "needs_background": "light"
     },
     "output_type": "display_data"
    }
   ],
   "source": [
    "ax=sales['Unit_Cost'].plot(kind='density', figsize=(14,6))"
   ]
  },
  {
   "cell_type": "code",
   "execution_count": 17,
   "id": "0e5e78d9",
   "metadata": {},
   "outputs": [
    {
     "data": {
      "text/plain": [
       "Text(0.5, 0, 'dollars')"
      ]
     },
     "execution_count": 17,
     "metadata": {},
     "output_type": "execute_result"
    },
    {
     "data": {
      "image/png": "[encoded data removed]",
      "text/plain": [
       "<Figure size 1008x432 with 1 Axes>"
      ]
     },
     "metadata": {
      "needs_background": "light"
     },
     "output_type": "display_data"
    }
   ],
   "source": [
    "ax=sales['Unit_Cost'].plot(kind='hist', figsize=(14,6))\n",
    "ax.set_ylabel('Number of Sales')\n",
    "ax.set_xlabel(\"dollars\")"
   ]
  },
  {
   "cell_type": "code",
   "execution_count": 18,
   "id": "c7b9475b",
   "metadata": {},
   "outputs": [
    {
     "data": {
      "text/plain": [
       "Adults (35-64)          55824\n",
       "Young Adults (25-34)    38654\n",
       "Youth (<25)             17828\n",
       "Seniors (64+)             730\n",
       "Name: Age_Group, dtype: int64"
      ]
     },
     "execution_count": 18,
     "metadata": {},
     "output_type": "execute_result"
    }
   ],
   "source": [
    "sales['Age_Group'].value_counts()"
   ]
  },
  {
   "cell_type": "code",
   "execution_count": 19,
   "id": "fe0644fb",
   "metadata": {},
   "outputs": [
    {
     "data": {
      "text/html": [
       "<div>\n",
       "<style scoped>\n",
       "    .dataframe tbody tr th:only-of-type {\n",
       "        vertical-align: middle;\n",
       "    }\n",
       "\n",
       "    .dataframe tbody tr th {\n",
       "        vertical-align: top;\n",
       "    }\n",
       "\n",
       "    .dataframe thead th {\n",
       "        text-align: right;\n",
       "    }\n",
       "</style>\n",
       "<table border=\"1\" class=\"dataframe\">\n",
       "  <thead>\n",
       "    <tr style=\"text-align: right;\">\n",
       "      <th></th>\n",
       "      <th>Day</th>\n",
       "      <th>Year</th>\n",
       "      <th>Customer_Age</th>\n",
       "      <th>Order_Quantity</th>\n",
       "      <th>Unit_Cost</th>\n",
       "      <th>Unit_Price</th>\n",
       "      <th>Profit</th>\n",
       "      <th>Cost</th>\n",
       "      <th>Revenue</th>\n",
       "    </tr>\n",
       "  </thead>\n",
       "  <tbody>\n",
       "    <tr>\n",
       "      <th>Day</th>\n",
       "      <td>1.000000</td>\n",
       "      <td>-0.007635</td>\n",
       "      <td>-0.014296</td>\n",
       "      <td>-0.002412</td>\n",
       "      <td>0.003133</td>\n",
       "      <td>0.003207</td>\n",
       "      <td>0.004623</td>\n",
       "      <td>0.003329</td>\n",
       "      <td>0.003853</td>\n",
       "    </tr>\n",
       "    <tr>\n",
       "      <th>Year</th>\n",
       "      <td>-0.007635</td>\n",
       "      <td>1.000000</td>\n",
       "      <td>0.040994</td>\n",
       "      <td>0.123169</td>\n",
       "      <td>-0.217575</td>\n",
       "      <td>-0.213673</td>\n",
       "      <td>-0.181525</td>\n",
       "      <td>-0.215604</td>\n",
       "      <td>-0.208673</td>\n",
       "    </tr>\n",
       "    <tr>\n",
       "      <th>Customer_Age</th>\n",
       "      <td>-0.014296</td>\n",
       "      <td>0.040994</td>\n",
       "      <td>1.000000</td>\n",
       "      <td>0.026887</td>\n",
       "      <td>-0.021374</td>\n",
       "      <td>-0.020262</td>\n",
       "      <td>0.004319</td>\n",
       "      <td>-0.016013</td>\n",
       "      <td>-0.009326</td>\n",
       "    </tr>\n",
       "    <tr>\n",
       "      <th>Order_Quantity</th>\n",
       "      <td>-0.002412</td>\n",
       "      <td>0.123169</td>\n",
       "      <td>0.026887</td>\n",
       "      <td>1.000000</td>\n",
       "      <td>-0.515835</td>\n",
       "      <td>-0.515925</td>\n",
       "      <td>-0.238863</td>\n",
       "      <td>-0.340382</td>\n",
       "      <td>-0.312895</td>\n",
       "    </tr>\n",
       "    <tr>\n",
       "      <th>Unit_Cost</th>\n",
       "      <td>0.003133</td>\n",
       "      <td>-0.217575</td>\n",
       "      <td>-0.021374</td>\n",
       "      <td>-0.515835</td>\n",
       "      <td>1.000000</td>\n",
       "      <td>0.997894</td>\n",
       "      <td>0.741020</td>\n",
       "      <td>0.829869</td>\n",
       "      <td>0.817865</td>\n",
       "    </tr>\n",
       "    <tr>\n",
       "      <th>Unit_Price</th>\n",
       "      <td>0.003207</td>\n",
       "      <td>-0.213673</td>\n",
       "      <td>-0.020262</td>\n",
       "      <td>-0.515925</td>\n",
       "      <td>0.997894</td>\n",
       "      <td>1.000000</td>\n",
       "      <td>0.749870</td>\n",
       "      <td>0.826301</td>\n",
       "      <td>0.818522</td>\n",
       "    </tr>\n",
       "    <tr>\n",
       "      <th>Profit</th>\n",
       "      <td>0.004623</td>\n",
       "      <td>-0.181525</td>\n",
       "      <td>0.004319</td>\n",
       "      <td>-0.238863</td>\n",
       "      <td>0.741020</td>\n",
       "      <td>0.749870</td>\n",
       "      <td>1.000000</td>\n",
       "      <td>0.902233</td>\n",
       "      <td>0.956572</td>\n",
       "    </tr>\n",
       "    <tr>\n",
       "      <th>Cost</th>\n",
       "      <td>0.003329</td>\n",
       "      <td>-0.215604</td>\n",
       "      <td>-0.016013</td>\n",
       "      <td>-0.340382</td>\n",
       "      <td>0.829869</td>\n",
       "      <td>0.826301</td>\n",
       "      <td>0.902233</td>\n",
       "      <td>1.000000</td>\n",
       "      <td>0.988758</td>\n",
       "    </tr>\n",
       "    <tr>\n",
       "      <th>Revenue</th>\n",
       "      <td>0.003853</td>\n",
       "      <td>-0.208673</td>\n",
       "      <td>-0.009326</td>\n",
       "      <td>-0.312895</td>\n",
       "      <td>0.817865</td>\n",
       "      <td>0.818522</td>\n",
       "      <td>0.956572</td>\n",
       "      <td>0.988758</td>\n",
       "      <td>1.000000</td>\n",
       "    </tr>\n",
       "  </tbody>\n",
       "</table>\n",
       "</div>"
      ],
      "text/plain": [
       "                     Day      Year  Customer_Age  Order_Quantity  Unit_Cost  \\\n",
       "Day             1.000000 -0.007635     -0.014296       -0.002412   0.003133   \n",
       "Year           -0.007635  1.000000      0.040994        0.123169  -0.217575   \n",
       "Customer_Age   -0.014296  0.040994      1.000000        0.026887  -0.021374   \n",
       "Order_Quantity -0.002412  0.123169      0.026887        1.000000  -0.515835   \n",
       "Unit_Cost       0.003133 -0.217575     -0.021374       -0.515835   1.000000   \n",
       "Unit_Price      0.003207 -0.213673     -0.020262       -0.515925   0.997894   \n",
       "Profit          0.004623 -0.181525      0.004319       -0.238863   0.741020   \n",
       "Cost            0.003329 -0.215604     -0.016013       -0.340382   0.829869   \n",
       "Revenue         0.003853 -0.208673     -0.009326       -0.312895   0.817865   \n",
       "\n",
       "                Unit_Price    Profit      Cost   Revenue  \n",
       "Day               0.003207  0.004623  0.003329  0.003853  \n",
       "Year             -0.213673 -0.181525 -0.215604 -0.208673  \n",
       "Customer_Age     -0.020262  0.004319 -0.016013 -0.009326  \n",
       "Order_Quantity   -0.515925 -0.238863 -0.340382 -0.312895  \n",
       "Unit_Cost         0.997894  0.741020  0.829869  0.817865  \n",
       "Unit_Price        1.000000  0.749870  0.826301  0.818522  \n",
       "Profit            0.749870  1.000000  0.902233  0.956572  \n",
       "Cost              0.826301  0.902233  1.000000  0.988758  \n",
       "Revenue           0.818522  0.956572  0.988758  1.000000  "
      ]
     },
     "execution_count": 19,
     "metadata": {},
     "output_type": "execute_result"
    }
   ],
   "source": [
    "corr = sales.corr()\n",
    "corr"
   ]
  },
  {
   "cell_type": "code",
   "execution_count": 24,
   "id": "7c599ab9",
   "metadata": {
    "scrolled": true
   },
   "outputs": [
    {
     "data": {
      "image/png": "[encoded data removed]",
      "text/plain": [
       "<Figure size 576x576 with 1 Axes>"
      ]
     },
     "metadata": {
      "needs_background": "light"
     },
     "output_type": "display_data"
    }
   ],
   "source": [
    "fig = plt.figure(figsize=(8,8))\n",
    "plt.matshow(corr, cmap='RdBu', fignum=fig.number)\n",
    "plt.xticks(range(len(corr.columns)), corr.columns, rotation='vertical');\n",
    "plt.yticks(range(len(corr.columns)), corr.columns);"
   ]
  },
  {
   "cell_type": "code",
   "execution_count": 27,
   "id": "f06c42ba",
   "metadata": {
    "scrolled": true
   },
   "outputs": [
    {
     "data": {
      "text/plain": [
       "0    50.000000\n",
       "1    50.000000\n",
       "2    49.000000\n",
       "3    42.612245\n",
       "4     8.893617\n",
       "Name: Revenue_per_Age, dtype: float64"
      ]
     },
     "execution_count": 27,
     "metadata": {},
     "output_type": "execute_result"
    }
   ],
   "source": [
    "sales['Revenue_per_Age'] = sales['Revenue'] / sales['Customer_Age']\n",
    "sales['Revenue_per_Age'].head()"
   ]
  },
  {
   "cell_type": "code",
   "execution_count": 31,
   "id": "8721dd9c",
   "metadata": {},
   "outputs": [
    {
     "data": {
      "text/plain": [
       "<AxesSubplot:ylabel='Density'>"
      ]
     },
     "execution_count": 31,
     "metadata": {},
     "output_type": "execute_result"
    },
    {
     "data": {
      "image/png": "[encoded data removed]",
      "text/plain": [
       "<Figure size 576x576 with 1 Axes>"
      ]
     },
     "metadata": {
      "needs_background": "light"
     },
     "output_type": "display_data"
    }
   ],
   "source": [
    "sales['Revenue_per_Age'].plot(kind='density', figsize=(8,8))"
   ]
  },
  {
   "cell_type": "code",
   "execution_count": 34,
   "id": "a5d58456",
   "metadata": {},
   "outputs": [
    {
     "data": {
      "text/plain": [
       "0     360\n",
       "1     360\n",
       "2    1035\n",
       "3     900\n",
       "4     180\n",
       "Name: Calculated_Cost, dtype: int64"
      ]
     },
     "execution_count": 34,
     "metadata": {},
     "output_type": "execute_result"
    }
   ],
   "source": [
    "sales['Calculated_Cost'] = sales['Order_Quantity']*sales['Unit_Cost']\n",
    "sales['Calculated_Cost'].head()"
   ]
  },
  {
   "cell_type": "code",
   "execution_count": 36,
   "id": "2f235b4d",
   "metadata": {},
   "outputs": [
    {
     "data": {
      "text/plain": [
       "0"
      ]
     },
     "execution_count": 36,
     "metadata": {},
     "output_type": "execute_result"
    }
   ],
   "source": [
    "(sales['Calculated_Cost'] !=sales['Cost']).sum()"
   ]
  },
  {
   "cell_type": "code",
   "execution_count": 40,
   "id": "5eff1fa0",
   "metadata": {},
   "outputs": [
    {
     "data": {
      "text/plain": [
       "2          True\n",
       "3          True\n",
       "4         False\n",
       "5         False\n",
       "6         False\n",
       "          ...  \n",
       "113029    False\n",
       "113030    False\n",
       "113031    False\n",
       "113034     True\n",
       "113035     True\n",
       "Name: Revenue, Length: 55824, dtype: bool"
      ]
     },
     "execution_count": 40,
     "metadata": {},
     "output_type": "execute_result"
    }
   ],
   "source": [
    "sales.loc[sales['Age_Group'] == 'Adults (35-64)', 'Revenue'] >1000"
   ]
  }
 ],
 "metadata": {
  "kernelspec": {
   "display_name": "Python 3",
   "language": "python",
   "name": "python3"
  },
  "language_info": {
   "codemirror_mode": {
    "name": "ipython",
    "version": 3
   },
   "file_extension": ".py",
   "mimetype": "text/x-python",
   "name": "python",
   "nbconvert_exporter": "python",
   "pygments_lexer": "ipython3",
   "version": "3.8.8"
  }
 },
 "nbformat": 4,
 "nbformat_minor": 5
}

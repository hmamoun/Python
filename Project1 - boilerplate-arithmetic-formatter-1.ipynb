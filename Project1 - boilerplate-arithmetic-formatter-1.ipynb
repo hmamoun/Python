{
 "cells": [
  {
   "cell_type": "code",
   "execution_count": 161,
   "id": "e2283832",
   "metadata": {},
   "outputs": [],
   "source": [
    "def arithmetic_arranger(problems , cond=False):\n",
    "  #cond = False\n",
    "  probs =dict()\n",
    "  cntr=0\n",
    "  ans=0\n",
    "  if len(problems)>5:\n",
    "    return 'Error: Too many problems.'\n",
    "  \n",
    "  for x in problems:\n",
    "      cntr+=1\n",
    "      y = x.split()\n",
    "      if not y[0].isdecimal() or not y[2].isdecimal():\n",
    "        return 'Error: Numbers must only contain digits.'\n",
    "      if len(y[0]) > 4 or len(y[2]) > 4: \n",
    "        return 'Error: Numbers cannot be more than four digits.'\n",
    "      if y[1]=='+':\n",
    "        ans= int(y[0]) + int(y[2])\n",
    "      elif y[1]=='-':\n",
    "        ans =  int(y[0]) - int(y[2])\n",
    "      else:\n",
    "        return \"Error: Operator must be '+' or '-'.\"\n",
    "      probs[cntr] = {\"num1\": y[0], \"num2\": y[2], \"op\":y[1] , \"ans\":ans , \"wide\": max(len(y[0]), len(y[2]))}\n",
    "\n",
    "  line1, line2, line3, line4=\"\",\"\",\"\",\"\"\n",
    "  for x in range (cntr): \n",
    "      wid = probs[x+1][\"wide\"]\n",
    "      znum1=str(probs[x+1][\"num1\"])\n",
    "      line1+=(wid-len(znum1)+2)*' ' + znum1 \n",
    "      znum2=str(probs[x+1][\"num2\"])\n",
    "      line2+=probs[x+1][\"op\"]+(wid-len(znum2)+1)*' ' + znum2 \n",
    "      line3+=(wid+2)*'-' \n",
    "      if cond == True:\n",
    "          znum4 =str(probs[x+1][\"ans\"])\n",
    "          line4+=(wid-len(znum4)+2)*' ' + znum4\n",
    "      if x!=cntr-1 :\n",
    "        line1+='    '\n",
    "        line2+='    '\n",
    "        line3+='    '\n",
    "        line4+='    '\n",
    "    \n",
    "    \n",
    "  #print(line1+'\\n'+line2+'\\n'+line3+'\\n'+line4)\n",
    "  if cond == True:\n",
    "      return line1+'\\n'+line2+'\\n'+line3+'\\n'+line4\n",
    "  else:\n",
    "      return line1+'\\n'+line2+'\\n'+line3"
   ]
  },
  {
   "cell_type": "code",
   "execution_count": 159,
   "id": "6ebbaba2",
   "metadata": {},
   "outputs": [
    {
     "name": "stdout",
     "output_type": "stream",
     "text": [
      "    3      3801      45      123\n",
      "+ 855    -    2    + 43    +  49\n",
      "-----    ------    ----    -----\n",
      "    3      3801      45      123\n",
      "+ 855    -    2    + 43    +  49\n",
      "-----    ------    ----    -----\n",
      "True\n"
     ]
    }
   ],
   "source": [
    "actual = arithmetic_arranger([\"3 + 855\", \"3801 - 2\", \"45 + 43\", \"123 + 49\"])\n",
    "expected = \"    3      3801      45      123\\n+ 855    -    2    + 43    +  49\\n-----    ------    ----    -----\"\n",
    "print(actual )\n",
    "print(expected)\n",
    "print(actual==expected)\n"
   ]
  }
 ],
 "metadata": {
  "kernelspec": {
   "display_name": "Python 3",
   "language": "python",
   "name": "python3"
  },
  "language_info": {
   "codemirror_mode": {
    "name": "ipython",
    "version": 3
   },
   "file_extension": ".py",
   "mimetype": "text/x-python",
   "name": "python",
   "nbconvert_exporter": "python",
   "pygments_lexer": "ipython3",
   "version": "3.8.8"
  }
 },
 "nbformat": 4,
 "nbformat_minor": 5
}

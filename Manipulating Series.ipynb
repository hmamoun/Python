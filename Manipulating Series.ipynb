{
 "cells": [
  {
   "cell_type": "markdown",
   "metadata": {
    "colab_type": "text",
    "id": "77JUn2mQq6bf"
   },
   "source": [
    "#### 1. a. Create a pandas series having values 4, 7, -5, 3, NAN and their index as d, b, a, c, e\n",
    "\n",
    "   #### b. Write a code to check for null values from the given series."
   ]
  },
  {
   "cell_type": "code",
   "execution_count": 5,
   "metadata": {},
   "outputs": [
    {
     "name": "stdout",
     "output_type": "stream",
     "text": [
      "d    4.0\n",
      "b    7.0\n",
      "a   -5.0\n",
      "c    3.0\n",
      "e    NaN\n",
      "dtype: float64\n"
     ]
    }
   ],
   "source": [
    "import pandas as pd\n",
    "x = [4, 7, -5, 3]\n",
    "y = ['d', 'b', 'a', 'c'] #, 'e']\n",
    "z = pd.Series(x,index =y)\n",
    "y = ['d', 'b', 'a', 'c', 'e']\n",
    "z = pd.Series(z,index =y)\n",
    "print (z)"
   ]
  },
  {
   "cell_type": "markdown",
   "metadata": {
    "colab_type": "text",
    "id": "0CtW15PZrorX"
   },
   "source": [
    "#### 2. Generate a NumPy array where the values in the array range between 0 to 10. Create a series using the same array."
   ]
  },
  {
   "cell_type": "code",
   "execution_count": 8,
   "metadata": {},
   "outputs": [
    {
     "name": "stdout",
     "output_type": "stream",
     "text": [
      "0    0\n",
      "1    1\n",
      "2    2\n",
      "3    3\n",
      "4    4\n",
      "5    5\n",
      "6    6\n",
      "7    7\n",
      "8    8\n",
      "9    9\n",
      "dtype: int32\n"
     ]
    }
   ],
   "source": [
    "import numpy as np\n",
    "arr = np.arange(10)\n",
    "arr = pd.Series(arr)\n",
    "print(arr)"
   ]
  }
 ],
 "metadata": {
  "colab": {
   "collapsed_sections": [],
   "name": "Pandas.ipynb",
   "provenance": []
  },
  "kernelspec": {
   "display_name": "Python 3",
   "language": "python",
   "name": "python3"
  },
  "language_info": {
   "codemirror_mode": {
    "name": "ipython",
    "version": 3
   },
   "file_extension": ".py",
   "mimetype": "text/x-python",
   "name": "python",
   "nbconvert_exporter": "python",
   "pygments_lexer": "ipython3",
   "version": "3.8.8"
  }
 },
 "nbformat": 4,
 "nbformat_minor": 1
}

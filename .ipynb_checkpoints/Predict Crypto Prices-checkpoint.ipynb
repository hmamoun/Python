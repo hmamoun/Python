{
 "cells": [
  {
   "cell_type": "markdown",
   "id": "5237bb5a",
   "metadata": {},
   "source": [
    "https://www.youtube.com/watch?v=GFSiL6zEZF0\n"
   ]
  },
  {
   "cell_type": "code",
   "execution_count": null,
   "id": "48a7fbe5",
   "metadata": {},
   "outputs": [],
   "source": [
    "# seed the pseudorandom number generator\n",
    "\n",
    "import random as rand\n",
    "import numpy as np\n",
    "import seaborn as sns\n",
    "import pandas as pd\n",
    "import pandas_datareader as web\n",
    "import matplotlib as pyplot\n",
    "import tensorflow\n",
    "import sklearn\n",
    "import datetime as dt\n",
    "from sklearn.preprocessing import MinMaxScaler"
   ]
  },
  {
   "cell_type": "code",
   "execution_count": null,
   "id": "bc768c7a",
   "metadata": {},
   "outputs": [],
   "source": []
  }
 ],
 "metadata": {
  "kernelspec": {
   "display_name": "Python 3 (ipykernel)",
   "language": "python",
   "name": "python3"
  },
  "language_info": {
   "codemirror_mode": {
    "name": "ipython",
    "version": 3
   },
   "file_extension": ".py",
   "mimetype": "text/x-python",
   "name": "python",
   "nbconvert_exporter": "python",
   "pygments_lexer": "ipython3",
   "version": "3.8.8"
  }
 },
 "nbformat": 4,
 "nbformat_minor": 5
}

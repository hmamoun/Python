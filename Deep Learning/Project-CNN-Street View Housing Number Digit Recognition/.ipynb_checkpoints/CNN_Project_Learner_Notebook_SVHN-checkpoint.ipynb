{
 "cells": [
  {
   "cell_type": "markdown",
   "metadata": {
    "id": "Q91KqmCRu64D"
   },
   "source": [
    "# **Project - Convolutional Neural Networks: Street View Housing Number Digit Recognition**\n",
    "\n",
    "# Marks: 30\n",
    "\n",
    "Welcome to the project on classification using Convolutional Neural Networks. We will continue to work with the Street View Housing Numbers (SVHN) image dataset for this project.\n",
    "\n",
    "--------------\n",
    "### **Context:** \n",
    "--------------\n",
    "\n",
    "One of the most interesting tasks in deep learning is to recognize objects in natural scenes. The ability to process visual information using machine learning algorithms can be very useful as demonstrated in various applications.\n",
    "\n",
    "The SVHN dataset contains over 600,000 labeled digits cropped from street-level photos. It is one of the most popular image recognition datasets. It has been used in neural networks created by Google to improve map quality by automatically transcribing the address numbers from a patch of pixels. The transcribed number with a known street address helps pinpoint the location of the building it represents. \n",
    "\n",
    "----------------\n",
    "### **Objective:**\n",
    "----------------\n",
    "\n",
    "Build a CNN model that can identify the digits in the images.\n",
    "\n",
    "-------------\n",
    "### **Dataset**\n",
    "-------------\n",
    "Here, we will use a subset of the original data to save some computation time. The dataset is provided as a .h5 file. The basic preprocessing steps have been done."
   ]
  },
  {
   "cell_type": "markdown",
   "metadata": {
    "id": "8z2Z7-OAs8QG"
   },
   "source": [
    "## **Mount the drive**\n",
    "Let us start by mounting the drive and importing the necessary libraries."
   ]
  },
  {
   "cell_type": "code",
   "execution_count": 14,
   "metadata": {
    "colab": {
     "base_uri": "https://localhost:8080/"
    },
    "id": "03lDyQUuef7z",
    "outputId": "09c1ce41-fc03-453e-cdae-d3d7f3aea227"
   },
   "outputs": [
    {
     "ename": "SyntaxError",
     "evalue": "invalid syntax (<ipython-input-14-04ba90c220ee>, line 2)",
     "output_type": "error",
     "traceback": [
      "\u001b[1;36m  File \u001b[1;32m\"<ipython-input-14-04ba90c220ee>\"\u001b[1;36m, line \u001b[1;32m2\u001b[0m\n\u001b[1;33m    from google-cloud-storage import drive\u001b[0m\n\u001b[1;37m               ^\u001b[0m\n\u001b[1;31mSyntaxError\u001b[0m\u001b[1;31m:\u001b[0m invalid syntax\n"
     ]
    }
   ],
   "source": [
    "#!pip install google-colab\n",
    "#from google-cloud-storage import drive\n"
   ]
  },
  {
   "cell_type": "code",
   "execution_count": 11,
   "metadata": {},
   "outputs": [
    {
     "ename": "NameError",
     "evalue": "name 'drive' is not defined",
     "output_type": "error",
     "traceback": [
      "\u001b[1;31m---------------------------------------------------------------------------\u001b[0m",
      "\u001b[1;31mNameError\u001b[0m                                 Traceback (most recent call last)",
      "\u001b[1;32m<ipython-input-11-3b8a479202a4>\u001b[0m in \u001b[0;36m<module>\u001b[1;34m\u001b[0m\n\u001b[1;32m----> 1\u001b[1;33m \u001b[0mdrive\u001b[0m\u001b[1;33m.\u001b[0m\u001b[0mmount\u001b[0m\u001b[1;33m(\u001b[0m\u001b[1;34m'/content/drive'\u001b[0m\u001b[1;33m)\u001b[0m\u001b[1;33m\u001b[0m\u001b[1;33m\u001b[0m\u001b[0m\n\u001b[0m",
      "\u001b[1;31mNameError\u001b[0m: name 'drive' is not defined"
     ]
    }
   ],
   "source": [
    "#drive.mount('/content/drive')"
   ]
  },
  {
   "cell_type": "markdown",
   "metadata": {
    "id": "C8U3DUa3eNsT"
   },
   "source": [
    "## **Importing libraries**"
   ]
  },
  {
   "cell_type": "code",
   "execution_count": 15,
   "metadata": {
    "id": "-dVzeuF3eQx1"
   },
   "outputs": [],
   "source": [
    "import numpy as np\n",
    "import pandas as pd\n",
    "import matplotlib.pyplot as plt\n",
    "import seaborn as sns\n",
    "\n",
    "from sklearn.model_selection import train_test_split\n",
    "from sklearn.preprocessing import MinMaxScaler\n",
    "\n",
    "import tensorflow as tf\n",
    "from tensorflow.keras.models import Sequential\n",
    "from tensorflow.keras.layers import Dense, Conv2D, MaxPool2D, BatchNormalization, Dropout, Flatten, LeakyReLU\n",
    "from tensorflow.keras.utils import to_categorical"
   ]
  },
  {
   "cell_type": "markdown",
   "metadata": {
    "id": "ucnevGLoyKf_"
   },
   "source": [
    "Let us check for the version of TensorFlow."
   ]
  },
  {
   "cell_type": "code",
   "execution_count": 16,
   "metadata": {
    "colab": {
     "base_uri": "https://localhost:8080/"
    },
    "id": "W5as47YxyJVk",
    "outputId": "b643a4f5-2d98-420a-cd1b-e8e18a8b49ec"
   },
   "outputs": [
    {
     "name": "stdout",
     "output_type": "stream",
     "text": [
      "2.3.0\n"
     ]
    }
   ],
   "source": [
    "print(tf.__version__)"
   ]
  },
  {
   "cell_type": "markdown",
   "metadata": {
    "id": "8lsux2ZwyTTR"
   },
   "source": [
    "## **Load the dataset**\n",
    "- Let us now load the dataset that is available as a .h5 file.\n",
    "- Split the data into train and the test dataset"
   ]
  },
  {
   "cell_type": "code",
   "execution_count": 18,
   "metadata": {
    "id": "BApX9qgNsqV0",
    "scrolled": true
   },
   "outputs": [],
   "source": [
    "import h5py\n",
    "\n",
    "# Open the file as read only\n",
    "# User can make changes in the path as required\n",
    "#h5f = h5py.File('/content/drive/MyDrive/Colab Notebooks/SVHN_single_grey1.h5', 'r')\n",
    "h5f = h5py.File('G://My Drive//Colab Notebooks//SVHN_single_grey1.h5', 'r')\n",
    "\n",
    "\n",
    "# Load the training and the test set\n",
    "X_train = h5f['X_train'][:]\n",
    "y_train = h5f['y_train'][:]\n",
    "X_test = h5f['X_test'][:]\n",
    "y_test = h5f['y_test'][:]\n",
    "\n",
    "\n",
    "# Close this file\n",
    "h5f.close()"
   ]
  },
  {
   "cell_type": "markdown",
   "metadata": {
    "id": "hVe0CYpUgj7w"
   },
   "source": [
    "Let's check the number of images in the training and testing data."
   ]
  },
  {
   "cell_type": "code",
   "execution_count": 19,
   "metadata": {
    "colab": {
     "base_uri": "https://localhost:8080/"
    },
    "id": "y3lwKpOefkpA",
    "outputId": "ed1c6c2d-9da3-4272-8ee0-b21b246cc0ba"
   },
   "outputs": [
    {
     "data": {
      "text/plain": [
       "(42000, 18000)"
      ]
     },
     "execution_count": 19,
     "metadata": {},
     "output_type": "execute_result"
    }
   ],
   "source": [
    "len(X_train), len(X_test)"
   ]
  },
  {
   "cell_type": "markdown",
   "metadata": {
    "id": "akTUOfLlgwoM"
   },
   "source": [
    "**Observations**\n",
    "- There are 42,000 images in the training data and 18,000 images in the testing data. "
   ]
  },
  {
   "cell_type": "markdown",
   "metadata": {
    "id": "kxODV6HKykuc"
   },
   "source": [
    "## **Visualizing images**\n",
    "- Use X_train to visualize the first 10 images\n",
    "- Use Y_train to print the first 10 labels"
   ]
  },
  {
   "cell_type": "markdown",
   "metadata": {
    "id": "Rn5IZYv-e2TC"
   },
   "source": [
    "#### **Question 1: Complete the below code to visualize the first 10 images from the training data (1 Mark)**"
   ]
  },
  {
   "cell_type": "code",
   "execution_count": 20,
   "metadata": {
    "colab": {
     "base_uri": "https://localhost:8080/",
     "height": 95
    },
    "id": "Bvsc8ytHsqWD",
    "outputId": "90aa5065-214d-4a03-b8e5-9bfb8907bf06"
   },
   "outputs": [
    {
     "data": {
      "image/png": "[encoded data removed]",
      "text/plain": [
       "<Figure size 720x72 with 10 Axes>"
      ]
     },
     "metadata": {},
     "output_type": "display_data"
    },
    {
     "name": "stdout",
     "output_type": "stream",
     "text": [
      "label for each of the above image: [2 6 7 4 4 0 3 0 7 3]\n"
     ]
    }
   ],
   "source": [
    "# visualizing the first 10 images in the dataset and their labels\n",
    "plt.figure(figsize=(10, 1))\n",
    "\n",
    "for i in range(10):\n",
    "    plt.subplot(1, 10, i+1)\n",
    "    plt.imshow(X_train[i], cmap=\"gray\") # write the function to visualize images\n",
    "    plt.axis('off')\n",
    "\n",
    "plt.show()\n",
    "print('label for each of the above image: %s' % (y_train[0:10]))"
   ]
  },
  {
   "cell_type": "markdown",
   "metadata": {
    "id": "kzoyeXHOy80N"
   },
   "source": [
    "## **Data Preparation**\n",
    "\n",
    "- Print the first image in the train image and figure out the shape of the images\n",
    "- Reshape the train and the test dataset to make them fit the first convolutional operation that we will create later. Figure out the required shape\n",
    "- Normalize the train and the test dataset by dividing by 255\n",
    "- Print the new shapes of the train and the test set\n",
    "- One-hot encode the target variable"
   ]
  },
  {
   "cell_type": "code",
   "execution_count": 21,
   "metadata": {
    "colab": {
     "base_uri": "https://localhost:8080/"
    },
    "id": "NqndzQXng9rL",
    "outputId": "32b78184-1c31-4539-e26e-fcf42eccb878"
   },
   "outputs": [
    {
     "name": "stdout",
     "output_type": "stream",
     "text": [
      "Shape: (32, 32)\n",
      "\n",
      "First image:\n",
      " [[ 33.0704  30.2601  26.852  ...  71.4471  58.2204  42.9939]\n",
      " [ 25.2283  25.5533  29.9765 ... 113.0209 103.3639  84.2949]\n",
      " [ 26.2775  22.6137  40.4763 ... 113.3028 121.775  115.4228]\n",
      " ...\n",
      " [ 28.5502  36.212   45.0801 ...  24.1359  25.0927  26.0603]\n",
      " [ 38.4352  26.4733  23.2717 ...  28.1094  29.4683  30.0661]\n",
      " [ 50.2984  26.0773  24.0389 ...  49.6682  50.853   53.0377]]\n"
     ]
    }
   ],
   "source": [
    "# Shape of the images and the first image\n",
    "\n",
    "print(\"Shape:\", X_train[0].shape)\n",
    "print()\n",
    "print(\"First image:\\n\", X_train[0])"
   ]
  },
  {
   "cell_type": "code",
   "execution_count": 22,
   "metadata": {
    "id": "D9YPwf9ysqWU"
   },
   "outputs": [],
   "source": [
    "# Reshaping the dataset to flatten them. Remember that we always have to give a 4D array as input to CNNs\n",
    "\n",
    "X_train = X_train.reshape(X_train.shape[0], 32,32,1)\n",
    "X_test = X_test.reshape(X_test.shape[0], 32,32,1)"
   ]
  },
  {
   "cell_type": "code",
   "execution_count": 23,
   "metadata": {
    "id": "q_yUUTp_mUzB"
   },
   "outputs": [],
   "source": [
    "# Normalize inputs from 0-255 to 0-1\n",
    "\n",
    "X_train = X_train / 255.0\n",
    "X_test = X_test / 255.0"
   ]
  },
  {
   "cell_type": "code",
   "execution_count": 24,
   "metadata": {
    "colab": {
     "base_uri": "https://localhost:8080/"
    },
    "id": "t7FSqOpamWkH",
    "outputId": "11341507-4d6e-4232-f198-aaf709d590dd"
   },
   "outputs": [
    {
     "name": "stdout",
     "output_type": "stream",
     "text": [
      "Training set: (42000, 32, 32, 1) (42000,)\n",
      "Test set: (18000, 32, 32, 1) (18000,)\n"
     ]
    }
   ],
   "source": [
    "# New shape \n",
    "\n",
    "print('Training set:', X_train.shape, y_train.shape)\n",
    "print('Test set:', X_test.shape, y_test.shape)"
   ]
  },
  {
   "cell_type": "markdown",
   "metadata": {
    "id": "YP92jacue2TE"
   },
   "source": [
    "#### **Question 2: One-hot encode the labels in the target variable y_train and y_test (2 Marks)**"
   ]
  },
  {
   "cell_type": "code",
   "execution_count": 25,
   "metadata": {
    "colab": {
     "base_uri": "https://localhost:8080/"
    },
    "id": "zL0lYER4sqWw",
    "outputId": "f954a0bb-f5a3-48aa-a397-c8328aafb1fd"
   },
   "outputs": [
    {
     "data": {
      "text/plain": [
       "array([[0., 1., 0., ..., 0., 0., 0.],\n",
       "       [0., 0., 0., ..., 1., 0., 0.],\n",
       "       [0., 0., 1., ..., 0., 0., 0.],\n",
       "       ...,\n",
       "       [0., 0., 0., ..., 1., 0., 0.],\n",
       "       [0., 0., 0., ..., 0., 0., 1.],\n",
       "       [0., 0., 1., ..., 0., 0., 0.]], dtype=float32)"
      ]
     },
     "execution_count": 25,
     "metadata": {},
     "output_type": "execute_result"
    }
   ],
   "source": [
    "#Write the function and appropriate variable name to one-hot encode the output\n",
    "\n",
    "y_train = tf.keras.utils.to_categorical(y_train)\n",
    "y_test = tf.keras.utils.to_categorical(y_test)\n",
    "#test labels\n",
    "y_test"
   ]
  },
  {
   "cell_type": "markdown",
   "metadata": {
    "id": "ViqPOTquCF76"
   },
   "source": [
    "- Notice that each entry of y_test is a one-hot encoded vector instead of a single label."
   ]
  },
  {
   "cell_type": "markdown",
   "metadata": {
    "id": "yH-gVrzuByNA"
   },
   "source": [
    "## **Model Building**\n",
    "\n",
    "Now, we have done data preprocessing, let's build a CNN model."
   ]
  },
  {
   "cell_type": "code",
   "execution_count": 26,
   "metadata": {
    "id": "eaGr-3Noe2TF"
   },
   "outputs": [],
   "source": [
    "#Fixing the seed for random number generators\n",
    "np.random.seed(42)\n",
    "import random\n",
    "random.seed(42)\n",
    "tf.random.set_seed(42)"
   ]
  },
  {
   "cell_type": "markdown",
   "metadata": {
    "id": "UJDUoaEj1d6e"
   },
   "source": [
    "### **Model Architecture**\n",
    "- Write a function that returns a sequential model with the following architecture\n",
    " - First Convolutional layer with **16 filters and kernel size of 3x3**. Use the **'same' padding** and provide an **apt input shape**\n",
    " - Add a **LeakyRelu layer** with the **slope equal to 0.1**\n",
    " - Second Convolutional layer with **32 filters and kernel size of 3x3 with 'same' padding**\n",
    " - Another **LeakyRelu** with the **slope equal to 0.1**\n",
    " - A **max-pooling layer** with a **pool size of 2x2**\n",
    " - **Flatten** the output from the previous layer\n",
    " - Add a **dense layer with 32 nodes**\n",
    " - Add a **LeakyRelu layer with slope equal to 0.1**\n",
    " - Add the final **output layer with nodes equal to the number of classes** and **softmax activation**\n",
    " - Compile the model with the **categorical_crossentropy loss, adam optimizers (learning_rate = 0.001), and accuracy metric**. Do not fit the model here, just return the compiled model\n",
    "- Call the function and store the model in a new variable\n",
    "- Print the summary of the model.\n",
    "- Fit the model on the train data with a **validation split of 0.2, batch size = 32, verbose = 1, and 20 epochs**. Store the model building history to use later for visualization."
   ]
  },
  {
   "cell_type": "markdown",
   "metadata": {
    "id": "Uw8pZcNwe2TG"
   },
   "source": [
    "#### **Question 3: Build and train a CNN model as per the above mentioned architecture (10 Marks)**"
   ]
  },
  {
   "cell_type": "code",
   "execution_count": 27,
   "metadata": {
    "id": "Cmi81Gr5sqW-"
   },
   "outputs": [],
   "source": [
    "#Importing losses and optimizers modules\n",
    "from tensorflow.keras import losses\n",
    "from tensorflow.keras import optimizers\n",
    "from tensorflow.keras.layers import Dense, Dropout, Flatten, Conv2D, MaxPooling2D, BatchNormalization\n",
    "\n",
    "#Define the function\n",
    "def cnn_model_1():\n",
    "    model = Sequential() \n",
    "    #Add layers as per the architecture mentioned above in the same sequence\n",
    "    model.add(Conv2D(filters=16, kernel_size=(3, 3), activation='relu', padding='same', data_format='channels_last', input_shape=(32,32,1)))\n",
    "    model.add(LeakyReLU(alpha=0.1))\n",
    "    model.add(Conv2D(filters=32, kernel_size=(3, 3), activation='relu', padding='same', data_format='channels_last'))\n",
    "    model.add(LeakyReLU(alpha=0.1))\n",
    "    model.add(MaxPooling2D(pool_size=(2, 2)))\n",
    "    model.add(Flatten())\n",
    "    model.add(Dense(32, activation='relu'))\n",
    "    model.add(LeakyReLU(alpha=0.1))\n",
    "    model.add(Dense(10, activation='softmax'))\n",
    "\n",
    "    #declare adam optimizer with learning rate of 0.001 \n",
    "    adam = optimizers.Adam(learning_rate=0.001)\n",
    "    \n",
    "    #compile the model\n",
    "    model.compile(optimizer=adam, loss=\"categorical_crossentropy\", metrics=[\"accuracy\"])\n",
    "    \n",
    "    return model"
   ]
  },
  {
   "cell_type": "code",
   "execution_count": 28,
   "metadata": {
    "id": "bGCUI_xsImnH"
   },
   "outputs": [],
   "source": [
    "#Build the model\n",
    "model_1 = cnn_model_1()"
   ]
  },
  {
   "cell_type": "code",
   "execution_count": 29,
   "metadata": {
    "colab": {
     "base_uri": "https://localhost:8080/"
    },
    "id": "ckJsLdmdQadZ",
    "outputId": "a5dd030e-0c1f-480c-ecaf-830799ff34d8"
   },
   "outputs": [
    {
     "name": "stdout",
     "output_type": "stream",
     "text": [
      "Model: \"sequential\"\n",
      "_________________________________________________________________\n",
      "Layer (type)                 Output Shape              Param #   \n",
      "=================================================================\n",
      "conv2d (Conv2D)              (None, 32, 32, 16)        160       \n",
      "_________________________________________________________________\n",
      "leaky_re_lu (LeakyReLU)      (None, 32, 32, 16)        0         \n",
      "_________________________________________________________________\n",
      "conv2d_1 (Conv2D)            (None, 32, 32, 32)        4640      \n",
      "_________________________________________________________________\n",
      "leaky_re_lu_1 (LeakyReLU)    (None, 32, 32, 32)        0         \n",
      "_________________________________________________________________\n",
      "max_pooling2d (MaxPooling2D) (None, 16, 16, 32)        0         \n",
      "_________________________________________________________________\n",
      "flatten (Flatten)            (None, 8192)              0         \n",
      "_________________________________________________________________\n",
      "dense (Dense)                (None, 32)                262176    \n",
      "_________________________________________________________________\n",
      "leaky_re_lu_2 (LeakyReLU)    (None, 32)                0         \n",
      "_________________________________________________________________\n",
      "dense_1 (Dense)              (None, 10)                330       \n",
      "=================================================================\n",
      "Total params: 267,306\n",
      "Trainable params: 267,306\n",
      "Non-trainable params: 0\n",
      "_________________________________________________________________\n"
     ]
    }
   ],
   "source": [
    "#Print the model summary\n",
    "model_1.summary()"
   ]
  },
  {
   "cell_type": "code",
   "execution_count": 30,
   "metadata": {
    "colab": {
     "base_uri": "https://localhost:8080/"
    },
    "id": "3Fy3Dif_zcCk",
    "outputId": "109dede2-a014-45bc-e210-9d6de8810209"
   },
   "outputs": [
    {
     "name": "stdout",
     "output_type": "stream",
     "text": [
      "Epoch 1/20\n",
      "1313/1313 [==============================] - 38s 29ms/step - loss: 1.5233 - accuracy: 0.4708 - val_loss: 0.9116 - val_accuracy: 0.7222\n",
      "Epoch 2/20\n",
      "1313/1313 [==============================] - 45s 34ms/step - loss: 0.8027 - accuracy: 0.7562 - val_loss: 0.8179 - val_accuracy: 0.7499\n",
      "Epoch 3/20\n",
      "1313/1313 [==============================] - 50s 38ms/step - loss: 0.7045 - accuracy: 0.7892 - val_loss: 0.7171 - val_accuracy: 0.7910\n",
      "Epoch 4/20\n",
      "1313/1313 [==============================] - 46s 35ms/step - loss: 0.6492 - accuracy: 0.8056 - val_loss: 0.6938 - val_accuracy: 0.7940\n",
      "Epoch 5/20\n",
      "1313/1313 [==============================] - 41s 31ms/step - loss: 0.6112 - accuracy: 0.8179 - val_loss: 0.7033 - val_accuracy: 0.7933\n",
      "Epoch 6/20\n",
      "1313/1313 [==============================] - 41s 31ms/step - loss: 0.5784 - accuracy: 0.8271 - val_loss: 0.6355 - val_accuracy: 0.8165\n",
      "Epoch 7/20\n",
      "1313/1313 [==============================] - 44s 33ms/step - loss: 0.5511 - accuracy: 0.8356 - val_loss: 0.6150 - val_accuracy: 0.8251\n",
      "Epoch 8/20\n",
      "1313/1313 [==============================] - 46s 35ms/step - loss: 0.5259 - accuracy: 0.8428 - val_loss: 0.5918 - val_accuracy: 0.8336\n",
      "Epoch 9/20\n",
      "1313/1313 [==============================] - 45s 34ms/step - loss: 0.5098 - accuracy: 0.8489 - val_loss: 0.6156 - val_accuracy: 0.8219\n",
      "Epoch 10/20\n",
      "1313/1313 [==============================] - 42s 32ms/step - loss: 0.4900 - accuracy: 0.8537 - val_loss: 0.5813 - val_accuracy: 0.8348\n",
      "Epoch 11/20\n",
      "1313/1313 [==============================] - 44s 33ms/step - loss: 0.4752 - accuracy: 0.8585 - val_loss: 0.5876 - val_accuracy: 0.8306\n",
      "Epoch 12/20\n",
      "1313/1313 [==============================] - 42s 32ms/step - loss: 0.4650 - accuracy: 0.8587 - val_loss: 0.5835 - val_accuracy: 0.8400\n",
      "Epoch 13/20\n",
      "1313/1313 [==============================] - 43s 33ms/step - loss: 0.4553 - accuracy: 0.8634 - val_loss: 0.5837 - val_accuracy: 0.8374\n",
      "Epoch 14/20\n",
      "1313/1313 [==============================] - 42s 32ms/step - loss: 0.4445 - accuracy: 0.8657 - val_loss: 0.5758 - val_accuracy: 0.8409\n",
      "Epoch 15/20\n",
      "1313/1313 [==============================] - 42s 32ms/step - loss: 0.4317 - accuracy: 0.8712 - val_loss: 0.6111 - val_accuracy: 0.8282\n",
      "Epoch 16/20\n",
      "1313/1313 [==============================] - 44s 34ms/step - loss: 0.4236 - accuracy: 0.8721 - val_loss: 0.6202 - val_accuracy: 0.8287\n",
      "Epoch 17/20\n",
      "1313/1313 [==============================] - 43s 33ms/step - loss: 0.4143 - accuracy: 0.8740 - val_loss: 0.5859 - val_accuracy: 0.8406\n",
      "Epoch 18/20\n",
      "1313/1313 [==============================] - 43s 33ms/step - loss: 0.4077 - accuracy: 0.8775 - val_loss: 0.5848 - val_accuracy: 0.8411\n",
      "Epoch 19/20\n",
      "1313/1313 [==============================] - 42s 32ms/step - loss: 0.4012 - accuracy: 0.8790 - val_loss: 0.5907 - val_accuracy: 0.8401\n",
      "Epoch 20/20\n",
      "1313/1313 [==============================] - 40s 31ms/step - loss: 0.3949 - accuracy: 0.8812 - val_loss: 0.5966 - val_accuracy: 0.8362\n"
     ]
    }
   ],
   "source": [
    "#Fit the model on the train data with a validation split of 0.2, batch size = 32, verbose = 1, and 20 epochs. Store the model building history\n",
    "# Fit the model\n",
    "history_model_1 = model_1.fit(X_train, y_train, validation_data=(X_test, y_test), verbose = 1, batch_size=32, epochs = 20)"
   ]
  },
  {
   "cell_type": "markdown",
   "metadata": {
    "id": "tKOckG-KPyLg"
   },
   "source": [
    "### **Plotting the validation and training accuracies**"
   ]
  },
  {
   "cell_type": "markdown",
   "metadata": {
    "id": "sVyQ9Gpge2TI"
   },
   "source": [
    "#### **Question 4: Write your observations on the below plot (2 Marks)**"
   ]
  },
  {
   "cell_type": "code",
   "execution_count": 31,
   "metadata": {
    "id": "lt77zgGMP4yw"
   },
   "outputs": [
    {
     "data": {
      "image/png": "[encoded data removed]",
      "text/plain": [
       "<Figure size 576x576 with 1 Axes>"
      ]
     },
     "metadata": {},
     "output_type": "display_data"
    }
   ],
   "source": [
    "# plotting the accuracies\n",
    "\n",
    "dict_hist = history_model_1.history\n",
    "list_ep = [i for i in range(1,21)]\n",
    "\n",
    "plt.figure(figsize = (8,8))\n",
    "plt.plot(list_ep,dict_hist['accuracy'],ls = '--', label = 'accuracy')\n",
    "plt.plot(list_ep,dict_hist['val_accuracy'],ls = '--', label = 'val_accuracy')\n",
    "plt.ylabel('Accuracy')\n",
    "plt.xlabel('Epochs')\n",
    "plt.legend()\n",
    "plt.show()"
   ]
  },
  {
   "cell_type": "markdown",
   "metadata": {
    "id": "pGBbQpLONX7k"
   },
   "source": [
    "**Observations:__________**\n",
    "\n",
    "- With the current architecture the model is with 85% accuracy on the training 267,306 parameters \n",
    "- but not on the validation set "
   ]
  },
  {
   "cell_type": "markdown",
   "metadata": {
    "id": "z0qgLMBZm5-K"
   },
   "source": [
    "Let's build another model and see if we can get a better model with generalized performance.\n",
    "\n",
    "First, we need to clear the previous model's history from the keras backend. Also, let's fix the seed again after clearing the backend."
   ]
  },
  {
   "cell_type": "code",
   "execution_count": 32,
   "metadata": {
    "id": "y98BpLxsok_H"
   },
   "outputs": [],
   "source": [
    "#Clearing backend\n",
    "from tensorflow.keras import backend\n",
    "backend.clear_session()"
   ]
  },
  {
   "cell_type": "code",
   "execution_count": 33,
   "metadata": {
    "id": "HbKi93HTolGW"
   },
   "outputs": [],
   "source": [
    "#Fixing the seed for random number generators\n",
    "np.random.seed(42)\n",
    "import random\n",
    "random.seed(42)\n",
    "tf.random.set_seed(42)"
   ]
  },
  {
   "cell_type": "markdown",
   "metadata": {
    "id": "lT6o3TIKuCtk"
   },
   "source": [
    "### **Second Model Architecture**\n",
    "- Write a function that returns a sequential model with the following architecture\n",
    " - First Convolutional layer with **16 filters and kernel size of 3x3**. Use the **'same' padding** and provide an **apt input shape**\n",
    " - Add a **LeakyRelu layer** with the **slope equal to 0.1**\n",
    " - Second Convolutional layer with **32 filters and kernel size of 3x3 with 'same' padding**\n",
    " - Add **LeakyRelu** with the **slope equal to 0.1**\n",
    " - Add a **max-pooling layer** with a **pool size of 2x2**\n",
    " - Add a **BatchNormalization layer**\n",
    " - Third Convolutional layer with **32 filters and kernel size of 3x3 with 'same' padding**\n",
    " - Add a **LeakyRelu layer with slope equal to 0.1**\n",
    " - Fourth Convolutional layer **64 filters and kernel size of 3x3 with 'same' padding** \n",
    " - Add a **LeakyRelu layer with slope equal to 0.1**\n",
    " - Add a **max-pooling layer** with a **pool size of 2x2**\n",
    " - Add a **BatchNormalization layer**\n",
    " - **Flatten** the output from the previous layer\n",
    " - Add a **dense layer with 32 nodes**\n",
    " - Add a **LeakyRelu layer with slope equal to 0.1**\n",
    " - Add a **dropout layer with rate equal to 0.5**\n",
    " - Add the final **output layer with nodes equal to the number of classes** and **softmax activation**\n",
    " - Compile the model with the **categorical_crossentropy loss, adam optimizers (learning_rate = 0.001), and accuracy metric**. Do not fit the model here, just return the compiled model\n",
    "- Call the function and store the model in a new variable\n",
    "- Print the summary of the model.\n",
    "- Fit the model on the train data with a **validation split of 0.2, batch size = 128, verbose = 1, and 30 epochs**. Store the model building history to use later for visualization."
   ]
  },
  {
   "cell_type": "markdown",
   "metadata": {
    "id": "Sr-bwBT2e2TJ"
   },
   "source": [
    "#### **Question 5: Build and train the second CNN model as per the above mentioned architecture (10 Marks)**"
   ]
  },
  {
   "cell_type": "code",
   "execution_count": 34,
   "metadata": {
    "id": "EEPYLFIPnSDP"
   },
   "outputs": [],
   "source": [
    "#Define the function\n",
    "def cnn_model_2():\n",
    "    model = Sequential() \n",
    "    #Add layers as per the architecture mentioned above in the same sequence\n",
    "    model.add(Conv2D(filters=16, kernel_size=(3, 3), activation='relu', padding='same', data_format='channels_last', input_shape=(32,32,1)))\n",
    "    model.add(LeakyReLU(alpha=0.1))\n",
    "    model.add(Conv2D(filters=32, kernel_size=(3, 3), activation='relu', padding='same', data_format='channels_last'))\n",
    "    model.add(LeakyReLU(alpha=0.1))\n",
    "    model.add(MaxPooling2D(pool_size=(2, 2)))\n",
    "    model.add(BatchNormalization())\n",
    "    model.add(Conv2D(filters=32, kernel_size=(3, 3), activation='relu', padding='same', data_format='channels_last'))\n",
    "    model.add(LeakyReLU(alpha=0.1))\n",
    "    model.add(Conv2D(filters=64, kernel_size=(3, 3), activation='relu', padding='same', data_format='channels_last'))\n",
    "    model.add(LeakyReLU(alpha=0.1))\n",
    "    model.add(MaxPooling2D(pool_size=(2, 2)))\n",
    "    model.add(BatchNormalization())\n",
    "\n",
    "\n",
    "    model.add(Flatten())\n",
    "    model.add(Dense(32, activation='relu'))\n",
    "    model.add(LeakyReLU(alpha=0.1))\n",
    "    model.add(Dropout(rate=0.5))\n",
    "\n",
    "    model.add(Dense(10, activation='softmax'))    \n",
    "\n",
    "\n",
    "\n",
    "\n",
    "    #declare adam optimizer with learning rate of 0.001 \n",
    "    adam = optimizers.Adam(learning_rate=0.001)\n",
    "    \n",
    "    #compile the model\n",
    "    model.compile(optimizer=adam, loss=\"categorical_crossentropy\", metrics=[\"accuracy\"])\n",
    "    \n",
    "    return model"
   ]
  },
  {
   "cell_type": "code",
   "execution_count": 35,
   "metadata": {
    "id": "AKjDY4plnSFl"
   },
   "outputs": [],
   "source": [
    "# Build the model\n",
    "model_2 = cnn_model_2()"
   ]
  },
  {
   "cell_type": "code",
   "execution_count": 36,
   "metadata": {
    "id": "gz_6SVrU2swZ"
   },
   "outputs": [
    {
     "name": "stdout",
     "output_type": "stream",
     "text": [
      "Model: \"sequential\"\n",
      "_________________________________________________________________\n",
      "Layer (type)                 Output Shape              Param #   \n",
      "=================================================================\n",
      "conv2d (Conv2D)              (None, 32, 32, 16)        160       \n",
      "_________________________________________________________________\n",
      "leaky_re_lu (LeakyReLU)      (None, 32, 32, 16)        0         \n",
      "_________________________________________________________________\n",
      "conv2d_1 (Conv2D)            (None, 32, 32, 32)        4640      \n",
      "_________________________________________________________________\n",
      "leaky_re_lu_1 (LeakyReLU)    (None, 32, 32, 32)        0         \n",
      "_________________________________________________________________\n",
      "max_pooling2d (MaxPooling2D) (None, 16, 16, 32)        0         \n",
      "_________________________________________________________________\n",
      "batch_normalization (BatchNo (None, 16, 16, 32)        128       \n",
      "_________________________________________________________________\n",
      "conv2d_2 (Conv2D)            (None, 16, 16, 32)        9248      \n",
      "_________________________________________________________________\n",
      "leaky_re_lu_2 (LeakyReLU)    (None, 16, 16, 32)        0         \n",
      "_________________________________________________________________\n",
      "conv2d_3 (Conv2D)            (None, 16, 16, 64)        18496     \n",
      "_________________________________________________________________\n",
      "leaky_re_lu_3 (LeakyReLU)    (None, 16, 16, 64)        0         \n",
      "_________________________________________________________________\n",
      "max_pooling2d_1 (MaxPooling2 (None, 8, 8, 64)          0         \n",
      "_________________________________________________________________\n",
      "batch_normalization_1 (Batch (None, 8, 8, 64)          256       \n",
      "_________________________________________________________________\n",
      "flatten (Flatten)            (None, 4096)              0         \n",
      "_________________________________________________________________\n",
      "dense (Dense)                (None, 32)                131104    \n",
      "_________________________________________________________________\n",
      "leaky_re_lu_4 (LeakyReLU)    (None, 32)                0         \n",
      "_________________________________________________________________\n",
      "dropout (Dropout)            (None, 32)                0         \n",
      "_________________________________________________________________\n",
      "dense_1 (Dense)              (None, 10)                330       \n",
      "=================================================================\n",
      "Total params: 164,362\n",
      "Trainable params: 164,170\n",
      "Non-trainable params: 192\n",
      "_________________________________________________________________\n"
     ]
    }
   ],
   "source": [
    "#Print the summary\n",
    "model_2.summary()"
   ]
  },
  {
   "cell_type": "code",
   "execution_count": 37,
   "metadata": {
    "id": "IQ0Sc4R-y-uu"
   },
   "outputs": [
    {
     "name": "stdout",
     "output_type": "stream",
     "text": [
      "Epoch 1/30\n",
      "329/329 [==============================] - 55s 167ms/step - loss: 2.3111 - accuracy: 0.1004 - val_loss: 2.5983 - val_accuracy: 0.0964\n",
      "Epoch 2/30\n",
      "329/329 [==============================] - 54s 163ms/step - loss: 2.3027 - accuracy: 0.1007 - val_loss: 2.3028 - val_accuracy: 0.0955\n",
      "Epoch 3/30\n",
      "329/329 [==============================] - 54s 164ms/step - loss: 2.3027 - accuracy: 0.1019 - val_loss: 2.3027 - val_accuracy: 0.0955\n",
      "Epoch 4/30\n",
      "329/329 [==============================] - 59s 178ms/step - loss: 2.3027 - accuracy: 0.1019 - val_loss: 2.3027 - val_accuracy: 0.0955\n",
      "Epoch 5/30\n",
      "329/329 [==============================] - 60s 183ms/step - loss: 2.3027 - accuracy: 0.1005 - val_loss: 2.3027 - val_accuracy: 0.0955\n",
      "Epoch 6/30\n",
      "329/329 [==============================] - 56s 171ms/step - loss: 2.3027 - accuracy: 0.1019 - val_loss: 2.3028 - val_accuracy: 0.0955\n",
      "Epoch 7/30\n",
      "329/329 [==============================] - 54s 163ms/step - loss: 2.3027 - accuracy: 0.1019 - val_loss: 2.3027 - val_accuracy: 0.0955\n",
      "Epoch 8/30\n",
      "329/329 [==============================] - 54s 163ms/step - loss: 2.3027 - accuracy: 0.1009 - val_loss: 2.3027 - val_accuracy: 0.0955\n",
      "Epoch 9/30\n",
      "329/329 [==============================] - 57s 173ms/step - loss: 2.3027 - accuracy: 0.1009 - val_loss: 2.3027 - val_accuracy: 0.0955\n",
      "Epoch 10/30\n",
      "329/329 [==============================] - 65s 196ms/step - loss: 2.3027 - accuracy: 0.1019 - val_loss: 2.3027 - val_accuracy: 0.0955\n",
      "Epoch 11/30\n",
      "329/329 [==============================] - 61s 186ms/step - loss: 2.3027 - accuracy: 0.1000 - val_loss: 2.3028 - val_accuracy: 0.0955\n",
      "Epoch 12/30\n",
      "329/329 [==============================] - 58s 177ms/step - loss: 2.3027 - accuracy: 0.1019 - val_loss: 2.3027 - val_accuracy: 0.0955\n",
      "Epoch 13/30\n",
      "329/329 [==============================] - 61s 187ms/step - loss: 2.3027 - accuracy: 0.1005 - val_loss: 2.3027 - val_accuracy: 0.0955\n",
      "Epoch 14/30\n",
      "329/329 [==============================] - 64s 195ms/step - loss: 2.3027 - accuracy: 0.1012 - val_loss: 2.3027 - val_accuracy: 0.0955\n",
      "Epoch 15/30\n",
      "329/329 [==============================] - 61s 185ms/step - loss: 2.3027 - accuracy: 0.1019 - val_loss: 2.3028 - val_accuracy: 0.0955\n",
      "Epoch 16/30\n",
      "329/329 [==============================] - 58s 177ms/step - loss: 2.3027 - accuracy: 0.1019 - val_loss: 2.3027 - val_accuracy: 0.0955\n",
      "Epoch 17/30\n",
      "329/329 [==============================] - 63s 191ms/step - loss: 2.3027 - accuracy: 0.1019 - val_loss: 2.3027 - val_accuracy: 0.0955\n",
      "Epoch 18/30\n",
      "329/329 [==============================] - 66s 201ms/step - loss: 2.3027 - accuracy: 0.0983 - val_loss: 2.3027 - val_accuracy: 0.0955\n",
      "Epoch 19/30\n",
      "329/329 [==============================] - 79s 241ms/step - loss: 2.3027 - accuracy: 0.1017 - val_loss: 2.3028 - val_accuracy: 0.0955\n",
      "Epoch 20/30\n",
      "329/329 [==============================] - 80s 245ms/step - loss: 2.3027 - accuracy: 0.1012 - val_loss: 2.3028 - val_accuracy: 0.0955\n",
      "Epoch 21/30\n",
      "329/329 [==============================] - 69s 208ms/step - loss: 2.3027 - accuracy: 0.1019 - val_loss: 2.3028 - val_accuracy: 0.0955\n",
      "Epoch 22/30\n",
      "329/329 [==============================] - 68s 206ms/step - loss: 2.3027 - accuracy: 0.1019 - val_loss: 2.3027 - val_accuracy: 0.0955\n",
      "Epoch 23/30\n",
      "329/329 [==============================] - 74s 224ms/step - loss: 2.3027 - accuracy: 0.1019 - val_loss: 2.3027 - val_accuracy: 0.0955\n",
      "Epoch 24/30\n",
      "329/329 [==============================] - 70s 214ms/step - loss: 2.3027 - accuracy: 0.1005 - val_loss: 2.3027 - val_accuracy: 0.0955\n",
      "Epoch 25/30\n",
      "329/329 [==============================] - 69s 209ms/step - loss: 2.3027 - accuracy: 0.1009 - val_loss: 2.3027 - val_accuracy: 0.0955\n",
      "Epoch 26/30\n",
      "329/329 [==============================] - 70s 212ms/step - loss: 2.3027 - accuracy: 0.1011 - val_loss: 2.3028 - val_accuracy: 0.0955\n",
      "Epoch 27/30\n",
      "329/329 [==============================] - 74s 224ms/step - loss: 2.3027 - accuracy: 0.1019 - val_loss: 2.3028 - val_accuracy: 0.0955\n",
      "Epoch 28/30\n",
      "329/329 [==============================] - 69s 209ms/step - loss: 2.3027 - accuracy: 0.1019 - val_loss: 2.3028 - val_accuracy: 0.0955\n",
      "Epoch 29/30\n",
      "329/329 [==============================] - 69s 210ms/step - loss: 2.3027 - accuracy: 0.1019 - val_loss: 2.3027 - val_accuracy: 0.0955\n",
      "Epoch 30/30\n",
      "329/329 [==============================] - 69s 209ms/step - loss: 2.3027 - accuracy: 0.1019 - val_loss: 2.3027 - val_accuracy: 0.0955\n"
     ]
    }
   ],
   "source": [
    "# Fit the model\n",
    "#Fit the model on the train data with a validation split of 0.2, batch size = 128, verbose = 1, and 30 epochs. Store the model building\n",
    "history_model_2 = model_2.fit(X_train, y_train, validation_data=(X_test, y_test), verbose = 1, batch_size=128, epochs = 30)"
   ]
  },
  {
   "cell_type": "markdown",
   "metadata": {
    "id": "0_f1EXmTe2TK"
   },
   "source": [
    "### **Plotting the validation and training accuracies**"
   ]
  },
  {
   "cell_type": "markdown",
   "metadata": {
    "id": "aC5UbsqXe2TK"
   },
   "source": [
    "#### **Question 6: Write your observations on the below plot (2 Marks)**"
   ]
  },
  {
   "cell_type": "code",
   "execution_count": 38,
   "metadata": {
    "id": "01ig6BrF1KVy"
   },
   "outputs": [
    {
     "data": {
      "image/png": "[encoded data removed]",
      "text/plain": [
       "<Figure size 576x576 with 1 Axes>"
      ]
     },
     "metadata": {},
     "output_type": "display_data"
    }
   ],
   "source": [
    "# plotting the accuracies\n",
    "\n",
    "dict_hist = history_model_2.history\n",
    "list_ep = [i for i in range(1,31)]\n",
    "\n",
    "plt.figure(figsize = (8,8))\n",
    "plt.plot(list_ep,dict_hist['accuracy'],ls = '--', label = 'accuracy')\n",
    "plt.plot(list_ep,dict_hist['val_accuracy'],ls = '--', label = 'val_accuracy')\n",
    "plt.ylabel('Accuracy')\n",
    "plt.xlabel('Epochs')\n",
    "plt.legend()\n",
    "plt.show()"
   ]
  },
  {
   "cell_type": "markdown",
   "metadata": {
    "id": "VPW1LlD61RDn"
   },
   "source": [
    "**Observations:________**\n",
    "\n",
    "By training 164,170 param, the model could reach an accuracy 0.9127 on training data, and almost similar on the validation data\n"
   ]
  },
  {
   "cell_type": "markdown",
   "metadata": {
    "id": "8kuXx9Bvu00f"
   },
   "source": [
    "## **Predictions on the test data**\n",
    "\n",
    "- Make predictions on the test set using the second model\n",
    "- Print the obtained results using the classification report and the confusion matrix\n",
    "- Final observations from the obtained results"
   ]
  },
  {
   "cell_type": "markdown",
   "metadata": {
    "id": "yfZwC9OUe2TL"
   },
   "source": [
    "#### **Question 7: Make predictions on the test data using the second model (1 Mark)**"
   ]
  },
  {
   "cell_type": "code",
   "execution_count": null,
   "metadata": {
    "id": "xbWMEtTj5Ad0"
   },
   "outputs": [],
   "source": [
    "#Make prediction on the test data using model_2 \n",
    "test_pred = model_2.predict(X_test)\n",
    "\n",
    "test_pred = np.argmax(test_pred, axis=-1)"
   ]
  },
  {
   "cell_type": "markdown",
   "metadata": {
    "id": "i3li8Ib08yts"
   },
   "source": [
    "**Note:** Earlier, we noticed that each entry of the test data is a one-hot encoded vector but to print the classification report and confusion matrix, we must convert each entry of y_test to a single label."
   ]
  },
  {
   "cell_type": "code",
   "execution_count": null,
   "metadata": {
    "id": "NByu7uAQ8x9P"
   },
   "outputs": [],
   "source": [
    "#Converting each entry to single label from one-hot encoded vector\n",
    "y_test = np.argmax(y_test, axis=-1)"
   ]
  },
  {
   "cell_type": "markdown",
   "metadata": {
    "id": "yHDUEma0e2TM"
   },
   "source": [
    "#### **Question 8: Write your final observations on the performance of the model on the test data (2 Marks)**"
   ]
  },
  {
   "cell_type": "code",
   "execution_count": null,
   "metadata": {
    "id": "xRddeJ-3EHT1"
   },
   "outputs": [],
   "source": [
    "#importing required functions\n",
    "from sklearn.metrics import classification_report\n",
    "from sklearn.metrics import confusion_matrix\n",
    "\n",
    "#Printing the classification report\n",
    "print(classification_report(y_test, test_pred))\n",
    "\n",
    "#Plotting the heatmap using confusion matrix\n",
    "cm = confusion_matrix(y_test, test_pred)\n",
    "plt.figure(figsize=(8,5))\n",
    "sns.heatmap(cm, annot=True,  fmt='.0f')\n",
    "plt.ylabel('Actual')\n",
    "plt.xlabel('Predicted')\n",
    "plt.show()"
   ]
  },
  {
   "cell_type": "markdown",
   "metadata": {
    "id": "DjErl4GA2u9s"
   },
   "source": [
    "#### **Observations:_________**"
   ]
  }
 ],
 "metadata": {
  "accelerator": "GPU",
  "colab": {
   "collapsed_sections": [],
   "name": "CNN_Project_Learner_Notebook_SVHN.ipynb",
   "provenance": []
  },
  "kernelspec": {
   "display_name": "Python 3",
   "language": "python",
   "name": "python3"
  },
  "language_info": {
   "codemirror_mode": {
    "name": "ipython",
    "version": 3
   },
   "file_extension": ".py",
   "mimetype": "text/x-python",
   "name": "python",
   "nbconvert_exporter": "python",
   "pygments_lexer": "ipython3",
   "version": "3.8.8"
  }
 },
 "nbformat": 4,
 "nbformat_minor": 1
}

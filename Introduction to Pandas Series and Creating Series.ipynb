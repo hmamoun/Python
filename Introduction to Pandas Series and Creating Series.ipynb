{
 "cells": [
  {
   "cell_type": "markdown",
   "metadata": {
    "colab_type": "text",
    "id": "G-aR6D3Wmlkt"
   },
   "source": [
    "#### Create a pandas series having values 4, 7, -5, 3, NAN and their index as d, b, a, c, e"
   ]
  },
  {
   "cell_type": "code",
   "execution_count": 2,
   "metadata": {},
   "outputs": [],
   "source": [
    "# Write a code here\n",
    "import pandas as pd\n"
   ]
  },
  {
   "cell_type": "code",
   "execution_count": 8,
   "metadata": {
    "colab": {},
    "colab_type": "code",
    "id": "g1igY8HgDo8o"
   },
   "outputs": [
    {
     "name": "stdout",
     "output_type": "stream",
     "text": [
      "d    4\n",
      "b    7\n",
      "a   -5\n",
      "c    3\n",
      "dtype: int64\n",
      "d    4.0\n",
      "b    7.0\n",
      "a   -5.0\n",
      "c    3.0\n",
      "e    NaN\n",
      "dtype: float64\n"
     ]
    }
   ],
   "source": [
    "x = [4, 7, -5, 3]\n",
    "y= [\"d\", \"b\", \"a\", \"c\"]#, \"e\"]\n",
    "theSeries = pd.Series(x , index = y)\n",
    "print (theSeries)\n",
    "\n",
    "y= [\"d\", \"b\", \"a\", \"c\", \"e\"]\n",
    "theSeries = pd.Series(theSeries , index = y)\n",
    "print (theSeries)\n"
   ]
  }
 ],
 "metadata": {
  "colab": {
   "collapsed_sections": [],
   "name": "Pandas.ipynb",
   "provenance": []
  },
  "kernelspec": {
   "display_name": "Python 3",
   "language": "python",
   "name": "python3"
  },
  "language_info": {
   "codemirror_mode": {
    "name": "ipython",
    "version": 3
   },
   "file_extension": ".py",
   "mimetype": "text/x-python",
   "name": "python",
   "nbconvert_exporter": "python",
   "pygments_lexer": "ipython3",
   "version": "3.8.8"
  }
 },
 "nbformat": 4,
 "nbformat_minor": 1
}

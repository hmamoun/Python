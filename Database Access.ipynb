{
 "cells": [
  {
   "cell_type": "code",
   "execution_count": 26,
   "id": "c7cae34f",
   "metadata": {},
   "outputs": [
    {
     "data": {
      "text/plain": [
       "<sqlite3.Cursor at 0x212f3c2c180>"
      ]
     },
     "execution_count": 26,
     "metadata": {},
     "output_type": "execute_result"
    }
   ],
   "source": [
    "import sqlite3\n",
    "conn = sqlite3.connect('c:\\\\Users\\\\hmamo\\\\Desktop\\emaildb.sqlite')\n",
    "cur = conn.cursor()\n",
    "\n",
    "#cur.execute('''DROP table if exists hayan''')\n",
    "#cur.execute('''Create table hayan (a int , b int)''')\n",
    "#cur.execute('''Insert into hayan (a , b) values (3,4)''')\n",
    "cur.execute ('''DROP TABLE IF EXISTS Counts''')\n",
    "cur.execute('''Create table Counts(email TEXT , count INEGER)''')\n"
   ]
  },
  {
   "cell_type": "code",
   "execution_count": null,
   "id": "077f5941",
   "metadata": {},
   "outputs": [],
   "source": []
  },
  {
   "cell_type": "code",
   "execution_count": null,
   "id": "1fea689b",
   "metadata": {},
   "outputs": [],
   "source": []
  },
  {
   "cell_type": "code",
   "execution_count": null,
   "id": "bc8351d2",
   "metadata": {},
   "outputs": [],
   "source": []
  },
  {
   "cell_type": "code",
   "execution_count": null,
   "id": "7b28c140",
   "metadata": {},
   "outputs": [],
   "source": []
  }
 ],
 "metadata": {
  "kernelspec": {
   "display_name": "Python 3",
   "language": "python",
   "name": "python3"
  },
  "language_info": {
   "codemirror_mode": {
    "name": "ipython",
    "version": 3
   },
   "file_extension": ".py",
   "mimetype": "text/x-python",
   "name": "python",
   "nbconvert_exporter": "python",
   "pygments_lexer": "ipython3",
   "version": "3.8.8"
  }
 },
 "nbformat": 4,
 "nbformat_minor": 5
}

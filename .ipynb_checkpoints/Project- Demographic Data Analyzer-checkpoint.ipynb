{
 "cells": [
  {
   "cell_type": "code",
   "execution_count": 19,
   "id": "06b29fcf",
   "metadata": {},
   "outputs": [],
   "source": [
    "import pandas as pd\n",
    "def calculate_demographic_data(print_data=True):\n",
    "    # Read data from file\n",
    "    df =  pd.read_csv(\"adult.data.csv\")\n",
    "\n",
    "    #print(df[['native-country','salary']].count_values())\n",
    "    \n",
    "    \n",
    "    # How many of each race are represented in this dataset? This should be a Pandas series with race names as the index labels.\n",
    "    race_count = df['race'].value_counts()\n",
    "\n",
    "    # What is the average age of men?\n",
    "    mask = (df['sex']=='Male')\n",
    "    average_age_men = round(df[mask].age.mean(),1)\n",
    "\n",
    "    # What is the percentage of people who have a Bachelor's degree?\n",
    "    mask = (df['education']=='Bachelors')\n",
    "    percentage_bachelors = round((len(df[mask]) / df.shape[0])*100,1)\n",
    "\n",
    "    # What percentage of people with advanced education (`Bachelors`, `Masters`, or `Doctorate`) make more than 50K?\n",
    "    # What percentage of people without advanced education make more than 50K?\n",
    "\n",
    "    # with and without `Bachelors`, `Masters`, or `Doctorate`\n",
    "    mask = ((df['education'] =='Bachelors') | \n",
    "        (df['education'] =='Masters')| \n",
    "        (df['education'] =='Doctorate')) \n",
    "    higher_education = len(df[mask]) / df.shape[0]\n",
    "\n",
    "\n",
    "    mask = ((df['education'] !='Bachelors') &\n",
    "        (df['education'] !='Masters')& \n",
    "        (df['education'] !='Doctorate')) \n",
    "    lower_education = len(df[mask]) / df.shape[0]\n",
    "\n",
    "    # percentage with salary >50K\n",
    "    mask = ((df['education'] =='Bachelors') |\n",
    "        (df['education'] =='Masters')| \n",
    "        (df['education'] =='Doctorate')) & (df['salary']=='>50K')\n",
    "    higher_education_rich = round((len(df[((df['education'] =='Bachelors') | (df['education'] =='Masters')|  (df['education'] =='Doctorate')) & (df['salary']=='>50K')]) / len(df[((df['education'] =='Bachelors') | \n",
    "        (df['education'] =='Masters')| \n",
    "        (df['education'] =='Doctorate')) ])) * 100 , 1)\n",
    "\n",
    "\n",
    "\n",
    "    mask = ((df['education'] !='Bachelors') &\n",
    "        (df['education'] !='Masters')& \n",
    "        (df['education'] !='Doctorate')) & (df['salary']=='>50K')\n",
    "    \n",
    "    lower_education_rich =  len(df[mask]) / df.shape[0]\n",
    "\n",
    "    # What is the minimum number of hours a person works per week (hours-per-week feature)?\n",
    "    min_work_hours = min(df['hours-per-week'])\n",
    "\n",
    "    # What percentage of the people who work the minimum number of hours per week have a salary of >50K?\n",
    "    mask = (df['hours-per-week'] == min(df['hours-per-week'])) & (df['salary']=='>50K')\n",
    "    num_min_workers =  len(df[mask]) \n",
    "\n",
    "    rich_percentage = len(df[mask]) / len(df)\n",
    "\n",
    "    # What country has the highest percentage of people that earn >50K?\n",
    "    mask = (df['salary']=='>50K')\n",
    "    \n",
    "    highest_earning_country = df[mask]['native-country'].value_counts().index.tolist()[0]\n",
    "    df[\"count\"] = 1\n",
    "    #df.info(0)\n",
    "    master = pd.DataFrame(df['native-country'].unique())\n",
    "    #master.rename(columns={'0':'country'} , inplace=True)\n",
    "    master.columns = ['country']\n",
    "    master = master.set_index('country')\n",
    "    #master.head()\n",
    "    totalrich = pd.DataFrame(df[(df['salary']=='>50K')].groupby(['native-country']).count()['count']    )\n",
    "    totalpoor = pd.DataFrame(df[(df['salary']!='>50K')].groupby(['native-country']).count()['count']    )\n",
    "    master['totalrich'] = totalrich\n",
    "    master['totalpoor'] = totalpoor\n",
    "    master['percentage'] = master['totalrich']  / (master['totalrich'] + master['totalpoor'] )\n",
    "    master = pd.DataFrame(master.sort_values('percentage' ,  ascending=False) )\n",
    "    mask = (master['percentage']==max(master['percentage']))\n",
    "    highest_earning_country_percentage = round(master[mask]['percentage'].value_counts().index.tolist()[0]*100,1)\n",
    "\n",
    "    # Identify the most popular occupation for those who earn >50K in India.\n",
    "    mask = (df['native-country']=='India')\n",
    "    top_IN_occupation = df[(df['native-country']=='India') & (df['salary']=='>50K')].occupation.value_counts()[:1].index.tolist()[0]\n",
    "\n",
    "    # DO NOT MODIFY BELOW THIS LINE\n",
    "\n",
    "    if print_data:\n",
    "        print(\"Number of each race:\\n\", race_count) \n",
    "        print(\"Average age of men:\", average_age_men)\n",
    "        print(f\"Percentage with Bachelors degrees: {percentage_bachelors}%\")\n",
    "        print(f\"Percentage with higher education that earn >50K: {higher_education_rich}%\")\n",
    "        print(f\"Percentage without higher education that earn >50K: {lower_education_rich}%\")\n",
    "        print(f\"Min work time: {min_work_hours} hours/week\")\n",
    "        print(f\"Percentage of rich among those who work fewest hours: {rich_percentage}%\")\n",
    "        print(\"Country with highest percentage of rich:\", highest_earning_country)\n",
    "        print(f\"Highest percentage of rich people in country: {highest_earning_country_percentage}%\")\n",
    "        print(\"Top occupations in India:\", top_IN_occupation)\n",
    "\n",
    "    return {\n",
    "        'race_count': race_count,\n",
    "        'average_age_men': average_age_men,\n",
    "        'percentage_bachelors': percentage_bachelors,\n",
    "        'higher_education_rich': higher_education_rich,\n",
    "        'lower_education_rich': lower_education_rich,\n",
    "        'min_work_hours': min_work_hours,\n",
    "        'rich_percentage': rich_percentage,\n",
    "        'highest_earning_country': highest_earning_country,\n",
    "        'highest_earning_country_percentage':\n",
    "        highest_earning_country_percentage,\n",
    "        'top_IN_occupation': top_IN_occupation\n",
    "    }\n"
   ]
  },
  {
   "cell_type": "code",
   "execution_count": 20,
   "id": "e1c88f72",
   "metadata": {},
   "outputs": [
    {
     "ename": "AttributeError",
     "evalue": "'DataFrame' object has no attribute 'count_values'",
     "output_type": "error",
     "traceback": [
      "\u001b[1;31m---------------------------------------------------------------------------\u001b[0m",
      "\u001b[1;31mAttributeError\u001b[0m                            Traceback (most recent call last)",
      "\u001b[1;32m<ipython-input-20-654f48f5bea3>\u001b[0m in \u001b[0;36m<module>\u001b[1;34m\u001b[0m\n\u001b[1;32m----> 1\u001b[1;33m \u001b[0mcalculate_demographic_data\u001b[0m\u001b[1;33m(\u001b[0m\u001b[1;32mTrue\u001b[0m\u001b[1;33m)\u001b[0m\u001b[1;33m\u001b[0m\u001b[1;33m\u001b[0m\u001b[0m\n\u001b[0m",
      "\u001b[1;32m<ipython-input-19-b8335e85ca1a>\u001b[0m in \u001b[0;36mcalculate_demographic_data\u001b[1;34m(print_data)\u001b[0m\n\u001b[0;32m      4\u001b[0m     \u001b[0mdf\u001b[0m \u001b[1;33m=\u001b[0m  \u001b[0mpd\u001b[0m\u001b[1;33m.\u001b[0m\u001b[0mread_csv\u001b[0m\u001b[1;33m(\u001b[0m\u001b[1;34m\"adult.data.csv\"\u001b[0m\u001b[1;33m)\u001b[0m\u001b[1;33m\u001b[0m\u001b[1;33m\u001b[0m\u001b[0m\n\u001b[0;32m      5\u001b[0m \u001b[1;33m\u001b[0m\u001b[0m\n\u001b[1;32m----> 6\u001b[1;33m     \u001b[0mprint\u001b[0m\u001b[1;33m(\u001b[0m\u001b[0mdf\u001b[0m\u001b[1;33m[\u001b[0m\u001b[1;33m[\u001b[0m\u001b[1;34m'native-country'\u001b[0m\u001b[1;33m,\u001b[0m\u001b[1;34m'salary'\u001b[0m\u001b[1;33m]\u001b[0m\u001b[1;33m]\u001b[0m\u001b[1;33m.\u001b[0m\u001b[0mcount_values\u001b[0m\u001b[1;33m(\u001b[0m\u001b[1;33m)\u001b[0m\u001b[1;33m)\u001b[0m\u001b[1;33m\u001b[0m\u001b[1;33m\u001b[0m\u001b[0m\n\u001b[0m\u001b[0;32m      7\u001b[0m \u001b[1;33m\u001b[0m\u001b[0m\n\u001b[0;32m      8\u001b[0m \u001b[1;33m\u001b[0m\u001b[0m\n",
      "\u001b[1;32m~\\anaconda3\\lib\\site-packages\\pandas\\core\\generic.py\u001b[0m in \u001b[0;36m__getattr__\u001b[1;34m(self, name)\u001b[0m\n\u001b[0;32m   5463\u001b[0m             \u001b[1;32mif\u001b[0m \u001b[0mself\u001b[0m\u001b[1;33m.\u001b[0m\u001b[0m_info_axis\u001b[0m\u001b[1;33m.\u001b[0m\u001b[0m_can_hold_identifiers_and_holds_name\u001b[0m\u001b[1;33m(\u001b[0m\u001b[0mname\u001b[0m\u001b[1;33m)\u001b[0m\u001b[1;33m:\u001b[0m\u001b[1;33m\u001b[0m\u001b[1;33m\u001b[0m\u001b[0m\n\u001b[0;32m   5464\u001b[0m                 \u001b[1;32mreturn\u001b[0m \u001b[0mself\u001b[0m\u001b[1;33m[\u001b[0m\u001b[0mname\u001b[0m\u001b[1;33m]\u001b[0m\u001b[1;33m\u001b[0m\u001b[1;33m\u001b[0m\u001b[0m\n\u001b[1;32m-> 5465\u001b[1;33m             \u001b[1;32mreturn\u001b[0m \u001b[0mobject\u001b[0m\u001b[1;33m.\u001b[0m\u001b[0m__getattribute__\u001b[0m\u001b[1;33m(\u001b[0m\u001b[0mself\u001b[0m\u001b[1;33m,\u001b[0m \u001b[0mname\u001b[0m\u001b[1;33m)\u001b[0m\u001b[1;33m\u001b[0m\u001b[1;33m\u001b[0m\u001b[0m\n\u001b[0m\u001b[0;32m   5466\u001b[0m \u001b[1;33m\u001b[0m\u001b[0m\n\u001b[0;32m   5467\u001b[0m     \u001b[1;32mdef\u001b[0m \u001b[0m__setattr__\u001b[0m\u001b[1;33m(\u001b[0m\u001b[0mself\u001b[0m\u001b[1;33m,\u001b[0m \u001b[0mname\u001b[0m\u001b[1;33m:\u001b[0m \u001b[0mstr\u001b[0m\u001b[1;33m,\u001b[0m \u001b[0mvalue\u001b[0m\u001b[1;33m)\u001b[0m \u001b[1;33m->\u001b[0m \u001b[1;32mNone\u001b[0m\u001b[1;33m:\u001b[0m\u001b[1;33m\u001b[0m\u001b[1;33m\u001b[0m\u001b[0m\n",
      "\u001b[1;31mAttributeError\u001b[0m: 'DataFrame' object has no attribute 'count_values'"
     ]
    }
   ],
   "source": [
    "calculate_demographic_data(True)"
   ]
  },
  {
   "cell_type": "code",
   "execution_count": 7,
   "id": "343e54b6",
   "metadata": {},
   "outputs": [
    {
     "name": "stdout",
     "output_type": "stream",
     "text": [
      "7171\n"
     ]
    }
   ],
   "source": [
    "import pandas as pd\n",
    "df =  pd.read_csv(\"adult.data.csv\")\n",
    "highest_earning_country = df[df['salary'] == '>50K'].groupby('native-country')['native-country'].count().max()\n",
    "print(highest_earning_country)"
   ]
  },
  {
   "cell_type": "code",
   "execution_count": 362,
   "id": "a565eba1",
   "metadata": {},
   "outputs": [
    {
     "name": "stdout",
     "output_type": "stream",
     "text": [
      "United-States         7171\n",
      "?                      146\n",
      "Philippines             61\n",
      "Germany                 44\n",
      "India                   40\n",
      "                      ... \n",
      "Cambodia                12\n",
      "Hungary                 10\n",
      "Yugoslavia              10\n",
      "Scotland                 9\n",
      "Holand-Netherlands       1\n",
      "Name: native-country, Length: 82, dtype: int64\n"
     ]
    }
   ],
   "source": [
    "\n",
    "c = pd.concat([df[(df['salary']=='>50K')]['native-country'].value_counts() ,\n",
    "df[(df['salary']!='>50K')]['native-country'].value_counts()], ignore_index=False)\n",
    "print(c)"
   ]
  },
  {
   "cell_type": "code",
   "execution_count": 351,
   "id": "63512cc9",
   "metadata": {},
   "outputs": [
    {
     "name": "stdout",
     "output_type": "stream",
     "text": [
      "Number of each race:\n",
      " White                 27816\n",
      "Black                  3124\n",
      "Asian-Pac-Islander     1039\n",
      "Amer-Indian-Eskimo      311\n",
      "Other                   271\n",
      "Name: race, dtype: int64\n",
      "Average age of men: 39.4\n",
      "Percentage with Bachelors degrees: 16.4%\n",
      "Percentage with higher education that earn >50K: 46.5%\n",
      "Percentage without higher education that earn >50K: 0.13374896348392248%\n",
      "Min work time: 1 hours/week\n",
      "Percentage of rich among those who work fewest hours: 6.142317496391388e-05%\n",
      "Country with highest percentage of rich: United-States\n",
      "Highest percentage of rich people in country: 0.2408095574460244%\n",
      "Top occupations in India: Prof-specialty\n"
     ]
    },
    {
     "data": {
      "text/plain": [
       "{'race_count': White                 27816\n",
       " Black                  3124\n",
       " Asian-Pac-Islander     1039\n",
       " Amer-Indian-Eskimo      311\n",
       " Other                   271\n",
       " Name: race, dtype: int64,\n",
       " 'average_age_men': 39.4,\n",
       " 'percentage_bachelors': 16.4,\n",
       " 'higher_education_rich': 46.5,\n",
       " 'lower_education_rich': 0.13374896348392248,\n",
       " 'min_work_hours': 1,\n",
       " 'rich_percentage': 6.142317496391388e-05,\n",
       " 'highest_earning_country': 'United-States',\n",
       " 'highest_earning_country_percentage': 0.2408095574460244,\n",
       " 'top_IN_occupation': 'Prof-specialty'}"
      ]
     },
     "execution_count": 351,
     "metadata": {},
     "output_type": "execute_result"
    }
   ],
   "source": [
    "calculate_demographic_data(True)"
   ]
  },
  {
   "cell_type": "code",
   "execution_count": 345,
   "id": "defd57c0",
   "metadata": {},
   "outputs": [
    {
     "name": "stdout",
     "output_type": "stream",
     "text": [
      "2\n"
     ]
    },
    {
     "data": {
      "text/plain": [
       "32561"
      ]
     },
     "execution_count": 345,
     "metadata": {},
     "output_type": "execute_result"
    }
   ],
   "source": [
    "mask = (df['hours-per-week'] == min(df['hours-per-week'])) & (df['salary']=='>50K')\n",
    "num_min_workers =  len(df[mask]) \n",
    "print(num_min_workers)\n",
    "\n",
    "rich_percentage = len(df[mask]) / len(df)\n",
    "len(df)"
   ]
  },
  {
   "cell_type": "code",
   "execution_count": 204,
   "id": "1026bd01",
   "metadata": {
    "scrolled": true
   },
   "outputs": [
    {
     "data": {
      "text/plain": [
       "38.58164675532078"
      ]
     },
     "execution_count": 204,
     "metadata": {},
     "output_type": "execute_result"
    }
   ],
   "source": [
    "dem = pd.read_csv(\"adult.data.csv\")\n",
    "#print(dem)\n",
    "dem['race'].value_counts()\n",
    "dem['age'].mean()\n"
   ]
  },
  {
   "cell_type": "code",
   "execution_count": 349,
   "id": "86f598c0",
   "metadata": {},
   "outputs": [
    {
     "data": {
      "text/plain": [
       "39.4"
      ]
     },
     "execution_count": 349,
     "metadata": {},
     "output_type": "execute_result"
    }
   ],
   "source": [
    "    # What is the average age of men?\n",
    "    mask = (df['sex']=='Male')\n",
    "    average_age_men = round(df[mask].age.mean(),1)\n",
    "    average_age_men\n",
    "    "
   ]
  },
  {
   "cell_type": "code",
   "execution_count": 133,
   "id": "142fb807",
   "metadata": {},
   "outputs": [
    {
     "data": {
      "text/plain": [
       "array(['<=50K', '>50K'], dtype=object)"
      ]
     },
     "execution_count": 133,
     "metadata": {},
     "output_type": "execute_result"
    }
   ],
   "source": [
    "dem.filter(items = ['Bachelors'])\n",
    "dem['salary'].unique()"
   ]
  },
  {
   "cell_type": "code",
   "execution_count": null,
   "id": "d13f99e1",
   "metadata": {},
   "outputs": [],
   "source": []
  },
  {
   "cell_type": "code",
   "execution_count": 38,
   "id": "8f4eb845",
   "metadata": {},
   "outputs": [
    {
     "data": {
      "text/plain": [
       "HS-grad         10501\n",
       "Some-college     7291\n",
       "Bachelors        5355\n",
       "Masters          1723\n",
       "Assoc-voc        1382\n",
       "11th             1175\n",
       "Assoc-acdm       1067\n",
       "10th              933\n",
       "7th-8th           646\n",
       "Prof-school       576\n",
       "9th               514\n",
       "12th              433\n",
       "Doctorate         413\n",
       "5th-6th           333\n",
       "1st-4th           168\n",
       "Preschool          51\n",
       "Name: education, dtype: int64"
      ]
     },
     "execution_count": 38,
     "metadata": {},
     "output_type": "execute_result"
    }
   ],
   "source": [
    "dem['education'].value_counts()\n",
    "\n",
    "\n",
    "dem.loc[dem['education'] =='Bachelors']\n"
   ]
  },
  {
   "cell_type": "code",
   "execution_count": 84,
   "id": "e75c3f9a",
   "metadata": {},
   "outputs": [
    {
     "data": {
      "text/plain": [
       "age               5355\n",
       "workclass         5355\n",
       "fnlwgt            5355\n",
       "education         5355\n",
       "education-num     5355\n",
       "marital-status    5355\n",
       "occupation        5355\n",
       "relationship      5355\n",
       "race              5355\n",
       "sex               5355\n",
       "capital-gain      5355\n",
       "capital-loss      5355\n",
       "hours-per-week    5355\n",
       "native-country    5355\n",
       "salary            5355\n",
       "dtype: int64"
      ]
     },
     "execution_count": 84,
     "metadata": {},
     "output_type": "execute_result"
    }
   ],
   "source": [
    "dem[dem['education'] =='Bachelors'].count()"
   ]
  },
  {
   "cell_type": "code",
   "execution_count": 127,
   "id": "e1a1710f",
   "metadata": {},
   "outputs": [
    {
     "data": {
      "text/plain": [
       "1"
      ]
     },
     "execution_count": 127,
     "metadata": {},
     "output_type": "execute_result"
    }
   ],
   "source": [
    "1"
   ]
  },
  {
   "cell_type": "code",
   "execution_count": 146,
   "id": "7d1ffdf1",
   "metadata": {},
   "outputs": [
    {
     "data": {
      "text/plain": [
       "0.10706059396210191"
      ]
     },
     "execution_count": 146,
     "metadata": {},
     "output_type": "execute_result"
    }
   ],
   "source": [
    "mask = ((dem['education'] =='Bachelors') | \n",
    "        (dem['education'] =='Masters')| \n",
    "        (dem['education'] =='Doctorate')) & (dem['salary']=='>50K')\n",
    "\n",
    "len(dem[mask]) / dem.shape[0]\n",
    "\n"
   ]
  },
  {
   "cell_type": "code",
   "execution_count": 147,
   "id": "d910fa9d",
   "metadata": {},
   "outputs": [
    {
     "data": {
      "text/plain": [
       "0.13374896348392248"
      ]
     },
     "execution_count": 147,
     "metadata": {},
     "output_type": "execute_result"
    }
   ],
   "source": [
    "mask = ((dem['education'] !='Bachelors') & \n",
    "        (dem['education'] !='Masters')& \n",
    "        (dem['education'] !='Doctorate')) & (dem['salary']=='>50K')\n",
    "\n",
    "len(dem[mask]) / dem.shape[0]\n"
   ]
  },
  {
   "cell_type": "code",
   "execution_count": 151,
   "id": "491d8d7b",
   "metadata": {},
   "outputs": [
    {
     "data": {
      "text/plain": [
       "2"
      ]
     },
     "execution_count": 151,
     "metadata": {},
     "output_type": "execute_result"
    }
   ],
   "source": [
    "mask = (dem['hours-per-week'] == min(dem['hours-per-week'])) & (dem['salary']=='>50K')\n",
    "len(dem[mask])"
   ]
  },
  {
   "cell_type": "markdown",
   "id": "d43f91a6",
   "metadata": {},
   "source": [
    "mask = (dem['salary']=='>50K')"
   ]
  },
  {
   "cell_type": "code",
   "execution_count": 236,
   "id": "e5d1a3a4",
   "metadata": {},
   "outputs": [
    {
     "data": {
      "text/plain": [
       "['United-States']"
      ]
     },
     "execution_count": 236,
     "metadata": {},
     "output_type": "execute_result"
    }
   ],
   "source": [
    "mask = (dem['salary']=='>50K')\n",
    "df = dem[mask]\n"
   ]
  },
  {
   "cell_type": "code",
   "execution_count": 242,
   "id": "8c331375",
   "metadata": {},
   "outputs": [
    {
     "data": {
      "text/plain": [
       "7841"
      ]
     },
     "execution_count": 242,
     "metadata": {},
     "output_type": "execute_result"
    }
   ],
   "source": [
    "len(df[(df['salary']=='>50K')])"
   ]
  },
  {
   "cell_type": "code",
   "execution_count": 328,
   "id": "d28416a7",
   "metadata": {},
   "outputs": [
    {
     "data": {
      "text/plain": [
       "'Prof-specialty'"
      ]
     },
     "execution_count": 328,
     "metadata": {},
     "output_type": "execute_result"
    }
   ],
   "source": [
    "mask = (dem['native-country']=='India')\n",
    "dem[(dem['native-country']=='India') & (dem['salary']=='>50K')].occupation.value_counts()[:1].index.tolist()[0]"
   ]
  },
  {
   "cell_type": "code",
   "execution_count": 324,
   "id": "83e7ab62",
   "metadata": {},
   "outputs": [
    {
     "data": {
      "text/plain": [
       "'United-States'"
      ]
     },
     "execution_count": 324,
     "metadata": {},
     "output_type": "execute_result"
    }
   ],
   "source": [
    "mask = (df['salary']=='>50K')\n",
    "df[mask]['native-country'].value_counts().index.tolist()[0]\n",
    "\n",
    "\n",
    "\n"
   ]
  }
 ],
 "metadata": {
  "kernelspec": {
   "display_name": "Python 3",
   "language": "python",
   "name": "python3"
  },
  "language_info": {
   "codemirror_mode": {
    "name": "ipython",
    "version": 3
   },
   "file_extension": ".py",
   "mimetype": "text/x-python",
   "name": "python",
   "nbconvert_exporter": "python",
   "pygments_lexer": "ipython3",
   "version": "3.8.8"
  }
 },
 "nbformat": 4,
 "nbformat_minor": 5
}

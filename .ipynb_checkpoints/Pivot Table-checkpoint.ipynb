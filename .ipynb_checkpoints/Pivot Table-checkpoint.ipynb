{
 "cells": [
  {
   "cell_type": "markdown",
   "metadata": {
    "colab_type": "text",
    "id": "REbUrOQ8Cccl"
   },
   "source": [
    "# Pivot Table "
   ]
  },
  {
   "cell_type": "markdown",
   "metadata": {
    "colab_type": "text",
    "id": "OB2Wr27hBo8r"
   },
   "source": [
    "### Use three columns: Sales, Store and Location. From the given data frame and compute 'Mean Sales' for each store by location\n"
   ]
  },
  {
   "cell_type": "code",
   "execution_count": 5,
   "metadata": {
    "colab": {
     "base_uri": "https://localhost:8080/",
     "height": 359
    },
    "colab_type": "code",
    "id": "k6SzWSJ1_zCG",
    "outputId": "29d33cfb-65d9-47b5-a907-1362d1f046ba"
   },
   "outputs": [
    {
     "ename": "NameError",
     "evalue": "name 'pd' is not defined",
     "output_type": "error",
     "traceback": [
      "\u001b[1;31m---------------------------------------------------------------------------\u001b[0m",
      "\u001b[1;31mNameError\u001b[0m                                 Traceback (most recent call last)",
      "\u001b[1;32m<ipython-input-5-0011ed93e7f3>\u001b[0m in \u001b[0;36m<module>\u001b[1;34m\u001b[0m\n\u001b[1;32m----> 1\u001b[1;33m df_store = pd.DataFrame({'Store': ['A', 'B', 'A', 'C', 'D', 'A', 'D', 'A', 'C', 'B'],\n\u001b[0m\u001b[0;32m      2\u001b[0m 'Location': ['Mumbai', 'Pune', 'Hyderabad', 'Mumbai', 'Pune', 'Delhi', 'Hyderabad', 'Pune',\n\u001b[0;32m      3\u001b[0m 'Mumbai', 'Pune'],\n\u001b[0;32m      4\u001b[0m \u001b[1;34m'Sales'\u001b[0m\u001b[1;33m:\u001b[0m \u001b[1;33m[\u001b[0m\u001b[1;36m40000\u001b[0m\u001b[1;33m,\u001b[0m \u001b[1;36m45600\u001b[0m\u001b[1;33m,\u001b[0m \u001b[1;36m56000\u001b[0m\u001b[1;33m,\u001b[0m \u001b[1;36m90000\u001b[0m\u001b[1;33m,\u001b[0m \u001b[1;36m89000\u001b[0m\u001b[1;33m,\u001b[0m \u001b[1;36m87000\u001b[0m\u001b[1;33m,\u001b[0m \u001b[1;36m85000\u001b[0m\u001b[1;33m,\u001b[0m \u001b[1;36m78000\u001b[0m\u001b[1;33m,\u001b[0m \u001b[1;36m89000\u001b[0m\u001b[1;33m,\u001b[0m \u001b[1;36m70000\u001b[0m\u001b[1;33m]\u001b[0m\u001b[1;33m\u001b[0m\u001b[1;33m\u001b[0m\u001b[0m\n\u001b[0;32m      5\u001b[0m })\n",
      "\u001b[1;31mNameError\u001b[0m: name 'pd' is not defined"
     ]
    }
   ],
   "source": [
    "df_store = pd.DataFrame({'Store': ['A', 'B', 'A', 'C', 'D', 'A', 'D', 'A', 'C', 'B'],\n",
    "'Location': ['Mumbai', 'Pune', 'Hyderabad', 'Mumbai', 'Pune', 'Delhi', 'Hyderabad', 'Pune',\n",
    "'Mumbai', 'Pune'],\n",
    "'Sales': [40000, 45600, 56000, 90000, 89000, 87000, 85000, 78000, 89000, 70000]\n",
    "})\n",
    "\n",
    "df_store"
   ]
  },
  {
   "cell_type": "code",
   "execution_count": 4,
   "metadata": {},
   "outputs": [
    {
     "name": "stdout",
     "output_type": "stream",
     "text": [
      "Object `df_store.pivot` not found.\n"
     ]
    }
   ],
   "source": [
    "# Write your code here\n",
    "pd.p"
   ]
  }
 ],
 "metadata": {
  "colab": {
   "collapsed_sections": [],
   "name": "Pandas.ipynb",
   "provenance": []
  },
  "kernelspec": {
   "display_name": "Python 3",
   "language": "python",
   "name": "python3"
  },
  "language_info": {
   "codemirror_mode": {
    "name": "ipython",
    "version": 3
   },
   "file_extension": ".py",
   "mimetype": "text/x-python",
   "name": "python",
   "nbconvert_exporter": "python",
   "pygments_lexer": "ipython3",
   "version": "3.8.8"
  }
 },
 "nbformat": 4,
 "nbformat_minor": 1
}

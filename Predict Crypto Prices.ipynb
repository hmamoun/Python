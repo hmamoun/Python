{
 "cells": [
  {
   "cell_type": "markdown",
   "id": "58f98a68",
   "metadata": {},
   "source": [
    "https://www.youtube.com/watch?v=GFSiL6zEZF0\n",
    "continue with this tutorial"
   ]
  },
  {
   "cell_type": "code",
   "execution_count": null,
   "id": "b772505f",
   "metadata": {},
   "outputs": [],
   "source": [
    "!pip install notebook"
   ]
  },
  {
   "cell_type": "code",
   "execution_count": null,
   "id": "7be4f061",
   "metadata": {},
   "outputs": [],
   "source": [
    "!pip uninstall pandas\n",
    "!pip install --upgrade pandas==0.23.0"
   ]
  },
  {
   "cell_type": "code",
   "execution_count": 2,
   "id": "84bc5199",
   "metadata": {},
   "outputs": [],
   "source": [
    "import numpy as np\n",
    "import matplotlib.pyplot as plt\n",
    "import pandas as pd"
   ]
  },
  {
   "cell_type": "code",
   "execution_count": null,
   "id": "0ba46f88",
   "metadata": {},
   "outputs": [],
   "source": []
  }
 ],
 "metadata": {
  "kernelspec": {
   "display_name": "Python 3 (ipykernel)",
   "language": "python",
   "name": "python3"
  },
  "language_info": {
   "codemirror_mode": {
    "name": "ipython",
    "version": 3
   },
   "file_extension": ".py",
   "mimetype": "text/x-python",
   "name": "python",
   "nbconvert_exporter": "python",
   "pygments_lexer": "ipython3",
   "version": "3.8.8"
  }
 },
 "nbformat": 4,
 "nbformat_minor": 5
}

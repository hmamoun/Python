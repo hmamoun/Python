{
 "cells": [
  {
   "cell_type": "code",
   "execution_count": 171,
   "id": "cc98d57f",
   "metadata": {},
   "outputs": [],
   "source": [
    "permissions = [\n",
    "      { \"role\": \"superuser\", \"name\": \"lock user account\", \"active\": True },\n",
    "      { \"role\": \"superuser\", \"name\": \"unlock user account\", \"active\": True },\n",
    "      { \"role\": \"superuser\", \"name\": \"purchase widgets\", \"active\": False },\n",
    "      { \"role\": \"charger\", \"name\": \"view pick up locations\", \"active\": True },\n",
    "      { \"role\": \"rider\", \"name\": \"view my profile\", \"active\": True },\n",
    "      { \"role\": \"rider\", \"name\": \"scooters near me\", \"active\": True },\n",
    "    ]\n",
    "\n",
    "users = [\n",
    "      { \"id\": 1, \"name\": \"Anna Administrator\", \"roles\": [\"superuser\"] },\n",
    "      { \"id\": 2, \"name\": \"Charles N. Charge\", \"roles\": [\"charger\", \"rider\"] },\n",
    "      { \"id\": 7, \"name\": \"Ryder\", \"roles\": [\"rider\"] },\n",
    "      { \"id\": 11, \"name\": \"Unregistered Ulysses\", \"roles\": [] },\n",
    "      { \"id\": 18, \"name\": \"Tessa Tester\", \"roles\": [\"beta tester\"] },\n",
    "    ]\n",
    "\n",
    "\n"
   ]
  },
  {
   "cell_type": "code",
   "execution_count": 197,
   "id": "b3bd3f6e",
   "metadata": {},
   "outputs": [],
   "source": [
    "def list_permissions1(user_id):\n",
    "    ret = list(filter(lambda user: user[\"id\"] == user_id, users))#[0]\n",
    "    #ret = list(filter(lambda per:per[\"role\"] in ret,permissions))\n",
    "    return ret"
   ]
  },
  {
   "cell_type": "code",
   "execution_count": 205,
   "id": "11573074",
   "metadata": {},
   "outputs": [
    {
     "data": {
      "text/plain": [
       "[{'role': 'charger', 'name': 'view pick up locations', 'active': True},\n",
       " {'role': 'rider', 'name': 'view my profile', 'active': True},\n",
       " {'role': 'rider', 'name': 'scooters near me', 'active': True}]"
      ]
     },
     "execution_count": 205,
     "metadata": {},
     "output_type": "execute_result"
    }
   ],
   "source": [
    "c = list_permissions1(2)\n",
    "c = c[0][\"roles\"]\n",
    "list(filter(lambda per:per[\"role\"] in c,permissions))\n",
    "\n",
    "#print(c)\n",
    "\n",
    "#ist(filter(lambda per:per[\"role\"] in ret,permissions))\n"
   ]
  },
  {
   "cell_type": "code",
   "execution_count": 85,
   "id": "19b6a35f",
   "metadata": {},
   "outputs": [],
   "source": [
    "def list_permissions(user_id):\n",
    "    # TODO: fill this out!\n",
    "    for x in users:\n",
    "        if x[\"id\"] == user_id:\n",
    "            for y in x[\"roles\"]:\n",
    "                for z in permissions:\n",
    "                    if z[\"role\"] == y:\n",
    "                        print(z[\"name\"])\n",
    "                \n",
    "            "
   ]
  },
  {
   "cell_type": "code",
   "execution_count": 47,
   "id": "0b1b7f08",
   "metadata": {},
   "outputs": [
    {
     "name": "stdout",
     "output_type": "stream",
     "text": [
      "view my profile\n",
      "scooters near me\n"
     ]
    }
   ],
   "source": [
    "list_permissions(7)\n"
   ]
  },
  {
   "cell_type": "code",
   "execution_count": 96,
   "id": "c2eacf7a",
   "metadata": {},
   "outputs": [
    {
     "name": "stdout",
     "output_type": "stream",
     "text": [
      "[70, 80, 90]\n"
     ]
    }
   ],
   "source": [
    "scores = [70, 60, 80, 90, 50]\n",
    "\n",
    "filtered = filter(lambda score:score >= 70, scores)\n",
    "\n",
    "print(list(filtered))"
   ]
  },
  {
   "cell_type": "code",
   "execution_count": 97,
   "id": "8e809e04",
   "metadata": {},
   "outputs": [
    {
     "name": "stdout",
     "output_type": "stream",
     "text": [
      "[{'id': 7, 'name': 'Ryder', 'roles': ['rider']}]\n"
     ]
    }
   ],
   "source": [
    "scores = [\n",
    "      { \"id\": 1, \"name\": \"Anna Administrator\", \"roles\": [\"superuser\"] },\n",
    "      { \"id\": 2, \"name\": \"Charles N. Charge\", \"roles\": [\"charger\", \"rider\"] },\n",
    "      { \"id\": 7, \"name\": \"Ryder\", \"roles\": [\"rider\"] },\n",
    "      { \"id\": 11, \"name\": \"Unregistered Ulysses\", \"roles\": [] },\n",
    "      { \"id\": 18, \"name\": \"Tessa Tester\", \"roles\": [\"beta tester\"] },\n",
    "    ]\n",
    "\n",
    "\n",
    "print(list(filtered))"
   ]
  }
 ],
 "metadata": {
  "kernelspec": {
   "display_name": "Python 3",
   "language": "python",
   "name": "python3"
  },
  "language_info": {
   "codemirror_mode": {
    "name": "ipython",
    "version": 3
   },
   "file_extension": ".py",
   "mimetype": "text/x-python",
   "name": "python",
   "nbconvert_exporter": "python",
   "pygments_lexer": "ipython3",
   "version": "3.8.8"
  }
 },
 "nbformat": 4,
 "nbformat_minor": 5
}

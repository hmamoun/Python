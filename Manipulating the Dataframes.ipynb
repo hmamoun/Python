{
 "cells": [
  {
   "cell_type": "markdown",
   "metadata": {
    "colab_type": "text",
    "id": "MPtNGrWq1OsW"
   },
   "source": [
    "## Manipulating the Dataframes"
   ]
  },
  {
   "cell_type": "markdown",
   "metadata": {
    "colab_type": "text",
    "id": "OTIx_-rf253t"
   },
   "source": [
    "#### Write a program to select the rows, where the sales are greater than 60000 for Mumbai location"
   ]
  },
  {
   "cell_type": "markdown",
   "metadata": {
    "colab_type": "text",
    "id": "sXl2CdOC1dmS"
   },
   "source": [
    "df_store = pd.DataFrame({'Store': ['A', 'B', 'A', 'C', 'D', 'A', 'D', 'A', 'C', 'B'],\n",
    "\n",
    "'Location': ['Mumbai', 'Pune', 'Hyderabad', 'Mumbai', 'Pune', 'Delhi', 'Hyderabad', 'Pune',\n",
    "'Mumbai', 'Pune'],\n",
    "\n",
    "'Sales': [40000, 45600, 56000, 90000, 89000, 87000, 85000, 78000, 89000, 70000]\n",
    "})"
   ]
  },
  {
   "cell_type": "code",
   "execution_count": 30,
   "metadata": {},
   "outputs": [
    {
     "data": {
      "text/html": [
       "<div>\n",
       "<style scoped>\n",
       "    .dataframe tbody tr th:only-of-type {\n",
       "        vertical-align: middle;\n",
       "    }\n",
       "\n",
       "    .dataframe tbody tr th {\n",
       "        vertical-align: top;\n",
       "    }\n",
       "\n",
       "    .dataframe thead th {\n",
       "        text-align: right;\n",
       "    }\n",
       "</style>\n",
       "<table border=\"1\" class=\"dataframe\">\n",
       "  <thead>\n",
       "    <tr style=\"text-align: right;\">\n",
       "      <th></th>\n",
       "      <th>Store</th>\n",
       "      <th>Location</th>\n",
       "      <th>Sales</th>\n",
       "    </tr>\n",
       "  </thead>\n",
       "  <tbody>\n",
       "    <tr>\n",
       "      <th>3</th>\n",
       "      <td>C</td>\n",
       "      <td>Mumbai</td>\n",
       "      <td>90000</td>\n",
       "    </tr>\n",
       "    <tr>\n",
       "      <th>4</th>\n",
       "      <td>D</td>\n",
       "      <td>Pune</td>\n",
       "      <td>89000</td>\n",
       "    </tr>\n",
       "    <tr>\n",
       "      <th>5</th>\n",
       "      <td>A</td>\n",
       "      <td>Delhi</td>\n",
       "      <td>87000</td>\n",
       "    </tr>\n",
       "    <tr>\n",
       "      <th>6</th>\n",
       "      <td>D</td>\n",
       "      <td>Hyderabad</td>\n",
       "      <td>85000</td>\n",
       "    </tr>\n",
       "    <tr>\n",
       "      <th>7</th>\n",
       "      <td>A</td>\n",
       "      <td>Pune</td>\n",
       "      <td>78000</td>\n",
       "    </tr>\n",
       "    <tr>\n",
       "      <th>8</th>\n",
       "      <td>C</td>\n",
       "      <td>Mumbai</td>\n",
       "      <td>89000</td>\n",
       "    </tr>\n",
       "    <tr>\n",
       "      <th>9</th>\n",
       "      <td>B</td>\n",
       "      <td>Pune</td>\n",
       "      <td>70000</td>\n",
       "    </tr>\n",
       "  </tbody>\n",
       "</table>\n",
       "</div>"
      ],
      "text/plain": [
       "  Store   Location  Sales\n",
       "3     C     Mumbai  90000\n",
       "4     D       Pune  89000\n",
       "5     A      Delhi  87000\n",
       "6     D  Hyderabad  85000\n",
       "7     A       Pune  78000\n",
       "8     C     Mumbai  89000\n",
       "9     B       Pune  70000"
      ]
     },
     "execution_count": 30,
     "metadata": {},
     "output_type": "execute_result"
    }
   ],
   "source": [
    "import pandas as pd\n",
    "df_store = pd.DataFrame({'Store': ['A', 'B', 'A', 'C', 'D', 'A', 'D', 'A', 'C', 'B'],\n",
    "\n",
    "'Location': ['Mumbai', 'Pune', 'Hyderabad', 'Mumbai', 'Pune', 'Delhi', 'Hyderabad', 'Pune', 'Mumbai', 'Pune'],\n",
    "\n",
    "'Sales': [40000, 45600, 56000, 90000, 89000, 87000, 85000, 78000, 89000, 70000] })\n",
    "\n",
    "\n",
    "df_store[(df_store.Sales>60000)]\n",
    "\n",
    "\n",
    "\n"
   ]
  },
  {
   "cell_type": "markdown",
   "metadata": {
    "colab_type": "text",
    "id": "eJ2arP2h4qhb"
   },
   "source": [
    "-------------------"
   ]
  },
  {
   "cell_type": "markdown",
   "metadata": {
    "colab_type": "text",
    "id": "HzzhO6O_3IGm"
   },
   "source": [
    "#### 2. Write a program to replace the ‘Store' column, contains the values 'A', 'B', 'C', and 'D' with 'Store_A', Store_B', 'Store_C' and 'Store_D' respectively"
   ]
  },
  {
   "cell_type": "code",
   "execution_count": 31,
   "metadata": {},
   "outputs": [],
   "source": [
    "df_store[\"NewStore\"] = \"Store_\" + df_store[\"Store\"]\n",
    "df_store.Store = df_store.NewStore"
   ]
  },
  {
   "cell_type": "code",
   "execution_count": 32,
   "metadata": {},
   "outputs": [
    {
     "data": {
      "text/html": [
       "<div>\n",
       "<style scoped>\n",
       "    .dataframe tbody tr th:only-of-type {\n",
       "        vertical-align: middle;\n",
       "    }\n",
       "\n",
       "    .dataframe tbody tr th {\n",
       "        vertical-align: top;\n",
       "    }\n",
       "\n",
       "    .dataframe thead th {\n",
       "        text-align: right;\n",
       "    }\n",
       "</style>\n",
       "<table border=\"1\" class=\"dataframe\">\n",
       "  <thead>\n",
       "    <tr style=\"text-align: right;\">\n",
       "      <th></th>\n",
       "      <th>Store</th>\n",
       "      <th>Location</th>\n",
       "      <th>Sales</th>\n",
       "    </tr>\n",
       "  </thead>\n",
       "  <tbody>\n",
       "    <tr>\n",
       "      <th>0</th>\n",
       "      <td>Store_A</td>\n",
       "      <td>Mumbai</td>\n",
       "      <td>40000</td>\n",
       "    </tr>\n",
       "    <tr>\n",
       "      <th>1</th>\n",
       "      <td>Store_B</td>\n",
       "      <td>Pune</td>\n",
       "      <td>45600</td>\n",
       "    </tr>\n",
       "    <tr>\n",
       "      <th>2</th>\n",
       "      <td>Store_A</td>\n",
       "      <td>Hyderabad</td>\n",
       "      <td>56000</td>\n",
       "    </tr>\n",
       "    <tr>\n",
       "      <th>3</th>\n",
       "      <td>Store_C</td>\n",
       "      <td>Mumbai</td>\n",
       "      <td>90000</td>\n",
       "    </tr>\n",
       "    <tr>\n",
       "      <th>4</th>\n",
       "      <td>Store_D</td>\n",
       "      <td>Pune</td>\n",
       "      <td>89000</td>\n",
       "    </tr>\n",
       "    <tr>\n",
       "      <th>5</th>\n",
       "      <td>Store_A</td>\n",
       "      <td>Delhi</td>\n",
       "      <td>87000</td>\n",
       "    </tr>\n",
       "    <tr>\n",
       "      <th>6</th>\n",
       "      <td>Store_D</td>\n",
       "      <td>Hyderabad</td>\n",
       "      <td>85000</td>\n",
       "    </tr>\n",
       "    <tr>\n",
       "      <th>7</th>\n",
       "      <td>Store_A</td>\n",
       "      <td>Pune</td>\n",
       "      <td>78000</td>\n",
       "    </tr>\n",
       "    <tr>\n",
       "      <th>8</th>\n",
       "      <td>Store_C</td>\n",
       "      <td>Mumbai</td>\n",
       "      <td>89000</td>\n",
       "    </tr>\n",
       "    <tr>\n",
       "      <th>9</th>\n",
       "      <td>Store_B</td>\n",
       "      <td>Pune</td>\n",
       "      <td>70000</td>\n",
       "    </tr>\n",
       "  </tbody>\n",
       "</table>\n",
       "</div>"
      ],
      "text/plain": [
       "     Store   Location  Sales\n",
       "0  Store_A     Mumbai  40000\n",
       "1  Store_B       Pune  45600\n",
       "2  Store_A  Hyderabad  56000\n",
       "3  Store_C     Mumbai  90000\n",
       "4  Store_D       Pune  89000\n",
       "5  Store_A      Delhi  87000\n",
       "6  Store_D  Hyderabad  85000\n",
       "7  Store_A       Pune  78000\n",
       "8  Store_C     Mumbai  89000\n",
       "9  Store_B       Pune  70000"
      ]
     },
     "execution_count": 32,
     "metadata": {},
     "output_type": "execute_result"
    }
   ],
   "source": [
    "df_store = df_store.drop(['NewStore'], axis=1)\n",
    "df_store\n"
   ]
  },
  {
   "cell_type": "code",
   "execution_count": 42,
   "metadata": {},
   "outputs": [
    {
     "name": "stdout",
     "output_type": "stream",
     "text": [
      "0    1\n",
      "1    2\n",
      "2    3\n",
      "3    4\n",
      "dtype: int64 0    5\n",
      "1    6\n",
      "2    7\n",
      "dtype: int64\n",
      "0    1\n",
      "1    2\n",
      "2    3\n",
      "3    4\n",
      "0    5\n",
      "1    6\n",
      "2    7\n",
      "dtype: int64\n",
      "0    1\n",
      "1    2\n",
      "2    3\n",
      "3    4\n",
      "4    5\n",
      "5    6\n",
      "6    7\n",
      "dtype: int64\n"
     ]
    }
   ],
   "source": [
    "series_a = pd.Series([1,2,3,4])\n",
    "series_b = pd.Series([5,6,7])\n",
    "print(series_a , series_b)\n",
    "c = pd.concat([series_a , series_b])\n",
    "print(c)\n",
    "c[2]\n",
    "\n",
    "c = pd.concat([series_a , series_b] , ignore_index = True)\n",
    "print(c)\n",
    "\n"
   ]
  },
  {
   "cell_type": "code",
   "execution_count": 52,
   "metadata": {},
   "outputs": [
    {
     "name": "stdout",
     "output_type": "stream",
     "text": [
      "0    a\n",
      "1    b\n",
      "2    c\n",
      "3    d\n",
      "dtype: object\n"
     ]
    },
    {
     "data": {
      "text/plain": [
       "0    a\n",
       "1    b\n",
       "2    c\n",
       "3    d\n",
       "0    0\n",
       "1    1\n",
       "2    2\n",
       "3    3\n",
       "dtype: object"
      ]
     },
     "execution_count": 52,
     "metadata": {},
     "output_type": "execute_result"
    }
   ],
   "source": [
    "import numpy as np\n",
    "ser1 = pd.Series(list('abcd'))\n",
    "ser2 = pd.Series(np.arange(4))\n",
    "print(ser1)\n",
    "#pd.concat([ser1, ser2], axis=1)\n",
    "pd.concat([ser1, ser2], axis=0)\n",
    "#pd.DataFrame({'col1': ser1, 'col2': ser2})"
   ]
  }
 ],
 "metadata": {
  "colab": {
   "collapsed_sections": [],
   "name": "Pandas.ipynb",
   "provenance": []
  },
  "kernelspec": {
   "display_name": "Python 3",
   "language": "python",
   "name": "python3"
  },
  "language_info": {
   "codemirror_mode": {
    "name": "ipython",
    "version": 3
   },
   "file_extension": ".py",
   "mimetype": "text/x-python",
   "name": "python",
   "nbconvert_exporter": "python",
   "pygments_lexer": "ipython3",
   "version": "3.8.8"
  }
 },
 "nbformat": 4,
 "nbformat_minor": 1
}

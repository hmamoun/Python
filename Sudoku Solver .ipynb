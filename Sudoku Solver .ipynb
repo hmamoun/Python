{
 "cells": [
  {
   "cell_type": "code",
   "execution_count": 1,
   "id": "5d2a387a",
   "metadata": {},
   "outputs": [],
   "source": [
    "def findNextCellToFill(grid, i, j):\n",
    "        for x in range(i,9):\n",
    "                for y in range(j,9):\n",
    "                        if grid[x][y] == 0:\n",
    "                                return x,y\n",
    "        for x in range(0,9):\n",
    "                for y in range(0,9):\n",
    "                        if grid[x][y] == 0:\n",
    "                                return x,y\n",
    "        return -1,-1\n",
    "\n",
    "def isValid(grid, i, j, e):\n",
    "        rowOk = all([e != grid[i][x] for x in range(9)])\n",
    "        if rowOk:\n",
    "                columnOk = all([e != grid[x][j] for x in range(9)])\n",
    "                if columnOk:\n",
    "                        # finding the top left x,y co-ordinates of the section containing the i,j cell\n",
    "                        secTopX, secTopY = 3 *(i//3), 3 *(j//3) #floored quotient should be used here. \n",
    "                        for x in range(secTopX, secTopX+3):\n",
    "                                for y in range(secTopY, secTopY+3):\n",
    "                                        if grid[x][y] == e:\n",
    "                                                return False\n",
    "                        return True\n",
    "        return False\n",
    "\n",
    "def solveSudoku(grid, i=0, j=0):\n",
    "        i,j = findNextCellToFill(grid, i, j)\n",
    "        if i == -1:\n",
    "                return True\n",
    "        for e in range(1,10):\n",
    "                if isValid(grid,i,j,e):\n",
    "                        grid[i][j] = e\n",
    "                        if solveSudoku(grid, i, j):\n",
    "                                return True\n",
    "                        # Undo the current cell for backtracking\n",
    "                        grid[i][j] = 0\n",
    "        return False"
   ]
  },
  {
   "cell_type": "code",
   "execution_count": 4,
   "id": "8c321062",
   "metadata": {},
   "outputs": [
    {
     "data": {
      "text/plain": [
       "[[2, 1, 9, 3, 8, 5, 7, 6, 4],\n",
       " [7, 3, 4, 6, 2, 1, 5, 9, 8],\n",
       " [6, 8, 5, 7, 9, 4, 1, 3, 2],\n",
       " [9, 2, 6, 4, 5, 3, 8, 7, 1],\n",
       " [8, 5, 1, 2, 6, 7, 3, 4, 9],\n",
       " [4, 7, 3, 9, 1, 8, 2, 5, 6],\n",
       " [5, 6, 8, 1, 3, 9, 4, 2, 7],\n",
       " [3, 4, 2, 8, 7, 6, 9, 1, 5],\n",
       " [1, 9, 7, 5, 4, 2, 6, 8, 3]]"
      ]
     },
     "execution_count": 4,
     "metadata": {},
     "output_type": "execute_result"
    }
   ],
   "source": [
    "\n",
    "input = [[0,0,0,0,0,0,0,0,0],\n",
    "         [0,0,0,0,0,1,0,9,8],\n",
    "         [0,0,5,7,0,0,0,3,0],\n",
    "         [0,0,6,0,5,0,8,0,1],\n",
    "         [0,0,0,0,6,0,0,0,0],\n",
    "         [0,7,0,9,0,0,0,0,0],\n",
    "         [0,6,8,0,0,0,4,0,7],\n",
    "         [3,4,0,0,0,0,0,0,0],\n",
    "         [0,9,0,5,0,2,6,0,0]]\n",
    "solveSudoku(input)\n",
    "input"
   ]
  },
  {
   "cell_type": "code",
   "execution_count": 3,
   "id": "9f8652b9",
   "metadata": {},
   "outputs": [
    {
     "data": {
      "text/plain": [
       "[[8, 1, 2, 7, 5, 3, 6, 4, 9],\n",
       " [9, 4, 3, 6, 8, 2, 1, 7, 5],\n",
       " [6, 7, 5, 4, 9, 1, 2, 8, 3],\n",
       " [1, 5, 4, 2, 3, 7, 8, 9, 6],\n",
       " [3, 6, 9, 8, 4, 5, 7, 2, 1],\n",
       " [2, 8, 7, 1, 6, 9, 5, 3, 4],\n",
       " [5, 2, 1, 9, 7, 4, 3, 6, 8],\n",
       " [4, 3, 8, 5, 2, 6, 9, 1, 7],\n",
       " [7, 9, 6, 3, 1, 8, 4, 5, 2]]"
      ]
     },
     "execution_count": 3,
     "metadata": {},
     "output_type": "execute_result"
    }
   ],
   "source": [
    "input = [\n",
    "    [8,0,0,0,0,0,0,0,0],\n",
    "    [0,0,3,6,0,0,0,0,0],\n",
    "    [0,7,0,0,9,0,2,0,0],\n",
    "    [0,5,0,0,0,7,0,0,0],\n",
    "    [0,0,0,0,4,5,7,0,0],\n",
    "    [0,0,0,1,0,0,0,3,0],\n",
    "    [0,0,1,0,0,0,0,6,8],\n",
    "    [0,0,8,5,0,0,0,1,0],\n",
    "    [0,9,0,0,0,0,4,0,0]]\n",
    "solveSudoku(input,1,1)\n",
    "input"
   ]
  },
  {
   "cell_type": "code",
   "execution_count": 14,
   "id": "ebaecd61",
   "metadata": {},
   "outputs": [
    {
     "data": {
      "text/plain": [
       "[[9, 2, 6, 1, 4, 5, 8, 7, 3],\n",
       " [1, 5, 8, 6, 7, 3, 9, 2, 4],\n",
       " [3, 4, 7, 2, 9, 8, 1, 6, 5],\n",
       " [5, 1, 3, 7, 6, 2, 4, 8, 9],\n",
       " [6, 9, 4, 3, 8, 1, 7, 5, 2],\n",
       " [8, 7, 2, 4, 5, 9, 3, 1, 6],\n",
       " [7, 3, 5, 8, 2, 4, 6, 9, 1],\n",
       " [4, 6, 9, 5, 1, 7, 2, 3, 8],\n",
       " [2, 8, 1, 9, 3, 6, 5, 4, 7]]"
      ]
     },
     "execution_count": 14,
     "metadata": {},
     "output_type": "execute_result"
    }
   ],
   "source": [
    "input = [[9,2,6,0,0,0,0,7,3],[1,5,8,0,0,0,0,0,0],[0,0,0,2,0,0,0,0,0],[0,1,0,0,6,0,4,0,0],[6,0,0,3,0,0,0,5,2],[0,0,0,4,0,0,0,0,6],[0,0,5,0,0,0,0,0,0],[4,0,9,0,1,0,0,3,0],[0,8,0,0,0,6,0,0,0],]\n",
    "solveSudoku(input)\n",
    "input"
   ]
  }
 ],
 "metadata": {
  "kernelspec": {
   "display_name": "Python 3 (ipykernel)",
   "language": "python",
   "name": "python3"
  },
  "language_info": {
   "codemirror_mode": {
    "name": "ipython",
    "version": 3
   },
   "file_extension": ".py",
   "mimetype": "text/x-python",
   "name": "python",
   "nbconvert_exporter": "python",
   "pygments_lexer": "ipython3",
   "version": "3.8.8"
  }
 },
 "nbformat": 4,
 "nbformat_minor": 5
}

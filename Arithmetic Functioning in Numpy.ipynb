{
 "cells": [
  {
   "cell_type": "markdown",
   "metadata": {
    "colab_type": "text",
    "id": "1G2DkO4ySulP"
   },
   "source": [
    "#### 1. Replace all odd numbers in array with -2\n"
   ]
  },
  {
   "cell_type": "markdown",
   "metadata": {
    "colab_type": "text",
    "id": "loieIV4rTWsd"
   },
   "source": [
    "Use the array given below\n",
    "\n",
    "arr = np.array([0, 31, 42, 43, 34, 45, 26, 27, 38, 94, 65, 78, 76])"
   ]
  },
  {
   "cell_type": "code",
   "execution_count": 1,
   "metadata": {},
   "outputs": [],
   "source": [
    "import numpy as np"
   ]
  },
  {
   "cell_type": "code",
   "execution_count": 15,
   "metadata": {},
   "outputs": [
    {
     "name": "stdout",
     "output_type": "stream",
     "text": [
      "[ 0 -2 42 -2 34 -2 26 -2 38 94 -2 78 76]\n"
     ]
    }
   ],
   "source": [
    "arr = np.array([0, 31, 42, 43, 34, 45, 26, 27, 38, 94, 65, 78, 76])\n",
    "a=0\n",
    "for x in arr:\n",
    "    if (x%2!=0) :\n",
    "        arr[a] =-2\n",
    "    a+=1\n",
    "\n",
    "print(arr)"
   ]
  },
  {
   "cell_type": "markdown",
   "metadata": {
    "colab_type": "text",
    "id": "K5CH2GxGVNTt"
   },
   "source": [
    "#### 2. Write a program to calculate the sum of each column"
   ]
  },
  {
   "cell_type": "markdown",
   "metadata": {
    "colab_type": "text",
    "id": "ExTHeVQiVWCr"
   },
   "source": [
    "Use the array given below: (or create your own array)\n",
    "\n",
    "A = [[1, 4, 8], [5, 7, 3], [9, 14, 2]]"
   ]
  },
  {
   "cell_type": "code",
   "execution_count": 38,
   "metadata": {},
   "outputs": [
    {
     "name": "stdout",
     "output_type": "stream",
     "text": [
      "Sum of column  1 :  15\n",
      "Sum of column  2 :  25\n",
      "Sum of column  3 :  13\n"
     ]
    }
   ],
   "source": [
    "a = np.array([[1, 4, 8], [5, 7, 3], [9, 14, 2]])\n",
    "for x in range(len(a[0])):\n",
    "    print('Sum of column ' , x+1 ,': ', a[:,x:x+1].sum())"
   ]
  },
  {
   "cell_type": "markdown",
   "metadata": {
    "colab_type": "text",
    "id": "sgyPAZBuVu_P"
   },
   "source": [
    "\t\n",
    "#### 3.  Write a code to get the element-wise remainder of an array after division by 8"
   ]
  },
  {
   "cell_type": "code",
   "execution_count": 33,
   "metadata": {
    "colab": {},
    "colab_type": "code",
    "id": "hirePL8OV4fJ"
   },
   "outputs": [
    {
     "name": "stdout",
     "output_type": "stream",
     "text": [
      "[2 7 2 6 0 3 5 0 4]\n"
     ]
    }
   ],
   "source": [
    "num = [42, 87, 90, 14, 32, 75, 61, 80, 92]\n",
    "num = np.array(num)\n",
    "# convert the list to array\n",
    "x = num%8\n",
    "print (x)"
   ]
  }
 ],
 "metadata": {
  "colab": {
   "collapsed_sections": [],
   "name": "Numpy.ipynb",
   "provenance": []
  },
  "kernelspec": {
   "display_name": "Python 3",
   "language": "python",
   "name": "python3"
  },
  "language_info": {
   "codemirror_mode": {
    "name": "ipython",
    "version": 3
   },
   "file_extension": ".py",
   "mimetype": "text/x-python",
   "name": "python",
   "nbconvert_exporter": "python",
   "pygments_lexer": "ipython3",
   "version": "3.8.8"
  }
 },
 "nbformat": 4,
 "nbformat_minor": 1
}

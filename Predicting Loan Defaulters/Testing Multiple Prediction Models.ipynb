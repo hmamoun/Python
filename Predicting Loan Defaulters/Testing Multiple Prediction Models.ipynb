{
 "cells": [
  {
   "cell_type": "code",
   "execution_count": 4,
   "id": "29bae465",
   "metadata": {},
   "outputs": [],
   "source": [
    "import pandas as pd\n",
    "import numpy as np\n",
    "import numpy as np\n",
    "from sklearn import linear_model\n",
    "import matplotlib.pyplot as plt\n",
    "import seaborn as sns"
   ]
  },
  {
   "cell_type": "code",
   "execution_count": 16,
   "id": "638f0e95",
   "metadata": {},
   "outputs": [],
   "source": [
    "from sklearn.model_selection import cross_val_score\n",
    "from sklearn.model_selection import train_test_split\n",
    "def classify(model,x,y):\n",
    "    x_train,x_test , y_train , y_test = train_test_split(x,y,test_size = 0.25,random_state = 42)\n",
    "    model.fit(x_train , y_train)\n",
    "    print(\"Accuracy is\", model.score(x_test , y_test)*100)\n",
    "    #cross validation \n",
    "    score = cross_val_score(model,x,y,cv=5)\n",
    "    print(\"Cross validation is\", np.mean(score)*100)\n",
    "    "
   ]
  },
  {
   "cell_type": "code",
   "execution_count": 12,
   "id": "058b2802",
   "metadata": {},
   "outputs": [],
   "source": [
    "# Let us import the files\n",
    "df = pd.read_csv('Default.csv')\n",
    "df.head()\n",
    "df = df.drop(columns = ['Unnamed: 0'])\n",
    "df = pd.get_dummies(df, drop_first=True)\n",
    "df.head()\n",
    "X = df.drop(columns = ['default_Yes'])\n",
    "y = df['default_Yes']"
   ]
  },
  {
   "cell_type": "code",
   "execution_count": 17,
   "id": "8c6ee95a",
   "metadata": {},
   "outputs": [
    {
     "name": "stdout",
     "output_type": "stream",
     "text": [
      "Accuracy is 96.72\n",
      "Cross validation is 96.88000000000001\n"
     ]
    }
   ],
   "source": [
    "from sklearn.linear_model import LogisticRegression\n",
    "model = LogisticRegression()\n",
    "classify(model , X , y)"
   ]
  },
  {
   "cell_type": "code",
   "execution_count": 19,
   "id": "9f4290f8",
   "metadata": {},
   "outputs": [
    {
     "name": "stdout",
     "output_type": "stream",
     "text": [
      "Accuracy is 95.96000000000001\n",
      "Cross validation is 95.59\n"
     ]
    }
   ],
   "source": [
    "from sklearn.tree import DecisionTreeClassifier\n",
    "model = DecisionTreeClassifier()\n",
    "classify(model , X , y)"
   ]
  },
  {
   "cell_type": "code",
   "execution_count": 24,
   "id": "e97d0dd3",
   "metadata": {
    "scrolled": true
   },
   "outputs": [
    {
     "name": "stdout",
     "output_type": "stream",
     "text": [
      "Accuracy is 96.88\n",
      "Cross validation is 96.92999999999999\n",
      "Accuracy is 96.6\n",
      "Cross validation is 96.61999999999999\n"
     ]
    }
   ],
   "source": [
    "from sklearn.ensemble import RandomForestClassifier , ExtraTreesClassifier\n",
    "model = RandomForestClassifier()\n",
    "classify(model , X , y)\n",
    "model = ExtraTreesClassifier()\n",
    "classify(model , X , y)"
   ]
  },
  {
   "cell_type": "code",
   "execution_count": null,
   "id": "97bdc83b",
   "metadata": {},
   "outputs": [],
   "source": [
    "from sklearn import linear_model\n"
   ]
  }
 ],
 "metadata": {
  "kernelspec": {
   "display_name": "Python 3",
   "language": "python",
   "name": "python3"
  },
  "language_info": {
   "codemirror_mode": {
    "name": "ipython",
    "version": 3
   },
   "file_extension": ".py",
   "mimetype": "text/x-python",
   "name": "python",
   "nbconvert_exporter": "python",
   "pygments_lexer": "ipython3",
   "version": "3.8.8"
  }
 },
 "nbformat": 4,
 "nbformat_minor": 5
}

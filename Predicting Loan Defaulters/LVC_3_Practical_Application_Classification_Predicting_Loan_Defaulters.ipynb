{
 "cells": [
  {
   "cell_type": "markdown",
   "metadata": {
    "id": "917Lmjp9vpig"
   },
   "source": [
    "# Predicting Default\n",
    "\n",
    "### LVC 3 - Introduction to Supervised Learning: Classification\n",
    "\n",
    "\n",
    "## Problem and Context\n",
    "\n",
    "- It is very critical to be able to identify the loan defaults in financial domain. Given a set of features about a person, the goal is to predict if the person will default or not.\n",
    "\n",
    "- In this notebook we are going to cover the concepts of the LVC 3 and try to create a model that predicts if a particular data point will default or not.\n",
    "\n",
    "## Data Information\n",
    "\n",
    "The data used here has the below features:\n",
    "\n",
    "- Default - Yes/No, categorical dependent variable suggesting the state of default\n",
    "- Student - Yes/No, categorical independent variable depicting if the applicant is a student or not.\n",
    "- balance - account balance of the applicant\n",
    "- Income - Income of the applicant"
   ]
  },
  {
   "cell_type": "markdown",
   "metadata": {
    "id": "NVengD1hzHWa"
   },
   "source": [
    "### Import the libraries"
   ]
  },
  {
   "cell_type": "code",
   "execution_count": 30,
   "metadata": {
    "id": "MFioBzbnzBnx"
   },
   "outputs": [],
   "source": [
    "import pandas as pd\n",
    "import numpy as np\n",
    "import numpy as np\n",
    "from sklearn import linear_model\n",
    "import matplotlib.pyplot as plt\n",
    "import seaborn as sns"
   ]
  },
  {
   "cell_type": "code",
   "execution_count": 31,
   "metadata": {
    "id": "BPumBit-h_96"
   },
   "outputs": [],
   "source": [
    "import warnings\n",
    "warnings.filterwarnings('ignore') # to get rid of warning messages\n",
    "\n",
    "# Remove scientific notations and display numbers with 2 decimal points instead\n",
    "pd.options.display.float_format = '{:,.2f}'.format        \n",
    "\n",
    "# Update default background style of plots\n",
    "sns.set_style(style='darkgrid')"
   ]
  },
  {
   "cell_type": "code",
   "execution_count": 32,
   "metadata": {
    "id": "-_STK5Iawokh"
   },
   "outputs": [],
   "source": [
    "# Let us import the files\n",
    "df = pd.read_csv('Default.csv')"
   ]
  },
  {
   "cell_type": "code",
   "execution_count": 33,
   "metadata": {
    "colab": {
     "base_uri": "https://localhost:8080/",
     "height": 197
    },
    "id": "Tb8Adr860las",
    "outputId": "70da96fc-862c-48cc-f66f-5ce79f2045cf"
   },
   "outputs": [
    {
     "data": {
      "text/html": [
       "<div>\n",
       "<style scoped>\n",
       "    .dataframe tbody tr th:only-of-type {\n",
       "        vertical-align: middle;\n",
       "    }\n",
       "\n",
       "    .dataframe tbody tr th {\n",
       "        vertical-align: top;\n",
       "    }\n",
       "\n",
       "    .dataframe thead th {\n",
       "        text-align: right;\n",
       "    }\n",
       "</style>\n",
       "<table border=\"1\" class=\"dataframe\">\n",
       "  <thead>\n",
       "    <tr style=\"text-align: right;\">\n",
       "      <th></th>\n",
       "      <th>Unnamed: 0</th>\n",
       "      <th>default</th>\n",
       "      <th>student</th>\n",
       "      <th>balance</th>\n",
       "      <th>income</th>\n",
       "    </tr>\n",
       "  </thead>\n",
       "  <tbody>\n",
       "    <tr>\n",
       "      <th>0</th>\n",
       "      <td>1</td>\n",
       "      <td>No</td>\n",
       "      <td>No</td>\n",
       "      <td>729.53</td>\n",
       "      <td>44,361.63</td>\n",
       "    </tr>\n",
       "    <tr>\n",
       "      <th>1</th>\n",
       "      <td>2</td>\n",
       "      <td>No</td>\n",
       "      <td>Yes</td>\n",
       "      <td>817.18</td>\n",
       "      <td>12,106.13</td>\n",
       "    </tr>\n",
       "    <tr>\n",
       "      <th>2</th>\n",
       "      <td>3</td>\n",
       "      <td>No</td>\n",
       "      <td>No</td>\n",
       "      <td>1,073.55</td>\n",
       "      <td>31,767.14</td>\n",
       "    </tr>\n",
       "    <tr>\n",
       "      <th>3</th>\n",
       "      <td>4</td>\n",
       "      <td>No</td>\n",
       "      <td>No</td>\n",
       "      <td>529.25</td>\n",
       "      <td>35,704.49</td>\n",
       "    </tr>\n",
       "    <tr>\n",
       "      <th>4</th>\n",
       "      <td>5</td>\n",
       "      <td>No</td>\n",
       "      <td>No</td>\n",
       "      <td>785.66</td>\n",
       "      <td>38,463.50</td>\n",
       "    </tr>\n",
       "  </tbody>\n",
       "</table>\n",
       "</div>"
      ],
      "text/plain": [
       "   Unnamed: 0 default student  balance    income\n",
       "0           1      No      No   729.53 44,361.63\n",
       "1           2      No     Yes   817.18 12,106.13\n",
       "2           3      No      No 1,073.55 31,767.14\n",
       "3           4      No      No   529.25 35,704.49\n",
       "4           5      No      No   785.66 38,463.50"
      ]
     },
     "execution_count": 33,
     "metadata": {},
     "output_type": "execute_result"
    }
   ],
   "source": [
    "df.head()"
   ]
  },
  {
   "cell_type": "code",
   "execution_count": 34,
   "metadata": {
    "colab": {
     "base_uri": "https://localhost:8080/",
     "height": 197
    },
    "id": "4tc-fYiNz8rz",
    "outputId": "abdd5d59-419e-4e58-bb16-5f77550aeb98"
   },
   "outputs": [
    {
     "data": {
      "text/html": [
       "<div>\n",
       "<style scoped>\n",
       "    .dataframe tbody tr th:only-of-type {\n",
       "        vertical-align: middle;\n",
       "    }\n",
       "\n",
       "    .dataframe tbody tr th {\n",
       "        vertical-align: top;\n",
       "    }\n",
       "\n",
       "    .dataframe thead th {\n",
       "        text-align: right;\n",
       "    }\n",
       "</style>\n",
       "<table border=\"1\" class=\"dataframe\">\n",
       "  <thead>\n",
       "    <tr style=\"text-align: right;\">\n",
       "      <th></th>\n",
       "      <th>default</th>\n",
       "      <th>student</th>\n",
       "      <th>balance</th>\n",
       "      <th>income</th>\n",
       "    </tr>\n",
       "  </thead>\n",
       "  <tbody>\n",
       "    <tr>\n",
       "      <th>0</th>\n",
       "      <td>No</td>\n",
       "      <td>No</td>\n",
       "      <td>729.53</td>\n",
       "      <td>44,361.63</td>\n",
       "    </tr>\n",
       "    <tr>\n",
       "      <th>1</th>\n",
       "      <td>No</td>\n",
       "      <td>Yes</td>\n",
       "      <td>817.18</td>\n",
       "      <td>12,106.13</td>\n",
       "    </tr>\n",
       "    <tr>\n",
       "      <th>2</th>\n",
       "      <td>No</td>\n",
       "      <td>No</td>\n",
       "      <td>1,073.55</td>\n",
       "      <td>31,767.14</td>\n",
       "    </tr>\n",
       "    <tr>\n",
       "      <th>3</th>\n",
       "      <td>No</td>\n",
       "      <td>No</td>\n",
       "      <td>529.25</td>\n",
       "      <td>35,704.49</td>\n",
       "    </tr>\n",
       "    <tr>\n",
       "      <th>4</th>\n",
       "      <td>No</td>\n",
       "      <td>No</td>\n",
       "      <td>785.66</td>\n",
       "      <td>38,463.50</td>\n",
       "    </tr>\n",
       "  </tbody>\n",
       "</table>\n",
       "</div>"
      ],
      "text/plain": [
       "  default student  balance    income\n",
       "0      No      No   729.53 44,361.63\n",
       "1      No     Yes   817.18 12,106.13\n",
       "2      No      No 1,073.55 31,767.14\n",
       "3      No      No   529.25 35,704.49\n",
       "4      No      No   785.66 38,463.50"
      ]
     },
     "execution_count": 34,
     "metadata": {},
     "output_type": "execute_result"
    }
   ],
   "source": [
    "#Dropping the column Unnamed:0 as it is just the index\n",
    "df.drop(columns = ['Unnamed: 0'], inplace=True)\n",
    "df.head()"
   ]
  },
  {
   "cell_type": "code",
   "execution_count": 35,
   "metadata": {
    "id": "oxuMgWuU0WNP"
   },
   "outputs": [],
   "source": [
    "# Let us define a dictionary to replace the Yes/No into numerical values\n",
    "\n",
    "encoding_dict = {'Yes': 1, 'No': 0}"
   ]
  },
  {
   "cell_type": "code",
   "execution_count": 36,
   "metadata": {
    "id": "3Oe3BV9w2tF2"
   },
   "outputs": [],
   "source": [
    "# encoding the features\n",
    "df['default'] = df['default'].map(encoding_dict)\n",
    "df['student'] = df['student'].map(encoding_dict)"
   ]
  },
  {
   "cell_type": "code",
   "execution_count": 37,
   "metadata": {
    "colab": {
     "base_uri": "https://localhost:8080/",
     "height": 137
    },
    "id": "KpRYS1rt3F85",
    "outputId": "7e652112-b19b-48df-841f-db28d151c847"
   },
   "outputs": [
    {
     "data": {
      "text/html": [
       "<div>\n",
       "<style scoped>\n",
       "    .dataframe tbody tr th:only-of-type {\n",
       "        vertical-align: middle;\n",
       "    }\n",
       "\n",
       "    .dataframe tbody tr th {\n",
       "        vertical-align: top;\n",
       "    }\n",
       "\n",
       "    .dataframe thead th {\n",
       "        text-align: right;\n",
       "    }\n",
       "</style>\n",
       "<table border=\"1\" class=\"dataframe\">\n",
       "  <thead>\n",
       "    <tr style=\"text-align: right;\">\n",
       "      <th></th>\n",
       "      <th>default</th>\n",
       "      <th>student</th>\n",
       "      <th>balance</th>\n",
       "      <th>income</th>\n",
       "    </tr>\n",
       "  </thead>\n",
       "  <tbody>\n",
       "    <tr>\n",
       "      <th>0</th>\n",
       "      <td>0</td>\n",
       "      <td>0</td>\n",
       "      <td>729.53</td>\n",
       "      <td>44,361.63</td>\n",
       "    </tr>\n",
       "    <tr>\n",
       "      <th>1</th>\n",
       "      <td>0</td>\n",
       "      <td>1</td>\n",
       "      <td>817.18</td>\n",
       "      <td>12,106.13</td>\n",
       "    </tr>\n",
       "    <tr>\n",
       "      <th>2</th>\n",
       "      <td>0</td>\n",
       "      <td>0</td>\n",
       "      <td>1,073.55</td>\n",
       "      <td>31,767.14</td>\n",
       "    </tr>\n",
       "    <tr>\n",
       "      <th>3</th>\n",
       "      <td>0</td>\n",
       "      <td>0</td>\n",
       "      <td>529.25</td>\n",
       "      <td>35,704.49</td>\n",
       "    </tr>\n",
       "    <tr>\n",
       "      <th>4</th>\n",
       "      <td>0</td>\n",
       "      <td>0</td>\n",
       "      <td>785.66</td>\n",
       "      <td>38,463.50</td>\n",
       "    </tr>\n",
       "  </tbody>\n",
       "</table>\n",
       "</div>"
      ],
      "text/plain": [
       "   default  student  balance    income\n",
       "0        0        0   729.53 44,361.63\n",
       "1        0        1   817.18 12,106.13\n",
       "2        0        0 1,073.55 31,767.14\n",
       "3        0        0   529.25 35,704.49\n",
       "4        0        0   785.66 38,463.50"
      ]
     },
     "execution_count": 37,
     "metadata": {},
     "output_type": "execute_result"
    }
   ],
   "source": [
    "df.head()"
   ]
  },
  {
   "cell_type": "markdown",
   "metadata": {
    "id": "J8X23NROtAYl"
   },
   "source": [
    "Let's check how many % persons have defaulted on the loan."
   ]
  },
  {
   "cell_type": "code",
   "execution_count": 39,
   "metadata": {
    "colab": {
     "base_uri": "https://localhost:8080/"
    },
    "id": "ikhZxmVL3vom",
    "outputId": "0aba7eaa-8e30-4398-a2f3-f78cc2a42de8"
   },
   "outputs": [
    {
     "data": {
      "image/png": "[encoded data removed]",
      "text/plain": [
       "<Figure size 432x288 with 1 Axes>"
      ]
     },
     "metadata": {},
     "output_type": "display_data"
    }
   ],
   "source": [
    "df.describe()\n",
    "df['default'].value_counts(normalize = True)\n",
    "\n",
    "fig1, ax1 = plt.subplots()\n",
    "ax1.pie(df['default'].value_counts(normalize = True), explode=(0.1,0), labels=['Did not defaulted' , 'Defaulted'], autopct='%1.1f%%',         shadow=True, startangle=90)\n",
    "plt.show()"
   ]
  },
  {
   "cell_type": "code",
   "execution_count": 40,
   "metadata": {
    "colab": {
     "base_uri": "https://localhost:8080/"
    },
    "id": "yKngLrSj4QEe",
    "outputId": "ce2391fc-a0f7-4816-e640-fd02d2e11ce1"
   },
   "outputs": [
    {
     "name": "stdout",
     "output_type": "stream",
     "text": [
      "<class 'pandas.core.frame.DataFrame'>\n",
      "RangeIndex: 10000 entries, 0 to 9999\n",
      "Data columns (total 4 columns):\n",
      " #   Column   Non-Null Count  Dtype  \n",
      "---  ------   --------------  -----  \n",
      " 0   default  10000 non-null  int64  \n",
      " 1   student  10000 non-null  int64  \n",
      " 2   balance  10000 non-null  float64\n",
      " 3   income   10000 non-null  float64\n",
      "dtypes: float64(2), int64(2)\n",
      "memory usage: 312.6 KB\n"
     ]
    }
   ],
   "source": [
    "# Only 3.33% of data points represent the class Default.\n",
    "# Let us also have a look at the info of the same.\n",
    "\n",
    "df.info()\n"
   ]
  },
  {
   "cell_type": "markdown",
   "metadata": {
    "id": "420HoXPl3nyD"
   },
   "source": [
    "- There do not seem to be any missing values. Let us just get straight to the modeling."
   ]
  },
  {
   "cell_type": "markdown",
   "metadata": {
    "id": "NsWHuLDO3qp6"
   },
   "source": [
    "# Linear Discriminant Analysis"
   ]
  },
  {
   "cell_type": "code",
   "execution_count": 41,
   "metadata": {
    "id": "LcM9eIzT3Wdf"
   },
   "outputs": [],
   "source": [
    "# use sklearn LDA\n",
    "from sklearn.discriminant_analysis import LinearDiscriminantAnalysis\n",
    "from sklearn.discriminant_analysis import QuadraticDiscriminantAnalysis\n"
   ]
  },
  {
   "cell_type": "code",
   "execution_count": 47,
   "metadata": {
    "colab": {
     "base_uri": "https://localhost:8080/"
    },
    "id": "A_5IUa8j3jWw",
    "outputId": "7abd81e5-ad32-4c7c-c6b9-61a96c2b0219"
   },
   "outputs": [
    {
     "name": "stdout",
     "output_type": "stream",
     "text": [
      "LDA error rate while using only balance as a feature is 2.81% \n",
      "QDA error rate while using only balance as a feature is 2.74%\n"
     ]
    }
   ],
   "source": [
    "# Using only one feature - balance\n",
    "\n",
    "balance = df.balance.values.reshape(len(df['balance']), 1)\n",
    "default = df.default.values.reshape(len(df['default']), 1)\n",
    "student = df.student.values.reshape(len(df['student']), 1)\n",
    "income = df.income.values.reshape(len(df['income']), 1)\n",
    "features = ['balance', 'student', 'income']\n",
    "\n",
    "# Fitting a LDA model\n",
    "\n",
    "lda = LinearDiscriminantAnalysis()\n",
    "lda.fit(balance, df['default'])\n",
    "lda_error_rate = (1 - lda.score(balance, default))*100\n",
    "\n",
    "# Fitting a QDA model\n",
    "\n",
    "qda = QuadraticDiscriminantAnalysis()\n",
    "qda.fit(balance, df['default'])\n",
    "qda_error_rate = (1 - qda.score(balance, default))*100\n",
    "\n",
    "\n",
    "print(\"LDA error rate while using only balance as a feature is {}% \".format(np.round(lda_error_rate,2)))\n",
    "print(\"QDA error rate while using only balance as a feature is {}%\".format(np.round(qda_error_rate,2)))\n"
   ]
  },
  {
   "cell_type": "code",
   "execution_count": 13,
   "metadata": {
    "id": "svf92ES1tAYo",
    "outputId": "4248432a-f0a4-481a-b67b-0bf657461608"
   },
   "outputs": [
    {
     "name": "stdout",
     "output_type": "stream",
     "text": [
      "LDA error rate using all the features is 2.76% \n",
      "QDA error rate using all the features is 2.7%\n"
     ]
    }
   ],
   "source": [
    "# Let us now use all the features\n",
    "lda.fit(df[features], df['default'])\n",
    "qda.fit(df[features], df['default'])\n",
    "\n",
    "new_lda_error_rate = (1 - lda.score(df[features], df['default']))*100\n",
    "new_qda_error_rate = (1 - qda.score(df[features], df['default']))*100\n",
    "\n",
    "print(\"LDA error rate using all the features is {}% \".format(np.round(new_lda_error_rate,2)))\n",
    "print(\"QDA error rate using all the features is {}%\".format(np.round(new_qda_error_rate,2)))"
   ]
  },
  {
   "cell_type": "markdown",
   "metadata": {
    "id": "9-2PJYLQtAYo"
   },
   "source": [
    "**Observations:** We can see that by using all the features to predict default, the error rate has reduced."
   ]
  },
  {
   "cell_type": "markdown",
   "metadata": {
    "id": "kmznB6eDpW28"
   },
   "source": [
    "## Logistic Regression"
   ]
  },
  {
   "cell_type": "code",
   "execution_count": 14,
   "metadata": {
    "id": "yBsUkfvLjb-0"
   },
   "outputs": [],
   "source": [
    "from sklearn.linear_model import LogisticRegression"
   ]
  },
  {
   "cell_type": "code",
   "execution_count": 15,
   "metadata": {
    "colab": {
     "base_uri": "https://localhost:8080/"
    },
    "id": "S-02fodUpsL8",
    "outputId": "02d71f55-590a-44df-c7b5-86d5695274b5"
   },
   "outputs": [
    {
     "name": "stdout",
     "output_type": "stream",
     "text": [
      "Logistic Regression error rate using balance feature is 2.75% \n"
     ]
    }
   ],
   "source": [
    "lr = LogisticRegression(penalty='none', max_iter=100)\n",
    "lr.fit(balance, df['default'])\n",
    "lr_error_rate = (1 - lr.score(balance, df['default']))*100\n",
    "\n",
    "\n",
    "print(\"Logistic Regression error rate using balance feature is {}% \".format(np.round(lr_error_rate,2)))"
   ]
  },
  {
   "cell_type": "code",
   "execution_count": 16,
   "metadata": {
    "colab": {
     "base_uri": "https://localhost:8080/"
    },
    "id": "VhrT2dL92k3F",
    "outputId": "b51f22d2-bde1-4d81-f8fd-ba24fd9a5471"
   },
   "outputs": [
    {
     "data": {
      "text/plain": [
       "<bound method BaseEstimator.get_params of LogisticRegression(penalty='none')>"
      ]
     },
     "execution_count": 16,
     "metadata": {},
     "output_type": "execute_result"
    }
   ],
   "source": [
    "lr.get_params"
   ]
  },
  {
   "cell_type": "code",
   "execution_count": 17,
   "metadata": {
    "colab": {
     "base_uri": "https://localhost:8080/"
    },
    "id": "M-s3pCM5qHjI",
    "outputId": "495cf32c-b193-40a7-e011-3aa99e127ec3"
   },
   "outputs": [
    {
     "name": "stdout",
     "output_type": "stream",
     "text": [
      "Logistic Regression error rate using all the features is 3.28% \n",
      "Logistic Regression error rate using absolute value (Lasso) regularization is 2.66% \n"
     ]
    }
   ],
   "source": [
    "lrm = LogisticRegression(penalty='none')\n",
    "lrm.fit(df[features], df['default'])\n",
    "lr_error_rate = (1 - lrm.score(df[features], df['default']))*100\n",
    "\n",
    "lrm_r = LogisticRegression(penalty='l1', solver = 'liblinear')\n",
    "lrm_r.fit(df[features], df['default'])\n",
    "lrm_r_error_rate = (1 - lrm_r.score(df[features], df['default']))*100\n",
    "\n",
    "print(\"Logistic Regression error rate using all the features is {}% \".format(np.round(lr_error_rate,2)))\n",
    "print(\"Logistic Regression error rate using absolute value (Lasso) regularization is {}% \".format(np.round(lrm_r_error_rate,2)))"
   ]
  },
  {
   "cell_type": "markdown",
   "metadata": {
    "id": "-k_pZOt02uwz"
   },
   "source": [
    "**Observations-**\n",
    "- We calculated the error rates for LDA, QDA and Logistic Regression\n",
    "- The hyperparameter - 'multi_class' takes care of the multiclass classification.\n",
    "- To evaluate the model and to check how well it performs on unseen data, always take a validation set out and check the performance of the model on the same.\n",
    "- Let us now move to KNN, where we demonstrate the validation set performance check"
   ]
  },
  {
   "cell_type": "markdown",
   "metadata": {
    "id": "Qjz9j5c_5NHg"
   },
   "source": [
    "## K-Nearest Neighbors (KNN)"
   ]
  },
  {
   "cell_type": "code",
   "execution_count": 18,
   "metadata": {
    "id": "kqWdEg5Lq9Lo"
   },
   "outputs": [],
   "source": [
    "from sklearn.neighbors import KNeighborsClassifier\n",
    "from sklearn.model_selection import train_test_split\n",
    "# let us now scale the features\n",
    "\n",
    "from sklearn.preprocessing import StandardScaler\n",
    "ss = StandardScaler()"
   ]
  },
  {
   "cell_type": "markdown",
   "metadata": {},
   "source": [
    "**NOTE**: The following code might take few minutes to run depending on the system's configuration"
   ]
  },
  {
   "cell_type": "code",
   "execution_count": 19,
   "metadata": {
    "colab": {
     "base_uri": "https://localhost:8080/"
    },
    "id": "Uw1Sbdp87raA",
    "outputId": "f31b8459-e461-4726-a1a1-05402f73d1a6"
   },
   "outputs": [
    {
     "name": "stdout",
     "output_type": "stream",
     "text": [
      "1\n",
      "[0.0, 0.04285500000000002]\n",
      "2\n",
      "[0.021759999999999998, 0.033745000000000004]\n",
      "3\n",
      "[0.022382500000000003, 0.03299500000000002]\n",
      "4\n",
      "[0.024956249999999992, 0.030245]\n",
      "5\n",
      "[0.024806250000000002, 0.030845000000000008]\n",
      "6\n",
      "[0.025468750000000005, 0.029034999999999988]\n",
      "7\n",
      "[0.024880000000000003, 0.029120000000000007]\n",
      "8\n",
      "[0.025415, 0.02863999999999999]\n",
      "9\n",
      "[0.025419999999999995, 0.029339999999999984]\n",
      "10\n",
      "[0.02599875, 0.027944999999999998]\n",
      "11\n",
      "[0.02570750000000001, 0.028404999999999986]\n",
      "12\n",
      "[0.026216250000000007, 0.028444999999999995]\n",
      "13\n",
      "[0.026117500000000002, 0.027415]\n",
      "14\n",
      "[0.02645125000000001, 0.02814499999999999]\n",
      "15\n",
      "[0.02619125000000002, 0.02806999999999999]\n"
     ]
    },
    {
     "data": {
      "text/plain": [
       "{1: [0.0, 0.04285500000000002],\n",
       " 2: [0.021759999999999998, 0.033745000000000004],\n",
       " 3: [0.022382500000000003, 0.03299500000000002],\n",
       " 4: [0.024956249999999992, 0.030245],\n",
       " 5: [0.024806250000000002, 0.030845000000000008],\n",
       " 6: [0.025468750000000005, 0.029034999999999988],\n",
       " 7: [0.024880000000000003, 0.029120000000000007],\n",
       " 8: [0.025415, 0.02863999999999999],\n",
       " 9: [0.025419999999999995, 0.029339999999999984],\n",
       " 10: [0.02599875, 0.027944999999999998],\n",
       " 11: [0.02570750000000001, 0.028404999999999986],\n",
       " 12: [0.026216250000000007, 0.028444999999999995],\n",
       " 13: [0.026117500000000002, 0.027415],\n",
       " 14: [0.02645125000000001, 0.02814499999999999],\n",
       " 15: [0.02619125000000002, 0.02806999999999999]}"
      ]
     },
     "execution_count": 19,
     "metadata": {},
     "output_type": "execute_result"
    }
   ],
   "source": [
    "# We select the best value of k for which the error rate is the least in the validation data\n",
    "# Let us loop over a few values of the k to determine the best k \n",
    "\n",
    "train_error = []\n",
    "test_error = []\n",
    "knn_many_split = {}\n",
    "\n",
    "error_df_knn = pd.DataFrame()\n",
    "\n",
    "\n",
    "for k in range(1,16):\n",
    "  train_error = []\n",
    "  test_error = []\n",
    "  lista = []\n",
    "  knn = KNeighborsClassifier(n_neighbors=k)\n",
    "  print(k)\n",
    "  for i in range(100):\n",
    "    x_train, x_test, y_train, y_test = train_test_split(df[features], df['default'], test_size = 0.20)\n",
    "    #let us scale the data. Notice the scaling done here.\n",
    "    x_train = ss.fit_transform(x_train)\n",
    "    x_test = ss.transform(x_test)\n",
    "    knn.fit(x_train, y_train)\n",
    "    train_error.append(1 - knn.score(x_train, y_train)) \n",
    "    test_error.append(1 - knn.score(x_test, y_test))\n",
    "  lista.append(sum(train_error)/len(train_error))\n",
    "  lista.append(sum(test_error)/len(test_error))\n",
    "  knn_many_split[k] = lista\n",
    "  print(knn_many_split[k])\n",
    "\n",
    "\n",
    "knn_many_split"
   ]
  },
  {
   "cell_type": "code",
   "execution_count": 20,
   "metadata": {
    "id": "dO7vrLHZNdjJ"
   },
   "outputs": [],
   "source": [
    "# Extracting k, the train and the test error in a list for easy plotting\n",
    "\n",
    "kl = []\n",
    "vl = []\n",
    "v2 = []\n",
    "for k, v in knn_many_split.items():\n",
    "    kl.append(k)\n",
    "    vl.append(knn_many_split[k][1])\n",
    "    v2.append(knn_many_split[k][0])"
   ]
  },
  {
   "cell_type": "code",
   "execution_count": 21,
   "metadata": {
    "colab": {
     "base_uri": "https://localhost:8080/",
     "height": 282
    },
    "id": "kSBseeJ99yDg",
    "outputId": "6ac95690-770b-4390-ddaf-ee299a6893ca"
   },
   "outputs": [
    {
     "data": {
      "image/png": "[encoded data removed]",
      "text/plain": [
       "<Figure size 576x576 with 1 Axes>"
      ]
     },
     "metadata": {},
     "output_type": "display_data"
    }
   ],
   "source": [
    "# Plotting k vs train and test error\n",
    "plt.figure(figsize=(8,8))\n",
    "plt.xlabel(\"number of neighbors (k)\")\n",
    "plt.ylabel(\"Error\")\n",
    "plt.plot(kl,vl, label = 'Test Error')\n",
    "plt.plot(kl, v2, label = 'Train Error')\n",
    "plt.legend()\n",
    "plt.show()"
   ]
  },
  {
   "cell_type": "markdown",
   "metadata": {
    "id": "LLGPgfyEtAYt"
   },
   "source": [
    "**Observations**: From the above graph, we can say k=15 gives us the generalized train & test error."
   ]
  }
 ],
 "metadata": {
  "colab": {
   "collapsed_sections": [],
   "name": "LVC 3 Practical Application - Classification - Predicting Loan Defaulters.ipynb",
   "provenance": []
  },
  "kernelspec": {
   "display_name": "Python 3",
   "language": "python",
   "name": "python3"
  },
  "language_info": {
   "codemirror_mode": {
    "name": "ipython",
    "version": 3
   },
   "file_extension": ".py",
   "mimetype": "text/x-python",
   "name": "python",
   "nbconvert_exporter": "python",
   "pygments_lexer": "ipython3",
   "version": "3.8.8"
  }
 },
 "nbformat": 4,
 "nbformat_minor": 1
}

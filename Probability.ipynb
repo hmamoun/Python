{
 "cells": [
  {
   "cell_type": "code",
   "execution_count": 851,
   "id": "150b58a9",
   "metadata": {},
   "outputs": [],
   "source": [
    "import copy\n",
    "import random\n",
    "# Consider using the modules imported above.\n",
    "\n",
    "class Hat:\n",
    "  def __init__(self , **balls):\n",
    "    self.contents = list()\n",
    "    self.removedBalls = list()\n",
    "    for a in balls:\n",
    "      for x in range(balls[a]):\n",
    "        self.contents.append(a)\n",
    "    \n",
    "  def __str__(self):\n",
    "    return str(self.contents)\n",
    "  \n",
    "  def draw(self,noToRemove):\n",
    "    for x in range(noToRemove):\n",
    "      y=int(random.random()*(len(self.contents)))\n",
    "      self.removedBalls.append(self.contents[y])\n",
    "      self.contents.remove(self.contents[y])\n",
    "\n",
    "    "
   ]
  },
  {
   "cell_type": "code",
   "execution_count": 869,
   "id": "6a0e956a",
   "metadata": {},
   "outputs": [],
   "source": [
    "def Convert(lst):\n",
    "    ret = dict()\n",
    "    for x in lst:\n",
    "        if x in ret:\n",
    "            ret[x]+=1\n",
    "        else:\n",
    "            ret[x] = 1\n",
    "    return ret\n",
    "\n",
    "\n",
    "def experiment(hat, expected_balls, num_balls_drawn, num_experiments):\n",
    "    N = 0    \n",
    "    for x in range (num_experiments):\n",
    "        hat1 = copy.deepcopy(hat)\n",
    "        hat1.draw(num_balls_drawn)\n",
    "        b = 0\n",
    "        for y in expected_balls:\n",
    "#            if y not in hat1.removedBalls:\n",
    "#                b = 0\n",
    "#            if y in hat1.removedBalls and expected_balls[y] > Convert(hat1.removedBalls)[y]:\n",
    "#                b = 0\n",
    "        if y in hat1.removedBalls and expected_balls[y] <= Convert(hat1.removedBalls)[y]:\n",
    "            N+=1\n",
    "    return N/num_experiments\n",
    "            \n",
    "   "
   ]
  },
  {
   "cell_type": "code",
   "execution_count": 948,
   "id": "b7252d84",
   "metadata": {},
   "outputs": [],
   "source": [
    "random.seed(95)\n",
    "#hat = Hat(blue=3,red=2,green=6)\n",
    "hat = Hat(blue=3,red=2,green=6)\n",
    "probability = experiment(hat=hat, expected_balls={\"blue\":2,\"green\":1}, num_balls_drawn=4, num_experiments=1000)\n",
    "actual = probability\n",
    "expected = 0.272\n",
    "#print (expected, probability)"
   ]
  },
  {
   "cell_type": "code",
   "execution_count": 966,
   "id": "82207d7c",
   "metadata": {},
   "outputs": [],
   "source": [
    "def experiment(hat, expected_balls, num_balls_drawn, num_experiments):\n",
    "    N = 0    \n",
    "    for x in range (num_experiments):\n",
    "        hat1 = copy.deepcopy(hat)\n",
    "        hat1.draw(num_balls_drawn)\n",
    "        print( Convert(hat1.removedBalls) , expected_balls)  \n",
    "        if Convert(hat1.removedBalls) == expected_balls :\n",
    "            print( Convert(hat1.removedBalls) , expected_balls)  \n",
    "            N+=1\n",
    "        #for y in expected_balls:\n",
    "        #  if y in hat1.removedBalls and expected_balls[y] == #Convert(hat1.removedBalls)[y]:\n",
    "        #    N+=1\n",
    "          \n",
    "    return N/num_experiments"
   ]
  },
  {
   "cell_type": "code",
   "execution_count": 970,
   "id": "e39117d4",
   "metadata": {},
   "outputs": [
    {
     "name": "stdout",
     "output_type": "stream",
     "text": [
      "0.0 0.272\n"
     ]
    }
   ],
   "source": [
    "random.seed(95)\n",
    "hat = Hat(blue=3,red=2,green=6)\n",
    "probability =experiment(hat=hat, expected_balls={\"blue\":2,\"green\":1}, num_balls_drawn=4, num_experiments=1000)\n",
    "actual = probability\n",
    "expected = 0.272\n",
    "print (actual , expected)"
   ]
  },
  {
   "cell_type": "code",
   "execution_count": 968,
   "id": "b7007968",
   "metadata": {},
   "outputs": [
    {
     "name": "stdout",
     "output_type": "stream",
     "text": [
      "0\n",
      "1\n",
      "2\n",
      "3\n"
     ]
    }
   ],
   "source": [
    "for x in range(4):\n",
    "    print(x)"
   ]
  }
 ],
 "metadata": {
  "kernelspec": {
   "display_name": "Python 3",
   "language": "python",
   "name": "python3"
  },
  "language_info": {
   "codemirror_mode": {
    "name": "ipython",
    "version": 3
   },
   "file_extension": ".py",
   "mimetype": "text/x-python",
   "name": "python",
   "nbconvert_exporter": "python",
   "pygments_lexer": "ipython3",
   "version": "3.8.8"
  }
 },
 "nbformat": 4,
 "nbformat_minor": 5
}

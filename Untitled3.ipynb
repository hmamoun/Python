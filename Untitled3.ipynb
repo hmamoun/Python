{
 "cells": [
  {
   "cell_type": "markdown",
   "id": "815e2507",
   "metadata": {},
   "source": [
    "in the following program we will find the solution of an equation of the second degree"
   ]
  },
  {
   "cell_type": "markdown",
   "id": "bb953d7a",
   "metadata": {},
   "source": [
    "example: aX^2+bX+c = 0"
   ]
  },
  {
   "cell_type": "code",
   "execution_count": 44,
   "id": "d1ecd58c",
   "metadata": {},
   "outputs": [
    {
     "name": "stdout",
     "output_type": "stream",
     "text": [
      "Please Enter a = 1\n",
      "Please Enter b = -4\n",
      "Please Enter c = 4\n"
     ]
    }
   ],
   "source": [
    "import math\n",
    "a = float(input(\"Please Enter a = \"))\n",
    "b = float(input(\"Please Enter b = \"))\n",
    "c = float(input(\"Please Enter c = \"))"
   ]
  },
  {
   "cell_type": "code",
   "execution_count": 45,
   "id": "db3c6b3d",
   "metadata": {},
   "outputs": [],
   "source": [
    "delta = b**2 - (4 * a *c)"
   ]
  },
  {
   "cell_type": "code",
   "execution_count": 46,
   "id": "c139da5c",
   "metadata": {},
   "outputs": [
    {
     "name": "stdout",
     "output_type": "stream",
     "text": [
      "One solution: x =  2.0\n"
     ]
    }
   ],
   "source": [
    "if(delta<0) :\n",
    "    print(\"No Solution\")\n",
    "elif(delta == 0):\n",
    "    print(\"One solution: x = \" , -b/(2*a))\n",
    "else :\n",
    "    print(\"two solutions\")\n",
    "    print(\"x1 = \" , (-b+math.sqrt(delta))/(2*a))\n",
    "    print (\"x2 = \" , (-b-math.sqrt(delta))/(2*a))\n",
    "      "
   ]
  },
  {
   "cell_type": "code",
   "execution_count": null,
   "id": "488e1c06",
   "metadata": {},
   "outputs": [],
   "source": []
  },
  {
   "cell_type": "code",
   "execution_count": null,
   "id": "d4151e11",
   "metadata": {},
   "outputs": [],
   "source": []
  },
  {
   "cell_type": "code",
   "execution_count": null,
   "id": "0f8f29dc",
   "metadata": {},
   "outputs": [],
   "source": []
  }
 ],
 "metadata": {
  "kernelspec": {
   "display_name": "Python 3",
   "language": "python",
   "name": "python3"
  },
  "language_info": {
   "codemirror_mode": {
    "name": "ipython",
    "version": 3
   },
   "file_extension": ".py",
   "mimetype": "text/x-python",
   "name": "python",
   "nbconvert_exporter": "python",
   "pygments_lexer": "ipython3",
   "version": "3.8.8"
  }
 },
 "nbformat": 4,
 "nbformat_minor": 5
}

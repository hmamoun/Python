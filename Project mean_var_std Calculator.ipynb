{
 "cells": [
  {
   "cell_type": "code",
   "execution_count": 125,
   "id": "477a5c9d",
   "metadata": {},
   "outputs": [
    {
     "name": "stdout",
     "output_type": "stream",
     "text": [
      "{'mean': [[4.666666666666667, 4.333333333333333, 2.6666666666666665], [5.0, 3.0, 3.6666666666666665], 3.888888888888889], 'variance': [[9.555555555555555, 11.555555555555557, 4.222222222222222], [10.666666666666666, 0.0, 14.888888888888891], 9.209876543209875], 'standard deviation': [[3.0912061651652345, 3.39934634239519, 2.0548046676563256], [3.265986323710904, 0.0, 3.8586123009300755], 3.0347778408328137], 'max': [[9, 9, 5], [9, 3, 9], 9], 'min': [[2, 1, 0], [1, 3, 0], 0], 'sum': [[14, 13, 8], [15, 9, 11], 35]}\n",
      "True\n",
      "{'mean': [[4.666666666666667, 4.333333333333333, 2.6666666666666665], [5.0, 3.0, 3.6666666666666665], 3.888888888888889], 'variance': [[9.555555555555555, 11.555555555555557, 4.222222222222222], [10.666666666666666, 0.0, 14.888888888888891], 9.209876543209875], 'standard deviation': [[3.0912061651652345, 3.39934634239519, 2.0548046676563256], [3.265986323710904, 0.0, 3.8586123009300755], 3.0347778408328137], 'max': [[9, 9, 5], [9, 3, 9], 9], 'min': [[2, 1, 0], [1, 3, 0], 0], 'sum': [[14, 13, 8], [15, 9, 11], 35]}\n"
     ]
    }
   ],
   "source": [
    "import numpy as np\n",
    "\n",
    "def calculate(list):\n",
    "    if len(list) != 9: \n",
    "        raise ValueError('List must contain nine numbers ')\n",
    "        return\n",
    "    try:\n",
    "        b = np.reshape(np.array(list) , (3,3))\n",
    "        calculations=dict()\n",
    "        \n",
    "        calculations[\"mean\"] = [np.mean(b,0).tolist(),np.mean(b,1).tolist() , np.mean(b)]\n",
    "        calculations[\"variance\"] = [np.var(b,0).tolist(),np.var(b,1).tolist(), np.var(b)]\n",
    "        calculations[\"standard deviation\"] = [np.std(b,0).tolist(), np.std(b,1).tolist(), np.std(b)]\n",
    "        calculations[\"max\"] = [np.max(b,0).tolist(), np.max(b,1).tolist(), np.max(b)]\n",
    "        calculations[\"min\"] = [np.min(b,0).tolist(), np.min(b,1).tolist(), np.min(b)]\n",
    "        calculations[\"sum\"] = [np.sum(b,0).tolist(), np.sum(b,1).tolist(), np.sum(b)]\n",
    "        \n",
    "        return  calculations\n",
    "        \n",
    "    except ValueError:\n",
    "        raise ValueError('List must contain nine numbers.')\n",
    "        \n",
    "            \n",
    "expected = {'mean': [[4.666666666666667, 4.333333333333333, 2.6666666666666665], [5.0, 3.0, 3.6666666666666665], 3.888888888888889], 'variance': [[9.555555555555555, 11.555555555555557, 4.222222222222222], [10.666666666666666, 0.0, 14.888888888888891], 9.209876543209875], 'standard deviation': [[3.0912061651652345, 3.39934634239519, 2.0548046676563256], [3.265986323710904, 0.0, 3.8586123009300755], 3.0347778408328137], 'max': [[9, 9, 5], [9, 3, 9], 9], 'min': [[2, 1, 0], [1, 3, 0], 0], 'sum': [[14, 13, 8], [15, 9, 11], 35]}\n",
    "x=[2,6,2,8,4,0,1,]\n",
    "x = [9,1,5,3,3,3,2,9,0]\n",
    "print(calculate(x))\n",
    "print(calculate(x)==expected)\n",
    "print(expected)"
   ]
  },
  {
   "cell_type": "code",
   "execution_count": null,
   "id": "b057d4b8",
   "metadata": {},
   "outputs": [],
   "source": []
  }
 ],
 "metadata": {
  "kernelspec": {
   "display_name": "Python 3",
   "language": "python",
   "name": "python3"
  },
  "language_info": {
   "codemirror_mode": {
    "name": "ipython",
    "version": 3
   },
   "file_extension": ".py",
   "mimetype": "text/x-python",
   "name": "python",
   "nbconvert_exporter": "python",
   "pygments_lexer": "ipython3",
   "version": "3.8.8"
  }
 },
 "nbformat": 4,
 "nbformat_minor": 5
}

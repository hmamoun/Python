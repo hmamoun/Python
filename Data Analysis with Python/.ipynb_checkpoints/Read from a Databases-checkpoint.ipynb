{
 "cells": [
  {
   "cell_type": "code",
   "execution_count": null,
   "id": "d7582f1b",
   "metadata": {},
   "outputs": [],
   "source": [
    "import pyodbc \n",
    "conn = pyodbc.connect('Driver={SQL Server};'\n",
    "                      'Server=.;'\n",
    "                      'Database=sis;'\n",
    "                      'Trusted_Connection=yes;')\n",
    "\n",
    "cursor = conn.cursor()\n",
    "cursor.execute('SELECT * FROM ACM.book')\n",
    "dir(cursor)\n",
    "\n",
    "curser.head()"
   ]
  },
  {
   "cell_type": "code",
   "execution_count": 1,
   "id": "72f3eb1f",
   "metadata": {},
   "outputs": [],
   "source": [
    "import numpy as np\n",
    "import pandas as pd\n",
    "import matplotlib.pyplot as plt\n",
    "import sqlite3\n",
    "\n",
    "%matplotlib inline"
   ]
  },
  {
   "cell_type": "code",
   "execution_count": 2,
   "id": "a349eb88",
   "metadata": {},
   "outputs": [],
   "source": [
    "conn = sqlite3.connect('sakila.db')\n",
    "\n",
    "df = pd.read_sql('''\n",
    "    SELECT\n",
    "        rental.rental_id, rental.rental_date, rental.return_date,\n",
    "        customer.last_name AS customer_lastname,\n",
    "        store.store_id,\n",
    "        city.city AS rental_store_city,\n",
    "        film.title AS film_title, film.rental_duration AS film_rental_duration,\n",
    "        film.rental_rate AS film_rental_rate, film.replacement_cost AS film_replacement_cost,\n",
    "        film.rating AS film_rating\n",
    "    FROM rental\n",
    "    INNER JOIN customer ON rental.customer_id == customer.customer_id\n",
    "    INNER JOIN inventory ON rental.inventory_id == inventory.inventory_id\n",
    "    INNER JOIN store ON inventory.store_id == store.store_id\n",
    "    INNER JOIN address ON store.address_id == address.address_id\n",
    "    INNER JOIN city ON address.city_id == city.city_id\n",
    "    INNER JOIN film ON inventory.film_id == film.film_id\n",
    "    ;\n",
    "''', conn, index_col='rental_id', parse_dates=['rental_date', 'return_date'])"
   ]
  },
  {
   "cell_type": "code",
   "execution_count": null,
   "id": "17ed3f62",
   "metadata": {},
   "outputs": [],
   "source": [
    "df.head()"
   ]
  },
  {
   "cell_type": "code",
   "execution_count": null,
   "id": "d064cb7f",
   "metadata": {},
   "outputs": [],
   "source": [
    "x = list()\n",
    "x = df['customer_lastname'].unique().sort()\n",
    "for a in x:\n",
    "    \n",
    "    print (a)"
   ]
  }
 ],
 "metadata": {
  "kernelspec": {
   "display_name": "Python 3",
   "language": "python",
   "name": "python3"
  },
  "language_info": {
   "codemirror_mode": {
    "name": "ipython",
    "version": 3
   },
   "file_extension": ".py",
   "mimetype": "text/x-python",
   "name": "python",
   "nbconvert_exporter": "python",
   "pygments_lexer": "ipython3",
   "version": "3.8.8"
  },
  "widgets": {
   "application/vnd.jupyter.widget-state+json": {
    "state": {},
    "version_major": 2,
    "version_minor": 0
   }
  }
 },
 "nbformat": 4,
 "nbformat_minor": 5
}
